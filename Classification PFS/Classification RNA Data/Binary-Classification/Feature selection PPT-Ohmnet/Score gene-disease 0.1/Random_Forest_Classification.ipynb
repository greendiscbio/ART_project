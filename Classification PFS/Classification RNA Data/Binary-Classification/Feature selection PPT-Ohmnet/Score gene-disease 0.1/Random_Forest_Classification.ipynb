{
 "cells": [
  {
   "cell_type": "markdown",
   "metadata": {},
   "source": [
    "# Classification model using Random Forest"
   ]
  },
  {
   "cell_type": "markdown",
   "metadata": {},
   "source": [
    "### 1. Import libraries"
   ]
  },
  {
   "cell_type": "code",
   "execution_count": 3,
   "metadata": {},
   "outputs": [],
   "source": [
    "import pandas as pd\n",
    "import numpy as np\n",
    "import matplotlib.pyplot as plt\n",
    "from sklearn.model_selection import train_test_split\n",
    "from sklearn.ensemble import RandomForestClassifier\n",
    "from sklearn.model_selection import GridSearchCV\n",
    "from sklearn.decomposition import PCA"
   ]
  },
  {
   "cell_type": "markdown",
   "metadata": {},
   "source": [
    "### 2. Upload RNA data"
   ]
  },
  {
   "cell_type": "code",
   "execution_count": 4,
   "metadata": {},
   "outputs": [
    {
     "data": {
      "text/html": [
       "<div>\n",
       "<style scoped>\n",
       "    .dataframe tbody tr th:only-of-type {\n",
       "        vertical-align: middle;\n",
       "    }\n",
       "\n",
       "    .dataframe tbody tr th {\n",
       "        vertical-align: top;\n",
       "    }\n",
       "\n",
       "    .dataframe thead th {\n",
       "        text-align: right;\n",
       "    }\n",
       "</style>\n",
       "<table border=\"1\" class=\"dataframe\">\n",
       "  <thead>\n",
       "    <tr style=\"text-align: right;\">\n",
       "      <th></th>\n",
       "      <th>Unnamed: 0</th>\n",
       "      <th>AKT1</th>\n",
       "      <th>ANXA1</th>\n",
       "      <th>ANXA2</th>\n",
       "      <th>APAF1</th>\n",
       "      <th>APC</th>\n",
       "      <th>ARID1A</th>\n",
       "      <th>ATM</th>\n",
       "      <th>AXIN2</th>\n",
       "      <th>BAP1</th>\n",
       "      <th>...</th>\n",
       "      <th>SOD2</th>\n",
       "      <th>SRC</th>\n",
       "      <th>STK11</th>\n",
       "      <th>TGM2</th>\n",
       "      <th>TP53</th>\n",
       "      <th>TSC1</th>\n",
       "      <th>TSC2</th>\n",
       "      <th>VEGFA</th>\n",
       "      <th>VHL</th>\n",
       "      <th>Y</th>\n",
       "    </tr>\n",
       "  </thead>\n",
       "  <tbody>\n",
       "    <tr>\n",
       "      <th>0</th>\n",
       "      <td>0</td>\n",
       "      <td>34.434275</td>\n",
       "      <td>33.868001</td>\n",
       "      <td>37.396638</td>\n",
       "      <td>32.668769</td>\n",
       "      <td>32.860903</td>\n",
       "      <td>33.848026</td>\n",
       "      <td>35.942429</td>\n",
       "      <td>31.470999</td>\n",
       "      <td>33.677294</td>\n",
       "      <td>...</td>\n",
       "      <td>38.67433</td>\n",
       "      <td>32.25286</td>\n",
       "      <td>34.96649</td>\n",
       "      <td>38.50142</td>\n",
       "      <td>33.83518</td>\n",
       "      <td>32.93402</td>\n",
       "      <td>34.93520</td>\n",
       "      <td>37.79678</td>\n",
       "      <td>32.30615</td>\n",
       "      <td>1</td>\n",
       "    </tr>\n",
       "    <tr>\n",
       "      <th>1</th>\n",
       "      <td>1</td>\n",
       "      <td>34.152701</td>\n",
       "      <td>35.085434</td>\n",
       "      <td>36.570671</td>\n",
       "      <td>32.337493</td>\n",
       "      <td>33.717568</td>\n",
       "      <td>33.843513</td>\n",
       "      <td>35.988225</td>\n",
       "      <td>29.614297</td>\n",
       "      <td>32.643149</td>\n",
       "      <td>...</td>\n",
       "      <td>38.64559</td>\n",
       "      <td>31.28699</td>\n",
       "      <td>33.69034</td>\n",
       "      <td>34.33752</td>\n",
       "      <td>34.44810</td>\n",
       "      <td>33.16630</td>\n",
       "      <td>35.08304</td>\n",
       "      <td>40.09193</td>\n",
       "      <td>32.19988</td>\n",
       "      <td>1</td>\n",
       "    </tr>\n",
       "    <tr>\n",
       "      <th>2</th>\n",
       "      <td>2</td>\n",
       "      <td>35.449119</td>\n",
       "      <td>34.908372</td>\n",
       "      <td>38.443020</td>\n",
       "      <td>31.818198</td>\n",
       "      <td>34.023099</td>\n",
       "      <td>33.516005</td>\n",
       "      <td>36.193587</td>\n",
       "      <td>30.304642</td>\n",
       "      <td>32.368866</td>\n",
       "      <td>...</td>\n",
       "      <td>40.50559</td>\n",
       "      <td>32.18447</td>\n",
       "      <td>33.52524</td>\n",
       "      <td>35.50178</td>\n",
       "      <td>35.41980</td>\n",
       "      <td>33.63282</td>\n",
       "      <td>34.79244</td>\n",
       "      <td>38.22308</td>\n",
       "      <td>31.49147</td>\n",
       "      <td>1</td>\n",
       "    </tr>\n",
       "    <tr>\n",
       "      <th>3</th>\n",
       "      <td>3</td>\n",
       "      <td>34.220278</td>\n",
       "      <td>36.290124</td>\n",
       "      <td>37.244829</td>\n",
       "      <td>32.601293</td>\n",
       "      <td>33.507711</td>\n",
       "      <td>34.197698</td>\n",
       "      <td>36.578348</td>\n",
       "      <td>29.398240</td>\n",
       "      <td>31.895400</td>\n",
       "      <td>...</td>\n",
       "      <td>38.99231</td>\n",
       "      <td>30.26144</td>\n",
       "      <td>33.20234</td>\n",
       "      <td>35.77236</td>\n",
       "      <td>34.18862</td>\n",
       "      <td>32.88250</td>\n",
       "      <td>35.02014</td>\n",
       "      <td>39.94908</td>\n",
       "      <td>32.11538</td>\n",
       "      <td>0</td>\n",
       "    </tr>\n",
       "    <tr>\n",
       "      <th>4</th>\n",
       "      <td>4</td>\n",
       "      <td>33.973368</td>\n",
       "      <td>36.863272</td>\n",
       "      <td>36.871693</td>\n",
       "      <td>33.593121</td>\n",
       "      <td>34.607163</td>\n",
       "      <td>33.351460</td>\n",
       "      <td>36.807497</td>\n",
       "      <td>29.939456</td>\n",
       "      <td>33.968348</td>\n",
       "      <td>...</td>\n",
       "      <td>38.41437</td>\n",
       "      <td>33.05053</td>\n",
       "      <td>34.14981</td>\n",
       "      <td>33.47112</td>\n",
       "      <td>34.91241</td>\n",
       "      <td>33.44515</td>\n",
       "      <td>35.01310</td>\n",
       "      <td>39.31564</td>\n",
       "      <td>33.33646</td>\n",
       "      <td>1</td>\n",
       "    </tr>\n",
       "  </tbody>\n",
       "</table>\n",
       "<p>5 rows × 76 columns</p>\n",
       "</div>"
      ],
      "text/plain": [
       "   Unnamed: 0       AKT1      ANXA1      ANXA2      APAF1        APC  \\\n",
       "0           0  34.434275  33.868001  37.396638  32.668769  32.860903   \n",
       "1           1  34.152701  35.085434  36.570671  32.337493  33.717568   \n",
       "2           2  35.449119  34.908372  38.443020  31.818198  34.023099   \n",
       "3           3  34.220278  36.290124  37.244829  32.601293  33.507711   \n",
       "4           4  33.973368  36.863272  36.871693  33.593121  34.607163   \n",
       "\n",
       "      ARID1A        ATM      AXIN2       BAP1  ...      SOD2       SRC  \\\n",
       "0  33.848026  35.942429  31.470999  33.677294  ...  38.67433  32.25286   \n",
       "1  33.843513  35.988225  29.614297  32.643149  ...  38.64559  31.28699   \n",
       "2  33.516005  36.193587  30.304642  32.368866  ...  40.50559  32.18447   \n",
       "3  34.197698  36.578348  29.398240  31.895400  ...  38.99231  30.26144   \n",
       "4  33.351460  36.807497  29.939456  33.968348  ...  38.41437  33.05053   \n",
       "\n",
       "      STK11      TGM2      TP53      TSC1      TSC2     VEGFA       VHL  Y  \n",
       "0  34.96649  38.50142  33.83518  32.93402  34.93520  37.79678  32.30615  1  \n",
       "1  33.69034  34.33752  34.44810  33.16630  35.08304  40.09193  32.19988  1  \n",
       "2  33.52524  35.50178  35.41980  33.63282  34.79244  38.22308  31.49147  1  \n",
       "3  33.20234  35.77236  34.18862  32.88250  35.02014  39.94908  32.11538  0  \n",
       "4  34.14981  33.47112  34.91241  33.44515  35.01310  39.31564  33.33646  1  \n",
       "\n",
       "[5 rows x 76 columns]"
      ]
     },
     "execution_count": 4,
     "metadata": {},
     "output_type": "execute_result"
    }
   ],
   "source": [
    "path ='C:/Users/sandr/Documents/ART_project/GNN model/Data/PPT-Ohmnet/mRCC_big_pool/Second big pool/mrcc_protein_matrix_203_genes_74_nodes.csv'\n",
    "data = pd.read_csv(path)\n",
    "data.head(5)"
   ]
  },
  {
   "cell_type": "code",
   "execution_count": 5,
   "metadata": {},
   "outputs": [
    {
     "name": "stdout",
     "output_type": "stream",
     "text": [
      "          AKT1      ANXA1      ANXA2      APAF1        APC     ARID1A  \\\n",
      "0    34.434275  33.868001  37.396638  32.668769  32.860903  33.848026   \n",
      "1    34.152701  35.085434  36.570671  32.337493  33.717568  33.843513   \n",
      "2    35.449119  34.908372  38.443020  31.818198  34.023099  33.516005   \n",
      "3    34.220278  36.290124  37.244829  32.601293  33.507711  34.197698   \n",
      "4    33.973368  36.863272  36.871693  33.593121  34.607163  33.351460   \n",
      "..         ...        ...        ...        ...        ...        ...   \n",
      "176  35.057571  35.985233  37.436964  32.603769  33.811200  34.133940   \n",
      "177  32.553513  37.586062  37.635004  33.619701  32.786808  32.373330   \n",
      "178  34.807825  36.111194  37.953757  33.316811  33.632929  34.118843   \n",
      "179  34.787403  35.120811  35.957212  33.046782  34.048901  33.833796   \n",
      "180  34.983826  34.648929  38.196845  32.170042  33.143095  33.739764   \n",
      "\n",
      "           ATM      AXIN2       BAP1     CARD11  ...    SLC2A1      SOD2  \\\n",
      "0    35.942429  31.470999  33.677294  30.617112  ...  33.38586  38.67433   \n",
      "1    35.988225  29.614297  32.643149  29.714342  ...  33.69538  38.64559   \n",
      "2    36.193587  30.304642  32.368866  29.076142  ...  36.23588  40.50559   \n",
      "3    36.578348  29.398240  31.895400  27.783504  ...  34.41938  38.99231   \n",
      "4    36.807497  29.939456  33.968348  29.105024  ...  34.59911  38.41437   \n",
      "..         ...        ...        ...        ...  ...       ...       ...   \n",
      "176  35.318612  30.153123  33.843872  28.896068  ...  36.50807  35.15898   \n",
      "177  35.771711  25.453485  32.519967  30.116288  ...  33.97705  38.85295   \n",
      "178  36.008091  32.452387  33.115209  31.295849  ...  34.85694  37.96021   \n",
      "179  37.008936  31.636474  32.895151  31.027394  ...  34.24055  37.24924   \n",
      "180  35.937812  29.126405  33.404526  31.920307  ...  35.99620  38.54211   \n",
      "\n",
      "          SRC     STK11      TGM2      TP53      TSC1      TSC2     VEGFA  \\\n",
      "0    32.25286  34.96649  38.50142  33.83518  32.93402  34.93520  37.79678   \n",
      "1    31.28699  33.69034  34.33752  34.44810  33.16630  35.08304  40.09193   \n",
      "2    32.18447  33.52524  35.50178  35.41980  33.63282  34.79244  38.22308   \n",
      "3    30.26144  33.20234  35.77236  34.18862  32.88250  35.02014  39.94908   \n",
      "4    33.05053  34.14981  33.47112  34.91241  33.44515  35.01310  39.31564   \n",
      "..        ...       ...       ...       ...       ...       ...       ...   \n",
      "176  30.42359  34.28555  34.57504  35.39631  32.93248  35.12781  40.48054   \n",
      "177  29.93888  31.63124  32.38354  32.04003  32.62658  33.78873  37.41392   \n",
      "178  32.31498  33.10439  36.65499  33.34126  32.81059  35.24316  38.72091   \n",
      "179  32.62449  33.64364  36.84744  34.98283  34.04810  35.60526  40.53108   \n",
      "180  33.12709  32.58468  37.23935  33.82151  33.82576  35.13995  40.81516   \n",
      "\n",
      "          VHL  \n",
      "0    32.30615  \n",
      "1    32.19988  \n",
      "2    31.49147  \n",
      "3    32.11538  \n",
      "4    33.33646  \n",
      "..        ...  \n",
      "176  31.79913  \n",
      "177  31.66344  \n",
      "178  32.39461  \n",
      "179  32.34561  \n",
      "180  30.34566  \n",
      "\n",
      "[181 rows x 74 columns]\n",
      "Numero de pacientes:  181\n"
     ]
    }
   ],
   "source": [
    "X = data.iloc[:,1:75  ] \n",
    "Y = []\n",
    "for i in range (len(data)):\n",
    "    if data.Y[i]==0: # If PFS is lower than 3 months, I will consider it as NonResponder (NR)\n",
    "        Y.append(0)\n",
    "    else:\n",
    "        Y.append(1)# If PFS is over 3 months, I will consider it as Responder (R)\n",
    "print(X)\n",
    "print('Numero de pacientes: ',len(Y))"
   ]
  },
  {
   "cell_type": "markdown",
   "metadata": {},
   "source": [
    "### 3. Train-Test dataset split"
   ]
  },
  {
   "cell_type": "code",
   "execution_count": 6,
   "metadata": {},
   "outputs": [
    {
     "name": "stdout",
     "output_type": "stream",
     "text": [
      "Training set size: 144\n",
      "Target column size of the training set: 144\n",
      "Test set size: 37\n",
      "Target column size of the test set: 37\n"
     ]
    }
   ],
   "source": [
    "XTrain, XTest, yTrain, yTest = train_test_split(X, Y, test_size=0.20, random_state=125, stratify=Y)\n",
    "\n",
    "# Convert sets to arrays\n",
    "XTrain = XTrain.values\n",
    "XTest = XTest.values\n",
    "\n",
    "print('Training set size:', len(XTrain))\n",
    "print('Target column size of the training set:', len(yTrain))\n",
    "print('Test set size:', len(XTest))\n",
    "print('Target column size of the test set:', len(yTest))"
   ]
  },
  {
   "cell_type": "markdown",
   "metadata": {},
   "source": [
    "### 4. Select the parameters of the model and fit it"
   ]
  },
  {
   "cell_type": "code",
   "execution_count": 7,
   "metadata": {},
   "outputs": [
    {
     "data": {
      "text/plain": [
       "GridSearchCV(cv=5, estimator=RandomForestClassifier(),\n",
       "             param_grid={'bootstrap': [True, False],\n",
       "                         'criterion': ['gini', 'entropy'],\n",
       "                         'max_depth': [None, 2, 5, 10, 50],\n",
       "                         'min_samples_leaf': [1, 2, 3],\n",
       "                         'min_samples_split': [2, 3, 4, 5],\n",
       "                         'n_estimators': [10, 20], 'random_state': [125]})"
      ]
     },
     "execution_count": 7,
     "metadata": {},
     "output_type": "execute_result"
    }
   ],
   "source": [
    "param_grid = {'min_samples_leaf': [1, 2, 3],\n",
    "              'min_samples_split': [2, 3, 4, 5],\n",
    "              'random_state':[125],\n",
    "              'n_estimators': [10, 20],\n",
    "              'bootstrap': [True, False],\n",
    "              'criterion': ['gini', 'entropy'],\n",
    "              'max_depth':[None, 2, 5, 10,50]\n",
    "              }\n",
    "\n",
    "# I created a GridSearchCV which allows us to systematically evaluate and select the parameters of our model.\n",
    "# By indicating a model and the parameters to test, you can evaluate the performance of the first one based on the\n",
    "# seconds through cross validation.\n",
    "clf = GridSearchCV(\n",
    "        estimator  = RandomForestClassifier(),\n",
    "        param_grid = param_grid,\n",
    "        cv=5\n",
    "       )\n",
    "\n",
    "clf.fit(XTrain , yTrain)"
   ]
  },
  {
   "cell_type": "code",
   "execution_count": 8,
   "metadata": {},
   "outputs": [
    {
     "name": "stdout",
     "output_type": "stream",
     "text": [
      "Best estimate of parameters according to GridSearchCV:\n"
     ]
    },
    {
     "data": {
      "text/plain": [
       "RandomForestClassifier(bootstrap=False, min_samples_split=3, n_estimators=10,\n",
       "                       random_state=125)"
      ]
     },
     "execution_count": 8,
     "metadata": {},
     "output_type": "execute_result"
    }
   ],
   "source": [
    "print(\"Best estimate of parameters according to GridSearchCV:\")\n",
    "model = clf.best_estimator_\n",
    "# Fit the model with the best parameters\n",
    "model.fit(XTrain , yTrain)"
   ]
  },
  {
   "cell_type": "code",
   "execution_count": 9,
   "metadata": {},
   "outputs": [
    {
     "name": "stdout",
     "output_type": "stream",
     "text": [
      "Best result of the cross validation of the model with the best paramters:0.5960591133004927\n"
     ]
    }
   ],
   "source": [
    "print(\"Best result of the cross validation of the model with the best paramters:\" +str(clf.best_score_))"
   ]
  },
  {
   "cell_type": "markdown",
   "metadata": {},
   "source": [
    "### 5. Prediction"
   ]
  },
  {
   "cell_type": "code",
   "execution_count": 10,
   "metadata": {},
   "outputs": [],
   "source": [
    "# Making predictions with the optimal model on the training dataset\n",
    "yhatTrain = model.predict(XTrain)\n",
    "contTrain = 0\n",
    "\n",
    "# Comparing with the Target column and check how many hits there have been\n",
    "for i in range(0,len(yTrain),1) :\n",
    "    if (yhatTrain[i] == yTrain[i]):\n",
    "        contTrain = contTrain + 1"
   ]
  },
  {
   "cell_type": "code",
   "execution_count": 11,
   "metadata": {},
   "outputs": [],
   "source": [
    "# Making predictions with the optimal model on the test dataset\n",
    "yhatTest = model.predict(XTest)\n",
    "contTest = 0\n",
    "\n",
    "# Comparing with the Target column and check how many hits there have been\n",
    "for i in range(0,len(yTest),1) :\n",
    "    if (yhatTest[i] == yTest[i]):\n",
    "        contTest = contTest + 1\n"
   ]
  },
  {
   "cell_type": "markdown",
   "metadata": {},
   "source": [
    "### 6. Results"
   ]
  },
  {
   "cell_type": "code",
   "execution_count": 12,
   "metadata": {},
   "outputs": [
    {
     "name": "stdout",
     "output_type": "stream",
     "text": [
      "Final accuracy on the training dataset:1.0\n",
      "Final accuracy on the testing dataset: 0.4594594594594595\n"
     ]
    }
   ],
   "source": [
    "print('Final accuracy on the training dataset:' + str(contTrain/len(yTrain)))\n",
    "print('Final accuracy on the testing dataset: ' + str(contTest/len(yTest)))"
   ]
  },
  {
   "cell_type": "code",
   "execution_count": 13,
   "metadata": {},
   "outputs": [
    {
     "name": "stdout",
     "output_type": "stream",
     "text": [
      "----------------Confusion Matrix (Training)------------------\n",
      "[[68  0]\n",
      " [ 0 76]]\n",
      "Input data:  [1 0 1 0 1 1 0 0 1 0 1 0 1 0 1 1 0 1 1 1 0 0 0 1 0 0 0 0 0 1 1 1 1 1 0 1 1\n",
      " 0 0 1 1 1 1 1 0 0 1 1 1 0 0 0 1 0 0 1 0 1 1 1 0 1 1 0 0 0 0 1 1 1 0 1 0 0\n",
      " 0 1 0 1 0 0 0 1 1 0 0 1 1 1 1 1 0 1 0 1 0 0 1 0 1 0 0 1 0 0 1 1 1 1 0 1 1\n",
      " 1 1 0 1 0 0 0 1 0 1 0 1 0 0 1 1 1 0 0 0 1 0 1 0 0 0 1 1 1 1 1 0 1]\n",
      "Prediction:        [1 0 1 0 1 1 0 0 1 0 1 0 1 0 1 1 0 1 1 1 0 0 0 1 0 0 0 0 0 1 1 1 1 1 0 1 1\n",
      " 0 0 1 1 1 1 1 0 0 1 1 1 0 0 0 1 0 0 1 0 1 1 1 0 1 1 0 0 0 0 1 1 1 0 1 0 0\n",
      " 0 1 0 1 0 0 0 1 1 0 0 1 1 1 1 1 0 1 0 1 0 0 1 0 1 0 0 1 0 0 1 1 1 1 0 1 1\n",
      " 1 1 0 1 0 0 0 1 0 1 0 1 0 0 1 1 1 0 0 0 1 0 1 0 0 0 1 1 1 1 1 0 1]\n"
     ]
    }
   ],
   "source": [
    "from sklearn.metrics import classification_report,confusion_matrix\n",
    "\n",
    "print('----------------Confusion Matrix (Training)------------------')\n",
    "print(confusion_matrix(yTrain,yhatTrain))\n",
    "print('Input data:  ' + str(np.array(yTrain)))\n",
    "print('Prediction:        ' +str(yhatTrain))"
   ]
  },
  {
   "cell_type": "code",
   "execution_count": 14,
   "metadata": {},
   "outputs": [
    {
     "name": "stdout",
     "output_type": "stream",
     "text": [
      "              precision    recall  f1-score   support\n",
      "\n",
      "           0       1.00      1.00      1.00        68\n",
      "           1       1.00      1.00      1.00        76\n",
      "\n",
      "    accuracy                           1.00       144\n",
      "   macro avg       1.00      1.00      1.00       144\n",
      "weighted avg       1.00      1.00      1.00       144\n",
      "\n"
     ]
    }
   ],
   "source": [
    "print(classification_report(yTrain,yhatTrain))"
   ]
  },
  {
   "cell_type": "code",
   "execution_count": 15,
   "metadata": {},
   "outputs": [
    {
     "name": "stdout",
     "output_type": "stream",
     "text": [
      "----------------Confusion Matrix (Test)------------------\n",
      "[[ 7 10]\n",
      " [10 10]]\n",
      "Input data:  [0 1 0 1 0 1 1 0 1 0 1 1 1 1 1 0 1 1 0 0 0 1 1 0 0 1 0 1 1 0 0 0 1 1 0 1 0]\n",
      "Prediction:        [1 1 1 1 1 0 0 1 1 1 0 0 1 0 1 0 1 0 1 0 0 1 0 1 1 1 0 1 0 1 0 0 1 0 1 0 0]\n"
     ]
    }
   ],
   "source": [
    "print('----------------Confusion Matrix (Test)------------------')\n",
    "print(confusion_matrix(yTest,yhatTest))\n",
    "print('Input data:  ' + str(np.array(yTest)))\n",
    "print('Prediction:        ' +str(yhatTest))"
   ]
  },
  {
   "cell_type": "code",
   "execution_count": 16,
   "metadata": {},
   "outputs": [
    {
     "name": "stdout",
     "output_type": "stream",
     "text": [
      "              precision    recall  f1-score   support\n",
      "\n",
      "           0       0.41      0.41      0.41        17\n",
      "           1       0.50      0.50      0.50        20\n",
      "\n",
      "    accuracy                           0.46        37\n",
      "   macro avg       0.46      0.46      0.46        37\n",
      "weighted avg       0.46      0.46      0.46        37\n",
      "\n"
     ]
    }
   ],
   "source": [
    "print(classification_report(yTest,yhatTest))"
   ]
  },
  {
   "cell_type": "code",
   "execution_count": 17,
   "metadata": {},
   "outputs": [
    {
     "data": {
      "image/png": "[encoded data removed]",
      "text/plain": [
       "<Figure size 432x288 with 1 Axes>"
      ]
     },
     "metadata": {
      "needs_background": "light"
     },
     "output_type": "display_data"
    },
    {
     "name": "stdout",
     "output_type": "stream",
     "text": [
      "AKT1 = 0.009800292586670294\n",
      "ANXA1 = 0.022661463276151032\n",
      "ANXA2 = 0.009947688942931557\n",
      "APAF1 = 0.005812812574422481\n",
      "APC = 0.010012933825551197\n",
      "ARID1A = 0.0037925696594427265\n",
      "ATM = 0.005086342229199371\n",
      "AXIN2 = 0.010027845724756072\n",
      "BAP1 = 0.022533337610311188\n",
      "CARD11 = 0.016690679050066437\n",
      "CASP2 = 0.012979513494003897\n",
      "CCND1 = 0.0024941003269176643\n",
      "CDKN2A = 0.00929202417413182\n",
      "CRADD = 0.019172531934336802\n",
      "CRYAB = 0.003646867926911266\n",
      "CTNNB1 = 0.018374126792984922\n",
      "CTSD = 0.013554026130572966\n",
      "DLC1 = 0.003345670251906431\n",
      "DNMT1 = 0.0321174621168802\n",
      "DNMT3A = 0.02270207101150633\n",
      "EPAS1 = 0.019069370890272087\n",
      "ERBB2 = 0.013189990384631912\n",
      "ERN1 = 0.014257642625727495\n",
      "FLT1 = 0.01751391774617158\n",
      "FLT4 = 0.017199423811542346\n",
      "FN1 = 0.021212942045179324\n",
      "FOSL2 = 0.01609602340238519\n",
      "GSTP1 = 0.014633070698040323\n",
      "HNF1A = 0.01859582042063161\n",
      "HNF4A = 0.005193905817174517\n",
      "HSPA9 = 0.014265391056336053\n",
      "HSPB1 = 0.01397689211840904\n",
      "HSPD1 = 0.013264977638633383\n",
      "IGF1R = 0.013293493749011866\n",
      "IL6 = 0.034489003163863295\n",
      "IL6R = 0.011232522289910441\n",
      "INSR = 0.007280189815653935\n",
      "JUN = 0.003349011669445105\n",
      "JUNB = 0.01628048006074497\n",
      "JUND = 0.016641357866299705\n",
      "KDR = 0.004395604395604396\n",
      "KIF1B = 0.014014201025355116\n",
      "L1CAM = 0.02609800771537351\n",
      "LRRK2 = 0.011223712156927551\n",
      "MAP2K1 = 0.018029990239282923\n",
      "MAPK8 = 0.008296658870139988\n",
      "MTOR = 0.007554357354698543\n",
      "MYC = 0.02181519781088133\n",
      "NDRG1 = 0.015713618673626733\n",
      "NF2 = 0.017871824923341183\n",
      "NFE2L2 = 0.011758358330310591\n",
      "PAK1 = 0.0\n",
      "PIK3CA = 0.004411764705882353\n",
      "PTEN = 0.006821936009341109\n",
      "PTGS1 = 0.036435113817771175\n",
      "PTGS2 = 0.01324258182868909\n",
      "RELA = 0.017760871596501672\n",
      "RET = 0.016147869250598874\n",
      "RHEB = 0.015204130249161335\n",
      "RNF139 = 0.015046664481515338\n",
      "SDHA = 0.02791380384137674\n",
      "SETD2 = 0.01094611933842363\n",
      "SFRP2 = 0.005832135506558757\n",
      "SHANK1 = 0.0065848832051743425\n",
      "SLC2A1 = 0.012758777600108875\n",
      "SOD2 = 0.005858537747082638\n",
      "SRC = 0.022230781332265786\n",
      "STK11 = 0.002865988500663423\n",
      "TGM2 = 0.009352705801811762\n",
      "TP53 = 0.0\n",
      "TSC1 = 0.007847396027021915\n",
      "TSC2 = 0.012644315753353504\n",
      "VEGFA = 0.0167991047768996\n",
      "VHL = 0.021443200224537346\n"
     ]
    }
   ],
   "source": [
    "# Through the created model we can see which attributes are the most significant to make a decision.\n",
    "# The most relevant attributes will be the ones placed at the top of the tree.\n",
    "features = list(X)\n",
    "importances = model.feature_importances_\n",
    "indices = np.argsort(importances)\n",
    "\n",
    "plt.title('Attribute relevance')\n",
    "plt.barh(range(len(indices)), importances[indices], color='b', align='center')\n",
    "plt.yticks(range(len(indices)), [features[i] for i in indices])\n",
    "plt.xlabel('Relative importance')\n",
    "plt.show()\n",
    "\n",
    "for name, importance in zip(X, model.feature_importances_):\n",
    "    print(name, \"=\", importance)\n",
    "\n",
    "# Attributes whose relevance is 0, will not be necessary to make the prediction of the target."
   ]
  }
 ],
 "metadata": {
  "kernelspec": {
   "display_name": "Python 3.9.13 64-bit (microsoft store)",
   "language": "python",
   "name": "python3"
  },
  "language_info": {
   "codemirror_mode": {
    "name": "ipython",
    "version": 3
   },
   "file_extension": ".py",
   "mimetype": "text/x-python",
   "name": "python",
   "nbconvert_exporter": "python",
   "pygments_lexer": "ipython3",
   "version": "3.9.13"
  },
  "orig_nbformat": 4,
  "vscode": {
   "interpreter": {
    "hash": "fb15f1e0f376981e7b6e1fc44ae8b8146823f10f258bcd6e448b0230b889fc06"
   }
  }
 },
 "nbformat": 4,
 "nbformat_minor": 2
}
