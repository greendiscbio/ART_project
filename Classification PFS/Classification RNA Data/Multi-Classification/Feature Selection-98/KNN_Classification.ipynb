{
 "cells": [
  {
   "cell_type": "markdown",
   "metadata": {},
   "source": [
    "# Classification model using KNNN"
   ]
  },
  {
   "cell_type": "markdown",
   "metadata": {},
   "source": [
    "### 1. Import libraries"
   ]
  },
  {
   "cell_type": "code",
   "execution_count": 1,
   "metadata": {},
   "outputs": [],
   "source": [
    "import pandas as pd\n",
    "from sklearn import neighbors\n",
    "import matplotlib.pyplot as plt\n",
    "from sklearn.model_selection import train_test_split\n",
    "from sklearn import neighbors\n",
    "from sklearn.neighbors import KNeighborsClassifier\n",
    "from sklearn.metrics import accuracy_score\n",
    "import numpy as np\n",
    "from scipy.spatial import distance\n",
    "from sklearn import model_selection"
   ]
  },
  {
   "cell_type": "markdown",
   "metadata": {},
   "source": [
    "### 2. Upload RNA data"
   ]
  },
  {
   "cell_type": "code",
   "execution_count": 2,
   "metadata": {},
   "outputs": [
    {
     "data": {
      "text/html": [
       "<div>\n",
       "<style scoped>\n",
       "    .dataframe tbody tr th:only-of-type {\n",
       "        vertical-align: middle;\n",
       "    }\n",
       "\n",
       "    .dataframe tbody tr th {\n",
       "        vertical-align: top;\n",
       "    }\n",
       "\n",
       "    .dataframe thead th {\n",
       "        text-align: right;\n",
       "    }\n",
       "</style>\n",
       "<table border=\"1\" class=\"dataframe\">\n",
       "  <thead>\n",
       "    <tr style=\"text-align: right;\">\n",
       "      <th></th>\n",
       "      <th>Unnamed: 0</th>\n",
       "      <th>RNA_ID</th>\n",
       "      <th>Age</th>\n",
       "      <th>Sarc</th>\n",
       "      <th>Rhab</th>\n",
       "      <th>Number_of_Prior_Therapies</th>\n",
       "      <th>Days_from_TumorSample_Collection_and_Start_of_Trial_Therapy</th>\n",
       "      <th>Tumor_Shrinkage</th>\n",
       "      <th>PFS</th>\n",
       "      <th>TM_TC_Ratio</th>\n",
       "      <th>...</th>\n",
       "      <th>SYT10</th>\n",
       "      <th>TARBP2</th>\n",
       "      <th>TAS1R3</th>\n",
       "      <th>TAT</th>\n",
       "      <th>TRAV41</th>\n",
       "      <th>TRIM43B</th>\n",
       "      <th>VN2R17P</th>\n",
       "      <th>XPC</th>\n",
       "      <th>ZNF608</th>\n",
       "      <th>ZNF746</th>\n",
       "    </tr>\n",
       "  </thead>\n",
       "  <tbody>\n",
       "    <tr>\n",
       "      <th>0</th>\n",
       "      <td>0</td>\n",
       "      <td>G138701_RCCBMS-00020-T_v1_RNA_OnPrem</td>\n",
       "      <td>62.0</td>\n",
       "      <td>0.0</td>\n",
       "      <td>0.0</td>\n",
       "      <td>2.0</td>\n",
       "      <td>962.0</td>\n",
       "      <td>-16.406250</td>\n",
       "      <td>12.164384</td>\n",
       "      <td>0.766909</td>\n",
       "      <td>...</td>\n",
       "      <td>21.82797</td>\n",
       "      <td>29.60417</td>\n",
       "      <td>26.87053</td>\n",
       "      <td>22.27506</td>\n",
       "      <td>22.22154</td>\n",
       "      <td>21.9744</td>\n",
       "      <td>21.12857</td>\n",
       "      <td>32.24472</td>\n",
       "      <td>34.46991</td>\n",
       "      <td>29.11848</td>\n",
       "    </tr>\n",
       "    <tr>\n",
       "      <th>1</th>\n",
       "      <td>1</td>\n",
       "      <td>G138701_RCCBMS-00097-T_v1_RNA_OnPrem</td>\n",
       "      <td>67.0</td>\n",
       "      <td>0.0</td>\n",
       "      <td>0.0</td>\n",
       "      <td>2.0</td>\n",
       "      <td>254.0</td>\n",
       "      <td>-40.000000</td>\n",
       "      <td>5.490411</td>\n",
       "      <td>0.773269</td>\n",
       "      <td>...</td>\n",
       "      <td>23.53072</td>\n",
       "      <td>29.61188</td>\n",
       "      <td>26.87283</td>\n",
       "      <td>22.27506</td>\n",
       "      <td>22.22154</td>\n",
       "      <td>21.9744</td>\n",
       "      <td>21.12857</td>\n",
       "      <td>32.15619</td>\n",
       "      <td>34.95662</td>\n",
       "      <td>30.78421</td>\n",
       "    </tr>\n",
       "    <tr>\n",
       "      <th>2</th>\n",
       "      <td>2</td>\n",
       "      <td>G138701_RCCBMS-00141-T_v1_RNA_OnPrem</td>\n",
       "      <td>62.0</td>\n",
       "      <td>0.0</td>\n",
       "      <td>0.0</td>\n",
       "      <td>1.0</td>\n",
       "      <td>800.0</td>\n",
       "      <td>-89.436620</td>\n",
       "      <td>61.906849</td>\n",
       "      <td>1.782859</td>\n",
       "      <td>...</td>\n",
       "      <td>21.82797</td>\n",
       "      <td>31.90343</td>\n",
       "      <td>23.88665</td>\n",
       "      <td>27.71190</td>\n",
       "      <td>22.22154</td>\n",
       "      <td>21.9744</td>\n",
       "      <td>21.12857</td>\n",
       "      <td>31.86536</td>\n",
       "      <td>32.73029</td>\n",
       "      <td>31.98340</td>\n",
       "    </tr>\n",
       "    <tr>\n",
       "      <th>3</th>\n",
       "      <td>3</td>\n",
       "      <td>G138701_RCCBMS-00099-T_v1_RNA_OnPrem</td>\n",
       "      <td>60.0</td>\n",
       "      <td>0.0</td>\n",
       "      <td>0.0</td>\n",
       "      <td>3.0</td>\n",
       "      <td>790.0</td>\n",
       "      <td>11.787072</td>\n",
       "      <td>1.249315</td>\n",
       "      <td>5.890573</td>\n",
       "      <td>...</td>\n",
       "      <td>31.50567</td>\n",
       "      <td>30.35424</td>\n",
       "      <td>25.66465</td>\n",
       "      <td>22.27506</td>\n",
       "      <td>22.22154</td>\n",
       "      <td>21.9744</td>\n",
       "      <td>21.12857</td>\n",
       "      <td>31.63561</td>\n",
       "      <td>33.92535</td>\n",
       "      <td>30.68180</td>\n",
       "    </tr>\n",
       "    <tr>\n",
       "      <th>4</th>\n",
       "      <td>4</td>\n",
       "      <td>G138701_RCCBMS-00163-T_v1_RNA_OnPrem</td>\n",
       "      <td>76.0</td>\n",
       "      <td>0.0</td>\n",
       "      <td>0.0</td>\n",
       "      <td>2.0</td>\n",
       "      <td>1241.0</td>\n",
       "      <td>0.000000</td>\n",
       "      <td>5.654795</td>\n",
       "      <td>1.374775</td>\n",
       "      <td>...</td>\n",
       "      <td>27.75696</td>\n",
       "      <td>31.60946</td>\n",
       "      <td>27.41015</td>\n",
       "      <td>22.27506</td>\n",
       "      <td>22.22154</td>\n",
       "      <td>21.9744</td>\n",
       "      <td>21.12857</td>\n",
       "      <td>33.12717</td>\n",
       "      <td>33.16473</td>\n",
       "      <td>30.01943</td>\n",
       "    </tr>\n",
       "  </tbody>\n",
       "</table>\n",
       "<p>5 rows × 125 columns</p>\n",
       "</div>"
      ],
      "text/plain": [
       "   Unnamed: 0                                RNA_ID   Age  Sarc  Rhab  \\\n",
       "0           0  G138701_RCCBMS-00020-T_v1_RNA_OnPrem  62.0   0.0   0.0   \n",
       "1           1  G138701_RCCBMS-00097-T_v1_RNA_OnPrem  67.0   0.0   0.0   \n",
       "2           2  G138701_RCCBMS-00141-T_v1_RNA_OnPrem  62.0   0.0   0.0   \n",
       "3           3  G138701_RCCBMS-00099-T_v1_RNA_OnPrem  60.0   0.0   0.0   \n",
       "4           4  G138701_RCCBMS-00163-T_v1_RNA_OnPrem  76.0   0.0   0.0   \n",
       "\n",
       "   Number_of_Prior_Therapies  \\\n",
       "0                        2.0   \n",
       "1                        2.0   \n",
       "2                        1.0   \n",
       "3                        3.0   \n",
       "4                        2.0   \n",
       "\n",
       "   Days_from_TumorSample_Collection_and_Start_of_Trial_Therapy  \\\n",
       "0                                              962.0             \n",
       "1                                              254.0             \n",
       "2                                              800.0             \n",
       "3                                              790.0             \n",
       "4                                             1241.0             \n",
       "\n",
       "   Tumor_Shrinkage        PFS  TM_TC_Ratio  ...     SYT10    TARBP2    TAS1R3  \\\n",
       "0       -16.406250  12.164384     0.766909  ...  21.82797  29.60417  26.87053   \n",
       "1       -40.000000   5.490411     0.773269  ...  23.53072  29.61188  26.87283   \n",
       "2       -89.436620  61.906849     1.782859  ...  21.82797  31.90343  23.88665   \n",
       "3        11.787072   1.249315     5.890573  ...  31.50567  30.35424  25.66465   \n",
       "4         0.000000   5.654795     1.374775  ...  27.75696  31.60946  27.41015   \n",
       "\n",
       "        TAT    TRAV41  TRIM43B   VN2R17P       XPC    ZNF608    ZNF746  \n",
       "0  22.27506  22.22154  21.9744  21.12857  32.24472  34.46991  29.11848  \n",
       "1  22.27506  22.22154  21.9744  21.12857  32.15619  34.95662  30.78421  \n",
       "2  27.71190  22.22154  21.9744  21.12857  31.86536  32.73029  31.98340  \n",
       "3  22.27506  22.22154  21.9744  21.12857  31.63561  33.92535  30.68180  \n",
       "4  22.27506  22.22154  21.9744  21.12857  33.12717  33.16473  30.01943  \n",
       "\n",
       "[5 rows x 125 columns]"
      ]
     },
     "execution_count": 2,
     "metadata": {},
     "output_type": "execute_result"
    }
   ],
   "source": [
    "path ='../../../../Data_preprocessing/Prediction PFS/RNA+Clinic joined/New/Clinical_data_and_RNA_98_Features_PFS.csv'\n",
    "data = pd.read_csv(path)\n",
    "data.head(5)"
   ]
  },
  {
   "cell_type": "code",
   "execution_count": 3,
   "metadata": {},
   "outputs": [
    {
     "name": "stdout",
     "output_type": "stream",
     "text": [
      "         ABHD5  AC005307.1  AC005550.3  AC090957.2      AGAP3  AP001055.6  \\\n",
      "0    30.497897   21.055379   21.270652   21.030369  32.969805   22.028180   \n",
      "1    31.269076   21.055379   21.270652   21.030369  32.303016   22.028180   \n",
      "2    32.103159   21.055379   21.270652   21.030369  31.523937   22.028180   \n",
      "3    31.860291   21.055379   21.270652   21.030369  32.234884   22.028180   \n",
      "4    31.130802   21.055379   21.270652   21.030369  33.158813   22.028180   \n",
      "..         ...         ...         ...         ...        ...         ...   \n",
      "176  32.097191   20.944668   20.782537   20.962109  33.553554   20.515641   \n",
      "177  33.549605   20.944668   20.782537   20.962109  32.424865   24.317471   \n",
      "178  32.023461   20.944668   22.065655   20.962109  33.420634   20.515641   \n",
      "179  30.836938   20.944668   21.846195   20.962109  33.432114   23.692971   \n",
      "180  31.554782   20.944668   23.384450   20.962109  33.223246   20.515641   \n",
      "\n",
      "     AP003025.2     AQP7P4   ATP5G2P1       AVIL  ...     SYT10    TARBP2  \\\n",
      "0     21.082002  21.075150  21.300337  31.822132  ...  21.82797  29.60417   \n",
      "1     21.082002  21.075150  21.300337  29.769749  ...  23.53072  29.61188   \n",
      "2     21.082002  29.996793  21.300337  29.435955  ...  21.82797  31.90343   \n",
      "3     21.082002  21.075150  21.300337  31.120275  ...  31.50567  30.35424   \n",
      "4     21.082002  21.075150  21.300337  29.600056  ...  27.75696  31.60946   \n",
      "..          ...        ...        ...        ...  ...       ...       ...   \n",
      "176   21.081718  22.290993  21.624881  28.676982  ...  22.65164  31.57179   \n",
      "177   21.081718  22.290993  21.624881  32.495369  ...  22.65164  34.36199   \n",
      "178   21.081718  22.290993  21.624881  31.943709  ...  22.65164  29.30238   \n",
      "179   21.081718  22.290993  21.624881  32.209538  ...  22.65164  30.72343   \n",
      "180   21.081718  22.290993  21.624881  28.676982  ...  22.65164  31.34356   \n",
      "\n",
      "       TAS1R3       TAT    TRAV41  TRIM43B   VN2R17P       XPC    ZNF608  \\\n",
      "0    26.87053  22.27506  22.22154  21.9744  21.12857  32.24472  34.46991   \n",
      "1    26.87283  22.27506  22.22154  21.9744  21.12857  32.15619  34.95662   \n",
      "2    23.88665  27.71190  22.22154  21.9744  21.12857  31.86536  32.73029   \n",
      "3    25.66465  22.27506  22.22154  21.9744  21.12857  31.63561  33.92535   \n",
      "4    27.41015  22.27506  22.22154  21.9744  21.12857  33.12717  33.16473   \n",
      "..        ...       ...       ...      ...       ...       ...       ...   \n",
      "176  25.54037  23.86908  24.54591  22.3863  20.96902  32.70183  35.08429   \n",
      "177  25.54037  21.05702  24.54591  22.3863  20.96902  30.79817  34.94645   \n",
      "178  25.54037  28.31916  24.54591  22.3863  20.96902  32.60750  34.31747   \n",
      "179  25.54037  21.05702  24.54591  22.3863  23.88906  33.35291  33.61931   \n",
      "180  25.54037  24.96235  24.54591  22.3863  20.96902  32.50118  30.93156   \n",
      "\n",
      "       ZNF746  \n",
      "0    29.11848  \n",
      "1    30.78421  \n",
      "2    31.98340  \n",
      "3    30.68180  \n",
      "4    30.01943  \n",
      "..        ...  \n",
      "176  31.01530  \n",
      "177  30.98229  \n",
      "178  30.99700  \n",
      "179  29.68499  \n",
      "180  31.58285  \n",
      "\n",
      "[181 rows x 98 columns]\n",
      "Numero de pacientes:  181\n"
     ]
    }
   ],
   "source": [
    "X = data.iloc[:,27:125]\n",
    "Y=[]\n",
    "# For each entry I classified it by its PFS value.\n",
    "for i in range (len(data)):\n",
    "    if data.PFS[i]<3: # If PFS is lower than 3 months, I will consider it as NonResponder (NR)\n",
    "        Y.append(0)\n",
    "    elif data.PFS[i]<6:\n",
    "        Y.append(1)# If PFS is over 3 months, I will consider it as Responder (R)\n",
    "    else:\n",
    "        Y.append(2)\n",
    "print(X)\n",
    "print('Numero de pacientes: ',len(Y))"
   ]
  },
  {
   "cell_type": "markdown",
   "metadata": {},
   "source": [
    "### 3. Train-Test dataset split"
   ]
  },
  {
   "cell_type": "code",
   "execution_count": 4,
   "metadata": {},
   "outputs": [
    {
     "name": "stdout",
     "output_type": "stream",
     "text": [
      "Training set size: 144\n",
      "Target column size of the training set: 144\n",
      "Test set size: 37\n",
      "Target column size of the test set: 37\n"
     ]
    }
   ],
   "source": [
    "XTrain, XTest, yTrain, yTest = train_test_split(X, Y, test_size=0.20, random_state=125, stratify=Y)\n",
    "\n",
    "# Convert sets to arrays\n",
    "XTrain = XTrain.values\n",
    "XTest = XTest.values\n",
    "\n",
    "print('Training set size:', len(XTrain))\n",
    "print('Target column size of the training set:', len(yTrain))\n",
    "print('Test set size:', len(XTest))\n",
    "print('Target column size of the test set:', len(yTest))"
   ]
  },
  {
   "cell_type": "markdown",
   "metadata": {},
   "source": [
    "### 4. Study the best value for K"
   ]
  },
  {
   "cell_type": "code",
   "execution_count": 5,
   "metadata": {},
   "outputs": [
    {
     "name": "stdout",
     "output_type": "stream",
     "text": [
      "Best accuracy is obtained with k = 6 and is: 0.4865\n"
     ]
    }
   ],
   "source": [
    "neighbors = list(range(1,8))\n",
    "cek = []\n",
    "list_accuracy = []\n",
    "best_acuracy = 0\n",
    "best_k = 0\n",
    "for k in neighbors:\n",
    "    knn = KNeighborsClassifier(n_neighbors=k)\n",
    "    pred = knn.fit(XTrain, yTrain).predict(XTest)\n",
    "    if accuracy_score(yTest, pred) >= best_acuracy:\n",
    "        best_k = k\n",
    "        best_acuracy=accuracy_score(yTest, pred)\n",
    "    list_accuracy.append(accuracy_score(yTest, pred))\n",
    "\n",
    "print(\"Best accuracy is obtained with k = \" + str(best_k)+ \" and is: %.4f\" % (best_acuracy))\n"
   ]
  },
  {
   "cell_type": "code",
   "execution_count": 6,
   "metadata": {},
   "outputs": [
    {
     "data": {
      "image/png": "[encoded data removed]",
      "text/plain": [
       "<Figure size 432x288 with 1 Axes>"
      ]
     },
     "metadata": {
      "needs_background": "light"
     },
     "output_type": "display_data"
    }
   ],
   "source": [
    "plt.plot(np.append(np.roll(list_accuracy,1),list_accuracy[6]),'ro', color='r', linestyle='dashed',linewidth=1.0, label=\"Graph2\")\n",
    "# Green dot represent best K value\n",
    "plt.plot(best_k, best_acuracy, 'ro', color ='g')\n",
    "plt.axis([1, 7, 0.5, 1])\n",
    "plt.xlabel('K')\n",
    "plt.ylabel('Accuracy')\n",
    "\n",
    "plt.grid()\n",
    "plt.show()"
   ]
  },
  {
   "cell_type": "markdown",
   "metadata": {},
   "source": [
    "### 5. Best metric study (manhattan or euclidean)"
   ]
  },
  {
   "cell_type": "code",
   "execution_count": 7,
   "metadata": {},
   "outputs": [
    {
     "data": {
      "text/plain": [
       "KNeighborsClassifier(metric=<function cityblock at 0x000001DCD0D73940>,\n",
       "                     n_neighbors=6)"
      ]
     },
     "execution_count": 7,
     "metadata": {},
     "output_type": "execute_result"
    }
   ],
   "source": [
    "# Euclidean distance model\n",
    "euclid_model = KNeighborsClassifier(n_neighbors=best_k, metric=distance.sqeuclidean)\n",
    "euclid_model.fit(XTrain,yTrain) \n",
    "\n",
    "# Manhattan distance model\n",
    "manhattan_model = KNeighborsClassifier(n_neighbors=best_k, metric=distance.cityblock) \n",
    "manhattan_model.fit(XTrain, yTrain)"
   ]
  },
  {
   "cell_type": "markdown",
   "metadata": {},
   "source": [
    "### 6. Predictions"
   ]
  },
  {
   "cell_type": "code",
   "execution_count": 8,
   "metadata": {},
   "outputs": [
    {
     "data": {
      "text/html": [
       "<div>\n",
       "<style scoped>\n",
       "    .dataframe tbody tr th:only-of-type {\n",
       "        vertical-align: middle;\n",
       "    }\n",
       "\n",
       "    .dataframe tbody tr th {\n",
       "        vertical-align: top;\n",
       "    }\n",
       "\n",
       "    .dataframe thead th {\n",
       "        text-align: right;\n",
       "    }\n",
       "</style>\n",
       "<table border=\"1\" class=\"dataframe\">\n",
       "  <thead>\n",
       "    <tr style=\"text-align: right;\">\n",
       "      <th></th>\n",
       "      <th>actual</th>\n",
       "      <th>manhattan</th>\n",
       "      <th>euclid</th>\n",
       "    </tr>\n",
       "  </thead>\n",
       "  <tbody>\n",
       "    <tr>\n",
       "      <th>0</th>\n",
       "      <td>0</td>\n",
       "      <td>0</td>\n",
       "      <td>0</td>\n",
       "    </tr>\n",
       "    <tr>\n",
       "      <th>1</th>\n",
       "      <td>1</td>\n",
       "      <td>2</td>\n",
       "      <td>0</td>\n",
       "    </tr>\n",
       "    <tr>\n",
       "      <th>2</th>\n",
       "      <td>0</td>\n",
       "      <td>0</td>\n",
       "      <td>0</td>\n",
       "    </tr>\n",
       "    <tr>\n",
       "      <th>3</th>\n",
       "      <td>2</td>\n",
       "      <td>0</td>\n",
       "      <td>0</td>\n",
       "    </tr>\n",
       "    <tr>\n",
       "      <th>4</th>\n",
       "      <td>0</td>\n",
       "      <td>0</td>\n",
       "      <td>0</td>\n",
       "    </tr>\n",
       "  </tbody>\n",
       "</table>\n",
       "</div>"
      ],
      "text/plain": [
       "   actual  manhattan  euclid\n",
       "0       0          0       0\n",
       "1       1          2       0\n",
       "2       0          0       0\n",
       "3       2          0       0\n",
       "4       0          0       0"
      ]
     },
     "execution_count": 8,
     "metadata": {},
     "output_type": "execute_result"
    }
   ],
   "source": [
    "manhattan_predictions = manhattan_model.predict(XTest)\n",
    "euclid_predictions = euclid_model.predict(XTest) \n",
    "df = pd.DataFrame({'actual': yTest, 'manhattan': manhattan_predictions, 'euclid': euclid_predictions})\n",
    "df.head()"
   ]
  },
  {
   "cell_type": "code",
   "execution_count": 9,
   "metadata": {},
   "outputs": [
    {
     "name": "stdout",
     "output_type": "stream",
     "text": [
      "Best result of the cross validation of the model (euclidean) with the best paramters:0.4724137931034482\n",
      "Best result of the cross validation of the model (manhattan) with the best paramters:0.5490147783251231\n"
     ]
    }
   ],
   "source": [
    "# Cross validation\n",
    "result1= model_selection.cross_val_score(euclid_model, XTrain, yTrain, cv=5, scoring='accuracy')\n",
    "result2 = model_selection.cross_val_score(manhattan_model, XTrain, yTrain, cv=5, scoring='accuracy')\n",
    "print(\"Best result of the cross validation of the model (euclidean) with the best paramters:\" +str(np.mean(result1)))\n",
    "print(\"Best result of the cross validation of the model (manhattan) with the best paramters:\" +str(np.mean(result2)))\n"
   ]
  },
  {
   "cell_type": "markdown",
   "metadata": {},
   "source": [
    "#### 6.1. Manhattan model"
   ]
  },
  {
   "cell_type": "code",
   "execution_count": 10,
   "metadata": {},
   "outputs": [],
   "source": [
    "# Making predictions with the optimal model on the training dataset\n",
    "yhatTrain = manhattan_model.predict(XTrain)\n",
    "contTrain = 0\n",
    "\n",
    "# Comparing with the Target column and check how many hits there have been\n",
    "for i in range(0,len(yTrain),1) :\n",
    "    if (yhatTrain[i] == yTrain[i]):\n",
    "        contTrain = contTrain + 1"
   ]
  },
  {
   "cell_type": "code",
   "execution_count": 11,
   "metadata": {},
   "outputs": [],
   "source": [
    "# Making predictions with the optimal model on the test dataset\n",
    "mayhatTest = manhattan_model.predict(XTest)\n",
    "contTest = 0\n",
    "\n",
    "# Comparing with the Target column and check how many hits there have been\n",
    "for i in range(0,len(yTest),1) :\n",
    "    if (mayhatTest[i] == yTest[i]):\n",
    "        contTest = contTest + 1"
   ]
  },
  {
   "cell_type": "code",
   "execution_count": 12,
   "metadata": {},
   "outputs": [
    {
     "name": "stdout",
     "output_type": "stream",
     "text": [
      "Final accuracy on the training dataset (manhattan): 0.6319444444444444\n",
      "Final accuracy on the testing dataset (manhattan): 0.43243243243243246\n"
     ]
    }
   ],
   "source": [
    "print('Final accuracy on the training dataset (manhattan): ' + str(contTrain/len(yTrain)))\n",
    "print('Final accuracy on the testing dataset (manhattan): ' + str(contTest/len(yTest)))"
   ]
  },
  {
   "cell_type": "code",
   "execution_count": 13,
   "metadata": {},
   "outputs": [
    {
     "name": "stdout",
     "output_type": "stream",
     "text": [
      "----------------Confusion Matrix (Training)------------------\n",
      "[[56  1 10]\n",
      " [13  4  8]\n",
      " [21  0 31]]\n",
      "Input data:  [1 0 2 0 2 2 0 0 2 0 2 0 1 0 2 2 0 2 2 2 0 0 0 2 0 0 0 0 1 1 2 2 2 2 0 1 2\n",
      " 0 0 2 1 2 2 1 0 0 2 2 1 0 0 0 2 0 0 2 0 2 1 2 0 2 1 0 0 0 0 2 2 2 0 2 0 0\n",
      " 0 2 0 2 0 0 0 1 2 0 0 1 2 2 1 1 0 2 0 2 0 0 1 0 1 0 0 2 0 0 2 2 2 1 0 2 2\n",
      " 1 2 0 1 0 0 0 2 0 1 0 2 0 0 2 1 1 0 0 0 2 0 1 0 0 0 2 2 2 1 2 0 1]\n",
      "Prediction:        [2 0 2 0 0 0 0 0 0 0 2 0 0 0 2 0 0 0 0 2 2 0 0 2 0 0 0 0 0 2 2 2 0 2 0 0 2\n",
      " 2 0 0 0 2 2 2 2 0 2 0 0 0 0 0 0 0 0 2 0 2 1 2 0 2 1 0 0 0 0 0 2 2 0 2 0 0\n",
      " 0 0 0 0 2 0 2 2 0 0 0 2 2 0 0 0 0 2 2 2 0 2 2 0 1 0 2 0 0 0 0 2 0 0 0 2 0\n",
      " 2 2 0 0 0 0 0 0 2 0 2 2 0 1 2 0 0 0 0 0 2 0 2 0 0 0 0 2 2 0 2 0 1]\n"
     ]
    }
   ],
   "source": [
    "from sklearn.metrics import classification_report,confusion_matrix\n",
    "\n",
    "print('----------------Confusion Matrix (Training)------------------')\n",
    "print(confusion_matrix(yTrain,yhatTrain))\n",
    "print('Input data:  ' + str(np.array(yTrain)))\n",
    "print('Prediction:        ' +str(yhatTrain))"
   ]
  },
  {
   "cell_type": "code",
   "execution_count": 14,
   "metadata": {},
   "outputs": [
    {
     "name": "stdout",
     "output_type": "stream",
     "text": [
      "              precision    recall  f1-score   support\n",
      "\n",
      "           0       0.62      0.84      0.71        67\n",
      "           1       0.80      0.16      0.27        25\n",
      "           2       0.63      0.60      0.61        52\n",
      "\n",
      "    accuracy                           0.63       144\n",
      "   macro avg       0.68      0.53      0.53       144\n",
      "weighted avg       0.66      0.63      0.60       144\n",
      "\n"
     ]
    }
   ],
   "source": [
    "print(classification_report(yTrain,yhatTrain))"
   ]
  },
  {
   "cell_type": "code",
   "execution_count": 15,
   "metadata": {},
   "outputs": [
    {
     "name": "stdout",
     "output_type": "stream",
     "text": [
      "----------------Confusion Matrix (Test)------------------\n",
      "[[10  1  7]\n",
      " [ 3  0  3]\n",
      " [ 7  0  6]]\n",
      "Input data:  [0 1 0 2 0 2 1 0 1 0 2 2 1 2 2 0 1 2 0 0 0 2 1 0 0 2 0 2 2 0 0 0 2 2 0 0 0]\n",
      "Prediction:        [0 2 0 0 0 0 2 0 0 2 2 0 0 0 2 0 0 0 0 0 2 0 2 2 0 2 1 0 2 2 2 0 2 2 2 2 0]\n"
     ]
    }
   ],
   "source": [
    "from sklearn.metrics import confusion_matrix\n",
    "confusion_matrix = confusion_matrix(yTest, mayhatTest)\n",
    "print('----------------Confusion Matrix (Test)------------------')\n",
    "print(confusion_matrix)\n",
    "print('Input data:  ' + str(np.array(yTest)))\n",
    "print('Prediction:        ' +str(mayhatTest))"
   ]
  },
  {
   "cell_type": "code",
   "execution_count": 16,
   "metadata": {},
   "outputs": [
    {
     "name": "stdout",
     "output_type": "stream",
     "text": [
      "              precision    recall  f1-score   support\n",
      "\n",
      "           0       0.50      0.56      0.53        18\n",
      "           1       0.00      0.00      0.00         6\n",
      "           2       0.38      0.46      0.41        13\n",
      "\n",
      "    accuracy                           0.43        37\n",
      "   macro avg       0.29      0.34      0.31        37\n",
      "weighted avg       0.38      0.43      0.40        37\n",
      "\n"
     ]
    }
   ],
   "source": [
    "print(classification_report(yTest, mayhatTest))"
   ]
  }
 ],
 "metadata": {
  "interpreter": {
   "hash": "8be240dc937e61b542e412c89351978950720d3fde5a0c37c158fb19f149fb89"
  },
  "kernelspec": {
   "display_name": "Python 3.8.8 ('base')",
   "language": "python",
   "name": "python3"
  },
  "language_info": {
   "codemirror_mode": {
    "name": "ipython",
    "version": 3
   },
   "file_extension": ".py",
   "mimetype": "text/x-python",
   "name": "python",
   "nbconvert_exporter": "python",
   "pygments_lexer": "ipython3",
   "version": "3.8.8"
  },
  "orig_nbformat": 4
 },
 "nbformat": 4,
 "nbformat_minor": 2
}
