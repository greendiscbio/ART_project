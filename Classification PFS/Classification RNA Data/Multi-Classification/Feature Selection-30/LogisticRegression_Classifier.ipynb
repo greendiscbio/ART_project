{
 "cells": [
  {
   "cell_type": "markdown",
   "metadata": {},
   "source": [
    "# Classification model using Logistic Regression"
   ]
  },
  {
   "cell_type": "markdown",
   "metadata": {},
   "source": [
    "### 1. Import libraries"
   ]
  },
  {
   "cell_type": "code",
   "execution_count": 1,
   "metadata": {},
   "outputs": [],
   "source": [
    "import pandas as pd\n",
    "import numpy as np\n",
    "import matplotlib.pyplot as plt\n",
    "from sklearn.linear_model import LogisticRegression\n",
    "from sklearn.model_selection import train_test_split\n",
    "from sklearn import model_selection\n",
    "from sklearn.metrics import classification_report\n",
    "from sklearn.metrics import confusion_matrix\n",
    "from sklearn.model_selection import GridSearchCV"
   ]
  },
  {
   "cell_type": "markdown",
   "metadata": {},
   "source": [
    "### 2. Upload RNA data"
   ]
  },
  {
   "cell_type": "code",
   "execution_count": 2,
   "metadata": {},
   "outputs": [
    {
     "data": {
      "text/html": [
       "<div>\n",
       "<style scoped>\n",
       "    .dataframe tbody tr th:only-of-type {\n",
       "        vertical-align: middle;\n",
       "    }\n",
       "\n",
       "    .dataframe tbody tr th {\n",
       "        vertical-align: top;\n",
       "    }\n",
       "\n",
       "    .dataframe thead th {\n",
       "        text-align: right;\n",
       "    }\n",
       "</style>\n",
       "<table border=\"1\" class=\"dataframe\">\n",
       "  <thead>\n",
       "    <tr style=\"text-align: right;\">\n",
       "      <th></th>\n",
       "      <th>Unnamed: 0</th>\n",
       "      <th>RNA_ID</th>\n",
       "      <th>Age</th>\n",
       "      <th>Sarc</th>\n",
       "      <th>Rhab</th>\n",
       "      <th>Number_of_Prior_Therapies</th>\n",
       "      <th>Days_from_TumorSample_Collection_and_Start_of_Trial_Therapy</th>\n",
       "      <th>Tumor_Shrinkage</th>\n",
       "      <th>PFS</th>\n",
       "      <th>TM_TC_Ratio</th>\n",
       "      <th>...</th>\n",
       "      <th>RP11-96O20.4</th>\n",
       "      <th>RP5-827C21.1</th>\n",
       "      <th>RPS12P26</th>\n",
       "      <th>SDR42E1</th>\n",
       "      <th>SNORD113-5</th>\n",
       "      <th>TARBP2</th>\n",
       "      <th>TRAV41</th>\n",
       "      <th>TRIM43B</th>\n",
       "      <th>VN2R17P</th>\n",
       "      <th>XPC</th>\n",
       "    </tr>\n",
       "  </thead>\n",
       "  <tbody>\n",
       "    <tr>\n",
       "      <th>0</th>\n",
       "      <td>0</td>\n",
       "      <td>G138701_RCCBMS-00020-T_v1_RNA_OnPrem</td>\n",
       "      <td>62.0</td>\n",
       "      <td>0.0</td>\n",
       "      <td>0.0</td>\n",
       "      <td>2.0</td>\n",
       "      <td>707.0</td>\n",
       "      <td>0.0</td>\n",
       "      <td>12.164384</td>\n",
       "      <td>1.374775</td>\n",
       "      <td>...</td>\n",
       "      <td>21.18753</td>\n",
       "      <td>27.40814</td>\n",
       "      <td>31.71139</td>\n",
       "      <td>30.26124</td>\n",
       "      <td>21.32743</td>\n",
       "      <td>29.60417</td>\n",
       "      <td>22.22154</td>\n",
       "      <td>21.9744</td>\n",
       "      <td>21.12857</td>\n",
       "      <td>32.24472</td>\n",
       "    </tr>\n",
       "    <tr>\n",
       "      <th>1</th>\n",
       "      <td>1</td>\n",
       "      <td>G138701_RCCBMS-00097-T_v1_RNA_OnPrem</td>\n",
       "      <td>62.0</td>\n",
       "      <td>0.0</td>\n",
       "      <td>0.0</td>\n",
       "      <td>2.0</td>\n",
       "      <td>707.0</td>\n",
       "      <td>0.0</td>\n",
       "      <td>5.490411</td>\n",
       "      <td>1.374775</td>\n",
       "      <td>...</td>\n",
       "      <td>21.18753</td>\n",
       "      <td>29.25015</td>\n",
       "      <td>29.15373</td>\n",
       "      <td>29.12730</td>\n",
       "      <td>21.32743</td>\n",
       "      <td>29.61188</td>\n",
       "      <td>22.22154</td>\n",
       "      <td>21.9744</td>\n",
       "      <td>21.12857</td>\n",
       "      <td>32.15619</td>\n",
       "    </tr>\n",
       "    <tr>\n",
       "      <th>2</th>\n",
       "      <td>2</td>\n",
       "      <td>G138701_RCCBMS-00141-T_v1_RNA_OnPrem</td>\n",
       "      <td>62.0</td>\n",
       "      <td>0.0</td>\n",
       "      <td>0.0</td>\n",
       "      <td>1.0</td>\n",
       "      <td>707.0</td>\n",
       "      <td>0.0</td>\n",
       "      <td>61.906849</td>\n",
       "      <td>1.374775</td>\n",
       "      <td>...</td>\n",
       "      <td>21.18753</td>\n",
       "      <td>23.03429</td>\n",
       "      <td>29.37858</td>\n",
       "      <td>27.22907</td>\n",
       "      <td>21.32743</td>\n",
       "      <td>31.90343</td>\n",
       "      <td>22.22154</td>\n",
       "      <td>21.9744</td>\n",
       "      <td>21.12857</td>\n",
       "      <td>31.86536</td>\n",
       "    </tr>\n",
       "    <tr>\n",
       "      <th>3</th>\n",
       "      <td>3</td>\n",
       "      <td>G138701_RCCBMS-00099-T_v1_RNA_OnPrem</td>\n",
       "      <td>62.0</td>\n",
       "      <td>0.0</td>\n",
       "      <td>0.0</td>\n",
       "      <td>3.0</td>\n",
       "      <td>707.0</td>\n",
       "      <td>0.0</td>\n",
       "      <td>1.249315</td>\n",
       "      <td>1.374775</td>\n",
       "      <td>...</td>\n",
       "      <td>21.18753</td>\n",
       "      <td>23.03429</td>\n",
       "      <td>30.19136</td>\n",
       "      <td>22.83731</td>\n",
       "      <td>21.32743</td>\n",
       "      <td>30.35424</td>\n",
       "      <td>22.22154</td>\n",
       "      <td>21.9744</td>\n",
       "      <td>21.12857</td>\n",
       "      <td>31.63561</td>\n",
       "    </tr>\n",
       "    <tr>\n",
       "      <th>4</th>\n",
       "      <td>4</td>\n",
       "      <td>G138701_RCCBMS-00163-T_v1_RNA_OnPrem</td>\n",
       "      <td>62.0</td>\n",
       "      <td>0.0</td>\n",
       "      <td>0.0</td>\n",
       "      <td>2.0</td>\n",
       "      <td>707.0</td>\n",
       "      <td>0.0</td>\n",
       "      <td>5.654795</td>\n",
       "      <td>1.374775</td>\n",
       "      <td>...</td>\n",
       "      <td>21.18753</td>\n",
       "      <td>23.03429</td>\n",
       "      <td>31.82172</td>\n",
       "      <td>22.83731</td>\n",
       "      <td>21.32743</td>\n",
       "      <td>31.60946</td>\n",
       "      <td>22.22154</td>\n",
       "      <td>21.9744</td>\n",
       "      <td>21.12857</td>\n",
       "      <td>33.12717</td>\n",
       "    </tr>\n",
       "  </tbody>\n",
       "</table>\n",
       "<p>5 rows × 57 columns</p>\n",
       "</div>"
      ],
      "text/plain": [
       "   Unnamed: 0                                RNA_ID   Age  Sarc  Rhab  \\\n",
       "0           0  G138701_RCCBMS-00020-T_v1_RNA_OnPrem  62.0   0.0   0.0   \n",
       "1           1  G138701_RCCBMS-00097-T_v1_RNA_OnPrem  62.0   0.0   0.0   \n",
       "2           2  G138701_RCCBMS-00141-T_v1_RNA_OnPrem  62.0   0.0   0.0   \n",
       "3           3  G138701_RCCBMS-00099-T_v1_RNA_OnPrem  62.0   0.0   0.0   \n",
       "4           4  G138701_RCCBMS-00163-T_v1_RNA_OnPrem  62.0   0.0   0.0   \n",
       "\n",
       "   Number_of_Prior_Therapies  \\\n",
       "0                        2.0   \n",
       "1                        2.0   \n",
       "2                        1.0   \n",
       "3                        3.0   \n",
       "4                        2.0   \n",
       "\n",
       "   Days_from_TumorSample_Collection_and_Start_of_Trial_Therapy  \\\n",
       "0                                              707.0             \n",
       "1                                              707.0             \n",
       "2                                              707.0             \n",
       "3                                              707.0             \n",
       "4                                              707.0             \n",
       "\n",
       "   Tumor_Shrinkage        PFS  TM_TC_Ratio  ...  RP11-96O20.4  RP5-827C21.1  \\\n",
       "0              0.0  12.164384     1.374775  ...      21.18753      27.40814   \n",
       "1              0.0   5.490411     1.374775  ...      21.18753      29.25015   \n",
       "2              0.0  61.906849     1.374775  ...      21.18753      23.03429   \n",
       "3              0.0   1.249315     1.374775  ...      21.18753      23.03429   \n",
       "4              0.0   5.654795     1.374775  ...      21.18753      23.03429   \n",
       "\n",
       "   RPS12P26   SDR42E1  SNORD113-5    TARBP2    TRAV41  TRIM43B   VN2R17P  \\\n",
       "0  31.71139  30.26124    21.32743  29.60417  22.22154  21.9744  21.12857   \n",
       "1  29.15373  29.12730    21.32743  29.61188  22.22154  21.9744  21.12857   \n",
       "2  29.37858  27.22907    21.32743  31.90343  22.22154  21.9744  21.12857   \n",
       "3  30.19136  22.83731    21.32743  30.35424  22.22154  21.9744  21.12857   \n",
       "4  31.82172  22.83731    21.32743  31.60946  22.22154  21.9744  21.12857   \n",
       "\n",
       "        XPC  \n",
       "0  32.24472  \n",
       "1  32.15619  \n",
       "2  31.86536  \n",
       "3  31.63561  \n",
       "4  33.12717  \n",
       "\n",
       "[5 rows x 57 columns]"
      ]
     },
     "execution_count": 2,
     "metadata": {},
     "output_type": "execute_result"
    }
   ],
   "source": [
    "path ='../../../../Data_preprocessing/Prediction PFS/RNA+Clinic joined/Clinical_data_and_RNA_30_Features_PFS.csv'\n",
    "data = pd.read_csv(path)\n",
    "data.head(5)"
   ]
  },
  {
   "cell_type": "code",
   "execution_count": 3,
   "metadata": {},
   "outputs": [
    {
     "name": "stdout",
     "output_type": "stream",
     "text": [
      "     AC005307.1   ATP5G2P1    DLGAP4  EIF4A1P9  FAM172BP   FAM224A      GJA9  \\\n",
      "0     21.055379  21.300337  34.54982  21.37925  21.62929  21.12373  29.68286   \n",
      "1     21.055379  21.300337  34.06647  21.37925  21.62929  21.12373  26.80539   \n",
      "2     21.055379  21.300337  34.42561  25.08766  29.29206  21.12373  30.09292   \n",
      "3     21.055379  21.300337  34.41176  26.76156  21.62929  21.12373  29.29223   \n",
      "4     21.055379  21.300337  34.29088  21.37925  21.62929  21.12373  32.00382   \n",
      "..          ...        ...       ...       ...       ...       ...       ...   \n",
      "176   20.944668  21.624881  34.55658  21.78113  21.49653  20.98542  28.18967   \n",
      "177   20.944668  21.624881  33.15506  21.78113  21.49653  20.98542  28.18967   \n",
      "178   20.944668  21.624881  34.68047  21.78113  25.64475  23.49110  28.18967   \n",
      "179   20.944668  21.624881  35.60014  21.78113  21.49653  20.98542  33.92530   \n",
      "180   20.944668  21.624881  35.23053  21.78113  21.49653  20.98542  28.18967   \n",
      "\n",
      "       GPR155      GYPE      IL25  ...  RP11-96O20.4  RP5-827C21.1  RPS12P26  \\\n",
      "0    31.81161  23.05703  21.08036  ...      21.18753      27.40814  31.71139   \n",
      "1    31.42781  23.05703  21.08036  ...      21.18753      29.25015  29.15373   \n",
      "2    30.47292  23.05703  21.08036  ...      21.18753      23.03429  29.37858   \n",
      "3    30.72903  23.05703  21.08036  ...      21.18753      23.03429  30.19136   \n",
      "4    31.16114  23.05703  21.08036  ...      21.18753      23.03429  31.82172   \n",
      "..        ...       ...       ...  ...           ...           ...       ...   \n",
      "176  29.90347  26.98353  21.43715  ...      21.02478      25.01085  28.14718   \n",
      "177  31.66030  29.28045  21.43715  ...      21.02478      35.97906  28.14718   \n",
      "178  31.92039  27.09075  21.43715  ...      21.02478      25.01085  28.14718   \n",
      "179  32.78760  21.37426  21.43715  ...      21.02478      25.01085  28.14718   \n",
      "180  30.59097  21.37426  21.43715  ...      21.02478      25.01085  28.14718   \n",
      "\n",
      "      SDR42E1  SNORD113-5    TARBP2    TRAV41  TRIM43B   VN2R17P       XPC  \n",
      "0    30.26124    21.32743  29.60417  22.22154  21.9744  21.12857  32.24472  \n",
      "1    29.12730    21.32743  29.61188  22.22154  21.9744  21.12857  32.15619  \n",
      "2    27.22907    21.32743  31.90343  22.22154  21.9744  21.12857  31.86536  \n",
      "3    22.83731    21.32743  30.35424  22.22154  21.9744  21.12857  31.63561  \n",
      "4    22.83731    21.32743  31.60946  22.22154  21.9744  21.12857  33.12717  \n",
      "..        ...         ...       ...       ...      ...       ...       ...  \n",
      "176  31.49914    21.32619  31.57179  24.54591  22.3863  20.96902  32.70183  \n",
      "177  28.17083    21.32619  34.36199  24.54591  22.3863  20.96902  30.79817  \n",
      "178  24.22162    21.32619  29.30238  24.54591  22.3863  20.96902  32.60750  \n",
      "179  27.21929    21.32619  30.72343  24.54591  22.3863  23.88906  33.35291  \n",
      "180  32.08324    21.32619  31.34356  24.54591  22.3863  20.96902  32.50118  \n",
      "\n",
      "[181 rows x 30 columns]\n",
      "Numero de pacientes:  181\n"
     ]
    }
   ],
   "source": [
    "X = data[['AC005307.1', 'ATP5G2P1', 'DLGAP4', 'EIF4A1P9', 'FAM172BP', 'FAM224A', 'GJA9', 'GPR155', 'GYPE', 'IL25', 'KLHL5', 'LANCL1-AS1', 'LEMD1', 'PCMT1', 'RP11-120J4.1', 'RP11-20G6.3', 'RP11-349G13.2', 'RP11-374M1.2', 'RP11-536C10.21', 'RP11-95G17.2', 'RP11-96O20.4', 'RP5-827C21.1', 'RPS12P26', 'SDR42E1', 'SNORD113-5', 'TARBP2', 'TRAV41', 'TRIM43B', 'VN2R17P', 'XPC']] #Seleccionamos todas las columnas quitando la columna Unnamed (id de la fila ) y la columna Target.\n",
    "\n",
    "Y = [] # Target column\n",
    "# For each entry I classified it by its PFS value.\n",
    "for i in range (len(data)):\n",
    "    if data.PFS[i]<3: # If PFS is lower than 3 months, I will consider it as NonResponder (NR)\n",
    "        Y.append(0)\n",
    "    elif data.PFS[i]<6:\n",
    "        Y.append(1)\n",
    "    else:\n",
    "        Y.append(2)# If PFS is over 3 months, I will consider it as Responder (R)\n",
    "\n",
    "\n",
    "print(X)\n",
    "print('Numero de pacientes: ',len(Y))"
   ]
  },
  {
   "cell_type": "markdown",
   "metadata": {},
   "source": [
    "### 3. Train-Test dataset split"
   ]
  },
  {
   "cell_type": "code",
   "execution_count": 4,
   "metadata": {},
   "outputs": [
    {
     "name": "stdout",
     "output_type": "stream",
     "text": [
      "Training set size: 144\n",
      "Target column size of the training set: 144\n",
      "Test set size: 37\n",
      "Target column size of the test set: 37\n"
     ]
    }
   ],
   "source": [
    "X_train, X_test, y_train, y_test = train_test_split(X, Y, test_size=0.20, random_state=125)\n",
    "\n",
    "print('Training set size:', len(X_train))\n",
    "print('Target column size of the training set:', len(y_train))\n",
    "print('Test set size:', len(X_test))\n",
    "print('Target column size of the test set:', len(y_test))"
   ]
  },
  {
   "cell_type": "markdown",
   "metadata": {},
   "source": [
    "### 4. Select the parameters of the model and fit it"
   ]
  },
  {
   "cell_type": "code",
   "execution_count": 5,
   "metadata": {},
   "outputs": [
    {
     "name": "stderr",
     "output_type": "stream",
     "text": [
      "C:\\Users\\sandr\\anaconda3\\lib\\site-packages\\sklearn\\utils\\optimize.py:202: ConvergenceWarning: newton-cg failed to converge. Increase the number of iterations.\n",
      "  warnings.warn(\"newton-cg failed to converge. Increase the \"\n",
      "C:\\Users\\sandr\\anaconda3\\lib\\site-packages\\sklearn\\utils\\optimize.py:202: ConvergenceWarning: newton-cg failed to converge. Increase the number of iterations.\n",
      "  warnings.warn(\"newton-cg failed to converge. Increase the \"\n",
      "C:\\Users\\sandr\\anaconda3\\lib\\site-packages\\sklearn\\utils\\optimize.py:202: ConvergenceWarning: newton-cg failed to converge. Increase the number of iterations.\n",
      "  warnings.warn(\"newton-cg failed to converge. Increase the \"\n",
      "C:\\Users\\sandr\\anaconda3\\lib\\site-packages\\sklearn\\utils\\optimize.py:202: ConvergenceWarning: newton-cg failed to converge. Increase the number of iterations.\n",
      "  warnings.warn(\"newton-cg failed to converge. Increase the \"\n",
      "C:\\Users\\sandr\\anaconda3\\lib\\site-packages\\sklearn\\utils\\optimize.py:202: ConvergenceWarning: newton-cg failed to converge. Increase the number of iterations.\n",
      "  warnings.warn(\"newton-cg failed to converge. Increase the \"\n",
      "C:\\Users\\sandr\\anaconda3\\lib\\site-packages\\sklearn\\utils\\optimize.py:202: ConvergenceWarning: newton-cg failed to converge. Increase the number of iterations.\n",
      "  warnings.warn(\"newton-cg failed to converge. Increase the \"\n",
      "C:\\Users\\sandr\\anaconda3\\lib\\site-packages\\sklearn\\utils\\optimize.py:202: ConvergenceWarning: newton-cg failed to converge. Increase the number of iterations.\n",
      "  warnings.warn(\"newton-cg failed to converge. Increase the \"\n",
      "C:\\Users\\sandr\\anaconda3\\lib\\site-packages\\sklearn\\utils\\optimize.py:202: ConvergenceWarning: newton-cg failed to converge. Increase the number of iterations.\n",
      "  warnings.warn(\"newton-cg failed to converge. Increase the \"\n",
      "C:\\Users\\sandr\\anaconda3\\lib\\site-packages\\sklearn\\utils\\optimize.py:202: ConvergenceWarning: newton-cg failed to converge. Increase the number of iterations.\n",
      "  warnings.warn(\"newton-cg failed to converge. Increase the \"\n",
      "C:\\Users\\sandr\\anaconda3\\lib\\site-packages\\sklearn\\utils\\optimize.py:202: ConvergenceWarning: newton-cg failed to converge. Increase the number of iterations.\n",
      "  warnings.warn(\"newton-cg failed to converge. Increase the \"\n",
      "C:\\Users\\sandr\\anaconda3\\lib\\site-packages\\sklearn\\utils\\optimize.py:202: ConvergenceWarning: newton-cg failed to converge. Increase the number of iterations.\n",
      "  warnings.warn(\"newton-cg failed to converge. Increase the \"\n",
      "C:\\Users\\sandr\\anaconda3\\lib\\site-packages\\sklearn\\utils\\optimize.py:202: ConvergenceWarning: newton-cg failed to converge. Increase the number of iterations.\n",
      "  warnings.warn(\"newton-cg failed to converge. Increase the \"\n",
      "C:\\Users\\sandr\\anaconda3\\lib\\site-packages\\sklearn\\utils\\optimize.py:202: ConvergenceWarning: newton-cg failed to converge. Increase the number of iterations.\n",
      "  warnings.warn(\"newton-cg failed to converge. Increase the \"\n",
      "C:\\Users\\sandr\\anaconda3\\lib\\site-packages\\sklearn\\utils\\optimize.py:202: ConvergenceWarning: newton-cg failed to converge. Increase the number of iterations.\n",
      "  warnings.warn(\"newton-cg failed to converge. Increase the \"\n",
      "C:\\Users\\sandr\\anaconda3\\lib\\site-packages\\sklearn\\utils\\optimize.py:202: ConvergenceWarning: newton-cg failed to converge. Increase the number of iterations.\n",
      "  warnings.warn(\"newton-cg failed to converge. Increase the \"\n",
      "C:\\Users\\sandr\\anaconda3\\lib\\site-packages\\sklearn\\utils\\optimize.py:202: ConvergenceWarning: newton-cg failed to converge. Increase the number of iterations.\n",
      "  warnings.warn(\"newton-cg failed to converge. Increase the \"\n",
      "C:\\Users\\sandr\\anaconda3\\lib\\site-packages\\sklearn\\utils\\optimize.py:202: ConvergenceWarning: newton-cg failed to converge. Increase the number of iterations.\n",
      "  warnings.warn(\"newton-cg failed to converge. Increase the \"\n",
      "C:\\Users\\sandr\\anaconda3\\lib\\site-packages\\sklearn\\utils\\optimize.py:202: ConvergenceWarning: newton-cg failed to converge. Increase the number of iterations.\n",
      "  warnings.warn(\"newton-cg failed to converge. Increase the \"\n",
      "C:\\Users\\sandr\\anaconda3\\lib\\site-packages\\sklearn\\utils\\optimize.py:202: ConvergenceWarning: newton-cg failed to converge. Increase the number of iterations.\n",
      "  warnings.warn(\"newton-cg failed to converge. Increase the \"\n",
      "C:\\Users\\sandr\\anaconda3\\lib\\site-packages\\sklearn\\utils\\optimize.py:202: ConvergenceWarning: newton-cg failed to converge. Increase the number of iterations.\n",
      "  warnings.warn(\"newton-cg failed to converge. Increase the \"\n",
      "C:\\Users\\sandr\\anaconda3\\lib\\site-packages\\sklearn\\utils\\optimize.py:202: ConvergenceWarning: newton-cg failed to converge. Increase the number of iterations.\n",
      "  warnings.warn(\"newton-cg failed to converge. Increase the \"\n",
      "C:\\Users\\sandr\\anaconda3\\lib\\site-packages\\sklearn\\utils\\optimize.py:202: ConvergenceWarning: newton-cg failed to converge. Increase the number of iterations.\n",
      "  warnings.warn(\"newton-cg failed to converge. Increase the \"\n",
      "C:\\Users\\sandr\\anaconda3\\lib\\site-packages\\sklearn\\utils\\optimize.py:202: ConvergenceWarning: newton-cg failed to converge. Increase the number of iterations.\n",
      "  warnings.warn(\"newton-cg failed to converge. Increase the \"\n",
      "C:\\Users\\sandr\\anaconda3\\lib\\site-packages\\sklearn\\utils\\optimize.py:202: ConvergenceWarning: newton-cg failed to converge. Increase the number of iterations.\n",
      "  warnings.warn(\"newton-cg failed to converge. Increase the \"\n",
      "C:\\Users\\sandr\\anaconda3\\lib\\site-packages\\sklearn\\svm\\_base.py:985: ConvergenceWarning: Liblinear failed to converge, increase the number of iterations.\n",
      "  warnings.warn(\"Liblinear failed to converge, increase \"\n",
      "C:\\Users\\sandr\\anaconda3\\lib\\site-packages\\sklearn\\utils\\optimize.py:202: ConvergenceWarning: newton-cg failed to converge. Increase the number of iterations.\n",
      "  warnings.warn(\"newton-cg failed to converge. Increase the \"\n",
      "C:\\Users\\sandr\\anaconda3\\lib\\site-packages\\sklearn\\utils\\optimize.py:202: ConvergenceWarning: newton-cg failed to converge. Increase the number of iterations.\n",
      "  warnings.warn(\"newton-cg failed to converge. Increase the \"\n",
      "C:\\Users\\sandr\\anaconda3\\lib\\site-packages\\sklearn\\utils\\optimize.py:202: ConvergenceWarning: newton-cg failed to converge. Increase the number of iterations.\n",
      "  warnings.warn(\"newton-cg failed to converge. Increase the \"\n",
      "C:\\Users\\sandr\\anaconda3\\lib\\site-packages\\sklearn\\utils\\optimize.py:202: ConvergenceWarning: newton-cg failed to converge. Increase the number of iterations.\n",
      "  warnings.warn(\"newton-cg failed to converge. Increase the \"\n",
      "C:\\Users\\sandr\\anaconda3\\lib\\site-packages\\sklearn\\utils\\optimize.py:202: ConvergenceWarning: newton-cg failed to converge. Increase the number of iterations.\n",
      "  warnings.warn(\"newton-cg failed to converge. Increase the \"\n",
      "C:\\Users\\sandr\\anaconda3\\lib\\site-packages\\sklearn\\utils\\optimize.py:202: ConvergenceWarning: newton-cg failed to converge. Increase the number of iterations.\n",
      "  warnings.warn(\"newton-cg failed to converge. Increase the \"\n",
      "C:\\Users\\sandr\\anaconda3\\lib\\site-packages\\sklearn\\utils\\optimize.py:202: ConvergenceWarning: newton-cg failed to converge. Increase the number of iterations.\n",
      "  warnings.warn(\"newton-cg failed to converge. Increase the \"\n",
      "C:\\Users\\sandr\\anaconda3\\lib\\site-packages\\sklearn\\utils\\optimize.py:202: ConvergenceWarning: newton-cg failed to converge. Increase the number of iterations.\n",
      "  warnings.warn(\"newton-cg failed to converge. Increase the \"\n",
      "C:\\Users\\sandr\\anaconda3\\lib\\site-packages\\sklearn\\utils\\optimize.py:202: ConvergenceWarning: newton-cg failed to converge. Increase the number of iterations.\n",
      "  warnings.warn(\"newton-cg failed to converge. Increase the \"\n",
      "C:\\Users\\sandr\\anaconda3\\lib\\site-packages\\sklearn\\utils\\optimize.py:202: ConvergenceWarning: newton-cg failed to converge. Increase the number of iterations.\n",
      "  warnings.warn(\"newton-cg failed to converge. Increase the \"\n",
      "C:\\Users\\sandr\\anaconda3\\lib\\site-packages\\sklearn\\svm\\_base.py:985: ConvergenceWarning: Liblinear failed to converge, increase the number of iterations.\n",
      "  warnings.warn(\"Liblinear failed to converge, increase \"\n",
      "C:\\Users\\sandr\\anaconda3\\lib\\site-packages\\sklearn\\utils\\optimize.py:202: ConvergenceWarning: newton-cg failed to converge. Increase the number of iterations.\n",
      "  warnings.warn(\"newton-cg failed to converge. Increase the \"\n",
      "C:\\Users\\sandr\\anaconda3\\lib\\site-packages\\sklearn\\utils\\optimize.py:202: ConvergenceWarning: newton-cg failed to converge. Increase the number of iterations.\n",
      "  warnings.warn(\"newton-cg failed to converge. Increase the \"\n",
      "C:\\Users\\sandr\\anaconda3\\lib\\site-packages\\sklearn\\utils\\optimize.py:202: ConvergenceWarning: newton-cg failed to converge. Increase the number of iterations.\n",
      "  warnings.warn(\"newton-cg failed to converge. Increase the \"\n",
      "C:\\Users\\sandr\\anaconda3\\lib\\site-packages\\sklearn\\utils\\optimize.py:202: ConvergenceWarning: newton-cg failed to converge. Increase the number of iterations.\n",
      "  warnings.warn(\"newton-cg failed to converge. Increase the \"\n",
      "C:\\Users\\sandr\\anaconda3\\lib\\site-packages\\sklearn\\utils\\optimize.py:202: ConvergenceWarning: newton-cg failed to converge. Increase the number of iterations.\n",
      "  warnings.warn(\"newton-cg failed to converge. Increase the \"\n",
      "C:\\Users\\sandr\\anaconda3\\lib\\site-packages\\sklearn\\utils\\optimize.py:202: ConvergenceWarning: newton-cg failed to converge. Increase the number of iterations.\n",
      "  warnings.warn(\"newton-cg failed to converge. Increase the \"\n",
      "C:\\Users\\sandr\\anaconda3\\lib\\site-packages\\sklearn\\utils\\optimize.py:202: ConvergenceWarning: newton-cg failed to converge. Increase the number of iterations.\n",
      "  warnings.warn(\"newton-cg failed to converge. Increase the \"\n",
      "C:\\Users\\sandr\\anaconda3\\lib\\site-packages\\sklearn\\utils\\optimize.py:202: ConvergenceWarning: newton-cg failed to converge. Increase the number of iterations.\n",
      "  warnings.warn(\"newton-cg failed to converge. Increase the \"\n",
      "C:\\Users\\sandr\\anaconda3\\lib\\site-packages\\sklearn\\utils\\optimize.py:202: ConvergenceWarning: newton-cg failed to converge. Increase the number of iterations.\n",
      "  warnings.warn(\"newton-cg failed to converge. Increase the \"\n",
      "C:\\Users\\sandr\\anaconda3\\lib\\site-packages\\sklearn\\utils\\optimize.py:202: ConvergenceWarning: newton-cg failed to converge. Increase the number of iterations.\n",
      "  warnings.warn(\"newton-cg failed to converge. Increase the \"\n",
      "C:\\Users\\sandr\\anaconda3\\lib\\site-packages\\sklearn\\svm\\_base.py:985: ConvergenceWarning: Liblinear failed to converge, increase the number of iterations.\n",
      "  warnings.warn(\"Liblinear failed to converge, increase \"\n",
      "C:\\Users\\sandr\\anaconda3\\lib\\site-packages\\sklearn\\svm\\_base.py:985: ConvergenceWarning: Liblinear failed to converge, increase the number of iterations.\n",
      "  warnings.warn(\"Liblinear failed to converge, increase \"\n",
      "C:\\Users\\sandr\\anaconda3\\lib\\site-packages\\sklearn\\utils\\optimize.py:202: ConvergenceWarning: newton-cg failed to converge. Increase the number of iterations.\n",
      "  warnings.warn(\"newton-cg failed to converge. Increase the \"\n",
      "C:\\Users\\sandr\\anaconda3\\lib\\site-packages\\sklearn\\utils\\optimize.py:202: ConvergenceWarning: newton-cg failed to converge. Increase the number of iterations.\n",
      "  warnings.warn(\"newton-cg failed to converge. Increase the \"\n",
      "C:\\Users\\sandr\\anaconda3\\lib\\site-packages\\sklearn\\utils\\optimize.py:202: ConvergenceWarning: newton-cg failed to converge. Increase the number of iterations.\n",
      "  warnings.warn(\"newton-cg failed to converge. Increase the \"\n",
      "C:\\Users\\sandr\\anaconda3\\lib\\site-packages\\sklearn\\utils\\optimize.py:202: ConvergenceWarning: newton-cg failed to converge. Increase the number of iterations.\n",
      "  warnings.warn(\"newton-cg failed to converge. Increase the \"\n",
      "C:\\Users\\sandr\\anaconda3\\lib\\site-packages\\sklearn\\utils\\optimize.py:202: ConvergenceWarning: newton-cg failed to converge. Increase the number of iterations.\n",
      "  warnings.warn(\"newton-cg failed to converge. Increase the \"\n"
     ]
    },
    {
     "data": {
      "text/plain": [
       "GridSearchCV(cv=5, estimator=LogisticRegression(),\n",
       "             param_grid={'C': [1, 2, 5, 7, 10],\n",
       "                         'max_iter': [25, 50, 100, 200, 500, 1000],\n",
       "                         'random_state': [125],\n",
       "                         'solver': ['newton-cg', 'liblinear']})"
      ]
     },
     "execution_count": 5,
     "metadata": {},
     "output_type": "execute_result"
    }
   ],
   "source": [
    "param_grid = {'C': [1,2,5,7,10],\n",
    "            'solver': ['newton-cg','liblinear'], \n",
    "            'max_iter':[25,50,100,200,500,1000],\n",
    "            'random_state':[125]}\n",
    "\n",
    "# I created a GridSearchCV which allows us to systematically evaluate and select the parameters of our model.\n",
    "# By indicating a model and the parameters to test, you can evaluate the performance of the first one based on the\n",
    "# seconds through cross validation.\n",
    "clf = GridSearchCV(LogisticRegression(), param_grid, cv = 5)\n",
    "clf.fit(X_train , y_train)"
   ]
  },
  {
   "cell_type": "code",
   "execution_count": 6,
   "metadata": {},
   "outputs": [
    {
     "name": "stdout",
     "output_type": "stream",
     "text": [
      "Best estimate of parameters according to GridSearchCV:\n"
     ]
    },
    {
     "data": {
      "text/plain": [
       "LogisticRegression(C=10, random_state=125, solver='newton-cg')"
      ]
     },
     "execution_count": 6,
     "metadata": {},
     "output_type": "execute_result"
    }
   ],
   "source": [
    "print(\"Best estimate of parameters according to GridSearchCV:\")\n",
    "model = clf.best_estimator_\n",
    "# Fit the model with the best parameters\n",
    "model.fit(X_train , y_train)"
   ]
  },
  {
   "cell_type": "code",
   "execution_count": 7,
   "metadata": {},
   "outputs": [
    {
     "name": "stdout",
     "output_type": "stream",
     "text": [
      "Best result of the cross validation of the model with the best paramters:0.7091133004926109\n"
     ]
    }
   ],
   "source": [
    "print(\"Best result of the cross validation of the model with the best paramters:\" +str(clf.best_score_))"
   ]
  },
  {
   "cell_type": "markdown",
   "metadata": {},
   "source": [
    "### 5. Prediction"
   ]
  },
  {
   "cell_type": "code",
   "execution_count": 8,
   "metadata": {},
   "outputs": [],
   "source": [
    "# Making predictions with the optimal model on the training dataset\n",
    "yhatTrain = model.predict(X_train)\n",
    "contTrain = 0\n",
    "\n",
    "# Comparing with the Target column and check how many hits there have been\n",
    "for i in range(0,len(y_train),1) :\n",
    "    if (yhatTrain[i] == y_train[i]):\n",
    "        contTrain = contTrain + 1"
   ]
  },
  {
   "cell_type": "code",
   "execution_count": 9,
   "metadata": {},
   "outputs": [],
   "source": [
    "# Making predictions with the optimal model on the test dataset\n",
    "yhatTest = model.predict(X_test)\n",
    "contTest = 0\n",
    "\n",
    "# Comparing with the Target column and check how many hits there have been\n",
    "for i in range(0,len(y_test),1) :\n",
    "    if (yhatTest[i] == y_test[i]):\n",
    "        contTest = contTest + 1"
   ]
  },
  {
   "cell_type": "markdown",
   "metadata": {},
   "source": [
    "### 6. Results"
   ]
  },
  {
   "cell_type": "code",
   "execution_count": 10,
   "metadata": {},
   "outputs": [
    {
     "name": "stdout",
     "output_type": "stream",
     "text": [
      "Final accuracy on the training dataset: 0.8819444444444444\n",
      "Final accuracy on the testing dataset: 0.5945945945945946\n"
     ]
    }
   ],
   "source": [
    "print('Final accuracy on the training dataset: ' + str(contTrain/len(y_train)))\n",
    "print('Final accuracy on the testing dataset: ' + str(contTest/len(y_test)))"
   ]
  },
  {
   "cell_type": "code",
   "execution_count": 11,
   "metadata": {},
   "outputs": [
    {
     "name": "stdout",
     "output_type": "stream",
     "text": [
      "----------------Confusion Matrix (Training)------------------\n",
      "[[65  0  0]\n",
      " [ 0 16 12]\n",
      " [ 0  5 46]]\n",
      "Input data:  [0 2 1 1 1 1 0 2 0 1 2 2 1 0 2 0 2 0 0 0 2 1 0 0 2 2 0 1 0 0 1 1 0 2 1 0 1\n",
      " 2 0 2 2 0 0 1 0 1 1 0 1 0 0 1 0 0 0 2 0 2 0 2 1 0 2 2 0 2 2 2 0 2 0 2 0 2\n",
      " 2 0 0 2 0 0 1 2 1 0 0 0 0 2 1 2 2 0 0 2 2 2 2 0 0 0 2 0 2 0 0 0 0 1 0 2 0\n",
      " 2 0 2 1 0 0 0 0 1 2 2 0 2 0 2 2 0 1 2 0 1 2 0 0 2 2 1 2 1 2 2 0 0]\n",
      "Prediction:        [0 2 2 1 1 2 0 2 0 2 2 2 1 0 1 0 2 0 0 0 2 2 0 0 1 2 0 1 0 0 1 2 0 2 1 0 1\n",
      " 2 0 2 2 0 0 1 0 1 1 0 2 0 0 2 0 0 0 2 0 2 0 2 2 0 2 2 0 2 2 1 0 2 0 2 0 2\n",
      " 2 0 0 2 0 0 2 2 2 0 0 0 0 2 1 1 2 0 0 2 2 2 2 0 0 0 2 0 2 0 0 0 0 1 0 2 0\n",
      " 2 0 2 1 0 0 0 0 2 2 1 0 2 0 2 2 0 1 2 0 2 2 0 0 2 2 1 2 1 2 2 0 0]\n"
     ]
    }
   ],
   "source": [
    "from sklearn.metrics import classification_report,confusion_matrix\n",
    "print('----------------Confusion Matrix (Training)------------------')\n",
    "print(confusion_matrix(y_train,yhatTrain))\n",
    "print('Input data:  ' + str(np.array(y_train)))\n",
    "print('Prediction:        ' +str(yhatTrain))"
   ]
  },
  {
   "cell_type": "code",
   "execution_count": 12,
   "metadata": {},
   "outputs": [
    {
     "name": "stdout",
     "output_type": "stream",
     "text": [
      "              precision    recall  f1-score   support\n",
      "\n",
      "           0       1.00      1.00      1.00        65\n",
      "           1       0.76      0.57      0.65        28\n",
      "           2       0.79      0.90      0.84        51\n",
      "\n",
      "    accuracy                           0.88       144\n",
      "   macro avg       0.85      0.82      0.83       144\n",
      "weighted avg       0.88      0.88      0.88       144\n",
      "\n"
     ]
    }
   ],
   "source": [
    "print(classification_report(y_train,yhatTrain))"
   ]
  },
  {
   "cell_type": "code",
   "execution_count": 13,
   "metadata": {},
   "outputs": [
    {
     "name": "stdout",
     "output_type": "stream",
     "text": [
      "----------------Confusion Matrix (Test)------------------\n",
      "[[13  6  1]\n",
      " [ 1  2  0]\n",
      " [ 2  5  7]]\n",
      "Input data:  [1 0 0 2 2 1 0 2 2 2 0 0 0 0 0 0 2 0 1 0 0 0 0 2 0 0 2 2 2 0 0 2 0 0 2 2 2]\n",
      "Prediction:        [1 0 0 1 2 1 0 2 2 1 0 0 1 1 0 0 0 0 0 0 2 0 1 0 0 0 2 1 2 1 1 2 1 0 2 1 1]\n"
     ]
    }
   ],
   "source": [
    "from sklearn.metrics import confusion_matrix\n",
    "confusion_matrix = confusion_matrix(y_test, yhatTest)\n",
    "print('----------------Confusion Matrix (Test)------------------')\n",
    "print(confusion_matrix)\n",
    "print('Input data:  ' + str(np.array(y_test)))\n",
    "print('Prediction:        ' +str(yhatTest))"
   ]
  },
  {
   "cell_type": "code",
   "execution_count": 14,
   "metadata": {},
   "outputs": [
    {
     "name": "stdout",
     "output_type": "stream",
     "text": [
      "              precision    recall  f1-score   support\n",
      "\n",
      "           0       0.81      0.65      0.72        20\n",
      "           1       0.15      0.67      0.25         3\n",
      "           2       0.88      0.50      0.64        14\n",
      "\n",
      "    accuracy                           0.59        37\n",
      "   macro avg       0.61      0.61      0.54        37\n",
      "weighted avg       0.78      0.59      0.65        37\n",
      "\n"
     ]
    }
   ],
   "source": [
    "print(classification_report(y_test, yhatTest))"
   ]
  },
  {
   "cell_type": "markdown",
   "metadata": {},
   "source": [
    "*Everolimus test*"
   ]
  },
  {
   "cell_type": "code",
   "execution_count": 15,
   "metadata": {},
   "outputs": [],
   "source": [
    "path ='../../../../Data_preprocessing/Testing with everolimus/RNA+Clinic joined/Clinical_data_and_RNA_30_Features_everolimus.csv'\n",
    "data = pd.read_csv(path)\n",
    "\n",
    "Y = [] # Target column\n",
    "# For each entry I classified it by its PFS value.\n",
    "for i in range (len(data)):\n",
    "    if data.PFS[i]<3: # If PFS is lower than 3 months, I will consider it as NonResponder (NR)\n",
    "        Y.append(0)\n",
    "    elif data.PFS[i]<6:\n",
    "        Y.append(1)\n",
    "    else:\n",
    "        Y.append(2)# If PFS is over 3 months, I will consider it as Responder (R)\n",
    "data= data[['AC005307.1', 'ATP5G2P1', 'DLGAP4', 'EIF4A1P9', 'FAM172BP', 'FAM224A', 'GJA9', 'GPR155', 'GYPE', 'IL25', 'KLHL5', 'LANCL1-AS1', 'LEMD1', 'PCMT1', 'RP11-120J4.1', 'RP11-20G6.3', 'RP11-349G13.2', 'RP11-374M1.2', 'RP11-536C10.21', 'RP11-95G17.2', 'RP11-96O20.4', 'RP5-827C21.1', 'RPS12P26', 'SDR42E1', 'SNORD113-5', 'TARBP2', 'TRAV41', 'TRIM43B', 'VN2R17P', 'XPC']] #Seleccionamos todas las columnas quitando la columna Unnamed (id de la fila ) y la columna Target.\n"
   ]
  },
  {
   "cell_type": "code",
   "execution_count": 16,
   "metadata": {},
   "outputs": [
    {
     "data": {
      "text/html": [
       "<div>\n",
       "<style scoped>\n",
       "    .dataframe tbody tr th:only-of-type {\n",
       "        vertical-align: middle;\n",
       "    }\n",
       "\n",
       "    .dataframe tbody tr th {\n",
       "        vertical-align: top;\n",
       "    }\n",
       "\n",
       "    .dataframe thead th {\n",
       "        text-align: right;\n",
       "    }\n",
       "</style>\n",
       "<table border=\"1\" class=\"dataframe\">\n",
       "  <thead>\n",
       "    <tr style=\"text-align: right;\">\n",
       "      <th></th>\n",
       "      <th>AC005307.1</th>\n",
       "      <th>ATP5G2P1</th>\n",
       "      <th>DLGAP4</th>\n",
       "      <th>EIF4A1P9</th>\n",
       "      <th>FAM172BP</th>\n",
       "      <th>FAM224A</th>\n",
       "      <th>GJA9</th>\n",
       "      <th>GPR155</th>\n",
       "      <th>GYPE</th>\n",
       "      <th>IL25</th>\n",
       "      <th>...</th>\n",
       "      <th>RP11-96O20.4</th>\n",
       "      <th>RP5-827C21.1</th>\n",
       "      <th>RPS12P26</th>\n",
       "      <th>SDR42E1</th>\n",
       "      <th>SNORD113-5</th>\n",
       "      <th>TARBP2</th>\n",
       "      <th>TRAV41</th>\n",
       "      <th>TRIM43B</th>\n",
       "      <th>VN2R17P</th>\n",
       "      <th>XPC</th>\n",
       "    </tr>\n",
       "  </thead>\n",
       "  <tbody>\n",
       "    <tr>\n",
       "      <th>0</th>\n",
       "      <td>20.963165</td>\n",
       "      <td>20.718850</td>\n",
       "      <td>34.41635</td>\n",
       "      <td>23.50908</td>\n",
       "      <td>24.03405</td>\n",
       "      <td>20.93744</td>\n",
       "      <td>29.63958</td>\n",
       "      <td>30.08575</td>\n",
       "      <td>26.97656</td>\n",
       "      <td>26.08443</td>\n",
       "      <td>...</td>\n",
       "      <td>20.77248</td>\n",
       "      <td>27.09131</td>\n",
       "      <td>31.45042</td>\n",
       "      <td>28.23012</td>\n",
       "      <td>21.27932</td>\n",
       "      <td>31.08288</td>\n",
       "      <td>25.86902</td>\n",
       "      <td>25.51490</td>\n",
       "      <td>20.93829</td>\n",
       "      <td>31.96084</td>\n",
       "    </tr>\n",
       "    <tr>\n",
       "      <th>1</th>\n",
       "      <td>21.013460</td>\n",
       "      <td>21.007349</td>\n",
       "      <td>34.33893</td>\n",
       "      <td>21.04557</td>\n",
       "      <td>21.20204</td>\n",
       "      <td>20.99973</td>\n",
       "      <td>30.54071</td>\n",
       "      <td>30.60887</td>\n",
       "      <td>24.57898</td>\n",
       "      <td>20.96655</td>\n",
       "      <td>...</td>\n",
       "      <td>21.03524</td>\n",
       "      <td>26.79393</td>\n",
       "      <td>28.60666</td>\n",
       "      <td>27.55631</td>\n",
       "      <td>20.88605</td>\n",
       "      <td>30.93771</td>\n",
       "      <td>29.24738</td>\n",
       "      <td>23.29578</td>\n",
       "      <td>20.99449</td>\n",
       "      <td>32.62522</td>\n",
       "    </tr>\n",
       "    <tr>\n",
       "      <th>2</th>\n",
       "      <td>21.013460</td>\n",
       "      <td>27.386479</td>\n",
       "      <td>34.45158</td>\n",
       "      <td>26.25294</td>\n",
       "      <td>21.20204</td>\n",
       "      <td>20.99973</td>\n",
       "      <td>29.82444</td>\n",
       "      <td>30.71780</td>\n",
       "      <td>21.21382</td>\n",
       "      <td>20.96655</td>\n",
       "      <td>...</td>\n",
       "      <td>21.03524</td>\n",
       "      <td>25.96827</td>\n",
       "      <td>29.55728</td>\n",
       "      <td>28.44482</td>\n",
       "      <td>20.88605</td>\n",
       "      <td>32.20350</td>\n",
       "      <td>30.68048</td>\n",
       "      <td>20.68433</td>\n",
       "      <td>20.99449</td>\n",
       "      <td>32.66731</td>\n",
       "    </tr>\n",
       "    <tr>\n",
       "      <th>3</th>\n",
       "      <td>21.013460</td>\n",
       "      <td>21.007349</td>\n",
       "      <td>34.07963</td>\n",
       "      <td>21.04557</td>\n",
       "      <td>25.10356</td>\n",
       "      <td>20.99973</td>\n",
       "      <td>31.42091</td>\n",
       "      <td>32.16349</td>\n",
       "      <td>28.36112</td>\n",
       "      <td>23.22419</td>\n",
       "      <td>...</td>\n",
       "      <td>21.03524</td>\n",
       "      <td>26.26191</td>\n",
       "      <td>28.32744</td>\n",
       "      <td>30.92530</td>\n",
       "      <td>20.88605</td>\n",
       "      <td>30.41685</td>\n",
       "      <td>29.69705</td>\n",
       "      <td>23.83079</td>\n",
       "      <td>20.99449</td>\n",
       "      <td>32.59007</td>\n",
       "    </tr>\n",
       "    <tr>\n",
       "      <th>4</th>\n",
       "      <td>21.013460</td>\n",
       "      <td>21.007349</td>\n",
       "      <td>33.36643</td>\n",
       "      <td>23.43899</td>\n",
       "      <td>21.20204</td>\n",
       "      <td>20.99973</td>\n",
       "      <td>28.36247</td>\n",
       "      <td>31.47725</td>\n",
       "      <td>29.94586</td>\n",
       "      <td>24.52277</td>\n",
       "      <td>...</td>\n",
       "      <td>21.03524</td>\n",
       "      <td>25.45149</td>\n",
       "      <td>29.25251</td>\n",
       "      <td>29.51644</td>\n",
       "      <td>20.88605</td>\n",
       "      <td>31.69236</td>\n",
       "      <td>21.47750</td>\n",
       "      <td>20.68433</td>\n",
       "      <td>20.99449</td>\n",
       "      <td>32.31981</td>\n",
       "    </tr>\n",
       "  </tbody>\n",
       "</table>\n",
       "<p>5 rows × 30 columns</p>\n",
       "</div>"
      ],
      "text/plain": [
       "   AC005307.1   ATP5G2P1    DLGAP4  EIF4A1P9  FAM172BP   FAM224A      GJA9  \\\n",
       "0   20.963165  20.718850  34.41635  23.50908  24.03405  20.93744  29.63958   \n",
       "1   21.013460  21.007349  34.33893  21.04557  21.20204  20.99973  30.54071   \n",
       "2   21.013460  27.386479  34.45158  26.25294  21.20204  20.99973  29.82444   \n",
       "3   21.013460  21.007349  34.07963  21.04557  25.10356  20.99973  31.42091   \n",
       "4   21.013460  21.007349  33.36643  23.43899  21.20204  20.99973  28.36247   \n",
       "\n",
       "     GPR155      GYPE      IL25  ...  RP11-96O20.4  RP5-827C21.1  RPS12P26  \\\n",
       "0  30.08575  26.97656  26.08443  ...      20.77248      27.09131  31.45042   \n",
       "1  30.60887  24.57898  20.96655  ...      21.03524      26.79393  28.60666   \n",
       "2  30.71780  21.21382  20.96655  ...      21.03524      25.96827  29.55728   \n",
       "3  32.16349  28.36112  23.22419  ...      21.03524      26.26191  28.32744   \n",
       "4  31.47725  29.94586  24.52277  ...      21.03524      25.45149  29.25251   \n",
       "\n",
       "    SDR42E1  SNORD113-5    TARBP2    TRAV41   TRIM43B   VN2R17P       XPC  \n",
       "0  28.23012    21.27932  31.08288  25.86902  25.51490  20.93829  31.96084  \n",
       "1  27.55631    20.88605  30.93771  29.24738  23.29578  20.99449  32.62522  \n",
       "2  28.44482    20.88605  32.20350  30.68048  20.68433  20.99449  32.66731  \n",
       "3  30.92530    20.88605  30.41685  29.69705  23.83079  20.99449  32.59007  \n",
       "4  29.51644    20.88605  31.69236  21.47750  20.68433  20.99449  32.31981  \n",
       "\n",
       "[5 rows x 30 columns]"
      ]
     },
     "execution_count": 16,
     "metadata": {},
     "output_type": "execute_result"
    }
   ],
   "source": [
    "data.head(5)"
   ]
  },
  {
   "cell_type": "code",
   "execution_count": 17,
   "metadata": {},
   "outputs": [
    {
     "name": "stdout",
     "output_type": "stream",
     "text": [
      "Final accuracy on the testing dataset: 0.676923076923077\n"
     ]
    }
   ],
   "source": [
    "# Making predictions with the optimal model on the test dataset\n",
    "yhatTest = model.predict(data)\n",
    "contTest = 0\n",
    "\n",
    "# Comparing with the Target column and check how many hits there have been\n",
    "for i in range(0,len(Y),1) :\n",
    "    if (yhatTest[i] == Y[i]):\n",
    "        contTest = contTest + 1\n",
    "\n",
    "print('Final accuracy on the testing dataset: ' + str(contTest/len(Y)))"
   ]
  }
 ],
 "metadata": {
  "interpreter": {
   "hash": "173607e09da2ffe2d433f1218cab6faa8c4cbe5c89eb01ef45bf4a279737dd84"
  },
  "kernelspec": {
   "display_name": "Python 3.8.8 ('base')",
   "language": "python",
   "name": "python3"
  },
  "language_info": {
   "codemirror_mode": {
    "name": "ipython",
    "version": 3
   },
   "file_extension": ".py",
   "mimetype": "text/x-python",
   "name": "python",
   "nbconvert_exporter": "python",
   "pygments_lexer": "ipython3",
   "version": "3.8.8"
  },
  "orig_nbformat": 4
 },
 "nbformat": 4,
 "nbformat_minor": 2
}
