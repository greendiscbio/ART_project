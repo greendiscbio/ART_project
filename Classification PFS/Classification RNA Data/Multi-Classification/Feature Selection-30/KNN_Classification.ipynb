{
 "cells": [
  {
   "cell_type": "markdown",
   "metadata": {},
   "source": [
    "# Classification model using KNNN"
   ]
  },
  {
   "cell_type": "markdown",
   "metadata": {},
   "source": [
    "### 1. Import libraries"
   ]
  },
  {
   "cell_type": "code",
   "execution_count": 1,
   "metadata": {},
   "outputs": [],
   "source": [
    "import pandas as pd\n",
    "from sklearn import neighbors\n",
    "import matplotlib.pyplot as plt\n",
    "from sklearn.model_selection import train_test_split\n",
    "from sklearn import neighbors\n",
    "from sklearn.neighbors import KNeighborsClassifier\n",
    "from sklearn.metrics import accuracy_score\n",
    "import numpy as np\n",
    "from scipy.spatial import distance\n",
    "from sklearn import model_selection"
   ]
  },
  {
   "cell_type": "markdown",
   "metadata": {},
   "source": [
    "### 2. Upload RNA data"
   ]
  },
  {
   "cell_type": "code",
   "execution_count": 2,
   "metadata": {},
   "outputs": [
    {
     "data": {
      "text/html": [
       "<div>\n",
       "<style scoped>\n",
       "    .dataframe tbody tr th:only-of-type {\n",
       "        vertical-align: middle;\n",
       "    }\n",
       "\n",
       "    .dataframe tbody tr th {\n",
       "        vertical-align: top;\n",
       "    }\n",
       "\n",
       "    .dataframe thead th {\n",
       "        text-align: right;\n",
       "    }\n",
       "</style>\n",
       "<table border=\"1\" class=\"dataframe\">\n",
       "  <thead>\n",
       "    <tr style=\"text-align: right;\">\n",
       "      <th></th>\n",
       "      <th>Unnamed: 0</th>\n",
       "      <th>RNA_ID</th>\n",
       "      <th>Age</th>\n",
       "      <th>Sarc</th>\n",
       "      <th>Rhab</th>\n",
       "      <th>Number_of_Prior_Therapies</th>\n",
       "      <th>Days_from_TumorSample_Collection_and_Start_of_Trial_Therapy</th>\n",
       "      <th>Tumor_Shrinkage</th>\n",
       "      <th>PFS</th>\n",
       "      <th>TM_TC_Ratio</th>\n",
       "      <th>...</th>\n",
       "      <th>RP11-96O20.4</th>\n",
       "      <th>RP5-827C21.1</th>\n",
       "      <th>RPS12P26</th>\n",
       "      <th>SDR42E1</th>\n",
       "      <th>SNORD113-5</th>\n",
       "      <th>TARBP2</th>\n",
       "      <th>TRAV41</th>\n",
       "      <th>TRIM43B</th>\n",
       "      <th>VN2R17P</th>\n",
       "      <th>XPC</th>\n",
       "    </tr>\n",
       "  </thead>\n",
       "  <tbody>\n",
       "    <tr>\n",
       "      <th>0</th>\n",
       "      <td>0</td>\n",
       "      <td>G138701_RCCBMS-00020-T_v1_RNA_OnPrem</td>\n",
       "      <td>62.0</td>\n",
       "      <td>0.0</td>\n",
       "      <td>0.0</td>\n",
       "      <td>2.0</td>\n",
       "      <td>707.0</td>\n",
       "      <td>0.0</td>\n",
       "      <td>12.164384</td>\n",
       "      <td>1.374775</td>\n",
       "      <td>...</td>\n",
       "      <td>21.18753</td>\n",
       "      <td>27.40814</td>\n",
       "      <td>31.71139</td>\n",
       "      <td>30.26124</td>\n",
       "      <td>21.32743</td>\n",
       "      <td>29.60417</td>\n",
       "      <td>22.22154</td>\n",
       "      <td>21.9744</td>\n",
       "      <td>21.12857</td>\n",
       "      <td>32.24472</td>\n",
       "    </tr>\n",
       "    <tr>\n",
       "      <th>1</th>\n",
       "      <td>1</td>\n",
       "      <td>G138701_RCCBMS-00097-T_v1_RNA_OnPrem</td>\n",
       "      <td>62.0</td>\n",
       "      <td>0.0</td>\n",
       "      <td>0.0</td>\n",
       "      <td>2.0</td>\n",
       "      <td>707.0</td>\n",
       "      <td>0.0</td>\n",
       "      <td>5.490411</td>\n",
       "      <td>1.374775</td>\n",
       "      <td>...</td>\n",
       "      <td>21.18753</td>\n",
       "      <td>29.25015</td>\n",
       "      <td>29.15373</td>\n",
       "      <td>29.12730</td>\n",
       "      <td>21.32743</td>\n",
       "      <td>29.61188</td>\n",
       "      <td>22.22154</td>\n",
       "      <td>21.9744</td>\n",
       "      <td>21.12857</td>\n",
       "      <td>32.15619</td>\n",
       "    </tr>\n",
       "    <tr>\n",
       "      <th>2</th>\n",
       "      <td>2</td>\n",
       "      <td>G138701_RCCBMS-00141-T_v1_RNA_OnPrem</td>\n",
       "      <td>62.0</td>\n",
       "      <td>0.0</td>\n",
       "      <td>0.0</td>\n",
       "      <td>1.0</td>\n",
       "      <td>707.0</td>\n",
       "      <td>0.0</td>\n",
       "      <td>61.906849</td>\n",
       "      <td>1.374775</td>\n",
       "      <td>...</td>\n",
       "      <td>21.18753</td>\n",
       "      <td>23.03429</td>\n",
       "      <td>29.37858</td>\n",
       "      <td>27.22907</td>\n",
       "      <td>21.32743</td>\n",
       "      <td>31.90343</td>\n",
       "      <td>22.22154</td>\n",
       "      <td>21.9744</td>\n",
       "      <td>21.12857</td>\n",
       "      <td>31.86536</td>\n",
       "    </tr>\n",
       "    <tr>\n",
       "      <th>3</th>\n",
       "      <td>3</td>\n",
       "      <td>G138701_RCCBMS-00099-T_v1_RNA_OnPrem</td>\n",
       "      <td>62.0</td>\n",
       "      <td>0.0</td>\n",
       "      <td>0.0</td>\n",
       "      <td>3.0</td>\n",
       "      <td>707.0</td>\n",
       "      <td>0.0</td>\n",
       "      <td>1.249315</td>\n",
       "      <td>1.374775</td>\n",
       "      <td>...</td>\n",
       "      <td>21.18753</td>\n",
       "      <td>23.03429</td>\n",
       "      <td>30.19136</td>\n",
       "      <td>22.83731</td>\n",
       "      <td>21.32743</td>\n",
       "      <td>30.35424</td>\n",
       "      <td>22.22154</td>\n",
       "      <td>21.9744</td>\n",
       "      <td>21.12857</td>\n",
       "      <td>31.63561</td>\n",
       "    </tr>\n",
       "    <tr>\n",
       "      <th>4</th>\n",
       "      <td>4</td>\n",
       "      <td>G138701_RCCBMS-00163-T_v1_RNA_OnPrem</td>\n",
       "      <td>62.0</td>\n",
       "      <td>0.0</td>\n",
       "      <td>0.0</td>\n",
       "      <td>2.0</td>\n",
       "      <td>707.0</td>\n",
       "      <td>0.0</td>\n",
       "      <td>5.654795</td>\n",
       "      <td>1.374775</td>\n",
       "      <td>...</td>\n",
       "      <td>21.18753</td>\n",
       "      <td>23.03429</td>\n",
       "      <td>31.82172</td>\n",
       "      <td>22.83731</td>\n",
       "      <td>21.32743</td>\n",
       "      <td>31.60946</td>\n",
       "      <td>22.22154</td>\n",
       "      <td>21.9744</td>\n",
       "      <td>21.12857</td>\n",
       "      <td>33.12717</td>\n",
       "    </tr>\n",
       "  </tbody>\n",
       "</table>\n",
       "<p>5 rows × 57 columns</p>\n",
       "</div>"
      ],
      "text/plain": [
       "   Unnamed: 0                                RNA_ID   Age  Sarc  Rhab  \\\n",
       "0           0  G138701_RCCBMS-00020-T_v1_RNA_OnPrem  62.0   0.0   0.0   \n",
       "1           1  G138701_RCCBMS-00097-T_v1_RNA_OnPrem  62.0   0.0   0.0   \n",
       "2           2  G138701_RCCBMS-00141-T_v1_RNA_OnPrem  62.0   0.0   0.0   \n",
       "3           3  G138701_RCCBMS-00099-T_v1_RNA_OnPrem  62.0   0.0   0.0   \n",
       "4           4  G138701_RCCBMS-00163-T_v1_RNA_OnPrem  62.0   0.0   0.0   \n",
       "\n",
       "   Number_of_Prior_Therapies  \\\n",
       "0                        2.0   \n",
       "1                        2.0   \n",
       "2                        1.0   \n",
       "3                        3.0   \n",
       "4                        2.0   \n",
       "\n",
       "   Days_from_TumorSample_Collection_and_Start_of_Trial_Therapy  \\\n",
       "0                                              707.0             \n",
       "1                                              707.0             \n",
       "2                                              707.0             \n",
       "3                                              707.0             \n",
       "4                                              707.0             \n",
       "\n",
       "   Tumor_Shrinkage        PFS  TM_TC_Ratio  ...  RP11-96O20.4  RP5-827C21.1  \\\n",
       "0              0.0  12.164384     1.374775  ...      21.18753      27.40814   \n",
       "1              0.0   5.490411     1.374775  ...      21.18753      29.25015   \n",
       "2              0.0  61.906849     1.374775  ...      21.18753      23.03429   \n",
       "3              0.0   1.249315     1.374775  ...      21.18753      23.03429   \n",
       "4              0.0   5.654795     1.374775  ...      21.18753      23.03429   \n",
       "\n",
       "   RPS12P26   SDR42E1  SNORD113-5    TARBP2    TRAV41  TRIM43B   VN2R17P  \\\n",
       "0  31.71139  30.26124    21.32743  29.60417  22.22154  21.9744  21.12857   \n",
       "1  29.15373  29.12730    21.32743  29.61188  22.22154  21.9744  21.12857   \n",
       "2  29.37858  27.22907    21.32743  31.90343  22.22154  21.9744  21.12857   \n",
       "3  30.19136  22.83731    21.32743  30.35424  22.22154  21.9744  21.12857   \n",
       "4  31.82172  22.83731    21.32743  31.60946  22.22154  21.9744  21.12857   \n",
       "\n",
       "        XPC  \n",
       "0  32.24472  \n",
       "1  32.15619  \n",
       "2  31.86536  \n",
       "3  31.63561  \n",
       "4  33.12717  \n",
       "\n",
       "[5 rows x 57 columns]"
      ]
     },
     "execution_count": 2,
     "metadata": {},
     "output_type": "execute_result"
    }
   ],
   "source": [
    "path ='../../../../Data_preprocessing/Prediction PFS/RNA+Clinic joined/Clinical_data_and_RNA_30_Features_PFS.csv'\n",
    "data = pd.read_csv(path)\n",
    "data.head(5)"
   ]
  },
  {
   "cell_type": "code",
   "execution_count": 3,
   "metadata": {},
   "outputs": [
    {
     "name": "stdout",
     "output_type": "stream",
     "text": [
      "     AC005307.1   ATP5G2P1    DLGAP4  EIF4A1P9  FAM172BP   FAM224A      GJA9  \\\n",
      "0     21.055379  21.300337  34.54982  21.37925  21.62929  21.12373  29.68286   \n",
      "1     21.055379  21.300337  34.06647  21.37925  21.62929  21.12373  26.80539   \n",
      "2     21.055379  21.300337  34.42561  25.08766  29.29206  21.12373  30.09292   \n",
      "3     21.055379  21.300337  34.41176  26.76156  21.62929  21.12373  29.29223   \n",
      "4     21.055379  21.300337  34.29088  21.37925  21.62929  21.12373  32.00382   \n",
      "..          ...        ...       ...       ...       ...       ...       ...   \n",
      "176   20.944668  21.624881  34.55658  21.78113  21.49653  20.98542  28.18967   \n",
      "177   20.944668  21.624881  33.15506  21.78113  21.49653  20.98542  28.18967   \n",
      "178   20.944668  21.624881  34.68047  21.78113  25.64475  23.49110  28.18967   \n",
      "179   20.944668  21.624881  35.60014  21.78113  21.49653  20.98542  33.92530   \n",
      "180   20.944668  21.624881  35.23053  21.78113  21.49653  20.98542  28.18967   \n",
      "\n",
      "       GPR155      GYPE      IL25  ...  RP11-96O20.4  RP5-827C21.1  RPS12P26  \\\n",
      "0    31.81161  23.05703  21.08036  ...      21.18753      27.40814  31.71139   \n",
      "1    31.42781  23.05703  21.08036  ...      21.18753      29.25015  29.15373   \n",
      "2    30.47292  23.05703  21.08036  ...      21.18753      23.03429  29.37858   \n",
      "3    30.72903  23.05703  21.08036  ...      21.18753      23.03429  30.19136   \n",
      "4    31.16114  23.05703  21.08036  ...      21.18753      23.03429  31.82172   \n",
      "..        ...       ...       ...  ...           ...           ...       ...   \n",
      "176  29.90347  26.98353  21.43715  ...      21.02478      25.01085  28.14718   \n",
      "177  31.66030  29.28045  21.43715  ...      21.02478      35.97906  28.14718   \n",
      "178  31.92039  27.09075  21.43715  ...      21.02478      25.01085  28.14718   \n",
      "179  32.78760  21.37426  21.43715  ...      21.02478      25.01085  28.14718   \n",
      "180  30.59097  21.37426  21.43715  ...      21.02478      25.01085  28.14718   \n",
      "\n",
      "      SDR42E1  SNORD113-5    TARBP2    TRAV41  TRIM43B   VN2R17P       XPC  \n",
      "0    30.26124    21.32743  29.60417  22.22154  21.9744  21.12857  32.24472  \n",
      "1    29.12730    21.32743  29.61188  22.22154  21.9744  21.12857  32.15619  \n",
      "2    27.22907    21.32743  31.90343  22.22154  21.9744  21.12857  31.86536  \n",
      "3    22.83731    21.32743  30.35424  22.22154  21.9744  21.12857  31.63561  \n",
      "4    22.83731    21.32743  31.60946  22.22154  21.9744  21.12857  33.12717  \n",
      "..        ...         ...       ...       ...      ...       ...       ...  \n",
      "176  31.49914    21.32619  31.57179  24.54591  22.3863  20.96902  32.70183  \n",
      "177  28.17083    21.32619  34.36199  24.54591  22.3863  20.96902  30.79817  \n",
      "178  24.22162    21.32619  29.30238  24.54591  22.3863  20.96902  32.60750  \n",
      "179  27.21929    21.32619  30.72343  24.54591  22.3863  23.88906  33.35291  \n",
      "180  32.08324    21.32619  31.34356  24.54591  22.3863  20.96902  32.50118  \n",
      "\n",
      "[181 rows x 30 columns]\n",
      "Numero de pacientes:  181\n"
     ]
    }
   ],
   "source": [
    "X = data[['AC005307.1', 'ATP5G2P1', 'DLGAP4', 'EIF4A1P9', 'FAM172BP', 'FAM224A', 'GJA9', 'GPR155', 'GYPE', 'IL25', 'KLHL5', 'LANCL1-AS1', 'LEMD1', 'PCMT1', 'RP11-120J4.1', 'RP11-20G6.3', 'RP11-349G13.2', 'RP11-374M1.2', 'RP11-536C10.21', 'RP11-95G17.2', 'RP11-96O20.4', 'RP5-827C21.1', 'RPS12P26', 'SDR42E1', 'SNORD113-5', 'TARBP2', 'TRAV41', 'TRIM43B', 'VN2R17P', 'XPC']] #Seleccionamos todas las columnas quitando la columna Unnamed (id de la fila ) y la columna Target.\n",
    "\n",
    "Y = [] # Target column\n",
    "# For each entry I classified it by its PFS value.\n",
    "for i in range (len(data)):\n",
    "    if data.PFS[i]<3: # If PFS is lower than 3 months, I will consider it as NonResponder (NR)\n",
    "        Y.append(0)\n",
    "    elif data.PFS[i]<6:\n",
    "        Y.append(1)\n",
    "    else:\n",
    "        Y.append(2)# If PFS is over 3 months, I will consider it as Responder (R)\n",
    "\n",
    "\n",
    "print(X)\n",
    "print('Numero de pacientes: ',len(Y))"
   ]
  },
  {
   "cell_type": "markdown",
   "metadata": {},
   "source": [
    "### 3. Train-Test dataset split"
   ]
  },
  {
   "cell_type": "code",
   "execution_count": 4,
   "metadata": {},
   "outputs": [
    {
     "name": "stdout",
     "output_type": "stream",
     "text": [
      "Training set size: 144\n",
      "Target column size of the training set: 144\n",
      "Test set size: 37\n",
      "Target column size of the test set: 37\n"
     ]
    }
   ],
   "source": [
    "XTrain, XTest, yTrain, yTest = train_test_split(X, Y, test_size=0.20, random_state=125)\n",
    "\n",
    "# Convert sets to arrays\n",
    "XTrain = XTrain.values\n",
    "XTest = XTest.values\n",
    "\n",
    "print('Training set size:', len(XTrain))\n",
    "print('Target column size of the training set:', len(yTrain))\n",
    "print('Test set size:', len(XTest))\n",
    "print('Target column size of the test set:', len(yTest))"
   ]
  },
  {
   "cell_type": "markdown",
   "metadata": {},
   "source": [
    "### 4. Study the best value for K"
   ]
  },
  {
   "cell_type": "code",
   "execution_count": 5,
   "metadata": {},
   "outputs": [
    {
     "name": "stdout",
     "output_type": "stream",
     "text": [
      "Best accuracy is obtained with k = 7 and is: 0.5946\n"
     ]
    }
   ],
   "source": [
    "neighbors = list(range(1,8))\n",
    "cek = []\n",
    "list_accuracy = []\n",
    "best_acuracy = 0\n",
    "best_k = 0\n",
    "for k in neighbors:\n",
    "    knn = KNeighborsClassifier(n_neighbors=k)\n",
    "    pred = knn.fit(XTrain, yTrain).predict(XTest)\n",
    "    if accuracy_score(yTest, pred) >= best_acuracy:\n",
    "        best_k = k\n",
    "        best_acuracy=accuracy_score(yTest, pred)\n",
    "    list_accuracy.append(accuracy_score(yTest, pred))\n",
    "\n",
    "print(\"Best accuracy is obtained with k = \" + str(best_k)+ \" and is: %.4f\" % (best_acuracy))\n"
   ]
  },
  {
   "cell_type": "code",
   "execution_count": 6,
   "metadata": {},
   "outputs": [
    {
     "data": {
      "image/png": "[encoded data removed]",
      "text/plain": [
       "<Figure size 432x288 with 1 Axes>"
      ]
     },
     "metadata": {
      "needs_background": "light"
     },
     "output_type": "display_data"
    }
   ],
   "source": [
    "plt.plot(np.append(np.roll(list_accuracy,1),list_accuracy[6]),'ro', color='r', linestyle='dashed',linewidth=1.0, label=\"Graph2\")\n",
    "# Green dot represent best K value\n",
    "plt.plot(best_k, best_acuracy, 'ro', color ='g')\n",
    "plt.axis([1, 7, 0.5, 1])\n",
    "plt.xlabel('K')\n",
    "plt.ylabel('Accuracy')\n",
    "\n",
    "plt.grid()\n",
    "plt.show()"
   ]
  },
  {
   "cell_type": "markdown",
   "metadata": {},
   "source": [
    "### 5. Best metric study (manhattan or euclidean)"
   ]
  },
  {
   "cell_type": "code",
   "execution_count": 7,
   "metadata": {},
   "outputs": [
    {
     "data": {
      "text/plain": [
       "KNeighborsClassifier(metric=<function cityblock at 0x000002136D237F70>,\n",
       "                     n_neighbors=7)"
      ]
     },
     "execution_count": 7,
     "metadata": {},
     "output_type": "execute_result"
    }
   ],
   "source": [
    "# Euclidean distance model\n",
    "euclid_model = KNeighborsClassifier(n_neighbors=best_k, metric=distance.sqeuclidean)\n",
    "euclid_model.fit(XTrain,yTrain) \n",
    "\n",
    "# Manhattan distance model\n",
    "manhattan_model = KNeighborsClassifier(n_neighbors=best_k, metric=distance.cityblock) \n",
    "manhattan_model.fit(XTrain, yTrain)"
   ]
  },
  {
   "cell_type": "markdown",
   "metadata": {},
   "source": [
    "### 6. Predictions"
   ]
  },
  {
   "cell_type": "code",
   "execution_count": 8,
   "metadata": {},
   "outputs": [
    {
     "data": {
      "text/html": [
       "<div>\n",
       "<style scoped>\n",
       "    .dataframe tbody tr th:only-of-type {\n",
       "        vertical-align: middle;\n",
       "    }\n",
       "\n",
       "    .dataframe tbody tr th {\n",
       "        vertical-align: top;\n",
       "    }\n",
       "\n",
       "    .dataframe thead th {\n",
       "        text-align: right;\n",
       "    }\n",
       "</style>\n",
       "<table border=\"1\" class=\"dataframe\">\n",
       "  <thead>\n",
       "    <tr style=\"text-align: right;\">\n",
       "      <th></th>\n",
       "      <th>actual</th>\n",
       "      <th>manhattan</th>\n",
       "      <th>euclid</th>\n",
       "    </tr>\n",
       "  </thead>\n",
       "  <tbody>\n",
       "    <tr>\n",
       "      <th>0</th>\n",
       "      <td>1</td>\n",
       "      <td>0</td>\n",
       "      <td>0</td>\n",
       "    </tr>\n",
       "    <tr>\n",
       "      <th>1</th>\n",
       "      <td>0</td>\n",
       "      <td>0</td>\n",
       "      <td>0</td>\n",
       "    </tr>\n",
       "    <tr>\n",
       "      <th>2</th>\n",
       "      <td>0</td>\n",
       "      <td>0</td>\n",
       "      <td>0</td>\n",
       "    </tr>\n",
       "    <tr>\n",
       "      <th>3</th>\n",
       "      <td>2</td>\n",
       "      <td>0</td>\n",
       "      <td>0</td>\n",
       "    </tr>\n",
       "    <tr>\n",
       "      <th>4</th>\n",
       "      <td>2</td>\n",
       "      <td>2</td>\n",
       "      <td>2</td>\n",
       "    </tr>\n",
       "  </tbody>\n",
       "</table>\n",
       "</div>"
      ],
      "text/plain": [
       "   actual  manhattan  euclid\n",
       "0       1          0       0\n",
       "1       0          0       0\n",
       "2       0          0       0\n",
       "3       2          0       0\n",
       "4       2          2       2"
      ]
     },
     "execution_count": 8,
     "metadata": {},
     "output_type": "execute_result"
    }
   ],
   "source": [
    "manhattan_predictions = manhattan_model.predict(XTest)\n",
    "euclid_predictions = euclid_model.predict(XTest) \n",
    "df = pd.DataFrame({'actual': yTest, 'manhattan': manhattan_predictions, 'euclid': euclid_predictions})\n",
    "df.head()"
   ]
  },
  {
   "cell_type": "code",
   "execution_count": 9,
   "metadata": {},
   "outputs": [
    {
     "name": "stdout",
     "output_type": "stream",
     "text": [
      "Best result of the cross validation of the model (euclidean) with the best paramters:0.5142857142857142\n",
      "Best result of the cross validation of the model (manhattan) with the best paramters:0.5408866995073891\n"
     ]
    }
   ],
   "source": [
    "# Cross validation\n",
    "result1= model_selection.cross_val_score(euclid_model, XTrain, yTrain, cv=5, scoring='accuracy')\n",
    "result2 = model_selection.cross_val_score(manhattan_model, XTrain, yTrain, cv=5, scoring='accuracy')\n",
    "print(\"Best result of the cross validation of the model (euclidean) with the best paramters:\" +str(np.mean(result1)))\n",
    "print(\"Best result of the cross validation of the model (manhattan) with the best paramters:\" +str(np.mean(result2)))\n"
   ]
  },
  {
   "cell_type": "markdown",
   "metadata": {},
   "source": [
    "#### 6.1. Manhattan model"
   ]
  },
  {
   "cell_type": "code",
   "execution_count": 10,
   "metadata": {},
   "outputs": [],
   "source": [
    "# Making predictions with the optimal model on the training dataset\n",
    "yhatTrain = manhattan_model.predict(XTrain)\n",
    "contTrain = 0\n",
    "\n",
    "# Comparing with the Target column and check how many hits there have been\n",
    "for i in range(0,len(yTrain),1) :\n",
    "    if (yhatTrain[i] == yTrain[i]):\n",
    "        contTrain = contTrain + 1"
   ]
  },
  {
   "cell_type": "code",
   "execution_count": 11,
   "metadata": {},
   "outputs": [],
   "source": [
    "# Making predictions with the optimal model on the test dataset\n",
    "mayhatTest = manhattan_model.predict(XTest)\n",
    "contTest = 0\n",
    "\n",
    "# Comparing with the Target column and check how many hits there have been\n",
    "for i in range(0,len(yTest),1) :\n",
    "    if (mayhatTest[i] == yTest[i]):\n",
    "        contTest = contTest + 1"
   ]
  },
  {
   "cell_type": "code",
   "execution_count": 12,
   "metadata": {},
   "outputs": [
    {
     "name": "stdout",
     "output_type": "stream",
     "text": [
      "Final accuracy on the training dataset (manhattan): 0.6944444444444444\n",
      "Final accuracy on the testing dataset (manhattan): 0.4594594594594595\n"
     ]
    }
   ],
   "source": [
    "print('Final accuracy on the training dataset (manhattan): ' + str(contTrain/len(yTrain)))\n",
    "print('Final accuracy on the testing dataset (manhattan): ' + str(contTest/len(yTest)))"
   ]
  },
  {
   "cell_type": "code",
   "execution_count": 13,
   "metadata": {},
   "outputs": [
    {
     "name": "stdout",
     "output_type": "stream",
     "text": [
      "----------------Confusion Matrix (Training)------------------\n",
      "[[57  2  6]\n",
      " [ 9 10  9]\n",
      " [13  5 33]]\n",
      "Input data:  [0 2 1 1 1 1 0 2 0 1 2 2 1 0 2 0 2 0 0 0 2 1 0 0 2 2 0 1 0 0 1 1 0 2 1 0 1\n",
      " 2 0 2 2 0 0 1 0 1 1 0 1 0 0 1 0 0 0 2 0 2 0 2 1 0 2 2 0 2 2 2 0 2 0 2 0 2\n",
      " 2 0 0 2 0 0 1 2 1 0 0 0 0 2 1 2 2 0 0 2 2 2 2 0 0 0 2 0 2 0 0 0 0 1 0 2 0\n",
      " 2 0 2 1 0 0 0 0 1 2 2 0 2 0 2 2 0 1 2 0 1 2 0 0 2 2 1 2 1 2 2 0 0]\n",
      "Prediction:        [0 2 2 0 1 0 0 2 0 0 2 2 0 0 1 0 2 0 0 0 0 2 2 0 2 0 0 1 0 0 0 0 0 0 1 0 1\n",
      " 2 0 2 2 0 0 1 0 1 0 0 2 0 2 2 0 0 0 2 0 2 2 2 2 0 2 0 0 2 0 2 0 2 0 2 1 0\n",
      " 2 0 0 2 0 0 0 1 2 0 0 0 0 2 1 2 2 0 0 1 0 0 1 0 0 0 2 0 2 0 2 0 0 2 0 2 0\n",
      " 2 0 2 2 0 0 0 2 1 2 2 0 0 1 0 0 0 1 0 0 1 0 2 0 1 2 0 2 2 2 2 0 0]\n"
     ]
    }
   ],
   "source": [
    "from sklearn.metrics import classification_report,confusion_matrix\n",
    "\n",
    "print('----------------Confusion Matrix (Training)------------------')\n",
    "print(confusion_matrix(yTrain,yhatTrain))\n",
    "print('Input data:  ' + str(np.array(yTrain)))\n",
    "print('Prediction:        ' +str(yhatTrain))"
   ]
  },
  {
   "cell_type": "code",
   "execution_count": 14,
   "metadata": {},
   "outputs": [
    {
     "name": "stdout",
     "output_type": "stream",
     "text": [
      "              precision    recall  f1-score   support\n",
      "\n",
      "           0       0.72      0.88      0.79        65\n",
      "           1       0.59      0.36      0.44        28\n",
      "           2       0.69      0.65      0.67        51\n",
      "\n",
      "    accuracy                           0.69       144\n",
      "   macro avg       0.67      0.63      0.63       144\n",
      "weighted avg       0.68      0.69      0.68       144\n",
      "\n"
     ]
    }
   ],
   "source": [
    "print(classification_report(yTrain,yhatTrain))"
   ]
  },
  {
   "cell_type": "code",
   "execution_count": 15,
   "metadata": {},
   "outputs": [
    {
     "name": "stdout",
     "output_type": "stream",
     "text": [
      "----------------Confusion Matrix (Test)------------------\n",
      "[[11  2  7]\n",
      " [ 2  0  1]\n",
      " [ 8  0  6]]\n",
      "Input data:  [1 0 0 2 2 1 0 2 2 2 0 0 0 0 0 0 2 0 1 0 0 0 0 2 0 0 2 2 2 0 0 2 0 0 2 2 2]\n",
      "Prediction:        [0 0 0 0 2 2 0 2 2 0 2 2 0 1 0 0 2 0 0 0 2 2 0 0 0 2 0 0 0 1 0 2 2 2 0 0 2]\n"
     ]
    }
   ],
   "source": [
    "from sklearn.metrics import confusion_matrix\n",
    "confusion_matrix = confusion_matrix(yTest, mayhatTest)\n",
    "print('----------------Confusion Matrix (Test)------------------')\n",
    "print(confusion_matrix)\n",
    "print('Input data:  ' + str(np.array(yTest)))\n",
    "print('Prediction:        ' +str(mayhatTest))"
   ]
  },
  {
   "cell_type": "code",
   "execution_count": 16,
   "metadata": {},
   "outputs": [
    {
     "name": "stdout",
     "output_type": "stream",
     "text": [
      "              precision    recall  f1-score   support\n",
      "\n",
      "           0       0.52      0.55      0.54        20\n",
      "           1       0.00      0.00      0.00         3\n",
      "           2       0.43      0.43      0.43        14\n",
      "\n",
      "    accuracy                           0.46        37\n",
      "   macro avg       0.32      0.33      0.32        37\n",
      "weighted avg       0.45      0.46      0.45        37\n",
      "\n"
     ]
    }
   ],
   "source": [
    "print(classification_report(yTest, mayhatTest))"
   ]
  }
 ],
 "metadata": {
  "interpreter": {
   "hash": "173607e09da2ffe2d433f1218cab6faa8c4cbe5c89eb01ef45bf4a279737dd84"
  },
  "kernelspec": {
   "display_name": "Python 3.8.8 ('base')",
   "language": "python",
   "name": "python3"
  },
  "language_info": {
   "codemirror_mode": {
    "name": "ipython",
    "version": 3
   },
   "file_extension": ".py",
   "mimetype": "text/x-python",
   "name": "python",
   "nbconvert_exporter": "python",
   "pygments_lexer": "ipython3",
   "version": "3.8.8"
  },
  "orig_nbformat": 4
 },
 "nbformat": 4,
 "nbformat_minor": 2
}
