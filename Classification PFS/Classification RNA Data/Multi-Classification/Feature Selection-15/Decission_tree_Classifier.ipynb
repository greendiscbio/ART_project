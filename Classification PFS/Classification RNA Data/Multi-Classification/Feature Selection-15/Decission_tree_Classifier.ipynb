{
 "cells": [
  {
   "cell_type": "markdown",
   "metadata": {},
   "source": [
    "# Classification model using Decision Tree"
   ]
  },
  {
   "cell_type": "markdown",
   "metadata": {},
   "source": [
    "### 1. Import libraries"
   ]
  },
  {
   "cell_type": "code",
   "execution_count": 1,
   "metadata": {},
   "outputs": [],
   "source": [
    "import pandas as pd\n",
    "import numpy as np\n",
    "import matplotlib.pyplot as plt\n",
    "from sklearn.model_selection import train_test_split\n",
    "from sklearn.tree import DecisionTreeClassifier\n",
    "from sklearn.model_selection import GridSearchCV\n",
    "from sklearn.model_selection import cross_val_score"
   ]
  },
  {
   "cell_type": "markdown",
   "metadata": {},
   "source": [
    "### 2. Upload RNA data"
   ]
  },
  {
   "cell_type": "code",
   "execution_count": 2,
   "metadata": {},
   "outputs": [
    {
     "data": {
      "text/html": [
       "<div>\n",
       "<style scoped>\n",
       "    .dataframe tbody tr th:only-of-type {\n",
       "        vertical-align: middle;\n",
       "    }\n",
       "\n",
       "    .dataframe tbody tr th {\n",
       "        vertical-align: top;\n",
       "    }\n",
       "\n",
       "    .dataframe thead th {\n",
       "        text-align: right;\n",
       "    }\n",
       "</style>\n",
       "<table border=\"1\" class=\"dataframe\">\n",
       "  <thead>\n",
       "    <tr style=\"text-align: right;\">\n",
       "      <th></th>\n",
       "      <th>Unnamed: 0</th>\n",
       "      <th>RNA_ID</th>\n",
       "      <th>Age</th>\n",
       "      <th>Sarc</th>\n",
       "      <th>Rhab</th>\n",
       "      <th>Number_of_Prior_Therapies</th>\n",
       "      <th>Days_from_TumorSample_Collection_and_Start_of_Trial_Therapy</th>\n",
       "      <th>Tumor_Shrinkage</th>\n",
       "      <th>PFS</th>\n",
       "      <th>TM_TC_Ratio</th>\n",
       "      <th>...</th>\n",
       "      <th>IL25</th>\n",
       "      <th>LANCL1-AS1</th>\n",
       "      <th>LEMD1</th>\n",
       "      <th>PCMT1</th>\n",
       "      <th>RP11-120J4.1</th>\n",
       "      <th>RP11-374M1.2</th>\n",
       "      <th>SDR42E1</th>\n",
       "      <th>TARBP2</th>\n",
       "      <th>TRIM43B</th>\n",
       "      <th>VN2R17P</th>\n",
       "    </tr>\n",
       "  </thead>\n",
       "  <tbody>\n",
       "    <tr>\n",
       "      <th>0</th>\n",
       "      <td>0</td>\n",
       "      <td>G138701_RCCBMS-00020-T_v1_RNA_OnPrem</td>\n",
       "      <td>62.0</td>\n",
       "      <td>0.0</td>\n",
       "      <td>0.0</td>\n",
       "      <td>2.0</td>\n",
       "      <td>962.0</td>\n",
       "      <td>-16.406250</td>\n",
       "      <td>12.164384</td>\n",
       "      <td>0.766909</td>\n",
       "      <td>...</td>\n",
       "      <td>21.08036</td>\n",
       "      <td>21.39991</td>\n",
       "      <td>22.39503</td>\n",
       "      <td>31.44953</td>\n",
       "      <td>21.4144</td>\n",
       "      <td>21.24656</td>\n",
       "      <td>30.26124</td>\n",
       "      <td>29.60417</td>\n",
       "      <td>21.9744</td>\n",
       "      <td>21.12857</td>\n",
       "    </tr>\n",
       "    <tr>\n",
       "      <th>1</th>\n",
       "      <td>1</td>\n",
       "      <td>G138701_RCCBMS-00097-T_v1_RNA_OnPrem</td>\n",
       "      <td>67.0</td>\n",
       "      <td>0.0</td>\n",
       "      <td>0.0</td>\n",
       "      <td>2.0</td>\n",
       "      <td>254.0</td>\n",
       "      <td>-40.000000</td>\n",
       "      <td>5.490411</td>\n",
       "      <td>0.773269</td>\n",
       "      <td>...</td>\n",
       "      <td>21.08036</td>\n",
       "      <td>21.39991</td>\n",
       "      <td>22.39503</td>\n",
       "      <td>33.02746</td>\n",
       "      <td>21.4144</td>\n",
       "      <td>21.24656</td>\n",
       "      <td>29.12730</td>\n",
       "      <td>29.61188</td>\n",
       "      <td>21.9744</td>\n",
       "      <td>21.12857</td>\n",
       "    </tr>\n",
       "    <tr>\n",
       "      <th>2</th>\n",
       "      <td>2</td>\n",
       "      <td>G138701_RCCBMS-00141-T_v1_RNA_OnPrem</td>\n",
       "      <td>62.0</td>\n",
       "      <td>0.0</td>\n",
       "      <td>0.0</td>\n",
       "      <td>1.0</td>\n",
       "      <td>800.0</td>\n",
       "      <td>-89.436620</td>\n",
       "      <td>61.906849</td>\n",
       "      <td>1.782859</td>\n",
       "      <td>...</td>\n",
       "      <td>21.08036</td>\n",
       "      <td>21.39991</td>\n",
       "      <td>22.39503</td>\n",
       "      <td>33.75531</td>\n",
       "      <td>21.4144</td>\n",
       "      <td>21.24656</td>\n",
       "      <td>27.22907</td>\n",
       "      <td>31.90343</td>\n",
       "      <td>21.9744</td>\n",
       "      <td>21.12857</td>\n",
       "    </tr>\n",
       "    <tr>\n",
       "      <th>3</th>\n",
       "      <td>3</td>\n",
       "      <td>G138701_RCCBMS-00099-T_v1_RNA_OnPrem</td>\n",
       "      <td>60.0</td>\n",
       "      <td>0.0</td>\n",
       "      <td>0.0</td>\n",
       "      <td>3.0</td>\n",
       "      <td>790.0</td>\n",
       "      <td>11.787072</td>\n",
       "      <td>1.249315</td>\n",
       "      <td>5.890573</td>\n",
       "      <td>...</td>\n",
       "      <td>21.08036</td>\n",
       "      <td>21.39991</td>\n",
       "      <td>29.70759</td>\n",
       "      <td>33.50304</td>\n",
       "      <td>21.4144</td>\n",
       "      <td>21.24656</td>\n",
       "      <td>22.83731</td>\n",
       "      <td>30.35424</td>\n",
       "      <td>21.9744</td>\n",
       "      <td>21.12857</td>\n",
       "    </tr>\n",
       "    <tr>\n",
       "      <th>4</th>\n",
       "      <td>4</td>\n",
       "      <td>G138701_RCCBMS-00163-T_v1_RNA_OnPrem</td>\n",
       "      <td>76.0</td>\n",
       "      <td>0.0</td>\n",
       "      <td>0.0</td>\n",
       "      <td>2.0</td>\n",
       "      <td>1241.0</td>\n",
       "      <td>0.000000</td>\n",
       "      <td>5.654795</td>\n",
       "      <td>1.374775</td>\n",
       "      <td>...</td>\n",
       "      <td>21.08036</td>\n",
       "      <td>21.39991</td>\n",
       "      <td>22.39503</td>\n",
       "      <td>33.18274</td>\n",
       "      <td>21.4144</td>\n",
       "      <td>21.24656</td>\n",
       "      <td>22.83731</td>\n",
       "      <td>31.60946</td>\n",
       "      <td>21.9744</td>\n",
       "      <td>21.12857</td>\n",
       "    </tr>\n",
       "  </tbody>\n",
       "</table>\n",
       "<p>5 rows × 42 columns</p>\n",
       "</div>"
      ],
      "text/plain": [
       "   Unnamed: 0                                RNA_ID   Age  Sarc  Rhab  \\\n",
       "0           0  G138701_RCCBMS-00020-T_v1_RNA_OnPrem  62.0   0.0   0.0   \n",
       "1           1  G138701_RCCBMS-00097-T_v1_RNA_OnPrem  67.0   0.0   0.0   \n",
       "2           2  G138701_RCCBMS-00141-T_v1_RNA_OnPrem  62.0   0.0   0.0   \n",
       "3           3  G138701_RCCBMS-00099-T_v1_RNA_OnPrem  60.0   0.0   0.0   \n",
       "4           4  G138701_RCCBMS-00163-T_v1_RNA_OnPrem  76.0   0.0   0.0   \n",
       "\n",
       "   Number_of_Prior_Therapies  \\\n",
       "0                        2.0   \n",
       "1                        2.0   \n",
       "2                        1.0   \n",
       "3                        3.0   \n",
       "4                        2.0   \n",
       "\n",
       "   Days_from_TumorSample_Collection_and_Start_of_Trial_Therapy  \\\n",
       "0                                              962.0             \n",
       "1                                              254.0             \n",
       "2                                              800.0             \n",
       "3                                              790.0             \n",
       "4                                             1241.0             \n",
       "\n",
       "   Tumor_Shrinkage        PFS  TM_TC_Ratio  ...      IL25  LANCL1-AS1  \\\n",
       "0       -16.406250  12.164384     0.766909  ...  21.08036    21.39991   \n",
       "1       -40.000000   5.490411     0.773269  ...  21.08036    21.39991   \n",
       "2       -89.436620  61.906849     1.782859  ...  21.08036    21.39991   \n",
       "3        11.787072   1.249315     5.890573  ...  21.08036    21.39991   \n",
       "4         0.000000   5.654795     1.374775  ...  21.08036    21.39991   \n",
       "\n",
       "      LEMD1     PCMT1  RP11-120J4.1  RP11-374M1.2   SDR42E1    TARBP2  \\\n",
       "0  22.39503  31.44953       21.4144      21.24656  30.26124  29.60417   \n",
       "1  22.39503  33.02746       21.4144      21.24656  29.12730  29.61188   \n",
       "2  22.39503  33.75531       21.4144      21.24656  27.22907  31.90343   \n",
       "3  29.70759  33.50304       21.4144      21.24656  22.83731  30.35424   \n",
       "4  22.39503  33.18274       21.4144      21.24656  22.83731  31.60946   \n",
       "\n",
       "   TRIM43B   VN2R17P  \n",
       "0  21.9744  21.12857  \n",
       "1  21.9744  21.12857  \n",
       "2  21.9744  21.12857  \n",
       "3  21.9744  21.12857  \n",
       "4  21.9744  21.12857  \n",
       "\n",
       "[5 rows x 42 columns]"
      ]
     },
     "execution_count": 2,
     "metadata": {},
     "output_type": "execute_result"
    }
   ],
   "source": [
    "path ='../../../../Data_preprocessing/Prediction PFS/RNA+Clinic joined/New/Clinical_data_and_RNA_15_Features_PFS.csv'\n",
    "data = pd.read_csv(path)\n",
    "data.head(5)"
   ]
  },
  {
   "cell_type": "code",
   "execution_count": 3,
   "metadata": {},
   "outputs": [
    {
     "name": "stdout",
     "output_type": "stream",
     "text": [
      "       DLGAP4  EIF4A1P9  FAM172BP      GJA9    GPR155      IL25  LANCL1-AS1  \\\n",
      "0    34.54982  21.37925  21.62929  29.68286  31.81161  21.08036    21.39991   \n",
      "1    34.06647  21.37925  21.62929  26.80539  31.42781  21.08036    21.39991   \n",
      "2    34.42561  25.08766  29.29206  30.09292  30.47292  21.08036    21.39991   \n",
      "3    34.41176  26.76156  21.62929  29.29223  30.72903  21.08036    21.39991   \n",
      "4    34.29088  21.37925  21.62929  32.00382  31.16114  21.08036    21.39991   \n",
      "..        ...       ...       ...       ...       ...       ...         ...   \n",
      "176  34.55658  21.78113  21.49653  28.18967  29.90347  21.43715    21.10533   \n",
      "177  33.15506  21.78113  21.49653  28.18967  31.66030  21.43715    21.10533   \n",
      "178  34.68047  21.78113  25.64475  28.18967  31.92039  21.43715    21.10533   \n",
      "179  35.60014  21.78113  21.49653  33.92530  32.78760  21.43715    21.10533   \n",
      "180  35.23053  21.78113  21.49653  28.18967  30.59097  21.43715    21.10533   \n",
      "\n",
      "        LEMD1     PCMT1  RP11-120J4.1  RP11-374M1.2   SDR42E1    TARBP2  \\\n",
      "0    22.39503  31.44953       21.4144      21.24656  30.26124  29.60417   \n",
      "1    22.39503  33.02746       21.4144      21.24656  29.12730  29.61188   \n",
      "2    22.39503  33.75531       21.4144      21.24656  27.22907  31.90343   \n",
      "3    29.70759  33.50304       21.4144      21.24656  22.83731  30.35424   \n",
      "4    22.39503  33.18274       21.4144      21.24656  22.83731  31.60946   \n",
      "..        ...       ...           ...           ...       ...       ...   \n",
      "176  26.85952  32.98876       21.6491      21.09472  31.49914  31.57179   \n",
      "177  31.77891  34.23711       21.6491      21.09472  28.17083  34.36199   \n",
      "178  21.26068  32.64347       21.6491      21.09472  24.22162  29.30238   \n",
      "179  21.26068  31.39044       21.6491      21.09472  27.21929  30.72343   \n",
      "180  21.26068  32.58132       21.6491      21.09472  32.08324  31.34356   \n",
      "\n",
      "     TRIM43B   VN2R17P  \n",
      "0    21.9744  21.12857  \n",
      "1    21.9744  21.12857  \n",
      "2    21.9744  21.12857  \n",
      "3    21.9744  21.12857  \n",
      "4    21.9744  21.12857  \n",
      "..       ...       ...  \n",
      "176  22.3863  20.96902  \n",
      "177  22.3863  20.96902  \n",
      "178  22.3863  20.96902  \n",
      "179  22.3863  23.88906  \n",
      "180  22.3863  20.96902  \n",
      "\n",
      "[181 rows x 15 columns]\n",
      "Numero de pacientes:  181\n"
     ]
    }
   ],
   "source": [
    "X = data[['DLGAP4', 'EIF4A1P9', 'FAM172BP', 'GJA9', 'GPR155', 'IL25', 'LANCL1-AS1', 'LEMD1', 'PCMT1', 'RP11-120J4.1', 'RP11-374M1.2', 'SDR42E1', 'TARBP2', 'TRIM43B', 'VN2R17P']] #Seleccionamos todas las columnas quitando la columna Unnamed (id de la fila ) y la columna Target.\n",
    "\n",
    "Y = [] # Target column\n",
    "# For each entry I classified it by its PFS value.\n",
    "for i in range (len(data)):\n",
    "    if data.PFS[i]<3: # If PFS is lower than 3 months, I will consider it as NonResponder (NR)\n",
    "        Y.append(0)\n",
    "    elif data.PFS[i]<6:\n",
    "        Y.append(1)\n",
    "    else:\n",
    "        Y.append(2)# If PFS is over 3 months, I will consider it as Responder (R)\n",
    "\n",
    "\n",
    "print(X)\n",
    "print('Numero de pacientes: ',len(Y))"
   ]
  },
  {
   "cell_type": "markdown",
   "metadata": {},
   "source": [
    "### 3. Train-Test dataset split"
   ]
  },
  {
   "cell_type": "code",
   "execution_count": 4,
   "metadata": {},
   "outputs": [
    {
     "name": "stdout",
     "output_type": "stream",
     "text": [
      "Training set size: 144\n",
      "Target column size of the training set: 144\n",
      "Test set size: 37\n",
      "Target column size of the test set: 37\n"
     ]
    }
   ],
   "source": [
    "XTrain, XTest, yTrain, yTest = train_test_split(X, Y, test_size=0.20, random_state=125, stratify=Y)\n",
    "# Convert sets to arrays\n",
    "\n",
    "XTrain = XTrain.values\n",
    "XTest = XTest.values\n",
    "\n",
    "print('Training set size:', len(XTrain))\n",
    "print('Target column size of the training set:', len(yTrain))\n",
    "print('Test set size:', len(XTest))\n",
    "print('Target column size of the test set:', len(yTest))"
   ]
  },
  {
   "cell_type": "markdown",
   "metadata": {},
   "source": [
    "### 4. Select the parameters of the model and fit it"
   ]
  },
  {
   "cell_type": "code",
   "execution_count": 5,
   "metadata": {},
   "outputs": [
    {
     "data": {
      "text/plain": [
       "GridSearchCV(cv=5, estimator=DecisionTreeClassifier(),\n",
       "             param_grid={'criterion': ['entropy', 'gini'],\n",
       "                         'max_depth': [2, 5, 10, 12],\n",
       "                         'min_samples_leaf': [2, 5, 7],\n",
       "                         'min_samples_split': [2, 5], 'random_state': [125],\n",
       "                         'splitter': ['best', 'random']})"
      ]
     },
     "execution_count": 5,
     "metadata": {},
     "output_type": "execute_result"
    }
   ],
   "source": [
    "param_grid = {'min_samples_leaf': [2,5,7],\n",
    "              'min_samples_split': [2, 5],\n",
    "              'max_depth':[2,5,10,12],\n",
    "              'criterion':['entropy','gini'],\n",
    "              'splitter': ['best', 'random'],\n",
    "              'random_state':[125]}\n",
    "\n",
    "# Creamos un GridSearchCV que permite evaluar y seleccionar de forma sistemática los parámetros de nuestro modelo. \n",
    "# Indicándole un modelo y los parámetros a probar, puede evaluar el rendimiento del primero en función de los \n",
    "# segundos mediante validación cruzada.\n",
    "clf = GridSearchCV(DecisionTreeClassifier(), param_grid, cv = 5)\n",
    "\n",
    "clf.fit(XTrain , yTrain)"
   ]
  },
  {
   "cell_type": "code",
   "execution_count": 6,
   "metadata": {},
   "outputs": [
    {
     "name": "stdout",
     "output_type": "stream",
     "text": [
      "Best estimate of parameters according to GridSearchCV:\n"
     ]
    },
    {
     "data": {
      "text/plain": [
       "DecisionTreeClassifier(max_depth=10, min_samples_leaf=5, random_state=125,\n",
       "                       splitter='random')"
      ]
     },
     "execution_count": 6,
     "metadata": {},
     "output_type": "execute_result"
    }
   ],
   "source": [
    "print(\"Best estimate of parameters according to GridSearchCV:\")\n",
    "model = clf.best_estimator_\n",
    "# Fit the model with the best parameters\n",
    "model.fit(XTrain , yTrain)"
   ]
  },
  {
   "cell_type": "code",
   "execution_count": 7,
   "metadata": {},
   "outputs": [
    {
     "name": "stdout",
     "output_type": "stream",
     "text": [
      "Best result of the cross validation of the model with the best paramters:0.4931034482758621\n"
     ]
    }
   ],
   "source": [
    "print(\"Best result of the cross validation of the model with the best paramters:\" +str(clf.best_score_))"
   ]
  },
  {
   "cell_type": "markdown",
   "metadata": {},
   "source": [
    "### 5. Prediction"
   ]
  },
  {
   "cell_type": "code",
   "execution_count": 8,
   "metadata": {},
   "outputs": [],
   "source": [
    "# Making predictions with the optimal model on the training dataset\n",
    "yhatTrain = model.predict(XTrain)\n",
    "contTrain = 0\n",
    "\n",
    "# Comparing with the Target column and check how many hits there have been\n",
    "for i in range(0,len(yTrain),1) :\n",
    "    if (yhatTrain[i] == yTrain[i]):\n",
    "        contTrain = contTrain + 1"
   ]
  },
  {
   "cell_type": "code",
   "execution_count": 9,
   "metadata": {},
   "outputs": [],
   "source": [
    "# Making predictions with the optimal model on the test dataset\n",
    "yhatTest = model.predict(XTest)\n",
    "contTest = 0\n",
    "\n",
    "# Comparing with the Target column and check how many hits there have been\n",
    "for i in range(0,len(yTest),1) :\n",
    "    if (yhatTest[i] == yTest[i]):\n",
    "        contTest = contTest + 1\n"
   ]
  },
  {
   "cell_type": "markdown",
   "metadata": {},
   "source": [
    "### 6. Results"
   ]
  },
  {
   "cell_type": "code",
   "execution_count": 10,
   "metadata": {},
   "outputs": [
    {
     "name": "stdout",
     "output_type": "stream",
     "text": [
      "Final accuracy on the training dataset:0.7222222222222222\n",
      "Final accuracy on the testing dataset: 0.4864864864864865\n"
     ]
    }
   ],
   "source": [
    "print('Final accuracy on the training dataset:' + str(contTrain/len(yTrain)))\n",
    "print('Final accuracy on the testing dataset: ' + str(contTest/len(yTest)))"
   ]
  },
  {
   "cell_type": "code",
   "execution_count": 11,
   "metadata": {},
   "outputs": [
    {
     "name": "stdout",
     "output_type": "stream",
     "text": [
      "----------------Confusion Matrix (Training)------------------\n",
      "[[58  2  7]\n",
      " [ 8  8  9]\n",
      " [12  2 38]]\n",
      "Input data:  [1 0 2 0 2 2 0 0 2 0 2 0 1 0 2 2 0 2 2 2 0 0 0 2 0 0 0 0 1 1 2 2 2 2 0 1 2\n",
      " 0 0 2 1 2 2 1 0 0 2 2 1 0 0 0 2 0 0 2 0 2 1 2 0 2 1 0 0 0 0 2 2 2 0 2 0 0\n",
      " 0 2 0 2 0 0 0 1 2 0 0 1 2 2 1 1 0 2 0 2 0 0 1 0 1 0 0 2 0 0 2 2 2 1 0 2 2\n",
      " 1 2 0 1 0 0 0 2 0 1 0 2 0 0 2 1 1 0 0 0 2 0 1 0 0 0 2 2 2 1 2 0 1]\n",
      "Prediction:        [0 0 2 0 2 2 0 0 0 0 0 0 2 0 2 2 0 2 2 2 0 2 0 0 0 0 0 0 0 2 2 2 2 2 1 0 2\n",
      " 0 0 2 0 2 2 1 0 0 0 2 1 0 0 0 2 0 0 2 0 2 2 2 2 2 1 0 0 0 0 2 0 2 0 0 0 0\n",
      " 0 2 0 2 0 0 2 2 2 0 0 1 2 0 0 1 0 2 0 1 0 0 2 0 0 0 2 2 0 0 2 0 0 0 2 0 1\n",
      " 1 2 0 1 0 0 0 2 0 2 0 2 0 0 2 1 2 0 1 0 2 0 0 2 0 0 2 0 2 2 0 2 2]\n"
     ]
    }
   ],
   "source": [
    "from sklearn.metrics import classification_report,confusion_matrix\n",
    "\n",
    "print('----------------Confusion Matrix (Training)------------------')\n",
    "print(confusion_matrix(yTrain,yhatTrain))\n",
    "print('Input data:  ' + str(np.array(yTrain)))\n",
    "print('Prediction:        ' +str(yhatTrain))"
   ]
  },
  {
   "cell_type": "code",
   "execution_count": 12,
   "metadata": {},
   "outputs": [
    {
     "name": "stdout",
     "output_type": "stream",
     "text": [
      "              precision    recall  f1-score   support\n",
      "\n",
      "           0       0.74      0.87      0.80        67\n",
      "           1       0.67      0.32      0.43        25\n",
      "           2       0.70      0.73      0.72        52\n",
      "\n",
      "    accuracy                           0.72       144\n",
      "   macro avg       0.70      0.64      0.65       144\n",
      "weighted avg       0.72      0.72      0.71       144\n",
      "\n"
     ]
    }
   ],
   "source": [
    "print(classification_report(yTrain,yhatTrain))"
   ]
  },
  {
   "cell_type": "code",
   "execution_count": 13,
   "metadata": {},
   "outputs": [
    {
     "name": "stdout",
     "output_type": "stream",
     "text": [
      "----------------Confusion Matrix (Test)------------------\n",
      "[[12  1  5]\n",
      " [ 2  1  3]\n",
      " [ 7  1  5]]\n",
      "Input data:  [0 1 0 2 0 2 1 0 1 0 2 2 1 2 2 0 1 2 0 0 0 2 1 0 0 2 0 2 2 0 0 0 2 2 0 0 0]\n",
      "Prediction:        [0 2 0 0 1 2 2 2 0 2 0 2 1 0 0 0 2 2 0 0 0 0 0 0 2 1 0 2 0 0 2 0 0 2 2 0 0]\n"
     ]
    }
   ],
   "source": [
    "print('----------------Confusion Matrix (Test)------------------')\n",
    "print(confusion_matrix(yTest,yhatTest))\n",
    "print('Input data:  ' + str(np.array(yTest)))\n",
    "print('Prediction:        ' +str(yhatTest))"
   ]
  },
  {
   "cell_type": "code",
   "execution_count": 14,
   "metadata": {},
   "outputs": [
    {
     "name": "stdout",
     "output_type": "stream",
     "text": [
      "              precision    recall  f1-score   support\n",
      "\n",
      "           0       0.57      0.67      0.62        18\n",
      "           1       0.33      0.17      0.22         6\n",
      "           2       0.38      0.38      0.38        13\n",
      "\n",
      "    accuracy                           0.49        37\n",
      "   macro avg       0.43      0.41      0.41        37\n",
      "weighted avg       0.47      0.49      0.47        37\n",
      "\n"
     ]
    }
   ],
   "source": [
    "print(classification_report(yTest,yhatTest))"
   ]
  },
  {
   "cell_type": "markdown",
   "metadata": {},
   "source": [
    "### 7. Result visualization"
   ]
  },
  {
   "cell_type": "code",
   "execution_count": 15,
   "metadata": {},
   "outputs": [
    {
     "name": "stdout",
     "output_type": "stream",
     "text": [
      "|--- VN2R17P <= 21.43\n",
      "|   |--- RP11-374M1.2 <= 22.69\n",
      "|   |   |--- SDR42E1 <= 28.14\n",
      "|   |   |   |--- TARBP2 <= 31.29\n",
      "|   |   |   |   |--- LEMD1 <= 24.11\n",
      "|   |   |   |   |   |--- FAM172BP <= 24.79\n",
      "|   |   |   |   |   |   |--- class: 2\n",
      "|   |   |   |   |   |--- FAM172BP >  24.79\n",
      "|   |   |   |   |   |   |--- class: 2\n",
      "|   |   |   |   |--- LEMD1 >  24.11\n",
      "|   |   |   |   |   |--- class: 2\n",
      "|   |   |   |--- TARBP2 >  31.29\n",
      "|   |   |   |   |--- RP11-374M1.2 <= 21.00\n",
      "|   |   |   |   |   |--- VN2R17P <= 20.99\n",
      "|   |   |   |   |   |   |--- class: 2\n",
      "|   |   |   |   |   |--- VN2R17P >  20.99\n",
      "|   |   |   |   |   |   |--- class: 0\n",
      "|   |   |   |   |--- RP11-374M1.2 >  21.00\n",
      "|   |   |   |   |   |--- class: 0\n",
      "|   |   |--- SDR42E1 >  28.14\n",
      "|   |   |   |--- RP11-374M1.2 <= 21.06\n",
      "|   |   |   |   |--- TRIM43B <= 21.11\n",
      "|   |   |   |   |   |--- SDR42E1 <= 29.89\n",
      "|   |   |   |   |   |   |--- class: 0\n",
      "|   |   |   |   |   |--- SDR42E1 >  29.89\n",
      "|   |   |   |   |   |   |--- class: 0\n",
      "|   |   |   |   |--- TRIM43B >  21.11\n",
      "|   |   |   |   |   |--- RP11-120J4.1 <= 23.92\n",
      "|   |   |   |   |   |   |--- LEMD1 <= 26.73\n",
      "|   |   |   |   |   |   |   |--- PCMT1 <= 32.87\n",
      "|   |   |   |   |   |   |   |   |--- GJA9 <= 30.10\n",
      "|   |   |   |   |   |   |   |   |   |--- class: 2\n",
      "|   |   |   |   |   |   |   |   |--- GJA9 >  30.10\n",
      "|   |   |   |   |   |   |   |   |   |--- class: 2\n",
      "|   |   |   |   |   |   |   |--- PCMT1 >  32.87\n",
      "|   |   |   |   |   |   |   |   |--- class: 1\n",
      "|   |   |   |   |   |   |--- LEMD1 >  26.73\n",
      "|   |   |   |   |   |   |   |--- class: 1\n",
      "|   |   |   |   |   |--- RP11-120J4.1 >  23.92\n",
      "|   |   |   |   |   |   |--- class: 0\n",
      "|   |   |   |--- RP11-374M1.2 >  21.06\n",
      "|   |   |   |   |--- TARBP2 <= 29.87\n",
      "|   |   |   |   |   |--- class: 2\n",
      "|   |   |   |   |--- TARBP2 >  29.87\n",
      "|   |   |   |   |   |--- TRIM43B <= 22.10\n",
      "|   |   |   |   |   |   |--- SDR42E1 <= 30.35\n",
      "|   |   |   |   |   |   |   |--- class: 0\n",
      "|   |   |   |   |   |   |--- SDR42E1 >  30.35\n",
      "|   |   |   |   |   |   |   |--- class: 0\n",
      "|   |   |   |   |   |--- TRIM43B >  22.10\n",
      "|   |   |   |   |   |   |--- class: 0\n",
      "|   |--- RP11-374M1.2 >  22.69\n",
      "|   |   |--- class: 0\n",
      "|--- VN2R17P >  21.43\n",
      "|   |--- class: 0\n",
      "\n"
     ]
    }
   ],
   "source": [
    "from sklearn.tree import export_text\n",
    "\n",
    "texto_modelo = export_text(\n",
    "                    decision_tree = model,\n",
    "                    feature_names =['DLGAP4', 'EIF4A1P9', 'FAM172BP', 'GJA9', 'GPR155', 'IL25', 'LANCL1-AS1', 'LEMD1', 'PCMT1', 'RP11-120J4.1', 'RP11-374M1.2', 'SDR42E1', 'TARBP2', 'TRIM43B', 'VN2R17P']\n",
    "\n",
    "               )\n",
    "print(texto_modelo)"
   ]
  }
 ],
 "metadata": {
  "kernelspec": {
   "display_name": "Python 3.9.13 64-bit (microsoft store)",
   "language": "python",
   "name": "python3"
  },
  "language_info": {
   "codemirror_mode": {
    "name": "ipython",
    "version": 3
   },
   "file_extension": ".py",
   "mimetype": "text/x-python",
   "name": "python",
   "nbconvert_exporter": "python",
   "pygments_lexer": "ipython3",
   "version": "3.9.13"
  },
  "orig_nbformat": 4,
  "vscode": {
   "interpreter": {
    "hash": "fb15f1e0f376981e7b6e1fc44ae8b8146823f10f258bcd6e448b0230b889fc06"
   }
  }
 },
 "nbformat": 4,
 "nbformat_minor": 2
}
