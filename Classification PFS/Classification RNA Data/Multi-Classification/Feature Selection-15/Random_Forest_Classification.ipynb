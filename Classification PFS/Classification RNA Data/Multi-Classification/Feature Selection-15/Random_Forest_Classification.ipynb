{
 "cells": [
  {
   "cell_type": "markdown",
   "metadata": {},
   "source": [
    "# Classification model using Random Forest"
   ]
  },
  {
   "cell_type": "markdown",
   "metadata": {},
   "source": [
    "### 1. Import libraries"
   ]
  },
  {
   "cell_type": "code",
   "execution_count": 16,
   "metadata": {},
   "outputs": [],
   "source": [
    "import pandas as pd\n",
    "import numpy as np\n",
    "import matplotlib.pyplot as plt\n",
    "from sklearn.model_selection import train_test_split\n",
    "from sklearn.ensemble import RandomForestClassifier\n",
    "from sklearn.model_selection import GridSearchCV\n",
    "from sklearn.decomposition import PCA"
   ]
  },
  {
   "cell_type": "markdown",
   "metadata": {},
   "source": [
    "### 2. Upload RNA data"
   ]
  },
  {
   "cell_type": "code",
   "execution_count": 17,
   "metadata": {},
   "outputs": [
    {
     "data": {
      "text/html": [
       "<div>\n",
       "<style scoped>\n",
       "    .dataframe tbody tr th:only-of-type {\n",
       "        vertical-align: middle;\n",
       "    }\n",
       "\n",
       "    .dataframe tbody tr th {\n",
       "        vertical-align: top;\n",
       "    }\n",
       "\n",
       "    .dataframe thead th {\n",
       "        text-align: right;\n",
       "    }\n",
       "</style>\n",
       "<table border=\"1\" class=\"dataframe\">\n",
       "  <thead>\n",
       "    <tr style=\"text-align: right;\">\n",
       "      <th></th>\n",
       "      <th>Unnamed: 0</th>\n",
       "      <th>RNA_ID</th>\n",
       "      <th>Age</th>\n",
       "      <th>Sarc</th>\n",
       "      <th>Rhab</th>\n",
       "      <th>Number_of_Prior_Therapies</th>\n",
       "      <th>Days_from_TumorSample_Collection_and_Start_of_Trial_Therapy</th>\n",
       "      <th>Tumor_Shrinkage</th>\n",
       "      <th>PFS</th>\n",
       "      <th>TM_TC_Ratio</th>\n",
       "      <th>...</th>\n",
       "      <th>IL25</th>\n",
       "      <th>LANCL1-AS1</th>\n",
       "      <th>LEMD1</th>\n",
       "      <th>PCMT1</th>\n",
       "      <th>RP11-120J4.1</th>\n",
       "      <th>RP11-374M1.2</th>\n",
       "      <th>SDR42E1</th>\n",
       "      <th>TARBP2</th>\n",
       "      <th>TRIM43B</th>\n",
       "      <th>VN2R17P</th>\n",
       "    </tr>\n",
       "  </thead>\n",
       "  <tbody>\n",
       "    <tr>\n",
       "      <th>0</th>\n",
       "      <td>0</td>\n",
       "      <td>G138701_RCCBMS-00020-T_v1_RNA_OnPrem</td>\n",
       "      <td>62.0</td>\n",
       "      <td>0.0</td>\n",
       "      <td>0.0</td>\n",
       "      <td>2.0</td>\n",
       "      <td>707.0</td>\n",
       "      <td>0.0</td>\n",
       "      <td>12.164384</td>\n",
       "      <td>1.374775</td>\n",
       "      <td>...</td>\n",
       "      <td>21.08036</td>\n",
       "      <td>21.39991</td>\n",
       "      <td>22.39503</td>\n",
       "      <td>31.44953</td>\n",
       "      <td>21.4144</td>\n",
       "      <td>21.24656</td>\n",
       "      <td>30.26124</td>\n",
       "      <td>29.60417</td>\n",
       "      <td>21.9744</td>\n",
       "      <td>21.12857</td>\n",
       "    </tr>\n",
       "    <tr>\n",
       "      <th>1</th>\n",
       "      <td>1</td>\n",
       "      <td>G138701_RCCBMS-00097-T_v1_RNA_OnPrem</td>\n",
       "      <td>62.0</td>\n",
       "      <td>0.0</td>\n",
       "      <td>0.0</td>\n",
       "      <td>2.0</td>\n",
       "      <td>707.0</td>\n",
       "      <td>0.0</td>\n",
       "      <td>5.490411</td>\n",
       "      <td>1.374775</td>\n",
       "      <td>...</td>\n",
       "      <td>21.08036</td>\n",
       "      <td>21.39991</td>\n",
       "      <td>22.39503</td>\n",
       "      <td>33.02746</td>\n",
       "      <td>21.4144</td>\n",
       "      <td>21.24656</td>\n",
       "      <td>29.12730</td>\n",
       "      <td>29.61188</td>\n",
       "      <td>21.9744</td>\n",
       "      <td>21.12857</td>\n",
       "    </tr>\n",
       "    <tr>\n",
       "      <th>2</th>\n",
       "      <td>2</td>\n",
       "      <td>G138701_RCCBMS-00141-T_v1_RNA_OnPrem</td>\n",
       "      <td>62.0</td>\n",
       "      <td>0.0</td>\n",
       "      <td>0.0</td>\n",
       "      <td>1.0</td>\n",
       "      <td>707.0</td>\n",
       "      <td>0.0</td>\n",
       "      <td>61.906849</td>\n",
       "      <td>1.374775</td>\n",
       "      <td>...</td>\n",
       "      <td>21.08036</td>\n",
       "      <td>21.39991</td>\n",
       "      <td>22.39503</td>\n",
       "      <td>33.75531</td>\n",
       "      <td>21.4144</td>\n",
       "      <td>21.24656</td>\n",
       "      <td>27.22907</td>\n",
       "      <td>31.90343</td>\n",
       "      <td>21.9744</td>\n",
       "      <td>21.12857</td>\n",
       "    </tr>\n",
       "    <tr>\n",
       "      <th>3</th>\n",
       "      <td>3</td>\n",
       "      <td>G138701_RCCBMS-00099-T_v1_RNA_OnPrem</td>\n",
       "      <td>62.0</td>\n",
       "      <td>0.0</td>\n",
       "      <td>0.0</td>\n",
       "      <td>3.0</td>\n",
       "      <td>707.0</td>\n",
       "      <td>0.0</td>\n",
       "      <td>1.249315</td>\n",
       "      <td>1.374775</td>\n",
       "      <td>...</td>\n",
       "      <td>21.08036</td>\n",
       "      <td>21.39991</td>\n",
       "      <td>29.70759</td>\n",
       "      <td>33.50304</td>\n",
       "      <td>21.4144</td>\n",
       "      <td>21.24656</td>\n",
       "      <td>22.83731</td>\n",
       "      <td>30.35424</td>\n",
       "      <td>21.9744</td>\n",
       "      <td>21.12857</td>\n",
       "    </tr>\n",
       "    <tr>\n",
       "      <th>4</th>\n",
       "      <td>4</td>\n",
       "      <td>G138701_RCCBMS-00163-T_v1_RNA_OnPrem</td>\n",
       "      <td>62.0</td>\n",
       "      <td>0.0</td>\n",
       "      <td>0.0</td>\n",
       "      <td>2.0</td>\n",
       "      <td>707.0</td>\n",
       "      <td>0.0</td>\n",
       "      <td>5.654795</td>\n",
       "      <td>1.374775</td>\n",
       "      <td>...</td>\n",
       "      <td>21.08036</td>\n",
       "      <td>21.39991</td>\n",
       "      <td>22.39503</td>\n",
       "      <td>33.18274</td>\n",
       "      <td>21.4144</td>\n",
       "      <td>21.24656</td>\n",
       "      <td>22.83731</td>\n",
       "      <td>31.60946</td>\n",
       "      <td>21.9744</td>\n",
       "      <td>21.12857</td>\n",
       "    </tr>\n",
       "  </tbody>\n",
       "</table>\n",
       "<p>5 rows × 42 columns</p>\n",
       "</div>"
      ],
      "text/plain": [
       "   Unnamed: 0                                RNA_ID   Age  Sarc  Rhab  \\\n",
       "0           0  G138701_RCCBMS-00020-T_v1_RNA_OnPrem  62.0   0.0   0.0   \n",
       "1           1  G138701_RCCBMS-00097-T_v1_RNA_OnPrem  62.0   0.0   0.0   \n",
       "2           2  G138701_RCCBMS-00141-T_v1_RNA_OnPrem  62.0   0.0   0.0   \n",
       "3           3  G138701_RCCBMS-00099-T_v1_RNA_OnPrem  62.0   0.0   0.0   \n",
       "4           4  G138701_RCCBMS-00163-T_v1_RNA_OnPrem  62.0   0.0   0.0   \n",
       "\n",
       "   Number_of_Prior_Therapies  \\\n",
       "0                        2.0   \n",
       "1                        2.0   \n",
       "2                        1.0   \n",
       "3                        3.0   \n",
       "4                        2.0   \n",
       "\n",
       "   Days_from_TumorSample_Collection_and_Start_of_Trial_Therapy  \\\n",
       "0                                              707.0             \n",
       "1                                              707.0             \n",
       "2                                              707.0             \n",
       "3                                              707.0             \n",
       "4                                              707.0             \n",
       "\n",
       "   Tumor_Shrinkage        PFS  TM_TC_Ratio  ...      IL25  LANCL1-AS1  \\\n",
       "0              0.0  12.164384     1.374775  ...  21.08036    21.39991   \n",
       "1              0.0   5.490411     1.374775  ...  21.08036    21.39991   \n",
       "2              0.0  61.906849     1.374775  ...  21.08036    21.39991   \n",
       "3              0.0   1.249315     1.374775  ...  21.08036    21.39991   \n",
       "4              0.0   5.654795     1.374775  ...  21.08036    21.39991   \n",
       "\n",
       "      LEMD1     PCMT1  RP11-120J4.1  RP11-374M1.2   SDR42E1    TARBP2  \\\n",
       "0  22.39503  31.44953       21.4144      21.24656  30.26124  29.60417   \n",
       "1  22.39503  33.02746       21.4144      21.24656  29.12730  29.61188   \n",
       "2  22.39503  33.75531       21.4144      21.24656  27.22907  31.90343   \n",
       "3  29.70759  33.50304       21.4144      21.24656  22.83731  30.35424   \n",
       "4  22.39503  33.18274       21.4144      21.24656  22.83731  31.60946   \n",
       "\n",
       "   TRIM43B   VN2R17P  \n",
       "0  21.9744  21.12857  \n",
       "1  21.9744  21.12857  \n",
       "2  21.9744  21.12857  \n",
       "3  21.9744  21.12857  \n",
       "4  21.9744  21.12857  \n",
       "\n",
       "[5 rows x 42 columns]"
      ]
     },
     "execution_count": 17,
     "metadata": {},
     "output_type": "execute_result"
    }
   ],
   "source": [
    "path ='../../../../Data_preprocessing/Prediction PFS/RNA+Clinic joined/Clinical_data_and_RNA_15_Features_PFS.csv'\n",
    "data = pd.read_csv(path)\n",
    "data.head(5)"
   ]
  },
  {
   "cell_type": "code",
   "execution_count": 18,
   "metadata": {},
   "outputs": [
    {
     "name": "stdout",
     "output_type": "stream",
     "text": [
      "       DLGAP4  EIF4A1P9  FAM172BP      GJA9    GPR155      IL25  LANCL1-AS1  \\\n",
      "0    34.54982  21.37925  21.62929  29.68286  31.81161  21.08036    21.39991   \n",
      "1    34.06647  21.37925  21.62929  26.80539  31.42781  21.08036    21.39991   \n",
      "2    34.42561  25.08766  29.29206  30.09292  30.47292  21.08036    21.39991   \n",
      "3    34.41176  26.76156  21.62929  29.29223  30.72903  21.08036    21.39991   \n",
      "4    34.29088  21.37925  21.62929  32.00382  31.16114  21.08036    21.39991   \n",
      "..        ...       ...       ...       ...       ...       ...         ...   \n",
      "176  34.55658  21.78113  21.49653  28.18967  29.90347  21.43715    21.10533   \n",
      "177  33.15506  21.78113  21.49653  28.18967  31.66030  21.43715    21.10533   \n",
      "178  34.68047  21.78113  25.64475  28.18967  31.92039  21.43715    21.10533   \n",
      "179  35.60014  21.78113  21.49653  33.92530  32.78760  21.43715    21.10533   \n",
      "180  35.23053  21.78113  21.49653  28.18967  30.59097  21.43715    21.10533   \n",
      "\n",
      "        LEMD1     PCMT1  RP11-120J4.1  RP11-374M1.2   SDR42E1    TARBP2  \\\n",
      "0    22.39503  31.44953       21.4144      21.24656  30.26124  29.60417   \n",
      "1    22.39503  33.02746       21.4144      21.24656  29.12730  29.61188   \n",
      "2    22.39503  33.75531       21.4144      21.24656  27.22907  31.90343   \n",
      "3    29.70759  33.50304       21.4144      21.24656  22.83731  30.35424   \n",
      "4    22.39503  33.18274       21.4144      21.24656  22.83731  31.60946   \n",
      "..        ...       ...           ...           ...       ...       ...   \n",
      "176  26.85952  32.98876       21.6491      21.09472  31.49914  31.57179   \n",
      "177  31.77891  34.23711       21.6491      21.09472  28.17083  34.36199   \n",
      "178  21.26068  32.64347       21.6491      21.09472  24.22162  29.30238   \n",
      "179  21.26068  31.39044       21.6491      21.09472  27.21929  30.72343   \n",
      "180  21.26068  32.58132       21.6491      21.09472  32.08324  31.34356   \n",
      "\n",
      "     TRIM43B   VN2R17P  \n",
      "0    21.9744  21.12857  \n",
      "1    21.9744  21.12857  \n",
      "2    21.9744  21.12857  \n",
      "3    21.9744  21.12857  \n",
      "4    21.9744  21.12857  \n",
      "..       ...       ...  \n",
      "176  22.3863  20.96902  \n",
      "177  22.3863  20.96902  \n",
      "178  22.3863  20.96902  \n",
      "179  22.3863  23.88906  \n",
      "180  22.3863  20.96902  \n",
      "\n",
      "[181 rows x 15 columns]\n",
      "Numero de pacientes:  181\n"
     ]
    }
   ],
   "source": [
    "X = data[['DLGAP4', 'EIF4A1P9', 'FAM172BP', 'GJA9', 'GPR155', 'IL25', 'LANCL1-AS1', 'LEMD1', 'PCMT1', 'RP11-120J4.1', 'RP11-374M1.2', 'SDR42E1', 'TARBP2', 'TRIM43B', 'VN2R17P']] #Seleccionamos todas las columnas quitando la columna Unnamed (id de la fila ) y la columna Target.\n",
    "\n",
    "Y = [] # Target column\n",
    "# For each entry I classified it by its PFS value.\n",
    "for i in range (len(data)):\n",
    "    if data.PFS[i]<3: # If PFS is lower than 3 months, I will consider it as NonResponder (NR)\n",
    "        Y.append(0)\n",
    "    elif data.PFS[i]<6:\n",
    "        Y.append(1)\n",
    "    else:\n",
    "        Y.append(2)# If PFS is over 3 months, I will consider it as Responder (R)\n",
    "\n",
    "\n",
    "print(X)\n",
    "print('Numero de pacientes: ',len(Y))"
   ]
  },
  {
   "cell_type": "markdown",
   "metadata": {},
   "source": [
    "### 3. Train-Test dataset split"
   ]
  },
  {
   "cell_type": "code",
   "execution_count": 19,
   "metadata": {},
   "outputs": [
    {
     "name": "stdout",
     "output_type": "stream",
     "text": [
      "Training set size: 144\n",
      "Target column size of the training set: 144\n",
      "Test set size: 37\n",
      "Target column size of the test set: 37\n"
     ]
    }
   ],
   "source": [
    "XTrain, XTest, yTrain, yTest = train_test_split(X, Y, test_size=0.2, random_state=125)\n",
    "\n",
    "print('Training set size:', len(XTrain))\n",
    "print('Target column size of the training set:', len(yTrain))\n",
    "print('Test set size:', len(XTest))\n",
    "print('Target column size of the test set:', len(yTest))"
   ]
  },
  {
   "cell_type": "markdown",
   "metadata": {},
   "source": [
    "### 4. Select the parameters of the model and fit it"
   ]
  },
  {
   "cell_type": "code",
   "execution_count": 5,
   "metadata": {},
   "outputs": [
    {
     "data": {
      "text/plain": [
       "GridSearchCV(cv=5, estimator=RandomForestClassifier(),\n",
       "             param_grid={'bootstrap': [True, False],\n",
       "                         'criterion': ['gini', 'entropy'],\n",
       "                         'max_depth': [None, 2, 5, 10, 50],\n",
       "                         'min_samples_leaf': [1, 2, 3],\n",
       "                         'min_samples_split': [2, 3, 4, 5],\n",
       "                         'n_estimators': [10, 20], 'random_state': [125]})"
      ]
     },
     "execution_count": 5,
     "metadata": {},
     "output_type": "execute_result"
    }
   ],
   "source": [
    "param_grid = {'min_samples_leaf': [1, 2, 3],\n",
    "              'min_samples_split': [2, 3, 4, 5],\n",
    "              'random_state':[125],\n",
    "              'n_estimators': [10, 20],\n",
    "              'bootstrap': [True, False],\n",
    "              'criterion': ['gini', 'entropy'],\n",
    "              'max_depth':[None, 2, 5, 10,50]\n",
    "              }\n",
    "\n",
    "# I created a GridSearchCV which allows us to systematically evaluate and select the parameters of our model.\n",
    "# By indicating a model and the parameters to test, you can evaluate the performance of the first one based on the\n",
    "# seconds through cross validation.\n",
    "clf = GridSearchCV(\n",
    "        estimator  = RandomForestClassifier(),\n",
    "        param_grid = param_grid,\n",
    "        cv=5\n",
    "       )\n",
    "\n",
    "clf.fit(XTrain , yTrain)"
   ]
  },
  {
   "cell_type": "code",
   "execution_count": 6,
   "metadata": {},
   "outputs": [
    {
     "name": "stdout",
     "output_type": "stream",
     "text": [
      "Best estimate of parameters according to GridSearchCV:\n"
     ]
    },
    {
     "data": {
      "text/plain": [
       "RandomForestClassifier(max_depth=10, min_samples_leaf=2, n_estimators=20,\n",
       "                       random_state=125)"
      ]
     },
     "execution_count": 6,
     "metadata": {},
     "output_type": "execute_result"
    }
   ],
   "source": [
    "print(\"Best estimate of parameters according to GridSearchCV:\")\n",
    "model = clf.best_estimator_\n",
    "# Fit the model with the best parameters\n",
    "model.fit(XTrain , yTrain)"
   ]
  },
  {
   "cell_type": "code",
   "execution_count": 7,
   "metadata": {},
   "outputs": [
    {
     "name": "stdout",
     "output_type": "stream",
     "text": [
      "Best result of the cross validation of the model with the best paramters:0.5899014778325122\n"
     ]
    }
   ],
   "source": [
    "print(\"Best result of the cross validation of the model with the best paramters:\" +str(clf.best_score_))"
   ]
  },
  {
   "cell_type": "markdown",
   "metadata": {},
   "source": [
    "### 5. Prediction"
   ]
  },
  {
   "cell_type": "code",
   "execution_count": 8,
   "metadata": {},
   "outputs": [],
   "source": [
    "# Making predictions with the optimal model on the training dataset\n",
    "yhatTrain = model.predict(XTrain)\n",
    "contTrain = 0\n",
    "\n",
    "# Comparing with the Target column and check how many hits there have been\n",
    "for i in range(0,len(yTrain),1) :\n",
    "    if (yhatTrain[i] == yTrain[i]):\n",
    "        contTrain = contTrain + 1"
   ]
  },
  {
   "cell_type": "code",
   "execution_count": 9,
   "metadata": {},
   "outputs": [],
   "source": [
    "# Making predictions with the optimal model on the test dataset\n",
    "yhatTest = model.predict(XTest)\n",
    "contTest = 0\n",
    "\n",
    "# Comparing with the Target column and check how many hits there have been\n",
    "for i in range(0,len(yTest),1) :\n",
    "    if (yhatTest[i] == yTest[i]):\n",
    "        contTest = contTest + 1"
   ]
  },
  {
   "cell_type": "code",
   "execution_count": 10,
   "metadata": {},
   "outputs": [
    {
     "name": "stdout",
     "output_type": "stream",
     "text": [
      "Final accuracy on the training dataset: 0.9861111111111112\n",
      "Final accuracy on the testing dataset: 0.4594594594594595\n"
     ]
    }
   ],
   "source": [
    "print('Final accuracy on the training dataset: ' + str(contTrain/len(yTrain)))\n",
    "print('Final accuracy on the testing dataset: ' + str(contTest/len(yTest)))"
   ]
  },
  {
   "cell_type": "code",
   "execution_count": 11,
   "metadata": {},
   "outputs": [
    {
     "name": "stdout",
     "output_type": "stream",
     "text": [
      "----------------Confusion Matrix (Training)------------------\n",
      "[[65  0  0]\n",
      " [ 2 26  0]\n",
      " [ 0  0 51]]\n",
      "Input data:  [0 2 1 1 1 1 0 2 0 1 2 2 1 0 2 0 2 0 0 0 2 1 0 0 2 2 0 1 0 0 1 1 0 2 1 0 1\n",
      " 2 0 2 2 0 0 1 0 1 1 0 1 0 0 1 0 0 0 2 0 2 0 2 1 0 2 2 0 2 2 2 0 2 0 2 0 2\n",
      " 2 0 0 2 0 0 1 2 1 0 0 0 0 2 1 2 2 0 0 2 2 2 2 0 0 0 2 0 2 0 0 0 0 1 0 2 0\n",
      " 2 0 2 1 0 0 0 0 1 2 2 0 2 0 2 2 0 1 2 0 1 2 0 0 2 2 1 2 1 2 2 0 0]\n",
      "Prediction:        [0 2 0 1 1 1 0 2 0 0 2 2 1 0 2 0 2 0 0 0 2 1 0 0 2 2 0 1 0 0 1 1 0 2 1 0 1\n",
      " 2 0 2 2 0 0 1 0 1 1 0 1 0 0 1 0 0 0 2 0 2 0 2 1 0 2 2 0 2 2 2 0 2 0 2 0 2\n",
      " 2 0 0 2 0 0 1 2 1 0 0 0 0 2 1 2 2 0 0 2 2 2 2 0 0 0 2 0 2 0 0 0 0 1 0 2 0\n",
      " 2 0 2 1 0 0 0 0 1 2 2 0 2 0 2 2 0 1 2 0 1 2 0 0 2 2 1 2 1 2 2 0 0]\n"
     ]
    }
   ],
   "source": [
    "from sklearn.metrics import classification_report,confusion_matrix\n",
    "\n",
    "print('----------------Confusion Matrix (Training)------------------')\n",
    "print(confusion_matrix(yTrain,yhatTrain))\n",
    "print('Input data:  ' + str(np.array(yTrain)))\n",
    "print('Prediction:        ' +str(yhatTrain))"
   ]
  },
  {
   "cell_type": "code",
   "execution_count": 12,
   "metadata": {},
   "outputs": [
    {
     "name": "stdout",
     "output_type": "stream",
     "text": [
      "              precision    recall  f1-score   support\n",
      "\n",
      "           0       0.97      1.00      0.98        65\n",
      "           1       1.00      0.93      0.96        28\n",
      "           2       1.00      1.00      1.00        51\n",
      "\n",
      "    accuracy                           0.99       144\n",
      "   macro avg       0.99      0.98      0.98       144\n",
      "weighted avg       0.99      0.99      0.99       144\n",
      "\n"
     ]
    }
   ],
   "source": [
    "print(classification_report(yTrain,yhatTrain))"
   ]
  },
  {
   "cell_type": "code",
   "execution_count": 13,
   "metadata": {},
   "outputs": [
    {
     "name": "stdout",
     "output_type": "stream",
     "text": [
      "----------------Confusion Matrix (Test)------------------\n",
      "[[12  1  7]\n",
      " [ 1  0  2]\n",
      " [ 9  0  5]]\n",
      "Input data:  [1 0 0 2 2 1 0 2 2 2 0 0 0 0 0 0 2 0 1 0 0 0 0 2 0 0 2 2 2 0 0 2 0 0 2 2 2]\n",
      "Prediction:        [2 2 2 0 0 2 0 2 2 2 2 2 0 0 0 2 0 0 0 0 1 0 2 0 2 0 0 0 0 0 0 2 0 0 2 0 0]\n"
     ]
    }
   ],
   "source": [
    "print('----------------Confusion Matrix (Test)------------------')\n",
    "print(confusion_matrix(yTest,yhatTest))\n",
    "print('Input data:  ' + str(np.array(yTest)))\n",
    "print('Prediction:        ' +str(yhatTest))"
   ]
  },
  {
   "cell_type": "code",
   "execution_count": 14,
   "metadata": {},
   "outputs": [
    {
     "name": "stdout",
     "output_type": "stream",
     "text": [
      "              precision    recall  f1-score   support\n",
      "\n",
      "           0       0.55      0.60      0.57        20\n",
      "           1       0.00      0.00      0.00         3\n",
      "           2       0.36      0.36      0.36        14\n",
      "\n",
      "    accuracy                           0.46        37\n",
      "   macro avg       0.30      0.32      0.31        37\n",
      "weighted avg       0.43      0.46      0.44        37\n",
      "\n"
     ]
    }
   ],
   "source": [
    "print(classification_report(yTest,yhatTest))"
   ]
  },
  {
   "cell_type": "code",
   "execution_count": 15,
   "metadata": {},
   "outputs": [
    {
     "name": "stdout",
     "output_type": "stream",
     "text": [
      "Features with relevance over 0:  15\n",
      "Features with relevance over 0.04:  13\n"
     ]
    },
    {
     "data": {
      "image/png": "[encoded data removed]",
      "text/plain": [
       "<Figure size 432x288 with 1 Axes>"
      ]
     },
     "metadata": {
      "needs_background": "light"
     },
     "output_type": "display_data"
    },
    {
     "name": "stdout",
     "output_type": "stream",
     "text": [
      "DLGAP4 = 0.07298085165914533\n",
      "EIF4A1P9 = 0.0412943016182735\n",
      "FAM172BP = 0.04132344549367144\n",
      "GJA9 = 0.10286762295375426\n",
      "GPR155 = 0.07679774813843736\n",
      "IL25 = 0.06893685744388794\n",
      "LANCL1-AS1 = 0.012583254612210413\n",
      "LEMD1 = 0.06579620138575495\n",
      "PCMT1 = 0.10051668957672369\n",
      "RP11-120J4.1 = 0.04339221097487539\n",
      "RP11-374M1.2 = 0.06637780016664299\n",
      "SDR42E1 = 0.08533761294637596\n",
      "TARBP2 = 0.14743945651050586\n",
      "TRIM43B = 0.04707126027137417\n",
      "VN2R17P = 0.027284686248366708\n"
     ]
    }
   ],
   "source": [
    "# Mediante el modelo creado podemos ver qué atributos son los más significativos para toamr una decisión.\n",
    "# Los atributos conmyor relevancia serán los que estén colocados en la cima del árbol.\n",
    "features = list(X)\n",
    "importances = model.feature_importances_\n",
    "\n",
    "elems_over_0 = np.fromiter((element for element in importances if element > 0), dtype = importances.dtype)\n",
    "print('Features with relevance over 0: ', len(elems_over_0))\n",
    "\n",
    "newArray = np.fromiter((element for element in importances if element > 0.04), dtype = importances.dtype)\n",
    "importances=newArray\n",
    "indices = np.argsort(importances)\n",
    "print('Features with relevance over 0.04: ', len(newArray))\n",
    "\n",
    "plt.title('Relevancia de los atributos')\n",
    "plt.barh(range(len(indices)), importances[indices], color='b', align='center')\n",
    "plt.yticks(range(len(indices)), [features[i] for i in indices])\n",
    "plt.xlabel('Importancia relativa')\n",
    "plt.show()\n",
    "\n",
    "for name, importance in zip(X, model.feature_importances_):\n",
    "    print(name, \"=\", importance)\n",
    "# Los atributos que cuya relevancia es 0, no serán necesarios para realizar la predicción del target."
   ]
  }
 ],
 "metadata": {
  "interpreter": {
   "hash": "173607e09da2ffe2d433f1218cab6faa8c4cbe5c89eb01ef45bf4a279737dd84"
  },
  "kernelspec": {
   "display_name": "Python 3.8.8 ('base')",
   "language": "python",
   "name": "python3"
  },
  "language_info": {
   "codemirror_mode": {
    "name": "ipython",
    "version": 3
   },
   "file_extension": ".py",
   "mimetype": "text/x-python",
   "name": "python",
   "nbconvert_exporter": "python",
   "pygments_lexer": "ipython3",
   "version": "3.8.8"
  },
  "orig_nbformat": 4
 },
 "nbformat": 4,
 "nbformat_minor": 2
}
