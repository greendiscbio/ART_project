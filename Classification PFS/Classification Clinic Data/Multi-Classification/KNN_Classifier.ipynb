{
 "cells": [
  {
   "cell_type": "markdown",
   "metadata": {},
   "source": [
    "# Classification model using KNN"
   ]
  },
  {
   "cell_type": "markdown",
   "metadata": {},
   "source": [
    "### 1. Import libraries"
   ]
  },
  {
   "cell_type": "code",
   "execution_count": 17,
   "metadata": {},
   "outputs": [],
   "source": [
    "import pandas as pd\n",
    "from sklearn import neighbors\n",
    "import matplotlib.pyplot as plt\n",
    "from sklearn.model_selection import train_test_split\n",
    "from sklearn import neighbors\n",
    "from sklearn.neighbors import KNeighborsClassifier\n",
    "from sklearn.metrics import accuracy_score\n",
    "import numpy as np\n",
    "from scipy.spatial import distance\n",
    "from sklearn import model_selection"
   ]
  },
  {
   "cell_type": "markdown",
   "metadata": {},
   "source": [
    "### 2. Upload Clinic data"
   ]
  },
  {
   "cell_type": "code",
   "execution_count": 18,
   "metadata": {},
   "outputs": [
    {
     "data": {
      "text/html": [
       "<div>\n",
       "<style scoped>\n",
       "    .dataframe tbody tr th:only-of-type {\n",
       "        vertical-align: middle;\n",
       "    }\n",
       "\n",
       "    .dataframe tbody tr th {\n",
       "        vertical-align: top;\n",
       "    }\n",
       "\n",
       "    .dataframe thead th {\n",
       "        text-align: right;\n",
       "    }\n",
       "</style>\n",
       "<table border=\"1\" class=\"dataframe\">\n",
       "  <thead>\n",
       "    <tr style=\"text-align: right;\">\n",
       "      <th></th>\n",
       "      <th>Unnamed: 0</th>\n",
       "      <th>RNA_ID</th>\n",
       "      <th>Age</th>\n",
       "      <th>Sarc</th>\n",
       "      <th>Rhab</th>\n",
       "      <th>Number_of_Prior_Therapies</th>\n",
       "      <th>Days_from_TumorSample_Collection_and_Start_of_Trial_Therapy</th>\n",
       "      <th>Tumor_Shrinkage</th>\n",
       "      <th>PFS</th>\n",
       "      <th>TM_TC_Ratio</th>\n",
       "      <th>...</th>\n",
       "      <th>MSKCC_NA</th>\n",
       "      <th>MSKCC_POOR</th>\n",
       "      <th>IMDC_FAVORABLE</th>\n",
       "      <th>IMDC_INTERMEDIATE</th>\n",
       "      <th>IMDC_NOT_REPORTED</th>\n",
       "      <th>IMDC_POOR</th>\n",
       "      <th>ImmunoPhenotype_Desert</th>\n",
       "      <th>ImmunoPhenotype_Excluded</th>\n",
       "      <th>ImmunoPhenotype_Infiltrated</th>\n",
       "      <th>ImmunoPhenotype_NA</th>\n",
       "    </tr>\n",
       "  </thead>\n",
       "  <tbody>\n",
       "    <tr>\n",
       "      <th>0</th>\n",
       "      <td>0</td>\n",
       "      <td>NaN</td>\n",
       "      <td>73</td>\n",
       "      <td>0.0</td>\n",
       "      <td>0.0</td>\n",
       "      <td>2.0</td>\n",
       "      <td>808</td>\n",
       "      <td>0.0</td>\n",
       "      <td>1.545205</td>\n",
       "      <td>-1.0</td>\n",
       "      <td>...</td>\n",
       "      <td>0</td>\n",
       "      <td>0</td>\n",
       "      <td>0</td>\n",
       "      <td>0</td>\n",
       "      <td>1</td>\n",
       "      <td>0</td>\n",
       "      <td>0</td>\n",
       "      <td>0</td>\n",
       "      <td>1</td>\n",
       "      <td>0</td>\n",
       "    </tr>\n",
       "    <tr>\n",
       "      <th>1</th>\n",
       "      <td>1</td>\n",
       "      <td>NaN</td>\n",
       "      <td>55</td>\n",
       "      <td>0.0</td>\n",
       "      <td>0.0</td>\n",
       "      <td>2.0</td>\n",
       "      <td>1826</td>\n",
       "      <td>0.0</td>\n",
       "      <td>3.419178</td>\n",
       "      <td>-1.0</td>\n",
       "      <td>...</td>\n",
       "      <td>0</td>\n",
       "      <td>0</td>\n",
       "      <td>0</td>\n",
       "      <td>0</td>\n",
       "      <td>1</td>\n",
       "      <td>0</td>\n",
       "      <td>1</td>\n",
       "      <td>0</td>\n",
       "      <td>0</td>\n",
       "      <td>0</td>\n",
       "    </tr>\n",
       "    <tr>\n",
       "      <th>2</th>\n",
       "      <td>2</td>\n",
       "      <td>NaN</td>\n",
       "      <td>51</td>\n",
       "      <td>0.0</td>\n",
       "      <td>0.0</td>\n",
       "      <td>1.0</td>\n",
       "      <td>1541</td>\n",
       "      <td>0.0</td>\n",
       "      <td>1.413699</td>\n",
       "      <td>-1.0</td>\n",
       "      <td>...</td>\n",
       "      <td>0</td>\n",
       "      <td>0</td>\n",
       "      <td>0</td>\n",
       "      <td>0</td>\n",
       "      <td>1</td>\n",
       "      <td>0</td>\n",
       "      <td>0</td>\n",
       "      <td>0</td>\n",
       "      <td>1</td>\n",
       "      <td>0</td>\n",
       "    </tr>\n",
       "    <tr>\n",
       "      <th>3</th>\n",
       "      <td>3</td>\n",
       "      <td>NaN</td>\n",
       "      <td>70</td>\n",
       "      <td>0.0</td>\n",
       "      <td>0.0</td>\n",
       "      <td>3.0</td>\n",
       "      <td>-1</td>\n",
       "      <td>0.0</td>\n",
       "      <td>0.394521</td>\n",
       "      <td>-1.0</td>\n",
       "      <td>...</td>\n",
       "      <td>0</td>\n",
       "      <td>1</td>\n",
       "      <td>0</td>\n",
       "      <td>0</td>\n",
       "      <td>1</td>\n",
       "      <td>0</td>\n",
       "      <td>0</td>\n",
       "      <td>0</td>\n",
       "      <td>0</td>\n",
       "      <td>1</td>\n",
       "    </tr>\n",
       "    <tr>\n",
       "      <th>4</th>\n",
       "      <td>4</td>\n",
       "      <td>NaN</td>\n",
       "      <td>59</td>\n",
       "      <td>0.0</td>\n",
       "      <td>0.0</td>\n",
       "      <td>3.0</td>\n",
       "      <td>376</td>\n",
       "      <td>0.0</td>\n",
       "      <td>10.158904</td>\n",
       "      <td>-1.0</td>\n",
       "      <td>...</td>\n",
       "      <td>0</td>\n",
       "      <td>1</td>\n",
       "      <td>0</td>\n",
       "      <td>0</td>\n",
       "      <td>1</td>\n",
       "      <td>0</td>\n",
       "      <td>0</td>\n",
       "      <td>0</td>\n",
       "      <td>1</td>\n",
       "      <td>0</td>\n",
       "    </tr>\n",
       "  </tbody>\n",
       "</table>\n",
       "<p>5 rows × 26 columns</p>\n",
       "</div>"
      ],
      "text/plain": [
       "   Unnamed: 0  RNA_ID  Age  Sarc  Rhab  Number_of_Prior_Therapies  \\\n",
       "0           0     NaN   73   0.0   0.0                        2.0   \n",
       "1           1     NaN   55   0.0   0.0                        2.0   \n",
       "2           2     NaN   51   0.0   0.0                        1.0   \n",
       "3           3     NaN   70   0.0   0.0                        3.0   \n",
       "4           4     NaN   59   0.0   0.0                        3.0   \n",
       "\n",
       "   Days_from_TumorSample_Collection_and_Start_of_Trial_Therapy  \\\n",
       "0                                                808             \n",
       "1                                               1826             \n",
       "2                                               1541             \n",
       "3                                                 -1             \n",
       "4                                                376             \n",
       "\n",
       "   Tumor_Shrinkage        PFS  TM_TC_Ratio  ...  MSKCC_NA  MSKCC_POOR  \\\n",
       "0              0.0   1.545205         -1.0  ...         0           0   \n",
       "1              0.0   3.419178         -1.0  ...         0           0   \n",
       "2              0.0   1.413699         -1.0  ...         0           0   \n",
       "3              0.0   0.394521         -1.0  ...         0           1   \n",
       "4              0.0  10.158904         -1.0  ...         0           1   \n",
       "\n",
       "   IMDC_FAVORABLE  IMDC_INTERMEDIATE  IMDC_NOT_REPORTED  IMDC_POOR  \\\n",
       "0               0                  0                  1          0   \n",
       "1               0                  0                  1          0   \n",
       "2               0                  0                  1          0   \n",
       "3               0                  0                  1          0   \n",
       "4               0                  0                  1          0   \n",
       "\n",
       "   ImmunoPhenotype_Desert  ImmunoPhenotype_Excluded  \\\n",
       "0                       0                         0   \n",
       "1                       1                         0   \n",
       "2                       0                         0   \n",
       "3                       0                         0   \n",
       "4                       0                         0   \n",
       "\n",
       "   ImmunoPhenotype_Infiltrated  ImmunoPhenotype_NA  \n",
       "0                            1                   0  \n",
       "1                            0                   0  \n",
       "2                            1                   0  \n",
       "3                            0                   1  \n",
       "4                            1                   0  \n",
       "\n",
       "[5 rows x 26 columns]"
      ]
     },
     "execution_count": 18,
     "metadata": {},
     "output_type": "execute_result"
    }
   ],
   "source": [
    "path ='../../../Data_preprocessing/Prediction PFS/Clinical_data_categorized_PFS.csv' \n",
    "data = pd.read_csv(path)\n",
    "data.head()"
   ]
  },
  {
   "cell_type": "code",
   "execution_count": 19,
   "metadata": {},
   "outputs": [
    {
     "name": "stdout",
     "output_type": "stream",
     "text": [
      "     Age  Sarc  Rhab  Number_of_Prior_Therapies  \\\n",
      "0     73   0.0   0.0                        2.0   \n",
      "1     55   0.0   0.0                        2.0   \n",
      "2     51   0.0   0.0                        1.0   \n",
      "3     70   0.0   0.0                        3.0   \n",
      "4     59   0.0   0.0                        3.0   \n",
      "..   ...   ...   ...                        ...   \n",
      "285   54   0.0   0.0                        3.0   \n",
      "286   56   0.0   0.0                        2.0   \n",
      "287   65   0.0   0.0                        2.0   \n",
      "288   48   0.0   0.0                        1.0   \n",
      "289   76   0.0   0.0                        2.0   \n",
      "\n",
      "     Days_from_TumorSample_Collection_and_Start_of_Trial_Therapy  \\\n",
      "0                                                  808             \n",
      "1                                                 1826             \n",
      "2                                                 1541             \n",
      "3                                                   -1             \n",
      "4                                                  376             \n",
      "..                                                 ...             \n",
      "285                                               2096             \n",
      "286                                                 -1             \n",
      "287                                               8092             \n",
      "288                                               1018             \n",
      "289                                               2762             \n",
      "\n",
      "     Tumor_Shrinkage  TM_TC_Ratio  Cohort_CM-010  Cohort_CM-025  Sex_Female  \\\n",
      "0                0.0         -1.0              1              0           0   \n",
      "1                0.0         -1.0              1              0           0   \n",
      "2                0.0         -1.0              1              0           0   \n",
      "3                0.0         -1.0              1              0           0   \n",
      "4                0.0         -1.0              1              0           0   \n",
      "..               ...          ...            ...            ...         ...   \n",
      "285              0.0         -1.0              0              1           0   \n",
      "286              0.0         -1.0              0              1           0   \n",
      "287              0.0         -1.0              0              1           0   \n",
      "288              0.0         -1.0              0              1           1   \n",
      "289              0.0         -1.0              0              1           1   \n",
      "\n",
      "     ...  MSKCC_NA  MSKCC_POOR  IMDC_FAVORABLE  IMDC_INTERMEDIATE  \\\n",
      "0    ...         0           0               0                  0   \n",
      "1    ...         0           0               0                  0   \n",
      "2    ...         0           0               0                  0   \n",
      "3    ...         0           1               0                  0   \n",
      "4    ...         0           1               0                  0   \n",
      "..   ...       ...         ...             ...                ...   \n",
      "285  ...         0           0               0                  1   \n",
      "286  ...         0           0               0                  1   \n",
      "287  ...         0           0               0                  1   \n",
      "288  ...         0           1               0                  1   \n",
      "289  ...         0           0               0                  1   \n",
      "\n",
      "     IMDC_NOT_REPORTED  IMDC_POOR  ImmunoPhenotype_Desert  \\\n",
      "0                    1          0                       0   \n",
      "1                    1          0                       1   \n",
      "2                    1          0                       0   \n",
      "3                    1          0                       0   \n",
      "4                    1          0                       0   \n",
      "..                 ...        ...                     ...   \n",
      "285                  0          0                       0   \n",
      "286                  0          0                       0   \n",
      "287                  0          0                       0   \n",
      "288                  0          0                       0   \n",
      "289                  0          0                       0   \n",
      "\n",
      "     ImmunoPhenotype_Excluded  ImmunoPhenotype_Infiltrated  ImmunoPhenotype_NA  \n",
      "0                           0                            1                   0  \n",
      "1                           0                            0                   0  \n",
      "2                           0                            1                   0  \n",
      "3                           0                            0                   1  \n",
      "4                           0                            1                   0  \n",
      "..                        ...                          ...                 ...  \n",
      "285                         0                            0                   1  \n",
      "286                         0                            0                   1  \n",
      "287                         0                            0                   1  \n",
      "288                         0                            0                   1  \n",
      "289                         0                            0                   1  \n",
      "\n",
      "[290 rows x 23 columns]\n",
      "Numero de pacientes:  290\n"
     ]
    }
   ],
   "source": [
    "Y = [] # Target column\n",
    "# For each entry I classified it by its PFS value.\n",
    "for i in range (len(data)):\n",
    "    if data.PFS[i]<3: # If PFS is lower than 3 months, I will consider it as NonResponder (NR)\n",
    "        Y.append(0)\n",
    "    elif data.PFS[i]<6: # If PFS is over 6 months, I will consider it as Responder (R)\n",
    "        Y.append(1)\n",
    "    else:\n",
    "        Y.append(2) # If PFS is between 3 and 6 months, I will consider it as SemiResponder (SR)\n",
    "        \n",
    "data = data.drop('PFS', axis=1) # As we won't need this column any more, I deleted it.\n",
    "\n",
    "X = data.iloc[:,2:26] \n",
    "# I selected all the columns by removing the Unnamed column (row id) and the Target column.\n",
    "print(X)\n",
    "print('Numero de pacientes: ',len(Y))"
   ]
  },
  {
   "cell_type": "markdown",
   "metadata": {},
   "source": [
    "### 3. Train-Test dataset split"
   ]
  },
  {
   "cell_type": "code",
   "execution_count": 20,
   "metadata": {},
   "outputs": [
    {
     "name": "stdout",
     "output_type": "stream",
     "text": [
      "Training set size: 232\n",
      "Target column size of the training set: 232\n",
      "Test set size: 58\n",
      "Target column size of the test set: 58\n"
     ]
    }
   ],
   "source": [
    "XTrain, XTest, yTrain, yTest = train_test_split(X, Y, test_size=0.20, random_state=125)\n",
    "\n",
    "print('Training set size:', len(XTrain))\n",
    "print('Target column size of the training set:', len(yTrain))\n",
    "print('Test set size:', len(XTest))\n",
    "print('Target column size of the test set:', len(yTest))"
   ]
  },
  {
   "cell_type": "markdown",
   "metadata": {},
   "source": [
    "### 4. Study the best value for K"
   ]
  },
  {
   "cell_type": "code",
   "execution_count": 21,
   "metadata": {},
   "outputs": [
    {
     "name": "stdout",
     "output_type": "stream",
     "text": [
      "Best accuracy is obtained with k = 3 and is: 0.5000\n"
     ]
    }
   ],
   "source": [
    "neighbors = list(range(1,8))\n",
    "cek = []\n",
    "list_accuracy = []\n",
    "best_acuracy = 0\n",
    "best_k = 0\n",
    "for k in neighbors:\n",
    "    knn = KNeighborsClassifier(n_neighbors=k)\n",
    "    pred = knn.fit(XTrain, yTrain).predict(XTest)\n",
    "    if accuracy_score(yTest, pred) >= best_acuracy:\n",
    "        best_k = k\n",
    "        best_acuracy=accuracy_score(yTest, pred)\n",
    "    list_accuracy.append(accuracy_score(yTest, pred))\n",
    "\n",
    "print(\"Best accuracy is obtained with k = \" + str(best_k)+ \" and is: %.4f\" % (best_acuracy))\n"
   ]
  },
  {
   "cell_type": "code",
   "execution_count": 22,
   "metadata": {},
   "outputs": [
    {
     "data": {
      "image/png": "[encoded data removed]",
      "text/plain": [
       "<Figure size 432x288 with 1 Axes>"
      ]
     },
     "metadata": {
      "needs_background": "light"
     },
     "output_type": "display_data"
    }
   ],
   "source": [
    "plt.plot(np.append(np.roll(list_accuracy,1),list_accuracy[6]),'ro', color='r', linestyle='dashed',linewidth=1.0, label=\"Graph2\")\n",
    "# Green dot represent best K value\n",
    "plt.plot(best_k, best_acuracy, 'ro', color ='g')\n",
    "plt.axis([1, 7, 0.5, 1])\n",
    "plt.xlabel('K')\n",
    "plt.ylabel('Accuracy')\n",
    "\n",
    "plt.grid()\n",
    "plt.show()"
   ]
  },
  {
   "cell_type": "markdown",
   "metadata": {},
   "source": [
    "### 5. Best metric study (manhattan or euclidean)"
   ]
  },
  {
   "cell_type": "code",
   "execution_count": 23,
   "metadata": {},
   "outputs": [
    {
     "data": {
      "text/plain": [
       "KNeighborsClassifier(metric=<function cityblock at 0x0000023C159B7F70>,\n",
       "                     n_neighbors=3)"
      ]
     },
     "execution_count": 23,
     "metadata": {},
     "output_type": "execute_result"
    }
   ],
   "source": [
    "from sklearn import neighbors\n",
    "# Euclidean distance model\n",
    "euclid_model = KNeighborsClassifier(n_neighbors=best_k, metric=distance.sqeuclidean)\n",
    "euclid_model.fit(XTrain,yTrain) \n",
    "\n",
    "# Manhattan distance model\n",
    "manhattan_model = KNeighborsClassifier(n_neighbors=best_k, metric=distance.cityblock) \n",
    "manhattan_model.fit(XTrain, yTrain)"
   ]
  },
  {
   "cell_type": "markdown",
   "metadata": {},
   "source": [
    "### 6. Predictions"
   ]
  },
  {
   "cell_type": "code",
   "execution_count": 24,
   "metadata": {},
   "outputs": [
    {
     "data": {
      "text/html": [
       "<div>\n",
       "<style scoped>\n",
       "    .dataframe tbody tr th:only-of-type {\n",
       "        vertical-align: middle;\n",
       "    }\n",
       "\n",
       "    .dataframe tbody tr th {\n",
       "        vertical-align: top;\n",
       "    }\n",
       "\n",
       "    .dataframe thead th {\n",
       "        text-align: right;\n",
       "    }\n",
       "</style>\n",
       "<table border=\"1\" class=\"dataframe\">\n",
       "  <thead>\n",
       "    <tr style=\"text-align: right;\">\n",
       "      <th></th>\n",
       "      <th>actual</th>\n",
       "      <th>manhattan</th>\n",
       "      <th>euclid</th>\n",
       "    </tr>\n",
       "  </thead>\n",
       "  <tbody>\n",
       "    <tr>\n",
       "      <th>0</th>\n",
       "      <td>2</td>\n",
       "      <td>2</td>\n",
       "      <td>0</td>\n",
       "    </tr>\n",
       "    <tr>\n",
       "      <th>1</th>\n",
       "      <td>2</td>\n",
       "      <td>2</td>\n",
       "      <td>2</td>\n",
       "    </tr>\n",
       "    <tr>\n",
       "      <th>2</th>\n",
       "      <td>1</td>\n",
       "      <td>1</td>\n",
       "      <td>1</td>\n",
       "    </tr>\n",
       "    <tr>\n",
       "      <th>3</th>\n",
       "      <td>2</td>\n",
       "      <td>0</td>\n",
       "      <td>2</td>\n",
       "    </tr>\n",
       "    <tr>\n",
       "      <th>4</th>\n",
       "      <td>0</td>\n",
       "      <td>0</td>\n",
       "      <td>0</td>\n",
       "    </tr>\n",
       "  </tbody>\n",
       "</table>\n",
       "</div>"
      ],
      "text/plain": [
       "   actual  manhattan  euclid\n",
       "0       2          2       0\n",
       "1       2          2       2\n",
       "2       1          1       1\n",
       "3       2          0       2\n",
       "4       0          0       0"
      ]
     },
     "execution_count": 24,
     "metadata": {},
     "output_type": "execute_result"
    }
   ],
   "source": [
    "manhattan_predictions = manhattan_model.predict(XTest)\n",
    "euclid_predictions = euclid_model.predict(XTest) \n",
    "df = pd.DataFrame({'actual': yTest, 'manhattan': manhattan_predictions, 'euclid': euclid_predictions})\n",
    "df.head()"
   ]
  },
  {
   "cell_type": "code",
   "execution_count": 25,
   "metadata": {},
   "outputs": [
    {
     "name": "stdout",
     "output_type": "stream",
     "text": [
      "Best result of the cross validation of the model (euclidean) with the best paramters:0.40545790934320075\n",
      "Best result of the cross validation of the model (manhattan) with the best paramters:0.40527289546715994\n"
     ]
    }
   ],
   "source": [
    "result1= model_selection.cross_val_score(euclid_model, XTrain, yTrain, cv=5, scoring='accuracy')\n",
    "result2 = model_selection.cross_val_score(manhattan_model, XTrain, yTrain, cv=5, scoring='accuracy')\n",
    "print(\"Best result of the cross validation of the model (euclidean) with the best paramters:\" +str(np.mean(result1)))\n",
    "print(\"Best result of the cross validation of the model (manhattan) with the best paramters:\" +str(np.mean(result2)))"
   ]
  },
  {
   "cell_type": "markdown",
   "metadata": {},
   "source": [
    "#### 6.1. Manhattan model"
   ]
  },
  {
   "cell_type": "code",
   "execution_count": 26,
   "metadata": {},
   "outputs": [],
   "source": [
    "# Making predictions with the optimal model on the training dataset\n",
    "yhatTrain = manhattan_model.predict(XTrain)\n",
    "contTrain = 0\n",
    "\n",
    "# Comparing with the Target column and check how many hits there have been\n",
    "for i in range(0,len(yTrain),1) :\n",
    "    if (yhatTrain[i] == yTrain[i]):\n",
    "        contTrain = contTrain + 1"
   ]
  },
  {
   "cell_type": "code",
   "execution_count": 27,
   "metadata": {},
   "outputs": [],
   "source": [
    "# Making predictions with the optimal model on the test dataset\n",
    "mayhatTest = manhattan_model.predict(XTest)\n",
    "contTest = 0\n",
    "\n",
    "# Comparing with the Target column and check how many hits there have been\n",
    "for i in range(0,len(yTest),1) :\n",
    "    if (mayhatTest[i] == yTest[i]):\n",
    "        contTest = contTest + 1"
   ]
  },
  {
   "cell_type": "code",
   "execution_count": 28,
   "metadata": {},
   "outputs": [
    {
     "name": "stdout",
     "output_type": "stream",
     "text": [
      "Final accuracy on the training dataset (manhattan): 0.6594827586206896\n",
      "Final accuracy on the testing dataset (manhattan): 0.4827586206896552\n"
     ]
    }
   ],
   "source": [
    "print('Final accuracy on the training dataset (manhattan): ' + str(contTrain/len(yTrain)))\n",
    "print('Final accuracy on the testing dataset (manhattan): ' + str(contTest/len(yTest)))"
   ]
  },
  {
   "cell_type": "code",
   "execution_count": 29,
   "metadata": {},
   "outputs": [
    {
     "name": "stdout",
     "output_type": "stream",
     "text": [
      "----------------Confusion Matrix (Training)------------------\n",
      "[[92  4  9]\n",
      " [29 20  5]\n",
      " [28  4 41]]\n",
      "Input data:  [2 0 1 2 0 2 1 2 2 1 1 0 1 0 2 2 2 2 1 2 1 2 1 0 0 2 1 1 0 0 0 2 0 0 1 2 2\n",
      " 2 0 0 2 0 2 2 0 2 1 2 0 0 2 0 2 0 0 0 0 0 1 0 2 1 2 0 2 0 2 2 2 2 2 2 0 2\n",
      " 1 2 0 0 0 0 2 0 0 2 2 2 0 0 1 1 1 2 2 1 1 2 0 0 0 0 2 2 1 0 0 0 1 1 2 2 2\n",
      " 2 0 0 2 0 0 0 0 2 0 1 2 1 2 2 0 1 0 0 0 0 0 0 0 1 0 2 2 1 0 0 0 0 2 2 2 0\n",
      " 1 1 0 2 0 2 2 2 0 0 0 0 1 1 2 0 2 0 0 1 0 0 0 1 2 0 2 1 2 0 2 0 0 0 1 2 1\n",
      " 1 0 1 0 1 1 1 0 0 2 1 0 2 0 1 0 1 0 1 0 0 1 0 0 1 0 0 0 0 0 0 1 0 1 2 1 1\n",
      " 0 2 0 0 2 0 1 1 0 0]\n",
      "Prediction:        [2 0 0 0 2 2 0 2 0 0 0 0 0 0 1 2 2 1 0 0 1 0 1 0 0 0 0 1 0 0 2 2 2 0 0 0 2\n",
      " 2 1 0 2 1 0 2 0 0 1 0 0 0 2 2 0 0 0 2 2 0 1 0 2 0 0 0 2 0 2 2 2 0 0 2 0 0\n",
      " 0 0 0 0 0 0 2 0 0 2 2 2 0 0 1 1 0 2 2 1 0 0 0 0 0 2 2 0 1 0 0 0 0 0 0 2 0\n",
      " 0 0 0 0 0 0 0 0 2 0 0 1 0 2 2 0 0 0 0 0 0 0 0 0 0 0 2 0 0 0 0 0 0 2 2 0 0\n",
      " 0 1 0 2 0 0 2 2 0 0 0 0 1 2 1 0 0 2 1 0 0 0 0 1 2 0 0 1 2 0 2 0 0 0 1 2 1\n",
      " 2 0 0 0 0 1 2 0 0 2 2 0 0 0 1 0 1 2 0 0 0 1 0 0 0 0 0 1 0 0 0 0 0 2 2 0 1\n",
      " 0 2 0 0 0 0 0 0 0 0]\n"
     ]
    }
   ],
   "source": [
    "from sklearn.metrics import classification_report,confusion_matrix\n",
    "\n",
    "print('----------------Confusion Matrix (Training)------------------')\n",
    "print(confusion_matrix(yTrain,yhatTrain))\n",
    "print('Input data:  ' + str(np.array(yTrain)))\n",
    "print('Prediction:        ' +str(yhatTrain))"
   ]
  },
  {
   "cell_type": "code",
   "execution_count": 30,
   "metadata": {},
   "outputs": [
    {
     "name": "stdout",
     "output_type": "stream",
     "text": [
      "              precision    recall  f1-score   support\n",
      "\n",
      "           0       0.62      0.88      0.72       105\n",
      "           1       0.71      0.37      0.49        54\n",
      "           2       0.75      0.56      0.64        73\n",
      "\n",
      "    accuracy                           0.66       232\n",
      "   macro avg       0.69      0.60      0.62       232\n",
      "weighted avg       0.68      0.66      0.64       232\n",
      "\n"
     ]
    }
   ],
   "source": [
    "print(classification_report(yTrain,yhatTrain))"
   ]
  },
  {
   "cell_type": "code",
   "execution_count": 31,
   "metadata": {},
   "outputs": [
    {
     "name": "stdout",
     "output_type": "stream",
     "text": [
      "----------------Confusion Matrix (Test)------------------\n",
      "[[18  1  6]\n",
      " [ 8  3  4]\n",
      " [ 8  3  7]]\n",
      "Input data:  [2 2 1 2 0 1 1 2 2 2 0 0 2 0 1 0 0 2 0 2 2 0 2 2 1 0 0 1 1 0 0 2 1 0 0 0 1\n",
      " 1 1 1 2 2 0 1 0 0 0 0 1 0 2 0 2 1 0 2 0 0]\n",
      "Prediction:        [2 2 1 0 0 0 1 0 1 1 2 0 1 0 1 0 2 2 2 0 0 2 0 2 0 0 0 0 0 0 0 2 2 0 0 0 2\n",
      " 2 0 2 0 2 0 0 0 0 0 2 0 0 0 2 2 0 0 0 0 1]\n"
     ]
    }
   ],
   "source": [
    "from sklearn.metrics import confusion_matrix\n",
    "confusion_matrix = confusion_matrix(yTest, mayhatTest)\n",
    "print('----------------Confusion Matrix (Test)------------------')\n",
    "print(confusion_matrix)\n",
    "print('Input data:  ' + str(np.array(yTest)))\n",
    "print('Prediction:        ' +str(mayhatTest))"
   ]
  },
  {
   "cell_type": "code",
   "execution_count": 32,
   "metadata": {},
   "outputs": [
    {
     "name": "stdout",
     "output_type": "stream",
     "text": [
      "              precision    recall  f1-score   support\n",
      "\n",
      "           0       0.53      0.72      0.61        25\n",
      "           1       0.43      0.20      0.27        15\n",
      "           2       0.41      0.39      0.40        18\n",
      "\n",
      "    accuracy                           0.48        58\n",
      "   macro avg       0.46      0.44      0.43        58\n",
      "weighted avg       0.47      0.48      0.46        58\n",
      "\n"
     ]
    }
   ],
   "source": [
    "print(classification_report(yTest, mayhatTest))"
   ]
  }
 ],
 "metadata": {
  "interpreter": {
   "hash": "260f7526dd70ce5772422b2315019544c135d8a5e5fc89617f90163aa01a6316"
  },
  "kernelspec": {
   "display_name": "Python 3.9.10 64-bit (windows store)",
   "language": "python",
   "name": "python3"
  },
  "language_info": {
   "codemirror_mode": {
    "name": "ipython",
    "version": 3
   },
   "file_extension": ".py",
   "mimetype": "text/x-python",
   "name": "python",
   "nbconvert_exporter": "python",
   "pygments_lexer": "ipython3",
   "version": "3.8.8"
  },
  "orig_nbformat": 4
 },
 "nbformat": 4,
 "nbformat_minor": 2
}
