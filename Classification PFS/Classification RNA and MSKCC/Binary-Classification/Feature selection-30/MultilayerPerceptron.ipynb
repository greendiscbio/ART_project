{
 "cells": [
  {
   "cell_type": "markdown",
   "metadata": {},
   "source": [
    "# Classification model using Multilayer Perceptron"
   ]
  },
  {
   "cell_type": "markdown",
   "metadata": {},
   "source": [
    "### 1. Import libraries"
   ]
  },
  {
   "cell_type": "code",
   "execution_count": 1,
   "metadata": {},
   "outputs": [],
   "source": [
    "import pandas as pd\n",
    "import numpy as np\n",
    "from sklearn.model_selection import train_test_split\n",
    "from sklearn.neural_network import MLPClassifier\n",
    "from sklearn.model_selection import GridSearchCV"
   ]
  },
  {
   "cell_type": "markdown",
   "metadata": {},
   "source": [
    "### 2. Upload Clinic data"
   ]
  },
  {
   "cell_type": "code",
   "execution_count": 2,
   "metadata": {},
   "outputs": [
    {
     "data": {
      "text/html": [
       "<div>\n",
       "<style scoped>\n",
       "    .dataframe tbody tr th:only-of-type {\n",
       "        vertical-align: middle;\n",
       "    }\n",
       "\n",
       "    .dataframe tbody tr th {\n",
       "        vertical-align: top;\n",
       "    }\n",
       "\n",
       "    .dataframe thead th {\n",
       "        text-align: right;\n",
       "    }\n",
       "</style>\n",
       "<table border=\"1\" class=\"dataframe\">\n",
       "  <thead>\n",
       "    <tr style=\"text-align: right;\">\n",
       "      <th></th>\n",
       "      <th>Unnamed: 0</th>\n",
       "      <th>RNA_ID</th>\n",
       "      <th>Age</th>\n",
       "      <th>Sarc</th>\n",
       "      <th>Rhab</th>\n",
       "      <th>Number_of_Prior_Therapies</th>\n",
       "      <th>Days_from_TumorSample_Collection_and_Start_of_Trial_Therapy</th>\n",
       "      <th>Tumor_Shrinkage</th>\n",
       "      <th>PFS</th>\n",
       "      <th>TM_TC_Ratio</th>\n",
       "      <th>...</th>\n",
       "      <th>RP11-96O20.4</th>\n",
       "      <th>RP5-827C21.1</th>\n",
       "      <th>RPS12P26</th>\n",
       "      <th>SDR42E1</th>\n",
       "      <th>SNORD113-5</th>\n",
       "      <th>TARBP2</th>\n",
       "      <th>TRAV41</th>\n",
       "      <th>TRIM43B</th>\n",
       "      <th>VN2R17P</th>\n",
       "      <th>XPC</th>\n",
       "    </tr>\n",
       "  </thead>\n",
       "  <tbody>\n",
       "    <tr>\n",
       "      <th>0</th>\n",
       "      <td>0</td>\n",
       "      <td>G138701_RCCBMS-00020-T_v1_RNA_OnPrem</td>\n",
       "      <td>62.0</td>\n",
       "      <td>0.0</td>\n",
       "      <td>0.0</td>\n",
       "      <td>2.0</td>\n",
       "      <td>707.0</td>\n",
       "      <td>0.0</td>\n",
       "      <td>12.164384</td>\n",
       "      <td>1.374775</td>\n",
       "      <td>...</td>\n",
       "      <td>21.18753</td>\n",
       "      <td>27.40814</td>\n",
       "      <td>31.71139</td>\n",
       "      <td>30.26124</td>\n",
       "      <td>21.32743</td>\n",
       "      <td>29.60417</td>\n",
       "      <td>22.22154</td>\n",
       "      <td>21.9744</td>\n",
       "      <td>21.12857</td>\n",
       "      <td>32.24472</td>\n",
       "    </tr>\n",
       "    <tr>\n",
       "      <th>1</th>\n",
       "      <td>1</td>\n",
       "      <td>G138701_RCCBMS-00097-T_v1_RNA_OnPrem</td>\n",
       "      <td>62.0</td>\n",
       "      <td>0.0</td>\n",
       "      <td>0.0</td>\n",
       "      <td>2.0</td>\n",
       "      <td>707.0</td>\n",
       "      <td>0.0</td>\n",
       "      <td>5.490411</td>\n",
       "      <td>1.374775</td>\n",
       "      <td>...</td>\n",
       "      <td>21.18753</td>\n",
       "      <td>29.25015</td>\n",
       "      <td>29.15373</td>\n",
       "      <td>29.12730</td>\n",
       "      <td>21.32743</td>\n",
       "      <td>29.61188</td>\n",
       "      <td>22.22154</td>\n",
       "      <td>21.9744</td>\n",
       "      <td>21.12857</td>\n",
       "      <td>32.15619</td>\n",
       "    </tr>\n",
       "    <tr>\n",
       "      <th>2</th>\n",
       "      <td>2</td>\n",
       "      <td>G138701_RCCBMS-00141-T_v1_RNA_OnPrem</td>\n",
       "      <td>62.0</td>\n",
       "      <td>0.0</td>\n",
       "      <td>0.0</td>\n",
       "      <td>1.0</td>\n",
       "      <td>707.0</td>\n",
       "      <td>0.0</td>\n",
       "      <td>61.906849</td>\n",
       "      <td>1.374775</td>\n",
       "      <td>...</td>\n",
       "      <td>21.18753</td>\n",
       "      <td>23.03429</td>\n",
       "      <td>29.37858</td>\n",
       "      <td>27.22907</td>\n",
       "      <td>21.32743</td>\n",
       "      <td>31.90343</td>\n",
       "      <td>22.22154</td>\n",
       "      <td>21.9744</td>\n",
       "      <td>21.12857</td>\n",
       "      <td>31.86536</td>\n",
       "    </tr>\n",
       "    <tr>\n",
       "      <th>3</th>\n",
       "      <td>3</td>\n",
       "      <td>G138701_RCCBMS-00099-T_v1_RNA_OnPrem</td>\n",
       "      <td>62.0</td>\n",
       "      <td>0.0</td>\n",
       "      <td>0.0</td>\n",
       "      <td>3.0</td>\n",
       "      <td>707.0</td>\n",
       "      <td>0.0</td>\n",
       "      <td>1.249315</td>\n",
       "      <td>1.374775</td>\n",
       "      <td>...</td>\n",
       "      <td>21.18753</td>\n",
       "      <td>23.03429</td>\n",
       "      <td>30.19136</td>\n",
       "      <td>22.83731</td>\n",
       "      <td>21.32743</td>\n",
       "      <td>30.35424</td>\n",
       "      <td>22.22154</td>\n",
       "      <td>21.9744</td>\n",
       "      <td>21.12857</td>\n",
       "      <td>31.63561</td>\n",
       "    </tr>\n",
       "    <tr>\n",
       "      <th>4</th>\n",
       "      <td>4</td>\n",
       "      <td>G138701_RCCBMS-00163-T_v1_RNA_OnPrem</td>\n",
       "      <td>62.0</td>\n",
       "      <td>0.0</td>\n",
       "      <td>0.0</td>\n",
       "      <td>2.0</td>\n",
       "      <td>707.0</td>\n",
       "      <td>0.0</td>\n",
       "      <td>5.654795</td>\n",
       "      <td>1.374775</td>\n",
       "      <td>...</td>\n",
       "      <td>21.18753</td>\n",
       "      <td>23.03429</td>\n",
       "      <td>31.82172</td>\n",
       "      <td>22.83731</td>\n",
       "      <td>21.32743</td>\n",
       "      <td>31.60946</td>\n",
       "      <td>22.22154</td>\n",
       "      <td>21.9744</td>\n",
       "      <td>21.12857</td>\n",
       "      <td>33.12717</td>\n",
       "    </tr>\n",
       "  </tbody>\n",
       "</table>\n",
       "<p>5 rows × 57 columns</p>\n",
       "</div>"
      ],
      "text/plain": [
       "   Unnamed: 0                                RNA_ID   Age  Sarc  Rhab  \\\n",
       "0           0  G138701_RCCBMS-00020-T_v1_RNA_OnPrem  62.0   0.0   0.0   \n",
       "1           1  G138701_RCCBMS-00097-T_v1_RNA_OnPrem  62.0   0.0   0.0   \n",
       "2           2  G138701_RCCBMS-00141-T_v1_RNA_OnPrem  62.0   0.0   0.0   \n",
       "3           3  G138701_RCCBMS-00099-T_v1_RNA_OnPrem  62.0   0.0   0.0   \n",
       "4           4  G138701_RCCBMS-00163-T_v1_RNA_OnPrem  62.0   0.0   0.0   \n",
       "\n",
       "   Number_of_Prior_Therapies  \\\n",
       "0                        2.0   \n",
       "1                        2.0   \n",
       "2                        1.0   \n",
       "3                        3.0   \n",
       "4                        2.0   \n",
       "\n",
       "   Days_from_TumorSample_Collection_and_Start_of_Trial_Therapy  \\\n",
       "0                                              707.0             \n",
       "1                                              707.0             \n",
       "2                                              707.0             \n",
       "3                                              707.0             \n",
       "4                                              707.0             \n",
       "\n",
       "   Tumor_Shrinkage        PFS  TM_TC_Ratio  ...  RP11-96O20.4  RP5-827C21.1  \\\n",
       "0              0.0  12.164384     1.374775  ...      21.18753      27.40814   \n",
       "1              0.0   5.490411     1.374775  ...      21.18753      29.25015   \n",
       "2              0.0  61.906849     1.374775  ...      21.18753      23.03429   \n",
       "3              0.0   1.249315     1.374775  ...      21.18753      23.03429   \n",
       "4              0.0   5.654795     1.374775  ...      21.18753      23.03429   \n",
       "\n",
       "   RPS12P26   SDR42E1  SNORD113-5    TARBP2    TRAV41  TRIM43B   VN2R17P  \\\n",
       "0  31.71139  30.26124    21.32743  29.60417  22.22154  21.9744  21.12857   \n",
       "1  29.15373  29.12730    21.32743  29.61188  22.22154  21.9744  21.12857   \n",
       "2  29.37858  27.22907    21.32743  31.90343  22.22154  21.9744  21.12857   \n",
       "3  30.19136  22.83731    21.32743  30.35424  22.22154  21.9744  21.12857   \n",
       "4  31.82172  22.83731    21.32743  31.60946  22.22154  21.9744  21.12857   \n",
       "\n",
       "        XPC  \n",
       "0  32.24472  \n",
       "1  32.15619  \n",
       "2  31.86536  \n",
       "3  31.63561  \n",
       "4  33.12717  \n",
       "\n",
       "[5 rows x 57 columns]"
      ]
     },
     "execution_count": 2,
     "metadata": {},
     "output_type": "execute_result"
    }
   ],
   "source": [
    "path ='../../../../Data_preprocessing/Prediction PFS/RNA+Clinic joined/Clinical_data_and_RNA_30_Features_PFS.csv'\n",
    "data = pd.read_csv(path)\n",
    "data.head()"
   ]
  },
  {
   "cell_type": "code",
   "execution_count": 3,
   "metadata": {},
   "outputs": [
    {
     "data": {
      "text/html": [
       "<div>\n",
       "<style scoped>\n",
       "    .dataframe tbody tr th:only-of-type {\n",
       "        vertical-align: middle;\n",
       "    }\n",
       "\n",
       "    .dataframe tbody tr th {\n",
       "        vertical-align: top;\n",
       "    }\n",
       "\n",
       "    .dataframe thead th {\n",
       "        text-align: right;\n",
       "    }\n",
       "</style>\n",
       "<table border=\"1\" class=\"dataframe\">\n",
       "  <thead>\n",
       "    <tr style=\"text-align: right;\">\n",
       "      <th></th>\n",
       "      <th>RNA_ID</th>\n",
       "      <th>MSKCC_FAVORABLE</th>\n",
       "      <th>MSKCC_INTERMEDIATE</th>\n",
       "      <th>MSKCC_NA</th>\n",
       "      <th>MSKCC_POOR</th>\n",
       "      <th>PFS</th>\n",
       "      <th>AC005307.1</th>\n",
       "      <th>ATP5G2P1</th>\n",
       "      <th>DLGAP4</th>\n",
       "      <th>EIF4A1P9</th>\n",
       "      <th>...</th>\n",
       "      <th>RP11-96O20.4</th>\n",
       "      <th>RP5-827C21.1</th>\n",
       "      <th>RPS12P26</th>\n",
       "      <th>SDR42E1</th>\n",
       "      <th>SNORD113-5</th>\n",
       "      <th>TARBP2</th>\n",
       "      <th>TRAV41</th>\n",
       "      <th>TRIM43B</th>\n",
       "      <th>VN2R17P</th>\n",
       "      <th>XPC</th>\n",
       "    </tr>\n",
       "  </thead>\n",
       "  <tbody>\n",
       "    <tr>\n",
       "      <th>0</th>\n",
       "      <td>G138701_RCCBMS-00020-T_v1_RNA_OnPrem</td>\n",
       "      <td>1</td>\n",
       "      <td>0</td>\n",
       "      <td>0</td>\n",
       "      <td>0</td>\n",
       "      <td>12.164384</td>\n",
       "      <td>21.055379</td>\n",
       "      <td>21.300337</td>\n",
       "      <td>34.54982</td>\n",
       "      <td>21.37925</td>\n",
       "      <td>...</td>\n",
       "      <td>21.18753</td>\n",
       "      <td>27.40814</td>\n",
       "      <td>31.71139</td>\n",
       "      <td>30.26124</td>\n",
       "      <td>21.32743</td>\n",
       "      <td>29.60417</td>\n",
       "      <td>22.22154</td>\n",
       "      <td>21.9744</td>\n",
       "      <td>21.12857</td>\n",
       "      <td>32.24472</td>\n",
       "    </tr>\n",
       "    <tr>\n",
       "      <th>1</th>\n",
       "      <td>G138701_RCCBMS-00097-T_v1_RNA_OnPrem</td>\n",
       "      <td>1</td>\n",
       "      <td>0</td>\n",
       "      <td>0</td>\n",
       "      <td>0</td>\n",
       "      <td>5.490411</td>\n",
       "      <td>21.055379</td>\n",
       "      <td>21.300337</td>\n",
       "      <td>34.06647</td>\n",
       "      <td>21.37925</td>\n",
       "      <td>...</td>\n",
       "      <td>21.18753</td>\n",
       "      <td>29.25015</td>\n",
       "      <td>29.15373</td>\n",
       "      <td>29.12730</td>\n",
       "      <td>21.32743</td>\n",
       "      <td>29.61188</td>\n",
       "      <td>22.22154</td>\n",
       "      <td>21.9744</td>\n",
       "      <td>21.12857</td>\n",
       "      <td>32.15619</td>\n",
       "    </tr>\n",
       "    <tr>\n",
       "      <th>2</th>\n",
       "      <td>G138701_RCCBMS-00141-T_v1_RNA_OnPrem</td>\n",
       "      <td>0</td>\n",
       "      <td>0</td>\n",
       "      <td>0</td>\n",
       "      <td>1</td>\n",
       "      <td>61.906849</td>\n",
       "      <td>21.055379</td>\n",
       "      <td>21.300337</td>\n",
       "      <td>34.42561</td>\n",
       "      <td>25.08766</td>\n",
       "      <td>...</td>\n",
       "      <td>21.18753</td>\n",
       "      <td>23.03429</td>\n",
       "      <td>29.37858</td>\n",
       "      <td>27.22907</td>\n",
       "      <td>21.32743</td>\n",
       "      <td>31.90343</td>\n",
       "      <td>22.22154</td>\n",
       "      <td>21.9744</td>\n",
       "      <td>21.12857</td>\n",
       "      <td>31.86536</td>\n",
       "    </tr>\n",
       "    <tr>\n",
       "      <th>3</th>\n",
       "      <td>G138701_RCCBMS-00099-T_v1_RNA_OnPrem</td>\n",
       "      <td>1</td>\n",
       "      <td>0</td>\n",
       "      <td>0</td>\n",
       "      <td>0</td>\n",
       "      <td>1.249315</td>\n",
       "      <td>21.055379</td>\n",
       "      <td>21.300337</td>\n",
       "      <td>34.41176</td>\n",
       "      <td>26.76156</td>\n",
       "      <td>...</td>\n",
       "      <td>21.18753</td>\n",
       "      <td>23.03429</td>\n",
       "      <td>30.19136</td>\n",
       "      <td>22.83731</td>\n",
       "      <td>21.32743</td>\n",
       "      <td>30.35424</td>\n",
       "      <td>22.22154</td>\n",
       "      <td>21.9744</td>\n",
       "      <td>21.12857</td>\n",
       "      <td>31.63561</td>\n",
       "    </tr>\n",
       "    <tr>\n",
       "      <th>4</th>\n",
       "      <td>G138701_RCCBMS-00163-T_v1_RNA_OnPrem</td>\n",
       "      <td>0</td>\n",
       "      <td>1</td>\n",
       "      <td>0</td>\n",
       "      <td>0</td>\n",
       "      <td>5.654795</td>\n",
       "      <td>21.055379</td>\n",
       "      <td>21.300337</td>\n",
       "      <td>34.29088</td>\n",
       "      <td>21.37925</td>\n",
       "      <td>...</td>\n",
       "      <td>21.18753</td>\n",
       "      <td>23.03429</td>\n",
       "      <td>31.82172</td>\n",
       "      <td>22.83731</td>\n",
       "      <td>21.32743</td>\n",
       "      <td>31.60946</td>\n",
       "      <td>22.22154</td>\n",
       "      <td>21.9744</td>\n",
       "      <td>21.12857</td>\n",
       "      <td>33.12717</td>\n",
       "    </tr>\n",
       "  </tbody>\n",
       "</table>\n",
       "<p>5 rows × 36 columns</p>\n",
       "</div>"
      ],
      "text/plain": [
       "                                 RNA_ID  MSKCC_FAVORABLE  MSKCC_INTERMEDIATE  \\\n",
       "0  G138701_RCCBMS-00020-T_v1_RNA_OnPrem                1                   0   \n",
       "1  G138701_RCCBMS-00097-T_v1_RNA_OnPrem                1                   0   \n",
       "2  G138701_RCCBMS-00141-T_v1_RNA_OnPrem                0                   0   \n",
       "3  G138701_RCCBMS-00099-T_v1_RNA_OnPrem                1                   0   \n",
       "4  G138701_RCCBMS-00163-T_v1_RNA_OnPrem                0                   1   \n",
       "\n",
       "   MSKCC_NA  MSKCC_POOR        PFS  AC005307.1   ATP5G2P1    DLGAP4  EIF4A1P9  \\\n",
       "0         0           0  12.164384   21.055379  21.300337  34.54982  21.37925   \n",
       "1         0           0   5.490411   21.055379  21.300337  34.06647  21.37925   \n",
       "2         0           1  61.906849   21.055379  21.300337  34.42561  25.08766   \n",
       "3         0           0   1.249315   21.055379  21.300337  34.41176  26.76156   \n",
       "4         0           0   5.654795   21.055379  21.300337  34.29088  21.37925   \n",
       "\n",
       "   ...  RP11-96O20.4  RP5-827C21.1  RPS12P26   SDR42E1  SNORD113-5    TARBP2  \\\n",
       "0  ...      21.18753      27.40814  31.71139  30.26124    21.32743  29.60417   \n",
       "1  ...      21.18753      29.25015  29.15373  29.12730    21.32743  29.61188   \n",
       "2  ...      21.18753      23.03429  29.37858  27.22907    21.32743  31.90343   \n",
       "3  ...      21.18753      23.03429  30.19136  22.83731    21.32743  30.35424   \n",
       "4  ...      21.18753      23.03429  31.82172  22.83731    21.32743  31.60946   \n",
       "\n",
       "     TRAV41  TRIM43B   VN2R17P       XPC  \n",
       "0  22.22154  21.9744  21.12857  32.24472  \n",
       "1  22.22154  21.9744  21.12857  32.15619  \n",
       "2  22.22154  21.9744  21.12857  31.86536  \n",
       "3  22.22154  21.9744  21.12857  31.63561  \n",
       "4  22.22154  21.9744  21.12857  33.12717  \n",
       "\n",
       "[5 rows x 36 columns]"
      ]
     },
     "execution_count": 3,
     "metadata": {},
     "output_type": "execute_result"
    }
   ],
   "source": [
    "data = data[['RNA_ID','MSKCC_FAVORABLE', 'MSKCC_INTERMEDIATE', 'MSKCC_NA', 'MSKCC_POOR','PFS','AC005307.1', 'ATP5G2P1', 'DLGAP4', 'EIF4A1P9', 'FAM172BP', 'FAM224A', 'GJA9', 'GPR155', 'GYPE', 'IL25', 'KLHL5', 'LANCL1-AS1', 'LEMD1', 'PCMT1', 'RP11-120J4.1', 'RP11-20G6.3', 'RP11-349G13.2', 'RP11-374M1.2', 'RP11-536C10.21', 'RP11-95G17.2', 'RP11-96O20.4', 'RP5-827C21.1', 'RPS12P26', 'SDR42E1', 'SNORD113-5', 'TARBP2', 'TRAV41', 'TRIM43B', 'VN2R17P', 'XPC']]\n",
    "data.head()"
   ]
  },
  {
   "cell_type": "code",
   "execution_count": 4,
   "metadata": {},
   "outputs": [
    {
     "name": "stdout",
     "output_type": "stream",
     "text": [
      "     MSKCC_FAVORABLE  MSKCC_INTERMEDIATE  MSKCC_NA  MSKCC_POOR  AC005307.1  \\\n",
      "0                  1                   0         0           0   21.055379   \n",
      "1                  1                   0         0           0   21.055379   \n",
      "2                  0                   0         0           1   21.055379   \n",
      "3                  1                   0         0           0   21.055379   \n",
      "4                  0                   1         0           0   21.055379   \n",
      "..               ...                 ...       ...         ...         ...   \n",
      "176                0                   0         1           0   20.944668   \n",
      "177                0                   0         1           0   20.944668   \n",
      "178                0                   0         1           0   20.944668   \n",
      "179                0                   0         1           0   20.944668   \n",
      "180                0                   0         1           0   20.944668   \n",
      "\n",
      "      ATP5G2P1    DLGAP4  EIF4A1P9  FAM172BP   FAM224A  ...  RP11-96O20.4  \\\n",
      "0    21.300337  34.54982  21.37925  21.62929  21.12373  ...      21.18753   \n",
      "1    21.300337  34.06647  21.37925  21.62929  21.12373  ...      21.18753   \n",
      "2    21.300337  34.42561  25.08766  29.29206  21.12373  ...      21.18753   \n",
      "3    21.300337  34.41176  26.76156  21.62929  21.12373  ...      21.18753   \n",
      "4    21.300337  34.29088  21.37925  21.62929  21.12373  ...      21.18753   \n",
      "..         ...       ...       ...       ...       ...  ...           ...   \n",
      "176  21.624881  34.55658  21.78113  21.49653  20.98542  ...      21.02478   \n",
      "177  21.624881  33.15506  21.78113  21.49653  20.98542  ...      21.02478   \n",
      "178  21.624881  34.68047  21.78113  25.64475  23.49110  ...      21.02478   \n",
      "179  21.624881  35.60014  21.78113  21.49653  20.98542  ...      21.02478   \n",
      "180  21.624881  35.23053  21.78113  21.49653  20.98542  ...      21.02478   \n",
      "\n",
      "     RP5-827C21.1  RPS12P26   SDR42E1  SNORD113-5    TARBP2    TRAV41  \\\n",
      "0        27.40814  31.71139  30.26124    21.32743  29.60417  22.22154   \n",
      "1        29.25015  29.15373  29.12730    21.32743  29.61188  22.22154   \n",
      "2        23.03429  29.37858  27.22907    21.32743  31.90343  22.22154   \n",
      "3        23.03429  30.19136  22.83731    21.32743  30.35424  22.22154   \n",
      "4        23.03429  31.82172  22.83731    21.32743  31.60946  22.22154   \n",
      "..            ...       ...       ...         ...       ...       ...   \n",
      "176      25.01085  28.14718  31.49914    21.32619  31.57179  24.54591   \n",
      "177      35.97906  28.14718  28.17083    21.32619  34.36199  24.54591   \n",
      "178      25.01085  28.14718  24.22162    21.32619  29.30238  24.54591   \n",
      "179      25.01085  28.14718  27.21929    21.32619  30.72343  24.54591   \n",
      "180      25.01085  28.14718  32.08324    21.32619  31.34356  24.54591   \n",
      "\n",
      "     TRIM43B   VN2R17P       XPC  \n",
      "0    21.9744  21.12857  32.24472  \n",
      "1    21.9744  21.12857  32.15619  \n",
      "2    21.9744  21.12857  31.86536  \n",
      "3    21.9744  21.12857  31.63561  \n",
      "4    21.9744  21.12857  33.12717  \n",
      "..       ...       ...       ...  \n",
      "176  22.3863  20.96902  32.70183  \n",
      "177  22.3863  20.96902  30.79817  \n",
      "178  22.3863  20.96902  32.60750  \n",
      "179  22.3863  23.88906  33.35291  \n",
      "180  22.3863  20.96902  32.50118  \n",
      "\n",
      "[181 rows x 34 columns]\n",
      "Numero de pacientes:  181\n"
     ]
    }
   ],
   "source": [
    "Y = [] # Target column\n",
    "# For each entry I classified it by its PFS value.\n",
    "for i in range (len(data)):\n",
    "    if data.PFS[i]<3: # If PFS is lower than 3 months, I will consider it as NonResponder (NR)\n",
    "        Y.append(0)\n",
    "    else:\n",
    "        Y.append(1)# If PFS is over 3 months, I will consider it as Responder (R)\n",
    "\n",
    "# As I won't need this columns any more, I deleted them.\n",
    "data = data.drop('PFS', axis=1)\n",
    "data = data.drop('RNA_ID', axis=1)\n",
    "\n",
    "X = data.iloc[:,0:36] # I selected all the columns by removing the Unnamed column (row id) and the Target column.\n",
    "\n",
    "print(X)\n",
    "print('Numero de pacientes: ',len(Y))"
   ]
  },
  {
   "cell_type": "markdown",
   "metadata": {},
   "source": [
    "### 3. Train-Test dataset split"
   ]
  },
  {
   "cell_type": "code",
   "execution_count": 5,
   "metadata": {},
   "outputs": [
    {
     "name": "stdout",
     "output_type": "stream",
     "text": [
      "Training set size: 144\n",
      "Target column size of the training set: 144\n",
      "Test set size: 37\n",
      "Target column size of the test set: 37\n"
     ]
    }
   ],
   "source": [
    "XTrain, XTest, yTrain, yTest = train_test_split(X, Y, test_size=0.20, random_state=125)\n",
    "\n",
    "print('Training set size:', len(XTrain))\n",
    "print('Target column size of the training set:', len(yTrain))\n",
    "print('Test set size:', len(XTest))\n",
    "print('Target column size of the test set:', len(yTest))"
   ]
  },
  {
   "cell_type": "markdown",
   "metadata": {},
   "source": [
    "### 4. Select the parameters of the model and fit it"
   ]
  },
  {
   "cell_type": "code",
   "execution_count": 6,
   "metadata": {},
   "outputs": [
    {
     "data": {
      "text/plain": [
       "GridSearchCV(cv=5, estimator=MLPClassifier(),\n",
       "             param_grid={'activation': ['identity', 'logistic', 'tanh', 'relu'],\n",
       "                         'hidden_layer_sizes': [3, 5],\n",
       "                         'max_fun': [300, 500, 1000, 5000, 10000, 15000, 20000],\n",
       "                         'max_iter': [200000, 50000, 10000000],\n",
       "                         'random_state': [125]})"
      ]
     },
     "execution_count": 6,
     "metadata": {},
     "output_type": "execute_result"
    }
   ],
   "source": [
    "param_grid = {'max_iter': [200000, 50000,10000000],\n",
    "            'activation': ['identity', 'logistic', 'tanh', 'relu'],\n",
    "            'random_state': [125],\n",
    "            'max_fun': [300, 500,1000, 5000, 10000, 15000, 20000],\n",
    "            'hidden_layer_sizes': [3,5]}\n",
    "\n",
    "# I created a GridSearchCV which allows us to systematically evaluate and select the parameters of our model.\n",
    "# By indicating a model and the parameters to test, you can evaluate the performance of the first one based on the\n",
    "# seconds through cross validation.\n",
    "clf = GridSearchCV(MLPClassifier(), param_grid, cv =5)\n",
    "\n",
    "clf.fit(XTrain , yTrain)\n",
    "\n"
   ]
  },
  {
   "cell_type": "code",
   "execution_count": 7,
   "metadata": {},
   "outputs": [
    {
     "name": "stdout",
     "output_type": "stream",
     "text": [
      "Best estimate of parameters according to GridSearchCV:\n"
     ]
    },
    {
     "data": {
      "text/plain": [
       "MLPClassifier(hidden_layer_sizes=5, max_fun=300, max_iter=200000,\n",
       "              random_state=125)"
      ]
     },
     "execution_count": 7,
     "metadata": {},
     "output_type": "execute_result"
    }
   ],
   "source": [
    "print(\"Best estimate of parameters according to GridSearchCV:\")\n",
    "model = clf.best_estimator_\n",
    "# Fit the model with the best parameters\n",
    "model.fit(XTrain , yTrain)"
   ]
  },
  {
   "cell_type": "code",
   "execution_count": 8,
   "metadata": {},
   "outputs": [
    {
     "name": "stdout",
     "output_type": "stream",
     "text": [
      "Best result of the cross validation of the model with the best paramters:0.8125615763546797\n"
     ]
    }
   ],
   "source": [
    "print(\"Best result of the cross validation of the model with the best paramters:\" +str(clf.best_score_))"
   ]
  },
  {
   "cell_type": "code",
   "execution_count": 9,
   "metadata": {},
   "outputs": [],
   "source": [
    "# Making predictions with the optimal model on the training dataset\n",
    "yhatTrain = model.predict(XTrain)\n",
    "contTrain = 0\n",
    "\n",
    "# Comparing with the Target column and check how many hits there have been\n",
    "for i in range(0,len(yTrain),1) :\n",
    "    if (yhatTrain[i] == yTrain[i]):\n",
    "        contTrain = contTrain + 1"
   ]
  },
  {
   "cell_type": "code",
   "execution_count": 10,
   "metadata": {},
   "outputs": [],
   "source": [
    "# Making predictions with the optimal model on the test dataset\n",
    "yhatTest = model.predict(XTest)\n",
    "contTest = 0\n",
    "\n",
    "# Comparing with the Target column and check how many hits there have been\n",
    "for i in range(0,len(yTest),1) :\n",
    "    if (yhatTest[i] == yTest[i]):\n",
    "        contTest = contTest + 1\n"
   ]
  },
  {
   "cell_type": "code",
   "execution_count": 11,
   "metadata": {},
   "outputs": [
    {
     "name": "stdout",
     "output_type": "stream",
     "text": [
      "Final accuracy on the training dataset:0.9375\n",
      "Final accuracy on the testing dataset: 0.7297297297297297\n"
     ]
    }
   ],
   "source": [
    "print('Final accuracy on the training dataset:' + str(contTrain/len(yTrain)))\n",
    "print('Final accuracy on the testing dataset: ' + str(contTest/len(yTest)))"
   ]
  },
  {
   "cell_type": "code",
   "execution_count": 12,
   "metadata": {},
   "outputs": [
    {
     "name": "stdout",
     "output_type": "stream",
     "text": [
      "----------------Confusion Matrix (Training)------------------\n",
      "[[60  5]\n",
      " [ 4 75]]\n",
      "Input data:  [0 1 1 1 1 1 0 1 0 1 1 1 1 0 1 0 1 0 0 0 1 1 0 0 1 1 0 1 0 0 1 1 0 1 1 0 1\n",
      " 1 0 1 1 0 0 1 0 1 1 0 1 0 0 1 0 0 0 1 0 1 0 1 1 0 1 1 0 1 1 1 0 1 0 1 0 1\n",
      " 1 0 0 1 0 0 1 1 1 0 0 0 0 1 1 1 1 0 0 1 1 1 1 0 0 0 1 0 1 0 0 0 0 1 0 1 0\n",
      " 1 0 1 1 0 0 0 0 1 1 1 0 1 0 1 1 0 1 1 0 1 1 0 0 1 1 1 1 1 1 1 0 0]\n",
      "Prediction:        [0 1 1 0 1 1 1 1 0 1 1 1 0 0 1 0 1 0 0 0 1 1 0 0 1 1 1 1 0 0 1 1 0 1 1 0 1\n",
      " 1 0 1 1 0 0 1 0 1 1 0 1 0 0 1 0 0 0 1 0 1 0 1 1 0 1 1 0 1 1 1 0 1 0 0 0 1\n",
      " 1 0 0 1 0 0 1 1 1 1 0 0 0 1 1 1 1 0 0 1 1 1 1 1 0 0 1 0 0 0 0 0 0 1 0 1 0\n",
      " 1 0 1 1 0 0 0 0 1 1 1 0 1 0 1 1 0 1 1 1 1 1 0 0 1 1 1 1 1 1 1 0 0]\n"
     ]
    }
   ],
   "source": [
    "from sklearn.metrics import classification_report,confusion_matrix\n",
    "\n",
    "print('----------------Confusion Matrix (Training)------------------')\n",
    "print(confusion_matrix(yTrain,yhatTrain))\n",
    "print('Input data:  ' + str(np.array(yTrain)))\n",
    "print('Prediction:        ' +str(yhatTrain))"
   ]
  },
  {
   "cell_type": "code",
   "execution_count": 13,
   "metadata": {},
   "outputs": [
    {
     "name": "stdout",
     "output_type": "stream",
     "text": [
      "              precision    recall  f1-score   support\n",
      "\n",
      "           0       0.94      0.92      0.93        65\n",
      "           1       0.94      0.95      0.94        79\n",
      "\n",
      "    accuracy                           0.94       144\n",
      "   macro avg       0.94      0.94      0.94       144\n",
      "weighted avg       0.94      0.94      0.94       144\n",
      "\n"
     ]
    }
   ],
   "source": [
    "print(classification_report(yTrain,yhatTrain))"
   ]
  },
  {
   "cell_type": "code",
   "execution_count": 14,
   "metadata": {},
   "outputs": [
    {
     "name": "stdout",
     "output_type": "stream",
     "text": [
      "----------------Confusion Matrix (Test)------------------\n",
      "[[12  8]\n",
      " [ 2 15]]\n",
      "Input data:  [1 0 0 1 1 1 0 1 1 1 0 0 0 0 0 0 1 0 1 0 0 0 0 1 0 0 1 1 1 0 0 1 0 0 1 1 1]\n",
      "Prediction:        [1 0 1 0 1 1 0 1 1 1 0 1 0 1 0 0 1 1 1 0 1 1 1 1 0 0 0 1 1 0 0 1 1 0 1 1 1]\n"
     ]
    }
   ],
   "source": [
    "print('----------------Confusion Matrix (Test)------------------')\n",
    "print(confusion_matrix(yTest,yhatTest))\n",
    "print('Input data:  ' + str(np.array(yTest)))\n",
    "print('Prediction:        ' +str(yhatTest))"
   ]
  },
  {
   "cell_type": "code",
   "execution_count": 15,
   "metadata": {},
   "outputs": [
    {
     "name": "stdout",
     "output_type": "stream",
     "text": [
      "              precision    recall  f1-score   support\n",
      "\n",
      "           0       0.86      0.60      0.71        20\n",
      "           1       0.65      0.88      0.75        17\n",
      "\n",
      "    accuracy                           0.73        37\n",
      "   macro avg       0.75      0.74      0.73        37\n",
      "weighted avg       0.76      0.73      0.73        37\n",
      "\n"
     ]
    }
   ],
   "source": [
    "print(classification_report(yTest,yhatTest))"
   ]
  }
 ],
 "metadata": {
  "interpreter": {
   "hash": "260f7526dd70ce5772422b2315019544c135d8a5e5fc89617f90163aa01a6316"
  },
  "kernelspec": {
   "display_name": "Python 3.9.10 64-bit (windows store)",
   "language": "python",
   "name": "python3"
  },
  "language_info": {
   "codemirror_mode": {
    "name": "ipython",
    "version": 3
   },
   "file_extension": ".py",
   "mimetype": "text/x-python",
   "name": "python",
   "nbconvert_exporter": "python",
   "pygments_lexer": "ipython3",
   "version": "3.8.8"
  },
  "orig_nbformat": 4
 },
 "nbformat": 4,
 "nbformat_minor": 2
}
