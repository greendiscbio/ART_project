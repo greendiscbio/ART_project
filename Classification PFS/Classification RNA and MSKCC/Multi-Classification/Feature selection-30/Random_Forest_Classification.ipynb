{
 "cells": [
  {
   "cell_type": "markdown",
   "metadata": {},
   "source": [
    "# Classification model using Random Forest"
   ]
  },
  {
   "cell_type": "markdown",
   "metadata": {},
   "source": [
    "### 1. Import libraries"
   ]
  },
  {
   "cell_type": "code",
   "execution_count": 1,
   "metadata": {},
   "outputs": [],
   "source": [
    "import pandas as pd\n",
    "import numpy as np\n",
    "import matplotlib.pyplot as plt\n",
    "from sklearn.model_selection import train_test_split\n",
    "from sklearn.ensemble import RandomForestClassifier\n",
    "from sklearn.model_selection import GridSearchCV\n"
   ]
  },
  {
   "cell_type": "markdown",
   "metadata": {},
   "source": [
    "### 2. Upload Clinic data"
   ]
  },
  {
   "cell_type": "code",
   "execution_count": 2,
   "metadata": {},
   "outputs": [
    {
     "data": {
      "text/html": [
       "<div>\n",
       "<style scoped>\n",
       "    .dataframe tbody tr th:only-of-type {\n",
       "        vertical-align: middle;\n",
       "    }\n",
       "\n",
       "    .dataframe tbody tr th {\n",
       "        vertical-align: top;\n",
       "    }\n",
       "\n",
       "    .dataframe thead th {\n",
       "        text-align: right;\n",
       "    }\n",
       "</style>\n",
       "<table border=\"1\" class=\"dataframe\">\n",
       "  <thead>\n",
       "    <tr style=\"text-align: right;\">\n",
       "      <th></th>\n",
       "      <th>Unnamed: 0</th>\n",
       "      <th>RNA_ID</th>\n",
       "      <th>Age</th>\n",
       "      <th>Sarc</th>\n",
       "      <th>Rhab</th>\n",
       "      <th>Number_of_Prior_Therapies</th>\n",
       "      <th>Days_from_TumorSample_Collection_and_Start_of_Trial_Therapy</th>\n",
       "      <th>Tumor_Shrinkage</th>\n",
       "      <th>PFS</th>\n",
       "      <th>TM_TC_Ratio</th>\n",
       "      <th>...</th>\n",
       "      <th>RP11-96O20.4</th>\n",
       "      <th>RP5-827C21.1</th>\n",
       "      <th>RPS12P26</th>\n",
       "      <th>SDR42E1</th>\n",
       "      <th>SNORD113-5</th>\n",
       "      <th>TARBP2</th>\n",
       "      <th>TRAV41</th>\n",
       "      <th>TRIM43B</th>\n",
       "      <th>VN2R17P</th>\n",
       "      <th>XPC</th>\n",
       "    </tr>\n",
       "  </thead>\n",
       "  <tbody>\n",
       "    <tr>\n",
       "      <th>0</th>\n",
       "      <td>0</td>\n",
       "      <td>G138701_RCCBMS-00020-T_v1_RNA_OnPrem</td>\n",
       "      <td>62.0</td>\n",
       "      <td>0.0</td>\n",
       "      <td>0.0</td>\n",
       "      <td>2.0</td>\n",
       "      <td>962.0</td>\n",
       "      <td>-16.406250</td>\n",
       "      <td>12.164384</td>\n",
       "      <td>0.766909</td>\n",
       "      <td>...</td>\n",
       "      <td>21.18753</td>\n",
       "      <td>27.40814</td>\n",
       "      <td>31.71139</td>\n",
       "      <td>30.26124</td>\n",
       "      <td>21.32743</td>\n",
       "      <td>29.60417</td>\n",
       "      <td>22.22154</td>\n",
       "      <td>21.9744</td>\n",
       "      <td>21.12857</td>\n",
       "      <td>32.24472</td>\n",
       "    </tr>\n",
       "    <tr>\n",
       "      <th>1</th>\n",
       "      <td>1</td>\n",
       "      <td>G138701_RCCBMS-00097-T_v1_RNA_OnPrem</td>\n",
       "      <td>67.0</td>\n",
       "      <td>0.0</td>\n",
       "      <td>0.0</td>\n",
       "      <td>2.0</td>\n",
       "      <td>254.0</td>\n",
       "      <td>-40.000000</td>\n",
       "      <td>5.490411</td>\n",
       "      <td>0.773269</td>\n",
       "      <td>...</td>\n",
       "      <td>21.18753</td>\n",
       "      <td>29.25015</td>\n",
       "      <td>29.15373</td>\n",
       "      <td>29.12730</td>\n",
       "      <td>21.32743</td>\n",
       "      <td>29.61188</td>\n",
       "      <td>22.22154</td>\n",
       "      <td>21.9744</td>\n",
       "      <td>21.12857</td>\n",
       "      <td>32.15619</td>\n",
       "    </tr>\n",
       "    <tr>\n",
       "      <th>2</th>\n",
       "      <td>2</td>\n",
       "      <td>G138701_RCCBMS-00141-T_v1_RNA_OnPrem</td>\n",
       "      <td>62.0</td>\n",
       "      <td>0.0</td>\n",
       "      <td>0.0</td>\n",
       "      <td>1.0</td>\n",
       "      <td>800.0</td>\n",
       "      <td>-89.436620</td>\n",
       "      <td>61.906849</td>\n",
       "      <td>1.782859</td>\n",
       "      <td>...</td>\n",
       "      <td>21.18753</td>\n",
       "      <td>23.03429</td>\n",
       "      <td>29.37858</td>\n",
       "      <td>27.22907</td>\n",
       "      <td>21.32743</td>\n",
       "      <td>31.90343</td>\n",
       "      <td>22.22154</td>\n",
       "      <td>21.9744</td>\n",
       "      <td>21.12857</td>\n",
       "      <td>31.86536</td>\n",
       "    </tr>\n",
       "    <tr>\n",
       "      <th>3</th>\n",
       "      <td>3</td>\n",
       "      <td>G138701_RCCBMS-00099-T_v1_RNA_OnPrem</td>\n",
       "      <td>60.0</td>\n",
       "      <td>0.0</td>\n",
       "      <td>0.0</td>\n",
       "      <td>3.0</td>\n",
       "      <td>790.0</td>\n",
       "      <td>11.787072</td>\n",
       "      <td>1.249315</td>\n",
       "      <td>5.890573</td>\n",
       "      <td>...</td>\n",
       "      <td>21.18753</td>\n",
       "      <td>23.03429</td>\n",
       "      <td>30.19136</td>\n",
       "      <td>22.83731</td>\n",
       "      <td>21.32743</td>\n",
       "      <td>30.35424</td>\n",
       "      <td>22.22154</td>\n",
       "      <td>21.9744</td>\n",
       "      <td>21.12857</td>\n",
       "      <td>31.63561</td>\n",
       "    </tr>\n",
       "    <tr>\n",
       "      <th>4</th>\n",
       "      <td>4</td>\n",
       "      <td>G138701_RCCBMS-00163-T_v1_RNA_OnPrem</td>\n",
       "      <td>76.0</td>\n",
       "      <td>0.0</td>\n",
       "      <td>0.0</td>\n",
       "      <td>2.0</td>\n",
       "      <td>1241.0</td>\n",
       "      <td>0.000000</td>\n",
       "      <td>5.654795</td>\n",
       "      <td>1.374775</td>\n",
       "      <td>...</td>\n",
       "      <td>21.18753</td>\n",
       "      <td>23.03429</td>\n",
       "      <td>31.82172</td>\n",
       "      <td>22.83731</td>\n",
       "      <td>21.32743</td>\n",
       "      <td>31.60946</td>\n",
       "      <td>22.22154</td>\n",
       "      <td>21.9744</td>\n",
       "      <td>21.12857</td>\n",
       "      <td>33.12717</td>\n",
       "    </tr>\n",
       "  </tbody>\n",
       "</table>\n",
       "<p>5 rows × 57 columns</p>\n",
       "</div>"
      ],
      "text/plain": [
       "   Unnamed: 0                                RNA_ID   Age  Sarc  Rhab  \\\n",
       "0           0  G138701_RCCBMS-00020-T_v1_RNA_OnPrem  62.0   0.0   0.0   \n",
       "1           1  G138701_RCCBMS-00097-T_v1_RNA_OnPrem  67.0   0.0   0.0   \n",
       "2           2  G138701_RCCBMS-00141-T_v1_RNA_OnPrem  62.0   0.0   0.0   \n",
       "3           3  G138701_RCCBMS-00099-T_v1_RNA_OnPrem  60.0   0.0   0.0   \n",
       "4           4  G138701_RCCBMS-00163-T_v1_RNA_OnPrem  76.0   0.0   0.0   \n",
       "\n",
       "   Number_of_Prior_Therapies  \\\n",
       "0                        2.0   \n",
       "1                        2.0   \n",
       "2                        1.0   \n",
       "3                        3.0   \n",
       "4                        2.0   \n",
       "\n",
       "   Days_from_TumorSample_Collection_and_Start_of_Trial_Therapy  \\\n",
       "0                                              962.0             \n",
       "1                                              254.0             \n",
       "2                                              800.0             \n",
       "3                                              790.0             \n",
       "4                                             1241.0             \n",
       "\n",
       "   Tumor_Shrinkage        PFS  TM_TC_Ratio  ...  RP11-96O20.4  RP5-827C21.1  \\\n",
       "0       -16.406250  12.164384     0.766909  ...      21.18753      27.40814   \n",
       "1       -40.000000   5.490411     0.773269  ...      21.18753      29.25015   \n",
       "2       -89.436620  61.906849     1.782859  ...      21.18753      23.03429   \n",
       "3        11.787072   1.249315     5.890573  ...      21.18753      23.03429   \n",
       "4         0.000000   5.654795     1.374775  ...      21.18753      23.03429   \n",
       "\n",
       "   RPS12P26   SDR42E1  SNORD113-5    TARBP2    TRAV41  TRIM43B   VN2R17P  \\\n",
       "0  31.71139  30.26124    21.32743  29.60417  22.22154  21.9744  21.12857   \n",
       "1  29.15373  29.12730    21.32743  29.61188  22.22154  21.9744  21.12857   \n",
       "2  29.37858  27.22907    21.32743  31.90343  22.22154  21.9744  21.12857   \n",
       "3  30.19136  22.83731    21.32743  30.35424  22.22154  21.9744  21.12857   \n",
       "4  31.82172  22.83731    21.32743  31.60946  22.22154  21.9744  21.12857   \n",
       "\n",
       "        XPC  \n",
       "0  32.24472  \n",
       "1  32.15619  \n",
       "2  31.86536  \n",
       "3  31.63561  \n",
       "4  33.12717  \n",
       "\n",
       "[5 rows x 57 columns]"
      ]
     },
     "execution_count": 2,
     "metadata": {},
     "output_type": "execute_result"
    }
   ],
   "source": [
    "path ='../../../../Data_preprocessing/Prediction PFS/RNA+Clinic joined/New/Clinical_data_and_RNA_30_Features_PFS.csv'\n",
    "data = pd.read_csv(path)\n",
    "data.head()"
   ]
  },
  {
   "cell_type": "code",
   "execution_count": 3,
   "metadata": {},
   "outputs": [
    {
     "data": {
      "text/html": [
       "<div>\n",
       "<style scoped>\n",
       "    .dataframe tbody tr th:only-of-type {\n",
       "        vertical-align: middle;\n",
       "    }\n",
       "\n",
       "    .dataframe tbody tr th {\n",
       "        vertical-align: top;\n",
       "    }\n",
       "\n",
       "    .dataframe thead th {\n",
       "        text-align: right;\n",
       "    }\n",
       "</style>\n",
       "<table border=\"1\" class=\"dataframe\">\n",
       "  <thead>\n",
       "    <tr style=\"text-align: right;\">\n",
       "      <th></th>\n",
       "      <th>RNA_ID</th>\n",
       "      <th>MSKCC_FAVORABLE</th>\n",
       "      <th>MSKCC_INTERMEDIATE</th>\n",
       "      <th>MSKCC_NA</th>\n",
       "      <th>MSKCC_POOR</th>\n",
       "      <th>PFS</th>\n",
       "      <th>AC005307.1</th>\n",
       "      <th>ATP5G2P1</th>\n",
       "      <th>DLGAP4</th>\n",
       "      <th>EIF4A1P9</th>\n",
       "      <th>...</th>\n",
       "      <th>RP11-96O20.4</th>\n",
       "      <th>RP5-827C21.1</th>\n",
       "      <th>RPS12P26</th>\n",
       "      <th>SDR42E1</th>\n",
       "      <th>SNORD113-5</th>\n",
       "      <th>TARBP2</th>\n",
       "      <th>TRAV41</th>\n",
       "      <th>TRIM43B</th>\n",
       "      <th>VN2R17P</th>\n",
       "      <th>XPC</th>\n",
       "    </tr>\n",
       "  </thead>\n",
       "  <tbody>\n",
       "    <tr>\n",
       "      <th>0</th>\n",
       "      <td>G138701_RCCBMS-00020-T_v1_RNA_OnPrem</td>\n",
       "      <td>1</td>\n",
       "      <td>0</td>\n",
       "      <td>0</td>\n",
       "      <td>0</td>\n",
       "      <td>12.164384</td>\n",
       "      <td>21.055379</td>\n",
       "      <td>21.300337</td>\n",
       "      <td>34.54982</td>\n",
       "      <td>21.37925</td>\n",
       "      <td>...</td>\n",
       "      <td>21.18753</td>\n",
       "      <td>27.40814</td>\n",
       "      <td>31.71139</td>\n",
       "      <td>30.26124</td>\n",
       "      <td>21.32743</td>\n",
       "      <td>29.60417</td>\n",
       "      <td>22.22154</td>\n",
       "      <td>21.9744</td>\n",
       "      <td>21.12857</td>\n",
       "      <td>32.24472</td>\n",
       "    </tr>\n",
       "    <tr>\n",
       "      <th>1</th>\n",
       "      <td>G138701_RCCBMS-00097-T_v1_RNA_OnPrem</td>\n",
       "      <td>1</td>\n",
       "      <td>0</td>\n",
       "      <td>0</td>\n",
       "      <td>0</td>\n",
       "      <td>5.490411</td>\n",
       "      <td>21.055379</td>\n",
       "      <td>21.300337</td>\n",
       "      <td>34.06647</td>\n",
       "      <td>21.37925</td>\n",
       "      <td>...</td>\n",
       "      <td>21.18753</td>\n",
       "      <td>29.25015</td>\n",
       "      <td>29.15373</td>\n",
       "      <td>29.12730</td>\n",
       "      <td>21.32743</td>\n",
       "      <td>29.61188</td>\n",
       "      <td>22.22154</td>\n",
       "      <td>21.9744</td>\n",
       "      <td>21.12857</td>\n",
       "      <td>32.15619</td>\n",
       "    </tr>\n",
       "    <tr>\n",
       "      <th>2</th>\n",
       "      <td>G138701_RCCBMS-00141-T_v1_RNA_OnPrem</td>\n",
       "      <td>0</td>\n",
       "      <td>0</td>\n",
       "      <td>0</td>\n",
       "      <td>1</td>\n",
       "      <td>61.906849</td>\n",
       "      <td>21.055379</td>\n",
       "      <td>21.300337</td>\n",
       "      <td>34.42561</td>\n",
       "      <td>25.08766</td>\n",
       "      <td>...</td>\n",
       "      <td>21.18753</td>\n",
       "      <td>23.03429</td>\n",
       "      <td>29.37858</td>\n",
       "      <td>27.22907</td>\n",
       "      <td>21.32743</td>\n",
       "      <td>31.90343</td>\n",
       "      <td>22.22154</td>\n",
       "      <td>21.9744</td>\n",
       "      <td>21.12857</td>\n",
       "      <td>31.86536</td>\n",
       "    </tr>\n",
       "    <tr>\n",
       "      <th>3</th>\n",
       "      <td>G138701_RCCBMS-00099-T_v1_RNA_OnPrem</td>\n",
       "      <td>1</td>\n",
       "      <td>0</td>\n",
       "      <td>0</td>\n",
       "      <td>0</td>\n",
       "      <td>1.249315</td>\n",
       "      <td>21.055379</td>\n",
       "      <td>21.300337</td>\n",
       "      <td>34.41176</td>\n",
       "      <td>26.76156</td>\n",
       "      <td>...</td>\n",
       "      <td>21.18753</td>\n",
       "      <td>23.03429</td>\n",
       "      <td>30.19136</td>\n",
       "      <td>22.83731</td>\n",
       "      <td>21.32743</td>\n",
       "      <td>30.35424</td>\n",
       "      <td>22.22154</td>\n",
       "      <td>21.9744</td>\n",
       "      <td>21.12857</td>\n",
       "      <td>31.63561</td>\n",
       "    </tr>\n",
       "    <tr>\n",
       "      <th>4</th>\n",
       "      <td>G138701_RCCBMS-00163-T_v1_RNA_OnPrem</td>\n",
       "      <td>0</td>\n",
       "      <td>1</td>\n",
       "      <td>0</td>\n",
       "      <td>0</td>\n",
       "      <td>5.654795</td>\n",
       "      <td>21.055379</td>\n",
       "      <td>21.300337</td>\n",
       "      <td>34.29088</td>\n",
       "      <td>21.37925</td>\n",
       "      <td>...</td>\n",
       "      <td>21.18753</td>\n",
       "      <td>23.03429</td>\n",
       "      <td>31.82172</td>\n",
       "      <td>22.83731</td>\n",
       "      <td>21.32743</td>\n",
       "      <td>31.60946</td>\n",
       "      <td>22.22154</td>\n",
       "      <td>21.9744</td>\n",
       "      <td>21.12857</td>\n",
       "      <td>33.12717</td>\n",
       "    </tr>\n",
       "  </tbody>\n",
       "</table>\n",
       "<p>5 rows × 36 columns</p>\n",
       "</div>"
      ],
      "text/plain": [
       "                                 RNA_ID  MSKCC_FAVORABLE  MSKCC_INTERMEDIATE  \\\n",
       "0  G138701_RCCBMS-00020-T_v1_RNA_OnPrem                1                   0   \n",
       "1  G138701_RCCBMS-00097-T_v1_RNA_OnPrem                1                   0   \n",
       "2  G138701_RCCBMS-00141-T_v1_RNA_OnPrem                0                   0   \n",
       "3  G138701_RCCBMS-00099-T_v1_RNA_OnPrem                1                   0   \n",
       "4  G138701_RCCBMS-00163-T_v1_RNA_OnPrem                0                   1   \n",
       "\n",
       "   MSKCC_NA  MSKCC_POOR        PFS  AC005307.1   ATP5G2P1    DLGAP4  EIF4A1P9  \\\n",
       "0         0           0  12.164384   21.055379  21.300337  34.54982  21.37925   \n",
       "1         0           0   5.490411   21.055379  21.300337  34.06647  21.37925   \n",
       "2         0           1  61.906849   21.055379  21.300337  34.42561  25.08766   \n",
       "3         0           0   1.249315   21.055379  21.300337  34.41176  26.76156   \n",
       "4         0           0   5.654795   21.055379  21.300337  34.29088  21.37925   \n",
       "\n",
       "   ...  RP11-96O20.4  RP5-827C21.1  RPS12P26   SDR42E1  SNORD113-5    TARBP2  \\\n",
       "0  ...      21.18753      27.40814  31.71139  30.26124    21.32743  29.60417   \n",
       "1  ...      21.18753      29.25015  29.15373  29.12730    21.32743  29.61188   \n",
       "2  ...      21.18753      23.03429  29.37858  27.22907    21.32743  31.90343   \n",
       "3  ...      21.18753      23.03429  30.19136  22.83731    21.32743  30.35424   \n",
       "4  ...      21.18753      23.03429  31.82172  22.83731    21.32743  31.60946   \n",
       "\n",
       "     TRAV41  TRIM43B   VN2R17P       XPC  \n",
       "0  22.22154  21.9744  21.12857  32.24472  \n",
       "1  22.22154  21.9744  21.12857  32.15619  \n",
       "2  22.22154  21.9744  21.12857  31.86536  \n",
       "3  22.22154  21.9744  21.12857  31.63561  \n",
       "4  22.22154  21.9744  21.12857  33.12717  \n",
       "\n",
       "[5 rows x 36 columns]"
      ]
     },
     "execution_count": 3,
     "metadata": {},
     "output_type": "execute_result"
    }
   ],
   "source": [
    "data = data[['RNA_ID','MSKCC_FAVORABLE', 'MSKCC_INTERMEDIATE', 'MSKCC_NA', 'MSKCC_POOR','PFS','AC005307.1', 'ATP5G2P1', 'DLGAP4', 'EIF4A1P9', 'FAM172BP', 'FAM224A', 'GJA9', 'GPR155', 'GYPE', 'IL25', 'KLHL5', 'LANCL1-AS1', 'LEMD1', 'PCMT1', 'RP11-120J4.1', 'RP11-20G6.3', 'RP11-349G13.2', 'RP11-374M1.2', 'RP11-536C10.21', 'RP11-95G17.2', 'RP11-96O20.4', 'RP5-827C21.1', 'RPS12P26', 'SDR42E1', 'SNORD113-5', 'TARBP2', 'TRAV41', 'TRIM43B', 'VN2R17P', 'XPC']]\n",
    "data.head()"
   ]
  },
  {
   "cell_type": "code",
   "execution_count": 4,
   "metadata": {},
   "outputs": [
    {
     "name": "stdout",
     "output_type": "stream",
     "text": [
      "     MSKCC_FAVORABLE  MSKCC_INTERMEDIATE  MSKCC_NA  MSKCC_POOR  AC005307.1  \\\n",
      "0                  1                   0         0           0   21.055379   \n",
      "1                  1                   0         0           0   21.055379   \n",
      "2                  0                   0         0           1   21.055379   \n",
      "3                  1                   0         0           0   21.055379   \n",
      "4                  0                   1         0           0   21.055379   \n",
      "..               ...                 ...       ...         ...         ...   \n",
      "176                0                   0         1           0   20.944668   \n",
      "177                0                   0         1           0   20.944668   \n",
      "178                0                   0         1           0   20.944668   \n",
      "179                0                   0         1           0   20.944668   \n",
      "180                0                   0         1           0   20.944668   \n",
      "\n",
      "      ATP5G2P1    DLGAP4  EIF4A1P9  FAM172BP   FAM224A  ...  RP11-96O20.4  \\\n",
      "0    21.300337  34.54982  21.37925  21.62929  21.12373  ...      21.18753   \n",
      "1    21.300337  34.06647  21.37925  21.62929  21.12373  ...      21.18753   \n",
      "2    21.300337  34.42561  25.08766  29.29206  21.12373  ...      21.18753   \n",
      "3    21.300337  34.41176  26.76156  21.62929  21.12373  ...      21.18753   \n",
      "4    21.300337  34.29088  21.37925  21.62929  21.12373  ...      21.18753   \n",
      "..         ...       ...       ...       ...       ...  ...           ...   \n",
      "176  21.624881  34.55658  21.78113  21.49653  20.98542  ...      21.02478   \n",
      "177  21.624881  33.15506  21.78113  21.49653  20.98542  ...      21.02478   \n",
      "178  21.624881  34.68047  21.78113  25.64475  23.49110  ...      21.02478   \n",
      "179  21.624881  35.60014  21.78113  21.49653  20.98542  ...      21.02478   \n",
      "180  21.624881  35.23053  21.78113  21.49653  20.98542  ...      21.02478   \n",
      "\n",
      "     RP5-827C21.1  RPS12P26   SDR42E1  SNORD113-5    TARBP2    TRAV41  \\\n",
      "0        27.40814  31.71139  30.26124    21.32743  29.60417  22.22154   \n",
      "1        29.25015  29.15373  29.12730    21.32743  29.61188  22.22154   \n",
      "2        23.03429  29.37858  27.22907    21.32743  31.90343  22.22154   \n",
      "3        23.03429  30.19136  22.83731    21.32743  30.35424  22.22154   \n",
      "4        23.03429  31.82172  22.83731    21.32743  31.60946  22.22154   \n",
      "..            ...       ...       ...         ...       ...       ...   \n",
      "176      25.01085  28.14718  31.49914    21.32619  31.57179  24.54591   \n",
      "177      35.97906  28.14718  28.17083    21.32619  34.36199  24.54591   \n",
      "178      25.01085  28.14718  24.22162    21.32619  29.30238  24.54591   \n",
      "179      25.01085  28.14718  27.21929    21.32619  30.72343  24.54591   \n",
      "180      25.01085  28.14718  32.08324    21.32619  31.34356  24.54591   \n",
      "\n",
      "     TRIM43B   VN2R17P       XPC  \n",
      "0    21.9744  21.12857  32.24472  \n",
      "1    21.9744  21.12857  32.15619  \n",
      "2    21.9744  21.12857  31.86536  \n",
      "3    21.9744  21.12857  31.63561  \n",
      "4    21.9744  21.12857  33.12717  \n",
      "..       ...       ...       ...  \n",
      "176  22.3863  20.96902  32.70183  \n",
      "177  22.3863  20.96902  30.79817  \n",
      "178  22.3863  20.96902  32.60750  \n",
      "179  22.3863  23.88906  33.35291  \n",
      "180  22.3863  20.96902  32.50118  \n",
      "\n",
      "[181 rows x 34 columns]\n",
      "Numero de pacientes:  181\n"
     ]
    }
   ],
   "source": [
    "Y = [] # Target column\n",
    "# For each entry I classified it by its PFS value.\n",
    "for i in range (len(data)):\n",
    "    if data.PFS[i]<3: # If PFS is lower than 3 months, I will consider it as NonResponder (NR)\n",
    "        Y.append(0)\n",
    "    elif data.PFS[i]<6: # If PFS is over 6 months, I will consider it as Responder (R)\n",
    "        Y.append(1)\n",
    "    else:\n",
    "        Y.append(2) # If PFS is between 3 and 6 months, I will consider it as SemiResponder (SR)\n",
    "        \n",
    "\n",
    "# As I won't need this columns any more, I deleted them.\n",
    "data = data.drop('PFS', axis=1)\n",
    "data = data.drop('RNA_ID', axis=1)\n",
    "\n",
    "X = data.iloc[:,0:36] # I selected all the columns by removing the Unnamed column (row id) and the Target column.\n",
    "\n",
    "print(X)\n",
    "print('Numero de pacientes: ',len(Y))"
   ]
  },
  {
   "cell_type": "markdown",
   "metadata": {},
   "source": [
    "### 3. Train-Test dataset split"
   ]
  },
  {
   "cell_type": "code",
   "execution_count": 5,
   "metadata": {},
   "outputs": [
    {
     "name": "stdout",
     "output_type": "stream",
     "text": [
      "Training set size: 144\n",
      "Target column size of the training set: 144\n",
      "Test set size: 37\n",
      "Target column size of the test set: 37\n"
     ]
    }
   ],
   "source": [
    "XTrain, XTest, yTrain, yTest = train_test_split(X, Y, test_size=0.20, random_state=125, stratify=Y)\n",
    "\n",
    "print('Training set size:', len(XTrain))\n",
    "print('Target column size of the training set:', len(yTrain))\n",
    "print('Test set size:', len(XTest))\n",
    "print('Target column size of the test set:', len(yTest))"
   ]
  },
  {
   "cell_type": "code",
   "execution_count": 6,
   "metadata": {},
   "outputs": [
    {
     "data": {
      "text/plain": [
       "GridSearchCV(cv=5, estimator=RandomForestClassifier(),\n",
       "             param_grid={'bootstrap': [True, False],\n",
       "                         'criterion': ['gini', 'entropy'],\n",
       "                         'max_depth': [None, 2, 5, 10, 50],\n",
       "                         'min_samples_leaf': [1, 2, 3],\n",
       "                         'min_samples_split': [2, 3, 4, 5],\n",
       "                         'n_estimators': [10, 20], 'random_state': [125]})"
      ]
     },
     "execution_count": 6,
     "metadata": {},
     "output_type": "execute_result"
    }
   ],
   "source": [
    "param_grid = {'min_samples_leaf': [1, 2, 3],\n",
    "              'min_samples_split': [2, 3, 4, 5],\n",
    "              'random_state':[125],\n",
    "              'n_estimators': [10, 20],\n",
    "              'bootstrap': [True, False],\n",
    "              'criterion': ['gini', 'entropy'],\n",
    "              'max_depth':[None, 2, 5, 10,50]\n",
    "              }\n",
    "\n",
    "# I created a GridSearchCV which allows us to systematically evaluate and select the parameters of our model.\n",
    "# By indicating a model and the parameters to test, you can evaluate the performance of the first one based on the\n",
    "# seconds through cross validation.\n",
    "clf = GridSearchCV(\n",
    "        estimator  = RandomForestClassifier(),\n",
    "        param_grid = param_grid,\n",
    "        cv=5\n",
    "       )\n",
    "\n",
    "clf.fit(XTrain , yTrain)"
   ]
  },
  {
   "cell_type": "code",
   "execution_count": 7,
   "metadata": {},
   "outputs": [
    {
     "name": "stdout",
     "output_type": "stream",
     "text": [
      "Best estimate of parameters according to GridSearchCV:\n"
     ]
    },
    {
     "data": {
      "text/plain": [
       "RandomForestClassifier(bootstrap=False, min_samples_leaf=3, n_estimators=20,\n",
       "                       random_state=125)"
      ]
     },
     "execution_count": 7,
     "metadata": {},
     "output_type": "execute_result"
    }
   ],
   "source": [
    "print(\"Best estimate of parameters according to GridSearchCV:\")\n",
    "model = clf.best_estimator_\n",
    "# Fit the model with the best parameters\n",
    "model.fit(XTrain , yTrain)"
   ]
  },
  {
   "cell_type": "code",
   "execution_count": 8,
   "metadata": {},
   "outputs": [
    {
     "name": "stdout",
     "output_type": "stream",
     "text": [
      "Best result of the cross validation of the model with the best paramters:0.5485221674876847\n"
     ]
    }
   ],
   "source": [
    "print(\"Best result of the cross validation of the model with the best paramters:\" +str(clf.best_score_))"
   ]
  },
  {
   "cell_type": "markdown",
   "metadata": {},
   "source": [
    "### 5. Prediction"
   ]
  },
  {
   "cell_type": "code",
   "execution_count": 9,
   "metadata": {},
   "outputs": [],
   "source": [
    "# Making predictions with the optimal model on the training dataset\n",
    "yhatTrain = model.predict(XTrain)\n",
    "contTrain = 0\n",
    "\n",
    "# Comparing with the Target column and check how many hits there have been\n",
    "for i in range(0,len(yTrain),1) :\n",
    "    if (yhatTrain[i] == yTrain[i]):\n",
    "        contTrain = contTrain + 1"
   ]
  },
  {
   "cell_type": "code",
   "execution_count": 10,
   "metadata": {},
   "outputs": [],
   "source": [
    "# Making predictions with the optimal model on the test dataset\n",
    "yhatTest = model.predict(XTest)\n",
    "contTest = 0\n",
    "\n",
    "# Comparing with the Target column and check how many hits there have been\n",
    "for i in range(0,len(yTest),1) :\n",
    "    if (yhatTest[i] == yTest[i]):\n",
    "        contTest = contTest + 1\n"
   ]
  },
  {
   "cell_type": "markdown",
   "metadata": {},
   "source": [
    "### 6. Results"
   ]
  },
  {
   "cell_type": "code",
   "execution_count": 11,
   "metadata": {},
   "outputs": [
    {
     "name": "stdout",
     "output_type": "stream",
     "text": [
      "Final accuracy on the training dataset:0.9861111111111112\n",
      "Final accuracy on the testing dataset: 0.5675675675675675\n"
     ]
    }
   ],
   "source": [
    "print('Final accuracy on the training dataset:' + str(contTrain/len(yTrain)))\n",
    "print('Final accuracy on the testing dataset: ' + str(contTest/len(yTest)))"
   ]
  },
  {
   "cell_type": "code",
   "execution_count": 12,
   "metadata": {},
   "outputs": [
    {
     "name": "stdout",
     "output_type": "stream",
     "text": [
      "----------------Confusion Matrix (Training)------------------\n",
      "[[67  0  0]\n",
      " [ 1 23  1]\n",
      " [ 0  0 52]]\n",
      "Input data:  [1 0 2 0 2 2 0 0 2 0 2 0 1 0 2 2 0 2 2 2 0 0 0 2 0 0 0 0 1 1 2 2 2 2 0 1 2\n",
      " 0 0 2 1 2 2 1 0 0 2 2 1 0 0 0 2 0 0 2 0 2 1 2 0 2 1 0 0 0 0 2 2 2 0 2 0 0\n",
      " 0 2 0 2 0 0 0 1 2 0 0 1 2 2 1 1 0 2 0 2 0 0 1 0 1 0 0 2 0 0 2 2 2 1 0 2 2\n",
      " 1 2 0 1 0 0 0 2 0 1 0 2 0 0 2 1 1 0 0 0 2 0 1 0 0 0 2 2 2 1 2 0 1]\n",
      "Prediction:        [1 0 2 0 2 2 0 0 2 0 2 0 2 0 2 2 0 2 2 2 0 0 0 2 0 0 0 0 1 1 2 2 2 2 0 1 2\n",
      " 0 0 2 0 2 2 1 0 0 2 2 1 0 0 0 2 0 0 2 0 2 1 2 0 2 1 0 0 0 0 2 2 2 0 2 0 0\n",
      " 0 2 0 2 0 0 0 1 2 0 0 1 2 2 1 1 0 2 0 2 0 0 1 0 1 0 0 2 0 0 2 2 2 1 0 2 2\n",
      " 1 2 0 1 0 0 0 2 0 1 0 2 0 0 2 1 1 0 0 0 2 0 1 0 0 0 2 2 2 1 2 0 1]\n"
     ]
    }
   ],
   "source": [
    "from sklearn.metrics import classification_report,confusion_matrix\n",
    "\n",
    "print('----------------Confusion Matrix (Training)------------------')\n",
    "print(confusion_matrix(yTrain,yhatTrain))\n",
    "print('Input data:  ' + str(np.array(yTrain)))\n",
    "print('Prediction:        ' +str(yhatTrain))"
   ]
  },
  {
   "cell_type": "code",
   "execution_count": 13,
   "metadata": {},
   "outputs": [
    {
     "name": "stdout",
     "output_type": "stream",
     "text": [
      "              precision    recall  f1-score   support\n",
      "\n",
      "           0       0.99      1.00      0.99        67\n",
      "           1       1.00      0.92      0.96        25\n",
      "           2       0.98      1.00      0.99        52\n",
      "\n",
      "    accuracy                           0.99       144\n",
      "   macro avg       0.99      0.97      0.98       144\n",
      "weighted avg       0.99      0.99      0.99       144\n",
      "\n"
     ]
    }
   ],
   "source": [
    "print(classification_report(yTrain,yhatTrain))"
   ]
  },
  {
   "cell_type": "code",
   "execution_count": 14,
   "metadata": {},
   "outputs": [
    {
     "name": "stdout",
     "output_type": "stream",
     "text": [
      "----------------Confusion Matrix (Test)------------------\n",
      "[[14  0  4]\n",
      " [ 2  0  4]\n",
      " [ 6  0  7]]\n",
      "Input data:  [0 1 0 2 0 2 1 0 1 0 2 2 1 2 2 0 1 2 0 0 0 2 1 0 0 2 0 2 2 0 0 0 2 2 0 0 0]\n",
      "Prediction:        [0 2 0 0 2 2 2 2 0 0 0 0 0 2 0 0 2 0 0 0 0 2 2 2 0 2 0 2 2 0 0 0 2 0 2 0 0]\n"
     ]
    }
   ],
   "source": [
    "print('----------------Confusion Matrix (Test)------------------')\n",
    "print(confusion_matrix(yTest,yhatTest))\n",
    "print('Input data:  ' + str(np.array(yTest)))\n",
    "print('Prediction:        ' +str(yhatTest))"
   ]
  },
  {
   "cell_type": "code",
   "execution_count": 15,
   "metadata": {},
   "outputs": [
    {
     "name": "stdout",
     "output_type": "stream",
     "text": [
      "              precision    recall  f1-score   support\n",
      "\n",
      "           0       0.64      0.78      0.70        18\n",
      "           1       0.00      0.00      0.00         6\n",
      "           2       0.47      0.54      0.50        13\n",
      "\n",
      "    accuracy                           0.57        37\n",
      "   macro avg       0.37      0.44      0.40        37\n",
      "weighted avg       0.47      0.57      0.52        37\n",
      "\n"
     ]
    },
    {
     "name": "stderr",
     "output_type": "stream",
     "text": [
      "C:\\Users\\sandr\\AppData\\Local\\Packages\\PythonSoftwareFoundation.Python.3.9_qbz5n2kfra8p0\\LocalCache\\local-packages\\Python39\\site-packages\\sklearn\\metrics\\_classification.py:1308: UndefinedMetricWarning: Precision and F-score are ill-defined and being set to 0.0 in labels with no predicted samples. Use `zero_division` parameter to control this behavior.\n",
      "  _warn_prf(average, modifier, msg_start, len(result))\n",
      "C:\\Users\\sandr\\AppData\\Local\\Packages\\PythonSoftwareFoundation.Python.3.9_qbz5n2kfra8p0\\LocalCache\\local-packages\\Python39\\site-packages\\sklearn\\metrics\\_classification.py:1308: UndefinedMetricWarning: Precision and F-score are ill-defined and being set to 0.0 in labels with no predicted samples. Use `zero_division` parameter to control this behavior.\n",
      "  _warn_prf(average, modifier, msg_start, len(result))\n",
      "C:\\Users\\sandr\\AppData\\Local\\Packages\\PythonSoftwareFoundation.Python.3.9_qbz5n2kfra8p0\\LocalCache\\local-packages\\Python39\\site-packages\\sklearn\\metrics\\_classification.py:1308: UndefinedMetricWarning: Precision and F-score are ill-defined and being set to 0.0 in labels with no predicted samples. Use `zero_division` parameter to control this behavior.\n",
      "  _warn_prf(average, modifier, msg_start, len(result))\n"
     ]
    }
   ],
   "source": [
    "print(classification_report(yTest,yhatTest))"
   ]
  },
  {
   "cell_type": "code",
   "execution_count": 16,
   "metadata": {},
   "outputs": [
    {
     "data": {
      "image/png": "[encoded data removed]",
      "text/plain": [
       "<Figure size 432x288 with 1 Axes>"
      ]
     },
     "metadata": {
      "needs_background": "light"
     },
     "output_type": "display_data"
    },
    {
     "name": "stdout",
     "output_type": "stream",
     "text": [
      "MSKCC_FAVORABLE = 0.013298198371115405\n",
      "MSKCC_INTERMEDIATE = 0.004039298981604547\n",
      "MSKCC_NA = 0.000253342716396904\n",
      "MSKCC_POOR = 0.006224494124529351\n",
      "AC005307.1 = 0.0004721040332532968\n",
      "ATP5G2P1 = 0.03896781760701573\n",
      "DLGAP4 = 0.06001815580716059\n",
      "EIF4A1P9 = 0.020277835720995837\n",
      "FAM172BP = 0.014879361274826395\n",
      "FAM224A = 0.001300591995052435\n",
      "GJA9 = 0.04111287831129522\n",
      "GPR155 = 0.053839417105526054\n",
      "GYPE = 0.04217517458626076\n",
      "IL25 = 0.01104296290636778\n",
      "KLHL5 = 0.04799208250982464\n",
      "LANCL1-AS1 = 0.0068176412705266715\n",
      "LEMD1 = 0.05720973349489852\n",
      "PCMT1 = 0.05189032952427232\n",
      "RP11-120J4.1 = 0.015023998595059939\n",
      "RP11-20G6.3 = 0.0069978662630899\n",
      "RP11-349G13.2 = 0.012184957263090542\n",
      "RP11-374M1.2 = 0.048464391996746965\n",
      "RP11-536C10.21 = 0.014459632011972789\n",
      "RP11-95G17.2 = 0.006830573694983852\n",
      "RP11-96O20.4 = 0.009964592872958828\n",
      "RP5-827C21.1 = 0.03782052730530724\n",
      "RPS12P26 = 0.0574095460396868\n",
      "SDR42E1 = 0.06602404822359541\n",
      "SNORD113-5 = 0.007897305733566735\n",
      "TARBP2 = 0.08281864448450701\n",
      "TRAV41 = 0.04844086329490692\n",
      "TRIM43B = 0.02664112551076281\n",
      "VN2R17P = 0.02082350363591339\n",
      "XPC = 0.06638700273292839\n"
     ]
    }
   ],
   "source": [
    "# Through the created model we can see which attributes are the most significant to make a decision.\n",
    "# The most relevant attributes will be the ones placed at the top of the tree.\n",
    "features = list(X)\n",
    "importances = model.feature_importances_\n",
    "indices = np.argsort(importances)\n",
    "\n",
    "plt.title('Attribute relevance')\n",
    "plt.barh(range(len(indices)), importances[indices], color='b', align='center')\n",
    "plt.yticks(range(len(indices)), [features[i] for i in indices])\n",
    "plt.xlabel('Relative importance')\n",
    "plt.show()\n",
    "\n",
    "for name, importance in zip(X, model.feature_importances_):\n",
    "    print(name, \"=\", importance)\n",
    "\n",
    "# Attributes whose relevance is 0, will not be necessary to make the prediction of the target."
   ]
  }
 ],
 "metadata": {
  "kernelspec": {
   "display_name": "Python 3.9.13 64-bit (microsoft store)",
   "language": "python",
   "name": "python3"
  },
  "language_info": {
   "codemirror_mode": {
    "name": "ipython",
    "version": 3
   },
   "file_extension": ".py",
   "mimetype": "text/x-python",
   "name": "python",
   "nbconvert_exporter": "python",
   "pygments_lexer": "ipython3",
   "version": "3.9.13"
  },
  "orig_nbformat": 4,
  "vscode": {
   "interpreter": {
    "hash": "fb15f1e0f376981e7b6e1fc44ae8b8146823f10f258bcd6e448b0230b889fc06"
   }
  }
 },
 "nbformat": 4,
 "nbformat_minor": 2
}
