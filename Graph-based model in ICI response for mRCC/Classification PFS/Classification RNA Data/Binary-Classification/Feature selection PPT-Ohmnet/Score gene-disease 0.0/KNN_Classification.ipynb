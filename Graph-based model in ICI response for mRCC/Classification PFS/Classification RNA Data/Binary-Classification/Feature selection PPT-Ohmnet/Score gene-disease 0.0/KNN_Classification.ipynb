{
 "cells": [
  {
   "cell_type": "markdown",
   "metadata": {},
   "source": [
    "# Classification model using KNNN"
   ]
  },
  {
   "cell_type": "markdown",
   "metadata": {},
   "source": [
    "### 1. Import libraries"
   ]
  },
  {
   "cell_type": "code",
   "execution_count": 17,
   "metadata": {},
   "outputs": [],
   "source": [
    "import pandas as pd\n",
    "from sklearn import neighbors\n",
    "import matplotlib.pyplot as plt\n",
    "from sklearn.model_selection import train_test_split\n",
    "from sklearn import neighbors\n",
    "from sklearn.neighbors import KNeighborsClassifier\n",
    "from sklearn.metrics import accuracy_score\n",
    "import numpy as np\n",
    "from scipy.spatial import distance\n",
    "from sklearn import model_selection"
   ]
  },
  {
   "cell_type": "markdown",
   "metadata": {},
   "source": [
    "### 2. Upload RNA data"
   ]
  },
  {
   "cell_type": "code",
   "execution_count": 18,
   "metadata": {},
   "outputs": [
    {
     "data": {
      "text/html": [
       "<div>\n",
       "<style scoped>\n",
       "    .dataframe tbody tr th:only-of-type {\n",
       "        vertical-align: middle;\n",
       "    }\n",
       "\n",
       "    .dataframe tbody tr th {\n",
       "        vertical-align: top;\n",
       "    }\n",
       "\n",
       "    .dataframe thead th {\n",
       "        text-align: right;\n",
       "    }\n",
       "</style>\n",
       "<table border=\"1\" class=\"dataframe\">\n",
       "  <thead>\n",
       "    <tr style=\"text-align: right;\">\n",
       "      <th></th>\n",
       "      <th>Unnamed: 0</th>\n",
       "      <th>ABCB1</th>\n",
       "      <th>ABCB6</th>\n",
       "      <th>ABCG2</th>\n",
       "      <th>ABL2</th>\n",
       "      <th>ACADM</th>\n",
       "      <th>ACD</th>\n",
       "      <th>ACE</th>\n",
       "      <th>ACE2</th>\n",
       "      <th>ACHE</th>\n",
       "      <th>...</th>\n",
       "      <th>XRCC6</th>\n",
       "      <th>YAP1</th>\n",
       "      <th>YBX1</th>\n",
       "      <th>YBX3</th>\n",
       "      <th>YY1</th>\n",
       "      <th>ZBTB17</th>\n",
       "      <th>ZHX2</th>\n",
       "      <th>ZMIZ1</th>\n",
       "      <th>ZMPSTE24</th>\n",
       "      <th>Y</th>\n",
       "    </tr>\n",
       "  </thead>\n",
       "  <tbody>\n",
       "    <tr>\n",
       "      <th>0</th>\n",
       "      <td>0</td>\n",
       "      <td>36.716012</td>\n",
       "      <td>33.867624</td>\n",
       "      <td>29.676682</td>\n",
       "      <td>32.862716</td>\n",
       "      <td>35.061520</td>\n",
       "      <td>31.801427</td>\n",
       "      <td>31.988036</td>\n",
       "      <td>30.172489</td>\n",
       "      <td>29.912204</td>\n",
       "      <td>...</td>\n",
       "      <td>35.24634</td>\n",
       "      <td>33.97677</td>\n",
       "      <td>37.51551</td>\n",
       "      <td>35.75761</td>\n",
       "      <td>33.53412</td>\n",
       "      <td>31.72285</td>\n",
       "      <td>33.23150</td>\n",
       "      <td>32.38760</td>\n",
       "      <td>32.22373</td>\n",
       "      <td>1</td>\n",
       "    </tr>\n",
       "    <tr>\n",
       "      <th>1</th>\n",
       "      <td>1</td>\n",
       "      <td>34.174577</td>\n",
       "      <td>32.703008</td>\n",
       "      <td>31.318871</td>\n",
       "      <td>33.061603</td>\n",
       "      <td>35.908450</td>\n",
       "      <td>31.878071</td>\n",
       "      <td>33.015718</td>\n",
       "      <td>33.634947</td>\n",
       "      <td>26.076400</td>\n",
       "      <td>...</td>\n",
       "      <td>35.91455</td>\n",
       "      <td>34.75610</td>\n",
       "      <td>36.67356</td>\n",
       "      <td>35.85355</td>\n",
       "      <td>34.44291</td>\n",
       "      <td>31.63512</td>\n",
       "      <td>32.63491</td>\n",
       "      <td>33.78434</td>\n",
       "      <td>32.19111</td>\n",
       "      <td>1</td>\n",
       "    </tr>\n",
       "    <tr>\n",
       "      <th>2</th>\n",
       "      <td>2</td>\n",
       "      <td>31.225510</td>\n",
       "      <td>34.522351</td>\n",
       "      <td>30.612181</td>\n",
       "      <td>32.658413</td>\n",
       "      <td>34.370223</td>\n",
       "      <td>31.425178</td>\n",
       "      <td>31.714695</td>\n",
       "      <td>26.858096</td>\n",
       "      <td>27.589284</td>\n",
       "      <td>...</td>\n",
       "      <td>36.05801</td>\n",
       "      <td>34.48484</td>\n",
       "      <td>36.41164</td>\n",
       "      <td>35.24518</td>\n",
       "      <td>35.14050</td>\n",
       "      <td>31.99899</td>\n",
       "      <td>34.31359</td>\n",
       "      <td>32.95630</td>\n",
       "      <td>32.77568</td>\n",
       "      <td>1</td>\n",
       "    </tr>\n",
       "    <tr>\n",
       "      <th>3</th>\n",
       "      <td>3</td>\n",
       "      <td>32.988641</td>\n",
       "      <td>33.059035</td>\n",
       "      <td>31.973489</td>\n",
       "      <td>33.014431</td>\n",
       "      <td>35.824161</td>\n",
       "      <td>31.829645</td>\n",
       "      <td>32.916062</td>\n",
       "      <td>29.565514</td>\n",
       "      <td>28.143610</td>\n",
       "      <td>...</td>\n",
       "      <td>35.75676</td>\n",
       "      <td>35.27953</td>\n",
       "      <td>36.58061</td>\n",
       "      <td>36.19379</td>\n",
       "      <td>34.96911</td>\n",
       "      <td>31.28469</td>\n",
       "      <td>33.03073</td>\n",
       "      <td>33.88207</td>\n",
       "      <td>32.46805</td>\n",
       "      <td>0</td>\n",
       "    </tr>\n",
       "    <tr>\n",
       "      <th>4</th>\n",
       "      <td>4</td>\n",
       "      <td>33.284849</td>\n",
       "      <td>31.488348</td>\n",
       "      <td>30.774368</td>\n",
       "      <td>33.793065</td>\n",
       "      <td>34.332987</td>\n",
       "      <td>32.020127</td>\n",
       "      <td>31.824945</td>\n",
       "      <td>28.767942</td>\n",
       "      <td>26.537023</td>\n",
       "      <td>...</td>\n",
       "      <td>36.33015</td>\n",
       "      <td>34.50745</td>\n",
       "      <td>36.89459</td>\n",
       "      <td>34.95292</td>\n",
       "      <td>34.76483</td>\n",
       "      <td>33.40109</td>\n",
       "      <td>32.15993</td>\n",
       "      <td>33.35772</td>\n",
       "      <td>31.64157</td>\n",
       "      <td>1</td>\n",
       "    </tr>\n",
       "  </tbody>\n",
       "</table>\n",
       "<p>5 rows × 840 columns</p>\n",
       "</div>"
      ],
      "text/plain": [
       "   Unnamed: 0      ABCB1      ABCB6      ABCG2       ABL2      ACADM  \\\n",
       "0           0  36.716012  33.867624  29.676682  32.862716  35.061520   \n",
       "1           1  34.174577  32.703008  31.318871  33.061603  35.908450   \n",
       "2           2  31.225510  34.522351  30.612181  32.658413  34.370223   \n",
       "3           3  32.988641  33.059035  31.973489  33.014431  35.824161   \n",
       "4           4  33.284849  31.488348  30.774368  33.793065  34.332987   \n",
       "\n",
       "         ACD        ACE       ACE2       ACHE  ...     XRCC6      YAP1  \\\n",
       "0  31.801427  31.988036  30.172489  29.912204  ...  35.24634  33.97677   \n",
       "1  31.878071  33.015718  33.634947  26.076400  ...  35.91455  34.75610   \n",
       "2  31.425178  31.714695  26.858096  27.589284  ...  36.05801  34.48484   \n",
       "3  31.829645  32.916062  29.565514  28.143610  ...  35.75676  35.27953   \n",
       "4  32.020127  31.824945  28.767942  26.537023  ...  36.33015  34.50745   \n",
       "\n",
       "       YBX1      YBX3       YY1    ZBTB17      ZHX2     ZMIZ1  ZMPSTE24  Y  \n",
       "0  37.51551  35.75761  33.53412  31.72285  33.23150  32.38760  32.22373  1  \n",
       "1  36.67356  35.85355  34.44291  31.63512  32.63491  33.78434  32.19111  1  \n",
       "2  36.41164  35.24518  35.14050  31.99899  34.31359  32.95630  32.77568  1  \n",
       "3  36.58061  36.19379  34.96911  31.28469  33.03073  33.88207  32.46805  0  \n",
       "4  36.89459  34.95292  34.76483  33.40109  32.15993  33.35772  31.64157  1  \n",
       "\n",
       "[5 rows x 840 columns]"
      ]
     },
     "execution_count": 18,
     "metadata": {},
     "output_type": "execute_result"
    }
   ],
   "source": [
    "path ='C:/Users/sandr/Documents/ART_project/GNN model/Data/PPT-Ohmnet/mRCC_big_pool/Second big pool/mrcc_protein_matrix_2776_genes_839_nodes.csv'\n",
    "data = pd.read_csv(path)\n",
    "data.head(5)"
   ]
  },
  {
   "cell_type": "code",
   "execution_count": 19,
   "metadata": {},
   "outputs": [
    {
     "name": "stdout",
     "output_type": "stream",
     "text": [
      "         ABCB1      ABCB6      ABCG2       ABL2      ACADM        ACD  \\\n",
      "0    36.716012  33.867624  29.676682  32.862716  35.061520  31.801427   \n",
      "1    34.174577  32.703008  31.318871  33.061603  35.908450  31.878071   \n",
      "2    31.225510  34.522351  30.612181  32.658413  34.370223  31.425178   \n",
      "3    32.988641  33.059035  31.973489  33.014431  35.824161  31.829645   \n",
      "4    33.284849  31.488348  30.774368  33.793065  34.332987  32.020127   \n",
      "..         ...        ...        ...        ...        ...        ...   \n",
      "176  33.838323  32.296025  30.740420  33.040376  34.981970  31.823358   \n",
      "177  31.895951  33.784466  29.347511  31.571621  34.865097  29.786302   \n",
      "178  33.842290  32.838072  29.862937  33.491465  34.379400  31.246333   \n",
      "179  34.715293  32.561403  29.292590  33.151894  34.802123  32.344355   \n",
      "180  32.476530  32.316413  26.957145  33.580139  34.950670  32.959610   \n",
      "\n",
      "           ACE       ACE2       ACHE       ACO2  ...     XRCC4     XRCC6  \\\n",
      "0    31.988036  30.172489  29.912204  35.812113  ...  29.79709  35.24634   \n",
      "1    33.015718  33.634947  26.076400  34.834669  ...  31.29674  35.91455   \n",
      "2    31.714695  26.858096  27.589284  34.449024  ...  31.37668  36.05801   \n",
      "3    32.916062  29.565514  28.143610  35.401370  ...  30.65271  35.75676   \n",
      "4    31.824945  28.767942  26.537023  33.068712  ...  31.10007  36.33015   \n",
      "..         ...        ...        ...        ...  ...       ...       ...   \n",
      "176  32.748254  25.870831  27.355529  34.695167  ...  30.75886  35.53767   \n",
      "177  29.720601  30.945513  23.149098  32.541787  ...  32.96204  35.50224   \n",
      "178  33.114433  25.870831  28.926076  33.864699  ...  29.63276  35.22805   \n",
      "179  33.543569  32.700981  29.967641  35.307358  ...  31.09475  34.81409   \n",
      "180  32.203161  25.870831  29.189065  35.778200  ...  31.01456  37.01634   \n",
      "\n",
      "         YAP1      YBX1      YBX3       YY1    ZBTB17      ZHX2     ZMIZ1  \\\n",
      "0    33.97677  37.51551  35.75761  33.53412  31.72285  33.23150  32.38760   \n",
      "1    34.75610  36.67356  35.85355  34.44291  31.63512  32.63491  33.78434   \n",
      "2    34.48484  36.41164  35.24518  35.14050  31.99899  34.31359  32.95630   \n",
      "3    35.27953  36.58061  36.19379  34.96911  31.28469  33.03073  33.88207   \n",
      "4    34.50745  36.89459  34.95292  34.76483  33.40109  32.15993  33.35772   \n",
      "..        ...       ...       ...       ...       ...       ...       ...   \n",
      "176  34.82946  37.20378  36.41314  34.69950  32.89423  33.07640  33.73563   \n",
      "177  33.69401  36.55929  35.16855  34.89385  33.76237  31.38631  30.87456   \n",
      "178  34.52318  36.62523  35.18621  34.88021  31.47358  31.68824  33.42545   \n",
      "179  34.59853  34.81241  35.19760  34.37022  31.75344  33.62427  33.09948   \n",
      "180  35.21349  36.59243  36.28946  35.12411  32.07098  33.59060  33.46466   \n",
      "\n",
      "     ZMPSTE24  \n",
      "0    32.22373  \n",
      "1    32.19111  \n",
      "2    32.77568  \n",
      "3    32.46805  \n",
      "4    31.64157  \n",
      "..        ...  \n",
      "176  32.02075  \n",
      "177  32.16958  \n",
      "178  32.62316  \n",
      "179  31.49508  \n",
      "180  31.84658  \n",
      "\n",
      "[181 rows x 838 columns]\n",
      "Numero de pacientes:  181\n"
     ]
    }
   ],
   "source": [
    "X = data.iloc[:,1:839  ] \n",
    "Y = []\n",
    "for i in range (len(data)):\n",
    "    if data.Y[i]==0: # If PFS is lower than 3 months, I will consider it as NonResponder (NR)\n",
    "        Y.append(0)\n",
    "    else:\n",
    "        Y.append(1)# If PFS is over 3 months, I will consider it as Responder (R)\n",
    "print(X)\n",
    "print('Numero de pacientes: ',len(Y))"
   ]
  },
  {
   "cell_type": "markdown",
   "metadata": {},
   "source": [
    "### 3. Train-Test dataset split"
   ]
  },
  {
   "cell_type": "code",
   "execution_count": 20,
   "metadata": {},
   "outputs": [
    {
     "name": "stdout",
     "output_type": "stream",
     "text": [
      "Training set size: 144\n",
      "Target column size of the training set: 144\n",
      "Test set size: 37\n",
      "Target column size of the test set: 37\n"
     ]
    }
   ],
   "source": [
    "XTrain, XTest, yTrain, yTest = train_test_split(X, Y, test_size=0.20, random_state=125, stratify=Y)\n",
    "\n",
    "# Convert sets to arrays\n",
    "XTrain = XTrain.values\n",
    "XTest = XTest.values\n",
    "\n",
    "print('Training set size:', len(XTrain))\n",
    "print('Target column size of the training set:', len(yTrain))\n",
    "print('Test set size:', len(XTest))\n",
    "print('Target column size of the test set:', len(yTest))"
   ]
  },
  {
   "cell_type": "markdown",
   "metadata": {},
   "source": [
    "### 4. Study the best value for K"
   ]
  },
  {
   "cell_type": "code",
   "execution_count": 21,
   "metadata": {},
   "outputs": [
    {
     "name": "stdout",
     "output_type": "stream",
     "text": [
      "Best accuracy is obtained with k = 7 and is: 0.5946\n"
     ]
    }
   ],
   "source": [
    "neighbors = list(range(1,8))\n",
    "cek = []\n",
    "list_accuracy = []\n",
    "best_acuracy = 0\n",
    "best_k = 0\n",
    "for k in neighbors:\n",
    "    knn = KNeighborsClassifier(n_neighbors=k)\n",
    "    pred = knn.fit(XTrain, yTrain).predict(XTest)\n",
    "    if accuracy_score(yTest, pred) >= best_acuracy:\n",
    "        best_k = k\n",
    "        best_acuracy=accuracy_score(yTest, pred)\n",
    "    list_accuracy.append(accuracy_score(yTest, pred))\n",
    "\n",
    "print(\"Best accuracy is obtained with k = \" + str(best_k)+ \" and is: %.4f\" % (best_acuracy))\n"
   ]
  },
  {
   "cell_type": "code",
   "execution_count": 22,
   "metadata": {},
   "outputs": [
    {
     "data": {
      "image/png": "[encoded data removed]",
      "text/plain": [
       "<Figure size 432x288 with 1 Axes>"
      ]
     },
     "metadata": {
      "needs_background": "light"
     },
     "output_type": "display_data"
    }
   ],
   "source": [
    "plt.plot(np.append(np.roll(list_accuracy,1),list_accuracy[6]),'ro', color='r', linestyle='dashed',linewidth=1.0, label=\"Graph2\")\n",
    "# Green dot represent best K value\n",
    "plt.plot(best_k, best_acuracy, 'ro', color ='g')\n",
    "plt.axis([1, 7, 0.5, 1])\n",
    "plt.xlabel('K')\n",
    "plt.ylabel('Accuracy')\n",
    "\n",
    "plt.grid()\n",
    "plt.show()"
   ]
  },
  {
   "cell_type": "markdown",
   "metadata": {},
   "source": [
    "### 5. Best metric study (manhattan or euclidean)"
   ]
  },
  {
   "cell_type": "code",
   "execution_count": 23,
   "metadata": {},
   "outputs": [
    {
     "data": {
      "text/plain": [
       "KNeighborsClassifier(metric=<function cityblock at 0x00000198CD37F3A0>,\n",
       "                     n_neighbors=7)"
      ]
     },
     "execution_count": 23,
     "metadata": {},
     "output_type": "execute_result"
    }
   ],
   "source": [
    "# Euclidean distance model\n",
    "euclid_model = KNeighborsClassifier(n_neighbors=best_k, metric=distance.sqeuclidean)\n",
    "euclid_model.fit(XTrain,yTrain) \n",
    "\n",
    "# Manhattan distance model\n",
    "manhattan_model = KNeighborsClassifier(n_neighbors=best_k, metric=distance.cityblock) \n",
    "manhattan_model.fit(XTrain, yTrain)"
   ]
  },
  {
   "cell_type": "markdown",
   "metadata": {},
   "source": [
    "### 6. Predictions"
   ]
  },
  {
   "cell_type": "code",
   "execution_count": 24,
   "metadata": {},
   "outputs": [
    {
     "data": {
      "text/html": [
       "<div>\n",
       "<style scoped>\n",
       "    .dataframe tbody tr th:only-of-type {\n",
       "        vertical-align: middle;\n",
       "    }\n",
       "\n",
       "    .dataframe tbody tr th {\n",
       "        vertical-align: top;\n",
       "    }\n",
       "\n",
       "    .dataframe thead th {\n",
       "        text-align: right;\n",
       "    }\n",
       "</style>\n",
       "<table border=\"1\" class=\"dataframe\">\n",
       "  <thead>\n",
       "    <tr style=\"text-align: right;\">\n",
       "      <th></th>\n",
       "      <th>actual</th>\n",
       "      <th>manhattan</th>\n",
       "      <th>euclid</th>\n",
       "    </tr>\n",
       "  </thead>\n",
       "  <tbody>\n",
       "    <tr>\n",
       "      <th>0</th>\n",
       "      <td>0</td>\n",
       "      <td>1</td>\n",
       "      <td>1</td>\n",
       "    </tr>\n",
       "    <tr>\n",
       "      <th>1</th>\n",
       "      <td>1</td>\n",
       "      <td>1</td>\n",
       "      <td>1</td>\n",
       "    </tr>\n",
       "    <tr>\n",
       "      <th>2</th>\n",
       "      <td>0</td>\n",
       "      <td>1</td>\n",
       "      <td>0</td>\n",
       "    </tr>\n",
       "    <tr>\n",
       "      <th>3</th>\n",
       "      <td>1</td>\n",
       "      <td>1</td>\n",
       "      <td>1</td>\n",
       "    </tr>\n",
       "    <tr>\n",
       "      <th>4</th>\n",
       "      <td>0</td>\n",
       "      <td>1</td>\n",
       "      <td>1</td>\n",
       "    </tr>\n",
       "  </tbody>\n",
       "</table>\n",
       "</div>"
      ],
      "text/plain": [
       "   actual  manhattan  euclid\n",
       "0       0          1       1\n",
       "1       1          1       1\n",
       "2       0          1       0\n",
       "3       1          1       1\n",
       "4       0          1       1"
      ]
     },
     "execution_count": 24,
     "metadata": {},
     "output_type": "execute_result"
    }
   ],
   "source": [
    "manhattan_predictions = manhattan_model.predict(XTest)\n",
    "euclid_predictions = euclid_model.predict(XTest) \n",
    "df = pd.DataFrame({'actual': yTest, 'manhattan': manhattan_predictions, 'euclid': euclid_predictions})\n",
    "df.head()"
   ]
  },
  {
   "cell_type": "code",
   "execution_count": 25,
   "metadata": {},
   "outputs": [
    {
     "name": "stdout",
     "output_type": "stream",
     "text": [
      "Best result of the cross validation of the model (euclidean) with the best paramters:0.5206896551724138\n",
      "Best result of the cross validation of the model (manhattan) with the best paramters:0.4517241379310345\n"
     ]
    }
   ],
   "source": [
    "# Cross validation\n",
    "result1= model_selection.cross_val_score(euclid_model, XTrain, yTrain, cv=5, scoring='accuracy')\n",
    "result2 = model_selection.cross_val_score(manhattan_model, XTrain, yTrain, cv=5, scoring='accuracy')\n",
    "print(\"Best result of the cross validation of the model (euclidean) with the best paramters:\" +str(np.mean(result1)))\n",
    "print(\"Best result of the cross validation of the model (manhattan) with the best paramters:\" +str(np.mean(result2)))\n"
   ]
  },
  {
   "cell_type": "markdown",
   "metadata": {},
   "source": [
    "#### 6.1. Manhattan model"
   ]
  },
  {
   "cell_type": "code",
   "execution_count": 26,
   "metadata": {},
   "outputs": [],
   "source": [
    "# Making predictions with the optimal model on the training dataset\n",
    "yhatTrain = manhattan_model.predict(XTrain)\n",
    "contTrain = 0\n",
    "\n",
    "# Comparing with the Target column and check how many hits there have been\n",
    "for i in range(0,len(yTrain),1) :\n",
    "    if (yhatTrain[i] == yTrain[i]):\n",
    "        contTrain = contTrain + 1"
   ]
  },
  {
   "cell_type": "code",
   "execution_count": 27,
   "metadata": {},
   "outputs": [],
   "source": [
    "# Making predictions with the optimal model on the test dataset\n",
    "mayhatTest = manhattan_model.predict(XTest)\n",
    "contTest = 0\n",
    "\n",
    "# Comparing with the Target column and check how many hits there have been\n",
    "for i in range(0,len(yTest),1) :\n",
    "    if (mayhatTest[i] == yTest[i]):\n",
    "        contTest = contTest + 1"
   ]
  },
  {
   "cell_type": "code",
   "execution_count": 28,
   "metadata": {},
   "outputs": [
    {
     "name": "stdout",
     "output_type": "stream",
     "text": [
      "Final accuracy on the training dataset (manhattan): 0.6388888888888888\n",
      "Final accuracy on the testing dataset (manhattan): 0.5135135135135135\n"
     ]
    }
   ],
   "source": [
    "print('Final accuracy on the training dataset (manhattan): ' + str(contTrain/len(yTrain)))\n",
    "print('Final accuracy on the testing dataset (manhattan): ' + str(contTest/len(yTest)))"
   ]
  },
  {
   "cell_type": "code",
   "execution_count": 29,
   "metadata": {},
   "outputs": [
    {
     "name": "stdout",
     "output_type": "stream",
     "text": [
      "----------------Confusion Matrix (Training)------------------\n",
      "[[37 31]\n",
      " [21 55]]\n",
      "Input data:  [1 0 1 0 1 1 0 0 1 0 1 0 1 0 1 1 0 1 1 1 0 0 0 1 0 0 0 0 0 1 1 1 1 1 0 1 1\n",
      " 0 0 1 1 1 1 1 0 0 1 1 1 0 0 0 1 0 0 1 0 1 1 1 0 1 1 0 0 0 0 1 1 1 0 1 0 0\n",
      " 0 1 0 1 0 0 0 1 1 0 0 1 1 1 1 1 0 1 0 1 0 0 1 0 1 0 0 1 0 0 1 1 1 1 0 1 1\n",
      " 1 1 0 1 0 0 0 1 0 1 0 1 0 0 1 1 1 0 0 0 1 0 1 0 0 0 1 1 1 1 1 0 1]\n",
      "Prediction:        [1 1 0 1 1 1 0 0 1 1 1 0 0 1 0 0 1 0 1 1 0 0 1 1 1 1 0 1 0 1 1 1 1 0 1 1 1\n",
      " 0 1 1 1 1 0 0 0 0 1 0 1 1 0 0 1 0 0 1 1 1 1 1 0 0 1 0 0 0 1 1 1 1 0 0 1 1\n",
      " 1 1 1 1 1 1 1 0 1 1 1 1 1 1 1 1 1 1 0 1 1 1 0 0 1 0 0 1 0 0 1 0 1 1 0 0 1\n",
      " 1 0 0 0 1 0 1 1 1 1 1 1 0 0 0 1 1 0 0 0 0 0 1 0 0 1 0 1 1 1 1 0 0]\n"
     ]
    }
   ],
   "source": [
    "from sklearn.metrics import classification_report,confusion_matrix\n",
    "\n",
    "print('----------------Confusion Matrix (Training)------------------')\n",
    "print(confusion_matrix(yTrain,yhatTrain))\n",
    "print('Input data:  ' + str(np.array(yTrain)))\n",
    "print('Prediction:        ' +str(yhatTrain))"
   ]
  },
  {
   "cell_type": "code",
   "execution_count": 30,
   "metadata": {},
   "outputs": [
    {
     "name": "stdout",
     "output_type": "stream",
     "text": [
      "              precision    recall  f1-score   support\n",
      "\n",
      "           0       0.64      0.54      0.59        68\n",
      "           1       0.64      0.72      0.68        76\n",
      "\n",
      "    accuracy                           0.64       144\n",
      "   macro avg       0.64      0.63      0.63       144\n",
      "weighted avg       0.64      0.64      0.64       144\n",
      "\n"
     ]
    }
   ],
   "source": [
    "print(classification_report(yTrain,yhatTrain))"
   ]
  },
  {
   "cell_type": "code",
   "execution_count": 31,
   "metadata": {},
   "outputs": [
    {
     "name": "stdout",
     "output_type": "stream",
     "text": [
      "----------------Confusion Matrix (Test)------------------\n",
      "[[ 6 11]\n",
      " [ 7 13]]\n",
      "Input data:  [0 1 0 1 0 1 1 0 1 0 1 1 1 1 1 0 1 1 0 0 0 1 1 0 0 1 0 1 1 0 0 0 1 1 0 1 0]\n",
      "Prediction:        [1 1 1 1 1 1 0 0 1 1 1 0 1 0 1 1 0 0 1 0 0 1 0 0 1 1 0 1 1 1 1 1 1 0 0 1 1]\n"
     ]
    }
   ],
   "source": [
    "from sklearn.metrics import confusion_matrix\n",
    "confusion_matrix = confusion_matrix(yTest, mayhatTest)\n",
    "print('----------------Confusion Matrix (Test)------------------')\n",
    "print(confusion_matrix)\n",
    "print('Input data:  ' + str(np.array(yTest)))\n",
    "print('Prediction:        ' +str(mayhatTest))"
   ]
  },
  {
   "cell_type": "code",
   "execution_count": 32,
   "metadata": {},
   "outputs": [
    {
     "name": "stdout",
     "output_type": "stream",
     "text": [
      "              precision    recall  f1-score   support\n",
      "\n",
      "           0       0.46      0.35      0.40        17\n",
      "           1       0.54      0.65      0.59        20\n",
      "\n",
      "    accuracy                           0.51        37\n",
      "   macro avg       0.50      0.50      0.50        37\n",
      "weighted avg       0.50      0.51      0.50        37\n",
      "\n"
     ]
    }
   ],
   "source": [
    "print(classification_report(yTest, mayhatTest))"
   ]
  }
 ],
 "metadata": {
  "interpreter": {
   "hash": "8be240dc937e61b542e412c89351978950720d3fde5a0c37c158fb19f149fb89"
  },
  "kernelspec": {
   "display_name": "Python 3.8.8 ('base')",
   "language": "python",
   "name": "python3"
  },
  "language_info": {
   "codemirror_mode": {
    "name": "ipython",
    "version": 3
   },
   "file_extension": ".py",
   "mimetype": "text/x-python",
   "name": "python",
   "nbconvert_exporter": "python",
   "pygments_lexer": "ipython3",
   "version": "3.8.8"
  },
  "orig_nbformat": 4
 },
 "nbformat": 4,
 "nbformat_minor": 2
}
