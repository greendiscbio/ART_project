{
 "cells": [
  {
   "cell_type": "markdown",
   "metadata": {},
   "source": [
    "# Classification model using Decision Tree"
   ]
  },
  {
   "cell_type": "markdown",
   "metadata": {},
   "source": [
    "### 1. Import libraries"
   ]
  },
  {
   "cell_type": "code",
   "execution_count": 1,
   "metadata": {},
   "outputs": [],
   "source": [
    "import pandas as pd\n",
    "import numpy as np\n",
    "import matplotlib.pyplot as plt\n",
    "from sklearn.model_selection import train_test_split\n",
    "from sklearn.tree import DecisionTreeClassifier\n",
    "from sklearn.model_selection import GridSearchCV\n",
    "from sklearn.model_selection import cross_val_score"
   ]
  },
  {
   "cell_type": "markdown",
   "metadata": {},
   "source": [
    "### 2. Upload Clinic data"
   ]
  },
  {
   "cell_type": "code",
   "execution_count": 2,
   "metadata": {},
   "outputs": [
    {
     "data": {
      "text/html": [
       "<div>\n",
       "<style scoped>\n",
       "    .dataframe tbody tr th:only-of-type {\n",
       "        vertical-align: middle;\n",
       "    }\n",
       "\n",
       "    .dataframe tbody tr th {\n",
       "        vertical-align: top;\n",
       "    }\n",
       "\n",
       "    .dataframe thead th {\n",
       "        text-align: right;\n",
       "    }\n",
       "</style>\n",
       "<table border=\"1\" class=\"dataframe\">\n",
       "  <thead>\n",
       "    <tr style=\"text-align: right;\">\n",
       "      <th></th>\n",
       "      <th>Target</th>\n",
       "      <th>0</th>\n",
       "      <th>1</th>\n",
       "      <th>2</th>\n",
       "      <th>3</th>\n",
       "      <th>4</th>\n",
       "      <th>5</th>\n",
       "      <th>6</th>\n",
       "      <th>7</th>\n",
       "      <th>8</th>\n",
       "      <th>...</th>\n",
       "      <th>190</th>\n",
       "      <th>191</th>\n",
       "      <th>192</th>\n",
       "      <th>193</th>\n",
       "      <th>194</th>\n",
       "      <th>195</th>\n",
       "      <th>196</th>\n",
       "      <th>197</th>\n",
       "      <th>198</th>\n",
       "      <th>199</th>\n",
       "    </tr>\n",
       "  </thead>\n",
       "  <tbody>\n",
       "    <tr>\n",
       "      <th>0</th>\n",
       "      <td>1</td>\n",
       "      <td>0.442789</td>\n",
       "      <td>0.226327</td>\n",
       "      <td>-3.395011</td>\n",
       "      <td>0.761912</td>\n",
       "      <td>-1.181912</td>\n",
       "      <td>-2.057796</td>\n",
       "      <td>1.901030</td>\n",
       "      <td>1.522585</td>\n",
       "      <td>1.423520</td>\n",
       "      <td>...</td>\n",
       "      <td>-0.868301</td>\n",
       "      <td>-0.086499</td>\n",
       "      <td>-1.845631</td>\n",
       "      <td>0.055275</td>\n",
       "      <td>-0.643941</td>\n",
       "      <td>1.154629</td>\n",
       "      <td>0.672262</td>\n",
       "      <td>-1.960425</td>\n",
       "      <td>0.978955</td>\n",
       "      <td>1.969951</td>\n",
       "    </tr>\n",
       "    <tr>\n",
       "      <th>1</th>\n",
       "      <td>1</td>\n",
       "      <td>-0.028265</td>\n",
       "      <td>1.410163</td>\n",
       "      <td>-2.657692</td>\n",
       "      <td>0.825858</td>\n",
       "      <td>0.435628</td>\n",
       "      <td>-0.972779</td>\n",
       "      <td>1.769565</td>\n",
       "      <td>1.036833</td>\n",
       "      <td>1.384876</td>\n",
       "      <td>...</td>\n",
       "      <td>-1.698915</td>\n",
       "      <td>-1.105859</td>\n",
       "      <td>-0.437742</td>\n",
       "      <td>0.587427</td>\n",
       "      <td>0.048230</td>\n",
       "      <td>-0.216112</td>\n",
       "      <td>1.084762</td>\n",
       "      <td>-2.144046</td>\n",
       "      <td>1.397851</td>\n",
       "      <td>0.873189</td>\n",
       "    </tr>\n",
       "    <tr>\n",
       "      <th>2</th>\n",
       "      <td>1</td>\n",
       "      <td>0.269204</td>\n",
       "      <td>0.884609</td>\n",
       "      <td>-1.665391</td>\n",
       "      <td>1.609233</td>\n",
       "      <td>-0.564921</td>\n",
       "      <td>0.837579</td>\n",
       "      <td>1.007009</td>\n",
       "      <td>-0.886500</td>\n",
       "      <td>0.638139</td>\n",
       "      <td>...</td>\n",
       "      <td>-0.221767</td>\n",
       "      <td>-2.244491</td>\n",
       "      <td>-1.593955</td>\n",
       "      <td>-0.136215</td>\n",
       "      <td>-0.294638</td>\n",
       "      <td>-0.849120</td>\n",
       "      <td>-0.267188</td>\n",
       "      <td>-1.294744</td>\n",
       "      <td>0.276453</td>\n",
       "      <td>-0.562008</td>\n",
       "    </tr>\n",
       "    <tr>\n",
       "      <th>3</th>\n",
       "      <td>0</td>\n",
       "      <td>0.239312</td>\n",
       "      <td>0.799451</td>\n",
       "      <td>-2.839295</td>\n",
       "      <td>0.810844</td>\n",
       "      <td>0.533907</td>\n",
       "      <td>-0.948322</td>\n",
       "      <td>1.995090</td>\n",
       "      <td>0.853652</td>\n",
       "      <td>1.670330</td>\n",
       "      <td>...</td>\n",
       "      <td>-1.495095</td>\n",
       "      <td>-1.396998</td>\n",
       "      <td>-0.734805</td>\n",
       "      <td>0.479203</td>\n",
       "      <td>-0.163358</td>\n",
       "      <td>-0.100398</td>\n",
       "      <td>0.647680</td>\n",
       "      <td>-2.374888</td>\n",
       "      <td>1.707838</td>\n",
       "      <td>0.507836</td>\n",
       "    </tr>\n",
       "    <tr>\n",
       "      <th>4</th>\n",
       "      <td>1</td>\n",
       "      <td>-0.351865</td>\n",
       "      <td>-1.245096</td>\n",
       "      <td>-0.744767</td>\n",
       "      <td>-1.102401</td>\n",
       "      <td>0.138185</td>\n",
       "      <td>1.691464</td>\n",
       "      <td>0.830067</td>\n",
       "      <td>0.261012</td>\n",
       "      <td>0.593560</td>\n",
       "      <td>...</td>\n",
       "      <td>1.819882</td>\n",
       "      <td>-0.315093</td>\n",
       "      <td>-2.720363</td>\n",
       "      <td>-1.119180</td>\n",
       "      <td>0.080892</td>\n",
       "      <td>-1.040733</td>\n",
       "      <td>0.136569</td>\n",
       "      <td>-1.674414</td>\n",
       "      <td>0.958555</td>\n",
       "      <td>-1.271945</td>\n",
       "    </tr>\n",
       "  </tbody>\n",
       "</table>\n",
       "<p>5 rows × 201 columns</p>\n",
       "</div>"
      ],
      "text/plain": [
       "   Target         0         1         2         3         4         5  \\\n",
       "0       1  0.442789  0.226327 -3.395011  0.761912 -1.181912 -2.057796   \n",
       "1       1 -0.028265  1.410163 -2.657692  0.825858  0.435628 -0.972779   \n",
       "2       1  0.269204  0.884609 -1.665391  1.609233 -0.564921  0.837579   \n",
       "3       0  0.239312  0.799451 -2.839295  0.810844  0.533907 -0.948322   \n",
       "4       1 -0.351865 -1.245096 -0.744767 -1.102401  0.138185  1.691464   \n",
       "\n",
       "          6         7         8  ...       190       191       192       193  \\\n",
       "0  1.901030  1.522585  1.423520  ... -0.868301 -0.086499 -1.845631  0.055275   \n",
       "1  1.769565  1.036833  1.384876  ... -1.698915 -1.105859 -0.437742  0.587427   \n",
       "2  1.007009 -0.886500  0.638139  ... -0.221767 -2.244491 -1.593955 -0.136215   \n",
       "3  1.995090  0.853652  1.670330  ... -1.495095 -1.396998 -0.734805  0.479203   \n",
       "4  0.830067  0.261012  0.593560  ...  1.819882 -0.315093 -2.720363 -1.119180   \n",
       "\n",
       "        194       195       196       197       198       199  \n",
       "0 -0.643941  1.154629  0.672262 -1.960425  0.978955  1.969951  \n",
       "1  0.048230 -0.216112  1.084762 -2.144046  1.397851  0.873189  \n",
       "2 -0.294638 -0.849120 -0.267188 -1.294744  0.276453 -0.562008  \n",
       "3 -0.163358 -0.100398  0.647680 -2.374888  1.707838  0.507836  \n",
       "4  0.080892 -1.040733  0.136569 -1.674414  0.958555 -1.271945  \n",
       "\n",
       "[5 rows x 201 columns]"
      ]
     },
     "execution_count": 2,
     "metadata": {},
     "output_type": "execute_result"
    }
   ],
   "source": [
    "path =\"../../../../Data_preprocessing/RNA_post_autoencoder/encoded_data_binary_200_review.csv\"\n",
    "data = pd.read_csv(path)\n",
    "data.reset_index\n",
    "data.round(4)\n",
    "data=data.iloc[:,1:202 ] \n",
    "data.head()"
   ]
  },
  {
   "cell_type": "code",
   "execution_count": 3,
   "metadata": {},
   "outputs": [
    {
     "name": "stdout",
     "output_type": "stream",
     "text": [
      "            0         1         2         3         4         5         6  \\\n",
      "0    0.442789  0.226327 -3.395011  0.761912 -1.181912 -2.057796  1.901030   \n",
      "1   -0.028265  1.410163 -2.657692  0.825858  0.435628 -0.972779  1.769565   \n",
      "2    0.269204  0.884609 -1.665391  1.609233 -0.564921  0.837579  1.007009   \n",
      "3    0.239312  0.799451 -2.839295  0.810844  0.533907 -0.948322  1.995090   \n",
      "4   -0.351865 -1.245096 -0.744767 -1.102401  0.138185  1.691464  0.830067   \n",
      "..        ...       ...       ...       ...       ...       ...       ...   \n",
      "176  0.121525  0.789393 -1.679044 -0.338311 -0.033060  0.143954  0.686666   \n",
      "177 -0.217280  0.614284 -3.202434  1.415873 -0.034867 -1.669631  1.756469   \n",
      "178 -0.015025  0.468370 -1.550519 -0.117665 -0.567333 -0.207721  0.605682   \n",
      "179 -0.244144  1.576056 -1.483863  0.089200 -0.107631 -0.831589  0.260183   \n",
      "180 -0.161056  0.517091 -1.964447  0.106236 -0.606570 -0.446199  0.921929   \n",
      "\n",
      "            7         8         9  ...       190       191       192  \\\n",
      "0    1.522585  1.423520 -1.133097  ... -0.868301 -0.086499 -1.845631   \n",
      "1    1.036833  1.384876 -0.905239  ... -1.698915 -1.105859 -0.437742   \n",
      "2   -0.886500  0.638139 -1.383349  ... -0.221767 -2.244491 -1.593955   \n",
      "3    0.853652  1.670330 -0.798142  ... -1.495095 -1.396998 -0.734805   \n",
      "4    0.261012  0.593560 -1.265134  ...  1.819882 -0.315093 -2.720363   \n",
      "..        ...       ...       ...  ...       ...       ...       ...   \n",
      "176  1.352235  1.231143 -0.639037  ... -0.502338 -0.878246 -0.937684   \n",
      "177  0.895597  1.353813 -1.647205  ... -2.315726 -1.170154 -0.700554   \n",
      "178  1.060858  1.207397 -1.092568  ... -0.698835 -0.730946 -1.062844   \n",
      "179  2.085388  0.600841 -0.547670  ... -0.273632 -0.892104 -0.405529   \n",
      "180  0.930891  1.126651 -1.270567  ... -1.209615 -0.611399 -1.004538   \n",
      "\n",
      "          193       194       195       196       197       198       199  \n",
      "0    0.055275 -0.643941  1.154629  0.672262 -1.960425  0.978955  1.969951  \n",
      "1    0.587427  0.048230 -0.216112  1.084762 -2.144046  1.397851  0.873189  \n",
      "2   -0.136215 -0.294638 -0.849120 -0.267188 -1.294744  0.276453 -0.562008  \n",
      "3    0.479203 -0.163358 -0.100398  0.647680 -2.374888  1.707838  0.507836  \n",
      "4   -1.119180  0.080892 -1.040733  0.136569 -1.674414  0.958555 -1.271945  \n",
      "..        ...       ...       ...       ...       ...       ...       ...  \n",
      "176 -0.365146 -0.266997 -0.380955  0.623903 -1.798886  1.023760  0.489026  \n",
      "177  0.697908 -0.029973  0.495671  1.142163 -2.011623  1.012784  1.365545  \n",
      "178  0.000504 -0.282695 -0.163101  0.642795 -1.728818  0.643054  0.523558  \n",
      "179 -0.367688 -0.037767 -0.513179  1.949885 -1.906372  1.478283  0.894822  \n",
      "180  0.271342 -0.129115  0.178572  0.809353 -1.441472  0.458278  1.025028  \n",
      "\n",
      "[181 rows x 200 columns]\n",
      "Numero de pacientes:  181\n"
     ]
    }
   ],
   "source": [
    "Y = data.Target # Target column\n",
    "\n",
    "X = data.iloc[:,1:202] # I selected all the columns by removing the Unnamed column (row id) and the Target column.\n",
    "\n",
    "print(X)\n",
    "print('Numero de pacientes: ',len(Y))"
   ]
  },
  {
   "cell_type": "markdown",
   "metadata": {},
   "source": [
    "### 3. Train-Test dataset split"
   ]
  },
  {
   "cell_type": "code",
   "execution_count": 4,
   "metadata": {},
   "outputs": [
    {
     "name": "stdout",
     "output_type": "stream",
     "text": [
      "Training set size: 144\n",
      "Target column size of the training set: 144\n",
      "Test set size: 37\n",
      "Target column size of the test set: 37\n"
     ]
    }
   ],
   "source": [
    "XTrain, XTest, yTrain, yTest = train_test_split(X, Y, test_size=0.20, random_state=125, stratify=Y)\n",
    "\n",
    "# Convert sets to arrays\n",
    "XTrain = XTrain.values\n",
    "XTest = XTest.values\n",
    "\n",
    "print('Training set size:', len(XTrain))\n",
    "print('Target column size of the training set:', len(yTrain))\n",
    "print('Test set size:', len(XTest))\n",
    "print('Target column size of the test set:', len(yTest))"
   ]
  },
  {
   "cell_type": "markdown",
   "metadata": {},
   "source": [
    "### 4. Select the parameters of the model and fit it"
   ]
  },
  {
   "cell_type": "code",
   "execution_count": 5,
   "metadata": {},
   "outputs": [
    {
     "data": {
      "text/plain": [
       "GridSearchCV(cv=5, estimator=DecisionTreeClassifier(),\n",
       "             param_grid={'criterion': ['entropy', 'gini'],\n",
       "                         'max_depth': [2, 5, 10, 12, 15, 20, 100],\n",
       "                         'min_samples_leaf': [2, 5, 7, 10],\n",
       "                         'min_samples_split': [2, 5, 7, 10],\n",
       "                         'random_state': [125],\n",
       "                         'splitter': ['best', 'random']})"
      ]
     },
     "execution_count": 5,
     "metadata": {},
     "output_type": "execute_result"
    }
   ],
   "source": [
    "param_grid = {'min_samples_leaf': [2,5,7,10],\n",
    "              'min_samples_split': [2, 5, 7, 10],\n",
    "              'max_depth':[2,5,10,12,15,20,100],\n",
    "              'criterion':['entropy','gini'],\n",
    "              'splitter': ['best', 'random'],\n",
    "              'random_state':[125]}\n",
    "\n",
    "# I created a GridSearchCV which allows us to systematically evaluate and select the parameters of our model.\n",
    "# By indicating a model and the parameters to test, you can evaluate the performance of the first one based on the\n",
    "# seconds through cross validation.\n",
    "clf = GridSearchCV(DecisionTreeClassifier(), param_grid, cv = 5)\n",
    "\n",
    "clf.fit(XTrain , yTrain)"
   ]
  },
  {
   "cell_type": "code",
   "execution_count": 6,
   "metadata": {},
   "outputs": [
    {
     "name": "stdout",
     "output_type": "stream",
     "text": [
      "Best estimate of parameters according to GridSearchCV:\n"
     ]
    },
    {
     "data": {
      "text/plain": [
       "DecisionTreeClassifier(criterion='entropy', max_depth=5, min_samples_leaf=10,\n",
       "                       random_state=125)"
      ]
     },
     "execution_count": 6,
     "metadata": {},
     "output_type": "execute_result"
    }
   ],
   "source": [
    "print(\"Best estimate of parameters according to GridSearchCV:\")\n",
    "model = clf.best_estimator_\n",
    "# Fit the model with the best parameters\n",
    "model.fit(XTrain , yTrain)"
   ]
  },
  {
   "cell_type": "code",
   "execution_count": 7,
   "metadata": {},
   "outputs": [
    {
     "name": "stdout",
     "output_type": "stream",
     "text": [
      "Best result of the cross validation of the model with the best paramters:0.5623152709359605\n"
     ]
    }
   ],
   "source": [
    "print(\"Best result of the cross validation of the model with the best paramters:\" +str(clf.best_score_))"
   ]
  },
  {
   "cell_type": "markdown",
   "metadata": {},
   "source": [
    "### 5. Prediction"
   ]
  },
  {
   "cell_type": "code",
   "execution_count": 8,
   "metadata": {},
   "outputs": [],
   "source": [
    "# Making predictions with the optimal model on the training dataset\n",
    "yTrain=yTrain.to_numpy()\n",
    "yhatTrain = model.predict(XTrain)\n",
    "contTrain = 0\n",
    "\n",
    "# Comparing with the Target column and check how many hits there have been\n",
    "for i in range(0,len(yTrain),1) :\n",
    "    if (yhatTrain[i] == yTrain[i]):\n",
    "        contTrain = contTrain + 1"
   ]
  },
  {
   "cell_type": "code",
   "execution_count": 9,
   "metadata": {},
   "outputs": [],
   "source": [
    "# Making predictions with the optimal model on the test dataset\n",
    "yhatTest = model.predict(XTest)\n",
    "contTest = 0\n",
    "yTest=yTest.to_numpy()\n",
    "\n",
    "# Comparing with the Target column and check how many hits there have been\n",
    "for i in range(0,len(yTest),1) :\n",
    "    if (yhatTest[i] == yTest[i]):\n",
    "        contTest = contTest + 1\n"
   ]
  },
  {
   "cell_type": "markdown",
   "metadata": {},
   "source": [
    "### 6. Results"
   ]
  },
  {
   "cell_type": "code",
   "execution_count": 10,
   "metadata": {},
   "outputs": [
    {
     "name": "stdout",
     "output_type": "stream",
     "text": [
      "Final accuracy on the training dataset:0.8333333333333334\n",
      "Final accuracy on the testing dataset: 0.5405405405405406\n"
     ]
    }
   ],
   "source": [
    "print('Final accuracy on the training dataset:' + str(contTrain/len(yTrain)))\n",
    "print('Final accuracy on the testing dataset: ' + str(contTest/len(yTest)))"
   ]
  },
  {
   "cell_type": "code",
   "execution_count": 11,
   "metadata": {},
   "outputs": [
    {
     "name": "stdout",
     "output_type": "stream",
     "text": [
      "----------------Confusion Matrix (Training)------------------\n",
      "[[55 13]\n",
      " [11 65]]\n",
      "Input data:  [1 0 1 0 1 1 0 0 1 0 1 0 1 0 1 1 0 1 1 1 0 0 0 1 0 0 0 0 0 1 1 1 1 1 0 1 1\n",
      " 0 0 1 1 1 1 1 0 0 1 1 1 0 0 0 1 0 0 1 0 1 1 1 0 1 1 0 0 0 0 1 1 1 0 1 0 0\n",
      " 0 1 0 1 0 0 0 1 1 0 0 1 1 1 1 1 0 1 0 1 0 0 1 0 1 0 0 1 0 0 1 1 1 1 0 1 1\n",
      " 1 1 0 1 0 0 0 1 0 1 0 1 0 0 1 1 1 0 0 0 1 0 1 0 0 0 1 1 1 1 1 0 1]\n",
      "Prediction:        [1 0 1 0 1 1 0 1 1 0 1 0 1 0 1 0 0 1 1 1 0 0 0 1 1 0 1 0 0 1 1 0 0 1 0 1 1\n",
      " 0 0 1 1 1 1 1 0 0 1 1 1 0 0 1 1 0 0 1 0 0 1 1 0 1 1 0 0 0 0 1 1 1 1 1 0 0\n",
      " 0 1 1 0 1 0 0 1 1 0 1 0 0 1 1 1 1 1 0 1 0 0 1 0 0 1 0 1 1 0 1 1 1 1 0 1 1\n",
      " 1 0 0 1 0 0 0 1 0 1 0 1 1 0 1 0 1 0 0 1 0 0 1 0 0 0 1 1 1 1 1 0 1]\n"
     ]
    }
   ],
   "source": [
    "from sklearn.metrics import classification_report,confusion_matrix\n",
    "\n",
    "print('----------------Confusion Matrix (Training)------------------')\n",
    "print(confusion_matrix(yTrain,yhatTrain))\n",
    "print('Input data:  ' + str(np.array(yTrain)))\n",
    "print('Prediction:        ' +str(yhatTrain))"
   ]
  },
  {
   "cell_type": "code",
   "execution_count": 12,
   "metadata": {},
   "outputs": [
    {
     "name": "stdout",
     "output_type": "stream",
     "text": [
      "              precision    recall  f1-score   support\n",
      "\n",
      "           0       0.83      0.81      0.82        68\n",
      "           1       0.83      0.86      0.84        76\n",
      "\n",
      "    accuracy                           0.83       144\n",
      "   macro avg       0.83      0.83      0.83       144\n",
      "weighted avg       0.83      0.83      0.83       144\n",
      "\n"
     ]
    }
   ],
   "source": [
    "print(classification_report(yTrain,yhatTrain))"
   ]
  },
  {
   "cell_type": "code",
   "execution_count": 13,
   "metadata": {},
   "outputs": [
    {
     "name": "stdout",
     "output_type": "stream",
     "text": [
      "----------------Confusion Matrix (Test)------------------\n",
      "[[ 6 11]\n",
      " [ 6 14]]\n",
      "Input data:  [0 1 0 1 0 1 1 0 1 0 1 1 1 1 1 0 1 1 0 0 0 1 1 0 0 1 0 1 1 0 0 0 1 1 0 1 0]\n",
      "Prediction:        [1 0 0 1 1 1 1 1 1 1 0 0 1 0 1 0 1 0 1 1 0 1 1 0 0 1 1 0 1 0 1 1 1 1 1 1 1]\n"
     ]
    }
   ],
   "source": [
    "print('----------------Confusion Matrix (Test)------------------')\n",
    "print(confusion_matrix(yTest,yhatTest))\n",
    "print('Input data:  ' + str(np.array(yTest)))\n",
    "print('Prediction:        ' +str(yhatTest))"
   ]
  },
  {
   "cell_type": "code",
   "execution_count": 14,
   "metadata": {},
   "outputs": [
    {
     "name": "stdout",
     "output_type": "stream",
     "text": [
      "              precision    recall  f1-score   support\n",
      "\n",
      "           0       0.50      0.35      0.41        17\n",
      "           1       0.56      0.70      0.62        20\n",
      "\n",
      "    accuracy                           0.54        37\n",
      "   macro avg       0.53      0.53      0.52        37\n",
      "weighted avg       0.53      0.54      0.53        37\n",
      "\n"
     ]
    }
   ],
   "source": [
    "print(classification_report(yTest,yhatTest))"
   ]
  }
 ],
 "metadata": {
  "kernelspec": {
   "display_name": "Python 3.9.13 64-bit (microsoft store)",
   "language": "python",
   "name": "python3"
  },
  "language_info": {
   "codemirror_mode": {
    "name": "ipython",
    "version": 3
   },
   "file_extension": ".py",
   "mimetype": "text/x-python",
   "name": "python",
   "nbconvert_exporter": "python",
   "pygments_lexer": "ipython3",
   "version": "3.9.13"
  },
  "orig_nbformat": 4,
  "vscode": {
   "interpreter": {
    "hash": "fb15f1e0f376981e7b6e1fc44ae8b8146823f10f258bcd6e448b0230b889fc06"
   }
  }
 },
 "nbformat": 4,
 "nbformat_minor": 2
}
