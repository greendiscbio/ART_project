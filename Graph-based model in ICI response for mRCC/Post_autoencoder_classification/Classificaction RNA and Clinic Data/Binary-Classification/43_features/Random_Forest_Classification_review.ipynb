{
 "cells": [
  {
   "cell_type": "markdown",
   "metadata": {},
   "source": [
    "# Classification model using Random Forest"
   ]
  },
  {
   "cell_type": "markdown",
   "metadata": {},
   "source": [
    "### 1. Import libraries"
   ]
  },
  {
   "cell_type": "code",
   "execution_count": 1,
   "metadata": {},
   "outputs": [],
   "source": [
    "import pandas as pd\n",
    "import numpy as np\n",
    "import matplotlib.pyplot as plt\n",
    "from sklearn.model_selection import train_test_split\n",
    "from sklearn.ensemble import RandomForestClassifier\n",
    "from sklearn.model_selection import GridSearchCV"
   ]
  },
  {
   "cell_type": "markdown",
   "metadata": {},
   "source": [
    "### 2. Upload Clinic data"
   ]
  },
  {
   "cell_type": "code",
   "execution_count": 2,
   "metadata": {},
   "outputs": [
    {
     "data": {
      "text/html": [
       "<div>\n",
       "<style scoped>\n",
       "    .dataframe tbody tr th:only-of-type {\n",
       "        vertical-align: middle;\n",
       "    }\n",
       "\n",
       "    .dataframe tbody tr th {\n",
       "        vertical-align: top;\n",
       "    }\n",
       "\n",
       "    .dataframe thead th {\n",
       "        text-align: right;\n",
       "    }\n",
       "</style>\n",
       "<table border=\"1\" class=\"dataframe\">\n",
       "  <thead>\n",
       "    <tr style=\"text-align: right;\">\n",
       "      <th></th>\n",
       "      <th>Target</th>\n",
       "      <th>0</th>\n",
       "      <th>1</th>\n",
       "      <th>2</th>\n",
       "      <th>3</th>\n",
       "      <th>4</th>\n",
       "      <th>5</th>\n",
       "      <th>6</th>\n",
       "      <th>7</th>\n",
       "      <th>8</th>\n",
       "      <th>...</th>\n",
       "      <th>33</th>\n",
       "      <th>34</th>\n",
       "      <th>35</th>\n",
       "      <th>36</th>\n",
       "      <th>37</th>\n",
       "      <th>38</th>\n",
       "      <th>39</th>\n",
       "      <th>40</th>\n",
       "      <th>41</th>\n",
       "      <th>42</th>\n",
       "    </tr>\n",
       "  </thead>\n",
       "  <tbody>\n",
       "    <tr>\n",
       "      <th>0</th>\n",
       "      <td>1</td>\n",
       "      <td>0.647155</td>\n",
       "      <td>-1.555300</td>\n",
       "      <td>-1.955019</td>\n",
       "      <td>-1.012432</td>\n",
       "      <td>-0.192863</td>\n",
       "      <td>1.471186</td>\n",
       "      <td>-1.012940</td>\n",
       "      <td>-1.984604</td>\n",
       "      <td>0.483530</td>\n",
       "      <td>...</td>\n",
       "      <td>-1.808111</td>\n",
       "      <td>-1.598462</td>\n",
       "      <td>0.785350</td>\n",
       "      <td>-1.041805</td>\n",
       "      <td>0.073726</td>\n",
       "      <td>-1.072343</td>\n",
       "      <td>-1.425669</td>\n",
       "      <td>-0.106774</td>\n",
       "      <td>-0.296542</td>\n",
       "      <td>-0.036078</td>\n",
       "    </tr>\n",
       "    <tr>\n",
       "      <th>1</th>\n",
       "      <td>1</td>\n",
       "      <td>0.672890</td>\n",
       "      <td>-0.482602</td>\n",
       "      <td>-0.401719</td>\n",
       "      <td>0.846203</td>\n",
       "      <td>0.161961</td>\n",
       "      <td>0.735780</td>\n",
       "      <td>-0.034285</td>\n",
       "      <td>0.301053</td>\n",
       "      <td>-0.310323</td>\n",
       "      <td>...</td>\n",
       "      <td>1.209088</td>\n",
       "      <td>-2.688085</td>\n",
       "      <td>0.798333</td>\n",
       "      <td>-0.441933</td>\n",
       "      <td>0.187126</td>\n",
       "      <td>0.098620</td>\n",
       "      <td>-1.725648</td>\n",
       "      <td>-0.172299</td>\n",
       "      <td>-0.479444</td>\n",
       "      <td>-0.884305</td>\n",
       "    </tr>\n",
       "    <tr>\n",
       "      <th>2</th>\n",
       "      <td>1</td>\n",
       "      <td>0.608535</td>\n",
       "      <td>0.113706</td>\n",
       "      <td>-1.292885</td>\n",
       "      <td>-0.338812</td>\n",
       "      <td>0.604200</td>\n",
       "      <td>1.032395</td>\n",
       "      <td>-0.566884</td>\n",
       "      <td>0.355974</td>\n",
       "      <td>0.887711</td>\n",
       "      <td>...</td>\n",
       "      <td>-0.648330</td>\n",
       "      <td>-3.009207</td>\n",
       "      <td>-0.047663</td>\n",
       "      <td>-1.440206</td>\n",
       "      <td>-1.344167</td>\n",
       "      <td>-1.294903</td>\n",
       "      <td>-0.910447</td>\n",
       "      <td>-0.821677</td>\n",
       "      <td>0.037457</td>\n",
       "      <td>-0.185145</td>\n",
       "    </tr>\n",
       "    <tr>\n",
       "      <th>3</th>\n",
       "      <td>0</td>\n",
       "      <td>0.454426</td>\n",
       "      <td>0.271049</td>\n",
       "      <td>-0.657329</td>\n",
       "      <td>-0.034799</td>\n",
       "      <td>0.437557</td>\n",
       "      <td>1.619529</td>\n",
       "      <td>-1.024691</td>\n",
       "      <td>0.075223</td>\n",
       "      <td>0.338540</td>\n",
       "      <td>...</td>\n",
       "      <td>0.611314</td>\n",
       "      <td>-3.861432</td>\n",
       "      <td>0.563050</td>\n",
       "      <td>-0.030812</td>\n",
       "      <td>-0.180186</td>\n",
       "      <td>-0.938214</td>\n",
       "      <td>-1.575309</td>\n",
       "      <td>-0.762886</td>\n",
       "      <td>-0.587954</td>\n",
       "      <td>-1.328248</td>\n",
       "    </tr>\n",
       "    <tr>\n",
       "      <th>4</th>\n",
       "      <td>1</td>\n",
       "      <td>0.466307</td>\n",
       "      <td>-1.383654</td>\n",
       "      <td>-1.946057</td>\n",
       "      <td>-1.142501</td>\n",
       "      <td>0.094552</td>\n",
       "      <td>-0.237099</td>\n",
       "      <td>-2.588735</td>\n",
       "      <td>0.177351</td>\n",
       "      <td>-0.109542</td>\n",
       "      <td>...</td>\n",
       "      <td>0.375221</td>\n",
       "      <td>-2.748083</td>\n",
       "      <td>-0.598856</td>\n",
       "      <td>-1.258993</td>\n",
       "      <td>1.250683</td>\n",
       "      <td>-1.328983</td>\n",
       "      <td>-1.023203</td>\n",
       "      <td>0.135820</td>\n",
       "      <td>-0.323808</td>\n",
       "      <td>-1.980627</td>\n",
       "    </tr>\n",
       "  </tbody>\n",
       "</table>\n",
       "<p>5 rows × 44 columns</p>\n",
       "</div>"
      ],
      "text/plain": [
       "   Target         0         1         2         3         4         5  \\\n",
       "0       1  0.647155 -1.555300 -1.955019 -1.012432 -0.192863  1.471186   \n",
       "1       1  0.672890 -0.482602 -0.401719  0.846203  0.161961  0.735780   \n",
       "2       1  0.608535  0.113706 -1.292885 -0.338812  0.604200  1.032395   \n",
       "3       0  0.454426  0.271049 -0.657329 -0.034799  0.437557  1.619529   \n",
       "4       1  0.466307 -1.383654 -1.946057 -1.142501  0.094552 -0.237099   \n",
       "\n",
       "          6         7         8  ...        33        34        35        36  \\\n",
       "0 -1.012940 -1.984604  0.483530  ... -1.808111 -1.598462  0.785350 -1.041805   \n",
       "1 -0.034285  0.301053 -0.310323  ...  1.209088 -2.688085  0.798333 -0.441933   \n",
       "2 -0.566884  0.355974  0.887711  ... -0.648330 -3.009207 -0.047663 -1.440206   \n",
       "3 -1.024691  0.075223  0.338540  ...  0.611314 -3.861432  0.563050 -0.030812   \n",
       "4 -2.588735  0.177351 -0.109542  ...  0.375221 -2.748083 -0.598856 -1.258993   \n",
       "\n",
       "         37        38        39        40        41        42  \n",
       "0  0.073726 -1.072343 -1.425669 -0.106774 -0.296542 -0.036078  \n",
       "1  0.187126  0.098620 -1.725648 -0.172299 -0.479444 -0.884305  \n",
       "2 -1.344167 -1.294903 -0.910447 -0.821677  0.037457 -0.185145  \n",
       "3 -0.180186 -0.938214 -1.575309 -0.762886 -0.587954 -1.328248  \n",
       "4  1.250683 -1.328983 -1.023203  0.135820 -0.323808 -1.980627  \n",
       "\n",
       "[5 rows x 44 columns]"
      ]
     },
     "execution_count": 2,
     "metadata": {},
     "output_type": "execute_result"
    }
   ],
   "source": [
    "path =\"../../../../Data_preprocessing/RNA_post_autoencoder/encoded_data_binary_43_review.csv\"\n",
    "data = pd.read_csv(path)\n",
    "data.reset_index\n",
    "data.round(4)\n",
    "data=data.iloc[:,1:440  ] \n",
    "data.head()"
   ]
  },
  {
   "cell_type": "code",
   "execution_count": 3,
   "metadata": {},
   "outputs": [
    {
     "name": "stdout",
     "output_type": "stream",
     "text": [
      "            0         1         2         3         4         5         6  \\\n",
      "0    0.647155 -1.555300 -1.955019 -1.012432 -0.192863  1.471186 -1.012940   \n",
      "1    0.672890 -0.482602 -0.401719  0.846203  0.161961  0.735780 -0.034285   \n",
      "2    0.608535  0.113706 -1.292885 -0.338812  0.604200  1.032395 -0.566884   \n",
      "3    0.454426  0.271049 -0.657329 -0.034799  0.437557  1.619529 -1.024691   \n",
      "4    0.466307 -1.383654 -1.946057 -1.142501  0.094552 -0.237099 -2.588735   \n",
      "..        ...       ...       ...       ...       ...       ...       ...   \n",
      "176  0.310011 -0.179850 -1.012541 -0.571637  0.374212  1.562726 -0.988234   \n",
      "177  0.621432  0.132928 -0.598305  0.810830  0.580382  0.185088 -0.805137   \n",
      "178  0.250650 -0.275175 -0.762910 -0.778135  0.533026  1.283683 -0.809245   \n",
      "179  0.249858 -0.317195 -0.227729 -0.806603  0.276945  0.922711 -0.215652   \n",
      "180  0.169740  0.046074 -0.751110 -0.105990  0.496824  0.437686 -0.682648   \n",
      "\n",
      "            7         8         9  ...        33        34        35  \\\n",
      "0   -1.984604  0.483530  0.423232  ... -1.808111 -1.598462  0.785350   \n",
      "1    0.301053 -0.310323 -0.608239  ...  1.209088 -2.688085  0.798333   \n",
      "2    0.355974  0.887711  1.480011  ... -0.648330 -3.009207 -0.047663   \n",
      "3    0.075223  0.338540 -0.462083  ...  0.611314 -3.861432  0.563050   \n",
      "4    0.177351 -0.109542 -0.347868  ...  0.375221 -2.748083 -0.598856   \n",
      "..        ...       ...       ...  ...       ...       ...       ...   \n",
      "176 -0.346113  0.187074 -0.260880  ...  0.423812 -2.635322  0.278615   \n",
      "177  0.498990  0.829434 -0.096752  ...  0.313349 -2.385552  0.463387   \n",
      "178 -0.034085 -0.016234 -0.122824  ... -0.048697 -2.277356  0.475737   \n",
      "179 -0.366452  0.224354 -0.613390  ...  1.186872 -2.239558  0.376687   \n",
      "180  0.357634  0.526695  0.368955  ...  0.000084 -2.371083  0.119612   \n",
      "\n",
      "           36        37        38        39        40        41        42  \n",
      "0   -1.041805  0.073726 -1.072343 -1.425669 -0.106774 -0.296542 -0.036078  \n",
      "1   -0.441933  0.187126  0.098620 -1.725648 -0.172299 -0.479444 -0.884305  \n",
      "2   -1.440206 -1.344167 -1.294903 -0.910447 -0.821677  0.037457 -0.185145  \n",
      "3   -0.030812 -0.180186 -0.938214 -1.575309 -0.762886 -0.587954 -1.328248  \n",
      "4   -1.258993  1.250683 -1.328983 -1.023203  0.135820 -0.323808 -1.980627  \n",
      "..        ...       ...       ...       ...       ...       ...       ...  \n",
      "176 -0.509765  0.459427 -1.050612 -1.173894 -0.613568 -0.620111 -1.180016  \n",
      "177 -0.741808 -0.625355 -0.863951 -0.772344 -0.781062  0.031099 -0.549176  \n",
      "178 -0.347800 -0.240173 -1.291321 -0.427077 -0.753311  0.013713 -0.907039  \n",
      "179 -0.834910  0.562235 -0.611674 -1.226870 -0.168649 -1.167457 -1.302636  \n",
      "180 -0.807126 -0.157768 -1.149440 -0.645128 -0.891431  0.196374 -0.644412  \n",
      "\n",
      "[181 rows x 43 columns]\n",
      "Numero de pacientes:  181\n"
     ]
    }
   ],
   "source": [
    "Y = data.Target # Target column\n",
    "\n",
    "X = data.iloc[:,1:439] # I selected all the columns by removing the Unnamed column (row id) and the Target column.\n",
    "\n",
    "print(X)\n",
    "print('Numero de pacientes: ',len(Y))"
   ]
  },
  {
   "cell_type": "markdown",
   "metadata": {},
   "source": [
    "### 3. Train-Test dataset split"
   ]
  },
  {
   "cell_type": "code",
   "execution_count": 4,
   "metadata": {},
   "outputs": [
    {
     "name": "stdout",
     "output_type": "stream",
     "text": [
      "Training set size: 144\n",
      "Target column size of the training set: 144\n",
      "Test set size: 37\n",
      "Target column size of the test set: 37\n"
     ]
    }
   ],
   "source": [
    "XTrain, XTest, yTrain, yTest = train_test_split(X, Y, test_size=0.20, random_state=125, stratify=Y)\n",
    "\n",
    "print('Training set size:', len(XTrain))\n",
    "print('Target column size of the training set:', len(yTrain))\n",
    "print('Test set size:', len(XTest))\n",
    "print('Target column size of the test set:', len(yTest))"
   ]
  },
  {
   "cell_type": "markdown",
   "metadata": {},
   "source": [
    "### 4. Select the parameters of the model and fit it"
   ]
  },
  {
   "cell_type": "code",
   "execution_count": 5,
   "metadata": {},
   "outputs": [
    {
     "data": {
      "text/plain": [
       "GridSearchCV(cv=5, estimator=RandomForestClassifier(),\n",
       "             param_grid={'bootstrap': [True, False],\n",
       "                         'criterion': ['gini', 'entropy'],\n",
       "                         'max_depth': [None, 2, 5, 10, 50],\n",
       "                         'min_samples_leaf': [1, 2, 3],\n",
       "                         'min_samples_split': [2, 3, 4, 5],\n",
       "                         'n_estimators': [10, 20], 'random_state': [125]})"
      ]
     },
     "execution_count": 5,
     "metadata": {},
     "output_type": "execute_result"
    }
   ],
   "source": [
    "param_grid = {'min_samples_leaf': [1, 2, 3],\n",
    "              'min_samples_split': [2, 3, 4, 5],\n",
    "              'random_state':[125],\n",
    "              'n_estimators': [10, 20],\n",
    "              'bootstrap': [True, False],\n",
    "              'criterion': ['gini', 'entropy'],\n",
    "              'max_depth':[None, 2, 5, 10,50]\n",
    "              }\n",
    "\n",
    "# I created a GridSearchCV which allows us to systematically evaluate and select the parameters of our model.\n",
    "# By indicating a model and the parameters to test, you can evaluate the performance of the first one based on the\n",
    "# seconds through cross validation.\n",
    "clf = GridSearchCV(\n",
    "        estimator  = RandomForestClassifier(),\n",
    "        param_grid = param_grid,\n",
    "        cv=5\n",
    "       )\n",
    "\n",
    "clf.fit(XTrain , yTrain)"
   ]
  },
  {
   "cell_type": "code",
   "execution_count": 6,
   "metadata": {},
   "outputs": [
    {
     "name": "stdout",
     "output_type": "stream",
     "text": [
      "Mejor estimación de parámetros según GridSearchCV:\n",
      "RandomForestClassifier(min_samples_split=4, n_estimators=20, random_state=125)\n"
     ]
    }
   ],
   "source": [
    "print(\"Mejor estimación de parámetros según GridSearchCV:\")\n",
    "print(clf.best_estimator_)\n",
    "model = clf.best_estimator_"
   ]
  },
  {
   "cell_type": "code",
   "execution_count": 7,
   "metadata": {},
   "outputs": [
    {
     "name": "stdout",
     "output_type": "stream",
     "text": [
      "Best result of the cross validation of the model with the best paramters:0.5982758620689655\n"
     ]
    }
   ],
   "source": [
    "print(\"Best result of the cross validation of the model with the best paramters:\" +str(clf.best_score_))\n"
   ]
  },
  {
   "cell_type": "markdown",
   "metadata": {},
   "source": [
    "### 5. Prediction"
   ]
  },
  {
   "cell_type": "code",
   "execution_count": 8,
   "metadata": {},
   "outputs": [],
   "source": [
    "# Making predictions with the optimal model on the training dataset\n",
    "yhatTrain = model.predict(XTrain)\n",
    "contTrain = 0\n",
    "yTrain=yTrain.to_numpy()\n",
    "\n",
    "# Comparing with the Target column and check how many hits there have been\n",
    "for i in range(0,len(yTrain),1) :\n",
    "    if (yhatTrain[i] == yTrain[i]):\n",
    "        contTrain = contTrain + 1"
   ]
  },
  {
   "cell_type": "code",
   "execution_count": 9,
   "metadata": {},
   "outputs": [],
   "source": [
    "# Making predictions with the optimal model on the test dataset\n",
    "yhatTest = model.predict(XTest)\n",
    "contTest = 0\n",
    "yTest=yTest.to_numpy()\n",
    "\n",
    "# Comparing with the Target column and check how many hits there have been\n",
    "for i in range(0,len(yTest),1) :\n",
    "    if (yhatTest[i] == yTest[i]):\n",
    "        contTest = contTest + 1\n"
   ]
  },
  {
   "cell_type": "markdown",
   "metadata": {},
   "source": [
    "### 6. Results"
   ]
  },
  {
   "cell_type": "code",
   "execution_count": 10,
   "metadata": {},
   "outputs": [
    {
     "name": "stdout",
     "output_type": "stream",
     "text": [
      "Final accuracy on the training dataset:1.0\n",
      "Final accuracy on the testing dataset: 0.5405405405405406\n"
     ]
    }
   ],
   "source": [
    "print('Final accuracy on the training dataset:' + str(contTrain/len(yTrain)))\n",
    "print('Final accuracy on the testing dataset: ' + str(contTest/len(yTest)))"
   ]
  },
  {
   "cell_type": "code",
   "execution_count": 11,
   "metadata": {},
   "outputs": [
    {
     "name": "stdout",
     "output_type": "stream",
     "text": [
      "----------------Confusion Matrix (Training)------------------\n",
      "[[68  0]\n",
      " [ 0 76]]\n",
      "Input data:  [1 0 1 0 1 1 0 0 1 0 1 0 1 0 1 1 0 1 1 1 0 0 0 1 0 0 0 0 0 1 1 1 1 1 0 1 1\n",
      " 0 0 1 1 1 1 1 0 0 1 1 1 0 0 0 1 0 0 1 0 1 1 1 0 1 1 0 0 0 0 1 1 1 0 1 0 0\n",
      " 0 1 0 1 0 0 0 1 1 0 0 1 1 1 1 1 0 1 0 1 0 0 1 0 1 0 0 1 0 0 1 1 1 1 0 1 1\n",
      " 1 1 0 1 0 0 0 1 0 1 0 1 0 0 1 1 1 0 0 0 1 0 1 0 0 0 1 1 1 1 1 0 1]\n",
      "Prediction:        [1 0 1 0 1 1 0 0 1 0 1 0 1 0 1 1 0 1 1 1 0 0 0 1 0 0 0 0 0 1 1 1 1 1 0 1 1\n",
      " 0 0 1 1 1 1 1 0 0 1 1 1 0 0 0 1 0 0 1 0 1 1 1 0 1 1 0 0 0 0 1 1 1 0 1 0 0\n",
      " 0 1 0 1 0 0 0 1 1 0 0 1 1 1 1 1 0 1 0 1 0 0 1 0 1 0 0 1 0 0 1 1 1 1 0 1 1\n",
      " 1 1 0 1 0 0 0 1 0 1 0 1 0 0 1 1 1 0 0 0 1 0 1 0 0 0 1 1 1 1 1 0 1]\n"
     ]
    }
   ],
   "source": [
    "from sklearn.metrics import classification_report,confusion_matrix\n",
    "\n",
    "print('----------------Confusion Matrix (Training)------------------')\n",
    "print(confusion_matrix(yTrain,yhatTrain))\n",
    "print('Input data:  ' + str(np.array(yTrain)))\n",
    "print('Prediction:        ' +str(yhatTrain))"
   ]
  },
  {
   "cell_type": "code",
   "execution_count": 12,
   "metadata": {},
   "outputs": [
    {
     "name": "stdout",
     "output_type": "stream",
     "text": [
      "              precision    recall  f1-score   support\n",
      "\n",
      "           0       1.00      1.00      1.00        68\n",
      "           1       1.00      1.00      1.00        76\n",
      "\n",
      "    accuracy                           1.00       144\n",
      "   macro avg       1.00      1.00      1.00       144\n",
      "weighted avg       1.00      1.00      1.00       144\n",
      "\n"
     ]
    }
   ],
   "source": [
    "print(classification_report(yTrain,yhatTrain))"
   ]
  },
  {
   "cell_type": "code",
   "execution_count": 13,
   "metadata": {},
   "outputs": [
    {
     "name": "stdout",
     "output_type": "stream",
     "text": [
      "----------------Confusion Matrix (Test)------------------\n",
      "[[ 6 11]\n",
      " [ 6 14]]\n",
      "Input data:  [0 1 0 1 0 1 1 0 1 0 1 1 1 1 1 0 1 1 0 0 0 1 1 0 0 1 0 1 1 0 0 0 1 1 0 1 0]\n",
      "Prediction:        [1 1 1 1 0 1 1 1 1 1 1 1 1 1 0 0 1 0 0 1 0 1 0 1 1 1 0 1 0 0 1 1 1 0 1 0 1]\n"
     ]
    }
   ],
   "source": [
    "print('----------------Confusion Matrix (Test)------------------')\n",
    "print(confusion_matrix(yTest,yhatTest))\n",
    "print('Input data:  ' + str(np.array(yTest)))\n",
    "print('Prediction:        ' +str(yhatTest))"
   ]
  },
  {
   "cell_type": "code",
   "execution_count": 14,
   "metadata": {},
   "outputs": [
    {
     "name": "stdout",
     "output_type": "stream",
     "text": [
      "              precision    recall  f1-score   support\n",
      "\n",
      "           0       0.50      0.35      0.41        17\n",
      "           1       0.56      0.70      0.62        20\n",
      "\n",
      "    accuracy                           0.54        37\n",
      "   macro avg       0.53      0.53      0.52        37\n",
      "weighted avg       0.53      0.54      0.53        37\n",
      "\n"
     ]
    }
   ],
   "source": [
    "print(classification_report(yTest,yhatTest))"
   ]
  },
  {
   "cell_type": "code",
   "execution_count": 15,
   "metadata": {},
   "outputs": [
    {
     "name": "stdout",
     "output_type": "stream",
     "text": [
      "Features with relevance over 0:  43\n",
      "Features with relevance over 0.05:  0\n"
     ]
    },
    {
     "data": {
      "image/png": "[encoded data removed]",
      "text/plain": [
       "<Figure size 432x288 with 1 Axes>"
      ]
     },
     "metadata": {
      "needs_background": "light"
     },
     "output_type": "display_data"
    },
    {
     "name": "stdout",
     "output_type": "stream",
     "text": [
      "0 = 0.017976913567382662\n",
      "1 = 0.03256700072768797\n",
      "2 = 0.028924704959512708\n",
      "3 = 0.012508649464477332\n",
      "4 = 0.019900810950726686\n",
      "5 = 0.043978284743559845\n",
      "6 = 0.030170069131855697\n",
      "7 = 0.01082919454165473\n",
      "8 = 0.03392234623578648\n",
      "9 = 0.017968806179871868\n",
      "10 = 0.01705816365020296\n",
      "11 = 0.017664735114664515\n",
      "12 = 0.01977726097105239\n",
      "13 = 0.024207372104252382\n",
      "14 = 0.028433871000260652\n",
      "15 = 0.023827687706598346\n",
      "16 = 0.03658006394616723\n",
      "17 = 0.011872563319148762\n",
      "18 = 0.023012721587938774\n",
      "19 = 0.01921417174326754\n",
      "20 = 0.04261678074871483\n",
      "21 = 0.03379725352503095\n",
      "22 = 0.027856693209541615\n",
      "23 = 0.04965420881390011\n",
      "24 = 0.00993313549608278\n",
      "25 = 0.00913131443449328\n",
      "26 = 0.03239908008213811\n",
      "27 = 0.022511157572741653\n",
      "28 = 0.010238645555412412\n",
      "29 = 0.017154337108811566\n",
      "30 = 0.03618525990629497\n",
      "31 = 0.013896481293921814\n",
      "32 = 0.014288851729094432\n",
      "33 = 0.025796565130354283\n",
      "34 = 0.025720739011440386\n",
      "35 = 0.010527816608808737\n",
      "36 = 0.022079609307194693\n",
      "37 = 0.01274839672290102\n",
      "38 = 0.01888623806692177\n",
      "39 = 0.025295942639422902\n",
      "40 = 0.016082813998320383\n",
      "41 = 0.028133254278558496\n",
      "42 = 0.02467003311382928\n"
     ]
    }
   ],
   "source": [
    "# Through the created model we can see which attributes are the most significant to make a decision.\n",
    "# The most relevant attributes will be the ones placed at the top of the tree.\n",
    "features = list(X)\n",
    "importances = model.feature_importances_\n",
    "\n",
    "elems_over_0 = np.fromiter((element for element in importances if element > 0), dtype = importances.dtype)\n",
    "print('Features with relevance over 0: ', len(elems_over_0))\n",
    "\n",
    "newArray = np.fromiter((element for element in importances if element > 0.05), dtype = importances.dtype)\n",
    "importances=newArray\n",
    "indices = np.argsort(importances)\n",
    "print('Features with relevance over 0.05: ', len(newArray))\n",
    "\n",
    "plt.title('Relevancia de los atributos')\n",
    "plt.barh(range(len(indices)), importances[indices], color='b', align='center')\n",
    "plt.yticks(range(len(indices)), [features[i] for i in indices])\n",
    "plt.xlabel('Importancia relativa')\n",
    "plt.show()\n",
    "\n",
    "for name, importance in zip(X, model.feature_importances_):\n",
    "    print(name, \"=\", importance)\n",
    "\n",
    "# Attributes whose relevance is 0, will not be necessary to make the prediction of the target."
   ]
  }
 ],
 "metadata": {
  "kernelspec": {
   "display_name": "Python 3.9.13 64-bit (microsoft store)",
   "language": "python",
   "name": "python3"
  },
  "language_info": {
   "codemirror_mode": {
    "name": "ipython",
    "version": 3
   },
   "file_extension": ".py",
   "mimetype": "text/x-python",
   "name": "python",
   "nbconvert_exporter": "python",
   "pygments_lexer": "ipython3",
   "version": "3.9.13"
  },
  "orig_nbformat": 4,
  "vscode": {
   "interpreter": {
    "hash": "fb15f1e0f376981e7b6e1fc44ae8b8146823f10f258bcd6e448b0230b889fc06"
   }
  }
 },
 "nbformat": 4,
 "nbformat_minor": 2
}
