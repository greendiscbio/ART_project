{
 "cells": [
  {
   "cell_type": "markdown",
   "metadata": {},
   "source": [
    "# Classification model using Decision Tree"
   ]
  },
  {
   "cell_type": "markdown",
   "metadata": {},
   "source": [
    "### 1. Import libraries"
   ]
  },
  {
   "cell_type": "code",
   "execution_count": 23,
   "metadata": {},
   "outputs": [],
   "source": [
    "import pandas as pd\n",
    "import numpy as np\n",
    "import matplotlib.pyplot as plt\n",
    "from sklearn.linear_model import LogisticRegression\n",
    "from sklearn.model_selection import train_test_split\n",
    "from sklearn import model_selection\n",
    "from sklearn.metrics import classification_report\n",
    "from sklearn.metrics import confusion_matrix\n",
    "from sklearn.model_selection import GridSearchCV"
   ]
  },
  {
   "cell_type": "markdown",
   "metadata": {},
   "source": [
    "### 2. Upload Clinic data"
   ]
  },
  {
   "cell_type": "code",
   "execution_count": 24,
   "metadata": {},
   "outputs": [
    {
     "data": {
      "text/html": [
       "<div>\n",
       "<style scoped>\n",
       "    .dataframe tbody tr th:only-of-type {\n",
       "        vertical-align: middle;\n",
       "    }\n",
       "\n",
       "    .dataframe tbody tr th {\n",
       "        vertical-align: top;\n",
       "    }\n",
       "\n",
       "    .dataframe thead th {\n",
       "        text-align: right;\n",
       "    }\n",
       "</style>\n",
       "<table border=\"1\" class=\"dataframe\">\n",
       "  <thead>\n",
       "    <tr style=\"text-align: right;\">\n",
       "      <th></th>\n",
       "      <th>Target</th>\n",
       "      <th>0</th>\n",
       "      <th>1</th>\n",
       "      <th>2</th>\n",
       "      <th>3</th>\n",
       "      <th>4</th>\n",
       "      <th>5</th>\n",
       "      <th>6</th>\n",
       "      <th>7</th>\n",
       "      <th>8</th>\n",
       "      <th>...</th>\n",
       "      <th>190</th>\n",
       "      <th>191</th>\n",
       "      <th>192</th>\n",
       "      <th>193</th>\n",
       "      <th>194</th>\n",
       "      <th>195</th>\n",
       "      <th>196</th>\n",
       "      <th>197</th>\n",
       "      <th>198</th>\n",
       "      <th>199</th>\n",
       "    </tr>\n",
       "  </thead>\n",
       "  <tbody>\n",
       "    <tr>\n",
       "      <th>0</th>\n",
       "      <td>2</td>\n",
       "      <td>0.436414</td>\n",
       "      <td>-1.576482</td>\n",
       "      <td>2.176638</td>\n",
       "      <td>1.046650</td>\n",
       "      <td>-0.967788</td>\n",
       "      <td>-0.332760</td>\n",
       "      <td>-0.586029</td>\n",
       "      <td>1.430570</td>\n",
       "      <td>-0.895583</td>\n",
       "      <td>...</td>\n",
       "      <td>-0.928760</td>\n",
       "      <td>0.075799</td>\n",
       "      <td>-0.263159</td>\n",
       "      <td>-0.655430</td>\n",
       "      <td>1.285033</td>\n",
       "      <td>1.158913</td>\n",
       "      <td>-0.501004</td>\n",
       "      <td>-1.361494</td>\n",
       "      <td>0.612884</td>\n",
       "      <td>0.746754</td>\n",
       "    </tr>\n",
       "    <tr>\n",
       "      <th>1</th>\n",
       "      <td>1</td>\n",
       "      <td>-0.032149</td>\n",
       "      <td>-0.995621</td>\n",
       "      <td>1.888060</td>\n",
       "      <td>1.284731</td>\n",
       "      <td>0.079140</td>\n",
       "      <td>0.064063</td>\n",
       "      <td>-0.199813</td>\n",
       "      <td>1.521006</td>\n",
       "      <td>0.564534</td>\n",
       "      <td>...</td>\n",
       "      <td>0.483468</td>\n",
       "      <td>-0.893442</td>\n",
       "      <td>0.575146</td>\n",
       "      <td>-0.778792</td>\n",
       "      <td>0.324170</td>\n",
       "      <td>0.177823</td>\n",
       "      <td>-1.233956</td>\n",
       "      <td>-1.483099</td>\n",
       "      <td>-0.341608</td>\n",
       "      <td>-0.996777</td>\n",
       "    </tr>\n",
       "    <tr>\n",
       "      <th>2</th>\n",
       "      <td>2</td>\n",
       "      <td>0.476933</td>\n",
       "      <td>-2.010775</td>\n",
       "      <td>1.879018</td>\n",
       "      <td>0.383090</td>\n",
       "      <td>0.207985</td>\n",
       "      <td>-0.992632</td>\n",
       "      <td>0.020097</td>\n",
       "      <td>0.387833</td>\n",
       "      <td>-1.122965</td>\n",
       "      <td>...</td>\n",
       "      <td>0.017044</td>\n",
       "      <td>0.602836</td>\n",
       "      <td>-1.916266</td>\n",
       "      <td>1.144584</td>\n",
       "      <td>1.069570</td>\n",
       "      <td>0.535930</td>\n",
       "      <td>-0.897938</td>\n",
       "      <td>-1.371405</td>\n",
       "      <td>-0.231251</td>\n",
       "      <td>-0.274360</td>\n",
       "    </tr>\n",
       "    <tr>\n",
       "      <th>3</th>\n",
       "      <td>0</td>\n",
       "      <td>0.547395</td>\n",
       "      <td>-0.711453</td>\n",
       "      <td>1.527116</td>\n",
       "      <td>1.052659</td>\n",
       "      <td>0.077064</td>\n",
       "      <td>0.006284</td>\n",
       "      <td>-0.112697</td>\n",
       "      <td>1.186751</td>\n",
       "      <td>0.211799</td>\n",
       "      <td>...</td>\n",
       "      <td>0.633414</td>\n",
       "      <td>-0.524010</td>\n",
       "      <td>0.202187</td>\n",
       "      <td>-0.838269</td>\n",
       "      <td>-0.029785</td>\n",
       "      <td>0.492356</td>\n",
       "      <td>-1.486459</td>\n",
       "      <td>-1.970962</td>\n",
       "      <td>0.530672</td>\n",
       "      <td>-0.985897</td>\n",
       "    </tr>\n",
       "    <tr>\n",
       "      <th>4</th>\n",
       "      <td>1</td>\n",
       "      <td>-0.624718</td>\n",
       "      <td>-2.406139</td>\n",
       "      <td>2.824231</td>\n",
       "      <td>-0.012635</td>\n",
       "      <td>-1.314704</td>\n",
       "      <td>-0.748785</td>\n",
       "      <td>0.687588</td>\n",
       "      <td>2.262579</td>\n",
       "      <td>-0.263327</td>\n",
       "      <td>...</td>\n",
       "      <td>0.454670</td>\n",
       "      <td>-0.789785</td>\n",
       "      <td>-0.452545</td>\n",
       "      <td>1.738423</td>\n",
       "      <td>0.543774</td>\n",
       "      <td>0.753638</td>\n",
       "      <td>-1.839001</td>\n",
       "      <td>-0.347618</td>\n",
       "      <td>0.589409</td>\n",
       "      <td>-1.081583</td>\n",
       "    </tr>\n",
       "  </tbody>\n",
       "</table>\n",
       "<p>5 rows × 201 columns</p>\n",
       "</div>"
      ],
      "text/plain": [
       "   Target         0         1         2         3         4         5  \\\n",
       "0       2  0.436414 -1.576482  2.176638  1.046650 -0.967788 -0.332760   \n",
       "1       1 -0.032149 -0.995621  1.888060  1.284731  0.079140  0.064063   \n",
       "2       2  0.476933 -2.010775  1.879018  0.383090  0.207985 -0.992632   \n",
       "3       0  0.547395 -0.711453  1.527116  1.052659  0.077064  0.006284   \n",
       "4       1 -0.624718 -2.406139  2.824231 -0.012635 -1.314704 -0.748785   \n",
       "\n",
       "          6         7         8  ...       190       191       192       193  \\\n",
       "0 -0.586029  1.430570 -0.895583  ... -0.928760  0.075799 -0.263159 -0.655430   \n",
       "1 -0.199813  1.521006  0.564534  ...  0.483468 -0.893442  0.575146 -0.778792   \n",
       "2  0.020097  0.387833 -1.122965  ...  0.017044  0.602836 -1.916266  1.144584   \n",
       "3 -0.112697  1.186751  0.211799  ...  0.633414 -0.524010  0.202187 -0.838269   \n",
       "4  0.687588  2.262579 -0.263327  ...  0.454670 -0.789785 -0.452545  1.738423   \n",
       "\n",
       "        194       195       196       197       198       199  \n",
       "0  1.285033  1.158913 -0.501004 -1.361494  0.612884  0.746754  \n",
       "1  0.324170  0.177823 -1.233956 -1.483099 -0.341608 -0.996777  \n",
       "2  1.069570  0.535930 -0.897938 -1.371405 -0.231251 -0.274360  \n",
       "3 -0.029785  0.492356 -1.486459 -1.970962  0.530672 -0.985897  \n",
       "4  0.543774  0.753638 -1.839001 -0.347618  0.589409 -1.081583  \n",
       "\n",
       "[5 rows x 201 columns]"
      ]
     },
     "execution_count": 24,
     "metadata": {},
     "output_type": "execute_result"
    }
   ],
   "source": [
    "path =\"../../../../Data_preprocessing/RNA_post_autoencoder/encoded_data_multiclass_200.csv\"\n",
    "data = pd.read_csv(path)\n",
    "data.reset_index\n",
    "data.round(4)\n",
    "data=data.iloc[:,1:202  ] \n",
    "data.head()"
   ]
  },
  {
   "cell_type": "code",
   "execution_count": 25,
   "metadata": {},
   "outputs": [
    {
     "name": "stdout",
     "output_type": "stream",
     "text": [
      "            0         1         2         3         4         5         6  \\\n",
      "0    0.436414 -1.576482  2.176638  1.046650 -0.967788 -0.332760 -0.586029   \n",
      "1   -0.032149 -0.995621  1.888060  1.284731  0.079140  0.064063 -0.199813   \n",
      "2    0.476933 -2.010775  1.879018  0.383090  0.207985 -0.992632  0.020097   \n",
      "3    0.547395 -0.711453  1.527116  1.052659  0.077064  0.006284 -0.112697   \n",
      "4   -0.624718 -2.406139  2.824231 -0.012635 -1.314704 -0.748785  0.687588   \n",
      "..        ...       ...       ...       ...       ...       ...       ...   \n",
      "176  0.152039 -1.448956  1.631890  0.438465 -0.797802 -0.450635 -0.031156   \n",
      "177  1.139950 -1.364696  0.767903  0.954542  0.358079 -0.439770  0.195097   \n",
      "178  0.291298 -2.023891  1.954019  1.072944 -0.490579 -0.466329  0.094765   \n",
      "179  0.102469 -0.451807  1.057516  0.105644 -0.375693 -0.814802  0.114747   \n",
      "180  0.794935 -1.928761  0.771840  0.929302 -0.237190 -0.890115  0.127341   \n",
      "\n",
      "            7         8         9  ...       190       191       192  \\\n",
      "0    1.430570 -0.895583  0.120207  ... -0.928760  0.075799 -0.263159   \n",
      "1    1.521006  0.564534  0.341837  ...  0.483468 -0.893442  0.575146   \n",
      "2    0.387833 -1.122965 -0.934672  ...  0.017044  0.602836 -1.916266   \n",
      "3    1.186751  0.211799  0.120053  ...  0.633414 -0.524010  0.202187   \n",
      "4    2.262579 -0.263327 -0.274533  ...  0.454670 -0.789785 -0.452545   \n",
      "..        ...       ...       ...  ...       ...       ...       ...   \n",
      "176  1.295086  0.173004 -0.280646  ...  0.025642 -0.378163  0.188580   \n",
      "177  0.845653 -0.676772 -0.360587  ... -0.873685  0.750253 -1.205012   \n",
      "178  1.740030 -0.030524 -0.519105  ... -0.431681 -0.061290 -0.717787   \n",
      "179  1.347460  0.597547 -0.340238  ... -0.049844 -0.168013 -0.328857   \n",
      "180  0.555222 -0.624247 -1.248683  ... -0.630990  0.643830 -1.258881   \n",
      "\n",
      "          193       194       195       196       197       198       199  \n",
      "0   -0.655430  1.285033  1.158913 -0.501004 -1.361494  0.612884  0.746754  \n",
      "1   -0.778792  0.324170  0.177823 -1.233956 -1.483099 -0.341608 -0.996777  \n",
      "2    1.144584  1.069570  0.535930 -0.897938 -1.371405 -0.231251 -0.274360  \n",
      "3   -0.838269 -0.029785  0.492356 -1.486459 -1.970962  0.530672 -0.985897  \n",
      "4    1.738423  0.543774  0.753638 -1.839001 -0.347618  0.589409 -1.081583  \n",
      "..        ...       ...       ...       ...       ...       ...       ...  \n",
      "176  0.648309  0.326763  0.080889 -1.008813 -0.970503  0.077294 -0.849342  \n",
      "177  0.408689  0.540051  0.782452 -0.546565 -1.861703  1.187797  0.356491  \n",
      "178  0.271427  0.487723  0.717294 -1.402291 -1.743405  0.797255  0.456609  \n",
      "179 -0.253990  0.147674 -0.035349 -0.670596 -1.290784 -0.359039 -0.586562  \n",
      "180  0.903779  0.433831  0.301006 -0.699738 -1.910061  0.878316  0.637000  \n",
      "\n",
      "[181 rows x 200 columns]\n",
      "Numero de pacientes:  181\n"
     ]
    }
   ],
   "source": [
    "Y = data.Target # Target column\n",
    "\n",
    "X = data.iloc[:,1:202] # I selected all the columns by removing the Unnamed column (row id) and the Target column.\n",
    "\n",
    "\n",
    "print(X)\n",
    "print('Numero de pacientes: ',len(Y))"
   ]
  },
  {
   "cell_type": "code",
   "execution_count": 26,
   "metadata": {},
   "outputs": [
    {
     "name": "stdout",
     "output_type": "stream",
     "text": [
      "Training set size: 144\n",
      "Target column size of the training set: 144\n",
      "Test set size: 37\n",
      "Target column size of the test set: 37\n"
     ]
    }
   ],
   "source": [
    "X_train, X_test, y_train, y_test = train_test_split(X, Y, test_size=0.2, random_state=125, stratify=Y)\n",
    "yTrain=y_train.to_numpy()\n",
    "yTest=y_test.to_numpy()\n",
    "\n",
    "print('Training set size:', len(X_train))\n",
    "print('Target column size of the training set:', len(y_train))\n",
    "print('Test set size:', len(X_test))\n",
    "print('Target column size of the test set:', len(y_test))"
   ]
  },
  {
   "cell_type": "markdown",
   "metadata": {},
   "source": [
    "### 4. Select the parameters of the model and fit it"
   ]
  },
  {
   "cell_type": "code",
   "execution_count": 27,
   "metadata": {},
   "outputs": [
    {
     "data": {
      "text/plain": [
       "GridSearchCV(cv=5, estimator=LogisticRegression(),\n",
       "             param_grid={'C': [1, 2, 5, 7, 10],\n",
       "                         'max_iter': [100, 200, 300, 400, 500, 600, 700, 800,\n",
       "                                      900, 1000, 2000, 3000, 4000, 5000,\n",
       "                                      20000],\n",
       "                         'random_state': [125],\n",
       "                         'solver': ['newton-cg', 'liblinear']})"
      ]
     },
     "execution_count": 27,
     "metadata": {},
     "output_type": "execute_result"
    }
   ],
   "source": [
    "param_grid = {'C': [1,2,5,7,10],\n",
    "            'solver': ['newton-cg','liblinear'],  \n",
    "            'max_iter':[100,200,300,400,500,600,700,800,900,1000,2000,3000, 4000,5000,20000],\n",
    "            'random_state':[125]}\n",
    "\n",
    "# Creamos un GridSearchCV que permite evaluar y seleccionar de forma sistemática los parámetros de nuestro modelo. \n",
    "# Indicándole un modelo y los parámetros a probar, puede evaluar el rendimiento del primero en función de los \n",
    "# segundos mediante validación cruzada.  \n",
    "clf = GridSearchCV(LogisticRegression(), param_grid, cv = 5)\n",
    "clf.fit(X_train , y_train)"
   ]
  },
  {
   "cell_type": "code",
   "execution_count": 28,
   "metadata": {},
   "outputs": [
    {
     "name": "stdout",
     "output_type": "stream",
     "text": [
      "Best estimate of parameters according to GridSearchCV:\n"
     ]
    },
    {
     "data": {
      "text/plain": [
       "LogisticRegression(C=1, random_state=125, solver='newton-cg')"
      ]
     },
     "execution_count": 28,
     "metadata": {},
     "output_type": "execute_result"
    }
   ],
   "source": [
    "print(\"Best estimate of parameters according to GridSearchCV:\")\n",
    "model = clf.best_estimator_\n",
    "# Fit the model with the best parameters\n",
    "model.fit(X_train , y_train)"
   ]
  },
  {
   "cell_type": "code",
   "execution_count": 29,
   "metadata": {},
   "outputs": [
    {
     "name": "stdout",
     "output_type": "stream",
     "text": [
      "Best result of the cross validation of the model with the best paramters:0.45197044334975367\n"
     ]
    }
   ],
   "source": [
    "print(\"Best result of the cross validation of the model with the best paramters:\" +str(clf.best_score_))"
   ]
  },
  {
   "cell_type": "code",
   "execution_count": 30,
   "metadata": {},
   "outputs": [],
   "source": [
    "# Making predictions with the optimal model on the training dataset\n",
    "yhatTrain = model.predict(X_train)\n",
    "contTrain = 0\n",
    "y_train=y_train.to_numpy()\n",
    "# Comparing with the Target column and check how many hits there have been\n",
    "for i in range(0,len(y_train),1) :\n",
    "    if (yhatTrain[i] == y_train[i]):\n",
    "        contTrain = contTrain + 1"
   ]
  },
  {
   "cell_type": "code",
   "execution_count": 31,
   "metadata": {},
   "outputs": [],
   "source": [
    "# Making predictions with the optimal model on the test dataset\n",
    "yhatTest = model.predict(X_test)\n",
    "contTest = 0\n",
    "y_test=y_test.to_numpy()\n",
    "# Comparing with the Target column and check how many hits there have been\n",
    "for i in range(0,len(y_test),1) :\n",
    "    if (yhatTest[i] == y_test[i]):\n",
    "        contTest = contTest + 1"
   ]
  },
  {
   "cell_type": "code",
   "execution_count": 32,
   "metadata": {},
   "outputs": [
    {
     "name": "stdout",
     "output_type": "stream",
     "text": [
      "Final accuracy on the training dataset:0.9791666666666666\n",
      "Final accuracy on the testing dataset: 0.43243243243243246\n"
     ]
    }
   ],
   "source": [
    "print('Final accuracy on the training dataset:' + str(contTrain/len(y_train)))\n",
    "print('Final accuracy on the testing dataset: ' + str(contTest/len(y_test)))"
   ]
  },
  {
   "cell_type": "code",
   "execution_count": 33,
   "metadata": {},
   "outputs": [
    {
     "name": "stdout",
     "output_type": "stream",
     "text": [
      "----------------Confusion Matrix (Training)------------------\n",
      "[[67  0  0]\n",
      " [ 1 24  0]\n",
      " [ 2  0 50]]\n",
      "Input data:  [1 0 2 0 2 2 0 0 2 0 2 0 1 0 2 2 0 2 2 2 0 0 0 2 0 0 0 0 1 1 2 2 2 2 0 1 2\n",
      " 0 0 2 1 2 2 1 0 0 2 2 1 0 0 0 2 0 0 2 0 2 1 2 0 2 1 0 0 0 0 2 2 2 0 2 0 0\n",
      " 0 2 0 2 0 0 0 1 2 0 0 1 2 2 1 1 0 2 0 2 0 0 1 0 1 0 0 2 0 0 2 2 2 1 0 2 2\n",
      " 1 2 0 1 0 0 0 2 0 1 0 2 0 0 2 1 1 0 0 0 2 0 1 0 0 0 2 2 2 1 2 0 1]\n",
      "Prediction:        [1 0 2 0 0 2 0 0 2 0 2 0 1 0 2 2 0 2 0 2 0 0 0 2 0 0 0 0 1 1 2 2 2 2 0 1 2\n",
      " 0 0 2 0 2 2 1 0 0 2 2 1 0 0 0 2 0 0 2 0 2 1 2 0 2 1 0 0 0 0 2 2 2 0 2 0 0\n",
      " 0 2 0 2 0 0 0 1 2 0 0 1 2 2 1 1 0 2 0 2 0 0 1 0 1 0 0 2 0 0 2 2 2 1 0 2 2\n",
      " 1 2 0 1 0 0 0 2 0 1 0 2 0 0 2 1 1 0 0 0 2 0 1 0 0 0 2 2 2 1 2 0 1]\n"
     ]
    }
   ],
   "source": [
    "from sklearn.metrics import classification_report,confusion_matrix\n",
    "\n",
    "print('----------------Confusion Matrix (Training)------------------')\n",
    "print(confusion_matrix(y_train,yhatTrain))\n",
    "print('Input data:  ' + str(np.array(y_train)))\n",
    "print('Prediction:        ' +str(yhatTrain))"
   ]
  },
  {
   "cell_type": "code",
   "execution_count": 34,
   "metadata": {},
   "outputs": [
    {
     "name": "stdout",
     "output_type": "stream",
     "text": [
      "              precision    recall  f1-score   support\n",
      "\n",
      "           0       0.96      1.00      0.98        67\n",
      "           1       1.00      0.96      0.98        25\n",
      "           2       1.00      0.96      0.98        52\n",
      "\n",
      "    accuracy                           0.98       144\n",
      "   macro avg       0.99      0.97      0.98       144\n",
      "weighted avg       0.98      0.98      0.98       144\n",
      "\n"
     ]
    }
   ],
   "source": [
    "print(classification_report(y_train,yhatTrain))"
   ]
  },
  {
   "cell_type": "code",
   "execution_count": 35,
   "metadata": {},
   "outputs": [
    {
     "name": "stdout",
     "output_type": "stream",
     "text": [
      "----------------Confusion Matrix (Test)------------------\n",
      "[[11  1  6]\n",
      " [ 3  1  2]\n",
      " [ 6  3  4]]\n",
      "Input data:  [0 1 0 2 0 2 1 0 1 0 2 2 1 2 2 0 1 2 0 0 0 2 1 0 0 2 0 2 2 0 0 0 2 2 0 0 0]\n",
      "Prediction:        [0 0 0 0 2 2 2 0 1 0 2 2 0 2 0 0 0 0 0 2 1 0 2 2 0 1 0 1 1 2 0 0 0 0 2 2 0]\n"
     ]
    }
   ],
   "source": [
    "print('----------------Confusion Matrix (Test)------------------')\n",
    "print(confusion_matrix(y_test,yhatTest))\n",
    "print('Input data:  ' + str(np.array(y_test)))\n",
    "print('Prediction:        ' +str(yhatTest))"
   ]
  },
  {
   "cell_type": "code",
   "execution_count": 36,
   "metadata": {},
   "outputs": [
    {
     "name": "stdout",
     "output_type": "stream",
     "text": [
      "              precision    recall  f1-score   support\n",
      "\n",
      "           0       0.55      0.61      0.58        18\n",
      "           1       0.20      0.17      0.18         6\n",
      "           2       0.33      0.31      0.32        13\n",
      "\n",
      "    accuracy                           0.43        37\n",
      "   macro avg       0.36      0.36      0.36        37\n",
      "weighted avg       0.42      0.43      0.42        37\n",
      "\n"
     ]
    }
   ],
   "source": [
    "print(classification_report(y_test, yhatTest))"
   ]
  }
 ],
 "metadata": {
  "kernelspec": {
   "display_name": "Python 3.9.13 64-bit (microsoft store)",
   "language": "python",
   "name": "python3"
  },
  "language_info": {
   "codemirror_mode": {
    "name": "ipython",
    "version": 3
   },
   "file_extension": ".py",
   "mimetype": "text/x-python",
   "name": "python",
   "nbconvert_exporter": "python",
   "pygments_lexer": "ipython3",
   "version": "3.9.13"
  },
  "orig_nbformat": 4,
  "vscode": {
   "interpreter": {
    "hash": "fb15f1e0f376981e7b6e1fc44ae8b8146823f10f258bcd6e448b0230b889fc06"
   }
  }
 },
 "nbformat": 4,
 "nbformat_minor": 2
}
