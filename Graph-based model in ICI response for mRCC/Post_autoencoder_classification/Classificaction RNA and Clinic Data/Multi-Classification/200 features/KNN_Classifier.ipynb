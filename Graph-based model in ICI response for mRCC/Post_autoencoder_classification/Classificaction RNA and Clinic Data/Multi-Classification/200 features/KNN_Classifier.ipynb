{
 "cells": [
  {
   "cell_type": "markdown",
   "metadata": {},
   "source": [
    "# Classification model using KNN"
   ]
  },
  {
   "cell_type": "markdown",
   "metadata": {},
   "source": [
    "### 1. Import libraries"
   ]
  },
  {
   "cell_type": "code",
   "execution_count": 1,
   "metadata": {},
   "outputs": [],
   "source": [
    "import pandas as pd\n",
    "from sklearn import neighbors\n",
    "import matplotlib.pyplot as plt\n",
    "from sklearn.model_selection import train_test_split\n",
    "from sklearn import neighbors\n",
    "from sklearn.neighbors import KNeighborsClassifier\n",
    "from sklearn.metrics import accuracy_score\n",
    "import numpy as np\n",
    "from scipy.spatial import distance\n",
    "from sklearn import model_selection"
   ]
  },
  {
   "cell_type": "markdown",
   "metadata": {},
   "source": [
    "### 2. Upload Clinic data"
   ]
  },
  {
   "cell_type": "code",
   "execution_count": 2,
   "metadata": {},
   "outputs": [
    {
     "data": {
      "text/html": [
       "<div>\n",
       "<style scoped>\n",
       "    .dataframe tbody tr th:only-of-type {\n",
       "        vertical-align: middle;\n",
       "    }\n",
       "\n",
       "    .dataframe tbody tr th {\n",
       "        vertical-align: top;\n",
       "    }\n",
       "\n",
       "    .dataframe thead th {\n",
       "        text-align: right;\n",
       "    }\n",
       "</style>\n",
       "<table border=\"1\" class=\"dataframe\">\n",
       "  <thead>\n",
       "    <tr style=\"text-align: right;\">\n",
       "      <th></th>\n",
       "      <th>Target</th>\n",
       "      <th>0</th>\n",
       "      <th>1</th>\n",
       "      <th>2</th>\n",
       "      <th>3</th>\n",
       "      <th>4</th>\n",
       "      <th>5</th>\n",
       "      <th>6</th>\n",
       "      <th>7</th>\n",
       "      <th>8</th>\n",
       "      <th>...</th>\n",
       "      <th>190</th>\n",
       "      <th>191</th>\n",
       "      <th>192</th>\n",
       "      <th>193</th>\n",
       "      <th>194</th>\n",
       "      <th>195</th>\n",
       "      <th>196</th>\n",
       "      <th>197</th>\n",
       "      <th>198</th>\n",
       "      <th>199</th>\n",
       "    </tr>\n",
       "  </thead>\n",
       "  <tbody>\n",
       "    <tr>\n",
       "      <th>0</th>\n",
       "      <td>2</td>\n",
       "      <td>0.436414</td>\n",
       "      <td>-1.576482</td>\n",
       "      <td>2.176638</td>\n",
       "      <td>1.046650</td>\n",
       "      <td>-0.967788</td>\n",
       "      <td>-0.332760</td>\n",
       "      <td>-0.586029</td>\n",
       "      <td>1.430570</td>\n",
       "      <td>-0.895583</td>\n",
       "      <td>...</td>\n",
       "      <td>-0.928760</td>\n",
       "      <td>0.075799</td>\n",
       "      <td>-0.263159</td>\n",
       "      <td>-0.655430</td>\n",
       "      <td>1.285033</td>\n",
       "      <td>1.158913</td>\n",
       "      <td>-0.501004</td>\n",
       "      <td>-1.361494</td>\n",
       "      <td>0.612884</td>\n",
       "      <td>0.746754</td>\n",
       "    </tr>\n",
       "    <tr>\n",
       "      <th>1</th>\n",
       "      <td>1</td>\n",
       "      <td>-0.032149</td>\n",
       "      <td>-0.995621</td>\n",
       "      <td>1.888060</td>\n",
       "      <td>1.284731</td>\n",
       "      <td>0.079140</td>\n",
       "      <td>0.064063</td>\n",
       "      <td>-0.199813</td>\n",
       "      <td>1.521006</td>\n",
       "      <td>0.564534</td>\n",
       "      <td>...</td>\n",
       "      <td>0.483468</td>\n",
       "      <td>-0.893442</td>\n",
       "      <td>0.575146</td>\n",
       "      <td>-0.778792</td>\n",
       "      <td>0.324170</td>\n",
       "      <td>0.177823</td>\n",
       "      <td>-1.233956</td>\n",
       "      <td>-1.483099</td>\n",
       "      <td>-0.341608</td>\n",
       "      <td>-0.996777</td>\n",
       "    </tr>\n",
       "    <tr>\n",
       "      <th>2</th>\n",
       "      <td>2</td>\n",
       "      <td>0.476933</td>\n",
       "      <td>-2.010775</td>\n",
       "      <td>1.879018</td>\n",
       "      <td>0.383090</td>\n",
       "      <td>0.207985</td>\n",
       "      <td>-0.992632</td>\n",
       "      <td>0.020097</td>\n",
       "      <td>0.387833</td>\n",
       "      <td>-1.122965</td>\n",
       "      <td>...</td>\n",
       "      <td>0.017044</td>\n",
       "      <td>0.602836</td>\n",
       "      <td>-1.916266</td>\n",
       "      <td>1.144584</td>\n",
       "      <td>1.069570</td>\n",
       "      <td>0.535930</td>\n",
       "      <td>-0.897938</td>\n",
       "      <td>-1.371405</td>\n",
       "      <td>-0.231251</td>\n",
       "      <td>-0.274360</td>\n",
       "    </tr>\n",
       "    <tr>\n",
       "      <th>3</th>\n",
       "      <td>0</td>\n",
       "      <td>0.547395</td>\n",
       "      <td>-0.711453</td>\n",
       "      <td>1.527116</td>\n",
       "      <td>1.052659</td>\n",
       "      <td>0.077064</td>\n",
       "      <td>0.006284</td>\n",
       "      <td>-0.112697</td>\n",
       "      <td>1.186751</td>\n",
       "      <td>0.211799</td>\n",
       "      <td>...</td>\n",
       "      <td>0.633414</td>\n",
       "      <td>-0.524010</td>\n",
       "      <td>0.202187</td>\n",
       "      <td>-0.838269</td>\n",
       "      <td>-0.029785</td>\n",
       "      <td>0.492356</td>\n",
       "      <td>-1.486459</td>\n",
       "      <td>-1.970962</td>\n",
       "      <td>0.530672</td>\n",
       "      <td>-0.985897</td>\n",
       "    </tr>\n",
       "    <tr>\n",
       "      <th>4</th>\n",
       "      <td>1</td>\n",
       "      <td>-0.624718</td>\n",
       "      <td>-2.406139</td>\n",
       "      <td>2.824231</td>\n",
       "      <td>-0.012635</td>\n",
       "      <td>-1.314704</td>\n",
       "      <td>-0.748785</td>\n",
       "      <td>0.687588</td>\n",
       "      <td>2.262579</td>\n",
       "      <td>-0.263327</td>\n",
       "      <td>...</td>\n",
       "      <td>0.454670</td>\n",
       "      <td>-0.789785</td>\n",
       "      <td>-0.452545</td>\n",
       "      <td>1.738423</td>\n",
       "      <td>0.543774</td>\n",
       "      <td>0.753638</td>\n",
       "      <td>-1.839001</td>\n",
       "      <td>-0.347618</td>\n",
       "      <td>0.589409</td>\n",
       "      <td>-1.081583</td>\n",
       "    </tr>\n",
       "  </tbody>\n",
       "</table>\n",
       "<p>5 rows × 201 columns</p>\n",
       "</div>"
      ],
      "text/plain": [
       "   Target         0         1         2         3         4         5  \\\n",
       "0       2  0.436414 -1.576482  2.176638  1.046650 -0.967788 -0.332760   \n",
       "1       1 -0.032149 -0.995621  1.888060  1.284731  0.079140  0.064063   \n",
       "2       2  0.476933 -2.010775  1.879018  0.383090  0.207985 -0.992632   \n",
       "3       0  0.547395 -0.711453  1.527116  1.052659  0.077064  0.006284   \n",
       "4       1 -0.624718 -2.406139  2.824231 -0.012635 -1.314704 -0.748785   \n",
       "\n",
       "          6         7         8  ...       190       191       192       193  \\\n",
       "0 -0.586029  1.430570 -0.895583  ... -0.928760  0.075799 -0.263159 -0.655430   \n",
       "1 -0.199813  1.521006  0.564534  ...  0.483468 -0.893442  0.575146 -0.778792   \n",
       "2  0.020097  0.387833 -1.122965  ...  0.017044  0.602836 -1.916266  1.144584   \n",
       "3 -0.112697  1.186751  0.211799  ...  0.633414 -0.524010  0.202187 -0.838269   \n",
       "4  0.687588  2.262579 -0.263327  ...  0.454670 -0.789785 -0.452545  1.738423   \n",
       "\n",
       "        194       195       196       197       198       199  \n",
       "0  1.285033  1.158913 -0.501004 -1.361494  0.612884  0.746754  \n",
       "1  0.324170  0.177823 -1.233956 -1.483099 -0.341608 -0.996777  \n",
       "2  1.069570  0.535930 -0.897938 -1.371405 -0.231251 -0.274360  \n",
       "3 -0.029785  0.492356 -1.486459 -1.970962  0.530672 -0.985897  \n",
       "4  0.543774  0.753638 -1.839001 -0.347618  0.589409 -1.081583  \n",
       "\n",
       "[5 rows x 201 columns]"
      ]
     },
     "execution_count": 2,
     "metadata": {},
     "output_type": "execute_result"
    }
   ],
   "source": [
    "path =\"../../../../Data_preprocessing/RNA_post_autoencoder/encoded_data_multiclass_200.csv\"\n",
    "data = pd.read_csv(path)\n",
    "data.reset_index\n",
    "data.round(4)\n",
    "data=data.iloc[:,1:202  ] \n",
    "data.head()"
   ]
  },
  {
   "cell_type": "code",
   "execution_count": 3,
   "metadata": {},
   "outputs": [
    {
     "name": "stdout",
     "output_type": "stream",
     "text": [
      "            0         1         2         3         4         5         6  \\\n",
      "0    0.436414 -1.576482  2.176638  1.046650 -0.967788 -0.332760 -0.586029   \n",
      "1   -0.032149 -0.995621  1.888060  1.284731  0.079140  0.064063 -0.199813   \n",
      "2    0.476933 -2.010775  1.879018  0.383090  0.207985 -0.992632  0.020097   \n",
      "3    0.547395 -0.711453  1.527116  1.052659  0.077064  0.006284 -0.112697   \n",
      "4   -0.624718 -2.406139  2.824231 -0.012635 -1.314704 -0.748785  0.687588   \n",
      "..        ...       ...       ...       ...       ...       ...       ...   \n",
      "176  0.152039 -1.448956  1.631890  0.438465 -0.797802 -0.450635 -0.031156   \n",
      "177  1.139950 -1.364696  0.767903  0.954542  0.358079 -0.439770  0.195097   \n",
      "178  0.291298 -2.023891  1.954019  1.072944 -0.490579 -0.466329  0.094765   \n",
      "179  0.102469 -0.451807  1.057516  0.105644 -0.375693 -0.814802  0.114747   \n",
      "180  0.794935 -1.928761  0.771840  0.929302 -0.237190 -0.890115  0.127341   \n",
      "\n",
      "            7         8         9  ...       190       191       192  \\\n",
      "0    1.430570 -0.895583  0.120207  ... -0.928760  0.075799 -0.263159   \n",
      "1    1.521006  0.564534  0.341837  ...  0.483468 -0.893442  0.575146   \n",
      "2    0.387833 -1.122965 -0.934672  ...  0.017044  0.602836 -1.916266   \n",
      "3    1.186751  0.211799  0.120053  ...  0.633414 -0.524010  0.202187   \n",
      "4    2.262579 -0.263327 -0.274533  ...  0.454670 -0.789785 -0.452545   \n",
      "..        ...       ...       ...  ...       ...       ...       ...   \n",
      "176  1.295086  0.173004 -0.280646  ...  0.025642 -0.378163  0.188580   \n",
      "177  0.845653 -0.676772 -0.360587  ... -0.873685  0.750253 -1.205012   \n",
      "178  1.740030 -0.030524 -0.519105  ... -0.431681 -0.061290 -0.717787   \n",
      "179  1.347460  0.597547 -0.340238  ... -0.049844 -0.168013 -0.328857   \n",
      "180  0.555222 -0.624247 -1.248683  ... -0.630990  0.643830 -1.258881   \n",
      "\n",
      "          193       194       195       196       197       198       199  \n",
      "0   -0.655430  1.285033  1.158913 -0.501004 -1.361494  0.612884  0.746754  \n",
      "1   -0.778792  0.324170  0.177823 -1.233956 -1.483099 -0.341608 -0.996777  \n",
      "2    1.144584  1.069570  0.535930 -0.897938 -1.371405 -0.231251 -0.274360  \n",
      "3   -0.838269 -0.029785  0.492356 -1.486459 -1.970962  0.530672 -0.985897  \n",
      "4    1.738423  0.543774  0.753638 -1.839001 -0.347618  0.589409 -1.081583  \n",
      "..        ...       ...       ...       ...       ...       ...       ...  \n",
      "176  0.648309  0.326763  0.080889 -1.008813 -0.970503  0.077294 -0.849342  \n",
      "177  0.408689  0.540051  0.782452 -0.546565 -1.861703  1.187797  0.356491  \n",
      "178  0.271427  0.487723  0.717294 -1.402291 -1.743405  0.797255  0.456609  \n",
      "179 -0.253990  0.147674 -0.035349 -0.670596 -1.290784 -0.359039 -0.586562  \n",
      "180  0.903779  0.433831  0.301006 -0.699738 -1.910061  0.878316  0.637000  \n",
      "\n",
      "[181 rows x 200 columns]\n",
      "Numero de pacientes:  181\n"
     ]
    }
   ],
   "source": [
    "Y = data.Target # Target column\n",
    "\n",
    "X = data.iloc[:,1:202] # I selected all the columns by removing the Unnamed column (row id) and the Target column.\n",
    "\n",
    "\n",
    "print(X)\n",
    "print('Numero de pacientes: ',len(Y))"
   ]
  },
  {
   "cell_type": "markdown",
   "metadata": {},
   "source": [
    "### 3. Train-Test dataset split"
   ]
  },
  {
   "cell_type": "code",
   "execution_count": 4,
   "metadata": {},
   "outputs": [
    {
     "name": "stdout",
     "output_type": "stream",
     "text": [
      "Training set size: 144\n",
      "Target column size of the training set: 144\n",
      "Test set size: 37\n",
      "Target column size of the test set: 37\n"
     ]
    }
   ],
   "source": [
    "XTrain, XTest, yTrain, yTest = train_test_split(X, Y, test_size=0.20, random_state=125,stratify=Y)\n",
    "yTrain=yTrain.to_numpy()\n",
    "yTest=yTest.to_numpy()\n",
    "print('Training set size:', len(XTrain))\n",
    "print('Target column size of the training set:', len(yTrain))\n",
    "print('Test set size:', len(XTest))\n",
    "print('Target column size of the test set:', len(yTest))"
   ]
  },
  {
   "cell_type": "markdown",
   "metadata": {},
   "source": [
    "### 4. Study the best value for K"
   ]
  },
  {
   "cell_type": "code",
   "execution_count": 5,
   "metadata": {},
   "outputs": [
    {
     "name": "stdout",
     "output_type": "stream",
     "text": [
      "Best accuracy is obtained with k = 5 and is: 0.4054\n"
     ]
    }
   ],
   "source": [
    "neighbors = list(range(1,8))\n",
    "cek = []\n",
    "list_accuracy = []\n",
    "best_acuracy = 0\n",
    "best_k = 0\n",
    "for k in neighbors:\n",
    "    knn = KNeighborsClassifier(n_neighbors=k)\n",
    "    pred = knn.fit(XTrain, yTrain).predict(XTest)\n",
    "    if accuracy_score(yTest, pred) >= best_acuracy:\n",
    "        best_k = k\n",
    "        best_acuracy=accuracy_score(yTest, pred)\n",
    "    list_accuracy.append(accuracy_score(yTest, pred))\n",
    "\n",
    "print(\"Best accuracy is obtained with k = \" + str(best_k)+ \" and is: %.4f\" % (best_acuracy))\n"
   ]
  },
  {
   "cell_type": "code",
   "execution_count": 6,
   "metadata": {},
   "outputs": [
    {
     "name": "stderr",
     "output_type": "stream",
     "text": [
      "C:\\Users\\sandr\\AppData\\Local\\Temp/ipykernel_1992/3738168230.py:1: UserWarning: color is redundantly defined by the 'color' keyword argument and the fmt string \"ro\" (-> color='r'). The keyword argument will take precedence.\n",
      "  plt.plot(np.append(np.roll(list_accuracy,1),list_accuracy[6]),'ro', color='r', linestyle='dashed',linewidth=1.0, label=\"Graph2\")\n",
      "C:\\Users\\sandr\\AppData\\Local\\Temp/ipykernel_1992/3738168230.py:3: UserWarning: color is redundantly defined by the 'color' keyword argument and the fmt string \"ro\" (-> color='r'). The keyword argument will take precedence.\n",
      "  plt.plot(best_k, best_acuracy, 'ro', color ='g')\n"
     ]
    },
    {
     "data": {
      "image/png": "[encoded data removed]",
      "text/plain": [
       "<Figure size 432x288 with 1 Axes>"
      ]
     },
     "metadata": {
      "needs_background": "light"
     },
     "output_type": "display_data"
    }
   ],
   "source": [
    "plt.plot(np.append(np.roll(list_accuracy,1),list_accuracy[6]),'ro', color='r', linestyle='dashed',linewidth=1.0, label=\"Graph2\")\n",
    "# Green dot represent best K value\n",
    "plt.plot(best_k, best_acuracy, 'ro', color ='g')\n",
    "plt.axis([1, 7, 0.5, 1])\n",
    "plt.xlabel('K')\n",
    "plt.ylabel('Accuracy')\n",
    "\n",
    "plt.grid()\n",
    "plt.show()"
   ]
  },
  {
   "cell_type": "markdown",
   "metadata": {},
   "source": [
    "### 5. Best metric study (manhattan or euclidean)"
   ]
  },
  {
   "cell_type": "code",
   "execution_count": 7,
   "metadata": {},
   "outputs": [
    {
     "data": {
      "text/plain": [
       "KNeighborsClassifier(metric=<function cityblock at 0x000001C86531C280>)"
      ]
     },
     "execution_count": 7,
     "metadata": {},
     "output_type": "execute_result"
    }
   ],
   "source": [
    "from sklearn import neighbors\n",
    "# Euclidean distance model\n",
    "euclid_model = KNeighborsClassifier(n_neighbors=best_k, metric=distance.sqeuclidean)\n",
    "euclid_model.fit(XTrain,yTrain) \n",
    "\n",
    "# Manhattan distance model\n",
    "manhattan_model = KNeighborsClassifier(n_neighbors=best_k, metric=distance.cityblock) \n",
    "manhattan_model.fit(XTrain, yTrain)"
   ]
  },
  {
   "cell_type": "code",
   "execution_count": 8,
   "metadata": {},
   "outputs": [
    {
     "data": {
      "text/html": [
       "<div>\n",
       "<style scoped>\n",
       "    .dataframe tbody tr th:only-of-type {\n",
       "        vertical-align: middle;\n",
       "    }\n",
       "\n",
       "    .dataframe tbody tr th {\n",
       "        vertical-align: top;\n",
       "    }\n",
       "\n",
       "    .dataframe thead th {\n",
       "        text-align: right;\n",
       "    }\n",
       "</style>\n",
       "<table border=\"1\" class=\"dataframe\">\n",
       "  <thead>\n",
       "    <tr style=\"text-align: right;\">\n",
       "      <th></th>\n",
       "      <th>actual</th>\n",
       "      <th>manhattan</th>\n",
       "      <th>euclid</th>\n",
       "    </tr>\n",
       "  </thead>\n",
       "  <tbody>\n",
       "    <tr>\n",
       "      <th>0</th>\n",
       "      <td>0</td>\n",
       "      <td>0</td>\n",
       "      <td>0</td>\n",
       "    </tr>\n",
       "    <tr>\n",
       "      <th>1</th>\n",
       "      <td>1</td>\n",
       "      <td>1</td>\n",
       "      <td>1</td>\n",
       "    </tr>\n",
       "    <tr>\n",
       "      <th>2</th>\n",
       "      <td>0</td>\n",
       "      <td>0</td>\n",
       "      <td>0</td>\n",
       "    </tr>\n",
       "    <tr>\n",
       "      <th>3</th>\n",
       "      <td>2</td>\n",
       "      <td>0</td>\n",
       "      <td>0</td>\n",
       "    </tr>\n",
       "    <tr>\n",
       "      <th>4</th>\n",
       "      <td>0</td>\n",
       "      <td>1</td>\n",
       "      <td>1</td>\n",
       "    </tr>\n",
       "  </tbody>\n",
       "</table>\n",
       "</div>"
      ],
      "text/plain": [
       "   actual  manhattan  euclid\n",
       "0       0          0       0\n",
       "1       1          1       1\n",
       "2       0          0       0\n",
       "3       2          0       0\n",
       "4       0          1       1"
      ]
     },
     "execution_count": 8,
     "metadata": {},
     "output_type": "execute_result"
    }
   ],
   "source": [
    "manhattan_predictions = manhattan_model.predict(XTest)\n",
    "euclid_predictions = euclid_model.predict(XTest) \n",
    "df = pd.DataFrame({'actual': yTest, 'manhattan': manhattan_predictions, 'euclid': euclid_predictions})\n",
    "df.head()"
   ]
  },
  {
   "cell_type": "code",
   "execution_count": 9,
   "metadata": {},
   "outputs": [
    {
     "name": "stdout",
     "output_type": "stream",
     "text": [
      "Best result of the cross validation of the model (euclidean) with the best paramters:0.47955665024630545\n",
      "Best result of the cross validation of the model (manhattan) with the best paramters:0.48645320197044334\n"
     ]
    }
   ],
   "source": [
    "result1= model_selection.cross_val_score(euclid_model, XTrain, yTrain, cv=5, scoring='accuracy')\n",
    "result2 = model_selection.cross_val_score(manhattan_model, XTrain, yTrain, cv=5, scoring='accuracy')\n",
    "print(\"Best result of the cross validation of the model (euclidean) with the best paramters:\" +str(np.mean(result1)))\n",
    "print(\"Best result of the cross validation of the model (manhattan) with the best paramters:\" +str(np.mean(result2)))"
   ]
  },
  {
   "cell_type": "markdown",
   "metadata": {},
   "source": [
    "#### 6.1. Manhattan model"
   ]
  },
  {
   "cell_type": "code",
   "execution_count": 10,
   "metadata": {},
   "outputs": [],
   "source": [
    "# Making predictions with the optimal model on the training dataset\n",
    "yhatTrain = manhattan_model.predict(XTrain)\n",
    "contTrain = 0\n",
    "\n",
    "# Comparing with the Target column and check how many hits there have been\n",
    "for i in range(0,len(yTrain),1) :\n",
    "    if (yhatTrain[i] == yTrain[i]):\n",
    "        contTrain = contTrain + 1"
   ]
  },
  {
   "cell_type": "code",
   "execution_count": 11,
   "metadata": {},
   "outputs": [],
   "source": [
    "# Making predictions with the optimal model on the test dataset\n",
    "mayhatTest = manhattan_model.predict(XTest)\n",
    "contTest = 0\n",
    "\n",
    "# Comparing with the Target column and check how many hits there have been\n",
    "for i in range(0,len(yTest),1) :\n",
    "    if (mayhatTest[i] == yTest[i]):\n",
    "        contTest = contTest + 1"
   ]
  },
  {
   "cell_type": "code",
   "execution_count": 12,
   "metadata": {},
   "outputs": [
    {
     "name": "stdout",
     "output_type": "stream",
     "text": [
      "Precisión final en el conjunto de datos de entrenamiento (manhattan): 0.6597222222222222\n",
      "Precisión final en el conjunto de datos de prueba (manhattan): 0.32432432432432434\n"
     ]
    }
   ],
   "source": [
    "print('Precisión final en el conjunto de datos de entrenamiento (manhattan): ' + str(contTrain/len(yTrain)))\n",
    "print('Precisión final en el conjunto de datos de prueba (manhattan): ' + str(contTest/len(yTest)))"
   ]
  },
  {
   "cell_type": "code",
   "execution_count": 13,
   "metadata": {},
   "outputs": [
    {
     "name": "stdout",
     "output_type": "stream",
     "text": [
      "----------------Confusion Matrix (Training)------------------\n",
      "[[55  5  7]\n",
      " [10  7  8]\n",
      " [17  2 33]]\n",
      "Input data:  [1 0 2 0 2 2 0 0 2 0 2 0 1 0 2 2 0 2 2 2 0 0 0 2 0 0 0 0 1 1 2 2 2 2 0 1 2\n",
      " 0 0 2 1 2 2 1 0 0 2 2 1 0 0 0 2 0 0 2 0 2 1 2 0 2 1 0 0 0 0 2 2 2 0 2 0 0\n",
      " 0 2 0 2 0 0 0 1 2 0 0 1 2 2 1 1 0 2 0 2 0 0 1 0 1 0 0 2 0 0 2 2 2 1 0 2 2\n",
      " 1 2 0 1 0 0 0 2 0 1 0 2 0 0 2 1 1 0 0 0 2 0 1 0 0 0 2 2 2 1 2 0 1]\n",
      "Prediction:        [0 0 2 0 0 2 0 0 0 0 2 0 1 0 0 2 0 1 0 0 1 0 0 2 2 0 0 0 0 0 2 2 2 0 0 0 2\n",
      " 2 0 0 0 2 2 1 2 2 0 0 1 0 0 0 2 0 0 2 0 2 0 2 1 0 2 0 2 0 0 2 2 2 0 0 0 0\n",
      " 0 0 0 0 0 0 0 2 2 0 0 1 0 0 1 0 0 2 0 2 1 2 2 0 2 0 2 2 0 1 2 2 2 2 1 2 2\n",
      " 2 2 0 1 0 0 0 0 0 0 0 2 0 0 2 0 2 0 0 0 2 0 1 0 0 0 1 2 2 0 0 0 2]\n"
     ]
    }
   ],
   "source": [
    "from sklearn.metrics import classification_report,confusion_matrix\n",
    "\n",
    "print('----------------Confusion Matrix (Training)------------------')\n",
    "print(confusion_matrix(yTrain,yhatTrain))\n",
    "print('Input data:  ' + str(np.array(yTrain)))\n",
    "print('Prediction:        ' +str(yhatTrain))"
   ]
  },
  {
   "cell_type": "code",
   "execution_count": 14,
   "metadata": {},
   "outputs": [
    {
     "name": "stdout",
     "output_type": "stream",
     "text": [
      "              precision    recall  f1-score   support\n",
      "\n",
      "           0       0.67      0.82      0.74        67\n",
      "           1       0.50      0.28      0.36        25\n",
      "           2       0.69      0.63      0.66        52\n",
      "\n",
      "    accuracy                           0.66       144\n",
      "   macro avg       0.62      0.58      0.59       144\n",
      "weighted avg       0.65      0.66      0.64       144\n",
      "\n"
     ]
    }
   ],
   "source": [
    "print(classification_report(yTrain,yhatTrain))"
   ]
  },
  {
   "cell_type": "code",
   "execution_count": 15,
   "metadata": {},
   "outputs": [
    {
     "name": "stdout",
     "output_type": "stream",
     "text": [
      "----------------Confusion Matrix (Test)------------------\n",
      "[[ 9  5  4]\n",
      " [ 1  1  4]\n",
      " [10  1  2]]\n",
      "Input data:  [0 1 0 2 0 2 1 0 1 0 2 2 1 2 2 0 1 2 0 0 0 2 1 0 0 2 0 2 2 0 0 0 2 2 0 0 0]\n",
      "Prediction:        [0 1 0 0 1 0 2 2 0 0 0 1 2 2 0 1 2 0 0 1 0 0 2 1 1 0 0 2 0 2 0 0 0 0 2 2 0]\n"
     ]
    }
   ],
   "source": [
    "from sklearn.metrics import confusion_matrix\n",
    "confusion_matrix = confusion_matrix(yTest, mayhatTest)\n",
    "print('----------------Confusion Matrix (Test)------------------')\n",
    "print(confusion_matrix)\n",
    "print('Input data:  ' + str(np.array(yTest)))\n",
    "print('Prediction:        ' +str(mayhatTest))"
   ]
  },
  {
   "cell_type": "code",
   "execution_count": 16,
   "metadata": {},
   "outputs": [
    {
     "name": "stdout",
     "output_type": "stream",
     "text": [
      "              precision    recall  f1-score   support\n",
      "\n",
      "           0       0.45      0.50      0.47        18\n",
      "           1       0.14      0.17      0.15         6\n",
      "           2       0.20      0.15      0.17        13\n",
      "\n",
      "    accuracy                           0.32        37\n",
      "   macro avg       0.26      0.27      0.27        37\n",
      "weighted avg       0.31      0.32      0.32        37\n",
      "\n"
     ]
    }
   ],
   "source": [
    "print(classification_report(yTest, mayhatTest))"
   ]
  }
 ],
 "metadata": {
  "kernelspec": {
   "display_name": "Python 3.9.13 64-bit (microsoft store)",
   "language": "python",
   "name": "python3"
  },
  "language_info": {
   "codemirror_mode": {
    "name": "ipython",
    "version": 3
   },
   "file_extension": ".py",
   "mimetype": "text/x-python",
   "name": "python",
   "nbconvert_exporter": "python",
   "pygments_lexer": "ipython3",
   "version": "3.9.13"
  },
  "orig_nbformat": 4,
  "vscode": {
   "interpreter": {
    "hash": "fb15f1e0f376981e7b6e1fc44ae8b8146823f10f258bcd6e448b0230b889fc06"
   }
  }
 },
 "nbformat": 4,
 "nbformat_minor": 2
}
