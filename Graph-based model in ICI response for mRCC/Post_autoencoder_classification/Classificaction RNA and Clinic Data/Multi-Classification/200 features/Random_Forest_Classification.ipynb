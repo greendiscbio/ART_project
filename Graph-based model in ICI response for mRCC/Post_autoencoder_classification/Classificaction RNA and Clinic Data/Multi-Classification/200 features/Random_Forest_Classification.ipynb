{
 "cells": [
  {
   "cell_type": "markdown",
   "metadata": {},
   "source": [
    "# Classification model using Random Forest"
   ]
  },
  {
   "cell_type": "markdown",
   "metadata": {},
   "source": [
    "### 1. Import libraries"
   ]
  },
  {
   "cell_type": "code",
   "execution_count": 1,
   "metadata": {},
   "outputs": [],
   "source": [
    "import pandas as pd\n",
    "import numpy as np\n",
    "import matplotlib.pyplot as plt\n",
    "from sklearn.model_selection import train_test_split\n",
    "from sklearn.ensemble import RandomForestClassifier\n",
    "from sklearn.model_selection import GridSearchCV\n"
   ]
  },
  {
   "cell_type": "markdown",
   "metadata": {},
   "source": [
    "### 2. Upload Clinic data"
   ]
  },
  {
   "cell_type": "code",
   "execution_count": 2,
   "metadata": {},
   "outputs": [
    {
     "data": {
      "text/html": [
       "<div>\n",
       "<style scoped>\n",
       "    .dataframe tbody tr th:only-of-type {\n",
       "        vertical-align: middle;\n",
       "    }\n",
       "\n",
       "    .dataframe tbody tr th {\n",
       "        vertical-align: top;\n",
       "    }\n",
       "\n",
       "    .dataframe thead th {\n",
       "        text-align: right;\n",
       "    }\n",
       "</style>\n",
       "<table border=\"1\" class=\"dataframe\">\n",
       "  <thead>\n",
       "    <tr style=\"text-align: right;\">\n",
       "      <th></th>\n",
       "      <th>Target</th>\n",
       "      <th>0</th>\n",
       "      <th>1</th>\n",
       "      <th>2</th>\n",
       "      <th>3</th>\n",
       "      <th>4</th>\n",
       "      <th>5</th>\n",
       "      <th>6</th>\n",
       "      <th>7</th>\n",
       "      <th>8</th>\n",
       "      <th>...</th>\n",
       "      <th>190</th>\n",
       "      <th>191</th>\n",
       "      <th>192</th>\n",
       "      <th>193</th>\n",
       "      <th>194</th>\n",
       "      <th>195</th>\n",
       "      <th>196</th>\n",
       "      <th>197</th>\n",
       "      <th>198</th>\n",
       "      <th>199</th>\n",
       "    </tr>\n",
       "  </thead>\n",
       "  <tbody>\n",
       "    <tr>\n",
       "      <th>0</th>\n",
       "      <td>2</td>\n",
       "      <td>0.436414</td>\n",
       "      <td>-1.576482</td>\n",
       "      <td>2.176638</td>\n",
       "      <td>1.046650</td>\n",
       "      <td>-0.967788</td>\n",
       "      <td>-0.332760</td>\n",
       "      <td>-0.586029</td>\n",
       "      <td>1.430570</td>\n",
       "      <td>-0.895583</td>\n",
       "      <td>...</td>\n",
       "      <td>-0.928760</td>\n",
       "      <td>0.075799</td>\n",
       "      <td>-0.263159</td>\n",
       "      <td>-0.655430</td>\n",
       "      <td>1.285033</td>\n",
       "      <td>1.158913</td>\n",
       "      <td>-0.501004</td>\n",
       "      <td>-1.361494</td>\n",
       "      <td>0.612884</td>\n",
       "      <td>0.746754</td>\n",
       "    </tr>\n",
       "    <tr>\n",
       "      <th>1</th>\n",
       "      <td>1</td>\n",
       "      <td>-0.032149</td>\n",
       "      <td>-0.995621</td>\n",
       "      <td>1.888060</td>\n",
       "      <td>1.284731</td>\n",
       "      <td>0.079140</td>\n",
       "      <td>0.064063</td>\n",
       "      <td>-0.199813</td>\n",
       "      <td>1.521006</td>\n",
       "      <td>0.564534</td>\n",
       "      <td>...</td>\n",
       "      <td>0.483468</td>\n",
       "      <td>-0.893442</td>\n",
       "      <td>0.575146</td>\n",
       "      <td>-0.778792</td>\n",
       "      <td>0.324170</td>\n",
       "      <td>0.177823</td>\n",
       "      <td>-1.233956</td>\n",
       "      <td>-1.483099</td>\n",
       "      <td>-0.341608</td>\n",
       "      <td>-0.996777</td>\n",
       "    </tr>\n",
       "    <tr>\n",
       "      <th>2</th>\n",
       "      <td>2</td>\n",
       "      <td>0.476933</td>\n",
       "      <td>-2.010775</td>\n",
       "      <td>1.879018</td>\n",
       "      <td>0.383090</td>\n",
       "      <td>0.207985</td>\n",
       "      <td>-0.992632</td>\n",
       "      <td>0.020097</td>\n",
       "      <td>0.387833</td>\n",
       "      <td>-1.122965</td>\n",
       "      <td>...</td>\n",
       "      <td>0.017044</td>\n",
       "      <td>0.602836</td>\n",
       "      <td>-1.916266</td>\n",
       "      <td>1.144584</td>\n",
       "      <td>1.069570</td>\n",
       "      <td>0.535930</td>\n",
       "      <td>-0.897938</td>\n",
       "      <td>-1.371405</td>\n",
       "      <td>-0.231251</td>\n",
       "      <td>-0.274360</td>\n",
       "    </tr>\n",
       "    <tr>\n",
       "      <th>3</th>\n",
       "      <td>0</td>\n",
       "      <td>0.547395</td>\n",
       "      <td>-0.711453</td>\n",
       "      <td>1.527116</td>\n",
       "      <td>1.052659</td>\n",
       "      <td>0.077064</td>\n",
       "      <td>0.006284</td>\n",
       "      <td>-0.112697</td>\n",
       "      <td>1.186751</td>\n",
       "      <td>0.211799</td>\n",
       "      <td>...</td>\n",
       "      <td>0.633414</td>\n",
       "      <td>-0.524010</td>\n",
       "      <td>0.202187</td>\n",
       "      <td>-0.838269</td>\n",
       "      <td>-0.029785</td>\n",
       "      <td>0.492356</td>\n",
       "      <td>-1.486459</td>\n",
       "      <td>-1.970962</td>\n",
       "      <td>0.530672</td>\n",
       "      <td>-0.985897</td>\n",
       "    </tr>\n",
       "    <tr>\n",
       "      <th>4</th>\n",
       "      <td>1</td>\n",
       "      <td>-0.624718</td>\n",
       "      <td>-2.406139</td>\n",
       "      <td>2.824231</td>\n",
       "      <td>-0.012635</td>\n",
       "      <td>-1.314704</td>\n",
       "      <td>-0.748785</td>\n",
       "      <td>0.687588</td>\n",
       "      <td>2.262579</td>\n",
       "      <td>-0.263327</td>\n",
       "      <td>...</td>\n",
       "      <td>0.454670</td>\n",
       "      <td>-0.789785</td>\n",
       "      <td>-0.452545</td>\n",
       "      <td>1.738423</td>\n",
       "      <td>0.543774</td>\n",
       "      <td>0.753638</td>\n",
       "      <td>-1.839001</td>\n",
       "      <td>-0.347618</td>\n",
       "      <td>0.589409</td>\n",
       "      <td>-1.081583</td>\n",
       "    </tr>\n",
       "  </tbody>\n",
       "</table>\n",
       "<p>5 rows × 201 columns</p>\n",
       "</div>"
      ],
      "text/plain": [
       "   Target         0         1         2         3         4         5  \\\n",
       "0       2  0.436414 -1.576482  2.176638  1.046650 -0.967788 -0.332760   \n",
       "1       1 -0.032149 -0.995621  1.888060  1.284731  0.079140  0.064063   \n",
       "2       2  0.476933 -2.010775  1.879018  0.383090  0.207985 -0.992632   \n",
       "3       0  0.547395 -0.711453  1.527116  1.052659  0.077064  0.006284   \n",
       "4       1 -0.624718 -2.406139  2.824231 -0.012635 -1.314704 -0.748785   \n",
       "\n",
       "          6         7         8  ...       190       191       192       193  \\\n",
       "0 -0.586029  1.430570 -0.895583  ... -0.928760  0.075799 -0.263159 -0.655430   \n",
       "1 -0.199813  1.521006  0.564534  ...  0.483468 -0.893442  0.575146 -0.778792   \n",
       "2  0.020097  0.387833 -1.122965  ...  0.017044  0.602836 -1.916266  1.144584   \n",
       "3 -0.112697  1.186751  0.211799  ...  0.633414 -0.524010  0.202187 -0.838269   \n",
       "4  0.687588  2.262579 -0.263327  ...  0.454670 -0.789785 -0.452545  1.738423   \n",
       "\n",
       "        194       195       196       197       198       199  \n",
       "0  1.285033  1.158913 -0.501004 -1.361494  0.612884  0.746754  \n",
       "1  0.324170  0.177823 -1.233956 -1.483099 -0.341608 -0.996777  \n",
       "2  1.069570  0.535930 -0.897938 -1.371405 -0.231251 -0.274360  \n",
       "3 -0.029785  0.492356 -1.486459 -1.970962  0.530672 -0.985897  \n",
       "4  0.543774  0.753638 -1.839001 -0.347618  0.589409 -1.081583  \n",
       "\n",
       "[5 rows x 201 columns]"
      ]
     },
     "execution_count": 2,
     "metadata": {},
     "output_type": "execute_result"
    }
   ],
   "source": [
    "path =\"../../../../Data_preprocessing/RNA_post_autoencoder/encoded_data_multiclass_200.csv\"\n",
    "data = pd.read_csv(path)\n",
    "data.reset_index\n",
    "data.round(4)\n",
    "data=data.iloc[:,1:202  ] \n",
    "data.head()"
   ]
  },
  {
   "cell_type": "code",
   "execution_count": 3,
   "metadata": {},
   "outputs": [
    {
     "name": "stdout",
     "output_type": "stream",
     "text": [
      "            0         1         2         3         4         5         6  \\\n",
      "0    0.436414 -1.576482  2.176638  1.046650 -0.967788 -0.332760 -0.586029   \n",
      "1   -0.032149 -0.995621  1.888060  1.284731  0.079140  0.064063 -0.199813   \n",
      "2    0.476933 -2.010775  1.879018  0.383090  0.207985 -0.992632  0.020097   \n",
      "3    0.547395 -0.711453  1.527116  1.052659  0.077064  0.006284 -0.112697   \n",
      "4   -0.624718 -2.406139  2.824231 -0.012635 -1.314704 -0.748785  0.687588   \n",
      "..        ...       ...       ...       ...       ...       ...       ...   \n",
      "176  0.152039 -1.448956  1.631890  0.438465 -0.797802 -0.450635 -0.031156   \n",
      "177  1.139950 -1.364696  0.767903  0.954542  0.358079 -0.439770  0.195097   \n",
      "178  0.291298 -2.023891  1.954019  1.072944 -0.490579 -0.466329  0.094765   \n",
      "179  0.102469 -0.451807  1.057516  0.105644 -0.375693 -0.814802  0.114747   \n",
      "180  0.794935 -1.928761  0.771840  0.929302 -0.237190 -0.890115  0.127341   \n",
      "\n",
      "            7         8         9  ...       190       191       192  \\\n",
      "0    1.430570 -0.895583  0.120207  ... -0.928760  0.075799 -0.263159   \n",
      "1    1.521006  0.564534  0.341837  ...  0.483468 -0.893442  0.575146   \n",
      "2    0.387833 -1.122965 -0.934672  ...  0.017044  0.602836 -1.916266   \n",
      "3    1.186751  0.211799  0.120053  ...  0.633414 -0.524010  0.202187   \n",
      "4    2.262579 -0.263327 -0.274533  ...  0.454670 -0.789785 -0.452545   \n",
      "..        ...       ...       ...  ...       ...       ...       ...   \n",
      "176  1.295086  0.173004 -0.280646  ...  0.025642 -0.378163  0.188580   \n",
      "177  0.845653 -0.676772 -0.360587  ... -0.873685  0.750253 -1.205012   \n",
      "178  1.740030 -0.030524 -0.519105  ... -0.431681 -0.061290 -0.717787   \n",
      "179  1.347460  0.597547 -0.340238  ... -0.049844 -0.168013 -0.328857   \n",
      "180  0.555222 -0.624247 -1.248683  ... -0.630990  0.643830 -1.258881   \n",
      "\n",
      "          193       194       195       196       197       198       199  \n",
      "0   -0.655430  1.285033  1.158913 -0.501004 -1.361494  0.612884  0.746754  \n",
      "1   -0.778792  0.324170  0.177823 -1.233956 -1.483099 -0.341608 -0.996777  \n",
      "2    1.144584  1.069570  0.535930 -0.897938 -1.371405 -0.231251 -0.274360  \n",
      "3   -0.838269 -0.029785  0.492356 -1.486459 -1.970962  0.530672 -0.985897  \n",
      "4    1.738423  0.543774  0.753638 -1.839001 -0.347618  0.589409 -1.081583  \n",
      "..        ...       ...       ...       ...       ...       ...       ...  \n",
      "176  0.648309  0.326763  0.080889 -1.008813 -0.970503  0.077294 -0.849342  \n",
      "177  0.408689  0.540051  0.782452 -0.546565 -1.861703  1.187797  0.356491  \n",
      "178  0.271427  0.487723  0.717294 -1.402291 -1.743405  0.797255  0.456609  \n",
      "179 -0.253990  0.147674 -0.035349 -0.670596 -1.290784 -0.359039 -0.586562  \n",
      "180  0.903779  0.433831  0.301006 -0.699738 -1.910061  0.878316  0.637000  \n",
      "\n",
      "[181 rows x 200 columns]\n",
      "Numero de pacientes:  181\n"
     ]
    }
   ],
   "source": [
    "Y = data.Target # Target column\n",
    "\n",
    "X = data.iloc[:,1:202] # I selected all the columns by removing the Unnamed column (row id) and the Target column.\n",
    "\n",
    "\n",
    "print(X)\n",
    "print('Numero de pacientes: ',len(Y))"
   ]
  },
  {
   "cell_type": "markdown",
   "metadata": {},
   "source": [
    "### 3. Train-Test dataset split"
   ]
  },
  {
   "cell_type": "code",
   "execution_count": 4,
   "metadata": {},
   "outputs": [
    {
     "name": "stdout",
     "output_type": "stream",
     "text": [
      "Training set size: 144\n",
      "Target column size of the training set: 144\n",
      "Test set size: 37\n",
      "Target column size of the test set: 37\n"
     ]
    }
   ],
   "source": [
    "XTrain, XTest, yTrain, yTest = train_test_split(X, Y, test_size=0.20, random_state=125, stratify=Y)\n",
    "yTrain=yTrain.to_numpy()\n",
    "yTest=yTest.to_numpy()\n",
    "print('Training set size:', len(XTrain))\n",
    "print('Target column size of the training set:', len(yTrain))\n",
    "print('Test set size:', len(XTest))\n",
    "print('Target column size of the test set:', len(yTest))"
   ]
  },
  {
   "cell_type": "code",
   "execution_count": 5,
   "metadata": {},
   "outputs": [
    {
     "data": {
      "text/plain": [
       "GridSearchCV(cv=5, estimator=RandomForestClassifier(),\n",
       "             param_grid={'bootstrap': [True, False],\n",
       "                         'criterion': ['gini', 'entropy'],\n",
       "                         'max_depth': [None, 14, 16, 20, 30, 40, 50],\n",
       "                         'min_samples_leaf': [1, 2, 3],\n",
       "                         'min_samples_split': [2, 3, 4, 5, 6, 7, 8],\n",
       "                         'n_estimators': [15, 20], 'random_state': [125]})"
      ]
     },
     "execution_count": 5,
     "metadata": {},
     "output_type": "execute_result"
    }
   ],
   "source": [
    "param_grid = {'min_samples_leaf': [1, 2, 3],\n",
    "              'min_samples_split': [2, 3, 4, 5, 6, 7, 8],\n",
    "              'random_state':[125],\n",
    "              'n_estimators': [15, 20],\n",
    "              'bootstrap': [True, False],\n",
    "              'criterion': ['gini', 'entropy'],\n",
    "              'max_depth':[None, 14, 16, 20, 30, 40, 50]\n",
    "              }\n",
    "\n",
    "# I created a GridSearchCV which allows us to systematically evaluate and select the parameters of our model.\n",
    "# By indicating a model and the parameters to test, you can evaluate the performance of the first one based on the\n",
    "# seconds through cross validation.\n",
    "clf = GridSearchCV(\n",
    "        estimator  = RandomForestClassifier(),\n",
    "        param_grid = param_grid,\n",
    "        cv=5\n",
    "       )\n",
    "\n",
    "clf.fit(XTrain , yTrain)"
   ]
  },
  {
   "cell_type": "code",
   "execution_count": 6,
   "metadata": {},
   "outputs": [
    {
     "name": "stdout",
     "output_type": "stream",
     "text": [
      "Best estimate of parameters according to GridSearchCV:\n"
     ]
    },
    {
     "data": {
      "text/plain": [
       "RandomForestClassifier(min_samples_leaf=3, min_samples_split=8, n_estimators=15,\n",
       "                       random_state=125)"
      ]
     },
     "execution_count": 6,
     "metadata": {},
     "output_type": "execute_result"
    }
   ],
   "source": [
    "print(\"Best estimate of parameters according to GridSearchCV:\")\n",
    "model = clf.best_estimator_\n",
    "# Fit the model with the best parameters\n",
    "model.fit(XTrain , yTrain)"
   ]
  },
  {
   "cell_type": "code",
   "execution_count": 7,
   "metadata": {},
   "outputs": [
    {
     "name": "stdout",
     "output_type": "stream",
     "text": [
      "Best result of the cross validation of the model with the best paramters:0.5566502463054188\n"
     ]
    }
   ],
   "source": [
    "print(\"Best result of the cross validation of the model with the best paramters:\" +str(clf.best_score_))"
   ]
  },
  {
   "cell_type": "markdown",
   "metadata": {},
   "source": [
    "### 5. Prediction"
   ]
  },
  {
   "cell_type": "code",
   "execution_count": 8,
   "metadata": {},
   "outputs": [],
   "source": [
    "# Making predictions with the optimal model on the training dataset\n",
    "yhatTrain = model.predict(XTrain)\n",
    "contTrain = 0\n",
    "\n",
    "# Comparing with the Target column and check how many hits there have been\n",
    "for i in range(0,len(yTrain),1) :\n",
    "    if (yhatTrain[i] == yTrain[i]):\n",
    "        contTrain = contTrain + 1"
   ]
  },
  {
   "cell_type": "code",
   "execution_count": 9,
   "metadata": {},
   "outputs": [],
   "source": [
    "# Making predictions with the optimal model on the test dataset\n",
    "yhatTest = model.predict(XTest)\n",
    "contTest = 0\n",
    "\n",
    "# Comparing with the Target column and check how many hits there have been\n",
    "for i in range(0,len(yTest),1) :\n",
    "    if (yhatTest[i] == yTest[i]):\n",
    "        contTest = contTest + 1\n"
   ]
  },
  {
   "cell_type": "markdown",
   "metadata": {},
   "source": [
    "### 6. Results"
   ]
  },
  {
   "cell_type": "code",
   "execution_count": 10,
   "metadata": {},
   "outputs": [
    {
     "name": "stdout",
     "output_type": "stream",
     "text": [
      "Final accuracy on the training dataset:0.9236111111111112\n",
      "Final accuracy on the testing dataset: 0.5405405405405406\n"
     ]
    }
   ],
   "source": [
    "print('Final accuracy on the training dataset:' + str(contTrain/len(yTrain)))\n",
    "print('Final accuracy on the testing dataset: ' + str(contTest/len(yTest)))"
   ]
  },
  {
   "cell_type": "code",
   "execution_count": 11,
   "metadata": {},
   "outputs": [
    {
     "name": "stdout",
     "output_type": "stream",
     "text": [
      "----------------Confusion Matrix (Training)------------------\n",
      "[[65  0  2]\n",
      " [ 3 20  2]\n",
      " [ 4  0 48]]\n",
      "Input data:  [1 0 2 0 2 2 0 0 2 0 2 0 1 0 2 2 0 2 2 2 0 0 0 2 0 0 0 0 1 1 2 2 2 2 0 1 2\n",
      " 0 0 2 1 2 2 1 0 0 2 2 1 0 0 0 2 0 0 2 0 2 1 2 0 2 1 0 0 0 0 2 2 2 0 2 0 0\n",
      " 0 2 0 2 0 0 0 1 2 0 0 1 2 2 1 1 0 2 0 2 0 0 1 0 1 0 0 2 0 0 2 2 2 1 0 2 2\n",
      " 1 2 0 1 0 0 0 2 0 1 0 2 0 0 2 1 1 0 0 0 2 0 1 0 0 0 2 2 2 1 2 0 1]\n",
      "Prediction:        [2 0 2 0 0 2 0 0 0 0 2 0 1 0 2 2 0 2 0 2 0 0 0 2 0 0 0 0 1 2 2 2 2 2 0 1 2\n",
      " 0 0 0 0 2 2 1 0 0 2 2 1 0 0 0 2 0 0 2 0 2 0 2 0 2 1 0 0 0 0 2 2 2 0 2 0 0\n",
      " 0 2 0 2 0 0 0 1 2 0 0 1 2 2 1 1 0 2 0 2 2 0 1 0 1 2 0 2 0 0 2 2 2 1 0 2 2\n",
      " 1 2 0 1 0 0 0 2 0 1 0 2 0 0 2 1 1 0 0 0 2 0 1 0 0 0 2 2 2 0 2 0 1]\n"
     ]
    }
   ],
   "source": [
    "from sklearn.metrics import classification_report,confusion_matrix\n",
    "\n",
    "print('----------------Confusion Matrix (Training)------------------')\n",
    "print(confusion_matrix(yTrain,yhatTrain))\n",
    "print('Input data:  ' + str(np.array(yTrain)))\n",
    "print('Prediction:        ' +str(yhatTrain))"
   ]
  },
  {
   "cell_type": "code",
   "execution_count": 12,
   "metadata": {},
   "outputs": [
    {
     "name": "stdout",
     "output_type": "stream",
     "text": [
      "              precision    recall  f1-score   support\n",
      "\n",
      "           0       0.90      0.97      0.94        67\n",
      "           1       1.00      0.80      0.89        25\n",
      "           2       0.92      0.92      0.92        52\n",
      "\n",
      "    accuracy                           0.92       144\n",
      "   macro avg       0.94      0.90      0.92       144\n",
      "weighted avg       0.93      0.92      0.92       144\n",
      "\n"
     ]
    }
   ],
   "source": [
    "print(classification_report(yTrain,yhatTrain))"
   ]
  },
  {
   "cell_type": "code",
   "execution_count": 13,
   "metadata": {},
   "outputs": [
    {
     "name": "stdout",
     "output_type": "stream",
     "text": [
      "----------------Confusion Matrix (Test)------------------\n",
      "[[13  0  5]\n",
      " [ 1  1  4]\n",
      " [ 7  0  6]]\n",
      "Input data:  [0 1 0 2 0 2 1 0 1 0 2 2 1 2 2 0 1 2 0 0 0 2 1 0 0 2 0 2 2 0 0 0 2 2 0 0 0]\n",
      "Prediction:        [0 2 2 0 2 2 2 0 2 0 2 2 0 2 0 0 2 0 0 0 0 2 1 2 0 2 0 0 0 0 0 0 0 0 2 2 0]\n"
     ]
    }
   ],
   "source": [
    "print('----------------Confusion Matrix (Test)------------------')\n",
    "print(confusion_matrix(yTest,yhatTest))\n",
    "print('Input data:  ' + str(np.array(yTest)))\n",
    "print('Prediction:        ' +str(yhatTest))"
   ]
  },
  {
   "cell_type": "code",
   "execution_count": 14,
   "metadata": {},
   "outputs": [
    {
     "name": "stdout",
     "output_type": "stream",
     "text": [
      "              precision    recall  f1-score   support\n",
      "\n",
      "           0       0.62      0.72      0.67        18\n",
      "           1       1.00      0.17      0.29         6\n",
      "           2       0.40      0.46      0.43        13\n",
      "\n",
      "    accuracy                           0.54        37\n",
      "   macro avg       0.67      0.45      0.46        37\n",
      "weighted avg       0.60      0.54      0.52        37\n",
      "\n"
     ]
    }
   ],
   "source": [
    "print(classification_report(yTest,yhatTest))"
   ]
  },
  {
   "cell_type": "code",
   "execution_count": 15,
   "metadata": {},
   "outputs": [
    {
     "data": {
      "image/png": "[encoded data removed]",
      "text/plain": [
       "<Figure size 432x288 with 1 Axes>"
      ]
     },
     "metadata": {
      "needs_background": "light"
     },
     "output_type": "display_data"
    },
    {
     "name": "stdout",
     "output_type": "stream",
     "text": [
      "0 = 0.0022161260357891873\n",
      "1 = 0.00665738607220284\n",
      "2 = 0.002080236278991419\n",
      "3 = 0.010782726733464849\n",
      "4 = 0.0\n",
      "5 = 0.0\n",
      "6 = 0.010111540918046962\n",
      "7 = 0.0\n",
      "8 = 0.008954833993153555\n",
      "9 = 0.02271126849527405\n",
      "10 = 0.014081311889265277\n",
      "11 = 0.0\n",
      "12 = 0.0\n",
      "13 = 0.014212767612124911\n",
      "14 = 0.0\n",
      "15 = 0.008270024240295973\n",
      "16 = 0.0\n",
      "17 = 0.0\n",
      "18 = 0.01647282738320595\n",
      "19 = 0.0\n",
      "20 = 0.017321263694542618\n",
      "21 = 0.0037679403227962164\n",
      "22 = 0.0017901714998731686\n",
      "23 = 0.0\n",
      "24 = 0.00369009640593626\n",
      "25 = 0.005262067354109446\n",
      "26 = 0.005822424026752108\n",
      "27 = 0.003429595368902388\n",
      "28 = 0.0005412506272305451\n",
      "29 = 0.0\n",
      "30 = 0.016058153301082814\n",
      "31 = 0.004609155456297513\n",
      "32 = 0.0005526227996153625\n",
      "33 = 0.0\n",
      "34 = 0.0\n",
      "35 = 0.0030596640588793356\n",
      "36 = 0.0\n",
      "37 = 0.0\n",
      "38 = 0.026360868683343426\n",
      "39 = 0.0\n",
      "40 = 0.0\n",
      "41 = 0.0\n",
      "42 = 0.009673009618127178\n",
      "43 = 0.006054868258261626\n",
      "44 = 0.014035825277813685\n",
      "45 = 0.0013018517875554199\n",
      "46 = 0.0\n",
      "47 = 0.008983496560867875\n",
      "48 = 0.016540050050758415\n",
      "49 = 0.009926683160340977\n",
      "50 = 0.0007785160191361288\n",
      "51 = 0.013686748112642885\n",
      "52 = 0.007552068918667321\n",
      "53 = 0.0\n",
      "54 = 0.025514378143404626\n",
      "55 = 0.0010791402465630258\n",
      "56 = 0.0030178674774561866\n",
      "57 = 0.0\n",
      "58 = 0.007446792686175435\n",
      "59 = 0.004751817237798547\n",
      "60 = 0.0\n",
      "61 = 0.006110275932302026\n",
      "62 = 0.004618347682499816\n",
      "63 = 0.005235504642055038\n",
      "64 = 0.0\n",
      "65 = 0.0032666310496612745\n",
      "66 = 0.01686432432457879\n",
      "67 = 0.012377744788706346\n",
      "68 = 0.0048712556450749\n",
      "69 = 0.006207264439163958\n",
      "70 = 0.006878057084334703\n",
      "71 = 0.0\n",
      "72 = 0.0\n",
      "73 = 0.0027375621554745024\n",
      "74 = 0.013639159613530112\n",
      "75 = 0.0043176933157803654\n",
      "76 = 0.0\n",
      "77 = 0.0\n",
      "78 = 0.0\n",
      "79 = 0.0\n",
      "80 = 0.006403692148095196\n",
      "81 = 0.00040877039593954843\n",
      "82 = 0.0\n",
      "83 = 0.008598541160358453\n",
      "84 = 0.0\n",
      "85 = 0.006330835475923628\n",
      "86 = 0.0023281418082744744\n",
      "87 = 0.0\n",
      "88 = 0.0048657419747723685\n",
      "89 = 0.0\n",
      "90 = 0.0\n",
      "91 = 0.0\n",
      "92 = 0.0\n",
      "93 = 0.005470220451391135\n",
      "94 = 0.0\n",
      "95 = 0.0\n",
      "96 = 0.0037101029285153326\n",
      "97 = 0.0\n",
      "98 = 0.011091944225583666\n",
      "99 = 0.010783044058722943\n",
      "100 = 0.0\n",
      "101 = 0.0\n",
      "102 = 0.004346685452538804\n",
      "103 = 0.008451054342576102\n",
      "104 = 0.0\n",
      "105 = 0.005694514574727011\n",
      "106 = 0.003030737274532915\n",
      "107 = 0.010710300316324865\n",
      "108 = 0.0032399618862665376\n",
      "109 = 0.0\n",
      "110 = 0.011920065333921362\n",
      "111 = 0.007507782351836182\n",
      "112 = 0.0\n",
      "113 = 0.005732689099679436\n",
      "114 = 0.005625774506345796\n",
      "115 = 0.0\n",
      "116 = 0.005003873779014801\n",
      "117 = 0.003908995101266267\n",
      "118 = 0.008776762401219431\n",
      "119 = 0.008557303307091353\n",
      "120 = 0.0\n",
      "121 = 0.000654302101035989\n",
      "122 = 0.003272899845394218\n",
      "123 = 0.0\n",
      "124 = 0.013904497007050053\n",
      "125 = 0.0062273553458486765\n",
      "126 = 0.006547835394832326\n",
      "127 = 0.018102119671116135\n",
      "128 = 0.0037269176908557955\n",
      "129 = 0.006870383616501442\n",
      "130 = 0.00464122412850192\n",
      "131 = 0.01131180115557308\n",
      "132 = 0.0015414074083323524\n",
      "133 = 0.003767399920071675\n",
      "134 = 0.007032611921487821\n",
      "135 = 0.0\n",
      "136 = 0.0\n",
      "137 = 0.0\n",
      "138 = 0.0\n",
      "139 = 0.00646478752460442\n",
      "140 = 0.010420224316722636\n",
      "141 = 0.013873675171991805\n",
      "142 = 0.011482645911801823\n",
      "143 = 0.002853084190018013\n",
      "144 = 0.0074073600082412965\n",
      "145 = 0.007282368721824638\n",
      "146 = 0.0036820286955326644\n",
      "147 = 0.002488578955978621\n",
      "148 = 0.0\n",
      "149 = 0.007495765135368976\n",
      "150 = 0.0\n",
      "151 = 0.008901722689219528\n",
      "152 = 0.0128004698894359\n",
      "153 = 0.002094951748217835\n",
      "154 = 0.004315661905635135\n",
      "155 = 0.0\n",
      "156 = 0.0\n",
      "157 = 0.01862568682922169\n",
      "158 = 0.018482743951320567\n",
      "159 = 0.02080114849553907\n",
      "160 = 0.001084066748717257\n",
      "161 = 0.007131500687384149\n",
      "162 = 0.0016181317440967992\n",
      "163 = 0.0021075191946557915\n",
      "164 = 0.006975067947837051\n",
      "165 = 0.0\n",
      "166 = 0.0057018539815554105\n",
      "167 = 0.0\n",
      "168 = 0.0\n",
      "169 = 0.006978607023594862\n",
      "170 = 0.0\n",
      "171 = 0.004282992338672622\n",
      "172 = 0.0\n",
      "173 = 0.0\n",
      "174 = 0.004622026487948149\n",
      "175 = 0.0\n",
      "176 = 0.002876678785650797\n",
      "177 = 0.016436707927647436\n",
      "178 = 0.0\n",
      "179 = 0.0004981798110662096\n",
      "180 = 0.003924651466728745\n",
      "181 = 0.0025741216580911232\n",
      "182 = 0.0\n",
      "183 = 0.0\n",
      "184 = 0.011701649273076736\n",
      "185 = 0.016337243824512664\n",
      "186 = 0.0\n",
      "187 = 0.003860623722908919\n",
      "188 = 0.0038713635529071403\n",
      "189 = 0.0\n",
      "190 = 0.014388570948603744\n",
      "191 = 0.006240605645662662\n",
      "192 = 0.012530768762798869\n",
      "193 = 0.009631011936971566\n",
      "194 = 0.0041635982886011865\n",
      "195 = 0.0\n",
      "196 = 0.007576183610808701\n",
      "197 = 0.007369584433028537\n",
      "198 = 0.005800852307174494\n",
      "199 = 0.00386138670719732\n"
     ]
    }
   ],
   "source": [
    "# Through the created model we can see which attributes are the most significant to make a decision.\n",
    "# The most relevant attributes will be the ones placed at the top of the tree.\n",
    "features = list(X)\n",
    "importances = model.feature_importances_\n",
    "indices = np.argsort(importances)\n",
    "\n",
    "plt.title('Attribute relevance')\n",
    "plt.barh(range(len(indices)), importances[indices], color='b', align='center')\n",
    "plt.yticks(range(len(indices)), [features[i] for i in indices])\n",
    "plt.xlabel('Relative importance')\n",
    "plt.show()\n",
    "\n",
    "for name, importance in zip(X, model.feature_importances_):\n",
    "    print(name, \"=\", importance)\n",
    "\n",
    "# Attributes whose relevance is 0, will not be necessary to make the prediction of the target."
   ]
  }
 ],
 "metadata": {
  "kernelspec": {
   "display_name": "Python 3.8.8 ('base')",
   "language": "python",
   "name": "python3"
  },
  "language_info": {
   "codemirror_mode": {
    "name": "ipython",
    "version": 3
   },
   "file_extension": ".py",
   "mimetype": "text/x-python",
   "name": "python",
   "nbconvert_exporter": "python",
   "pygments_lexer": "ipython3",
   "version": "3.8.8"
  },
  "orig_nbformat": 4,
  "vscode": {
   "interpreter": {
    "hash": "8be240dc937e61b542e412c89351978950720d3fde5a0c37c158fb19f149fb89"
   }
  }
 },
 "nbformat": 4,
 "nbformat_minor": 2
}
