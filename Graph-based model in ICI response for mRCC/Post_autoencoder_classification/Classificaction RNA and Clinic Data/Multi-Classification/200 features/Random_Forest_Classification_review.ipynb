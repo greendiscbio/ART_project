{
 "cells": [
  {
   "cell_type": "markdown",
   "metadata": {},
   "source": [
    "# Classification model using Random Forest"
   ]
  },
  {
   "cell_type": "markdown",
   "metadata": {},
   "source": [
    "### 1. Import libraries"
   ]
  },
  {
   "cell_type": "code",
   "execution_count": 1,
   "metadata": {},
   "outputs": [],
   "source": [
    "import pandas as pd\n",
    "import numpy as np\n",
    "import matplotlib.pyplot as plt\n",
    "from sklearn.model_selection import train_test_split\n",
    "from sklearn.ensemble import RandomForestClassifier\n",
    "from sklearn.model_selection import GridSearchCV\n"
   ]
  },
  {
   "cell_type": "markdown",
   "metadata": {},
   "source": [
    "### 2. Upload Clinic data"
   ]
  },
  {
   "cell_type": "code",
   "execution_count": 2,
   "metadata": {},
   "outputs": [
    {
     "data": {
      "text/html": [
       "<div>\n",
       "<style scoped>\n",
       "    .dataframe tbody tr th:only-of-type {\n",
       "        vertical-align: middle;\n",
       "    }\n",
       "\n",
       "    .dataframe tbody tr th {\n",
       "        vertical-align: top;\n",
       "    }\n",
       "\n",
       "    .dataframe thead th {\n",
       "        text-align: right;\n",
       "    }\n",
       "</style>\n",
       "<table border=\"1\" class=\"dataframe\">\n",
       "  <thead>\n",
       "    <tr style=\"text-align: right;\">\n",
       "      <th></th>\n",
       "      <th>Target</th>\n",
       "      <th>0</th>\n",
       "      <th>1</th>\n",
       "      <th>2</th>\n",
       "      <th>3</th>\n",
       "      <th>4</th>\n",
       "      <th>5</th>\n",
       "      <th>6</th>\n",
       "      <th>7</th>\n",
       "      <th>8</th>\n",
       "      <th>...</th>\n",
       "      <th>190</th>\n",
       "      <th>191</th>\n",
       "      <th>192</th>\n",
       "      <th>193</th>\n",
       "      <th>194</th>\n",
       "      <th>195</th>\n",
       "      <th>196</th>\n",
       "      <th>197</th>\n",
       "      <th>198</th>\n",
       "      <th>199</th>\n",
       "    </tr>\n",
       "  </thead>\n",
       "  <tbody>\n",
       "    <tr>\n",
       "      <th>0</th>\n",
       "      <td>2</td>\n",
       "      <td>0.090383</td>\n",
       "      <td>-0.649882</td>\n",
       "      <td>-0.316971</td>\n",
       "      <td>0.177905</td>\n",
       "      <td>-0.953876</td>\n",
       "      <td>0.335641</td>\n",
       "      <td>0.547794</td>\n",
       "      <td>-0.553937</td>\n",
       "      <td>0.110278</td>\n",
       "      <td>...</td>\n",
       "      <td>2.092920</td>\n",
       "      <td>-0.902635</td>\n",
       "      <td>-1.113107</td>\n",
       "      <td>-0.413884</td>\n",
       "      <td>-0.589024</td>\n",
       "      <td>1.206955</td>\n",
       "      <td>-0.300583</td>\n",
       "      <td>0.270012</td>\n",
       "      <td>-0.130936</td>\n",
       "      <td>0.180399</td>\n",
       "    </tr>\n",
       "    <tr>\n",
       "      <th>1</th>\n",
       "      <td>1</td>\n",
       "      <td>0.477048</td>\n",
       "      <td>-2.020710</td>\n",
       "      <td>1.091671</td>\n",
       "      <td>1.287272</td>\n",
       "      <td>-0.363761</td>\n",
       "      <td>0.754296</td>\n",
       "      <td>0.507876</td>\n",
       "      <td>0.777283</td>\n",
       "      <td>-1.120030</td>\n",
       "      <td>...</td>\n",
       "      <td>0.697679</td>\n",
       "      <td>0.224512</td>\n",
       "      <td>-1.192957</td>\n",
       "      <td>0.061010</td>\n",
       "      <td>0.960343</td>\n",
       "      <td>0.241303</td>\n",
       "      <td>0.719193</td>\n",
       "      <td>0.983675</td>\n",
       "      <td>-1.161567</td>\n",
       "      <td>-0.246087</td>\n",
       "    </tr>\n",
       "    <tr>\n",
       "      <th>2</th>\n",
       "      <td>2</td>\n",
       "      <td>0.635105</td>\n",
       "      <td>-1.455384</td>\n",
       "      <td>1.860401</td>\n",
       "      <td>0.632697</td>\n",
       "      <td>-0.930232</td>\n",
       "      <td>0.295499</td>\n",
       "      <td>0.756204</td>\n",
       "      <td>0.523225</td>\n",
       "      <td>-2.107392</td>\n",
       "      <td>...</td>\n",
       "      <td>0.579307</td>\n",
       "      <td>-1.044159</td>\n",
       "      <td>-1.480045</td>\n",
       "      <td>-0.010595</td>\n",
       "      <td>0.363854</td>\n",
       "      <td>0.695291</td>\n",
       "      <td>-0.760165</td>\n",
       "      <td>0.963433</td>\n",
       "      <td>-1.901634</td>\n",
       "      <td>-0.315921</td>\n",
       "    </tr>\n",
       "    <tr>\n",
       "      <th>3</th>\n",
       "      <td>0</td>\n",
       "      <td>0.961507</td>\n",
       "      <td>-2.004696</td>\n",
       "      <td>0.853696</td>\n",
       "      <td>1.317209</td>\n",
       "      <td>-0.583800</td>\n",
       "      <td>1.132528</td>\n",
       "      <td>0.550134</td>\n",
       "      <td>0.217618</td>\n",
       "      <td>-1.552470</td>\n",
       "      <td>...</td>\n",
       "      <td>1.360498</td>\n",
       "      <td>-0.087889</td>\n",
       "      <td>-1.876129</td>\n",
       "      <td>0.023887</td>\n",
       "      <td>0.442273</td>\n",
       "      <td>1.212686</td>\n",
       "      <td>-0.353484</td>\n",
       "      <td>0.908717</td>\n",
       "      <td>-1.918175</td>\n",
       "      <td>-0.237121</td>\n",
       "    </tr>\n",
       "    <tr>\n",
       "      <th>4</th>\n",
       "      <td>1</td>\n",
       "      <td>-0.525586</td>\n",
       "      <td>-1.646895</td>\n",
       "      <td>0.137172</td>\n",
       "      <td>0.377502</td>\n",
       "      <td>-0.305213</td>\n",
       "      <td>0.422324</td>\n",
       "      <td>0.282720</td>\n",
       "      <td>-0.810817</td>\n",
       "      <td>-2.396630</td>\n",
       "      <td>...</td>\n",
       "      <td>1.815167</td>\n",
       "      <td>-2.681982</td>\n",
       "      <td>-0.615784</td>\n",
       "      <td>-0.857696</td>\n",
       "      <td>-2.062510</td>\n",
       "      <td>0.060919</td>\n",
       "      <td>-0.826840</td>\n",
       "      <td>1.522230</td>\n",
       "      <td>-1.236770</td>\n",
       "      <td>0.269057</td>\n",
       "    </tr>\n",
       "  </tbody>\n",
       "</table>\n",
       "<p>5 rows × 201 columns</p>\n",
       "</div>"
      ],
      "text/plain": [
       "   Target         0         1         2         3         4         5  \\\n",
       "0       2  0.090383 -0.649882 -0.316971  0.177905 -0.953876  0.335641   \n",
       "1       1  0.477048 -2.020710  1.091671  1.287272 -0.363761  0.754296   \n",
       "2       2  0.635105 -1.455384  1.860401  0.632697 -0.930232  0.295499   \n",
       "3       0  0.961507 -2.004696  0.853696  1.317209 -0.583800  1.132528   \n",
       "4       1 -0.525586 -1.646895  0.137172  0.377502 -0.305213  0.422324   \n",
       "\n",
       "          6         7         8  ...       190       191       192       193  \\\n",
       "0  0.547794 -0.553937  0.110278  ...  2.092920 -0.902635 -1.113107 -0.413884   \n",
       "1  0.507876  0.777283 -1.120030  ...  0.697679  0.224512 -1.192957  0.061010   \n",
       "2  0.756204  0.523225 -2.107392  ...  0.579307 -1.044159 -1.480045 -0.010595   \n",
       "3  0.550134  0.217618 -1.552470  ...  1.360498 -0.087889 -1.876129  0.023887   \n",
       "4  0.282720 -0.810817 -2.396630  ...  1.815167 -2.681982 -0.615784 -0.857696   \n",
       "\n",
       "        194       195       196       197       198       199  \n",
       "0 -0.589024  1.206955 -0.300583  0.270012 -0.130936  0.180399  \n",
       "1  0.960343  0.241303  0.719193  0.983675 -1.161567 -0.246087  \n",
       "2  0.363854  0.695291 -0.760165  0.963433 -1.901634 -0.315921  \n",
       "3  0.442273  1.212686 -0.353484  0.908717 -1.918175 -0.237121  \n",
       "4 -2.062510  0.060919 -0.826840  1.522230 -1.236770  0.269057  \n",
       "\n",
       "[5 rows x 201 columns]"
      ]
     },
     "execution_count": 2,
     "metadata": {},
     "output_type": "execute_result"
    }
   ],
   "source": [
    "path =\"../../../../Data_preprocessing/RNA_post_autoencoder/encoded_data_multiclass_200_review.csv\"\n",
    "data = pd.read_csv(path)\n",
    "data.reset_index\n",
    "data.round(4)\n",
    "data=data.iloc[:,1:202  ] \n",
    "data.head()"
   ]
  },
  {
   "cell_type": "code",
   "execution_count": 3,
   "metadata": {},
   "outputs": [
    {
     "name": "stdout",
     "output_type": "stream",
     "text": [
      "            0         1         2         3         4         5         6  \\\n",
      "0    0.090383 -0.649882 -0.316971  0.177905 -0.953876  0.335641  0.547794   \n",
      "1    0.477048 -2.020710  1.091671  1.287272 -0.363761  0.754296  0.507876   \n",
      "2    0.635105 -1.455384  1.860401  0.632697 -0.930232  0.295499  0.756204   \n",
      "3    0.961507 -2.004696  0.853696  1.317209 -0.583800  1.132528  0.550134   \n",
      "4   -0.525586 -1.646895  0.137172  0.377502 -0.305213  0.422324  0.282720   \n",
      "..        ...       ...       ...       ...       ...       ...       ...   \n",
      "176  0.236947 -1.546189  0.735707  0.337749 -0.865903  0.177455  0.514749   \n",
      "177  0.524165 -2.116409 -0.105561  0.699807 -0.680601  0.442997  0.912442   \n",
      "178  0.392108 -1.538342  1.038728  0.582032 -0.505431 -0.056508  0.191502   \n",
      "179 -0.151722 -1.736164  0.687119  0.422451 -0.804183 -0.165308  0.940421   \n",
      "180  0.356281 -1.524765  0.030108 -0.003902 -0.441868 -0.106647  0.691161   \n",
      "\n",
      "            7         8         9  ...       190       191       192  \\\n",
      "0   -0.553937  0.110278 -0.340309  ...  2.092920 -0.902635 -1.113107   \n",
      "1    0.777283 -1.120030  0.078454  ...  0.697679  0.224512 -1.192957   \n",
      "2    0.523225 -2.107392 -0.491757  ...  0.579307 -1.044159 -1.480045   \n",
      "3    0.217618 -1.552470  0.434180  ...  1.360498 -0.087889 -1.876129   \n",
      "4   -0.810817 -2.396630 -0.747489  ...  1.815167 -2.681982 -0.615784   \n",
      "..        ...       ...       ...  ...       ...       ...       ...   \n",
      "176  0.006039 -0.921875  0.247640  ...  1.438450 -1.301244 -1.023877   \n",
      "177  0.584159 -1.053032 -0.457713  ...  1.317085 -0.953427 -2.633913   \n",
      "178 -0.117068 -0.903066  0.401428  ...  1.547444 -1.737809 -1.318536   \n",
      "179 -0.103119 -0.662575 -0.151189  ...  1.449355 -0.555791 -1.007662   \n",
      "180 -0.041601 -0.326761 -0.446146  ...  1.316153 -1.707070 -1.668162   \n",
      "\n",
      "          193       194       195       196       197       198       199  \n",
      "0   -0.413884 -0.589024  1.206955 -0.300583  0.270012 -0.130936  0.180399  \n",
      "1    0.061010  0.960343  0.241303  0.719193  0.983675 -1.161567 -0.246087  \n",
      "2   -0.010595  0.363854  0.695291 -0.760165  0.963433 -1.901634 -0.315921  \n",
      "3    0.023887  0.442273  1.212686 -0.353484  0.908717 -1.918175 -0.237121  \n",
      "4   -0.857696 -2.062510  0.060919 -0.826840  1.522230 -1.236770  0.269057  \n",
      "..        ...       ...       ...       ...       ...       ...       ...  \n",
      "176 -0.429384 -0.939861  0.032495 -0.425220  0.554880 -1.002882 -0.635642  \n",
      "177  0.097942 -0.173137  2.190059 -0.348758  0.066746 -1.267687  0.551087  \n",
      "178 -0.085818 -0.658511  0.593231 -0.503926  1.005043 -0.283248 -0.316670  \n",
      "179 -0.379310 -0.706432 -0.177801  0.061601  0.495537 -0.708634 -0.372712  \n",
      "180 -0.200580 -0.768955  1.132509 -1.121062  0.064541 -0.540225 -0.159412  \n",
      "\n",
      "[181 rows x 200 columns]\n",
      "Numero de pacientes:  181\n"
     ]
    }
   ],
   "source": [
    "Y = data.Target # Target column\n",
    "\n",
    "X = data.iloc[:,1:202] # I selected all the columns by removing the Unnamed column (row id) and the Target column.\n",
    "\n",
    "\n",
    "print(X)\n",
    "print('Numero de pacientes: ',len(Y))"
   ]
  },
  {
   "cell_type": "markdown",
   "metadata": {},
   "source": [
    "### 3. Train-Test dataset split"
   ]
  },
  {
   "cell_type": "code",
   "execution_count": 4,
   "metadata": {},
   "outputs": [
    {
     "name": "stdout",
     "output_type": "stream",
     "text": [
      "Training set size: 144\n",
      "Target column size of the training set: 144\n",
      "Test set size: 37\n",
      "Target column size of the test set: 37\n"
     ]
    }
   ],
   "source": [
    "XTrain, XTest, yTrain, yTest = train_test_split(X, Y, test_size=0.20, random_state=125, stratify=Y)\n",
    "yTrain=yTrain.to_numpy()\n",
    "yTest=yTest.to_numpy()\n",
    "print('Training set size:', len(XTrain))\n",
    "print('Target column size of the training set:', len(yTrain))\n",
    "print('Test set size:', len(XTest))\n",
    "print('Target column size of the test set:', len(yTest))"
   ]
  },
  {
   "cell_type": "code",
   "execution_count": 5,
   "metadata": {},
   "outputs": [
    {
     "data": {
      "text/plain": [
       "GridSearchCV(cv=5, estimator=RandomForestClassifier(),\n",
       "             param_grid={'bootstrap': [True, False],\n",
       "                         'criterion': ['gini', 'entropy'],\n",
       "                         'max_depth': [None, 14, 16, 20, 30, 40, 50],\n",
       "                         'min_samples_leaf': [1, 2, 3],\n",
       "                         'min_samples_split': [2, 3, 4, 5, 6, 7, 8],\n",
       "                         'n_estimators': [15, 20], 'random_state': [125]})"
      ]
     },
     "execution_count": 5,
     "metadata": {},
     "output_type": "execute_result"
    }
   ],
   "source": [
    "param_grid = {'min_samples_leaf': [1, 2, 3],\n",
    "              'min_samples_split': [2, 3, 4, 5, 6, 7, 8],\n",
    "              'random_state':[125],\n",
    "              'n_estimators': [15, 20],\n",
    "              'bootstrap': [True, False],\n",
    "              'criterion': ['gini', 'entropy'],\n",
    "              'max_depth':[None, 14, 16, 20, 30, 40, 50]\n",
    "              }\n",
    "\n",
    "# I created a GridSearchCV which allows us to systematically evaluate and select the parameters of our model.\n",
    "# By indicating a model and the parameters to test, you can evaluate the performance of the first one based on the\n",
    "# seconds through cross validation.\n",
    "clf = GridSearchCV(\n",
    "        estimator  = RandomForestClassifier(),\n",
    "        param_grid = param_grid,\n",
    "        cv=5\n",
    "       )\n",
    "\n",
    "clf.fit(XTrain , yTrain)"
   ]
  },
  {
   "cell_type": "code",
   "execution_count": 6,
   "metadata": {},
   "outputs": [
    {
     "name": "stdout",
     "output_type": "stream",
     "text": [
      "Best estimate of parameters according to GridSearchCV:\n"
     ]
    },
    {
     "data": {
      "text/plain": [
       "RandomForestClassifier(bootstrap=False, criterion='entropy', min_samples_leaf=2,\n",
       "                       min_samples_split=5, n_estimators=20, random_state=125)"
      ]
     },
     "execution_count": 6,
     "metadata": {},
     "output_type": "execute_result"
    }
   ],
   "source": [
    "print(\"Best estimate of parameters according to GridSearchCV:\")\n",
    "model = clf.best_estimator_\n",
    "# Fit the model with the best parameters\n",
    "model.fit(XTrain , yTrain)"
   ]
  },
  {
   "cell_type": "code",
   "execution_count": 7,
   "metadata": {},
   "outputs": [
    {
     "name": "stdout",
     "output_type": "stream",
     "text": [
      "Best result of the cross validation of the model with the best paramters:0.5362068965517242\n"
     ]
    }
   ],
   "source": [
    "print(\"Best result of the cross validation of the model with the best paramters:\" +str(clf.best_score_))"
   ]
  },
  {
   "cell_type": "markdown",
   "metadata": {},
   "source": [
    "### 5. Prediction"
   ]
  },
  {
   "cell_type": "code",
   "execution_count": 8,
   "metadata": {},
   "outputs": [],
   "source": [
    "# Making predictions with the optimal model on the training dataset\n",
    "yhatTrain = model.predict(XTrain)\n",
    "contTrain = 0\n",
    "\n",
    "# Comparing with the Target column and check how many hits there have been\n",
    "for i in range(0,len(yTrain),1) :\n",
    "    if (yhatTrain[i] == yTrain[i]):\n",
    "        contTrain = contTrain + 1"
   ]
  },
  {
   "cell_type": "code",
   "execution_count": 9,
   "metadata": {},
   "outputs": [],
   "source": [
    "# Making predictions with the optimal model on the test dataset\n",
    "yhatTest = model.predict(XTest)\n",
    "contTest = 0\n",
    "\n",
    "# Comparing with the Target column and check how many hits there have been\n",
    "for i in range(0,len(yTest),1) :\n",
    "    if (yhatTest[i] == yTest[i]):\n",
    "        contTest = contTest + 1\n"
   ]
  },
  {
   "cell_type": "markdown",
   "metadata": {},
   "source": [
    "### 6. Results"
   ]
  },
  {
   "cell_type": "code",
   "execution_count": 10,
   "metadata": {},
   "outputs": [
    {
     "name": "stdout",
     "output_type": "stream",
     "text": [
      "Final accuracy on the training dataset:1.0\n",
      "Final accuracy on the testing dataset: 0.43243243243243246\n"
     ]
    }
   ],
   "source": [
    "print('Final accuracy on the training dataset:' + str(contTrain/len(yTrain)))\n",
    "print('Final accuracy on the testing dataset: ' + str(contTest/len(yTest)))"
   ]
  },
  {
   "cell_type": "code",
   "execution_count": 11,
   "metadata": {},
   "outputs": [
    {
     "name": "stdout",
     "output_type": "stream",
     "text": [
      "----------------Confusion Matrix (Training)------------------\n",
      "[[67  0  0]\n",
      " [ 0 25  0]\n",
      " [ 0  0 52]]\n",
      "Input data:  [1 0 2 0 2 2 0 0 2 0 2 0 1 0 2 2 0 2 2 2 0 0 0 2 0 0 0 0 1 1 2 2 2 2 0 1 2\n",
      " 0 0 2 1 2 2 1 0 0 2 2 1 0 0 0 2 0 0 2 0 2 1 2 0 2 1 0 0 0 0 2 2 2 0 2 0 0\n",
      " 0 2 0 2 0 0 0 1 2 0 0 1 2 2 1 1 0 2 0 2 0 0 1 0 1 0 0 2 0 0 2 2 2 1 0 2 2\n",
      " 1 2 0 1 0 0 0 2 0 1 0 2 0 0 2 1 1 0 0 0 2 0 1 0 0 0 2 2 2 1 2 0 1]\n",
      "Prediction:        [1 0 2 0 2 2 0 0 2 0 2 0 1 0 2 2 0 2 2 2 0 0 0 2 0 0 0 0 1 1 2 2 2 2 0 1 2\n",
      " 0 0 2 1 2 2 1 0 0 2 2 1 0 0 0 2 0 0 2 0 2 1 2 0 2 1 0 0 0 0 2 2 2 0 2 0 0\n",
      " 0 2 0 2 0 0 0 1 2 0 0 1 2 2 1 1 0 2 0 2 0 0 1 0 1 0 0 2 0 0 2 2 2 1 0 2 2\n",
      " 1 2 0 1 0 0 0 2 0 1 0 2 0 0 2 1 1 0 0 0 2 0 1 0 0 0 2 2 2 1 2 0 1]\n"
     ]
    }
   ],
   "source": [
    "from sklearn.metrics import classification_report,confusion_matrix\n",
    "\n",
    "print('----------------Confusion Matrix (Training)------------------')\n",
    "print(confusion_matrix(yTrain,yhatTrain))\n",
    "print('Input data:  ' + str(np.array(yTrain)))\n",
    "print('Prediction:        ' +str(yhatTrain))"
   ]
  },
  {
   "cell_type": "code",
   "execution_count": 12,
   "metadata": {},
   "outputs": [
    {
     "name": "stdout",
     "output_type": "stream",
     "text": [
      "              precision    recall  f1-score   support\n",
      "\n",
      "           0       1.00      1.00      1.00        67\n",
      "           1       1.00      1.00      1.00        25\n",
      "           2       1.00      1.00      1.00        52\n",
      "\n",
      "    accuracy                           1.00       144\n",
      "   macro avg       1.00      1.00      1.00       144\n",
      "weighted avg       1.00      1.00      1.00       144\n",
      "\n"
     ]
    }
   ],
   "source": [
    "print(classification_report(yTrain,yhatTrain))"
   ]
  },
  {
   "cell_type": "code",
   "execution_count": 13,
   "metadata": {},
   "outputs": [
    {
     "name": "stdout",
     "output_type": "stream",
     "text": [
      "----------------Confusion Matrix (Test)------------------\n",
      "[[11  4  3]\n",
      " [ 4  0  2]\n",
      " [ 8  0  5]]\n",
      "Input data:  [0 1 0 2 0 2 1 0 1 0 2 2 1 2 2 0 1 2 0 0 0 2 1 0 0 2 0 2 2 0 0 0 2 2 0 0 0]\n",
      "Prediction:        [0 2 0 0 2 2 2 0 0 1 0 0 0 2 0 1 0 0 0 1 0 2 0 1 0 2 2 0 2 0 0 2 0 0 0 0 0]\n"
     ]
    }
   ],
   "source": [
    "print('----------------Confusion Matrix (Test)------------------')\n",
    "print(confusion_matrix(yTest,yhatTest))\n",
    "print('Input data:  ' + str(np.array(yTest)))\n",
    "print('Prediction:        ' +str(yhatTest))"
   ]
  },
  {
   "cell_type": "code",
   "execution_count": 14,
   "metadata": {},
   "outputs": [
    {
     "name": "stdout",
     "output_type": "stream",
     "text": [
      "              precision    recall  f1-score   support\n",
      "\n",
      "           0       0.48      0.61      0.54        18\n",
      "           1       0.00      0.00      0.00         6\n",
      "           2       0.50      0.38      0.43        13\n",
      "\n",
      "    accuracy                           0.43        37\n",
      "   macro avg       0.33      0.33      0.32        37\n",
      "weighted avg       0.41      0.43      0.41        37\n",
      "\n"
     ]
    }
   ],
   "source": [
    "print(classification_report(yTest,yhatTest))"
   ]
  },
  {
   "cell_type": "code",
   "execution_count": 15,
   "metadata": {},
   "outputs": [
    {
     "data": {
      "image/png": "[encoded data removed]",
      "text/plain": [
       "<Figure size 432x288 with 1 Axes>"
      ]
     },
     "metadata": {
      "needs_background": "light"
     },
     "output_type": "display_data"
    },
    {
     "name": "stdout",
     "output_type": "stream",
     "text": [
      "0 = 0.001226140064995298\n",
      "1 = 0.003229078353354029\n",
      "2 = 0.0015202891373940482\n",
      "3 = 0.0019302509634841248\n",
      "4 = 0.0009067275539220248\n",
      "5 = 0.0067889382046482\n",
      "6 = 0.0\n",
      "7 = 0.0023544475157543966\n",
      "8 = 0.009379469271957805\n",
      "9 = 0.006773723196853039\n",
      "10 = 0.0\n",
      "11 = 0.0031721137603631364\n",
      "12 = 0.0\n",
      "13 = 0.004805663524584406\n",
      "14 = 0.004332904507110798\n",
      "15 = 0.007782795155315861\n",
      "16 = 0.008683020031607766\n",
      "17 = 0.0008266152593906303\n",
      "18 = 0.0019132234312145325\n",
      "19 = 0.011723091125857371\n",
      "20 = 0.001397232745883087\n",
      "21 = 0.0\n",
      "22 = 0.0006378542064455208\n",
      "23 = 0.006126328100095833\n",
      "24 = 0.0026688162773871663\n",
      "25 = 0.001872111504807043\n",
      "26 = 0.003914969015877705\n",
      "27 = 0.009353374361055738\n",
      "28 = 0.002723489112806112\n",
      "29 = 0.005188548679579663\n",
      "30 = 0.0026076900096074535\n",
      "31 = 0.0018742490550330304\n",
      "32 = 0.006878510455740933\n",
      "33 = 0.0021251272854499416\n",
      "34 = 0.0\n",
      "35 = 0.001554443514432127\n",
      "36 = 0.013115944691158265\n",
      "37 = 0.0\n",
      "38 = 0.011848515676700425\n",
      "39 = 0.0\n",
      "40 = 0.004138883702625646\n",
      "41 = 0.014866317478952512\n",
      "42 = 0.0031744125554421044\n",
      "43 = 0.004744397491695108\n",
      "44 = 0.014098672446107189\n",
      "45 = 0.0055928605812745535\n",
      "46 = 0.010311781750463557\n",
      "47 = 0.0038876719233415713\n",
      "48 = 0.0007182513186207342\n",
      "49 = 0.0009080328199094171\n",
      "50 = 0.011369013501878808\n",
      "51 = 0.002571430687172108\n",
      "52 = 0.009847041444052993\n",
      "53 = 0.0007735573869080547\n",
      "54 = 0.0053333006640684175\n",
      "55 = 0.005810743740673731\n",
      "56 = 0.006805028312804514\n",
      "57 = 0.002921536278761562\n",
      "58 = 0.003086508108190606\n",
      "59 = 0.0034772424320689706\n",
      "60 = 0.004987002751264348\n",
      "61 = 0.009971196165163381\n",
      "62 = 0.004916020070193041\n",
      "63 = 0.005347896402572167\n",
      "64 = 0.0016186394144954979\n",
      "65 = 0.007910281704847252\n",
      "66 = 0.0004246580507989781\n",
      "67 = 0.015832970625662558\n",
      "68 = 0.006052976519840809\n",
      "69 = 0.009599223410551338\n",
      "70 = 0.005155365981090029\n",
      "71 = 0.008725554778160161\n",
      "72 = 0.0029239336245511596\n",
      "73 = 0.0025259276059217527\n",
      "74 = 0.0\n",
      "75 = 0.0027513519529710887\n",
      "76 = 0.00249533197243819\n",
      "77 = 0.004257301364933573\n",
      "78 = 0.002294807073638861\n",
      "79 = 0.0074973800236269785\n",
      "80 = 0.0\n",
      "81 = 0.001978976816990468\n",
      "82 = 0.004125681435263309\n",
      "83 = 0.003562454783044245\n",
      "84 = 0.0034173916881437326\n",
      "85 = 0.005357687964640897\n",
      "86 = 0.011775671541597942\n",
      "87 = 0.0015733208811578455\n",
      "88 = 0.005383587825704951\n",
      "89 = 0.02701894734476909\n",
      "90 = 0.0013894146569512517\n",
      "91 = 0.01898372273211943\n",
      "92 = 0.00382749082677357\n",
      "93 = 0.007822321584336614\n",
      "94 = 0.001415438048602532\n",
      "95 = 0.008710078084412229\n",
      "96 = 0.006530716791549926\n",
      "97 = 0.0034005828207674207\n",
      "98 = 0.008368703792959847\n",
      "99 = 0.014468011727735866\n",
      "100 = 0.002862566698644019\n",
      "101 = 0.004397546251477747\n",
      "102 = 0.0014742623557456886\n",
      "103 = 0.007173161154629182\n",
      "104 = 0.004696997048891786\n",
      "105 = 0.005165254340551078\n",
      "106 = 0.0037439352424388206\n",
      "107 = 0.01223177719713705\n",
      "108 = 0.008941608163237674\n",
      "109 = 0.0031659713691686063\n",
      "110 = 0.0032253413644140307\n",
      "111 = 0.0032088386375796626\n",
      "112 = 0.0\n",
      "113 = 0.0031028416875861524\n",
      "114 = 0.0010095908974071693\n",
      "115 = 0.009859141469530663\n",
      "116 = 0.004740261210770964\n",
      "117 = 0.0007268904487743887\n",
      "118 = 0.006345697091755304\n",
      "119 = 0.008631201067138924\n",
      "120 = 0.006279999109914473\n",
      "121 = 0.0044398085012488184\n",
      "122 = 0.0\n",
      "123 = 0.0\n",
      "124 = 0.003595452418941881\n",
      "125 = 0.0\n",
      "126 = 0.0\n",
      "127 = 0.005541269335354414\n",
      "128 = 0.01244877857208723\n",
      "129 = 0.0031214955923976736\n",
      "130 = 0.008151624118102847\n",
      "131 = 0.0029255832047008724\n",
      "132 = 0.013373874689677597\n",
      "133 = 0.004387237050170695\n",
      "134 = 0.0017132579517827914\n",
      "135 = 0.005463535950942176\n",
      "136 = 0.0\n",
      "137 = 0.0018246122271917287\n",
      "138 = 0.0\n",
      "139 = 0.014729298185360293\n",
      "140 = 0.0038798329989950197\n",
      "141 = 0.00309354070661649\n",
      "142 = 0.0073449354824924205\n",
      "143 = 0.00742516537111204\n",
      "144 = 0.007630183783805136\n",
      "145 = 0.00270198073766332\n",
      "146 = 0.0022444602981559663\n",
      "147 = 0.003925938253923406\n",
      "148 = 0.013814879572914867\n",
      "149 = 0.0016430409801691988\n",
      "150 = 0.0015294107431155584\n",
      "151 = 0.0042906000871233635\n",
      "152 = 0.0\n",
      "153 = 0.023305212985896172\n",
      "154 = 0.0023573005251349816\n",
      "155 = 0.0016097223101020277\n",
      "156 = 0.0029334998081187733\n",
      "157 = 0.003401385777055088\n",
      "158 = 0.008503586358612704\n",
      "159 = 0.00208269634379548\n",
      "160 = 0.002637647096955226\n",
      "161 = 0.0\n",
      "162 = 0.0\n",
      "163 = 0.00480479200115619\n",
      "164 = 0.010185328607596114\n",
      "165 = 0.0020387649388309927\n",
      "166 = 0.0043536959944937125\n",
      "167 = 0.0065586767290358745\n",
      "168 = 0.002720893486224603\n",
      "169 = 0.0004246580507989781\n",
      "170 = 0.0037446446530920224\n",
      "171 = 0.0061609032034621635\n",
      "172 = 0.007310229064040666\n",
      "173 = 0.006217005673419815\n",
      "174 = 0.0064463764336588625\n",
      "175 = 0.015099593959438804\n",
      "176 = 0.002553190695573017\n",
      "177 = 0.0009291415010477151\n",
      "178 = 0.004153226525050284\n",
      "179 = 0.007133633706883956\n",
      "180 = 0.010300546437997174\n",
      "181 = 0.0018280062933895987\n",
      "182 = 0.018716143047606132\n",
      "183 = 0.0035828534896475534\n",
      "184 = 0.010470835243441352\n",
      "185 = 0.0023347641776948246\n",
      "186 = 0.00893332598453887\n",
      "187 = 0.0034575622309716758\n",
      "188 = 0.0034523036236944965\n",
      "189 = 0.0016548722640367243\n",
      "190 = 0.0075512540020298185\n",
      "191 = 0.0026552661797280726\n",
      "192 = 0.009293531196195737\n",
      "193 = 0.003523118349979948\n",
      "194 = 0.0012391786236776495\n",
      "195 = 0.003995152370326859\n",
      "196 = 0.0020946709006980733\n",
      "197 = 0.012080311685622108\n",
      "198 = 0.0\n",
      "199 = 0.002877416633287917\n"
     ]
    }
   ],
   "source": [
    "# Through the created model we can see which attributes are the most significant to make a decision.\n",
    "# The most relevant attributes will be the ones placed at the top of the tree.\n",
    "features = list(X)\n",
    "importances = model.feature_importances_\n",
    "indices = np.argsort(importances)\n",
    "\n",
    "plt.title('Attribute relevance')\n",
    "plt.barh(range(len(indices)), importances[indices], color='b', align='center')\n",
    "plt.yticks(range(len(indices)), [features[i] for i in indices])\n",
    "plt.xlabel('Relative importance')\n",
    "plt.show()\n",
    "\n",
    "for name, importance in zip(X, model.feature_importances_):\n",
    "    print(name, \"=\", importance)\n",
    "\n",
    "# Attributes whose relevance is 0, will not be necessary to make the prediction of the target."
   ]
  }
 ],
 "metadata": {
  "kernelspec": {
   "display_name": "Python 3.8.8 ('base')",
   "language": "python",
   "name": "python3"
  },
  "language_info": {
   "codemirror_mode": {
    "name": "ipython",
    "version": 3
   },
   "file_extension": ".py",
   "mimetype": "text/x-python",
   "name": "python",
   "nbconvert_exporter": "python",
   "pygments_lexer": "ipython3",
   "version": "3.9.13"
  },
  "orig_nbformat": 4,
  "vscode": {
   "interpreter": {
    "hash": "8be240dc937e61b542e412c89351978950720d3fde5a0c37c158fb19f149fb89"
   }
  }
 },
 "nbformat": 4,
 "nbformat_minor": 2
}
