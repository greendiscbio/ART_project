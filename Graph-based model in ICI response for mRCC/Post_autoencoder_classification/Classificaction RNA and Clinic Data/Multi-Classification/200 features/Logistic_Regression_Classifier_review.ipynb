{
 "cells": [
  {
   "cell_type": "markdown",
   "metadata": {},
   "source": [
    "# Classification model using Decision Tree"
   ]
  },
  {
   "cell_type": "markdown",
   "metadata": {},
   "source": [
    "### 1. Import libraries"
   ]
  },
  {
   "cell_type": "code",
   "execution_count": 1,
   "metadata": {},
   "outputs": [],
   "source": [
    "import pandas as pd\n",
    "import numpy as np\n",
    "import matplotlib.pyplot as plt\n",
    "from sklearn.linear_model import LogisticRegression\n",
    "from sklearn.model_selection import train_test_split\n",
    "from sklearn import model_selection\n",
    "from sklearn.metrics import classification_report\n",
    "from sklearn.metrics import confusion_matrix\n",
    "from sklearn.model_selection import GridSearchCV"
   ]
  },
  {
   "cell_type": "markdown",
   "metadata": {},
   "source": [
    "### 2. Upload Clinic data"
   ]
  },
  {
   "cell_type": "code",
   "execution_count": 2,
   "metadata": {},
   "outputs": [
    {
     "data": {
      "text/html": [
       "<div>\n",
       "<style scoped>\n",
       "    .dataframe tbody tr th:only-of-type {\n",
       "        vertical-align: middle;\n",
       "    }\n",
       "\n",
       "    .dataframe tbody tr th {\n",
       "        vertical-align: top;\n",
       "    }\n",
       "\n",
       "    .dataframe thead th {\n",
       "        text-align: right;\n",
       "    }\n",
       "</style>\n",
       "<table border=\"1\" class=\"dataframe\">\n",
       "  <thead>\n",
       "    <tr style=\"text-align: right;\">\n",
       "      <th></th>\n",
       "      <th>Target</th>\n",
       "      <th>0</th>\n",
       "      <th>1</th>\n",
       "      <th>2</th>\n",
       "      <th>3</th>\n",
       "      <th>4</th>\n",
       "      <th>5</th>\n",
       "      <th>6</th>\n",
       "      <th>7</th>\n",
       "      <th>8</th>\n",
       "      <th>...</th>\n",
       "      <th>190</th>\n",
       "      <th>191</th>\n",
       "      <th>192</th>\n",
       "      <th>193</th>\n",
       "      <th>194</th>\n",
       "      <th>195</th>\n",
       "      <th>196</th>\n",
       "      <th>197</th>\n",
       "      <th>198</th>\n",
       "      <th>199</th>\n",
       "    </tr>\n",
       "  </thead>\n",
       "  <tbody>\n",
       "    <tr>\n",
       "      <th>0</th>\n",
       "      <td>2</td>\n",
       "      <td>0.090383</td>\n",
       "      <td>-0.649882</td>\n",
       "      <td>-0.316971</td>\n",
       "      <td>0.177905</td>\n",
       "      <td>-0.953876</td>\n",
       "      <td>0.335641</td>\n",
       "      <td>0.547794</td>\n",
       "      <td>-0.553937</td>\n",
       "      <td>0.110278</td>\n",
       "      <td>...</td>\n",
       "      <td>2.092920</td>\n",
       "      <td>-0.902635</td>\n",
       "      <td>-1.113107</td>\n",
       "      <td>-0.413884</td>\n",
       "      <td>-0.589024</td>\n",
       "      <td>1.206955</td>\n",
       "      <td>-0.300583</td>\n",
       "      <td>0.270012</td>\n",
       "      <td>-0.130936</td>\n",
       "      <td>0.180399</td>\n",
       "    </tr>\n",
       "    <tr>\n",
       "      <th>1</th>\n",
       "      <td>1</td>\n",
       "      <td>0.477048</td>\n",
       "      <td>-2.020710</td>\n",
       "      <td>1.091671</td>\n",
       "      <td>1.287272</td>\n",
       "      <td>-0.363761</td>\n",
       "      <td>0.754296</td>\n",
       "      <td>0.507876</td>\n",
       "      <td>0.777283</td>\n",
       "      <td>-1.120030</td>\n",
       "      <td>...</td>\n",
       "      <td>0.697679</td>\n",
       "      <td>0.224512</td>\n",
       "      <td>-1.192957</td>\n",
       "      <td>0.061010</td>\n",
       "      <td>0.960343</td>\n",
       "      <td>0.241303</td>\n",
       "      <td>0.719193</td>\n",
       "      <td>0.983675</td>\n",
       "      <td>-1.161567</td>\n",
       "      <td>-0.246087</td>\n",
       "    </tr>\n",
       "    <tr>\n",
       "      <th>2</th>\n",
       "      <td>2</td>\n",
       "      <td>0.635105</td>\n",
       "      <td>-1.455384</td>\n",
       "      <td>1.860401</td>\n",
       "      <td>0.632697</td>\n",
       "      <td>-0.930232</td>\n",
       "      <td>0.295499</td>\n",
       "      <td>0.756204</td>\n",
       "      <td>0.523225</td>\n",
       "      <td>-2.107392</td>\n",
       "      <td>...</td>\n",
       "      <td>0.579307</td>\n",
       "      <td>-1.044159</td>\n",
       "      <td>-1.480045</td>\n",
       "      <td>-0.010595</td>\n",
       "      <td>0.363854</td>\n",
       "      <td>0.695291</td>\n",
       "      <td>-0.760165</td>\n",
       "      <td>0.963433</td>\n",
       "      <td>-1.901634</td>\n",
       "      <td>-0.315921</td>\n",
       "    </tr>\n",
       "    <tr>\n",
       "      <th>3</th>\n",
       "      <td>0</td>\n",
       "      <td>0.961507</td>\n",
       "      <td>-2.004696</td>\n",
       "      <td>0.853696</td>\n",
       "      <td>1.317209</td>\n",
       "      <td>-0.583800</td>\n",
       "      <td>1.132528</td>\n",
       "      <td>0.550134</td>\n",
       "      <td>0.217618</td>\n",
       "      <td>-1.552470</td>\n",
       "      <td>...</td>\n",
       "      <td>1.360498</td>\n",
       "      <td>-0.087889</td>\n",
       "      <td>-1.876129</td>\n",
       "      <td>0.023887</td>\n",
       "      <td>0.442273</td>\n",
       "      <td>1.212686</td>\n",
       "      <td>-0.353484</td>\n",
       "      <td>0.908717</td>\n",
       "      <td>-1.918175</td>\n",
       "      <td>-0.237121</td>\n",
       "    </tr>\n",
       "    <tr>\n",
       "      <th>4</th>\n",
       "      <td>1</td>\n",
       "      <td>-0.525586</td>\n",
       "      <td>-1.646895</td>\n",
       "      <td>0.137172</td>\n",
       "      <td>0.377502</td>\n",
       "      <td>-0.305213</td>\n",
       "      <td>0.422324</td>\n",
       "      <td>0.282720</td>\n",
       "      <td>-0.810817</td>\n",
       "      <td>-2.396630</td>\n",
       "      <td>...</td>\n",
       "      <td>1.815167</td>\n",
       "      <td>-2.681982</td>\n",
       "      <td>-0.615784</td>\n",
       "      <td>-0.857696</td>\n",
       "      <td>-2.062510</td>\n",
       "      <td>0.060919</td>\n",
       "      <td>-0.826840</td>\n",
       "      <td>1.522230</td>\n",
       "      <td>-1.236770</td>\n",
       "      <td>0.269057</td>\n",
       "    </tr>\n",
       "  </tbody>\n",
       "</table>\n",
       "<p>5 rows × 201 columns</p>\n",
       "</div>"
      ],
      "text/plain": [
       "   Target         0         1         2         3         4         5  \\\n",
       "0       2  0.090383 -0.649882 -0.316971  0.177905 -0.953876  0.335641   \n",
       "1       1  0.477048 -2.020710  1.091671  1.287272 -0.363761  0.754296   \n",
       "2       2  0.635105 -1.455384  1.860401  0.632697 -0.930232  0.295499   \n",
       "3       0  0.961507 -2.004696  0.853696  1.317209 -0.583800  1.132528   \n",
       "4       1 -0.525586 -1.646895  0.137172  0.377502 -0.305213  0.422324   \n",
       "\n",
       "          6         7         8  ...       190       191       192       193  \\\n",
       "0  0.547794 -0.553937  0.110278  ...  2.092920 -0.902635 -1.113107 -0.413884   \n",
       "1  0.507876  0.777283 -1.120030  ...  0.697679  0.224512 -1.192957  0.061010   \n",
       "2  0.756204  0.523225 -2.107392  ...  0.579307 -1.044159 -1.480045 -0.010595   \n",
       "3  0.550134  0.217618 -1.552470  ...  1.360498 -0.087889 -1.876129  0.023887   \n",
       "4  0.282720 -0.810817 -2.396630  ...  1.815167 -2.681982 -0.615784 -0.857696   \n",
       "\n",
       "        194       195       196       197       198       199  \n",
       "0 -0.589024  1.206955 -0.300583  0.270012 -0.130936  0.180399  \n",
       "1  0.960343  0.241303  0.719193  0.983675 -1.161567 -0.246087  \n",
       "2  0.363854  0.695291 -0.760165  0.963433 -1.901634 -0.315921  \n",
       "3  0.442273  1.212686 -0.353484  0.908717 -1.918175 -0.237121  \n",
       "4 -2.062510  0.060919 -0.826840  1.522230 -1.236770  0.269057  \n",
       "\n",
       "[5 rows x 201 columns]"
      ]
     },
     "execution_count": 2,
     "metadata": {},
     "output_type": "execute_result"
    }
   ],
   "source": [
    "path =\"../../../../Data_preprocessing/RNA_post_autoencoder/encoded_data_multiclass_200_review.csv\"\n",
    "data = pd.read_csv(path)\n",
    "data.reset_index\n",
    "data.round(4)\n",
    "data=data.iloc[:,1:202  ] \n",
    "data.head()"
   ]
  },
  {
   "cell_type": "code",
   "execution_count": 3,
   "metadata": {},
   "outputs": [
    {
     "name": "stdout",
     "output_type": "stream",
     "text": [
      "            0         1         2         3         4         5         6  \\\n",
      "0    0.090383 -0.649882 -0.316971  0.177905 -0.953876  0.335641  0.547794   \n",
      "1    0.477048 -2.020710  1.091671  1.287272 -0.363761  0.754296  0.507876   \n",
      "2    0.635105 -1.455384  1.860401  0.632697 -0.930232  0.295499  0.756204   \n",
      "3    0.961507 -2.004696  0.853696  1.317209 -0.583800  1.132528  0.550134   \n",
      "4   -0.525586 -1.646895  0.137172  0.377502 -0.305213  0.422324  0.282720   \n",
      "..        ...       ...       ...       ...       ...       ...       ...   \n",
      "176  0.236947 -1.546189  0.735707  0.337749 -0.865903  0.177455  0.514749   \n",
      "177  0.524165 -2.116409 -0.105561  0.699807 -0.680601  0.442997  0.912442   \n",
      "178  0.392108 -1.538342  1.038728  0.582032 -0.505431 -0.056508  0.191502   \n",
      "179 -0.151722 -1.736164  0.687119  0.422451 -0.804183 -0.165308  0.940421   \n",
      "180  0.356281 -1.524765  0.030108 -0.003902 -0.441868 -0.106647  0.691161   \n",
      "\n",
      "            7         8         9  ...       190       191       192  \\\n",
      "0   -0.553937  0.110278 -0.340309  ...  2.092920 -0.902635 -1.113107   \n",
      "1    0.777283 -1.120030  0.078454  ...  0.697679  0.224512 -1.192957   \n",
      "2    0.523225 -2.107392 -0.491757  ...  0.579307 -1.044159 -1.480045   \n",
      "3    0.217618 -1.552470  0.434180  ...  1.360498 -0.087889 -1.876129   \n",
      "4   -0.810817 -2.396630 -0.747489  ...  1.815167 -2.681982 -0.615784   \n",
      "..        ...       ...       ...  ...       ...       ...       ...   \n",
      "176  0.006039 -0.921875  0.247640  ...  1.438450 -1.301244 -1.023877   \n",
      "177  0.584159 -1.053032 -0.457713  ...  1.317085 -0.953427 -2.633913   \n",
      "178 -0.117068 -0.903066  0.401428  ...  1.547444 -1.737809 -1.318536   \n",
      "179 -0.103119 -0.662575 -0.151189  ...  1.449355 -0.555791 -1.007662   \n",
      "180 -0.041601 -0.326761 -0.446146  ...  1.316153 -1.707070 -1.668162   \n",
      "\n",
      "          193       194       195       196       197       198       199  \n",
      "0   -0.413884 -0.589024  1.206955 -0.300583  0.270012 -0.130936  0.180399  \n",
      "1    0.061010  0.960343  0.241303  0.719193  0.983675 -1.161567 -0.246087  \n",
      "2   -0.010595  0.363854  0.695291 -0.760165  0.963433 -1.901634 -0.315921  \n",
      "3    0.023887  0.442273  1.212686 -0.353484  0.908717 -1.918175 -0.237121  \n",
      "4   -0.857696 -2.062510  0.060919 -0.826840  1.522230 -1.236770  0.269057  \n",
      "..        ...       ...       ...       ...       ...       ...       ...  \n",
      "176 -0.429384 -0.939861  0.032495 -0.425220  0.554880 -1.002882 -0.635642  \n",
      "177  0.097942 -0.173137  2.190059 -0.348758  0.066746 -1.267687  0.551087  \n",
      "178 -0.085818 -0.658511  0.593231 -0.503926  1.005043 -0.283248 -0.316670  \n",
      "179 -0.379310 -0.706432 -0.177801  0.061601  0.495537 -0.708634 -0.372712  \n",
      "180 -0.200580 -0.768955  1.132509 -1.121062  0.064541 -0.540225 -0.159412  \n",
      "\n",
      "[181 rows x 200 columns]\n",
      "Numero de pacientes:  181\n"
     ]
    }
   ],
   "source": [
    "Y = data.Target # Target column\n",
    "\n",
    "X = data.iloc[:,1:202] # I selected all the columns by removing the Unnamed column (row id) and the Target column.\n",
    "\n",
    "\n",
    "print(X)\n",
    "print('Numero de pacientes: ',len(Y))"
   ]
  },
  {
   "cell_type": "code",
   "execution_count": 4,
   "metadata": {},
   "outputs": [
    {
     "name": "stdout",
     "output_type": "stream",
     "text": [
      "Training set size: 144\n",
      "Target column size of the training set: 144\n",
      "Test set size: 37\n",
      "Target column size of the test set: 37\n"
     ]
    }
   ],
   "source": [
    "X_train, X_test, y_train, y_test = train_test_split(X, Y, test_size=0.2, random_state=125, stratify=Y)\n",
    "yTrain=y_train.to_numpy()\n",
    "yTest=y_test.to_numpy()\n",
    "\n",
    "print('Training set size:', len(X_train))\n",
    "print('Target column size of the training set:', len(y_train))\n",
    "print('Test set size:', len(X_test))\n",
    "print('Target column size of the test set:', len(y_test))"
   ]
  },
  {
   "cell_type": "markdown",
   "metadata": {},
   "source": [
    "### 4. Select the parameters of the model and fit it"
   ]
  },
  {
   "cell_type": "code",
   "execution_count": 5,
   "metadata": {},
   "outputs": [
    {
     "data": {
      "text/plain": [
       "GridSearchCV(cv=5, estimator=LogisticRegression(),\n",
       "             param_grid={'C': [1, 2, 5, 7, 10],\n",
       "                         'max_iter': [100, 200, 300, 400, 500, 600, 700, 800,\n",
       "                                      900, 1000, 2000, 3000, 4000, 5000,\n",
       "                                      20000],\n",
       "                         'random_state': [125],\n",
       "                         'solver': ['newton-cg', 'liblinear']})"
      ]
     },
     "execution_count": 5,
     "metadata": {},
     "output_type": "execute_result"
    }
   ],
   "source": [
    "param_grid = {'C': [1,2,5,7,10],\n",
    "            'solver': ['newton-cg','liblinear'],  \n",
    "            'max_iter':[100,200,300,400,500,600,700,800,900,1000,2000,3000, 4000,5000,20000],\n",
    "            'random_state':[125]}\n",
    "\n",
    "# Creamos un GridSearchCV que permite evaluar y seleccionar de forma sistemática los parámetros de nuestro modelo. \n",
    "# Indicándole un modelo y los parámetros a probar, puede evaluar el rendimiento del primero en función de los \n",
    "# segundos mediante validación cruzada.  \n",
    "clf = GridSearchCV(LogisticRegression(), param_grid, cv = 5)\n",
    "clf.fit(X_train , y_train)"
   ]
  },
  {
   "cell_type": "code",
   "execution_count": 6,
   "metadata": {},
   "outputs": [
    {
     "name": "stdout",
     "output_type": "stream",
     "text": [
      "Best estimate of parameters according to GridSearchCV:\n"
     ]
    },
    {
     "data": {
      "text/plain": [
       "LogisticRegression(C=5, random_state=125, solver='liblinear')"
      ]
     },
     "execution_count": 6,
     "metadata": {},
     "output_type": "execute_result"
    }
   ],
   "source": [
    "print(\"Best estimate of parameters according to GridSearchCV:\")\n",
    "model = clf.best_estimator_\n",
    "# Fit the model with the best parameters\n",
    "model.fit(X_train , y_train)"
   ]
  },
  {
   "cell_type": "code",
   "execution_count": 7,
   "metadata": {},
   "outputs": [
    {
     "name": "stdout",
     "output_type": "stream",
     "text": [
      "Best result of the cross validation of the model with the best paramters:0.4798029556650246\n"
     ]
    }
   ],
   "source": [
    "print(\"Best result of the cross validation of the model with the best paramters:\" +str(clf.best_score_))"
   ]
  },
  {
   "cell_type": "code",
   "execution_count": 8,
   "metadata": {},
   "outputs": [],
   "source": [
    "# Making predictions with the optimal model on the training dataset\n",
    "yhatTrain = model.predict(X_train)\n",
    "contTrain = 0\n",
    "y_train=y_train.to_numpy()\n",
    "# Comparing with the Target column and check how many hits there have been\n",
    "for i in range(0,len(y_train),1) :\n",
    "    if (yhatTrain[i] == y_train[i]):\n",
    "        contTrain = contTrain + 1"
   ]
  },
  {
   "cell_type": "code",
   "execution_count": 9,
   "metadata": {},
   "outputs": [],
   "source": [
    "# Making predictions with the optimal model on the test dataset\n",
    "yhatTest = model.predict(X_test)\n",
    "contTest = 0\n",
    "y_test=y_test.to_numpy()\n",
    "# Comparing with the Target column and check how many hits there have been\n",
    "for i in range(0,len(y_test),1) :\n",
    "    if (yhatTest[i] == y_test[i]):\n",
    "        contTest = contTest + 1"
   ]
  },
  {
   "cell_type": "code",
   "execution_count": 10,
   "metadata": {},
   "outputs": [
    {
     "name": "stdout",
     "output_type": "stream",
     "text": [
      "Final accuracy on the training dataset:0.9722222222222222\n",
      "Final accuracy on the testing dataset: 0.35135135135135137\n"
     ]
    }
   ],
   "source": [
    "print('Final accuracy on the training dataset:' + str(contTrain/len(y_train)))\n",
    "print('Final accuracy on the testing dataset: ' + str(contTest/len(y_test)))"
   ]
  },
  {
   "cell_type": "code",
   "execution_count": 11,
   "metadata": {},
   "outputs": [
    {
     "name": "stdout",
     "output_type": "stream",
     "text": [
      "----------------Confusion Matrix (Training)------------------\n",
      "[[66  0  1]\n",
      " [ 2 23  0]\n",
      " [ 1  0 51]]\n",
      "Input data:  [1 0 2 0 2 2 0 0 2 0 2 0 1 0 2 2 0 2 2 2 0 0 0 2 0 0 0 0 1 1 2 2 2 2 0 1 2\n",
      " 0 0 2 1 2 2 1 0 0 2 2 1 0 0 0 2 0 0 2 0 2 1 2 0 2 1 0 0 0 0 2 2 2 0 2 0 0\n",
      " 0 2 0 2 0 0 0 1 2 0 0 1 2 2 1 1 0 2 0 2 0 0 1 0 1 0 0 2 0 0 2 2 2 1 0 2 2\n",
      " 1 2 0 1 0 0 0 2 0 1 0 2 0 0 2 1 1 0 0 0 2 0 1 0 0 0 2 2 2 1 2 0 1]\n",
      "Prediction:        [1 0 2 0 2 2 0 0 2 0 2 0 1 0 2 2 0 2 0 2 0 0 0 2 0 0 0 0 1 1 2 2 2 2 0 1 2\n",
      " 0 0 2 0 2 2 1 0 0 2 2 1 0 0 0 2 0 0 2 0 2 1 2 0 2 1 0 0 0 0 2 2 2 0 2 0 0\n",
      " 0 2 0 2 0 0 0 1 2 0 0 1 2 2 1 0 0 2 0 2 0 0 1 0 1 0 0 2 0 0 2 2 2 1 0 2 2\n",
      " 1 2 0 1 0 0 0 2 0 1 0 2 0 0 2 1 1 0 0 2 2 0 1 0 0 0 2 2 2 1 2 0 1]\n"
     ]
    }
   ],
   "source": [
    "from sklearn.metrics import classification_report,confusion_matrix\n",
    "\n",
    "print('----------------Confusion Matrix (Training)------------------')\n",
    "print(confusion_matrix(y_train,yhatTrain))\n",
    "print('Input data:  ' + str(np.array(y_train)))\n",
    "print('Prediction:        ' +str(yhatTrain))"
   ]
  },
  {
   "cell_type": "code",
   "execution_count": 12,
   "metadata": {},
   "outputs": [
    {
     "name": "stdout",
     "output_type": "stream",
     "text": [
      "              precision    recall  f1-score   support\n",
      "\n",
      "           0       0.96      0.99      0.97        67\n",
      "           1       1.00      0.92      0.96        25\n",
      "           2       0.98      0.98      0.98        52\n",
      "\n",
      "    accuracy                           0.97       144\n",
      "   macro avg       0.98      0.96      0.97       144\n",
      "weighted avg       0.97      0.97      0.97       144\n",
      "\n"
     ]
    }
   ],
   "source": [
    "print(classification_report(y_train,yhatTrain))"
   ]
  },
  {
   "cell_type": "code",
   "execution_count": 13,
   "metadata": {},
   "outputs": [
    {
     "name": "stdout",
     "output_type": "stream",
     "text": [
      "----------------Confusion Matrix (Test)------------------\n",
      "[[9 4 5]\n",
      " [2 1 3]\n",
      " [7 3 3]]\n",
      "Input data:  [0 1 0 2 0 2 1 0 1 0 2 2 1 2 2 0 1 2 0 0 0 2 1 0 0 2 0 2 2 0 0 0 2 2 0 0 0]\n",
      "Prediction:        [0 1 0 0 2 2 2 1 0 0 1 0 0 2 0 1 2 2 0 2 1 1 2 1 0 0 0 0 1 2 0 2 0 0 0 2 0]\n"
     ]
    }
   ],
   "source": [
    "print('----------------Confusion Matrix (Test)------------------')\n",
    "print(confusion_matrix(y_test,yhatTest))\n",
    "print('Input data:  ' + str(np.array(y_test)))\n",
    "print('Prediction:        ' +str(yhatTest))"
   ]
  },
  {
   "cell_type": "code",
   "execution_count": 14,
   "metadata": {},
   "outputs": [
    {
     "name": "stdout",
     "output_type": "stream",
     "text": [
      "              precision    recall  f1-score   support\n",
      "\n",
      "           0       0.50      0.50      0.50        18\n",
      "           1       0.12      0.17      0.14         6\n",
      "           2       0.27      0.23      0.25        13\n",
      "\n",
      "    accuracy                           0.35        37\n",
      "   macro avg       0.30      0.30      0.30        37\n",
      "weighted avg       0.36      0.35      0.35        37\n",
      "\n"
     ]
    }
   ],
   "source": [
    "print(classification_report(y_test, yhatTest))"
   ]
  }
 ],
 "metadata": {
  "kernelspec": {
   "display_name": "Python 3.9.13 64-bit (microsoft store)",
   "language": "python",
   "name": "python3"
  },
  "language_info": {
   "codemirror_mode": {
    "name": "ipython",
    "version": 3
   },
   "file_extension": ".py",
   "mimetype": "text/x-python",
   "name": "python",
   "nbconvert_exporter": "python",
   "pygments_lexer": "ipython3",
   "version": "3.9.13"
  },
  "orig_nbformat": 4,
  "vscode": {
   "interpreter": {
    "hash": "fb15f1e0f376981e7b6e1fc44ae8b8146823f10f258bcd6e448b0230b889fc06"
   }
  }
 },
 "nbformat": 4,
 "nbformat_minor": 2
}
