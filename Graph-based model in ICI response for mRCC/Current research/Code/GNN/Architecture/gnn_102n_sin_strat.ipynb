{
  "cells": [
    {
      "cell_type": "markdown",
      "metadata": {
        "id": "lC1yqJaZPINt"
      },
      "source": [
        "# 1. Instalar librerias\n",
        "\n"
      ]
    },
    {
      "cell_type": "code",
      "execution_count": 161,
      "metadata": {
        "colab": {
          "base_uri": "https://localhost:8080/"
        },
        "id": "SCvXPU7Wtwln",
        "outputId": "5f70827e-c282-41c7-d468-1086cbfb8695"
      },
      "outputs": [
        {
          "name": "stdout",
          "output_type": "stream",
          "text": [
            "Looking in indexes: https://pypi.org/simple, https://us-python.pkg.dev/colab-wheels/public/simple/\n",
            "Requirement already satisfied: torch-scatter in /usr/local/lib/python3.7/dist-packages (2.0.9)\n"
          ]
        }
      ],
      "source": [
        "pip install torch-scatter"
      ]
    },
    {
      "cell_type": "code",
      "execution_count": 162,
      "metadata": {
        "colab": {
          "base_uri": "https://localhost:8080/"
        },
        "id": "6LME1Y91tzVE",
        "outputId": "685418a9-6dc0-4d57-ac5e-e8b97f14dbe6"
      },
      "outputs": [
        {
          "name": "stdout",
          "output_type": "stream",
          "text": [
            "Looking in indexes: https://pypi.org/simple, https://us-python.pkg.dev/colab-wheels/public/simple/\n",
            "Requirement already satisfied: torch-sparse in /usr/local/lib/python3.7/dist-packages (0.6.15)\n",
            "Requirement already satisfied: scipy in /usr/local/lib/python3.7/dist-packages (from torch-sparse) (1.7.3)\n",
            "Requirement already satisfied: numpy<1.23.0,>=1.16.5 in /usr/local/lib/python3.7/dist-packages (from scipy->torch-sparse) (1.21.6)\n"
          ]
        }
      ],
      "source": [
        "pip install torch-sparse"
      ]
    },
    {
      "cell_type": "code",
      "execution_count": 163,
      "metadata": {
        "colab": {
          "base_uri": "https://localhost:8080/"
        },
        "id": "tt157k-3t1VD",
        "outputId": "99904be0-4e91-49a3-b3aa-de1660416a03"
      },
      "outputs": [
        {
          "name": "stdout",
          "output_type": "stream",
          "text": [
            "Looking in indexes: https://pypi.org/simple, https://us-python.pkg.dev/colab-wheels/public/simple/\n",
            "Requirement already satisfied: torch-geometric in /usr/local/lib/python3.7/dist-packages (2.1.0.post1)\n",
            "Requirement already satisfied: jinja2 in /usr/local/lib/python3.7/dist-packages (from torch-geometric) (2.11.3)\n",
            "Requirement already satisfied: requests in /usr/local/lib/python3.7/dist-packages (from torch-geometric) (2.23.0)\n",
            "Requirement already satisfied: pyparsing in /usr/local/lib/python3.7/dist-packages (from torch-geometric) (3.0.9)\n",
            "Requirement already satisfied: scipy in /usr/local/lib/python3.7/dist-packages (from torch-geometric) (1.7.3)\n",
            "Requirement already satisfied: tqdm in /usr/local/lib/python3.7/dist-packages (from torch-geometric) (4.64.1)\n",
            "Requirement already satisfied: scikit-learn in /usr/local/lib/python3.7/dist-packages (from torch-geometric) (1.0.2)\n",
            "Requirement already satisfied: numpy in /usr/local/lib/python3.7/dist-packages (from torch-geometric) (1.21.6)\n",
            "Requirement already satisfied: MarkupSafe>=0.23 in /usr/local/lib/python3.7/dist-packages (from jinja2->torch-geometric) (2.0.1)\n",
            "Requirement already satisfied: chardet<4,>=3.0.2 in /usr/local/lib/python3.7/dist-packages (from requests->torch-geometric) (3.0.4)\n",
            "Requirement already satisfied: idna<3,>=2.5 in /usr/local/lib/python3.7/dist-packages (from requests->torch-geometric) (2.10)\n",
            "Requirement already satisfied: urllib3!=1.25.0,!=1.25.1,<1.26,>=1.21.1 in /usr/local/lib/python3.7/dist-packages (from requests->torch-geometric) (1.24.3)\n",
            "Requirement already satisfied: certifi>=2017.4.17 in /usr/local/lib/python3.7/dist-packages (from requests->torch-geometric) (2022.9.24)\n",
            "Requirement already satisfied: threadpoolctl>=2.0.0 in /usr/local/lib/python3.7/dist-packages (from scikit-learn->torch-geometric) (3.1.0)\n",
            "Requirement already satisfied: joblib>=0.11 in /usr/local/lib/python3.7/dist-packages (from scikit-learn->torch-geometric) (1.2.0)\n"
          ]
        }
      ],
      "source": [
        "pip install torch-geometric"
      ]
    },
    {
      "cell_type": "markdown",
      "metadata": {
        "id": "nq4sGAzVPUJY"
      },
      "source": [
        "# 2. Crear dataset"
      ]
    },
    {
      "cell_type": "code",
      "execution_count": 164,
      "metadata": {
        "id": "r7QHvCssx_mH"
      },
      "outputs": [],
      "source": [
        "import torch\n",
        "from torch_geometric.data import Data\n",
        "import networkx as nx\n",
        "import numpy as np\n",
        "import matplotlib.pyplot as plt\n",
        "import pandas as pd\n",
        "import numpy as np"
      ]
    },
    {
      "cell_type": "code",
      "execution_count": 165,
      "metadata": {
        "colab": {
          "base_uri": "https://localhost:8080/"
        },
        "id": "ai0AKF5OG0oR",
        "outputId": "80edc6b1-e53c-48f0-91ce-6f1401c2a9ed"
      },
      "outputs": [
        {
          "name": "stdout",
          "output_type": "stream",
          "text": [
            "Drive already mounted at /content/drive; to attempt to forcibly remount, call drive.mount(\"/content/drive\", force_remount=True).\n"
          ]
        }
      ],
      "source": [
        "from google.colab import drive\n",
        "drive.mount('/content/drive')"
      ]
    },
    {
      "cell_type": "code",
      "execution_count": 166,
      "metadata": {
        "id": "oHbPJYt4G8xD"
      },
      "outputs": [],
      "source": [
        "genes = pd.read_csv('/content/drive/MyDrive/ART_Inv/Kinase_gene_matrix.csv')\n",
        "Y = pd.read_csv('/content/drive/MyDrive/ART_Inv/Kinase_gene_matrix_classification.csv')\n",
        "\n",
        "genes = genes.iloc[:,1:103] \n",
        "Y = Y.iloc[:,1:2] "
      ]
    },
    {
      "cell_type": "code",
      "execution_count": 167,
      "metadata": {
        "id": "-ZxQF6wFKflj"
      },
      "outputs": [],
      "source": [
        "edge_index = torch.tensor([[  1,   1,   1,   1,   2,   3,   3,   4,   5,   5,   5,   6,   8,\n",
        "         8,   8,   9,   9,  11,  12,  12,  13,  13,  13,  14,  15,  15,\n",
        "        15,  16,  16,  19,  19,  19,  20,  20,  20,  21,  21,  22,  22,\n",
        "        23,  23,  23,  25,  25,  25,  27,  27,  28,  29,  29,  33,  33,\n",
        "        34,  34,  35,  35,  35,  35,  35,  37,  38,  39,  39,  39,  39,\n",
        "        39,  39,  39,  39,  40,  40,  41,  41,  41,  42,  42,  43,  43,\n",
        "        43,  43,  43,  43,  43,  44,  44,  44,  44,  44,  44,  44,  44,\n",
        "        44,  45,  46,  47,  48,  48,  49,  49,  49,  49,  49,  49,  49,\n",
        "        49,  49,  50,  51,  51,  51,  51,  51,  51,  51,  52,  56,  56,\n",
        "        56,  56,  56,  56,  56,  57,  57,  57,  57,  57,  58,  58,  60,\n",
        "        61,  61,  61,  63,  63,  63,  63,  65,  66,  66,  66,  67,  68,\n",
        "        68,  68,  68,  68,  68,  69,  69,  69,  69,  69,  69,  69,  69,\n",
        "        70,  70,  70,  70,  70,  70,  70,  70,  70,  70,  70,  71,  71,\n",
        "        71,  71,  71,  71,  71,  72,  72,  72,  72,  73,  73,  73,  73,\n",
        "        73,  73,  73,  73,  74,  74,  74,  74,  74,  76,  76,  76,  76,\n",
        "        77,  78,  78,  78,  78,  78,  78,  78,  78,  78,  78,  78,  78,\n",
        "        78,  78,  78,  78,  78,  78,  78,  79,  79,  79,  79,  79,  79,\n",
        "        79,  79,  79,  79,  79,  79,  79,  79,  82,  82,  82,  82,  82,\n",
        "        82,  82,  83,  84,  85,  85,  85,  87,  89,  89,  89,  89,  90,\n",
        "        90,  90,  90,  93,  94,  95,  98,  98,  98,  98,  98,  98,  98,\n",
        "        99,  99, 101,  76,  78,  77,  79,  80,  71,  72,  72,  76,  71,\n",
        "         4,  80,  71,  73,  72,  72,  71,  10,  10,  11,  10,  11,  12,\n",
        "        11,  16,  11,  66,  11,  67,  58,  59,  18,  91,  19,  90,  18,\n",
        "        28,  44,  21,  33,  34,  35,  32,  47,  33,  28,  52,  24,  48,\n",
        "        27,  37,  99,  97,  26,  24,  36,  11,  26,  27, 100,  28,  21,\n",
        "        44,  94,  92,  90,  20,  93,  22,  24,  27,  54,  53,  55,  54,\n",
        "        34,  55,  88,  41,  23,  54,  53,  26,  17,  94,  47,  81,  92,\n",
        "        21,  20,  28,  93,  55,  55,  86,  24,  27,  52,  50,  40,  31,\n",
        "        48,  29,  30,  27,  51,  23,  35,  90,  50,  20,  48,  24,  40,\n",
        "        24,  90,  20,  59,  18,  58,  57,  19,  19,  59,  58,  18,  90,\n",
        "        18,  59,  59,  37,  64,  86,   9,  72,  61,  71,  61,  75,  76,\n",
        "        67,  75,  69,  66,  73,  74,  67,  75,  73,  67,  70,  76,  66,\n",
        "        75,  74,  78,  72,  73,  71,  66,   0,  62,   6,   5,   4,  77,\n",
        "        76,  77,   4,  62,   0,  76,   6,  72,  77,   0,   6,  76,  71,\n",
        "         3,   9,  76,  72,  66,  63,  67,  66,  67,  70,  73,  76,   0,\n",
        "        77,   7,   6,   0,  73,  71,   5,  76,   7,  74,   4,  79,  82,\n",
        "        77,   6,  72,   0,  70,  66,   3,   9,  63,   8,  82,   9,  76,\n",
        "         0,  72,   6,  70,   3,  77,   4,  63,  71,   8,  73,   9,  63,\n",
        "        73,  71,  80,  96,  72,  80,  86,  61,  37,  20,   3,  77,  76,\n",
        "        79,  78,  59,  58,  19,  18,  92,  92,  61,  43,  99, 100,  88,\n",
        "        33,  41,  37,  37, 100,  20],\n",
        "                           [ 76,  78,  77,  79,  80,  71,  72,  72,  76,  71,   4,  80,  71,\n",
        "        73,  72,  72,  71,  10,  10,  11,  10,  11,  12,  11,  16,  11,\n",
        "        66,  11,  67,  58,  59,  18,  91,  19,  90,  18,  28,  44,  21,\n",
        "        33,  34,  35,  32,  47,  33,  28,  52,  24,  48,  27,  37,  99,\n",
        "        97,  26,  24,  36,  11,  26,  27, 100,  28,  21,  44,  94,  92,\n",
        "        90,  20,  93,  22,  24,  27,  54,  53,  55,  54,  34,  55,  88,\n",
        "        41,  23,  54,  53,  26,  17,  94,  47,  81,  92,  21,  20,  28,\n",
        "        93,  55,  55,  86,  24,  27,  52,  50,  40,  31,  48,  29,  30,\n",
        "        27,  51,  23,  35,  90,  50,  20,  48,  24,  40,  24,  90,  20,\n",
        "        59,  18,  58,  57,  19,  19,  59,  58,  18,  90,  18,  59,  59,\n",
        "        37,  64,  86,   9,  72,  61,  71,  61,  75,  76,  67,  75,  69,\n",
        "        66,  73,  74,  67,  75,  73,  67,  70,  76,  66,  75,  74,  78,\n",
        "        72,  73,  71,  66,   0,  62,   6,   5,   4,  77,  76,  77,   4,\n",
        "        62,   0,  76,   6,  72,  77,   0,   6,  76,  71,   3,   9,  76,\n",
        "        72,  66,  63,  67,  66,  67,  70,  73,  76,   0,  77,   7,   6,\n",
        "         0,  73,  71,   5,  76,   7,  74,   4,  79,  82,  77,   6,  72,\n",
        "         0,  70,  66,   3,   9,  63,   8,  82,   9,  76,   0,  72,   6,\n",
        "        70,   3,  77,   4,  63,  71,   8,  73,   9,  63,  73,  71,  80,\n",
        "        96,  72,  80,  86,  61,  37,  20,   3,  77,  76,  79,  78,  59,\n",
        "        58,  19,  18,  92,  92,  61,  43,  99, 100,  88,  33,  41,  37,\n",
        "        37, 100,  20,   1,   1,   1,   1,   2,   3,   3,   4,   5,   5,\n",
        "         5,   6,   8,   8,   8,   9,   9,  11,  12,  12,  13,  13,  13,\n",
        "        14,  15,  15,  15,  16,  16,  19,  19,  19,  20,  20,  20,  21,\n",
        "        21,  22,  22,  23,  23,  23,  25,  25,  25,  27,  27,  28,  29,\n",
        "        29,  33,  33,  34,  34,  35,  35,  35,  35,  35,  37,  38,  39,\n",
        "        39,  39,  39,  39,  39,  39,  39,  40,  40,  41,  41,  41,  42,\n",
        "        42,  43,  43,  43,  43,  43,  43,  43,  44,  44,  44,  44,  44,\n",
        "        44,  44,  44,  44,  45,  46,  47,  48,  48,  49,  49,  49,  49,\n",
        "        49,  49,  49,  49,  49,  50,  51,  51,  51,  51,  51,  51,  51,\n",
        "        52,  56,  56,  56,  56,  56,  56,  56,  57,  57,  57,  57,  57,\n",
        "        58,  58,  60,  61,  61,  61,  63,  63,  63,  63,  65,  66,  66,\n",
        "        66,  67,  68,  68,  68,  68,  68,  68,  69,  69,  69,  69,  69,\n",
        "        69,  69,  69,  70,  70,  70,  70,  70,  70,  70,  70,  70,  70,\n",
        "        70,  71,  71,  71,  71,  71,  71,  71,  72,  72,  72,  72,  73,\n",
        "        73,  73,  73,  73,  73,  73,  73,  74,  74,  74,  74,  74,  76,\n",
        "        76,  76,  76,  77,  78,  78,  78,  78,  78,  78,  78,  78,  78,\n",
        "        78,  78,  78,  78,  78,  78,  78,  78,  78,  78,  79,  79,  79,\n",
        "        79,  79,  79,  79,  79,  79,  79,  79,  79,  79,  79,  82,  82,\n",
        "        82,  82,  82,  82,  82,  83,  84,  85,  85,  85,  87,  89,  89,\n",
        "        89,  89,  90,  90,  90,  90,  93,  94,  95,  98,  98,  98,  98,\n",
        "        98,  98,  98,  99,  99, 101]], dtype=torch.int64)"
      ]
    },
    {
      "cell_type": "code",
      "execution_count": 168,
      "metadata": {
        "colab": {
          "base_uri": "https://localhost:8080/"
        },
        "id": "7amtjIdoIsy6",
        "outputId": "73800d59-d653-4c63-a346-de1342d74a09"
      },
      "outputs": [
        {
          "name": "stdout",
          "output_type": "stream",
          "text": [
            "[Data(x=[102], edge_index=[2, 526], y=[1, 1]), Data(x=[102], edge_index=[2, 526], y=[1, 1]), Data(x=[102], edge_index=[2, 526], y=[1, 1]), Data(x=[102], edge_index=[2, 526], y=[1, 1]), Data(x=[102], edge_index=[2, 526], y=[1, 1]), Data(x=[102], edge_index=[2, 526], y=[1, 1]), Data(x=[102], edge_index=[2, 526], y=[1, 1]), Data(x=[102], edge_index=[2, 526], y=[1, 1]), Data(x=[102], edge_index=[2, 526], y=[1, 1]), Data(x=[102], edge_index=[2, 526], y=[1, 1]), Data(x=[102], edge_index=[2, 526], y=[1, 1]), Data(x=[102], edge_index=[2, 526], y=[1, 1]), Data(x=[102], edge_index=[2, 526], y=[1, 1]), Data(x=[102], edge_index=[2, 526], y=[1, 1]), Data(x=[102], edge_index=[2, 526], y=[1, 1]), Data(x=[102], edge_index=[2, 526], y=[1, 1]), Data(x=[102], edge_index=[2, 526], y=[1, 1]), Data(x=[102], edge_index=[2, 526], y=[1, 1]), Data(x=[102], edge_index=[2, 526], y=[1, 1]), Data(x=[102], edge_index=[2, 526], y=[1, 1]), Data(x=[102], edge_index=[2, 526], y=[1, 1]), Data(x=[102], edge_index=[2, 526], y=[1, 1]), Data(x=[102], edge_index=[2, 526], y=[1, 1]), Data(x=[102], edge_index=[2, 526], y=[1, 1]), Data(x=[102], edge_index=[2, 526], y=[1, 1]), Data(x=[102], edge_index=[2, 526], y=[1, 1]), Data(x=[102], edge_index=[2, 526], y=[1, 1]), Data(x=[102], edge_index=[2, 526], y=[1, 1]), Data(x=[102], edge_index=[2, 526], y=[1, 1]), Data(x=[102], edge_index=[2, 526], y=[1, 1]), Data(x=[102], edge_index=[2, 526], y=[1, 1]), Data(x=[102], edge_index=[2, 526], y=[1, 1]), Data(x=[102], edge_index=[2, 526], y=[1, 1]), Data(x=[102], edge_index=[2, 526], y=[1, 1]), Data(x=[102], edge_index=[2, 526], y=[1, 1]), Data(x=[102], edge_index=[2, 526], y=[1, 1]), Data(x=[102], edge_index=[2, 526], y=[1, 1]), Data(x=[102], edge_index=[2, 526], y=[1, 1]), Data(x=[102], edge_index=[2, 526], y=[1, 1]), Data(x=[102], edge_index=[2, 526], y=[1, 1]), Data(x=[102], edge_index=[2, 526], y=[1, 1]), Data(x=[102], edge_index=[2, 526], y=[1, 1]), Data(x=[102], edge_index=[2, 526], y=[1, 1]), Data(x=[102], edge_index=[2, 526], y=[1, 1]), Data(x=[102], edge_index=[2, 526], y=[1, 1]), Data(x=[102], edge_index=[2, 526], y=[1, 1]), Data(x=[102], edge_index=[2, 526], y=[1, 1]), Data(x=[102], edge_index=[2, 526], y=[1, 1]), Data(x=[102], edge_index=[2, 526], y=[1, 1]), Data(x=[102], edge_index=[2, 526], y=[1, 1]), Data(x=[102], edge_index=[2, 526], y=[1, 1]), Data(x=[102], edge_index=[2, 526], y=[1, 1]), Data(x=[102], edge_index=[2, 526], y=[1, 1]), Data(x=[102], edge_index=[2, 526], y=[1, 1]), Data(x=[102], edge_index=[2, 526], y=[1, 1]), Data(x=[102], edge_index=[2, 526], y=[1, 1]), Data(x=[102], edge_index=[2, 526], y=[1, 1]), Data(x=[102], edge_index=[2, 526], y=[1, 1]), Data(x=[102], edge_index=[2, 526], y=[1, 1]), Data(x=[102], edge_index=[2, 526], y=[1, 1]), Data(x=[102], edge_index=[2, 526], y=[1, 1]), Data(x=[102], edge_index=[2, 526], y=[1, 1]), Data(x=[102], edge_index=[2, 526], y=[1, 1]), Data(x=[102], edge_index=[2, 526], y=[1, 1]), Data(x=[102], edge_index=[2, 526], y=[1, 1]), Data(x=[102], edge_index=[2, 526], y=[1, 1]), Data(x=[102], edge_index=[2, 526], y=[1, 1]), Data(x=[102], edge_index=[2, 526], y=[1, 1]), Data(x=[102], edge_index=[2, 526], y=[1, 1]), Data(x=[102], edge_index=[2, 526], y=[1, 1]), Data(x=[102], edge_index=[2, 526], y=[1, 1]), Data(x=[102], edge_index=[2, 526], y=[1, 1]), Data(x=[102], edge_index=[2, 526], y=[1, 1]), Data(x=[102], edge_index=[2, 526], y=[1, 1]), Data(x=[102], edge_index=[2, 526], y=[1, 1]), Data(x=[102], edge_index=[2, 526], y=[1, 1]), Data(x=[102], edge_index=[2, 526], y=[1, 1]), Data(x=[102], edge_index=[2, 526], y=[1, 1]), Data(x=[102], edge_index=[2, 526], y=[1, 1]), Data(x=[102], edge_index=[2, 526], y=[1, 1]), Data(x=[102], edge_index=[2, 526], y=[1, 1]), Data(x=[102], edge_index=[2, 526], y=[1, 1]), Data(x=[102], edge_index=[2, 526], y=[1, 1]), Data(x=[102], edge_index=[2, 526], y=[1, 1]), Data(x=[102], edge_index=[2, 526], y=[1, 1]), Data(x=[102], edge_index=[2, 526], y=[1, 1]), Data(x=[102], edge_index=[2, 526], y=[1, 1]), Data(x=[102], edge_index=[2, 526], y=[1, 1]), Data(x=[102], edge_index=[2, 526], y=[1, 1]), Data(x=[102], edge_index=[2, 526], y=[1, 1]), Data(x=[102], edge_index=[2, 526], y=[1, 1]), Data(x=[102], edge_index=[2, 526], y=[1, 1]), Data(x=[102], edge_index=[2, 526], y=[1, 1]), Data(x=[102], edge_index=[2, 526], y=[1, 1]), Data(x=[102], edge_index=[2, 526], y=[1, 1]), Data(x=[102], edge_index=[2, 526], y=[1, 1]), Data(x=[102], edge_index=[2, 526], y=[1, 1]), Data(x=[102], edge_index=[2, 526], y=[1, 1]), Data(x=[102], edge_index=[2, 526], y=[1, 1]), Data(x=[102], edge_index=[2, 526], y=[1, 1]), Data(x=[102], edge_index=[2, 526], y=[1, 1]), Data(x=[102], edge_index=[2, 526], y=[1, 1]), Data(x=[102], edge_index=[2, 526], y=[1, 1]), Data(x=[102], edge_index=[2, 526], y=[1, 1]), Data(x=[102], edge_index=[2, 526], y=[1, 1]), Data(x=[102], edge_index=[2, 526], y=[1, 1]), Data(x=[102], edge_index=[2, 526], y=[1, 1]), Data(x=[102], edge_index=[2, 526], y=[1, 1]), Data(x=[102], edge_index=[2, 526], y=[1, 1]), Data(x=[102], edge_index=[2, 526], y=[1, 1]), Data(x=[102], edge_index=[2, 526], y=[1, 1]), Data(x=[102], edge_index=[2, 526], y=[1, 1]), Data(x=[102], edge_index=[2, 526], y=[1, 1]), Data(x=[102], edge_index=[2, 526], y=[1, 1]), Data(x=[102], edge_index=[2, 526], y=[1, 1]), Data(x=[102], edge_index=[2, 526], y=[1, 1]), Data(x=[102], edge_index=[2, 526], y=[1, 1]), Data(x=[102], edge_index=[2, 526], y=[1, 1]), Data(x=[102], edge_index=[2, 526], y=[1, 1]), Data(x=[102], edge_index=[2, 526], y=[1, 1]), Data(x=[102], edge_index=[2, 526], y=[1, 1]), Data(x=[102], edge_index=[2, 526], y=[1, 1]), Data(x=[102], edge_index=[2, 526], y=[1, 1]), Data(x=[102], edge_index=[2, 526], y=[1, 1]), Data(x=[102], edge_index=[2, 526], y=[1, 1]), Data(x=[102], edge_index=[2, 526], y=[1, 1]), Data(x=[102], edge_index=[2, 526], y=[1, 1]), Data(x=[102], edge_index=[2, 526], y=[1, 1]), Data(x=[102], edge_index=[2, 526], y=[1, 1]), Data(x=[102], edge_index=[2, 526], y=[1, 1]), Data(x=[102], edge_index=[2, 526], y=[1, 1]), Data(x=[102], edge_index=[2, 526], y=[1, 1]), Data(x=[102], edge_index=[2, 526], y=[1, 1]), Data(x=[102], edge_index=[2, 526], y=[1, 1]), Data(x=[102], edge_index=[2, 526], y=[1, 1]), Data(x=[102], edge_index=[2, 526], y=[1, 1]), Data(x=[102], edge_index=[2, 526], y=[1, 1]), Data(x=[102], edge_index=[2, 526], y=[1, 1]), Data(x=[102], edge_index=[2, 526], y=[1, 1]), Data(x=[102], edge_index=[2, 526], y=[1, 1]), Data(x=[102], edge_index=[2, 526], y=[1, 1]), Data(x=[102], edge_index=[2, 526], y=[1, 1]), Data(x=[102], edge_index=[2, 526], y=[1, 1]), Data(x=[102], edge_index=[2, 526], y=[1, 1]), Data(x=[102], edge_index=[2, 526], y=[1, 1]), Data(x=[102], edge_index=[2, 526], y=[1, 1]), Data(x=[102], edge_index=[2, 526], y=[1, 1]), Data(x=[102], edge_index=[2, 526], y=[1, 1]), Data(x=[102], edge_index=[2, 526], y=[1, 1]), Data(x=[102], edge_index=[2, 526], y=[1, 1]), Data(x=[102], edge_index=[2, 526], y=[1, 1]), Data(x=[102], edge_index=[2, 526], y=[1, 1]), Data(x=[102], edge_index=[2, 526], y=[1, 1]), Data(x=[102], edge_index=[2, 526], y=[1, 1]), Data(x=[102], edge_index=[2, 526], y=[1, 1]), Data(x=[102], edge_index=[2, 526], y=[1, 1]), Data(x=[102], edge_index=[2, 526], y=[1, 1]), Data(x=[102], edge_index=[2, 526], y=[1, 1]), Data(x=[102], edge_index=[2, 526], y=[1, 1]), Data(x=[102], edge_index=[2, 526], y=[1, 1]), Data(x=[102], edge_index=[2, 526], y=[1, 1]), Data(x=[102], edge_index=[2, 526], y=[1, 1]), Data(x=[102], edge_index=[2, 526], y=[1, 1]), Data(x=[102], edge_index=[2, 526], y=[1, 1]), Data(x=[102], edge_index=[2, 526], y=[1, 1]), Data(x=[102], edge_index=[2, 526], y=[1, 1]), Data(x=[102], edge_index=[2, 526], y=[1, 1]), Data(x=[102], edge_index=[2, 526], y=[1, 1]), Data(x=[102], edge_index=[2, 526], y=[1, 1]), Data(x=[102], edge_index=[2, 526], y=[1, 1]), Data(x=[102], edge_index=[2, 526], y=[1, 1]), Data(x=[102], edge_index=[2, 526], y=[1, 1]), Data(x=[102], edge_index=[2, 526], y=[1, 1]), Data(x=[102], edge_index=[2, 526], y=[1, 1]), Data(x=[102], edge_index=[2, 526], y=[1, 1]), Data(x=[102], edge_index=[2, 526], y=[1, 1]), Data(x=[102], edge_index=[2, 526], y=[1, 1]), Data(x=[102], edge_index=[2, 526], y=[1, 1]), Data(x=[102], edge_index=[2, 526], y=[1, 1]), Data(x=[102], edge_index=[2, 526], y=[1, 1]), Data(x=[102], edge_index=[2, 526], y=[1, 1])]\n"
          ]
        }
      ],
      "source": [
        "list_data=[]\n",
        "\n",
        "for g in range(181):\n",
        "  b=[]\n",
        "  for i in genes.iloc[g].to_numpy():\n",
        "    a=[]\n",
        "    a.append(i*10)\n",
        "    b.append(a)\n",
        "  x = torch.tensor([b], dtype=torch.float)\n",
        "  x = torch.reshape(x, (-1,))\n",
        "  edge_index = edge_index\n",
        "  y = torch.tensor([Y.iloc[g].to_numpy()], dtype=torch.float)\n",
        "  data = Data(x=x, edge_index=edge_index, y=y)\n",
        "  list_data.append(data)\n",
        "\n",
        "print(list_data)"
      ]
    },
    {
      "cell_type": "markdown",
      "metadata": {
        "id": "o3k2zK2IPbHq"
      },
      "source": [
        "# 3. Dibujar grafo"
      ]
    },
    {
      "cell_type": "code",
      "execution_count": 169,
      "metadata": {
        "id": "qfYKryD5yBys"
      },
      "outputs": [],
      "source": [
        "def plot_graph(data,description=True):\n",
        "    edges_raw = data.edge_index.numpy()\n",
        "    edges = [(x, y) for x, y in zip(edges_raw[0, :], edges_raw[1, :])]\n",
        "    labels = data.x.numpy()\n",
        "    G = nx.Graph()\n",
        "    print(G)\n",
        "    G.add_nodes_from(list(range(np.max(edges_raw))))\n",
        "    G.add_edges_from(edges)\n",
        "    plt.subplot(111)\n",
        "    options = {\n",
        "       'node_size': 100,\n",
        "       'width': 1,\n",
        "    }\n",
        "    nx.draw(G, with_labels=description, node_color=labels.tolist(), cmap=plt.cm.tab10, font_weight='bold', **options)\n",
        "    plt.show()"
      ]
    },
    {
      "cell_type": "code",
      "execution_count": 170,
      "metadata": {
        "colab": {
          "base_uri": "https://localhost:8080/"
        },
        "id": "TD0bzuX7yNsr",
        "outputId": "1d9a94e5-2fc1-4c4d-826b-8306f0f90e56"
      },
      "outputs": [
        {
          "name": "stdout",
          "output_type": "stream",
          "text": [
            "Algunas estadísticas del grafo:\n",
            "Número de Características: 1\n",
            "Número de Nodos: 102\n",
            "Número de bordes: 526\n",
            "Grado promedio de nodos: 5.16\n",
            "¿Contiene nodos aislados?: False\n",
            "¿Contiene autoloops?: False\n",
            "¿Es no dirigido?: True\n"
          ]
        },
        {
          "name": "stderr",
          "output_type": "stream",
          "text": [
            "/usr/local/lib/python3.7/dist-packages/torch_geometric/deprecation.py:12: UserWarning: 'contains_isolated_nodes' is deprecated, use 'has_isolated_nodes' instead\n",
            "  warnings.warn(out)\n",
            "/usr/local/lib/python3.7/dist-packages/torch_geometric/deprecation.py:12: UserWarning: 'contains_self_loops' is deprecated, use 'has_self_loops' instead\n",
            "  warnings.warn(out)\n"
          ]
        }
      ],
      "source": [
        "print(\"Algunas estadísticas del grafo:\")\n",
        "print(f'Número de Características: {data.num_features}')\n",
        "print(f'Número de Nodos: {data.num_nodes}')\n",
        "print(f'Número de bordes: {data.num_edges}')\n",
        "print(f'Grado promedio de nodos: {data.num_edges / data.num_nodes:.2f}')\n",
        "print(f'¿Contiene nodos aislados?: {data.contains_isolated_nodes()}')\n",
        "print(f'¿Contiene autoloops?: {data.contains_self_loops()}')\n",
        "print(f'¿Es no dirigido?: {data.is_undirected()}')"
      ]
    },
    {
      "cell_type": "code",
      "execution_count": 171,
      "metadata": {
        "colab": {
          "base_uri": "https://localhost:8080/",
          "height": 265
        },
        "id": "V6QJGNgNyTYz",
        "outputId": "14228fee-788a-4640-db5e-57f3f893484e"
      },
      "outputs": [
        {
          "name": "stdout",
          "output_type": "stream",
          "text": [
            "Graph with 0 nodes and 0 edges\n"
          ]
        },
        {
          "data": {
            "image/png": "[encoded data removed]",
            "text/plain": [
              "<Figure size 432x288 with 1 Axes>"
            ]
          },
          "metadata": {},
          "output_type": "display_data"
        }
      ],
      "source": [
        "plot_graph(data,True)"
      ]
    },
    {
      "cell_type": "markdown",
      "metadata": {
        "id": "vDKdoDbFPgt_"
      },
      "source": [
        "# 4. Modelo"
      ]
    },
    {
      "cell_type": "code",
      "execution_count": 172,
      "metadata": {
        "id": "eZ-3eb2f2QLa"
      },
      "outputs": [],
      "source": [
        "import torch\n",
        "from torch_geometric.nn import MessagePassing\n",
        "from torch_geometric.utils import remove_self_loops, add_self_loops\n",
        "\n",
        "\n",
        "class SAGEConv(MessagePassing):\n",
        "    def __init__(self, in_channels, out_channels):\n",
        "        super(SAGEConv, self).__init__(aggr='max')\n",
        "        self.lin = torch.nn.Linear(in_channels, out_channels)\n",
        "        self.act = torch.nn.ReLU()\n",
        "        self.update_lin = torch.nn.Linear(in_channels + out_channels, in_channels, bias=False)\n",
        "        self.update_act = torch.nn.ReLU()\n",
        "\n",
        "    def forward(self, x, edge_index):\n",
        "        edge_index, _ = remove_self_loops(edge_index)\n",
        "        edge_index, _ = add_self_loops(edge_index, num_nodes=x.size(0))\n",
        "\n",
        "        return self.propagate(edge_index, size=(x.size(0), x.size(0)), x=x)\n",
        "\n",
        "    def message(self, x_j):\n",
        "        x_j = self.lin(x_j)\n",
        "        x_j = self.act(x_j)\n",
        "\n",
        "        return x_j\n",
        "\n",
        "    def update(self, aggr_out, x):\n",
        "        new_embedding = torch.cat([aggr_out, x], dim=1)\n",
        "        new_embedding = self.update_lin(new_embedding)\n",
        "        new_embedding = self.update_act(new_embedding)\n",
        "        return new_embedding\n"
      ]
    },
    {
      "cell_type": "code",
      "execution_count": 173,
      "metadata": {
        "id": "F-x76x9G2J79"
      },
      "outputs": [],
      "source": [
        "embed_dim = 102\n",
        "import torch\n",
        "import torch.nn.functional as F\n",
        "from torch_geometric.nn import TopKPooling\n",
        "from torch_geometric.nn import global_mean_pool as gap, global_max_pool as gmp\n",
        "\n",
        "class Net(torch.nn.Module):\n",
        "    def __init__(self):\n",
        "        super(Net, self).__init__()\n",
        "        self.conv1 = SAGEConv(embed_dim, 102)\n",
        "        self.pool1 = TopKPooling(102, ratio=0.8)\n",
        "        self.conv2 = SAGEConv(102, 102)\n",
        "        self.pool2 = TopKPooling(102, ratio=0.8)\n",
        "        self.item_embedding = torch.nn.Embedding(num_embeddings=390, embedding_dim=embed_dim)\n",
        "        self.lin1 = torch.nn.Linear(204, 51)\n",
        "        self.lin3 = torch.nn.Linear(51, 1)\n",
        "        self.act1 = torch.nn.ReLU()\n",
        "        print(self)\n",
        "\n",
        "    def forward(self, data):\n",
        "        x, edge_index, batch = data.x, data.edge_index, data.batch\n",
        "        x = torch.tensor(x).to(torch.int)\n",
        "        x = self.item_embedding(x)\n",
        "        x = x.squeeze(1)\n",
        "\n",
        "        x = F.relu(self.conv1(x, edge_index))\n",
        "\n",
        "        x, edge_index, _, batch, _, _ = self.pool1(x, edge_index, None, batch)\n",
        "        x1 = torch.cat([gmp(x, batch), gap(x, batch)], dim=1)\n",
        "\n",
        "        x = F.relu(self.conv2(x, edge_index))\n",
        "\n",
        "        x, edge_index, _, batch, _, _ = self.pool2(x, edge_index, None, batch)\n",
        "        x2 = torch.cat([gmp(x, batch), gap(x, batch)], dim=1)\n",
        "\n",
        "        x = x1 + x2\n",
        "\n",
        "        x = self.lin1(x)\n",
        "        x = self.act1(x)\n",
        "\n",
        "        x = F.dropout(x, p=0.5, training=self.training)\n",
        "        x = torch.sigmoid(self.lin3(x)).squeeze(1)\n",
        "\n",
        "        return x"
      ]
    },
    {
      "cell_type": "markdown",
      "metadata": {
        "id": "c9bYFlDSQmp8"
      },
      "source": [
        "# 5. New attempt"
      ]
    },
    {
      "cell_type": "code",
      "execution_count": 174,
      "metadata": {
        "id": "yU3-sfNc1du6"
      },
      "outputs": [],
      "source": [
        "class AverageMeter(object):\n",
        "    \"\"\"\n",
        "    Keeps track of most recent, average, sum, and count of a metric.\n",
        "    \"\"\"\n",
        "\n",
        "    def __init__(self):\n",
        "        self.reset()\n",
        "\n",
        "    def reset(self):\n",
        "        self.val = 0\n",
        "        self.avg = 0\n",
        "        self.sum = 0\n",
        "        self.count = 0\n",
        "\n",
        "    def update(self, val, n=1):\n",
        "        self.val = val\n",
        "        self.sum += val * n\n",
        "        self.count += n\n",
        "        self.avg = self.sum / self.count"
      ]
    },
    {
      "cell_type": "code",
      "execution_count": 175,
      "metadata": {
        "id": "YrOOBkThcGRZ"
      },
      "outputs": [],
      "source": [
        "from sklearn.metrics import roc_auc_score\n",
        "def evaluate(loader, model):\n",
        "    model.eval()  \n",
        "    predictions = []\n",
        "    labels = []\n",
        "\n",
        "    # Batches\n",
        "    for data in loader:\n",
        "        data = data\n",
        "        pred = model(data).detach().numpy()\n",
        "        label = data.y.detach().numpy()\n",
        "        label = label.squeeze(1)\n",
        "        predictions.append(pred)\n",
        "        labels.append(label)\n",
        "\n",
        "    return roc_auc_score(labels, predictions)"
      ]
    },
    {
      "cell_type": "code",
      "execution_count": 176,
      "metadata": {
        "id": "OdHY5W4tQoKE"
      },
      "outputs": [],
      "source": [
        "from torch import nn\n",
        "def train_net():\n",
        "    torch.manual_seed(7)\n",
        "    np.random.seed(7)\n",
        "    best_acc = 0\n",
        "\n",
        "    model = Net()\n",
        "\n",
        "    optimizer = torch.optim.Adam(model.parameters(), lr=0.001)\n",
        "    # optimizer = torch.optim.SGD(model.parameters(), lr=0.001, momentum=0.9)\n",
        "\n",
        "    model = model\n",
        "\n",
        "    # Loss function\n",
        "    criterion = nn.BCELoss()\n",
        "\n",
        "    train_loader = list_data[0:144]\n",
        "    test_loader = list_data[145:182]\n",
        "    # val_loader = list_data[172:182]\n",
        "\n",
        "    # Epochs\n",
        "    for epoch in range(0, 11):\n",
        "        train_loss = train(train_loader=train_loader,\n",
        "                           model=model,\n",
        "                           criterion=criterion,\n",
        "                           optimizer=optimizer,\n",
        "                           epoch=epoch)\n",
        "\n",
        "\n",
        "        train_acc = evaluate(train_loader, model)\n",
        "        # val_acc = evaluate(val_loader, model)\n",
        "        test_acc = evaluate(test_loader, model)\n",
        "        print('Epoch: {:03d}, Loss: {:.5f}, Train Auc: {:.5f},  Test Auc: {:.5f}'.\n",
        "              format(epoch, train_loss, train_acc,  test_acc))\n"
      ]
    },
    {
      "cell_type": "code",
      "execution_count": 177,
      "metadata": {
        "id": "xmfMqeBuSLpE"
      },
      "outputs": [],
      "source": [
        "def clip_gradient(optimizer, grad_clip):\n",
        "    \"\"\"\n",
        "    Clips gradients computed during backpropagation to avoid explosion of gradients.\n",
        "    :param optimizer: optimizer with the gradients to be clipped\n",
        "    :param grad_clip: clip value\n",
        "    \"\"\"\n",
        "    for group in optimizer.param_groups:\n",
        "        for param in group['params']:\n",
        "            if param.grad is not None:\n",
        "                param.grad.data.clamp_(-grad_clip, grad_clip)"
      ]
    },
    {
      "cell_type": "code",
      "execution_count": 178,
      "metadata": {
        "id": "aH237AjFQw0n"
      },
      "outputs": [],
      "source": [
        "def train(train_loader, model, criterion, optimizer, epoch):\n",
        "    model.train()  \n",
        "\n",
        "    losses = AverageMeter()\n",
        "\n",
        "    # Batches\n",
        "    for i, data in enumerate(train_loader):\n",
        "        data = data\n",
        "        label = data.y\n",
        "        label = label.squeeze(1)\n",
        "\n",
        "        # Forward prop.\n",
        "        out = model(data)\n",
        "\n",
        "        # Calculate loss\n",
        "        loss = criterion(out, label)\n",
        "\n",
        "        # Back prop.\n",
        "        optimizer.zero_grad()\n",
        "        loss.backward()\n",
        "\n",
        "        # Clip gradients\n",
        "        clip_gradient(optimizer, 5)\n",
        "\n",
        "        # Update weights\n",
        "        optimizer.step()\n",
        "\n",
        "        # Keep track of metrics\n",
        "        losses.update(loss.item())\n",
        "\n",
        "        # Print status\n",
        "        step = 20\n",
        "        if i % step == 0:\n",
        "            status = 'Epoch: [{0}][{1}/{2}]\\t' \\\n",
        "                     'Loss {loss.val:.5f} ({loss.avg:.5f})\\t'.format(epoch, i,\n",
        "                                                                     len(train_loader),\n",
        "                                                                     loss=losses)\n",
        "            # print(status)\n",
        "\n",
        "    return losses.avg"
      ]
    },
    {
      "cell_type": "code",
      "execution_count": 179,
      "metadata": {
        "colab": {
          "base_uri": "https://localhost:8080/"
        },
        "id": "QoZUTpRtdqbM",
        "outputId": "1af0289e-81a4-4939-a18c-b7f249ad1a81"
      },
      "outputs": [
        {
          "name": "stdout",
          "output_type": "stream",
          "text": [
            "Net(\n",
            "  (conv1): SAGEConv()\n",
            "  (pool1): TopKPooling(102, ratio=0.8, multiplier=1.0)\n",
            "  (conv2): SAGEConv()\n",
            "  (pool2): TopKPooling(102, ratio=0.8, multiplier=1.0)\n",
            "  (item_embedding): Embedding(390, 102)\n",
            "  (lin1): Linear(in_features=204, out_features=51, bias=True)\n",
            "  (lin3): Linear(in_features=51, out_features=1, bias=True)\n",
            "  (act1): ReLU()\n",
            ")\n"
          ]
        },
        {
          "name": "stderr",
          "output_type": "stream",
          "text": [
            "/usr/local/lib/python3.7/dist-packages/ipykernel_launcher.py:22: UserWarning: To copy construct from a tensor, it is recommended to use sourceTensor.clone().detach() or sourceTensor.clone().detach().requires_grad_(True), rather than torch.tensor(sourceTensor).\n",
            "/usr/local/lib/python3.7/dist-packages/ipykernel_launcher.py:22: UserWarning: To copy construct from a tensor, it is recommended to use sourceTensor.clone().detach() or sourceTensor.clone().detach().requires_grad_(True), rather than torch.tensor(sourceTensor).\n",
            "/usr/local/lib/python3.7/dist-packages/ipykernel_launcher.py:22: UserWarning: To copy construct from a tensor, it is recommended to use sourceTensor.clone().detach() or sourceTensor.clone().detach().requires_grad_(True), rather than torch.tensor(sourceTensor).\n"
          ]
        },
        {
          "name": "stdout",
          "output_type": "stream",
          "text": [
            "Epoch: 000, Loss: 0.70648, Train Auc: 0.62181,  Test Auc: 0.48438\n"
          ]
        },
        {
          "name": "stderr",
          "output_type": "stream",
          "text": [
            "/usr/local/lib/python3.7/dist-packages/ipykernel_launcher.py:22: UserWarning: To copy construct from a tensor, it is recommended to use sourceTensor.clone().detach() or sourceTensor.clone().detach().requires_grad_(True), rather than torch.tensor(sourceTensor).\n"
          ]
        },
        {
          "name": "stdout",
          "output_type": "stream",
          "text": [
            "Epoch: 001, Loss: 0.69515, Train Auc: 0.69981,  Test Auc: 0.39375\n"
          ]
        },
        {
          "name": "stderr",
          "output_type": "stream",
          "text": [
            "/usr/local/lib/python3.7/dist-packages/ipykernel_launcher.py:22: UserWarning: To copy construct from a tensor, it is recommended to use sourceTensor.clone().detach() or sourceTensor.clone().detach().requires_grad_(True), rather than torch.tensor(sourceTensor).\n",
            "/usr/local/lib/python3.7/dist-packages/ipykernel_launcher.py:22: UserWarning: To copy construct from a tensor, it is recommended to use sourceTensor.clone().detach() or sourceTensor.clone().detach().requires_grad_(True), rather than torch.tensor(sourceTensor).\n"
          ]
        },
        {
          "name": "stdout",
          "output_type": "stream",
          "text": [
            "Epoch: 002, Loss: 0.69897, Train Auc: 0.60545,  Test Auc: 0.47500\n"
          ]
        },
        {
          "name": "stderr",
          "output_type": "stream",
          "text": [
            "/usr/local/lib/python3.7/dist-packages/ipykernel_launcher.py:22: UserWarning: To copy construct from a tensor, it is recommended to use sourceTensor.clone().detach() or sourceTensor.clone().detach().requires_grad_(True), rather than torch.tensor(sourceTensor).\n",
            "/usr/local/lib/python3.7/dist-packages/ipykernel_launcher.py:22: UserWarning: To copy construct from a tensor, it is recommended to use sourceTensor.clone().detach() or sourceTensor.clone().detach().requires_grad_(True), rather than torch.tensor(sourceTensor).\n"
          ]
        },
        {
          "name": "stdout",
          "output_type": "stream",
          "text": [
            "Epoch: 003, Loss: 0.69575, Train Auc: 0.68724,  Test Auc: 0.63125\n"
          ]
        },
        {
          "name": "stderr",
          "output_type": "stream",
          "text": [
            "/usr/local/lib/python3.7/dist-packages/ipykernel_launcher.py:22: UserWarning: To copy construct from a tensor, it is recommended to use sourceTensor.clone().detach() or sourceTensor.clone().detach().requires_grad_(True), rather than torch.tensor(sourceTensor).\n",
            "/usr/local/lib/python3.7/dist-packages/ipykernel_launcher.py:22: UserWarning: To copy construct from a tensor, it is recommended to use sourceTensor.clone().detach() or sourceTensor.clone().detach().requires_grad_(True), rather than torch.tensor(sourceTensor).\n"
          ]
        },
        {
          "name": "stdout",
          "output_type": "stream",
          "text": [
            "Epoch: 004, Loss: 0.69159, Train Auc: 0.66573,  Test Auc: 0.54688\n"
          ]
        },
        {
          "name": "stderr",
          "output_type": "stream",
          "text": [
            "/usr/local/lib/python3.7/dist-packages/ipykernel_launcher.py:22: UserWarning: To copy construct from a tensor, it is recommended to use sourceTensor.clone().detach() or sourceTensor.clone().detach().requires_grad_(True), rather than torch.tensor(sourceTensor).\n",
            "/usr/local/lib/python3.7/dist-packages/ipykernel_launcher.py:22: UserWarning: To copy construct from a tensor, it is recommended to use sourceTensor.clone().detach() or sourceTensor.clone().detach().requires_grad_(True), rather than torch.tensor(sourceTensor).\n",
            "/usr/local/lib/python3.7/dist-packages/ipykernel_launcher.py:22: UserWarning: To copy construct from a tensor, it is recommended to use sourceTensor.clone().detach() or sourceTensor.clone().detach().requires_grad_(True), rather than torch.tensor(sourceTensor).\n"
          ]
        },
        {
          "name": "stdout",
          "output_type": "stream",
          "text": [
            "Epoch: 005, Loss: 0.69370, Train Auc: 0.75034,  Test Auc: 0.61563\n"
          ]
        },
        {
          "name": "stderr",
          "output_type": "stream",
          "text": [
            "/usr/local/lib/python3.7/dist-packages/ipykernel_launcher.py:22: UserWarning: To copy construct from a tensor, it is recommended to use sourceTensor.clone().detach() or sourceTensor.clone().detach().requires_grad_(True), rather than torch.tensor(sourceTensor).\n",
            "/usr/local/lib/python3.7/dist-packages/ipykernel_launcher.py:22: UserWarning: To copy construct from a tensor, it is recommended to use sourceTensor.clone().detach() or sourceTensor.clone().detach().requires_grad_(True), rather than torch.tensor(sourceTensor).\n"
          ]
        },
        {
          "name": "stdout",
          "output_type": "stream",
          "text": [
            "Epoch: 006, Loss: 0.69223, Train Auc: 0.83427,  Test Auc: 0.52500\n"
          ]
        },
        {
          "name": "stderr",
          "output_type": "stream",
          "text": [
            "/usr/local/lib/python3.7/dist-packages/ipykernel_launcher.py:22: UserWarning: To copy construct from a tensor, it is recommended to use sourceTensor.clone().detach() or sourceTensor.clone().detach().requires_grad_(True), rather than torch.tensor(sourceTensor).\n",
            "/usr/local/lib/python3.7/dist-packages/ipykernel_launcher.py:22: UserWarning: To copy construct from a tensor, it is recommended to use sourceTensor.clone().detach() or sourceTensor.clone().detach().requires_grad_(True), rather than torch.tensor(sourceTensor).\n"
          ]
        },
        {
          "name": "stdout",
          "output_type": "stream",
          "text": [
            "Epoch: 007, Loss: 0.68960, Train Auc: 0.76670,  Test Auc: 0.45312\n"
          ]
        },
        {
          "name": "stderr",
          "output_type": "stream",
          "text": [
            "/usr/local/lib/python3.7/dist-packages/ipykernel_launcher.py:22: UserWarning: To copy construct from a tensor, it is recommended to use sourceTensor.clone().detach() or sourceTensor.clone().detach().requires_grad_(True), rather than torch.tensor(sourceTensor).\n",
            "/usr/local/lib/python3.7/dist-packages/ipykernel_launcher.py:22: UserWarning: To copy construct from a tensor, it is recommended to use sourceTensor.clone().detach() or sourceTensor.clone().detach().requires_grad_(True), rather than torch.tensor(sourceTensor).\n"
          ]
        },
        {
          "name": "stdout",
          "output_type": "stream",
          "text": [
            "Epoch: 008, Loss: 0.69204, Train Auc: 0.72463,  Test Auc: 0.48750\n"
          ]
        },
        {
          "name": "stderr",
          "output_type": "stream",
          "text": [
            "/usr/local/lib/python3.7/dist-packages/ipykernel_launcher.py:22: UserWarning: To copy construct from a tensor, it is recommended to use sourceTensor.clone().detach() or sourceTensor.clone().detach().requires_grad_(True), rather than torch.tensor(sourceTensor).\n",
            "/usr/local/lib/python3.7/dist-packages/ipykernel_launcher.py:22: UserWarning: To copy construct from a tensor, it is recommended to use sourceTensor.clone().detach() or sourceTensor.clone().detach().requires_grad_(True), rather than torch.tensor(sourceTensor).\n"
          ]
        },
        {
          "name": "stdout",
          "output_type": "stream",
          "text": [
            "Epoch: 009, Loss: 0.69628, Train Auc: 0.69270,  Test Auc: 0.46250\n",
            "Epoch: 010, Loss: 0.69244, Train Auc: 0.74684,  Test Auc: 0.63750\n"
          ]
        },
        {
          "name": "stderr",
          "output_type": "stream",
          "text": [
            "/usr/local/lib/python3.7/dist-packages/ipykernel_launcher.py:22: UserWarning: To copy construct from a tensor, it is recommended to use sourceTensor.clone().detach() or sourceTensor.clone().detach().requires_grad_(True), rather than torch.tensor(sourceTensor).\n"
          ]
        }
      ],
      "source": [
        "loss = train_net() #80-20"
      ]
    },
    {
      "cell_type": "code",
      "execution_count": 180,
      "metadata": {
        "id": "_QUGpIfDjOVb"
      },
      "outputs": [],
      "source": [
        "from torch import nn\n",
        "def train_net():\n",
        "    torch.manual_seed(7)\n",
        "    np.random.seed(7)\n",
        "    best_acc = 0\n",
        "\n",
        "    model = Net()\n",
        "\n",
        "    optimizer = torch.optim.Adam(model.parameters(), lr=0.001)\n",
        "    # optimizer = torch.optim.SGD(model.parameters(), lr=0.001, momentum=0.9)\n",
        "\n",
        "    model = model\n",
        "\n",
        "    # Loss function\n",
        "    criterion = nn.BCELoss()\n",
        "\n",
        "    train_loader = list_data[0:154]\n",
        "    test_loader = list_data[155:182]\n",
        "    # val_loader = list_data[172:182]\n",
        "\n",
        "    # Epochs\n",
        "    for epoch in range(0, 17):\n",
        "        train_loss = train(train_loader=train_loader,\n",
        "                           model=model,\n",
        "                           criterion=criterion,\n",
        "                           optimizer=optimizer,\n",
        "                           epoch=epoch)\n",
        "\n",
        "\n",
        "        train_acc = evaluate(train_loader, model)\n",
        "        # val_acc = evaluate(val_loader, model)\n",
        "        test_acc = evaluate(test_loader, model)\n",
        "        print('Epoch: {:03d}, Loss: {:.5f}, Train Auc: {:.5f},  Test Auc: {:.5f}'.\n",
        "              format(epoch, train_loss, train_acc,  test_acc))\n"
      ]
    },
    {
      "cell_type": "code",
      "execution_count": 181,
      "metadata": {
        "colab": {
          "base_uri": "https://localhost:8080/"
        },
        "id": "9QqDSrZnTSLN",
        "outputId": "a3ead058-59e4-4a2a-cd19-4fcf0f7192ea"
      },
      "outputs": [
        {
          "name": "stderr",
          "output_type": "stream",
          "text": [
            "/usr/local/lib/python3.7/dist-packages/ipykernel_launcher.py:22: UserWarning: To copy construct from a tensor, it is recommended to use sourceTensor.clone().detach() or sourceTensor.clone().detach().requires_grad_(True), rather than torch.tensor(sourceTensor).\n"
          ]
        },
        {
          "name": "stdout",
          "output_type": "stream",
          "text": [
            "Net(\n",
            "  (conv1): SAGEConv()\n",
            "  (pool1): TopKPooling(102, ratio=0.8, multiplier=1.0)\n",
            "  (conv2): SAGEConv()\n",
            "  (pool2): TopKPooling(102, ratio=0.8, multiplier=1.0)\n",
            "  (item_embedding): Embedding(390, 102)\n",
            "  (lin1): Linear(in_features=204, out_features=51, bias=True)\n",
            "  (lin3): Linear(in_features=51, out_features=1, bias=True)\n",
            "  (act1): ReLU()\n",
            ")\n"
          ]
        },
        {
          "name": "stderr",
          "output_type": "stream",
          "text": [
            "/usr/local/lib/python3.7/dist-packages/ipykernel_launcher.py:22: UserWarning: To copy construct from a tensor, it is recommended to use sourceTensor.clone().detach() or sourceTensor.clone().detach().requires_grad_(True), rather than torch.tensor(sourceTensor).\n",
            "/usr/local/lib/python3.7/dist-packages/ipykernel_launcher.py:22: UserWarning: To copy construct from a tensor, it is recommended to use sourceTensor.clone().detach() or sourceTensor.clone().detach().requires_grad_(True), rather than torch.tensor(sourceTensor).\n"
          ]
        },
        {
          "name": "stdout",
          "output_type": "stream",
          "text": [
            "Epoch: 000, Loss: 0.70427, Train Auc: 0.53097,  Test Auc: 0.61111\n"
          ]
        },
        {
          "name": "stderr",
          "output_type": "stream",
          "text": [
            "/usr/local/lib/python3.7/dist-packages/ipykernel_launcher.py:22: UserWarning: To copy construct from a tensor, it is recommended to use sourceTensor.clone().detach() or sourceTensor.clone().detach().requires_grad_(True), rather than torch.tensor(sourceTensor).\n",
            "/usr/local/lib/python3.7/dist-packages/ipykernel_launcher.py:22: UserWarning: To copy construct from a tensor, it is recommended to use sourceTensor.clone().detach() or sourceTensor.clone().detach().requires_grad_(True), rather than torch.tensor(sourceTensor).\n"
          ]
        },
        {
          "name": "stdout",
          "output_type": "stream",
          "text": [
            "Epoch: 001, Loss: 0.70384, Train Auc: 0.72328,  Test Auc: 0.59722\n"
          ]
        },
        {
          "name": "stderr",
          "output_type": "stream",
          "text": [
            "/usr/local/lib/python3.7/dist-packages/ipykernel_launcher.py:22: UserWarning: To copy construct from a tensor, it is recommended to use sourceTensor.clone().detach() or sourceTensor.clone().detach().requires_grad_(True), rather than torch.tensor(sourceTensor).\n",
            "/usr/local/lib/python3.7/dist-packages/ipykernel_launcher.py:22: UserWarning: To copy construct from a tensor, it is recommended to use sourceTensor.clone().detach() or sourceTensor.clone().detach().requires_grad_(True), rather than torch.tensor(sourceTensor).\n"
          ]
        },
        {
          "name": "stdout",
          "output_type": "stream",
          "text": [
            "Epoch: 002, Loss: 0.69658, Train Auc: 0.78435,  Test Auc: 0.72917\n"
          ]
        },
        {
          "name": "stderr",
          "output_type": "stream",
          "text": [
            "/usr/local/lib/python3.7/dist-packages/ipykernel_launcher.py:22: UserWarning: To copy construct from a tensor, it is recommended to use sourceTensor.clone().detach() or sourceTensor.clone().detach().requires_grad_(True), rather than torch.tensor(sourceTensor).\n",
            "/usr/local/lib/python3.7/dist-packages/ipykernel_launcher.py:22: UserWarning: To copy construct from a tensor, it is recommended to use sourceTensor.clone().detach() or sourceTensor.clone().detach().requires_grad_(True), rather than torch.tensor(sourceTensor).\n"
          ]
        },
        {
          "name": "stdout",
          "output_type": "stream",
          "text": [
            "Epoch: 003, Loss: 0.69154, Train Auc: 0.75313,  Test Auc: 0.63194\n"
          ]
        },
        {
          "name": "stderr",
          "output_type": "stream",
          "text": [
            "/usr/local/lib/python3.7/dist-packages/ipykernel_launcher.py:22: UserWarning: To copy construct from a tensor, it is recommended to use sourceTensor.clone().detach() or sourceTensor.clone().detach().requires_grad_(True), rather than torch.tensor(sourceTensor).\n",
            "/usr/local/lib/python3.7/dist-packages/ipykernel_launcher.py:22: UserWarning: To copy construct from a tensor, it is recommended to use sourceTensor.clone().detach() or sourceTensor.clone().detach().requires_grad_(True), rather than torch.tensor(sourceTensor).\n"
          ]
        },
        {
          "name": "stdout",
          "output_type": "stream",
          "text": [
            "Epoch: 004, Loss: 0.68285, Train Auc: 0.77921,  Test Auc: 0.56944\n"
          ]
        },
        {
          "name": "stderr",
          "output_type": "stream",
          "text": [
            "/usr/local/lib/python3.7/dist-packages/ipykernel_launcher.py:22: UserWarning: To copy construct from a tensor, it is recommended to use sourceTensor.clone().detach() or sourceTensor.clone().detach().requires_grad_(True), rather than torch.tensor(sourceTensor).\n",
            "/usr/local/lib/python3.7/dist-packages/ipykernel_launcher.py:22: UserWarning: To copy construct from a tensor, it is recommended to use sourceTensor.clone().detach() or sourceTensor.clone().detach().requires_grad_(True), rather than torch.tensor(sourceTensor).\n"
          ]
        },
        {
          "name": "stdout",
          "output_type": "stream",
          "text": [
            "Epoch: 005, Loss: 0.70407, Train Auc: 0.73889,  Test Auc: 0.50000\n"
          ]
        },
        {
          "name": "stderr",
          "output_type": "stream",
          "text": [
            "/usr/local/lib/python3.7/dist-packages/ipykernel_launcher.py:22: UserWarning: To copy construct from a tensor, it is recommended to use sourceTensor.clone().detach() or sourceTensor.clone().detach().requires_grad_(True), rather than torch.tensor(sourceTensor).\n",
            "/usr/local/lib/python3.7/dist-packages/ipykernel_launcher.py:22: UserWarning: To copy construct from a tensor, it is recommended to use sourceTensor.clone().detach() or sourceTensor.clone().detach().requires_grad_(True), rather than torch.tensor(sourceTensor).\n"
          ]
        },
        {
          "name": "stdout",
          "output_type": "stream",
          "text": [
            "Epoch: 006, Loss: 0.65821, Train Auc: 0.82741,  Test Auc: 0.62500\n"
          ]
        },
        {
          "name": "stderr",
          "output_type": "stream",
          "text": [
            "/usr/local/lib/python3.7/dist-packages/ipykernel_launcher.py:22: UserWarning: To copy construct from a tensor, it is recommended to use sourceTensor.clone().detach() or sourceTensor.clone().detach().requires_grad_(True), rather than torch.tensor(sourceTensor).\n",
            "/usr/local/lib/python3.7/dist-packages/ipykernel_launcher.py:22: UserWarning: To copy construct from a tensor, it is recommended to use sourceTensor.clone().detach() or sourceTensor.clone().detach().requires_grad_(True), rather than torch.tensor(sourceTensor).\n"
          ]
        },
        {
          "name": "stdout",
          "output_type": "stream",
          "text": [
            "Epoch: 007, Loss: 0.63909, Train Auc: 0.85263,  Test Auc: 0.64583\n"
          ]
        },
        {
          "name": "stderr",
          "output_type": "stream",
          "text": [
            "/usr/local/lib/python3.7/dist-packages/ipykernel_launcher.py:22: UserWarning: To copy construct from a tensor, it is recommended to use sourceTensor.clone().detach() or sourceTensor.clone().detach().requires_grad_(True), rather than torch.tensor(sourceTensor).\n",
            "/usr/local/lib/python3.7/dist-packages/ipykernel_launcher.py:22: UserWarning: To copy construct from a tensor, it is recommended to use sourceTensor.clone().detach() or sourceTensor.clone().detach().requires_grad_(True), rather than torch.tensor(sourceTensor).\n"
          ]
        },
        {
          "name": "stdout",
          "output_type": "stream",
          "text": [
            "Epoch: 008, Loss: 0.54321, Train Auc: 0.93515,  Test Auc: 0.63889\n"
          ]
        },
        {
          "name": "stderr",
          "output_type": "stream",
          "text": [
            "/usr/local/lib/python3.7/dist-packages/ipykernel_launcher.py:22: UserWarning: To copy construct from a tensor, it is recommended to use sourceTensor.clone().detach() or sourceTensor.clone().detach().requires_grad_(True), rather than torch.tensor(sourceTensor).\n",
            "/usr/local/lib/python3.7/dist-packages/ipykernel_launcher.py:22: UserWarning: To copy construct from a tensor, it is recommended to use sourceTensor.clone().detach() or sourceTensor.clone().detach().requires_grad_(True), rather than torch.tensor(sourceTensor).\n"
          ]
        },
        {
          "name": "stdout",
          "output_type": "stream",
          "text": [
            "Epoch: 009, Loss: 0.52545, Train Auc: 0.97221,  Test Auc: 0.72917\n"
          ]
        },
        {
          "name": "stderr",
          "output_type": "stream",
          "text": [
            "/usr/local/lib/python3.7/dist-packages/ipykernel_launcher.py:22: UserWarning: To copy construct from a tensor, it is recommended to use sourceTensor.clone().detach() or sourceTensor.clone().detach().requires_grad_(True), rather than torch.tensor(sourceTensor).\n",
            "/usr/local/lib/python3.7/dist-packages/ipykernel_launcher.py:22: UserWarning: To copy construct from a tensor, it is recommended to use sourceTensor.clone().detach() or sourceTensor.clone().detach().requires_grad_(True), rather than torch.tensor(sourceTensor).\n"
          ]
        },
        {
          "name": "stdout",
          "output_type": "stream",
          "text": [
            "Epoch: 010, Loss: 0.40175, Train Auc: 0.98113,  Test Auc: 0.70139\n"
          ]
        },
        {
          "name": "stderr",
          "output_type": "stream",
          "text": [
            "/usr/local/lib/python3.7/dist-packages/ipykernel_launcher.py:22: UserWarning: To copy construct from a tensor, it is recommended to use sourceTensor.clone().detach() or sourceTensor.clone().detach().requires_grad_(True), rather than torch.tensor(sourceTensor).\n",
            "/usr/local/lib/python3.7/dist-packages/ipykernel_launcher.py:22: UserWarning: To copy construct from a tensor, it is recommended to use sourceTensor.clone().detach() or sourceTensor.clone().detach().requires_grad_(True), rather than torch.tensor(sourceTensor).\n"
          ]
        },
        {
          "name": "stdout",
          "output_type": "stream",
          "text": [
            "Epoch: 011, Loss: 0.32875, Train Auc: 0.99005,  Test Auc: 0.74306\n"
          ]
        },
        {
          "name": "stderr",
          "output_type": "stream",
          "text": [
            "/usr/local/lib/python3.7/dist-packages/ipykernel_launcher.py:22: UserWarning: To copy construct from a tensor, it is recommended to use sourceTensor.clone().detach() or sourceTensor.clone().detach().requires_grad_(True), rather than torch.tensor(sourceTensor).\n",
            "/usr/local/lib/python3.7/dist-packages/ipykernel_launcher.py:22: UserWarning: To copy construct from a tensor, it is recommended to use sourceTensor.clone().detach() or sourceTensor.clone().detach().requires_grad_(True), rather than torch.tensor(sourceTensor).\n"
          ]
        },
        {
          "name": "stdout",
          "output_type": "stream",
          "text": [
            "Epoch: 012, Loss: 0.24894, Train Auc: 0.99794,  Test Auc: 0.72222\n"
          ]
        },
        {
          "name": "stderr",
          "output_type": "stream",
          "text": [
            "/usr/local/lib/python3.7/dist-packages/ipykernel_launcher.py:22: UserWarning: To copy construct from a tensor, it is recommended to use sourceTensor.clone().detach() or sourceTensor.clone().detach().requires_grad_(True), rather than torch.tensor(sourceTensor).\n",
            "/usr/local/lib/python3.7/dist-packages/ipykernel_launcher.py:22: UserWarning: To copy construct from a tensor, it is recommended to use sourceTensor.clone().detach() or sourceTensor.clone().detach().requires_grad_(True), rather than torch.tensor(sourceTensor).\n"
          ]
        },
        {
          "name": "stdout",
          "output_type": "stream",
          "text": [
            "Epoch: 013, Loss: 0.16231, Train Auc: 0.99983,  Test Auc: 0.72917\n"
          ]
        },
        {
          "name": "stderr",
          "output_type": "stream",
          "text": [
            "/usr/local/lib/python3.7/dist-packages/ipykernel_launcher.py:22: UserWarning: To copy construct from a tensor, it is recommended to use sourceTensor.clone().detach() or sourceTensor.clone().detach().requires_grad_(True), rather than torch.tensor(sourceTensor).\n",
            "/usr/local/lib/python3.7/dist-packages/ipykernel_launcher.py:22: UserWarning: To copy construct from a tensor, it is recommended to use sourceTensor.clone().detach() or sourceTensor.clone().detach().requires_grad_(True), rather than torch.tensor(sourceTensor).\n"
          ]
        },
        {
          "name": "stdout",
          "output_type": "stream",
          "text": [
            "Epoch: 014, Loss: 0.12267, Train Auc: 1.00000,  Test Auc: 0.77778\n"
          ]
        },
        {
          "name": "stderr",
          "output_type": "stream",
          "text": [
            "/usr/local/lib/python3.7/dist-packages/ipykernel_launcher.py:22: UserWarning: To copy construct from a tensor, it is recommended to use sourceTensor.clone().detach() or sourceTensor.clone().detach().requires_grad_(True), rather than torch.tensor(sourceTensor).\n",
            "/usr/local/lib/python3.7/dist-packages/ipykernel_launcher.py:22: UserWarning: To copy construct from a tensor, it is recommended to use sourceTensor.clone().detach() or sourceTensor.clone().detach().requires_grad_(True), rather than torch.tensor(sourceTensor).\n"
          ]
        },
        {
          "name": "stdout",
          "output_type": "stream",
          "text": [
            "Epoch: 015, Loss: 0.10992, Train Auc: 0.99863,  Test Auc: 0.81250\n",
            "Epoch: 016, Loss: 0.06481, Train Auc: 0.99966,  Test Auc: 0.81944\n"
          ]
        },
        {
          "name": "stderr",
          "output_type": "stream",
          "text": [
            "/usr/local/lib/python3.7/dist-packages/ipykernel_launcher.py:22: UserWarning: To copy construct from a tensor, it is recommended to use sourceTensor.clone().detach() or sourceTensor.clone().detach().requires_grad_(True), rather than torch.tensor(sourceTensor).\n"
          ]
        }
      ],
      "source": [
        "loss = train_net() #85-15"
      ]
    },
    {
      "cell_type": "code",
      "execution_count": 182,
      "metadata": {
        "id": "NHsS01fejLgd"
      },
      "outputs": [],
      "source": [
        "from torch import nn\n",
        "def train_net():\n",
        "    torch.manual_seed(7)\n",
        "    np.random.seed(7)\n",
        "    best_acc = 0\n",
        "\n",
        "    model = Net()\n",
        "\n",
        "    optimizer = torch.optim.Adam(model.parameters(), lr=0.001)\n",
        "    # optimizer = torch.optim.SGD(model.parameters(), lr=0.001, momentum=0.9)\n",
        "\n",
        "    model = model\n",
        "\n",
        "    # Loss function\n",
        "    criterion = nn.BCELoss()\n",
        "\n",
        "    train_loader = list_data[0:163]\n",
        "    test_loader = list_data[164:182]\n",
        "    # val_loader = list_data[172:182]\n",
        "\n",
        "    # Epochs\n",
        "    for epoch in range(0, 11):\n",
        "        train_loss = train(train_loader=train_loader,\n",
        "                           model=model,\n",
        "                           criterion=criterion,\n",
        "                           optimizer=optimizer,\n",
        "                           epoch=epoch)\n",
        "\n",
        "\n",
        "        train_acc = evaluate(train_loader, model)\n",
        "        # val_acc = evaluate(val_loader, model)\n",
        "        test_acc = evaluate(test_loader, model)\n",
        "        print('Epoch: {:03d}, Loss: {:.5f}, Train Auc: {:.5f},  Test Auc: {:.5f}'.\n",
        "              format(epoch, train_loss, train_acc,  test_acc))\n"
      ]
    },
    {
      "cell_type": "code",
      "execution_count": 183,
      "metadata": {
        "colab": {
          "base_uri": "https://localhost:8080/"
        },
        "id": "dN9z98FgcMDh",
        "outputId": "64e02407-17b3-496d-f6dd-29f6e368c35d"
      },
      "outputs": [
        {
          "name": "stderr",
          "output_type": "stream",
          "text": [
            "/usr/local/lib/python3.7/dist-packages/ipykernel_launcher.py:22: UserWarning: To copy construct from a tensor, it is recommended to use sourceTensor.clone().detach() or sourceTensor.clone().detach().requires_grad_(True), rather than torch.tensor(sourceTensor).\n"
          ]
        },
        {
          "name": "stdout",
          "output_type": "stream",
          "text": [
            "Net(\n",
            "  (conv1): SAGEConv()\n",
            "  (pool1): TopKPooling(102, ratio=0.8, multiplier=1.0)\n",
            "  (conv2): SAGEConv()\n",
            "  (pool2): TopKPooling(102, ratio=0.8, multiplier=1.0)\n",
            "  (item_embedding): Embedding(390, 102)\n",
            "  (lin1): Linear(in_features=204, out_features=51, bias=True)\n",
            "  (lin3): Linear(in_features=51, out_features=1, bias=True)\n",
            "  (act1): ReLU()\n",
            ")\n"
          ]
        },
        {
          "name": "stderr",
          "output_type": "stream",
          "text": [
            "/usr/local/lib/python3.7/dist-packages/ipykernel_launcher.py:22: UserWarning: To copy construct from a tensor, it is recommended to use sourceTensor.clone().detach() or sourceTensor.clone().detach().requires_grad_(True), rather than torch.tensor(sourceTensor).\n",
            "/usr/local/lib/python3.7/dist-packages/ipykernel_launcher.py:22: UserWarning: To copy construct from a tensor, it is recommended to use sourceTensor.clone().detach() or sourceTensor.clone().detach().requires_grad_(True), rather than torch.tensor(sourceTensor).\n"
          ]
        },
        {
          "name": "stdout",
          "output_type": "stream",
          "text": [
            "Epoch: 000, Loss: 0.70396, Train Auc: 0.54960,  Test Auc: 0.61538\n"
          ]
        },
        {
          "name": "stderr",
          "output_type": "stream",
          "text": [
            "/usr/local/lib/python3.7/dist-packages/ipykernel_launcher.py:22: UserWarning: To copy construct from a tensor, it is recommended to use sourceTensor.clone().detach() or sourceTensor.clone().detach().requires_grad_(True), rather than torch.tensor(sourceTensor).\n",
            "/usr/local/lib/python3.7/dist-packages/ipykernel_launcher.py:22: UserWarning: To copy construct from a tensor, it is recommended to use sourceTensor.clone().detach() or sourceTensor.clone().detach().requires_grad_(True), rather than torch.tensor(sourceTensor).\n"
          ]
        },
        {
          "name": "stdout",
          "output_type": "stream",
          "text": [
            "Epoch: 001, Loss: 0.70063, Train Auc: 0.71448,  Test Auc: 0.53846\n"
          ]
        },
        {
          "name": "stderr",
          "output_type": "stream",
          "text": [
            "/usr/local/lib/python3.7/dist-packages/ipykernel_launcher.py:22: UserWarning: To copy construct from a tensor, it is recommended to use sourceTensor.clone().detach() or sourceTensor.clone().detach().requires_grad_(True), rather than torch.tensor(sourceTensor).\n"
          ]
        },
        {
          "name": "stdout",
          "output_type": "stream",
          "text": [
            "Epoch: 002, Loss: 0.69762, Train Auc: 0.69106,  Test Auc: 0.71154\n"
          ]
        },
        {
          "name": "stderr",
          "output_type": "stream",
          "text": [
            "/usr/local/lib/python3.7/dist-packages/ipykernel_launcher.py:22: UserWarning: To copy construct from a tensor, it is recommended to use sourceTensor.clone().detach() or sourceTensor.clone().detach().requires_grad_(True), rather than torch.tensor(sourceTensor).\n",
            "/usr/local/lib/python3.7/dist-packages/ipykernel_launcher.py:22: UserWarning: To copy construct from a tensor, it is recommended to use sourceTensor.clone().detach() or sourceTensor.clone().detach().requires_grad_(True), rather than torch.tensor(sourceTensor).\n",
            "/usr/local/lib/python3.7/dist-packages/ipykernel_launcher.py:22: UserWarning: To copy construct from a tensor, it is recommended to use sourceTensor.clone().detach() or sourceTensor.clone().detach().requires_grad_(True), rather than torch.tensor(sourceTensor).\n"
          ]
        },
        {
          "name": "stdout",
          "output_type": "stream",
          "text": [
            "Epoch: 003, Loss: 0.69629, Train Auc: 0.71433,  Test Auc: 0.69231\n"
          ]
        },
        {
          "name": "stderr",
          "output_type": "stream",
          "text": [
            "/usr/local/lib/python3.7/dist-packages/ipykernel_launcher.py:22: UserWarning: To copy construct from a tensor, it is recommended to use sourceTensor.clone().detach() or sourceTensor.clone().detach().requires_grad_(True), rather than torch.tensor(sourceTensor).\n",
            "/usr/local/lib/python3.7/dist-packages/ipykernel_launcher.py:22: UserWarning: To copy construct from a tensor, it is recommended to use sourceTensor.clone().detach() or sourceTensor.clone().detach().requires_grad_(True), rather than torch.tensor(sourceTensor).\n"
          ]
        },
        {
          "name": "stdout",
          "output_type": "stream",
          "text": [
            "Epoch: 004, Loss: 0.68629, Train Auc: 0.72122,  Test Auc: 0.67308\n"
          ]
        },
        {
          "name": "stderr",
          "output_type": "stream",
          "text": [
            "/usr/local/lib/python3.7/dist-packages/ipykernel_launcher.py:22: UserWarning: To copy construct from a tensor, it is recommended to use sourceTensor.clone().detach() or sourceTensor.clone().detach().requires_grad_(True), rather than torch.tensor(sourceTensor).\n",
            "/usr/local/lib/python3.7/dist-packages/ipykernel_launcher.py:22: UserWarning: To copy construct from a tensor, it is recommended to use sourceTensor.clone().detach() or sourceTensor.clone().detach().requires_grad_(True), rather than torch.tensor(sourceTensor).\n"
          ]
        },
        {
          "name": "stdout",
          "output_type": "stream",
          "text": [
            "Epoch: 005, Loss: 0.69714, Train Auc: 0.71678,  Test Auc: 0.69231\n"
          ]
        },
        {
          "name": "stderr",
          "output_type": "stream",
          "text": [
            "/usr/local/lib/python3.7/dist-packages/ipykernel_launcher.py:22: UserWarning: To copy construct from a tensor, it is recommended to use sourceTensor.clone().detach() or sourceTensor.clone().detach().requires_grad_(True), rather than torch.tensor(sourceTensor).\n",
            "/usr/local/lib/python3.7/dist-packages/ipykernel_launcher.py:22: UserWarning: To copy construct from a tensor, it is recommended to use sourceTensor.clone().detach() or sourceTensor.clone().detach().requires_grad_(True), rather than torch.tensor(sourceTensor).\n"
          ]
        },
        {
          "name": "stdout",
          "output_type": "stream",
          "text": [
            "Epoch: 006, Loss: 0.67349, Train Auc: 0.80848,  Test Auc: 0.71154\n"
          ]
        },
        {
          "name": "stderr",
          "output_type": "stream",
          "text": [
            "/usr/local/lib/python3.7/dist-packages/ipykernel_launcher.py:22: UserWarning: To copy construct from a tensor, it is recommended to use sourceTensor.clone().detach() or sourceTensor.clone().detach().requires_grad_(True), rather than torch.tensor(sourceTensor).\n",
            "/usr/local/lib/python3.7/dist-packages/ipykernel_launcher.py:22: UserWarning: To copy construct from a tensor, it is recommended to use sourceTensor.clone().detach() or sourceTensor.clone().detach().requires_grad_(True), rather than torch.tensor(sourceTensor).\n"
          ]
        },
        {
          "name": "stdout",
          "output_type": "stream",
          "text": [
            "Epoch: 007, Loss: 0.67290, Train Auc: 0.83481,  Test Auc: 0.65385\n"
          ]
        },
        {
          "name": "stderr",
          "output_type": "stream",
          "text": [
            "/usr/local/lib/python3.7/dist-packages/ipykernel_launcher.py:22: UserWarning: To copy construct from a tensor, it is recommended to use sourceTensor.clone().detach() or sourceTensor.clone().detach().requires_grad_(True), rather than torch.tensor(sourceTensor).\n",
            "/usr/local/lib/python3.7/dist-packages/ipykernel_launcher.py:22: UserWarning: To copy construct from a tensor, it is recommended to use sourceTensor.clone().detach() or sourceTensor.clone().detach().requires_grad_(True), rather than torch.tensor(sourceTensor).\n"
          ]
        },
        {
          "name": "stdout",
          "output_type": "stream",
          "text": [
            "Epoch: 008, Loss: 0.66014, Train Auc: 0.83543,  Test Auc: 0.65385\n"
          ]
        },
        {
          "name": "stderr",
          "output_type": "stream",
          "text": [
            "/usr/local/lib/python3.7/dist-packages/ipykernel_launcher.py:22: UserWarning: To copy construct from a tensor, it is recommended to use sourceTensor.clone().detach() or sourceTensor.clone().detach().requires_grad_(True), rather than torch.tensor(sourceTensor).\n",
            "/usr/local/lib/python3.7/dist-packages/ipykernel_launcher.py:22: UserWarning: To copy construct from a tensor, it is recommended to use sourceTensor.clone().detach() or sourceTensor.clone().detach().requires_grad_(True), rather than torch.tensor(sourceTensor).\n"
          ]
        },
        {
          "name": "stdout",
          "output_type": "stream",
          "text": [
            "Epoch: 009, Loss: 0.61787, Train Auc: 0.88365,  Test Auc: 0.82692\n",
            "Epoch: 010, Loss: 0.52655, Train Auc: 0.92636,  Test Auc: 0.88462\n"
          ]
        },
        {
          "name": "stderr",
          "output_type": "stream",
          "text": [
            "/usr/local/lib/python3.7/dist-packages/ipykernel_launcher.py:22: UserWarning: To copy construct from a tensor, it is recommended to use sourceTensor.clone().detach() or sourceTensor.clone().detach().requires_grad_(True), rather than torch.tensor(sourceTensor).\n"
          ]
        }
      ],
      "source": [
        "loss = train_net() #90-10"
      ]
    }
  ],
  "metadata": {
    "colab": {
      "collapsed_sections": [
        "lC1yqJaZPINt"
      ],
      "provenance": []
    },
    "kernelspec": {
      "display_name": "Python 3.9.13 64-bit (microsoft store)",
      "language": "python",
      "name": "python3"
    },
    "language_info": {
      "name": "python",
      "version": "3.9.13"
    },
    "vscode": {
      "interpreter": {
        "hash": "fb15f1e0f376981e7b6e1fc44ae8b8146823f10f258bcd6e448b0230b889fc06"
      }
    }
  },
  "nbformat": 4,
  "nbformat_minor": 0
}
