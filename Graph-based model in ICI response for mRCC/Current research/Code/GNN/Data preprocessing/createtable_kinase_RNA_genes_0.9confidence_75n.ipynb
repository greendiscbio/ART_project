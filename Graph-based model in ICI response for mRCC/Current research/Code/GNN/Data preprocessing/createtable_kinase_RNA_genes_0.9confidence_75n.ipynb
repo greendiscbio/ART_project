{
 "cells": [
  {
   "cell_type": "code",
   "execution_count": 1,
   "metadata": {},
   "outputs": [],
   "source": [
    "import pandas as pd\n",
    "import numpy as np"
   ]
  },
  {
   "cell_type": "code",
   "execution_count": 2,
   "metadata": {},
   "outputs": [
    {
     "data": {
      "text/html": [
       "<div>\n",
       "<style scoped>\n",
       "    .dataframe tbody tr th:only-of-type {\n",
       "        vertical-align: middle;\n",
       "    }\n",
       "\n",
       "    .dataframe tbody tr th {\n",
       "        vertical-align: top;\n",
       "    }\n",
       "\n",
       "    .dataframe thead th {\n",
       "        text-align: right;\n",
       "    }\n",
       "</style>\n",
       "<table border=\"1\" class=\"dataframe\">\n",
       "  <thead>\n",
       "    <tr style=\"text-align: right;\">\n",
       "      <th></th>\n",
       "      <th>interaction</th>\n",
       "      <th>name</th>\n",
       "      <th>selected</th>\n",
       "      <th>shared interaction</th>\n",
       "      <th>shared name</th>\n",
       "      <th>stringdb::databases</th>\n",
       "      <th>stringdb::experiments</th>\n",
       "      <th>stringdb::interspecies</th>\n",
       "      <th>stringdb::score</th>\n",
       "      <th>stringdb::textmining</th>\n",
       "    </tr>\n",
       "  </thead>\n",
       "  <tbody>\n",
       "    <tr>\n",
       "      <th>0</th>\n",
       "      <td>ppp</td>\n",
       "      <td>PRKAR2B (ppp) AKAP1</td>\n",
       "      <td>False</td>\n",
       "      <td>ppp</td>\n",
       "      <td>PRKAR2B (ppp) AKAP1</td>\n",
       "      <td>0.6</td>\n",
       "      <td>0.585</td>\n",
       "      <td>NaN</td>\n",
       "      <td>0.961</td>\n",
       "      <td>0.789</td>\n",
       "    </tr>\n",
       "    <tr>\n",
       "      <th>1</th>\n",
       "      <td>ppp</td>\n",
       "      <td>MAP3K3 (ppp) TAB2</td>\n",
       "      <td>False</td>\n",
       "      <td>ppp</td>\n",
       "      <td>MAP3K3 (ppp) TAB2</td>\n",
       "      <td>0.9</td>\n",
       "      <td>NaN</td>\n",
       "      <td>NaN</td>\n",
       "      <td>0.900</td>\n",
       "      <td>NaN</td>\n",
       "    </tr>\n",
       "    <tr>\n",
       "      <th>2</th>\n",
       "      <td>ppp</td>\n",
       "      <td>PRKAR2B (ppp) AKAP9</td>\n",
       "      <td>False</td>\n",
       "      <td>ppp</td>\n",
       "      <td>PRKAR2B (ppp) AKAP9</td>\n",
       "      <td>0.9</td>\n",
       "      <td>0.625</td>\n",
       "      <td>NaN</td>\n",
       "      <td>0.961</td>\n",
       "      <td>0.058</td>\n",
       "    </tr>\n",
       "    <tr>\n",
       "      <th>3</th>\n",
       "      <td>ppp</td>\n",
       "      <td>MAP3K3 (ppp) MAP3K7</td>\n",
       "      <td>False</td>\n",
       "      <td>ppp</td>\n",
       "      <td>MAP3K3 (ppp) MAP3K7</td>\n",
       "      <td>0.9</td>\n",
       "      <td>0.496</td>\n",
       "      <td>NaN</td>\n",
       "      <td>0.958</td>\n",
       "      <td>0.249</td>\n",
       "    </tr>\n",
       "    <tr>\n",
       "      <th>4</th>\n",
       "      <td>ppp</td>\n",
       "      <td>PRKAR2B (ppp) PRKAR1A</td>\n",
       "      <td>False</td>\n",
       "      <td>ppp</td>\n",
       "      <td>PRKAR2B (ppp) PRKAR1A</td>\n",
       "      <td>0.9</td>\n",
       "      <td>0.520</td>\n",
       "      <td>NaN</td>\n",
       "      <td>0.963</td>\n",
       "      <td>0.305</td>\n",
       "    </tr>\n",
       "  </tbody>\n",
       "</table>\n",
       "</div>"
      ],
      "text/plain": [
       "  interaction                   name  selected shared interaction  \\\n",
       "0         ppp    PRKAR2B (ppp) AKAP1     False                ppp   \n",
       "1         ppp      MAP3K3 (ppp) TAB2     False                ppp   \n",
       "2         ppp    PRKAR2B (ppp) AKAP9     False                ppp   \n",
       "3         ppp    MAP3K3 (ppp) MAP3K7     False                ppp   \n",
       "4         ppp  PRKAR2B (ppp) PRKAR1A     False                ppp   \n",
       "\n",
       "             shared name  stringdb::databases  stringdb::experiments  \\\n",
       "0    PRKAR2B (ppp) AKAP1                  0.6                  0.585   \n",
       "1      MAP3K3 (ppp) TAB2                  0.9                    NaN   \n",
       "2    PRKAR2B (ppp) AKAP9                  0.9                  0.625   \n",
       "3    MAP3K3 (ppp) MAP3K7                  0.9                  0.496   \n",
       "4  PRKAR2B (ppp) PRKAR1A                  0.9                  0.520   \n",
       "\n",
       "   stringdb::interspecies  stringdb::score  stringdb::textmining  \n",
       "0                     NaN            0.961                 0.789  \n",
       "1                     NaN            0.900                   NaN  \n",
       "2                     NaN            0.961                 0.058  \n",
       "3                     NaN            0.958                 0.249  \n",
       "4                     NaN            0.963                 0.305  "
      ]
     },
     "execution_count": 2,
     "metadata": {},
     "output_type": "execute_result"
    }
   ],
   "source": [
    "path ='../Cytoscape/STRING network (physical)(1) default edge  kinase genes principal component 75 nodes (0.9confidence).csv'\n",
    "data = pd.read_csv(path)\n",
    "path ='../../../../Data_preprocessing/Prediction PFS/RNA+Clinic joined/Clinical_data_and_RNA_total_Features_PFS.csv'\n",
    "rna = pd.read_csv(path)\n",
    "# rna = rna .iloc[:,28:43921  ]\n",
    "data.head()"
   ]
  },
  {
   "cell_type": "code",
   "execution_count": 3,
   "metadata": {},
   "outputs": [
    {
     "data": {
      "text/plain": [
       "[1,\n",
       " 1,\n",
       " 1,\n",
       " 0,\n",
       " 1,\n",
       " 1,\n",
       " 0,\n",
       " 0,\n",
       " 1,\n",
       " 1,\n",
       " 0,\n",
       " 0,\n",
       " 0,\n",
       " 0,\n",
       " 0,\n",
       " 0,\n",
       " 0,\n",
       " 0,\n",
       " 1,\n",
       " 0,\n",
       " 1,\n",
       " 1,\n",
       " 1,\n",
       " 0,\n",
       " 1,\n",
       " 0,\n",
       " 1,\n",
       " 0,\n",
       " 0,\n",
       " 0,\n",
       " 0,\n",
       " 1,\n",
       " 0,\n",
       " 0,\n",
       " 0,\n",
       " 1,\n",
       " 1,\n",
       " 1,\n",
       " 1,\n",
       " 1,\n",
       " 0,\n",
       " 0,\n",
       " 1,\n",
       " 1,\n",
       " 0,\n",
       " 0,\n",
       " 0,\n",
       " 1,\n",
       " 1,\n",
       " 0,\n",
       " 1,\n",
       " 1,\n",
       " 1,\n",
       " 0,\n",
       " 1,\n",
       " 1,\n",
       " 1,\n",
       " 1,\n",
       " 1,\n",
       " 1,\n",
       " 0,\n",
       " 1,\n",
       " 0,\n",
       " 1,\n",
       " 1,\n",
       " 0,\n",
       " 1,\n",
       " 1,\n",
       " 1,\n",
       " 1,\n",
       " 1,\n",
       " 0,\n",
       " 1,\n",
       " 1,\n",
       " 0,\n",
       " 1,\n",
       " 1,\n",
       " 1,\n",
       " 0,\n",
       " 0,\n",
       " 1,\n",
       " 1,\n",
       " 0,\n",
       " 0,\n",
       " 0,\n",
       " 0,\n",
       " 1,\n",
       " 0,\n",
       " 0,\n",
       " 1,\n",
       " 1,\n",
       " 0,\n",
       " 0,\n",
       " 1,\n",
       " 1,\n",
       " 0,\n",
       " 0,\n",
       " 1,\n",
       " 1,\n",
       " 0,\n",
       " 1,\n",
       " 1,\n",
       " 1,\n",
       " 0,\n",
       " 1,\n",
       " 0,\n",
       " 0,\n",
       " 1,\n",
       " 0,\n",
       " 0,\n",
       " 1,\n",
       " 0,\n",
       " 1,\n",
       " 0,\n",
       " 1,\n",
       " 0,\n",
       " 0,\n",
       " 1,\n",
       " 1,\n",
       " 0,\n",
       " 1,\n",
       " 1,\n",
       " 0,\n",
       " 1,\n",
       " 1,\n",
       " 0,\n",
       " 0,\n",
       " 0,\n",
       " 1,\n",
       " 0,\n",
       " 0,\n",
       " 1,\n",
       " 0,\n",
       " 1,\n",
       " 1,\n",
       " 1,\n",
       " 1,\n",
       " 1,\n",
       " 1,\n",
       " 1,\n",
       " 1,\n",
       " 0,\n",
       " 1,\n",
       " 0,\n",
       " 1,\n",
       " 1,\n",
       " 1,\n",
       " 1,\n",
       " 1,\n",
       " 1,\n",
       " 1,\n",
       " 1,\n",
       " 0,\n",
       " 0,\n",
       " 1,\n",
       " 0,\n",
       " 1,\n",
       " 0,\n",
       " 0,\n",
       " 1,\n",
       " 1,\n",
       " 0,\n",
       " 1,\n",
       " 0,\n",
       " 0,\n",
       " 1,\n",
       " 0,\n",
       " 1,\n",
       " 0,\n",
       " 0,\n",
       " 1,\n",
       " 0,\n",
       " 0,\n",
       " 0,\n",
       " 0,\n",
       " 0,\n",
       " 0,\n",
       " 0,\n",
       " 1,\n",
       " 0,\n",
       " 0]"
      ]
     },
     "execution_count": 3,
     "metadata": {},
     "output_type": "execute_result"
    }
   ],
   "source": [
    "Y = [] # Target column\n",
    "# For each entry I classified it by its PFS value.\n",
    "for i in range (len(rna)):\n",
    "    if rna.PFS[i]<3: # If PFS is lower than 3 months, I will consider it as NonResponder (NR)\n",
    "        Y.append(0)\n",
    "    else:\n",
    "        Y.append(1)# If PFS is over 3 months, I will consider it as Responder (R)\n",
    "Y"
   ]
  },
  {
   "cell_type": "code",
   "execution_count": 4,
   "metadata": {},
   "outputs": [
    {
     "data": {
      "text/plain": [
       "0      PRKAR2B (ppp) AKAP1\n",
       "1        MAP3K3 (ppp) TAB2\n",
       "2      PRKAR2B (ppp) AKAP9\n",
       "3      MAP3K3 (ppp) MAP3K7\n",
       "4    PRKAR2B (ppp) PRKAR1A\n",
       "Name: name, dtype: object"
      ]
     },
     "execution_count": 4,
     "metadata": {},
     "output_type": "execute_result"
    }
   ],
   "source": [
    "data = data.name\n",
    "data.head()"
   ]
  },
  {
   "cell_type": "code",
   "execution_count": 5,
   "metadata": {},
   "outputs": [
    {
     "data": {
      "text/plain": [
       "'PRKAR2B (ppp) AKAP1'"
      ]
     },
     "execution_count": 5,
     "metadata": {},
     "output_type": "execute_result"
    }
   ],
   "source": [
    "data.iloc[0]"
   ]
  },
  {
   "cell_type": "code",
   "execution_count": 6,
   "metadata": {},
   "outputs": [
    {
     "name": "stdout",
     "output_type": "stream",
     "text": [
      "163\n"
     ]
    },
    {
     "data": {
      "text/html": [
       "<div>\n",
       "<style scoped>\n",
       "    .dataframe tbody tr th:only-of-type {\n",
       "        vertical-align: middle;\n",
       "    }\n",
       "\n",
       "    .dataframe tbody tr th {\n",
       "        vertical-align: top;\n",
       "    }\n",
       "\n",
       "    .dataframe thead th {\n",
       "        text-align: right;\n",
       "    }\n",
       "</style>\n",
       "<table border=\"1\" class=\"dataframe\">\n",
       "  <thead>\n",
       "    <tr style=\"text-align: right;\">\n",
       "      <th></th>\n",
       "      <th>gene1</th>\n",
       "      <th>gene2</th>\n",
       "    </tr>\n",
       "  </thead>\n",
       "  <tbody>\n",
       "    <tr>\n",
       "      <th>0</th>\n",
       "      <td>PRKAR2B</td>\n",
       "      <td>AKAP1</td>\n",
       "    </tr>\n",
       "    <tr>\n",
       "      <th>1</th>\n",
       "      <td>MAP3K3</td>\n",
       "      <td>TAB2</td>\n",
       "    </tr>\n",
       "    <tr>\n",
       "      <th>2</th>\n",
       "      <td>PRKAR2B</td>\n",
       "      <td>AKAP9</td>\n",
       "    </tr>\n",
       "    <tr>\n",
       "      <th>3</th>\n",
       "      <td>MAP3K3</td>\n",
       "      <td>MAP3K7</td>\n",
       "    </tr>\n",
       "    <tr>\n",
       "      <th>4</th>\n",
       "      <td>PRKAR2B</td>\n",
       "      <td>PRKAR1A</td>\n",
       "    </tr>\n",
       "  </tbody>\n",
       "</table>\n",
       "</div>"
      ],
      "text/plain": [
       "     gene1    gene2\n",
       "0  PRKAR2B    AKAP1\n",
       "1   MAP3K3     TAB2\n",
       "2  PRKAR2B    AKAP9\n",
       "3   MAP3K3   MAP3K7\n",
       "4  PRKAR2B  PRKAR1A"
      ]
     },
     "execution_count": 6,
     "metadata": {},
     "output_type": "execute_result"
    }
   ],
   "source": [
    "import re\n",
    "gene1=[]\n",
    "gene2=[]\n",
    "for i in range (len(data)):\n",
    "    m = re.findall('[\\\\w\\\\s]+', data.iloc[i])\n",
    "    gene1.append(m[0][:-1])\n",
    "    gene2.append(m[2][1:])\n",
    "\n",
    "genes = {'gene1':gene1, 'gene2':gene2}\n",
    "data =pd.DataFrame(genes)\n",
    "print(len(data))\n",
    "data.head()"
   ]
  },
  {
   "cell_type": "code",
   "execution_count": 7,
   "metadata": {},
   "outputs": [],
   "source": [
    "gene1 = data.gene1.unique()\n",
    "gene2 = data.gene2.unique()"
   ]
  },
  {
   "cell_type": "code",
   "execution_count": 8,
   "metadata": {},
   "outputs": [
    {
     "data": {
      "text/plain": [
       "array(['PRKAR2B', 'MAP3K3', 'TAB2', 'PRKACB', 'PRKAA2', 'AKAP8', 'PRKACG',\n",
       "       'CAMKK1', 'PRKAR1A', 'PAK1', 'MAPK8', 'CAMK2B', 'MAP2K5', 'MAPK1',\n",
       "       'CAMK4', 'PRKAG2', 'MAP2K1', 'TAB1', 'PRKCE', 'PRKACA', 'AKAP10',\n",
       "       'PRKAB1', 'MAP3K11', 'MAPK14', 'CAMKK2', 'PAK2', 'CAMK2G',\n",
       "       'MAPK8IP1', 'PRKAG1', 'MAPK8IP3', 'PRKAB2', 'MAPK11', 'LCK',\n",
       "       'PRKX', 'MAP2K2', 'CAMK2D', 'MAPK3', 'PTK2', 'PKN1', 'ZAP70',\n",
       "       'PRKAR2A', 'MAP4K4', 'MAP2K3', 'PRKAA1', 'GIT2', 'AKAP9', 'AKAP4',\n",
       "       'MAP3K5', 'MAPK10', 'PAK3', 'AKAP13'], dtype=object)"
      ]
     },
     "execution_count": 8,
     "metadata": {},
     "output_type": "execute_result"
    }
   ],
   "source": [
    "gene1"
   ]
  },
  {
   "cell_type": "code",
   "execution_count": 9,
   "metadata": {},
   "outputs": [
    {
     "data": {
      "text/plain": [
       "array(['PRKAR2B', 'MAP3K3', 'TAB2', 'PRKACB', 'PRKAA2', 'AKAP8', 'PRKACG',\n",
       "       'CAMKK1', 'PRKAR1A', 'PAK1', 'MAPK8', 'CAMK2B', 'MAP2K5', 'MAPK1',\n",
       "       'CAMK4', 'PRKAG2', 'MAP2K1', 'TAB1', 'PRKCE', 'PRKACA', 'AKAP10',\n",
       "       'PRKAB1', 'MAP3K11', 'MAPK14', 'CAMKK2', 'PAK2', 'CAMK2G',\n",
       "       'MAPK8IP1', 'PRKAG1', 'MAPK8IP3', 'PRKAB2', 'MAPK11', 'LCK',\n",
       "       'PRKX', 'MAP2K2', 'CAMK2D', 'MAPK3', 'PTK2', 'PKN1', 'ZAP70',\n",
       "       'PRKAR2A', 'MAP4K4', 'MAP2K3', 'PRKAA1', 'GIT2', 'AKAP9', 'AKAP4',\n",
       "       'MAP3K5', 'MAPK10', 'PAK3', 'AKAP13', 'AKAP1', 'TAB2', 'AKAP9',\n",
       "       'MAP3K7', 'PRKAR1A', 'TAB3', 'AKAP5', 'PRKAR1B', 'PRKACG',\n",
       "       'PRKACB', 'PRKACA', 'PRKAG3', 'PRKAG1', 'CAMK2B', 'PAK4', 'CAMKK2',\n",
       "       'MAP2K7', 'PAK3', 'CAMK2A', 'PTK2', 'MAP3K2', 'LCK', 'PAK2',\n",
       "       'MAP3K3', 'GIT2', 'MAPK7', 'GIT1', 'MAPK3', 'PRKAA1', 'RPS6KA1',\n",
       "       'PRKAA2', 'MAP2K1', 'MAP2K2', 'MAP3K1', 'PRKG1', 'PKN1', 'MAPK14',\n",
       "       'AKAP4', 'PRKAR2A', 'AKAP14', 'PRKAB2', 'PKIA', 'PRKAG2', 'MAPK8',\n",
       "       'MAP2K3', 'MAPK11', 'MAPKAPK3', 'MAPKAPK2', 'MAPK9', 'CAMK2D',\n",
       "       'AKAP13', 'PTK2B', 'PRKCD', 'PRKCE', 'MAP3K5', 'AKAP8', 'PRKAR2B',\n",
       "       'MAP2K4', 'MAP3K6'], dtype=object)"
      ]
     },
     "execution_count": 9,
     "metadata": {},
     "output_type": "execute_result"
    }
   ],
   "source": [
    "genes= np.concatenate((gene1, gene2), axis=0)\n",
    "genes"
   ]
  },
  {
   "cell_type": "code",
   "execution_count": 10,
   "metadata": {},
   "outputs": [],
   "source": [
    "genes = np.unique(genes)"
   ]
  },
  {
   "cell_type": "code",
   "execution_count": 11,
   "metadata": {},
   "outputs": [
    {
     "data": {
      "text/plain": [
       "array(['AKAP1', 'AKAP10', 'AKAP13', 'AKAP14', 'AKAP4', 'AKAP5', 'AKAP8',\n",
       "       'AKAP9', 'CAMK2A', 'CAMK2B', 'CAMK2D', 'CAMK2G', 'CAMK4', 'CAMKK1',\n",
       "       'CAMKK2', 'GIT1', 'GIT2', 'LCK', 'MAP2K1', 'MAP2K2', 'MAP2K3',\n",
       "       'MAP2K4', 'MAP2K5', 'MAP2K7', 'MAP3K1', 'MAP3K11', 'MAP3K2',\n",
       "       'MAP3K3', 'MAP3K5', 'MAP3K6', 'MAP3K7', 'MAP4K4', 'MAPK1',\n",
       "       'MAPK10', 'MAPK11', 'MAPK14', 'MAPK3', 'MAPK7', 'MAPK8',\n",
       "       'MAPK8IP1', 'MAPK8IP3', 'MAPK9', 'MAPKAPK2', 'MAPKAPK3', 'PAK1',\n",
       "       'PAK2', 'PAK3', 'PAK4', 'PKIA', 'PKN1', 'PRKAA1', 'PRKAA2',\n",
       "       'PRKAB1', 'PRKAB2', 'PRKACA', 'PRKACB', 'PRKACG', 'PRKAG1',\n",
       "       'PRKAG2', 'PRKAG3', 'PRKAR1A', 'PRKAR1B', 'PRKAR2A', 'PRKAR2B',\n",
       "       'PRKCD', 'PRKCE', 'PRKG1', 'PRKX', 'PTK2', 'PTK2B', 'RPS6KA1',\n",
       "       'TAB1', 'TAB2', 'TAB3', 'ZAP70'], dtype=object)"
      ]
     },
     "execution_count": 11,
     "metadata": {},
     "output_type": "execute_result"
    }
   ],
   "source": [
    "genes"
   ]
  },
  {
   "cell_type": "code",
   "execution_count": 12,
   "metadata": {},
   "outputs": [],
   "source": [
    "rna = rna .iloc[:,28:43921  ]"
   ]
  },
  {
   "cell_type": "code",
   "execution_count": 13,
   "metadata": {},
   "outputs": [
    {
     "data": {
      "text/plain": [
       "Index(['5S_rRNA', '7SK', 'A1BG', 'A1BG-AS1', 'A1CF', 'A2M', 'A2M-AS1', 'A2ML1',\n",
       "       'A2ML1-AS1', 'A2MP1',\n",
       "       ...\n",
       "       'ZWILCH', 'ZWINT', 'ZXDA', 'ZXDB', 'ZXDC', 'ZYG11A', 'ZYG11B', 'ZYX',\n",
       "       'ZZEF1', 'ZZZ3'],\n",
       "      dtype='object', length=43893)"
      ]
     },
     "execution_count": 13,
     "metadata": {},
     "output_type": "execute_result"
    }
   ],
   "source": [
    "rna.columns"
   ]
  },
  {
   "cell_type": "code",
   "execution_count": 14,
   "metadata": {},
   "outputs": [
    {
     "data": {
      "text/plain": [
       "0      34.608085\n",
       "1      33.991203\n",
       "2      33.383751\n",
       "3      33.504572\n",
       "4      33.960169\n",
       "         ...    \n",
       "176    34.044939\n",
       "177    32.418678\n",
       "178    33.336106\n",
       "179    34.026063\n",
       "180    34.793381\n",
       "Name: AKAP1, Length: 181, dtype: float64"
      ]
     },
     "execution_count": 14,
     "metadata": {},
     "output_type": "execute_result"
    }
   ],
   "source": [
    "rna.AKAP1"
   ]
  },
  {
   "cell_type": "code",
   "execution_count": 15,
   "metadata": {},
   "outputs": [
    {
     "data": {
      "text/html": [
       "<div>\n",
       "<style scoped>\n",
       "    .dataframe tbody tr th:only-of-type {\n",
       "        vertical-align: middle;\n",
       "    }\n",
       "\n",
       "    .dataframe tbody tr th {\n",
       "        vertical-align: top;\n",
       "    }\n",
       "\n",
       "    .dataframe thead th {\n",
       "        text-align: right;\n",
       "    }\n",
       "</style>\n",
       "<table border=\"1\" class=\"dataframe\">\n",
       "  <thead>\n",
       "    <tr style=\"text-align: right;\">\n",
       "      <th></th>\n",
       "      <th>AKAP1</th>\n",
       "      <th>AKAP10</th>\n",
       "      <th>AKAP13</th>\n",
       "      <th>AKAP14</th>\n",
       "      <th>AKAP4</th>\n",
       "      <th>AKAP5</th>\n",
       "      <th>AKAP8</th>\n",
       "      <th>AKAP9</th>\n",
       "      <th>CAMK2A</th>\n",
       "      <th>CAMK2B</th>\n",
       "      <th>...</th>\n",
       "      <th>PRKCE</th>\n",
       "      <th>PRKG1</th>\n",
       "      <th>PRKX</th>\n",
       "      <th>PTK2</th>\n",
       "      <th>PTK2B</th>\n",
       "      <th>RPS6KA1</th>\n",
       "      <th>TAB1</th>\n",
       "      <th>TAB2</th>\n",
       "      <th>TAB3</th>\n",
       "      <th>ZAP70</th>\n",
       "    </tr>\n",
       "  </thead>\n",
       "  <tbody>\n",
       "    <tr>\n",
       "      <th>0</th>\n",
       "      <td>34.608085</td>\n",
       "      <td>33.496161</td>\n",
       "      <td>35.071896</td>\n",
       "      <td>22.030411</td>\n",
       "      <td>21.292506</td>\n",
       "      <td>25.036127</td>\n",
       "      <td>32.364362</td>\n",
       "      <td>34.799151</td>\n",
       "      <td>22.42737</td>\n",
       "      <td>23.306138</td>\n",
       "      <td>...</td>\n",
       "      <td>30.94168</td>\n",
       "      <td>31.13806</td>\n",
       "      <td>32.67034</td>\n",
       "      <td>34.68831</td>\n",
       "      <td>33.57576</td>\n",
       "      <td>33.94669</td>\n",
       "      <td>31.95379</td>\n",
       "      <td>34.91153</td>\n",
       "      <td>31.28668</td>\n",
       "      <td>31.17945</td>\n",
       "    </tr>\n",
       "    <tr>\n",
       "      <th>1</th>\n",
       "      <td>33.991203</td>\n",
       "      <td>33.321684</td>\n",
       "      <td>35.360390</td>\n",
       "      <td>22.030411</td>\n",
       "      <td>22.762193</td>\n",
       "      <td>28.279929</td>\n",
       "      <td>32.865812</td>\n",
       "      <td>35.333528</td>\n",
       "      <td>22.42737</td>\n",
       "      <td>29.331953</td>\n",
       "      <td>...</td>\n",
       "      <td>31.93903</td>\n",
       "      <td>33.28840</td>\n",
       "      <td>34.36043</td>\n",
       "      <td>35.21949</td>\n",
       "      <td>32.41343</td>\n",
       "      <td>32.19080</td>\n",
       "      <td>31.26559</td>\n",
       "      <td>35.52924</td>\n",
       "      <td>31.96868</td>\n",
       "      <td>29.38780</td>\n",
       "    </tr>\n",
       "    <tr>\n",
       "      <th>2</th>\n",
       "      <td>33.383751</td>\n",
       "      <td>33.224008</td>\n",
       "      <td>35.090412</td>\n",
       "      <td>22.030411</td>\n",
       "      <td>21.292506</td>\n",
       "      <td>29.082875</td>\n",
       "      <td>33.310765</td>\n",
       "      <td>34.894155</td>\n",
       "      <td>22.42737</td>\n",
       "      <td>28.546066</td>\n",
       "      <td>...</td>\n",
       "      <td>31.21546</td>\n",
       "      <td>30.52351</td>\n",
       "      <td>33.07848</td>\n",
       "      <td>35.37110</td>\n",
       "      <td>31.08899</td>\n",
       "      <td>32.79330</td>\n",
       "      <td>31.28554</td>\n",
       "      <td>36.91118</td>\n",
       "      <td>31.50909</td>\n",
       "      <td>29.53435</td>\n",
       "    </tr>\n",
       "    <tr>\n",
       "      <th>3</th>\n",
       "      <td>33.504572</td>\n",
       "      <td>34.388289</td>\n",
       "      <td>35.522805</td>\n",
       "      <td>22.030411</td>\n",
       "      <td>24.479975</td>\n",
       "      <td>28.863519</td>\n",
       "      <td>32.663189</td>\n",
       "      <td>35.605425</td>\n",
       "      <td>22.42737</td>\n",
       "      <td>28.099958</td>\n",
       "      <td>...</td>\n",
       "      <td>32.79986</td>\n",
       "      <td>34.23986</td>\n",
       "      <td>33.32578</td>\n",
       "      <td>35.75049</td>\n",
       "      <td>31.97237</td>\n",
       "      <td>32.69261</td>\n",
       "      <td>30.86918</td>\n",
       "      <td>35.41662</td>\n",
       "      <td>32.18003</td>\n",
       "      <td>29.32770</td>\n",
       "    </tr>\n",
       "    <tr>\n",
       "      <th>4</th>\n",
       "      <td>33.960169</td>\n",
       "      <td>32.784996</td>\n",
       "      <td>36.050989</td>\n",
       "      <td>22.030411</td>\n",
       "      <td>21.292506</td>\n",
       "      <td>25.036127</td>\n",
       "      <td>33.156714</td>\n",
       "      <td>35.929770</td>\n",
       "      <td>22.42737</td>\n",
       "      <td>23.306138</td>\n",
       "      <td>...</td>\n",
       "      <td>29.91208</td>\n",
       "      <td>33.44003</td>\n",
       "      <td>33.49095</td>\n",
       "      <td>37.18068</td>\n",
       "      <td>33.31277</td>\n",
       "      <td>30.10995</td>\n",
       "      <td>28.88966</td>\n",
       "      <td>36.12132</td>\n",
       "      <td>32.74898</td>\n",
       "      <td>30.59498</td>\n",
       "    </tr>\n",
       "  </tbody>\n",
       "</table>\n",
       "<p>5 rows × 75 columns</p>\n",
       "</div>"
      ],
      "text/plain": [
       "       AKAP1     AKAP10     AKAP13     AKAP14      AKAP4      AKAP5  \\\n",
       "0  34.608085  33.496161  35.071896  22.030411  21.292506  25.036127   \n",
       "1  33.991203  33.321684  35.360390  22.030411  22.762193  28.279929   \n",
       "2  33.383751  33.224008  35.090412  22.030411  21.292506  29.082875   \n",
       "3  33.504572  34.388289  35.522805  22.030411  24.479975  28.863519   \n",
       "4  33.960169  32.784996  36.050989  22.030411  21.292506  25.036127   \n",
       "\n",
       "       AKAP8      AKAP9    CAMK2A     CAMK2B  ...     PRKCE     PRKG1  \\\n",
       "0  32.364362  34.799151  22.42737  23.306138  ...  30.94168  31.13806   \n",
       "1  32.865812  35.333528  22.42737  29.331953  ...  31.93903  33.28840   \n",
       "2  33.310765  34.894155  22.42737  28.546066  ...  31.21546  30.52351   \n",
       "3  32.663189  35.605425  22.42737  28.099958  ...  32.79986  34.23986   \n",
       "4  33.156714  35.929770  22.42737  23.306138  ...  29.91208  33.44003   \n",
       "\n",
       "       PRKX      PTK2     PTK2B   RPS6KA1      TAB1      TAB2      TAB3  \\\n",
       "0  32.67034  34.68831  33.57576  33.94669  31.95379  34.91153  31.28668   \n",
       "1  34.36043  35.21949  32.41343  32.19080  31.26559  35.52924  31.96868   \n",
       "2  33.07848  35.37110  31.08899  32.79330  31.28554  36.91118  31.50909   \n",
       "3  33.32578  35.75049  31.97237  32.69261  30.86918  35.41662  32.18003   \n",
       "4  33.49095  37.18068  33.31277  30.10995  28.88966  36.12132  32.74898   \n",
       "\n",
       "      ZAP70  \n",
       "0  31.17945  \n",
       "1  29.38780  \n",
       "2  29.53435  \n",
       "3  29.32770  \n",
       "4  30.59498  \n",
       "\n",
       "[5 rows x 75 columns]"
      ]
     },
     "execution_count": 15,
     "metadata": {},
     "output_type": "execute_result"
    }
   ],
   "source": [
    "final_genes = pd.DataFrame(columns=genes)\n",
    "for g in genes:\n",
    "    if g in rna.columns:\n",
    "        final_genes[g] = rna[g]\n",
    "    else:\n",
    "        print(g)\n",
    "final_genes.head()"
   ]
  },
  {
   "cell_type": "code",
   "execution_count": 16,
   "metadata": {},
   "outputs": [],
   "source": [
    "final_genes.to_csv(\"../Cytoscape/Kinase_gene_matrix_0.9confidence_75_nodes.csv\")"
   ]
  },
  {
   "cell_type": "code",
   "execution_count": 17,
   "metadata": {},
   "outputs": [],
   "source": [
    "g1 = data.gene1.to_numpy()\n",
    "g2 = data.gene2.to_numpy()"
   ]
  },
  {
   "cell_type": "code",
   "execution_count": 18,
   "metadata": {},
   "outputs": [],
   "source": [
    "genes = np.concatenate((g1,g2), axis=00)"
   ]
  },
  {
   "cell_type": "code",
   "execution_count": 19,
   "metadata": {},
   "outputs": [],
   "source": [
    "genes2 = np.concatenate((g2,g1), axis=0)"
   ]
  },
  {
   "cell_type": "code",
   "execution_count": 20,
   "metadata": {},
   "outputs": [
    {
     "data": {
      "text/plain": [
       "['AKAP1',\n",
       " 'AKAP10',\n",
       " 'AKAP13',\n",
       " 'AKAP14',\n",
       " 'AKAP4',\n",
       " 'AKAP5',\n",
       " 'AKAP8',\n",
       " 'AKAP9',\n",
       " 'CAMK2A',\n",
       " 'CAMK2B',\n",
       " 'CAMK2D',\n",
       " 'CAMK2G',\n",
       " 'CAMK4',\n",
       " 'CAMKK1',\n",
       " 'CAMKK2',\n",
       " 'GIT1',\n",
       " 'GIT2',\n",
       " 'LCK',\n",
       " 'MAP2K1',\n",
       " 'MAP2K2',\n",
       " 'MAP2K3',\n",
       " 'MAP2K4',\n",
       " 'MAP2K5',\n",
       " 'MAP2K7',\n",
       " 'MAP3K1',\n",
       " 'MAP3K11',\n",
       " 'MAP3K2',\n",
       " 'MAP3K3',\n",
       " 'MAP3K5',\n",
       " 'MAP3K6',\n",
       " 'MAP3K7',\n",
       " 'MAP4K4',\n",
       " 'MAPK1',\n",
       " 'MAPK10',\n",
       " 'MAPK11',\n",
       " 'MAPK14',\n",
       " 'MAPK3',\n",
       " 'MAPK7',\n",
       " 'MAPK8',\n",
       " 'MAPK8IP1',\n",
       " 'MAPK8IP3',\n",
       " 'MAPK9',\n",
       " 'MAPKAPK2',\n",
       " 'MAPKAPK3',\n",
       " 'PAK1',\n",
       " 'PAK2',\n",
       " 'PAK3',\n",
       " 'PAK4',\n",
       " 'PKIA',\n",
       " 'PKN1',\n",
       " 'PRKAA1',\n",
       " 'PRKAA2',\n",
       " 'PRKAB1',\n",
       " 'PRKAB2',\n",
       " 'PRKACA',\n",
       " 'PRKACB',\n",
       " 'PRKACG',\n",
       " 'PRKAG1',\n",
       " 'PRKAG2',\n",
       " 'PRKAG3',\n",
       " 'PRKAR1A',\n",
       " 'PRKAR1B',\n",
       " 'PRKAR2A',\n",
       " 'PRKAR2B',\n",
       " 'PRKCD',\n",
       " 'PRKCE',\n",
       " 'PRKG1',\n",
       " 'PRKX',\n",
       " 'PTK2',\n",
       " 'PTK2B',\n",
       " 'RPS6KA1',\n",
       " 'TAB1',\n",
       " 'TAB2',\n",
       " 'TAB3',\n",
       " 'ZAP70']"
      ]
     },
     "execution_count": 20,
     "metadata": {},
     "output_type": "execute_result"
    }
   ],
   "source": [
    "from sklearn import preprocessing\n",
    "le = preprocessing.LabelEncoder()\n",
    "le.fit(genes)\n",
    "list(le.classes_)"
   ]
  },
  {
   "cell_type": "code",
   "execution_count": 21,
   "metadata": {},
   "outputs": [],
   "source": [
    "genes = le.transform(genes)\n",
    "genes2 = le.transform(genes2)"
   ]
  },
  {
   "cell_type": "code",
   "execution_count": 22,
   "metadata": {},
   "outputs": [
    {
     "data": {
      "text/plain": [
       "array([63, 27, 63, 27, 63, 72, 63, 72, 63, 55, 63, 55, 63, 55, 63, 51,  6,\n",
       "       56,  6, 56,  6, 13, 60, 60, 44, 13, 38, 44,  9, 44, 22, 44, 44, 22,\n",
       "       44, 22, 44, 32, 12, 32, 58, 32, 58, 32, 58, 32, 32, 18, 71, 65, 71,\n",
       "       65, 71, 65, 71, 65, 71, 65, 71, 54,  1, 54,  1, 54, 52, 54, 52, 54,\n",
       "       52, 54, 52, 54, 52, 54, 52, 25, 35, 25, 35, 14, 35, 45, 35, 45, 35,\n",
       "       45, 45, 11, 11, 39, 11, 39, 57, 39, 57, 40, 57, 40, 57, 53, 57, 53,\n",
       "       57, 53, 57, 53, 34, 53, 34, 17, 67, 17, 19, 17, 19, 10, 36, 10, 36,\n",
       "       68, 36, 68, 68, 49, 74, 49, 62, 49, 62, 31, 62, 62, 20, 62, 20, 62,\n",
       "       50, 62, 50, 62, 16, 62, 16, 62,  7, 62,  7, 62,  4, 62, 28, 62, 28,\n",
       "       63, 28, 63, 33, 63, 46, 63,  2, 63,  2,  0, 72,  7, 30, 60, 73,  5,\n",
       "       30, 61, 56, 55, 61, 54, 60, 56, 59, 57, 61, 56, 60, 55,  9,  0, 61,\n",
       "       47, 14, 23, 46,  8, 68, 26, 17, 45, 27, 16, 37, 15, 68,  9, 17, 57,\n",
       "       36, 50, 70, 51, 18, 19, 24, 66, 55, 27, 57, 73,  7, 72, 56, 30, 49,\n",
       "       35,  4, 62,  3, 60, 56, 59,  5, 53, 48, 58, 55, 50, 60, 51, 61, 57,\n",
       "       38, 66, 23, 20,  9, 34, 47, 43, 68, 42, 46, 16,  9,  8, 41, 10, 23,\n",
       "       49, 38,  2, 17,  7, 68, 56, 59, 55, 50, 50, 58, 51, 51, 42, 57, 43,\n",
       "       16, 60, 68, 18, 69, 36,  8, 17,  9, 64, 46, 18, 47, 16, 55, 17, 56,\n",
       "       65,  7, 49, 24, 57,  3, 28, 60, 27, 61, 59,  4, 51,  2, 47,  6, 46,\n",
       "        7, 56, 56, 55, 63, 55, 54,  9, 55, 21, 49, 29, 65, 21, 57, 47,  6,\n",
       "       55,  2, 56])"
      ]
     },
     "execution_count": 22,
     "metadata": {},
     "output_type": "execute_result"
    }
   ],
   "source": [
    "genes"
   ]
  },
  {
   "cell_type": "code",
   "execution_count": 23,
   "metadata": {},
   "outputs": [
    {
     "data": {
      "text/plain": [
       "array([ 0, 72,  7, 30, 60, 73,  5, 30, 61, 56, 55, 61, 54, 60, 56, 59, 57,\n",
       "       61, 56, 60, 55,  9,  0, 61, 47, 14, 23, 46,  8, 68, 26, 17, 45, 27,\n",
       "       16, 37, 15, 68,  9, 17, 57, 36, 50, 70, 51, 18, 19, 24, 66, 55, 27,\n",
       "       57, 73,  7, 72, 56, 30, 49, 35,  4, 62,  3, 60, 56, 59,  5, 53, 48,\n",
       "       58, 55, 50, 60, 51, 61, 57, 38, 66, 23, 20,  9, 34, 47, 43, 68, 42,\n",
       "       46, 16,  9,  8, 41, 10, 23, 49, 38,  2, 17,  7, 68, 56, 59, 55, 50,\n",
       "       50, 58, 51, 51, 42, 57, 43, 16, 60, 68, 18, 69, 36,  8, 17,  9, 64,\n",
       "       46, 18, 47, 16, 55, 17, 56, 65,  7, 49, 24, 57,  3, 28, 60, 27, 61,\n",
       "       59,  4, 51,  2, 47,  6, 46,  7, 56, 56, 55, 63, 55, 54,  9, 55, 21,\n",
       "       49, 29, 65, 21, 57, 47,  6, 55,  2, 56, 63, 27, 63, 27, 63, 72, 63,\n",
       "       72, 63, 55, 63, 55, 63, 55, 63, 51,  6, 56,  6, 56,  6, 13, 60, 60,\n",
       "       44, 13, 38, 44,  9, 44, 22, 44, 44, 22, 44, 22, 44, 32, 12, 32, 58,\n",
       "       32, 58, 32, 58, 32, 32, 18, 71, 65, 71, 65, 71, 65, 71, 65, 71, 65,\n",
       "       71, 54,  1, 54,  1, 54, 52, 54, 52, 54, 52, 54, 52, 54, 52, 54, 52,\n",
       "       25, 35, 25, 35, 14, 35, 45, 35, 45, 35, 45, 45, 11, 11, 39, 11, 39,\n",
       "       57, 39, 57, 40, 57, 40, 57, 53, 57, 53, 57, 53, 57, 53, 34, 53, 34,\n",
       "       17, 67, 17, 19, 17, 19, 10, 36, 10, 36, 68, 36, 68, 68, 49, 74, 49,\n",
       "       62, 49, 62, 31, 62, 62, 20, 62, 20, 62, 50, 62, 50, 62, 16, 62, 16,\n",
       "       62,  7, 62,  7, 62,  4, 62, 28, 62, 28, 63, 28, 63, 33, 63, 46, 63,\n",
       "        2, 63,  2])"
      ]
     },
     "execution_count": 23,
     "metadata": {},
     "output_type": "execute_result"
    }
   ],
   "source": [
    "genes2"
   ]
  }
 ],
 "metadata": {
  "kernelspec": {
   "display_name": "Python 3.9.13 64-bit (microsoft store)",
   "language": "python",
   "name": "python3"
  },
  "language_info": {
   "codemirror_mode": {
    "name": "ipython",
    "version": 3
   },
   "file_extension": ".py",
   "mimetype": "text/x-python",
   "name": "python",
   "nbconvert_exporter": "python",
   "pygments_lexer": "ipython3",
   "version": "3.9.13"
  },
  "orig_nbformat": 4,
  "vscode": {
   "interpreter": {
    "hash": "fb15f1e0f376981e7b6e1fc44ae8b8146823f10f258bcd6e448b0230b889fc06"
   }
  }
 },
 "nbformat": 4,
 "nbformat_minor": 2
}
