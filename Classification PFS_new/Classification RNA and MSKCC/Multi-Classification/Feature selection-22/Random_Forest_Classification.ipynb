{
 "cells": [
  {
   "cell_type": "markdown",
   "metadata": {},
   "source": [
    "# Classification model using Random Forest"
   ]
  },
  {
   "cell_type": "markdown",
   "metadata": {},
   "source": [
    "### 1. Import libraries"
   ]
  },
  {
   "cell_type": "code",
   "execution_count": 4,
   "metadata": {},
   "outputs": [],
   "source": [
    "import pandas as pd\n",
    "import numpy as np\n",
    "import matplotlib.pyplot as plt\n",
    "from sklearn.model_selection import train_test_split\n",
    "from sklearn.ensemble import RandomForestClassifier\n",
    "from sklearn.model_selection import GridSearchCV\n"
   ]
  },
  {
   "cell_type": "markdown",
   "metadata": {},
   "source": [
    "### 2. Upload Clinic data"
   ]
  },
  {
   "cell_type": "code",
   "execution_count": 5,
   "metadata": {},
   "outputs": [
    {
     "data": {
      "text/html": [
       "<div>\n",
       "<style scoped>\n",
       "    .dataframe tbody tr th:only-of-type {\n",
       "        vertical-align: middle;\n",
       "    }\n",
       "\n",
       "    .dataframe tbody tr th {\n",
       "        vertical-align: top;\n",
       "    }\n",
       "\n",
       "    .dataframe thead th {\n",
       "        text-align: right;\n",
       "    }\n",
       "</style>\n",
       "<table border=\"1\" class=\"dataframe\">\n",
       "  <thead>\n",
       "    <tr style=\"text-align: right;\">\n",
       "      <th></th>\n",
       "      <th>Unnamed: 0</th>\n",
       "      <th>RNA_ID</th>\n",
       "      <th>Age</th>\n",
       "      <th>Sarc</th>\n",
       "      <th>Rhab</th>\n",
       "      <th>Number_of_Prior_Therapies</th>\n",
       "      <th>Days_from_TumorSample_Collection_and_Start_of_Trial_Therapy</th>\n",
       "      <th>Tumor_Shrinkage</th>\n",
       "      <th>PFS</th>\n",
       "      <th>TM_TC_Ratio</th>\n",
       "      <th>...</th>\n",
       "      <th>CTC-523E23.14</th>\n",
       "      <th>CTD-2050N2.1</th>\n",
       "      <th>DDX43P2</th>\n",
       "      <th>GLUD1P4</th>\n",
       "      <th>LINC01446</th>\n",
       "      <th>LINC01602</th>\n",
       "      <th>RNF212</th>\n",
       "      <th>RP11-123J14.1</th>\n",
       "      <th>RP11-326N17.1</th>\n",
       "      <th>RP11-353N14.5</th>\n",
       "    </tr>\n",
       "  </thead>\n",
       "  <tbody>\n",
       "    <tr>\n",
       "      <th>0</th>\n",
       "      <td>0</td>\n",
       "      <td>G138701_RCCBMS-00020-T_v1_RNA_OnPrem</td>\n",
       "      <td>62.0</td>\n",
       "      <td>0.0</td>\n",
       "      <td>0.0</td>\n",
       "      <td>2.0</td>\n",
       "      <td>962.0</td>\n",
       "      <td>-16.406250</td>\n",
       "      <td>12.164384</td>\n",
       "      <td>0.766909</td>\n",
       "      <td>...</td>\n",
       "      <td>21.01388</td>\n",
       "      <td>21.02976</td>\n",
       "      <td>20.99861</td>\n",
       "      <td>21.07023</td>\n",
       "      <td>20.99572</td>\n",
       "      <td>21.03733</td>\n",
       "      <td>30.21949</td>\n",
       "      <td>21.00825</td>\n",
       "      <td>20.99301</td>\n",
       "      <td>21.10114</td>\n",
       "    </tr>\n",
       "    <tr>\n",
       "      <th>1</th>\n",
       "      <td>1</td>\n",
       "      <td>G138701_RCCBMS-00097-T_v1_RNA_OnPrem</td>\n",
       "      <td>67.0</td>\n",
       "      <td>0.0</td>\n",
       "      <td>0.0</td>\n",
       "      <td>2.0</td>\n",
       "      <td>254.0</td>\n",
       "      <td>-40.000000</td>\n",
       "      <td>5.490411</td>\n",
       "      <td>0.773269</td>\n",
       "      <td>...</td>\n",
       "      <td>21.01388</td>\n",
       "      <td>21.02976</td>\n",
       "      <td>20.99861</td>\n",
       "      <td>21.07023</td>\n",
       "      <td>22.16510</td>\n",
       "      <td>21.03733</td>\n",
       "      <td>30.76723</td>\n",
       "      <td>21.00825</td>\n",
       "      <td>20.99301</td>\n",
       "      <td>21.10114</td>\n",
       "    </tr>\n",
       "    <tr>\n",
       "      <th>2</th>\n",
       "      <td>2</td>\n",
       "      <td>G138701_RCCBMS-00141-T_v1_RNA_OnPrem</td>\n",
       "      <td>62.0</td>\n",
       "      <td>0.0</td>\n",
       "      <td>0.0</td>\n",
       "      <td>1.0</td>\n",
       "      <td>800.0</td>\n",
       "      <td>-89.436620</td>\n",
       "      <td>61.906849</td>\n",
       "      <td>1.782859</td>\n",
       "      <td>...</td>\n",
       "      <td>21.01388</td>\n",
       "      <td>21.02976</td>\n",
       "      <td>20.99861</td>\n",
       "      <td>21.07023</td>\n",
       "      <td>20.99572</td>\n",
       "      <td>21.03733</td>\n",
       "      <td>27.61482</td>\n",
       "      <td>21.00825</td>\n",
       "      <td>20.99301</td>\n",
       "      <td>21.10114</td>\n",
       "    </tr>\n",
       "    <tr>\n",
       "      <th>3</th>\n",
       "      <td>3</td>\n",
       "      <td>G138701_RCCBMS-00099-T_v1_RNA_OnPrem</td>\n",
       "      <td>60.0</td>\n",
       "      <td>0.0</td>\n",
       "      <td>0.0</td>\n",
       "      <td>3.0</td>\n",
       "      <td>790.0</td>\n",
       "      <td>11.787072</td>\n",
       "      <td>1.249315</td>\n",
       "      <td>5.890573</td>\n",
       "      <td>...</td>\n",
       "      <td>21.01388</td>\n",
       "      <td>21.02976</td>\n",
       "      <td>20.99861</td>\n",
       "      <td>21.07023</td>\n",
       "      <td>20.99572</td>\n",
       "      <td>21.03733</td>\n",
       "      <td>32.89925</td>\n",
       "      <td>21.00825</td>\n",
       "      <td>20.99301</td>\n",
       "      <td>21.10114</td>\n",
       "    </tr>\n",
       "    <tr>\n",
       "      <th>4</th>\n",
       "      <td>4</td>\n",
       "      <td>G138701_RCCBMS-00163-T_v1_RNA_OnPrem</td>\n",
       "      <td>76.0</td>\n",
       "      <td>0.0</td>\n",
       "      <td>0.0</td>\n",
       "      <td>2.0</td>\n",
       "      <td>1241.0</td>\n",
       "      <td>0.000000</td>\n",
       "      <td>5.654795</td>\n",
       "      <td>1.374775</td>\n",
       "      <td>...</td>\n",
       "      <td>21.01388</td>\n",
       "      <td>21.02976</td>\n",
       "      <td>20.99861</td>\n",
       "      <td>21.07023</td>\n",
       "      <td>20.99572</td>\n",
       "      <td>21.03733</td>\n",
       "      <td>23.21111</td>\n",
       "      <td>21.00825</td>\n",
       "      <td>20.99301</td>\n",
       "      <td>21.10114</td>\n",
       "    </tr>\n",
       "  </tbody>\n",
       "</table>\n",
       "<p>5 rows × 49 columns</p>\n",
       "</div>"
      ],
      "text/plain": [
       "   Unnamed: 0                                RNA_ID   Age  Sarc  Rhab  \\\n",
       "0           0  G138701_RCCBMS-00020-T_v1_RNA_OnPrem  62.0   0.0   0.0   \n",
       "1           1  G138701_RCCBMS-00097-T_v1_RNA_OnPrem  67.0   0.0   0.0   \n",
       "2           2  G138701_RCCBMS-00141-T_v1_RNA_OnPrem  62.0   0.0   0.0   \n",
       "3           3  G138701_RCCBMS-00099-T_v1_RNA_OnPrem  60.0   0.0   0.0   \n",
       "4           4  G138701_RCCBMS-00163-T_v1_RNA_OnPrem  76.0   0.0   0.0   \n",
       "\n",
       "   Number_of_Prior_Therapies  \\\n",
       "0                        2.0   \n",
       "1                        2.0   \n",
       "2                        1.0   \n",
       "3                        3.0   \n",
       "4                        2.0   \n",
       "\n",
       "   Days_from_TumorSample_Collection_and_Start_of_Trial_Therapy  \\\n",
       "0                                              962.0             \n",
       "1                                              254.0             \n",
       "2                                              800.0             \n",
       "3                                              790.0             \n",
       "4                                             1241.0             \n",
       "\n",
       "   Tumor_Shrinkage        PFS  TM_TC_Ratio  ...  CTC-523E23.14  CTD-2050N2.1  \\\n",
       "0       -16.406250  12.164384     0.766909  ...       21.01388      21.02976   \n",
       "1       -40.000000   5.490411     0.773269  ...       21.01388      21.02976   \n",
       "2       -89.436620  61.906849     1.782859  ...       21.01388      21.02976   \n",
       "3        11.787072   1.249315     5.890573  ...       21.01388      21.02976   \n",
       "4         0.000000   5.654795     1.374775  ...       21.01388      21.02976   \n",
       "\n",
       "    DDX43P2   GLUD1P4  LINC01446  LINC01602    RNF212  RP11-123J14.1  \\\n",
       "0  20.99861  21.07023   20.99572   21.03733  30.21949       21.00825   \n",
       "1  20.99861  21.07023   22.16510   21.03733  30.76723       21.00825   \n",
       "2  20.99861  21.07023   20.99572   21.03733  27.61482       21.00825   \n",
       "3  20.99861  21.07023   20.99572   21.03733  32.89925       21.00825   \n",
       "4  20.99861  21.07023   20.99572   21.03733  23.21111       21.00825   \n",
       "\n",
       "   RP11-326N17.1  RP11-353N14.5  \n",
       "0       20.99301       21.10114  \n",
       "1       20.99301       21.10114  \n",
       "2       20.99301       21.10114  \n",
       "3       20.99301       21.10114  \n",
       "4       20.99301       21.10114  \n",
       "\n",
       "[5 rows x 49 columns]"
      ]
     },
     "execution_count": 5,
     "metadata": {},
     "output_type": "execute_result"
    }
   ],
   "source": [
    "path ='../../../../Data_preprocessing/Prediction PFS/RNA+Clinic joined/New/Clinical_data_and_RNA_22_Features_PFS.csv'\n",
    "data = pd.read_csv(path)\n",
    "data.head()"
   ]
  },
  {
   "cell_type": "code",
   "execution_count": 6,
   "metadata": {},
   "outputs": [
    {
     "data": {
      "text/html": [
       "<div>\n",
       "<style scoped>\n",
       "    .dataframe tbody tr th:only-of-type {\n",
       "        vertical-align: middle;\n",
       "    }\n",
       "\n",
       "    .dataframe tbody tr th {\n",
       "        vertical-align: top;\n",
       "    }\n",
       "\n",
       "    .dataframe thead th {\n",
       "        text-align: right;\n",
       "    }\n",
       "</style>\n",
       "<table border=\"1\" class=\"dataframe\">\n",
       "  <thead>\n",
       "    <tr style=\"text-align: right;\">\n",
       "      <th></th>\n",
       "      <th>RNA_ID</th>\n",
       "      <th>MSKCC_FAVORABLE</th>\n",
       "      <th>MSKCC_INTERMEDIATE</th>\n",
       "      <th>MSKCC_NA</th>\n",
       "      <th>MSKCC_POOR</th>\n",
       "      <th>PFS</th>\n",
       "      <th>AC006007.1</th>\n",
       "      <th>AC006262.10</th>\n",
       "      <th>AC006296.2</th>\n",
       "      <th>AC010729.2</th>\n",
       "      <th>...</th>\n",
       "      <th>CTC-523E23.14</th>\n",
       "      <th>CTD-2050N2.1</th>\n",
       "      <th>DDX43P2</th>\n",
       "      <th>GLUD1P4</th>\n",
       "      <th>LINC01446</th>\n",
       "      <th>LINC01602</th>\n",
       "      <th>RNF212</th>\n",
       "      <th>RP11-123J14.1</th>\n",
       "      <th>RP11-326N17.1</th>\n",
       "      <th>RP11-353N14.5</th>\n",
       "    </tr>\n",
       "  </thead>\n",
       "  <tbody>\n",
       "    <tr>\n",
       "      <th>0</th>\n",
       "      <td>G138701_RCCBMS-00020-T_v1_RNA_OnPrem</td>\n",
       "      <td>1</td>\n",
       "      <td>0</td>\n",
       "      <td>0</td>\n",
       "      <td>0</td>\n",
       "      <td>12.164384</td>\n",
       "      <td>21.024011</td>\n",
       "      <td>20.998508</td>\n",
       "      <td>21.01321</td>\n",
       "      <td>21.050318</td>\n",
       "      <td>...</td>\n",
       "      <td>21.01388</td>\n",
       "      <td>21.02976</td>\n",
       "      <td>20.99861</td>\n",
       "      <td>21.07023</td>\n",
       "      <td>20.99572</td>\n",
       "      <td>21.03733</td>\n",
       "      <td>30.21949</td>\n",
       "      <td>21.00825</td>\n",
       "      <td>20.99301</td>\n",
       "      <td>21.10114</td>\n",
       "    </tr>\n",
       "    <tr>\n",
       "      <th>1</th>\n",
       "      <td>G138701_RCCBMS-00097-T_v1_RNA_OnPrem</td>\n",
       "      <td>1</td>\n",
       "      <td>0</td>\n",
       "      <td>0</td>\n",
       "      <td>0</td>\n",
       "      <td>5.490411</td>\n",
       "      <td>21.024011</td>\n",
       "      <td>20.998508</td>\n",
       "      <td>21.01321</td>\n",
       "      <td>21.050318</td>\n",
       "      <td>...</td>\n",
       "      <td>21.01388</td>\n",
       "      <td>21.02976</td>\n",
       "      <td>20.99861</td>\n",
       "      <td>21.07023</td>\n",
       "      <td>22.16510</td>\n",
       "      <td>21.03733</td>\n",
       "      <td>30.76723</td>\n",
       "      <td>21.00825</td>\n",
       "      <td>20.99301</td>\n",
       "      <td>21.10114</td>\n",
       "    </tr>\n",
       "    <tr>\n",
       "      <th>2</th>\n",
       "      <td>G138701_RCCBMS-00141-T_v1_RNA_OnPrem</td>\n",
       "      <td>0</td>\n",
       "      <td>0</td>\n",
       "      <td>0</td>\n",
       "      <td>1</td>\n",
       "      <td>61.906849</td>\n",
       "      <td>21.024011</td>\n",
       "      <td>20.998508</td>\n",
       "      <td>21.01321</td>\n",
       "      <td>21.050318</td>\n",
       "      <td>...</td>\n",
       "      <td>21.01388</td>\n",
       "      <td>21.02976</td>\n",
       "      <td>20.99861</td>\n",
       "      <td>21.07023</td>\n",
       "      <td>20.99572</td>\n",
       "      <td>21.03733</td>\n",
       "      <td>27.61482</td>\n",
       "      <td>21.00825</td>\n",
       "      <td>20.99301</td>\n",
       "      <td>21.10114</td>\n",
       "    </tr>\n",
       "    <tr>\n",
       "      <th>3</th>\n",
       "      <td>G138701_RCCBMS-00099-T_v1_RNA_OnPrem</td>\n",
       "      <td>1</td>\n",
       "      <td>0</td>\n",
       "      <td>0</td>\n",
       "      <td>0</td>\n",
       "      <td>1.249315</td>\n",
       "      <td>21.024011</td>\n",
       "      <td>20.998508</td>\n",
       "      <td>21.01321</td>\n",
       "      <td>21.050318</td>\n",
       "      <td>...</td>\n",
       "      <td>21.01388</td>\n",
       "      <td>21.02976</td>\n",
       "      <td>20.99861</td>\n",
       "      <td>21.07023</td>\n",
       "      <td>20.99572</td>\n",
       "      <td>21.03733</td>\n",
       "      <td>32.89925</td>\n",
       "      <td>21.00825</td>\n",
       "      <td>20.99301</td>\n",
       "      <td>21.10114</td>\n",
       "    </tr>\n",
       "    <tr>\n",
       "      <th>4</th>\n",
       "      <td>G138701_RCCBMS-00163-T_v1_RNA_OnPrem</td>\n",
       "      <td>0</td>\n",
       "      <td>1</td>\n",
       "      <td>0</td>\n",
       "      <td>0</td>\n",
       "      <td>5.654795</td>\n",
       "      <td>21.024011</td>\n",
       "      <td>20.998508</td>\n",
       "      <td>21.01321</td>\n",
       "      <td>21.050318</td>\n",
       "      <td>...</td>\n",
       "      <td>21.01388</td>\n",
       "      <td>21.02976</td>\n",
       "      <td>20.99861</td>\n",
       "      <td>21.07023</td>\n",
       "      <td>20.99572</td>\n",
       "      <td>21.03733</td>\n",
       "      <td>23.21111</td>\n",
       "      <td>21.00825</td>\n",
       "      <td>20.99301</td>\n",
       "      <td>21.10114</td>\n",
       "    </tr>\n",
       "  </tbody>\n",
       "</table>\n",
       "<p>5 rows × 28 columns</p>\n",
       "</div>"
      ],
      "text/plain": [
       "                                 RNA_ID  MSKCC_FAVORABLE  MSKCC_INTERMEDIATE  \\\n",
       "0  G138701_RCCBMS-00020-T_v1_RNA_OnPrem                1                   0   \n",
       "1  G138701_RCCBMS-00097-T_v1_RNA_OnPrem                1                   0   \n",
       "2  G138701_RCCBMS-00141-T_v1_RNA_OnPrem                0                   0   \n",
       "3  G138701_RCCBMS-00099-T_v1_RNA_OnPrem                1                   0   \n",
       "4  G138701_RCCBMS-00163-T_v1_RNA_OnPrem                0                   1   \n",
       "\n",
       "   MSKCC_NA  MSKCC_POOR        PFS  AC006007.1  AC006262.10  AC006296.2  \\\n",
       "0         0           0  12.164384   21.024011    20.998508    21.01321   \n",
       "1         0           0   5.490411   21.024011    20.998508    21.01321   \n",
       "2         0           1  61.906849   21.024011    20.998508    21.01321   \n",
       "3         0           0   1.249315   21.024011    20.998508    21.01321   \n",
       "4         0           0   5.654795   21.024011    20.998508    21.01321   \n",
       "\n",
       "   AC010729.2  ...  CTC-523E23.14  CTD-2050N2.1   DDX43P2   GLUD1P4  \\\n",
       "0   21.050318  ...       21.01388      21.02976  20.99861  21.07023   \n",
       "1   21.050318  ...       21.01388      21.02976  20.99861  21.07023   \n",
       "2   21.050318  ...       21.01388      21.02976  20.99861  21.07023   \n",
       "3   21.050318  ...       21.01388      21.02976  20.99861  21.07023   \n",
       "4   21.050318  ...       21.01388      21.02976  20.99861  21.07023   \n",
       "\n",
       "   LINC01446  LINC01602    RNF212  RP11-123J14.1  RP11-326N17.1  RP11-353N14.5  \n",
       "0   20.99572   21.03733  30.21949       21.00825       20.99301       21.10114  \n",
       "1   22.16510   21.03733  30.76723       21.00825       20.99301       21.10114  \n",
       "2   20.99572   21.03733  27.61482       21.00825       20.99301       21.10114  \n",
       "3   20.99572   21.03733  32.89925       21.00825       20.99301       21.10114  \n",
       "4   20.99572   21.03733  23.21111       21.00825       20.99301       21.10114  \n",
       "\n",
       "[5 rows x 28 columns]"
      ]
     },
     "execution_count": 6,
     "metadata": {},
     "output_type": "execute_result"
    }
   ],
   "source": [
    "data = data[['RNA_ID','MSKCC_FAVORABLE', 'MSKCC_INTERMEDIATE', 'MSKCC_NA', 'MSKCC_POOR','PFS','AC006007.1',\n",
    "'AC006262.10',\n",
    "'AC006296.2',\n",
    "'AC010729.2',\n",
    "'AC012363.13',\n",
    "'AC013436.6',\n",
    "'AC023128.1',\n",
    "'AC078842.3',\n",
    "'AC091814.2',\n",
    "'AP000997.2',\n",
    "'AP006285.7',\n",
    "'CTC-436K13.4',\n",
    "'CTC-523E23.14',\n",
    "'CTD-2050N2.1',\n",
    "'DDX43P2',\n",
    "'GLUD1P4',\n",
    "'LINC01446',\n",
    "'LINC01602',\n",
    "'RNF212',\n",
    "'RP11-123J14.1',\n",
    "'RP11-326N17.1',\n",
    "'RP11-353N14.5']]\n",
    "data.head()"
   ]
  },
  {
   "cell_type": "code",
   "execution_count": 7,
   "metadata": {},
   "outputs": [
    {
     "name": "stdout",
     "output_type": "stream",
     "text": [
      "     MSKCC_FAVORABLE  MSKCC_INTERMEDIATE  MSKCC_NA  MSKCC_POOR  AC006007.1  \\\n",
      "0                  1                   0         0           0   21.024011   \n",
      "1                  1                   0         0           0   21.024011   \n",
      "2                  0                   0         0           1   21.024011   \n",
      "3                  1                   0         0           0   21.024011   \n",
      "4                  0                   1         0           0   21.024011   \n",
      "..               ...                 ...       ...         ...         ...   \n",
      "176                0                   0         1           0   20.959318   \n",
      "177                0                   0         1           0   20.959318   \n",
      "178                0                   0         1           0   20.959318   \n",
      "179                0                   0         1           0   20.959318   \n",
      "180                0                   0         1           0   20.959318   \n",
      "\n",
      "     AC006262.10  AC006296.2  AC010729.2  AC012363.13  AC013436.6  ...  \\\n",
      "0      20.998508   21.013210   21.050318    21.026172   21.016676  ...   \n",
      "1      20.998508   21.013210   21.050318    21.026172   21.016676  ...   \n",
      "2      20.998508   21.013210   21.050318    21.026172   21.016676  ...   \n",
      "3      20.998508   21.013210   21.050318    21.026172   21.016676  ...   \n",
      "4      20.998508   21.013210   21.050318    21.026172   21.016676  ...   \n",
      "..           ...         ...         ...          ...         ...  ...   \n",
      "176    21.019131   21.013003   20.915993    21.025902   21.016415  ...   \n",
      "177    21.019131   21.013003   22.671490    21.025902   21.016415  ...   \n",
      "178    21.019131   21.013003   20.915993    21.025902   21.016415  ...   \n",
      "179    21.019131   21.013003   20.915993    21.025902   21.016415  ...   \n",
      "180    21.019131   21.013003   20.915993    21.025902   21.016415  ...   \n",
      "\n",
      "     CTC-523E23.14  CTD-2050N2.1   DDX43P2   GLUD1P4  LINC01446  LINC01602  \\\n",
      "0         21.01388      21.02976  20.99861  21.07023   20.99572   21.03733   \n",
      "1         21.01388      21.02976  20.99861  21.07023   22.16510   21.03733   \n",
      "2         21.01388      21.02976  20.99861  21.07023   20.99572   21.03733   \n",
      "3         21.01388      21.02976  20.99861  21.07023   20.99572   21.03733   \n",
      "4         21.01388      21.02976  20.99861  21.07023   20.99572   21.03733   \n",
      "..             ...           ...       ...       ...        ...        ...   \n",
      "176       21.01366      21.02952  21.01779  21.21335   21.01729   20.94982   \n",
      "177       21.01366      21.02952  21.01779  21.21335   21.01729   20.94982   \n",
      "178       21.01366      21.02952  21.01779  21.21335   21.01729   20.94982   \n",
      "179       21.01366      21.02952  21.01779  21.21335   21.01729   20.94982   \n",
      "180       21.01366      21.02952  21.01779  21.21335   21.01729   23.09325   \n",
      "\n",
      "       RNF212  RP11-123J14.1  RP11-326N17.1  RP11-353N14.5  \n",
      "0    30.21949       21.00825       20.99301       21.10114  \n",
      "1    30.76723       21.00825       20.99301       21.10114  \n",
      "2    27.61482       21.00825       20.99301       21.10114  \n",
      "3    32.89925       21.00825       20.99301       21.10114  \n",
      "4    23.21111       21.00825       20.99301       21.10114  \n",
      "..        ...            ...            ...            ...  \n",
      "176  34.18912       21.10242       21.01682       20.80065  \n",
      "177  30.90626       21.10242       21.01682       21.88210  \n",
      "178  30.71651       21.10242       21.01682       20.80065  \n",
      "179  30.83267       21.10242       21.01682       20.80065  \n",
      "180  28.62406       21.10242       21.01682       20.80065  \n",
      "\n",
      "[181 rows x 26 columns]\n",
      "Numero de pacientes:  181\n"
     ]
    }
   ],
   "source": [
    "Y = [] # Target column\n",
    "# For each entry I classified it by its PFS value.\n",
    "for i in range (len(data)):\n",
    "    if data.PFS[i]<3: # If PFS is lower than 3 months, I will consider it as NonResponder (NR)\n",
    "        Y.append(0)\n",
    "    elif data.PFS[i]<6: # If PFS is over 6 months, I will consider it as Responder (R)\n",
    "        Y.append(1)\n",
    "    else:\n",
    "        Y.append(2) # If PFS is between 3 and 6 months, I will consider it as SemiResponder (SR)\n",
    "        \n",
    "\n",
    "# As I won't need this columns any more, I deleted them.\n",
    "data = data.drop('PFS', axis=1)\n",
    "data = data.drop('RNA_ID', axis=1)\n",
    "\n",
    "X = data.iloc[:,0:36] # I selected all the columns by removing the Unnamed column (row id) and the Target column.\n",
    "\n",
    "print(X)\n",
    "print('Numero de pacientes: ',len(Y))"
   ]
  },
  {
   "cell_type": "markdown",
   "metadata": {},
   "source": [
    "### 3. Train-Test dataset split"
   ]
  },
  {
   "cell_type": "code",
   "execution_count": 8,
   "metadata": {},
   "outputs": [
    {
     "name": "stdout",
     "output_type": "stream",
     "text": [
      "Training set size: 144\n",
      "Target column size of the training set: 144\n",
      "Test set size: 37\n",
      "Target column size of the test set: 37\n"
     ]
    }
   ],
   "source": [
    "XTrain, XTest, yTrain, yTest = train_test_split(X, Y, test_size=0.20, random_state=125)\n",
    "\n",
    "print('Training set size:', len(XTrain))\n",
    "print('Target column size of the training set:', len(yTrain))\n",
    "print('Test set size:', len(XTest))\n",
    "print('Target column size of the test set:', len(yTest))"
   ]
  },
  {
   "cell_type": "code",
   "execution_count": 9,
   "metadata": {},
   "outputs": [
    {
     "data": {
      "text/plain": [
       "GridSearchCV(cv=5, estimator=RandomForestClassifier(),\n",
       "             param_grid={'bootstrap': [True, False],\n",
       "                         'criterion': ['gini', 'entropy'],\n",
       "                         'max_depth': [None, 2, 5, 10, 50],\n",
       "                         'min_samples_leaf': [1, 2, 3],\n",
       "                         'min_samples_split': [2, 3, 4, 5],\n",
       "                         'n_estimators': [10, 20], 'random_state': [125]})"
      ]
     },
     "execution_count": 9,
     "metadata": {},
     "output_type": "execute_result"
    }
   ],
   "source": [
    "param_grid = {'min_samples_leaf': [1, 2, 3],\n",
    "              'min_samples_split': [2, 3, 4, 5],\n",
    "              'random_state':[125],\n",
    "              'n_estimators': [10, 20],\n",
    "              'bootstrap': [True, False],\n",
    "              'criterion': ['gini', 'entropy'],\n",
    "              'max_depth':[None, 2, 5, 10,50]\n",
    "              }\n",
    "\n",
    "# I created a GridSearchCV which allows us to systematically evaluate and select the parameters of our model.\n",
    "# By indicating a model and the parameters to test, you can evaluate the performance of the first one based on the\n",
    "# seconds through cross validation.\n",
    "clf = GridSearchCV(\n",
    "        estimator  = RandomForestClassifier(),\n",
    "        param_grid = param_grid,\n",
    "        cv=5\n",
    "       )\n",
    "\n",
    "clf.fit(XTrain , yTrain)"
   ]
  },
  {
   "cell_type": "code",
   "execution_count": 10,
   "metadata": {},
   "outputs": [
    {
     "name": "stdout",
     "output_type": "stream",
     "text": [
      "Best estimate of parameters according to GridSearchCV:\n"
     ]
    },
    {
     "data": {
      "text/plain": [
       "RandomForestClassifier(bootstrap=False, criterion='entropy', max_depth=2,\n",
       "                       min_samples_leaf=3, n_estimators=20, random_state=125)"
      ]
     },
     "execution_count": 10,
     "metadata": {},
     "output_type": "execute_result"
    }
   ],
   "source": [
    "print(\"Best estimate of parameters according to GridSearchCV:\")\n",
    "model = clf.best_estimator_\n",
    "# Fit the model with the best parameters\n",
    "model.fit(XTrain , yTrain)"
   ]
  },
  {
   "cell_type": "code",
   "execution_count": 11,
   "metadata": {},
   "outputs": [
    {
     "name": "stdout",
     "output_type": "stream",
     "text": [
      "Best result of the cross validation of the model with the best paramters:0.5416256157635467\n"
     ]
    }
   ],
   "source": [
    "print(\"Best result of the cross validation of the model with the best paramters:\" +str(clf.best_score_))"
   ]
  },
  {
   "cell_type": "markdown",
   "metadata": {},
   "source": [
    "### 5. Prediction"
   ]
  },
  {
   "cell_type": "code",
   "execution_count": 12,
   "metadata": {},
   "outputs": [],
   "source": [
    "# Making predictions with the optimal model on the training dataset\n",
    "yhatTrain = model.predict(XTrain)\n",
    "contTrain = 0\n",
    "\n",
    "# Comparing with the Target column and check how many hits there have been\n",
    "for i in range(0,len(yTrain),1) :\n",
    "    if (yhatTrain[i] == yTrain[i]):\n",
    "        contTrain = contTrain + 1"
   ]
  },
  {
   "cell_type": "code",
   "execution_count": 13,
   "metadata": {},
   "outputs": [],
   "source": [
    "# Making predictions with the optimal model on the test dataset\n",
    "yhatTest = model.predict(XTest)\n",
    "contTest = 0\n",
    "\n",
    "# Comparing with the Target column and check how many hits there have been\n",
    "for i in range(0,len(yTest),1) :\n",
    "    if (yhatTest[i] == yTest[i]):\n",
    "        contTest = contTest + 1\n"
   ]
  },
  {
   "cell_type": "markdown",
   "metadata": {},
   "source": [
    "### 6. Results"
   ]
  },
  {
   "cell_type": "code",
   "execution_count": 14,
   "metadata": {},
   "outputs": [
    {
     "name": "stdout",
     "output_type": "stream",
     "text": [
      "Final accuracy on the training dataset:0.5277777777777778\n",
      "Final accuracy on the testing dataset: 0.4594594594594595\n"
     ]
    }
   ],
   "source": [
    "print('Final accuracy on the training dataset:' + str(contTrain/len(yTrain)))\n",
    "print('Final accuracy on the testing dataset: ' + str(contTest/len(yTest)))"
   ]
  },
  {
   "cell_type": "code",
   "execution_count": 15,
   "metadata": {},
   "outputs": [
    {
     "name": "stdout",
     "output_type": "stream",
     "text": [
      "----------------Confusion Matrix (Training)------------------\n",
      "[[60  0  5]\n",
      " [19  0  9]\n",
      " [35  0 16]]\n",
      "Input data:  [0 2 1 1 1 1 0 2 0 1 2 2 1 0 2 0 2 0 0 0 2 1 0 0 2 2 0 1 0 0 1 1 0 2 1 0 1\n",
      " 2 0 2 2 0 0 1 0 1 1 0 1 0 0 1 0 0 0 2 0 2 0 2 1 0 2 2 0 2 2 2 0 2 0 2 0 2\n",
      " 2 0 0 2 0 0 1 2 1 0 0 0 0 2 1 2 2 0 0 2 2 2 2 0 0 0 2 0 2 0 0 0 0 1 0 2 0\n",
      " 2 0 2 1 0 0 0 0 1 2 2 0 2 0 2 2 0 1 2 0 1 2 0 0 2 2 1 2 1 2 2 0 0]\n",
      "Prediction:        [0 0 0 0 0 0 0 0 0 0 0 0 0 0 2 0 2 0 0 0 2 2 0 0 2 0 0 0 0 0 2 0 0 0 0 0 2\n",
      " 0 0 2 0 0 0 2 0 0 0 0 2 0 2 0 0 0 0 2 0 2 0 2 2 0 2 0 0 0 0 0 0 0 0 0 2 0\n",
      " 2 0 0 0 0 0 0 0 0 2 0 0 2 0 0 2 0 0 0 0 0 0 0 0 0 0 0 0 2 0 0 0 0 2 0 0 0\n",
      " 0 0 0 2 0 0 0 0 0 2 0 0 0 0 0 0 0 0 0 0 2 0 2 0 0 0 0 2 0 2 2 0 0]\n"
     ]
    }
   ],
   "source": [
    "from sklearn.metrics import classification_report,confusion_matrix\n",
    "\n",
    "print('----------------Confusion Matrix (Training)------------------')\n",
    "print(confusion_matrix(yTrain,yhatTrain))\n",
    "print('Input data:  ' + str(np.array(yTrain)))\n",
    "print('Prediction:        ' +str(yhatTrain))"
   ]
  },
  {
   "cell_type": "code",
   "execution_count": 16,
   "metadata": {},
   "outputs": [
    {
     "name": "stdout",
     "output_type": "stream",
     "text": [
      "              precision    recall  f1-score   support\n",
      "\n",
      "           0       0.53      0.92      0.67        65\n",
      "           1       0.00      0.00      0.00        28\n",
      "           2       0.53      0.31      0.40        51\n",
      "\n",
      "    accuracy                           0.53       144\n",
      "   macro avg       0.35      0.41      0.36       144\n",
      "weighted avg       0.43      0.53      0.44       144\n",
      "\n"
     ]
    },
    {
     "name": "stderr",
     "output_type": "stream",
     "text": [
      "C:\\Users\\sandr\\AppData\\Local\\Packages\\PythonSoftwareFoundation.Python.3.9_qbz5n2kfra8p0\\LocalCache\\local-packages\\Python39\\site-packages\\sklearn\\metrics\\_classification.py:1308: UndefinedMetricWarning: Precision and F-score are ill-defined and being set to 0.0 in labels with no predicted samples. Use `zero_division` parameter to control this behavior.\n",
      "  _warn_prf(average, modifier, msg_start, len(result))\n",
      "C:\\Users\\sandr\\AppData\\Local\\Packages\\PythonSoftwareFoundation.Python.3.9_qbz5n2kfra8p0\\LocalCache\\local-packages\\Python39\\site-packages\\sklearn\\metrics\\_classification.py:1308: UndefinedMetricWarning: Precision and F-score are ill-defined and being set to 0.0 in labels with no predicted samples. Use `zero_division` parameter to control this behavior.\n",
      "  _warn_prf(average, modifier, msg_start, len(result))\n",
      "C:\\Users\\sandr\\AppData\\Local\\Packages\\PythonSoftwareFoundation.Python.3.9_qbz5n2kfra8p0\\LocalCache\\local-packages\\Python39\\site-packages\\sklearn\\metrics\\_classification.py:1308: UndefinedMetricWarning: Precision and F-score are ill-defined and being set to 0.0 in labels with no predicted samples. Use `zero_division` parameter to control this behavior.\n",
      "  _warn_prf(average, modifier, msg_start, len(result))\n"
     ]
    }
   ],
   "source": [
    "print(classification_report(yTrain,yhatTrain))"
   ]
  },
  {
   "cell_type": "code",
   "execution_count": 17,
   "metadata": {},
   "outputs": [
    {
     "name": "stdout",
     "output_type": "stream",
     "text": [
      "----------------Confusion Matrix (Test)------------------\n",
      "[[15  0  5]\n",
      " [ 3  0  0]\n",
      " [12  0  2]]\n",
      "Input data:  [1 0 0 2 2 1 0 2 2 2 0 0 0 0 0 0 2 0 1 0 0 0 0 2 0 0 2 2 2 0 0 2 0 0 2 2 2]\n",
      "Prediction:        [0 2 0 0 0 0 0 0 2 0 2 2 0 0 0 2 0 0 0 0 0 0 0 0 2 0 0 2 0 0 0 0 0 0 0 0 0]\n"
     ]
    }
   ],
   "source": [
    "print('----------------Confusion Matrix (Test)------------------')\n",
    "print(confusion_matrix(yTest,yhatTest))\n",
    "print('Input data:  ' + str(np.array(yTest)))\n",
    "print('Prediction:        ' +str(yhatTest))"
   ]
  },
  {
   "cell_type": "code",
   "execution_count": 18,
   "metadata": {},
   "outputs": [
    {
     "name": "stdout",
     "output_type": "stream",
     "text": [
      "              precision    recall  f1-score   support\n",
      "\n",
      "           0       0.50      0.75      0.60        20\n",
      "           1       0.00      0.00      0.00         3\n",
      "           2       0.29      0.14      0.19        14\n",
      "\n",
      "    accuracy                           0.46        37\n",
      "   macro avg       0.26      0.30      0.26        37\n",
      "weighted avg       0.38      0.46      0.40        37\n",
      "\n"
     ]
    },
    {
     "name": "stderr",
     "output_type": "stream",
     "text": [
      "C:\\Users\\sandr\\AppData\\Local\\Packages\\PythonSoftwareFoundation.Python.3.9_qbz5n2kfra8p0\\LocalCache\\local-packages\\Python39\\site-packages\\sklearn\\metrics\\_classification.py:1308: UndefinedMetricWarning: Precision and F-score are ill-defined and being set to 0.0 in labels with no predicted samples. Use `zero_division` parameter to control this behavior.\n",
      "  _warn_prf(average, modifier, msg_start, len(result))\n",
      "C:\\Users\\sandr\\AppData\\Local\\Packages\\PythonSoftwareFoundation.Python.3.9_qbz5n2kfra8p0\\LocalCache\\local-packages\\Python39\\site-packages\\sklearn\\metrics\\_classification.py:1308: UndefinedMetricWarning: Precision and F-score are ill-defined and being set to 0.0 in labels with no predicted samples. Use `zero_division` parameter to control this behavior.\n",
      "  _warn_prf(average, modifier, msg_start, len(result))\n",
      "C:\\Users\\sandr\\AppData\\Local\\Packages\\PythonSoftwareFoundation.Python.3.9_qbz5n2kfra8p0\\LocalCache\\local-packages\\Python39\\site-packages\\sklearn\\metrics\\_classification.py:1308: UndefinedMetricWarning: Precision and F-score are ill-defined and being set to 0.0 in labels with no predicted samples. Use `zero_division` parameter to control this behavior.\n",
      "  _warn_prf(average, modifier, msg_start, len(result))\n"
     ]
    }
   ],
   "source": [
    "print(classification_report(yTest,yhatTest))"
   ]
  },
  {
   "cell_type": "code",
   "execution_count": 19,
   "metadata": {},
   "outputs": [
    {
     "data": {
      "image/png": "[encoded data removed]",
      "text/plain": [
       "<Figure size 432x288 with 1 Axes>"
      ]
     },
     "metadata": {
      "needs_background": "light"
     },
     "output_type": "display_data"
    },
    {
     "name": "stdout",
     "output_type": "stream",
     "text": [
      "MSKCC_FAVORABLE = 0.010298273215773002\n",
      "MSKCC_INTERMEDIATE = 0.0358684612709349\n",
      "MSKCC_NA = 0.007204688263979119\n",
      "MSKCC_POOR = 0.008374262300388461\n",
      "AC006007.1 = 0.0\n",
      "AC006262.10 = 0.0\n",
      "AC006296.2 = 0.10656162929811344\n",
      "AC010729.2 = 0.03365682619856646\n",
      "AC012363.13 = 0.10444961350534925\n",
      "AC013436.6 = 0.054346157397879014\n",
      "AC023128.1 = 0.0\n",
      "AC078842.3 = 0.0\n",
      "AC091814.2 = 0.043147473718708224\n",
      "AP000997.2 = 0.00885004844152819\n",
      "AP006285.7 = 0.0\n",
      "CTC-436K13.4 = 0.031405048372289746\n",
      "CTC-523E23.14 = 0.021756346588904584\n",
      "CTD-2050N2.1 = 0.0\n",
      "DDX43P2 = 0.021382834420431134\n",
      "GLUD1P4 = 0.02476600425747339\n",
      "LINC01446 = 0.13920229709934687\n",
      "LINC01602 = 0.006521094341710378\n",
      "RNF212 = 0.07070877767149118\n",
      "RP11-123J14.1 = 0.2359114110398492\n",
      "RP11-326N17.1 = 0.0\n",
      "RP11-353N14.5 = 0.03558875259728346\n"
     ]
    }
   ],
   "source": [
    "# Through the created model we can see which attributes are the most significant to make a decision.\n",
    "# The most relevant attributes will be the ones placed at the top of the tree.\n",
    "features = list(X)\n",
    "importances = model.feature_importances_\n",
    "indices = np.argsort(importances)\n",
    "\n",
    "plt.title('Attribute relevance')\n",
    "plt.barh(range(len(indices)), importances[indices], color='b', align='center')\n",
    "plt.yticks(range(len(indices)), [features[i] for i in indices])\n",
    "plt.xlabel('Relative importance')\n",
    "plt.show()\n",
    "\n",
    "for name, importance in zip(X, model.feature_importances_):\n",
    "    print(name, \"=\", importance)\n",
    "\n",
    "# Attributes whose relevance is 0, will not be necessary to make the prediction of the target."
   ]
  }
 ],
 "metadata": {
  "kernelspec": {
   "display_name": "Python 3.9.13 64-bit (microsoft store)",
   "language": "python",
   "name": "python3"
  },
  "language_info": {
   "codemirror_mode": {
    "name": "ipython",
    "version": 3
   },
   "file_extension": ".py",
   "mimetype": "text/x-python",
   "name": "python",
   "nbconvert_exporter": "python",
   "pygments_lexer": "ipython3",
   "version": "3.9.13"
  },
  "orig_nbformat": 4,
  "vscode": {
   "interpreter": {
    "hash": "fb15f1e0f376981e7b6e1fc44ae8b8146823f10f258bcd6e448b0230b889fc06"
   }
  }
 },
 "nbformat": 4,
 "nbformat_minor": 2
}
