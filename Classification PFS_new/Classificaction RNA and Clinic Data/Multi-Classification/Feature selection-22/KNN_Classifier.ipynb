{
 "cells": [
  {
   "cell_type": "markdown",
   "metadata": {},
   "source": [
    "# Classification model using KNN"
   ]
  },
  {
   "cell_type": "markdown",
   "metadata": {},
   "source": [
    "### 1. Import libraries"
   ]
  },
  {
   "cell_type": "code",
   "execution_count": 1,
   "metadata": {},
   "outputs": [],
   "source": [
    "import pandas as pd\n",
    "from sklearn import neighbors\n",
    "import matplotlib.pyplot as plt\n",
    "from sklearn.model_selection import train_test_split\n",
    "from sklearn import neighbors\n",
    "from sklearn.neighbors import KNeighborsClassifier\n",
    "from sklearn.metrics import accuracy_score\n",
    "import numpy as np\n",
    "from scipy.spatial import distance\n",
    "from sklearn import model_selection"
   ]
  },
  {
   "cell_type": "markdown",
   "metadata": {},
   "source": [
    "### 2. Upload Clinic data"
   ]
  },
  {
   "cell_type": "code",
   "execution_count": 2,
   "metadata": {},
   "outputs": [
    {
     "data": {
      "text/html": [
       "<div>\n",
       "<style scoped>\n",
       "    .dataframe tbody tr th:only-of-type {\n",
       "        vertical-align: middle;\n",
       "    }\n",
       "\n",
       "    .dataframe tbody tr th {\n",
       "        vertical-align: top;\n",
       "    }\n",
       "\n",
       "    .dataframe thead th {\n",
       "        text-align: right;\n",
       "    }\n",
       "</style>\n",
       "<table border=\"1\" class=\"dataframe\">\n",
       "  <thead>\n",
       "    <tr style=\"text-align: right;\">\n",
       "      <th></th>\n",
       "      <th>Unnamed: 0</th>\n",
       "      <th>RNA_ID</th>\n",
       "      <th>Age</th>\n",
       "      <th>Sarc</th>\n",
       "      <th>Rhab</th>\n",
       "      <th>Number_of_Prior_Therapies</th>\n",
       "      <th>Days_from_TumorSample_Collection_and_Start_of_Trial_Therapy</th>\n",
       "      <th>Tumor_Shrinkage</th>\n",
       "      <th>PFS</th>\n",
       "      <th>TM_TC_Ratio</th>\n",
       "      <th>...</th>\n",
       "      <th>CTC-523E23.14</th>\n",
       "      <th>CTD-2050N2.1</th>\n",
       "      <th>DDX43P2</th>\n",
       "      <th>GLUD1P4</th>\n",
       "      <th>LINC01446</th>\n",
       "      <th>LINC01602</th>\n",
       "      <th>RNF212</th>\n",
       "      <th>RP11-123J14.1</th>\n",
       "      <th>RP11-326N17.1</th>\n",
       "      <th>RP11-353N14.5</th>\n",
       "    </tr>\n",
       "  </thead>\n",
       "  <tbody>\n",
       "    <tr>\n",
       "      <th>0</th>\n",
       "      <td>0</td>\n",
       "      <td>G138701_RCCBMS-00020-T_v1_RNA_OnPrem</td>\n",
       "      <td>62.0</td>\n",
       "      <td>0.0</td>\n",
       "      <td>0.0</td>\n",
       "      <td>2.0</td>\n",
       "      <td>962.0</td>\n",
       "      <td>-16.406250</td>\n",
       "      <td>12.164384</td>\n",
       "      <td>0.766909</td>\n",
       "      <td>...</td>\n",
       "      <td>21.01388</td>\n",
       "      <td>21.02976</td>\n",
       "      <td>20.99861</td>\n",
       "      <td>21.07023</td>\n",
       "      <td>20.99572</td>\n",
       "      <td>21.03733</td>\n",
       "      <td>30.21949</td>\n",
       "      <td>21.00825</td>\n",
       "      <td>20.99301</td>\n",
       "      <td>21.10114</td>\n",
       "    </tr>\n",
       "    <tr>\n",
       "      <th>1</th>\n",
       "      <td>1</td>\n",
       "      <td>G138701_RCCBMS-00097-T_v1_RNA_OnPrem</td>\n",
       "      <td>67.0</td>\n",
       "      <td>0.0</td>\n",
       "      <td>0.0</td>\n",
       "      <td>2.0</td>\n",
       "      <td>254.0</td>\n",
       "      <td>-40.000000</td>\n",
       "      <td>5.490411</td>\n",
       "      <td>0.773269</td>\n",
       "      <td>...</td>\n",
       "      <td>21.01388</td>\n",
       "      <td>21.02976</td>\n",
       "      <td>20.99861</td>\n",
       "      <td>21.07023</td>\n",
       "      <td>22.16510</td>\n",
       "      <td>21.03733</td>\n",
       "      <td>30.76723</td>\n",
       "      <td>21.00825</td>\n",
       "      <td>20.99301</td>\n",
       "      <td>21.10114</td>\n",
       "    </tr>\n",
       "    <tr>\n",
       "      <th>2</th>\n",
       "      <td>2</td>\n",
       "      <td>G138701_RCCBMS-00141-T_v1_RNA_OnPrem</td>\n",
       "      <td>62.0</td>\n",
       "      <td>0.0</td>\n",
       "      <td>0.0</td>\n",
       "      <td>1.0</td>\n",
       "      <td>800.0</td>\n",
       "      <td>-89.436620</td>\n",
       "      <td>61.906849</td>\n",
       "      <td>1.782859</td>\n",
       "      <td>...</td>\n",
       "      <td>21.01388</td>\n",
       "      <td>21.02976</td>\n",
       "      <td>20.99861</td>\n",
       "      <td>21.07023</td>\n",
       "      <td>20.99572</td>\n",
       "      <td>21.03733</td>\n",
       "      <td>27.61482</td>\n",
       "      <td>21.00825</td>\n",
       "      <td>20.99301</td>\n",
       "      <td>21.10114</td>\n",
       "    </tr>\n",
       "    <tr>\n",
       "      <th>3</th>\n",
       "      <td>3</td>\n",
       "      <td>G138701_RCCBMS-00099-T_v1_RNA_OnPrem</td>\n",
       "      <td>60.0</td>\n",
       "      <td>0.0</td>\n",
       "      <td>0.0</td>\n",
       "      <td>3.0</td>\n",
       "      <td>790.0</td>\n",
       "      <td>11.787072</td>\n",
       "      <td>1.249315</td>\n",
       "      <td>5.890573</td>\n",
       "      <td>...</td>\n",
       "      <td>21.01388</td>\n",
       "      <td>21.02976</td>\n",
       "      <td>20.99861</td>\n",
       "      <td>21.07023</td>\n",
       "      <td>20.99572</td>\n",
       "      <td>21.03733</td>\n",
       "      <td>32.89925</td>\n",
       "      <td>21.00825</td>\n",
       "      <td>20.99301</td>\n",
       "      <td>21.10114</td>\n",
       "    </tr>\n",
       "    <tr>\n",
       "      <th>4</th>\n",
       "      <td>4</td>\n",
       "      <td>G138701_RCCBMS-00163-T_v1_RNA_OnPrem</td>\n",
       "      <td>76.0</td>\n",
       "      <td>0.0</td>\n",
       "      <td>0.0</td>\n",
       "      <td>2.0</td>\n",
       "      <td>1241.0</td>\n",
       "      <td>0.000000</td>\n",
       "      <td>5.654795</td>\n",
       "      <td>1.374775</td>\n",
       "      <td>...</td>\n",
       "      <td>21.01388</td>\n",
       "      <td>21.02976</td>\n",
       "      <td>20.99861</td>\n",
       "      <td>21.07023</td>\n",
       "      <td>20.99572</td>\n",
       "      <td>21.03733</td>\n",
       "      <td>23.21111</td>\n",
       "      <td>21.00825</td>\n",
       "      <td>20.99301</td>\n",
       "      <td>21.10114</td>\n",
       "    </tr>\n",
       "  </tbody>\n",
       "</table>\n",
       "<p>5 rows × 49 columns</p>\n",
       "</div>"
      ],
      "text/plain": [
       "   Unnamed: 0                                RNA_ID   Age  Sarc  Rhab  \\\n",
       "0           0  G138701_RCCBMS-00020-T_v1_RNA_OnPrem  62.0   0.0   0.0   \n",
       "1           1  G138701_RCCBMS-00097-T_v1_RNA_OnPrem  67.0   0.0   0.0   \n",
       "2           2  G138701_RCCBMS-00141-T_v1_RNA_OnPrem  62.0   0.0   0.0   \n",
       "3           3  G138701_RCCBMS-00099-T_v1_RNA_OnPrem  60.0   0.0   0.0   \n",
       "4           4  G138701_RCCBMS-00163-T_v1_RNA_OnPrem  76.0   0.0   0.0   \n",
       "\n",
       "   Number_of_Prior_Therapies  \\\n",
       "0                        2.0   \n",
       "1                        2.0   \n",
       "2                        1.0   \n",
       "3                        3.0   \n",
       "4                        2.0   \n",
       "\n",
       "   Days_from_TumorSample_Collection_and_Start_of_Trial_Therapy  \\\n",
       "0                                              962.0             \n",
       "1                                              254.0             \n",
       "2                                              800.0             \n",
       "3                                              790.0             \n",
       "4                                             1241.0             \n",
       "\n",
       "   Tumor_Shrinkage        PFS  TM_TC_Ratio  ...  CTC-523E23.14  CTD-2050N2.1  \\\n",
       "0       -16.406250  12.164384     0.766909  ...       21.01388      21.02976   \n",
       "1       -40.000000   5.490411     0.773269  ...       21.01388      21.02976   \n",
       "2       -89.436620  61.906849     1.782859  ...       21.01388      21.02976   \n",
       "3        11.787072   1.249315     5.890573  ...       21.01388      21.02976   \n",
       "4         0.000000   5.654795     1.374775  ...       21.01388      21.02976   \n",
       "\n",
       "    DDX43P2   GLUD1P4  LINC01446  LINC01602    RNF212  RP11-123J14.1  \\\n",
       "0  20.99861  21.07023   20.99572   21.03733  30.21949       21.00825   \n",
       "1  20.99861  21.07023   22.16510   21.03733  30.76723       21.00825   \n",
       "2  20.99861  21.07023   20.99572   21.03733  27.61482       21.00825   \n",
       "3  20.99861  21.07023   20.99572   21.03733  32.89925       21.00825   \n",
       "4  20.99861  21.07023   20.99572   21.03733  23.21111       21.00825   \n",
       "\n",
       "   RP11-326N17.1  RP11-353N14.5  \n",
       "0       20.99301       21.10114  \n",
       "1       20.99301       21.10114  \n",
       "2       20.99301       21.10114  \n",
       "3       20.99301       21.10114  \n",
       "4       20.99301       21.10114  \n",
       "\n",
       "[5 rows x 49 columns]"
      ]
     },
     "execution_count": 2,
     "metadata": {},
     "output_type": "execute_result"
    }
   ],
   "source": [
    "path ='../../../../Data_preprocessing/Prediction PFS/RNA+Clinic joined/New/Clinical_data_and_RNA_22_Features_PFS.csv'\n",
    "data = pd.read_csv(path)\n",
    "data.head()"
   ]
  },
  {
   "cell_type": "code",
   "execution_count": 3,
   "metadata": {},
   "outputs": [
    {
     "name": "stdout",
     "output_type": "stream",
     "text": [
      "   Unnamed: 0   Age  Sarc  Rhab  Number_of_Prior_Therapies  \\\n",
      "0           0  62.0   0.0   0.0                        2.0   \n",
      "1           1  67.0   0.0   0.0                        2.0   \n",
      "2           2  62.0   0.0   0.0                        1.0   \n",
      "3           3  60.0   0.0   0.0                        3.0   \n",
      "4           4  76.0   0.0   0.0                        2.0   \n",
      "\n",
      "   Days_from_TumorSample_Collection_and_Start_of_Trial_Therapy  \\\n",
      "0                                              962.0             \n",
      "1                                              254.0             \n",
      "2                                              800.0             \n",
      "3                                              790.0             \n",
      "4                                             1241.0             \n",
      "\n",
      "   Tumor_Shrinkage  TM_TC_Ratio  Cohort_CM-009  Cohort_CM-010  ...  \\\n",
      "0       -16.406250     0.766909              0              1  ...   \n",
      "1       -40.000000     0.773269              0              1  ...   \n",
      "2       -89.436620     1.782859              0              1  ...   \n",
      "3        11.787072     5.890573              0              1  ...   \n",
      "4         0.000000     1.374775              0              1  ...   \n",
      "\n",
      "   CTC-523E23.14  CTD-2050N2.1   DDX43P2   GLUD1P4  LINC01446  LINC01602  \\\n",
      "0       21.01388      21.02976  20.99861  21.07023   20.99572   21.03733   \n",
      "1       21.01388      21.02976  20.99861  21.07023   22.16510   21.03733   \n",
      "2       21.01388      21.02976  20.99861  21.07023   20.99572   21.03733   \n",
      "3       21.01388      21.02976  20.99861  21.07023   20.99572   21.03733   \n",
      "4       21.01388      21.02976  20.99861  21.07023   20.99572   21.03733   \n",
      "\n",
      "     RNF212  RP11-123J14.1  RP11-326N17.1  RP11-353N14.5  \n",
      "0  30.21949       21.00825       20.99301       21.10114  \n",
      "1  30.76723       21.00825       20.99301       21.10114  \n",
      "2  27.61482       21.00825       20.99301       21.10114  \n",
      "3  32.89925       21.00825       20.99301       21.10114  \n",
      "4  23.21111       21.00825       20.99301       21.10114  \n",
      "\n",
      "[5 rows x 47 columns]\n",
      "      Age  Sarc  Rhab  Number_of_Prior_Therapies  \\\n",
      "0    62.0   0.0   0.0                        2.0   \n",
      "1    67.0   0.0   0.0                        2.0   \n",
      "2    62.0   0.0   0.0                        1.0   \n",
      "3    60.0   0.0   0.0                        3.0   \n",
      "4    76.0   0.0   0.0                        2.0   \n",
      "..    ...   ...   ...                        ...   \n",
      "176  77.0   0.0   0.0                        1.0   \n",
      "177  54.0   0.0   0.0                        1.0   \n",
      "178  64.0   0.0   0.0                        1.0   \n",
      "179  75.0   0.0   0.0                        1.0   \n",
      "180  50.0   0.0   0.0                        1.0   \n",
      "\n",
      "     Days_from_TumorSample_Collection_and_Start_of_Trial_Therapy  \\\n",
      "0                                                962.0             \n",
      "1                                                254.0             \n",
      "2                                                800.0             \n",
      "3                                                790.0             \n",
      "4                                               1241.0             \n",
      "..                                                 ...             \n",
      "176                                               42.0             \n",
      "177                                               42.0             \n",
      "178                                               42.0             \n",
      "179                                               42.0             \n",
      "180                                               42.0             \n",
      "\n",
      "     Tumor_Shrinkage  TM_TC_Ratio  Cohort_CM-009  Cohort_CM-010  \\\n",
      "0         -16.406250     0.766909              0              1   \n",
      "1         -40.000000     0.773269              0              1   \n",
      "2         -89.436620     1.782859              0              1   \n",
      "3          11.787072     5.890573              0              1   \n",
      "4           0.000000     1.374775              0              1   \n",
      "..               ...          ...            ...            ...   \n",
      "176        11.000000     1.374775              1              0   \n",
      "177        57.000000     1.374775              1              0   \n",
      "178       -43.000000     1.374775              1              0   \n",
      "179        12.000000     1.374775              1              0   \n",
      "180         0.000000     1.374775              1              0   \n",
      "\n",
      "     Cohort_CM-025  ...  CTC-523E23.14  CTD-2050N2.1   DDX43P2   GLUD1P4  \\\n",
      "0                0  ...       21.01388      21.02976  20.99861  21.07023   \n",
      "1                0  ...       21.01388      21.02976  20.99861  21.07023   \n",
      "2                0  ...       21.01388      21.02976  20.99861  21.07023   \n",
      "3                0  ...       21.01388      21.02976  20.99861  21.07023   \n",
      "4                0  ...       21.01388      21.02976  20.99861  21.07023   \n",
      "..             ...  ...            ...           ...       ...       ...   \n",
      "176              0  ...       21.01366      21.02952  21.01779  21.21335   \n",
      "177              0  ...       21.01366      21.02952  21.01779  21.21335   \n",
      "178              0  ...       21.01366      21.02952  21.01779  21.21335   \n",
      "179              0  ...       21.01366      21.02952  21.01779  21.21335   \n",
      "180              0  ...       21.01366      21.02952  21.01779  21.21335   \n",
      "\n",
      "     LINC01446  LINC01602    RNF212  RP11-123J14.1  RP11-326N17.1  \\\n",
      "0     20.99572   21.03733  30.21949       21.00825       20.99301   \n",
      "1     22.16510   21.03733  30.76723       21.00825       20.99301   \n",
      "2     20.99572   21.03733  27.61482       21.00825       20.99301   \n",
      "3     20.99572   21.03733  32.89925       21.00825       20.99301   \n",
      "4     20.99572   21.03733  23.21111       21.00825       20.99301   \n",
      "..         ...        ...       ...            ...            ...   \n",
      "176   21.01729   20.94982  34.18912       21.10242       21.01682   \n",
      "177   21.01729   20.94982  30.90626       21.10242       21.01682   \n",
      "178   21.01729   20.94982  30.71651       21.10242       21.01682   \n",
      "179   21.01729   20.94982  30.83267       21.10242       21.01682   \n",
      "180   21.01729   23.09325  28.62406       21.10242       21.01682   \n",
      "\n",
      "     RP11-353N14.5  \n",
      "0         21.10114  \n",
      "1         21.10114  \n",
      "2         21.10114  \n",
      "3         21.10114  \n",
      "4         21.10114  \n",
      "..             ...  \n",
      "176       20.80065  \n",
      "177       21.88210  \n",
      "178       20.80065  \n",
      "179       20.80065  \n",
      "180       20.80065  \n",
      "\n",
      "[181 rows x 46 columns]\n",
      "Numero de pacientes:  181\n"
     ]
    }
   ],
   "source": [
    "Y = [] # Target column\n",
    "# For each entry I classified it by its PFS value.\n",
    "for i in range (len(data)):\n",
    "    if data.PFS[i]<3: # If PFS is lower than 3 months, I will consider it as NonResponder (NR)\n",
    "        Y.append(0)\n",
    "    elif data.PFS[i]<6: # If PFS is over 6 months, I will consider it as Responder (R)\n",
    "        Y.append(1)\n",
    "    else:\n",
    "        Y.append(2) # If PFS is between 3 and 6 months, I will consider it as SemiResponder (SR)\n",
    "        \n",
    "\n",
    "data = data.drop('PFS', axis=1)\n",
    "data = data.drop('RNA_ID', axis=1)\n",
    "\n",
    "print(data.head())\n",
    "X = data.iloc[:,1:57] \n",
    "# I selected all the columns by removing the Unnamed column (row id) and the Target column.\n",
    "print(X)\n",
    "print('Numero de pacientes: ',len(Y))"
   ]
  },
  {
   "cell_type": "markdown",
   "metadata": {},
   "source": [
    "### 3. Train-Test dataset split"
   ]
  },
  {
   "cell_type": "code",
   "execution_count": 4,
   "metadata": {},
   "outputs": [
    {
     "name": "stdout",
     "output_type": "stream",
     "text": [
      "Training set size: 144\n",
      "Target column size of the training set: 144\n",
      "Test set size: 37\n",
      "Target column size of the test set: 37\n"
     ]
    }
   ],
   "source": [
    "XTrain, XTest, yTrain, yTest = train_test_split(X, Y, test_size=0.20, random_state=125)\n",
    "\n",
    "print('Training set size:', len(XTrain))\n",
    "print('Target column size of the training set:', len(yTrain))\n",
    "print('Test set size:', len(XTest))\n",
    "print('Target column size of the test set:', len(yTest))"
   ]
  },
  {
   "cell_type": "markdown",
   "metadata": {},
   "source": [
    "### 4. Study the best value for K"
   ]
  },
  {
   "cell_type": "code",
   "execution_count": 5,
   "metadata": {},
   "outputs": [
    {
     "name": "stdout",
     "output_type": "stream",
     "text": [
      "Best accuracy is obtained with k = 7 and is: 0.5405\n"
     ]
    }
   ],
   "source": [
    "neighbors = list(range(1,8))\n",
    "cek = []\n",
    "list_accuracy = []\n",
    "best_acuracy = 0\n",
    "best_k = 0\n",
    "for k in neighbors:\n",
    "    knn = KNeighborsClassifier(n_neighbors=k)\n",
    "    pred = knn.fit(XTrain, yTrain).predict(XTest)\n",
    "    if accuracy_score(yTest, pred) >= best_acuracy:\n",
    "        best_k = k\n",
    "        best_acuracy=accuracy_score(yTest, pred)\n",
    "    list_accuracy.append(accuracy_score(yTest, pred))\n",
    "\n",
    "print(\"Best accuracy is obtained with k = \" + str(best_k)+ \" and is: %.4f\" % (best_acuracy))\n"
   ]
  },
  {
   "cell_type": "code",
   "execution_count": 6,
   "metadata": {},
   "outputs": [
    {
     "name": "stderr",
     "output_type": "stream",
     "text": [
      "C:\\Users\\sandr\\AppData\\Local\\Temp/ipykernel_12940/3738168230.py:1: UserWarning: color is redundantly defined by the 'color' keyword argument and the fmt string \"ro\" (-> color='r'). The keyword argument will take precedence.\n",
      "  plt.plot(np.append(np.roll(list_accuracy,1),list_accuracy[6]),'ro', color='r', linestyle='dashed',linewidth=1.0, label=\"Graph2\")\n",
      "C:\\Users\\sandr\\AppData\\Local\\Temp/ipykernel_12940/3738168230.py:3: UserWarning: color is redundantly defined by the 'color' keyword argument and the fmt string \"ro\" (-> color='r'). The keyword argument will take precedence.\n",
      "  plt.plot(best_k, best_acuracy, 'ro', color ='g')\n"
     ]
    },
    {
     "data": {
      "image/png": "[encoded data removed]",
      "text/plain": [
       "<Figure size 432x288 with 1 Axes>"
      ]
     },
     "metadata": {
      "needs_background": "light"
     },
     "output_type": "display_data"
    }
   ],
   "source": [
    "plt.plot(np.append(np.roll(list_accuracy,1),list_accuracy[6]),'ro', color='r', linestyle='dashed',linewidth=1.0, label=\"Graph2\")\n",
    "# Green dot represent best K value\n",
    "plt.plot(best_k, best_acuracy, 'ro', color ='g')\n",
    "plt.axis([1, 7, 0.5, 1])\n",
    "plt.xlabel('K')\n",
    "plt.ylabel('Accuracy')\n",
    "\n",
    "plt.grid()\n",
    "plt.show()"
   ]
  },
  {
   "cell_type": "markdown",
   "metadata": {},
   "source": [
    "### 5. Best metric study (manhattan or euclidean)"
   ]
  },
  {
   "cell_type": "code",
   "execution_count": 7,
   "metadata": {},
   "outputs": [
    {
     "data": {
      "text/plain": [
       "KNeighborsClassifier(metric=<function cityblock at 0x0000022E040DD280>,\n",
       "                     n_neighbors=7)"
      ]
     },
     "execution_count": 7,
     "metadata": {},
     "output_type": "execute_result"
    }
   ],
   "source": [
    "from sklearn import neighbors\n",
    "# Euclidean distance model\n",
    "euclid_model = KNeighborsClassifier(n_neighbors=best_k, metric=distance.sqeuclidean)\n",
    "euclid_model.fit(XTrain,yTrain) \n",
    "\n",
    "# Manhattan distance model\n",
    "manhattan_model = KNeighborsClassifier(n_neighbors=best_k, metric=distance.cityblock) \n",
    "manhattan_model.fit(XTrain, yTrain)"
   ]
  },
  {
   "cell_type": "code",
   "execution_count": 8,
   "metadata": {},
   "outputs": [
    {
     "data": {
      "text/html": [
       "<div>\n",
       "<style scoped>\n",
       "    .dataframe tbody tr th:only-of-type {\n",
       "        vertical-align: middle;\n",
       "    }\n",
       "\n",
       "    .dataframe tbody tr th {\n",
       "        vertical-align: top;\n",
       "    }\n",
       "\n",
       "    .dataframe thead th {\n",
       "        text-align: right;\n",
       "    }\n",
       "</style>\n",
       "<table border=\"1\" class=\"dataframe\">\n",
       "  <thead>\n",
       "    <tr style=\"text-align: right;\">\n",
       "      <th></th>\n",
       "      <th>actual</th>\n",
       "      <th>manhattan</th>\n",
       "      <th>euclid</th>\n",
       "    </tr>\n",
       "  </thead>\n",
       "  <tbody>\n",
       "    <tr>\n",
       "      <th>0</th>\n",
       "      <td>1</td>\n",
       "      <td>1</td>\n",
       "      <td>0</td>\n",
       "    </tr>\n",
       "    <tr>\n",
       "      <th>1</th>\n",
       "      <td>0</td>\n",
       "      <td>0</td>\n",
       "      <td>0</td>\n",
       "    </tr>\n",
       "    <tr>\n",
       "      <th>2</th>\n",
       "      <td>0</td>\n",
       "      <td>2</td>\n",
       "      <td>2</td>\n",
       "    </tr>\n",
       "    <tr>\n",
       "      <th>3</th>\n",
       "      <td>2</td>\n",
       "      <td>0</td>\n",
       "      <td>0</td>\n",
       "    </tr>\n",
       "    <tr>\n",
       "      <th>4</th>\n",
       "      <td>2</td>\n",
       "      <td>0</td>\n",
       "      <td>0</td>\n",
       "    </tr>\n",
       "  </tbody>\n",
       "</table>\n",
       "</div>"
      ],
      "text/plain": [
       "   actual  manhattan  euclid\n",
       "0       1          1       0\n",
       "1       0          0       0\n",
       "2       0          2       2\n",
       "3       2          0       0\n",
       "4       2          0       0"
      ]
     },
     "execution_count": 8,
     "metadata": {},
     "output_type": "execute_result"
    }
   ],
   "source": [
    "manhattan_predictions = manhattan_model.predict(XTest)\n",
    "euclid_predictions = euclid_model.predict(XTest) \n",
    "df = pd.DataFrame({'actual': yTest, 'manhattan': manhattan_predictions, 'euclid': euclid_predictions})\n",
    "df.head()"
   ]
  },
  {
   "cell_type": "code",
   "execution_count": 9,
   "metadata": {},
   "outputs": [
    {
     "name": "stdout",
     "output_type": "stream",
     "text": [
      "Best result of the cross validation of the model (euclidean) with the best paramters:0.5551724137931033\n",
      "Best result of the cross validation of the model (manhattan) with the best paramters:0.5694581280788178\n"
     ]
    }
   ],
   "source": [
    "result1= model_selection.cross_val_score(euclid_model, XTrain, yTrain, cv=5, scoring='accuracy')\n",
    "result2 = model_selection.cross_val_score(manhattan_model, XTrain, yTrain, cv=5, scoring='accuracy')\n",
    "print(\"Best result of the cross validation of the model (euclidean) with the best paramters:\" +str(np.mean(result1)))\n",
    "print(\"Best result of the cross validation of the model (manhattan) with the best paramters:\" +str(np.mean(result2)))"
   ]
  },
  {
   "cell_type": "markdown",
   "metadata": {},
   "source": [
    "#### 6.1. Manhattan model"
   ]
  },
  {
   "cell_type": "code",
   "execution_count": 10,
   "metadata": {},
   "outputs": [],
   "source": [
    "# Making predictions with the optimal model on the training dataset\n",
    "yhatTrain = manhattan_model.predict(XTrain)\n",
    "contTrain = 0\n",
    "\n",
    "# Comparing with the Target column and check how many hits there have been\n",
    "for i in range(0,len(yTrain),1) :\n",
    "    if (yhatTrain[i] == yTrain[i]):\n",
    "        contTrain = contTrain + 1"
   ]
  },
  {
   "cell_type": "code",
   "execution_count": 11,
   "metadata": {},
   "outputs": [],
   "source": [
    "# Making predictions with the optimal model on the test dataset\n",
    "mayhatTest = manhattan_model.predict(XTest)\n",
    "contTest = 0\n",
    "\n",
    "# Comparing with the Target column and check how many hits there have been\n",
    "for i in range(0,len(yTest),1) :\n",
    "    if (mayhatTest[i] == yTest[i]):\n",
    "        contTest = contTest + 1"
   ]
  },
  {
   "cell_type": "code",
   "execution_count": 12,
   "metadata": {},
   "outputs": [
    {
     "name": "stdout",
     "output_type": "stream",
     "text": [
      "Precisión final en el conjunto de datos de entrenamiento (manhattan): 0.6875\n",
      "Precisión final en el conjunto de datos de prueba (manhattan): 0.5405405405405406\n"
     ]
    }
   ],
   "source": [
    "print('Precisión final en el conjunto de datos de entrenamiento (manhattan): ' + str(contTrain/len(yTrain)))\n",
    "print('Precisión final en el conjunto de datos de prueba (manhattan): ' + str(contTest/len(yTest)))"
   ]
  },
  {
   "cell_type": "code",
   "execution_count": 13,
   "metadata": {},
   "outputs": [
    {
     "name": "stdout",
     "output_type": "stream",
     "text": [
      "----------------Confusion Matrix (Training)------------------\n",
      "[[57  2  6]\n",
      " [10 13  5]\n",
      " [15  7 29]]\n",
      "Input data:  [0 2 1 1 1 1 0 2 0 1 2 2 1 0 2 0 2 0 0 0 2 1 0 0 2 2 0 1 0 0 1 1 0 2 1 0 1\n",
      " 2 0 2 2 0 0 1 0 1 1 0 1 0 0 1 0 0 0 2 0 2 0 2 1 0 2 2 0 2 2 2 0 2 0 2 0 2\n",
      " 2 0 0 2 0 0 1 2 1 0 0 0 0 2 1 2 2 0 0 2 2 2 2 0 0 0 2 0 2 0 0 0 0 1 0 2 0\n",
      " 2 0 2 1 0 0 0 0 1 2 2 0 2 0 2 2 0 1 2 0 1 2 0 0 2 2 1 2 1 2 2 0 0]\n",
      "Prediction:        [1 2 0 2 1 0 0 2 0 0 2 2 1 0 2 1 2 0 0 0 0 0 0 0 0 0 0 0 0 0 2 0 2 1 1 0 0\n",
      " 1 0 2 2 0 0 1 2 1 1 0 1 0 2 0 0 0 0 2 0 2 0 0 1 2 2 1 0 1 0 2 0 1 0 2 0 2\n",
      " 2 0 0 2 0 0 2 0 0 0 0 0 0 0 2 0 0 0 0 2 2 2 0 0 0 0 1 0 2 0 0 0 0 1 0 2 0\n",
      " 2 2 0 1 0 2 0 0 0 2 2 0 1 0 0 0 0 1 0 0 1 2 0 0 2 2 2 2 1 0 2 0 0]\n"
     ]
    }
   ],
   "source": [
    "from sklearn.metrics import classification_report,confusion_matrix\n",
    "\n",
    "print('----------------Confusion Matrix (Training)------------------')\n",
    "print(confusion_matrix(yTrain,yhatTrain))\n",
    "print('Input data:  ' + str(np.array(yTrain)))\n",
    "print('Prediction:        ' +str(yhatTrain))"
   ]
  },
  {
   "cell_type": "code",
   "execution_count": 14,
   "metadata": {},
   "outputs": [
    {
     "name": "stdout",
     "output_type": "stream",
     "text": [
      "              precision    recall  f1-score   support\n",
      "\n",
      "           0       0.70      0.88      0.78        65\n",
      "           1       0.59      0.46      0.52        28\n",
      "           2       0.72      0.57      0.64        51\n",
      "\n",
      "    accuracy                           0.69       144\n",
      "   macro avg       0.67      0.64      0.64       144\n",
      "weighted avg       0.69      0.69      0.68       144\n",
      "\n"
     ]
    }
   ],
   "source": [
    "print(classification_report(yTrain,yhatTrain))"
   ]
  },
  {
   "cell_type": "code",
   "execution_count": 15,
   "metadata": {},
   "outputs": [
    {
     "name": "stdout",
     "output_type": "stream",
     "text": [
      "----------------Confusion Matrix (Test)------------------\n",
      "[[16  2  2]\n",
      " [ 1  2  0]\n",
      " [ 6  6  2]]\n",
      "Input data:  [1 0 0 2 2 1 0 2 2 2 0 0 0 0 0 0 2 0 1 0 0 0 0 2 0 0 2 2 2 0 0 2 0 0 2 2 2]\n",
      "Prediction:        [1 0 2 0 0 1 0 1 0 1 0 1 0 2 0 0 1 1 0 0 0 0 0 0 0 0 1 1 0 0 0 2 0 0 0 1 2]\n"
     ]
    }
   ],
   "source": [
    "from sklearn.metrics import confusion_matrix\n",
    "confusion_matrix = confusion_matrix(yTest, mayhatTest)\n",
    "print('----------------Confusion Matrix (Test)------------------')\n",
    "print(confusion_matrix)\n",
    "print('Input data:  ' + str(np.array(yTest)))\n",
    "print('Prediction:        ' +str(mayhatTest))"
   ]
  },
  {
   "cell_type": "code",
   "execution_count": 16,
   "metadata": {},
   "outputs": [
    {
     "name": "stdout",
     "output_type": "stream",
     "text": [
      "              precision    recall  f1-score   support\n",
      "\n",
      "           0       0.70      0.80      0.74        20\n",
      "           1       0.20      0.67      0.31         3\n",
      "           2       0.50      0.14      0.22        14\n",
      "\n",
      "    accuracy                           0.54        37\n",
      "   macro avg       0.47      0.54      0.42        37\n",
      "weighted avg       0.58      0.54      0.51        37\n",
      "\n"
     ]
    }
   ],
   "source": [
    "print(classification_report(yTest, mayhatTest))"
   ]
  }
 ],
 "metadata": {
  "kernelspec": {
   "display_name": "Python 3.9.13 64-bit (microsoft store)",
   "language": "python",
   "name": "python3"
  },
  "language_info": {
   "codemirror_mode": {
    "name": "ipython",
    "version": 3
   },
   "file_extension": ".py",
   "mimetype": "text/x-python",
   "name": "python",
   "nbconvert_exporter": "python",
   "pygments_lexer": "ipython3",
   "version": "3.9.13"
  },
  "orig_nbformat": 4,
  "vscode": {
   "interpreter": {
    "hash": "fb15f1e0f376981e7b6e1fc44ae8b8146823f10f258bcd6e448b0230b889fc06"
   }
  }
 },
 "nbformat": 4,
 "nbformat_minor": 2
}
