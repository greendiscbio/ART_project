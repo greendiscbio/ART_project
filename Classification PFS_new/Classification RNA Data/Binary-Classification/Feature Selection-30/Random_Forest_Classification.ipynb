{
 "cells": [
  {
   "cell_type": "markdown",
   "metadata": {},
   "source": [
    "# Classification model using Random Forest"
   ]
  },
  {
   "cell_type": "markdown",
   "metadata": {},
   "source": [
    "### 1. Import libraries"
   ]
  },
  {
   "cell_type": "code",
   "execution_count": 1,
   "metadata": {},
   "outputs": [],
   "source": [
    "import pandas as pd\n",
    "import numpy as np\n",
    "import matplotlib.pyplot as plt\n",
    "from sklearn.model_selection import train_test_split\n",
    "from sklearn.ensemble import RandomForestClassifier\n",
    "from sklearn.model_selection import GridSearchCV\n",
    "from sklearn.decomposition import PCA"
   ]
  },
  {
   "cell_type": "markdown",
   "metadata": {},
   "source": [
    "### 2. Upload RNA data"
   ]
  },
  {
   "cell_type": "code",
   "execution_count": 2,
   "metadata": {},
   "outputs": [
    {
     "data": {
      "text/html": [
       "<div>\n",
       "<style scoped>\n",
       "    .dataframe tbody tr th:only-of-type {\n",
       "        vertical-align: middle;\n",
       "    }\n",
       "\n",
       "    .dataframe tbody tr th {\n",
       "        vertical-align: top;\n",
       "    }\n",
       "\n",
       "    .dataframe thead th {\n",
       "        text-align: right;\n",
       "    }\n",
       "</style>\n",
       "<table border=\"1\" class=\"dataframe\">\n",
       "  <thead>\n",
       "    <tr style=\"text-align: right;\">\n",
       "      <th></th>\n",
       "      <th>Unnamed: 0</th>\n",
       "      <th>RNA_ID</th>\n",
       "      <th>Age</th>\n",
       "      <th>Sarc</th>\n",
       "      <th>Rhab</th>\n",
       "      <th>Number_of_Prior_Therapies</th>\n",
       "      <th>Days_from_TumorSample_Collection_and_Start_of_Trial_Therapy</th>\n",
       "      <th>Tumor_Shrinkage</th>\n",
       "      <th>PFS</th>\n",
       "      <th>TM_TC_Ratio</th>\n",
       "      <th>...</th>\n",
       "      <th>ZWILCH</th>\n",
       "      <th>ZWINT</th>\n",
       "      <th>ZXDA</th>\n",
       "      <th>ZXDB</th>\n",
       "      <th>ZXDC</th>\n",
       "      <th>ZYG11A</th>\n",
       "      <th>ZYG11B</th>\n",
       "      <th>ZYX</th>\n",
       "      <th>ZZEF1</th>\n",
       "      <th>ZZZ3</th>\n",
       "    </tr>\n",
       "  </thead>\n",
       "  <tbody>\n",
       "    <tr>\n",
       "      <th>0</th>\n",
       "      <td>0</td>\n",
       "      <td>G138701_RCCBMS-00020-T_v1_RNA_OnPrem</td>\n",
       "      <td>62.0</td>\n",
       "      <td>0.0</td>\n",
       "      <td>0.0</td>\n",
       "      <td>2.0</td>\n",
       "      <td>962.0</td>\n",
       "      <td>-16.406250</td>\n",
       "      <td>12.164384</td>\n",
       "      <td>0.766909</td>\n",
       "      <td>...</td>\n",
       "      <td>33.26816</td>\n",
       "      <td>30.04056</td>\n",
       "      <td>30.36292</td>\n",
       "      <td>30.98129</td>\n",
       "      <td>32.38442</td>\n",
       "      <td>28.01561</td>\n",
       "      <td>31.24379</td>\n",
       "      <td>33.81903</td>\n",
       "      <td>33.22469</td>\n",
       "      <td>31.23383</td>\n",
       "    </tr>\n",
       "    <tr>\n",
       "      <th>1</th>\n",
       "      <td>1</td>\n",
       "      <td>G138701_RCCBMS-00097-T_v1_RNA_OnPrem</td>\n",
       "      <td>67.0</td>\n",
       "      <td>0.0</td>\n",
       "      <td>0.0</td>\n",
       "      <td>2.0</td>\n",
       "      <td>254.0</td>\n",
       "      <td>-40.000000</td>\n",
       "      <td>5.490411</td>\n",
       "      <td>0.773269</td>\n",
       "      <td>...</td>\n",
       "      <td>31.53633</td>\n",
       "      <td>29.94062</td>\n",
       "      <td>30.80829</td>\n",
       "      <td>30.74475</td>\n",
       "      <td>32.09470</td>\n",
       "      <td>26.32526</td>\n",
       "      <td>32.70057</td>\n",
       "      <td>33.67262</td>\n",
       "      <td>33.10198</td>\n",
       "      <td>32.44643</td>\n",
       "    </tr>\n",
       "    <tr>\n",
       "      <th>2</th>\n",
       "      <td>2</td>\n",
       "      <td>G138701_RCCBMS-00141-T_v1_RNA_OnPrem</td>\n",
       "      <td>62.0</td>\n",
       "      <td>0.0</td>\n",
       "      <td>0.0</td>\n",
       "      <td>1.0</td>\n",
       "      <td>800.0</td>\n",
       "      <td>-89.436620</td>\n",
       "      <td>61.906849</td>\n",
       "      <td>1.782859</td>\n",
       "      <td>...</td>\n",
       "      <td>30.74474</td>\n",
       "      <td>31.95812</td>\n",
       "      <td>30.73898</td>\n",
       "      <td>30.15898</td>\n",
       "      <td>31.69473</td>\n",
       "      <td>26.33098</td>\n",
       "      <td>32.68330</td>\n",
       "      <td>33.96047</td>\n",
       "      <td>32.97135</td>\n",
       "      <td>32.20607</td>\n",
       "    </tr>\n",
       "    <tr>\n",
       "      <th>3</th>\n",
       "      <td>3</td>\n",
       "      <td>G138701_RCCBMS-00099-T_v1_RNA_OnPrem</td>\n",
       "      <td>60.0</td>\n",
       "      <td>0.0</td>\n",
       "      <td>0.0</td>\n",
       "      <td>3.0</td>\n",
       "      <td>790.0</td>\n",
       "      <td>11.787072</td>\n",
       "      <td>1.249315</td>\n",
       "      <td>5.890573</td>\n",
       "      <td>...</td>\n",
       "      <td>31.63196</td>\n",
       "      <td>30.71732</td>\n",
       "      <td>31.09654</td>\n",
       "      <td>30.25757</td>\n",
       "      <td>31.90774</td>\n",
       "      <td>27.53819</td>\n",
       "      <td>32.64194</td>\n",
       "      <td>34.54254</td>\n",
       "      <td>33.24885</td>\n",
       "      <td>32.78278</td>\n",
       "    </tr>\n",
       "    <tr>\n",
       "      <th>4</th>\n",
       "      <td>4</td>\n",
       "      <td>G138701_RCCBMS-00163-T_v1_RNA_OnPrem</td>\n",
       "      <td>76.0</td>\n",
       "      <td>0.0</td>\n",
       "      <td>0.0</td>\n",
       "      <td>2.0</td>\n",
       "      <td>1241.0</td>\n",
       "      <td>0.000000</td>\n",
       "      <td>5.654795</td>\n",
       "      <td>1.374775</td>\n",
       "      <td>...</td>\n",
       "      <td>31.75620</td>\n",
       "      <td>30.75149</td>\n",
       "      <td>30.55896</td>\n",
       "      <td>30.17101</td>\n",
       "      <td>31.01545</td>\n",
       "      <td>21.45312</td>\n",
       "      <td>32.86620</td>\n",
       "      <td>34.24375</td>\n",
       "      <td>34.86720</td>\n",
       "      <td>32.73361</td>\n",
       "    </tr>\n",
       "  </tbody>\n",
       "</table>\n",
       "<p>5 rows × 43921 columns</p>\n",
       "</div>"
      ],
      "text/plain": [
       "   Unnamed: 0                                RNA_ID   Age  Sarc  Rhab  \\\n",
       "0           0  G138701_RCCBMS-00020-T_v1_RNA_OnPrem  62.0   0.0   0.0   \n",
       "1           1  G138701_RCCBMS-00097-T_v1_RNA_OnPrem  67.0   0.0   0.0   \n",
       "2           2  G138701_RCCBMS-00141-T_v1_RNA_OnPrem  62.0   0.0   0.0   \n",
       "3           3  G138701_RCCBMS-00099-T_v1_RNA_OnPrem  60.0   0.0   0.0   \n",
       "4           4  G138701_RCCBMS-00163-T_v1_RNA_OnPrem  76.0   0.0   0.0   \n",
       "\n",
       "   Number_of_Prior_Therapies  \\\n",
       "0                        2.0   \n",
       "1                        2.0   \n",
       "2                        1.0   \n",
       "3                        3.0   \n",
       "4                        2.0   \n",
       "\n",
       "   Days_from_TumorSample_Collection_and_Start_of_Trial_Therapy  \\\n",
       "0                                              962.0             \n",
       "1                                              254.0             \n",
       "2                                              800.0             \n",
       "3                                              790.0             \n",
       "4                                             1241.0             \n",
       "\n",
       "   Tumor_Shrinkage        PFS  TM_TC_Ratio  ...    ZWILCH     ZWINT      ZXDA  \\\n",
       "0       -16.406250  12.164384     0.766909  ...  33.26816  30.04056  30.36292   \n",
       "1       -40.000000   5.490411     0.773269  ...  31.53633  29.94062  30.80829   \n",
       "2       -89.436620  61.906849     1.782859  ...  30.74474  31.95812  30.73898   \n",
       "3        11.787072   1.249315     5.890573  ...  31.63196  30.71732  31.09654   \n",
       "4         0.000000   5.654795     1.374775  ...  31.75620  30.75149  30.55896   \n",
       "\n",
       "       ZXDB      ZXDC    ZYG11A    ZYG11B       ZYX     ZZEF1      ZZZ3  \n",
       "0  30.98129  32.38442  28.01561  31.24379  33.81903  33.22469  31.23383  \n",
       "1  30.74475  32.09470  26.32526  32.70057  33.67262  33.10198  32.44643  \n",
       "2  30.15898  31.69473  26.33098  32.68330  33.96047  32.97135  32.20607  \n",
       "3  30.25757  31.90774  27.53819  32.64194  34.54254  33.24885  32.78278  \n",
       "4  30.17101  31.01545  21.45312  32.86620  34.24375  34.86720  32.73361  \n",
       "\n",
       "[5 rows x 43921 columns]"
      ]
     },
     "execution_count": 2,
     "metadata": {},
     "output_type": "execute_result"
    }
   ],
   "source": [
    "path ='../../../../Data_preprocessing/Prediction PFS/RNA+Clinic joined/New/Clinical_data_and_RNA_total_Features_PFS.csv'\n",
    "data = pd.read_csv(path)\n",
    "data.head(5)"
   ]
  },
  {
   "cell_type": "code",
   "execution_count": 3,
   "metadata": {},
   "outputs": [
    {
     "name": "stdout",
     "output_type": "stream",
     "text": [
      "     AC005307.1   ATP5G2P1    DLGAP4  EIF4A1P9  FAM172BP   FAM224A      GJA9  \\\n",
      "0     21.055379  21.300337  34.54982  21.37925  21.62929  21.12373  29.68286   \n",
      "1     21.055379  21.300337  34.06647  21.37925  21.62929  21.12373  26.80539   \n",
      "2     21.055379  21.300337  34.42561  25.08766  29.29206  21.12373  30.09292   \n",
      "3     21.055379  21.300337  34.41176  26.76156  21.62929  21.12373  29.29223   \n",
      "4     21.055379  21.300337  34.29088  21.37925  21.62929  21.12373  32.00382   \n",
      "..          ...        ...       ...       ...       ...       ...       ...   \n",
      "176   20.944668  21.624881  34.55658  21.78113  21.49653  20.98542  28.18967   \n",
      "177   20.944668  21.624881  33.15506  21.78113  21.49653  20.98542  28.18967   \n",
      "178   20.944668  21.624881  34.68047  21.78113  25.64475  23.49110  28.18967   \n",
      "179   20.944668  21.624881  35.60014  21.78113  21.49653  20.98542  33.92530   \n",
      "180   20.944668  21.624881  35.23053  21.78113  21.49653  20.98542  28.18967   \n",
      "\n",
      "       GPR155      GYPE      IL25  ...  RP11-96O20.4  RP5-827C21.1  RPS12P26  \\\n",
      "0    31.81161  23.05703  21.08036  ...      21.18753      27.40814  31.71139   \n",
      "1    31.42781  23.05703  21.08036  ...      21.18753      29.25015  29.15373   \n",
      "2    30.47292  23.05703  21.08036  ...      21.18753      23.03429  29.37858   \n",
      "3    30.72903  23.05703  21.08036  ...      21.18753      23.03429  30.19136   \n",
      "4    31.16114  23.05703  21.08036  ...      21.18753      23.03429  31.82172   \n",
      "..        ...       ...       ...  ...           ...           ...       ...   \n",
      "176  29.90347  26.98353  21.43715  ...      21.02478      25.01085  28.14718   \n",
      "177  31.66030  29.28045  21.43715  ...      21.02478      35.97906  28.14718   \n",
      "178  31.92039  27.09075  21.43715  ...      21.02478      25.01085  28.14718   \n",
      "179  32.78760  21.37426  21.43715  ...      21.02478      25.01085  28.14718   \n",
      "180  30.59097  21.37426  21.43715  ...      21.02478      25.01085  28.14718   \n",
      "\n",
      "      SDR42E1  SNORD113-5    TARBP2    TRAV41  TRIM43B   VN2R17P       XPC  \n",
      "0    30.26124    21.32743  29.60417  22.22154  21.9744  21.12857  32.24472  \n",
      "1    29.12730    21.32743  29.61188  22.22154  21.9744  21.12857  32.15619  \n",
      "2    27.22907    21.32743  31.90343  22.22154  21.9744  21.12857  31.86536  \n",
      "3    22.83731    21.32743  30.35424  22.22154  21.9744  21.12857  31.63561  \n",
      "4    22.83731    21.32743  31.60946  22.22154  21.9744  21.12857  33.12717  \n",
      "..        ...         ...       ...       ...      ...       ...       ...  \n",
      "176  31.49914    21.32619  31.57179  24.54591  22.3863  20.96902  32.70183  \n",
      "177  28.17083    21.32619  34.36199  24.54591  22.3863  20.96902  30.79817  \n",
      "178  24.22162    21.32619  29.30238  24.54591  22.3863  20.96902  32.60750  \n",
      "179  27.21929    21.32619  30.72343  24.54591  22.3863  23.88906  33.35291  \n",
      "180  32.08324    21.32619  31.34356  24.54591  22.3863  20.96902  32.50118  \n",
      "\n",
      "[181 rows x 30 columns]\n",
      "Numero de pacientes:  181\n"
     ]
    }
   ],
   "source": [
    "X = data[['AC005307.1', 'ATP5G2P1', 'DLGAP4', 'EIF4A1P9', 'FAM172BP', 'FAM224A', 'GJA9', 'GPR155', 'GYPE', 'IL25', 'KLHL5', 'LANCL1-AS1', 'LEMD1', 'PCMT1', 'RP11-120J4.1', 'RP11-20G6.3', 'RP11-349G13.2', 'RP11-374M1.2', 'RP11-536C10.21', 'RP11-95G17.2', 'RP11-96O20.4', 'RP5-827C21.1', 'RPS12P26', 'SDR42E1', 'SNORD113-5', 'TARBP2', 'TRAV41', 'TRIM43B', 'VN2R17P', 'XPC']] #Seleccionamos todas las columnas quitando la columna Unnamed (id de la fila ) y la columna Target.\n",
    "Y = []\n",
    "# X = data[['AC002486.3', 'AC003986.5', 'AC004158.3', 'AC004221.2', 'AC005392.13', 'AC005498.4', 'AC006296.2', 'AC006372.6', 'AC011516.2', 'AC012363.13', 'AC017048.2', 'AC018359.1', 'AC091814.2', 'AC092933.4', 'BSN-AS2', 'CDKN2AIPNLP2', 'CTB-49A3.1', 'GLUD1P4', 'GLULP6', 'LRRC34P1', 'MARCKSL1P2', 'OR10B1P', 'OR2B8P', 'OSBPL9P1', 'RNA5SP205', 'RNF212', 'RP11-123J14.1', 'RP3-406P24.4', 'RP4-581O6.1', 'XXyac-YR12DB5.1']]\n",
    "\n",
    "Y = [] # Target column\n",
    "# For each entry I classified it by its PFS value.\n",
    "for i in range (len(data)):\n",
    "    if data.PFS[i]<3: # If PFS is lower than 3 months, I will consider it as NonResponder (NR)\n",
    "        Y.append(0)\n",
    "    else:\n",
    "        Y.append(1)# If PFS is over 3 months, I will consider it as Responder (R)\n",
    "\n",
    "print(X)\n",
    "print('Numero de pacientes: ',len(Y))"
   ]
  },
  {
   "cell_type": "markdown",
   "metadata": {},
   "source": [
    "### 3. Train-Test dataset split"
   ]
  },
  {
   "cell_type": "code",
   "execution_count": 4,
   "metadata": {},
   "outputs": [
    {
     "name": "stdout",
     "output_type": "stream",
     "text": [
      "Training set size: 144\n",
      "Target column size of the training set: 144\n",
      "Test set size: 37\n",
      "Target column size of the test set: 37\n"
     ]
    }
   ],
   "source": [
    "XTrain, XTest, yTrain, yTest = train_test_split(X, Y, test_size=0.20, random_state=125, stratify=Y)\n",
    "\n",
    "# Convert sets to arrays\n",
    "XTrain = XTrain.values\n",
    "XTest = XTest.values\n",
    "\n",
    "print('Training set size:', len(XTrain))\n",
    "print('Target column size of the training set:', len(yTrain))\n",
    "print('Test set size:', len(XTest))\n",
    "print('Target column size of the test set:', len(yTest))"
   ]
  },
  {
   "cell_type": "markdown",
   "metadata": {},
   "source": [
    "### 4. Select the parameters of the model and fit it"
   ]
  },
  {
   "cell_type": "code",
   "execution_count": 5,
   "metadata": {},
   "outputs": [
    {
     "data": {
      "text/plain": [
       "GridSearchCV(cv=5, estimator=RandomForestClassifier(),\n",
       "             param_grid={'bootstrap': [True, False],\n",
       "                         'criterion': ['gini', 'entropy'],\n",
       "                         'max_depth': [None, 2, 5, 10, 50],\n",
       "                         'min_samples_leaf': [1, 2, 3],\n",
       "                         'min_samples_split': [2, 3, 4, 5],\n",
       "                         'n_estimators': [10, 20], 'random_state': [125]})"
      ]
     },
     "execution_count": 5,
     "metadata": {},
     "output_type": "execute_result"
    }
   ],
   "source": [
    "param_grid = {'min_samples_leaf': [1, 2, 3],\n",
    "              'min_samples_split': [2, 3, 4, 5],\n",
    "              'random_state':[125],\n",
    "              'n_estimators': [10, 20],\n",
    "              'bootstrap': [True, False],\n",
    "              'criterion': ['gini', 'entropy'],\n",
    "              'max_depth':[None, 2, 5, 10,50]\n",
    "              }\n",
    "\n",
    "# I created a GridSearchCV which allows us to systematically evaluate and select the parameters of our model.\n",
    "# By indicating a model and the parameters to test, you can evaluate the performance of the first one based on the\n",
    "# seconds through cross validation.\n",
    "clf = GridSearchCV(\n",
    "        estimator  = RandomForestClassifier(),\n",
    "        param_grid = param_grid,\n",
    "        cv=5\n",
    "       )\n",
    "\n",
    "clf.fit(XTrain , yTrain)"
   ]
  },
  {
   "cell_type": "code",
   "execution_count": 6,
   "metadata": {},
   "outputs": [
    {
     "name": "stdout",
     "output_type": "stream",
     "text": [
      "Best estimate of parameters according to GridSearchCV:\n"
     ]
    },
    {
     "data": {
      "text/plain": [
       "RandomForestClassifier(criterion='entropy', max_depth=2, min_samples_leaf=3,\n",
       "                       n_estimators=20, random_state=125)"
      ]
     },
     "execution_count": 6,
     "metadata": {},
     "output_type": "execute_result"
    }
   ],
   "source": [
    "print(\"Best estimate of parameters according to GridSearchCV:\")\n",
    "model = clf.best_estimator_\n",
    "# Fit the model with the best parameters\n",
    "model.fit(XTrain , yTrain)"
   ]
  },
  {
   "cell_type": "code",
   "execution_count": 7,
   "metadata": {},
   "outputs": [
    {
     "name": "stdout",
     "output_type": "stream",
     "text": [
      "Best result of the cross validation of the model with the best paramters:0.6948275862068967\n"
     ]
    }
   ],
   "source": [
    "print(\"Best result of the cross validation of the model with the best paramters:\" +str(clf.best_score_))"
   ]
  },
  {
   "cell_type": "markdown",
   "metadata": {},
   "source": [
    "### 5. Prediction"
   ]
  },
  {
   "cell_type": "code",
   "execution_count": 8,
   "metadata": {},
   "outputs": [],
   "source": [
    "# Making predictions with the optimal model on the training dataset\n",
    "yhatTrain = model.predict(XTrain)\n",
    "contTrain = 0\n",
    "\n",
    "# Comparing with the Target column and check how many hits there have been\n",
    "for i in range(0,len(yTrain),1) :\n",
    "    if (yhatTrain[i] == yTrain[i]):\n",
    "        contTrain = contTrain + 1"
   ]
  },
  {
   "cell_type": "code",
   "execution_count": 9,
   "metadata": {},
   "outputs": [],
   "source": [
    "# Making predictions with the optimal model on the test dataset\n",
    "yhatTest = model.predict(XTest)\n",
    "contTest = 0\n",
    "\n",
    "# Comparing with the Target column and check how many hits there have been\n",
    "for i in range(0,len(yTest),1) :\n",
    "    if (yhatTest[i] == yTest[i]):\n",
    "        contTest = contTest + 1\n"
   ]
  },
  {
   "cell_type": "markdown",
   "metadata": {},
   "source": [
    "### 6. Results"
   ]
  },
  {
   "cell_type": "code",
   "execution_count": 10,
   "metadata": {},
   "outputs": [
    {
     "name": "stdout",
     "output_type": "stream",
     "text": [
      "Final accuracy on the training dataset:0.7013888888888888\n",
      "Final accuracy on the testing dataset: 0.6486486486486487\n"
     ]
    }
   ],
   "source": [
    "print('Final accuracy on the training dataset:' + str(contTrain/len(yTrain)))\n",
    "print('Final accuracy on the testing dataset: ' + str(contTest/len(yTest)))"
   ]
  },
  {
   "cell_type": "code",
   "execution_count": 11,
   "metadata": {},
   "outputs": [
    {
     "name": "stdout",
     "output_type": "stream",
     "text": [
      "----------------Confusion Matrix (Training)------------------\n",
      "[[43 25]\n",
      " [18 58]]\n",
      "Input data:  [1 0 1 0 1 1 0 0 1 0 1 0 1 0 1 1 0 1 1 1 0 0 0 1 0 0 0 0 0 1 1 1 1 1 0 1 1\n",
      " 0 0 1 1 1 1 1 0 0 1 1 1 0 0 0 1 0 0 1 0 1 1 1 0 1 1 0 0 0 0 1 1 1 0 1 0 0\n",
      " 0 1 0 1 0 0 0 1 1 0 0 1 1 1 1 1 0 1 0 1 0 0 1 0 1 0 0 1 0 0 1 1 1 1 0 1 1\n",
      " 1 1 0 1 0 0 0 1 0 1 0 1 0 0 1 1 1 0 0 0 1 0 1 0 0 0 1 1 1 1 1 0 1]\n",
      "Prediction:        [1 1 1 0 1 1 0 0 0 0 1 0 1 0 1 1 0 1 1 0 1 0 0 1 0 0 0 0 0 1 0 1 1 0 1 1 1\n",
      " 1 0 1 1 0 1 1 1 1 1 1 1 0 0 0 1 1 0 1 1 1 1 1 1 1 1 0 1 0 0 0 1 1 1 1 0 1\n",
      " 0 0 1 1 1 0 0 1 1 0 0 1 1 0 1 1 1 0 1 1 1 0 0 0 0 0 1 1 0 0 0 1 1 1 1 1 1\n",
      " 1 0 1 1 0 0 0 0 0 1 1 0 0 1 1 0 1 0 1 0 0 1 1 0 0 0 1 1 1 1 0 1 1]\n"
     ]
    }
   ],
   "source": [
    "from sklearn.metrics import classification_report,confusion_matrix\n",
    "\n",
    "print('----------------Confusion Matrix (Training)------------------')\n",
    "print(confusion_matrix(yTrain,yhatTrain))\n",
    "print('Input data:  ' + str(np.array(yTrain)))\n",
    "print('Prediction:        ' +str(yhatTrain))"
   ]
  },
  {
   "cell_type": "code",
   "execution_count": 12,
   "metadata": {},
   "outputs": [
    {
     "name": "stdout",
     "output_type": "stream",
     "text": [
      "              precision    recall  f1-score   support\n",
      "\n",
      "           0       0.70      0.63      0.67        68\n",
      "           1       0.70      0.76      0.73        76\n",
      "\n",
      "    accuracy                           0.70       144\n",
      "   macro avg       0.70      0.70      0.70       144\n",
      "weighted avg       0.70      0.70      0.70       144\n",
      "\n"
     ]
    }
   ],
   "source": [
    "print(classification_report(yTrain,yhatTrain))"
   ]
  },
  {
   "cell_type": "code",
   "execution_count": 13,
   "metadata": {},
   "outputs": [
    {
     "name": "stdout",
     "output_type": "stream",
     "text": [
      "----------------Confusion Matrix (Test)------------------\n",
      "[[ 7 10]\n",
      " [ 3 17]]\n",
      "Input data:  [0 1 0 1 0 1 1 0 1 0 1 1 1 1 1 0 1 1 0 0 0 1 1 0 0 1 0 1 1 0 0 0 1 1 0 1 0]\n",
      "Prediction:        [0 0 1 1 0 1 1 1 0 1 1 1 1 1 1 1 1 1 0 1 1 1 1 0 1 1 0 1 1 0 1 1 1 0 1 1 0]\n"
     ]
    }
   ],
   "source": [
    "print('----------------Confusion Matrix (Test)------------------')\n",
    "print(confusion_matrix(yTest,yhatTest))\n",
    "print('Input data:  ' + str(np.array(yTest)))\n",
    "print('Prediction:        ' +str(yhatTest))"
   ]
  },
  {
   "cell_type": "code",
   "execution_count": 14,
   "metadata": {},
   "outputs": [
    {
     "name": "stdout",
     "output_type": "stream",
     "text": [
      "              precision    recall  f1-score   support\n",
      "\n",
      "           0       0.70      0.41      0.52        17\n",
      "           1       0.63      0.85      0.72        20\n",
      "\n",
      "    accuracy                           0.65        37\n",
      "   macro avg       0.66      0.63      0.62        37\n",
      "weighted avg       0.66      0.65      0.63        37\n",
      "\n"
     ]
    }
   ],
   "source": [
    "print(classification_report(yTest,yhatTest))"
   ]
  },
  {
   "cell_type": "code",
   "execution_count": 15,
   "metadata": {},
   "outputs": [
    {
     "data": {
      "image/png": "[encoded data removed]",
      "text/plain": [
       "<Figure size 432x288 with 1 Axes>"
      ]
     },
     "metadata": {
      "needs_background": "light"
     },
     "output_type": "display_data"
    },
    {
     "name": "stdout",
     "output_type": "stream",
     "text": [
      "AC005307.1 = 0.013949292002250535\n",
      "ATP5G2P1 = 0.11317373625142786\n",
      "DLGAP4 = 0.09639876120568333\n",
      "EIF4A1P9 = 0.008955402862088846\n",
      "FAM172BP = 0.01660493650293456\n",
      "FAM224A = 0.0\n",
      "GJA9 = 0.012915952688654924\n",
      "GPR155 = 0.0\n",
      "GYPE = 0.024277108812349978\n",
      "IL25 = 0.08992890418963882\n",
      "KLHL5 = 0.016064722269001082\n",
      "LANCL1-AS1 = 0.014483986810567362\n",
      "LEMD1 = 0.0037817739138624\n",
      "PCMT1 = 0.0\n",
      "RP11-120J4.1 = 0.07434301244277412\n",
      "RP11-20G6.3 = 0.0\n",
      "RP11-349G13.2 = 0.0700918036558276\n",
      "RP11-374M1.2 = 0.03523311452632714\n",
      "RP11-536C10.21 = 0.01606450391116049\n",
      "RP11-95G17.2 = 0.02282778123681752\n",
      "RP11-96O20.4 = 0.05151587131198217\n",
      "RP5-827C21.1 = 0.0\n",
      "RPS12P26 = 0.0535250606737428\n",
      "SDR42E1 = 0.03035124512161601\n",
      "SNORD113-5 = 0.013598863956543129\n",
      "TARBP2 = 0.05990372643677576\n",
      "TRAV41 = 0.03557162680500053\n",
      "TRIM43B = 0.0033188298860298447\n",
      "VN2R17P = 0.053909834067639176\n",
      "XPC = 0.06921014845930407\n"
     ]
    }
   ],
   "source": [
    "# Through the created model we can see which attributes are the most significant to make a decision.\n",
    "# The most relevant attributes will be the ones placed at the top of the tree.\n",
    "features = list(X)\n",
    "importances = model.feature_importances_\n",
    "indices = np.argsort(importances)\n",
    "\n",
    "plt.title('Attribute relevance')\n",
    "plt.barh(range(len(indices)), importances[indices], color='b', align='center')\n",
    "plt.yticks(range(len(indices)), [features[i] for i in indices])\n",
    "plt.xlabel('Relative importance')\n",
    "plt.show()\n",
    "\n",
    "for name, importance in zip(X, model.feature_importances_):\n",
    "    print(name, \"=\", importance)\n",
    "\n",
    "# Attributes whose relevance is 0, will not be necessary to make the prediction of the target."
   ]
  }
 ],
 "metadata": {
  "interpreter": {
   "hash": "8be240dc937e61b542e412c89351978950720d3fde5a0c37c158fb19f149fb89"
  },
  "kernelspec": {
   "display_name": "Python 3.8.8 ('base')",
   "language": "python",
   "name": "python3"
  },
  "language_info": {
   "codemirror_mode": {
    "name": "ipython",
    "version": 3
   },
   "file_extension": ".py",
   "mimetype": "text/x-python",
   "name": "python",
   "nbconvert_exporter": "python",
   "pygments_lexer": "ipython3",
   "version": "3.8.8"
  },
  "orig_nbformat": 4
 },
 "nbformat": 4,
 "nbformat_minor": 2
}
