{
 "cells": [
  {
   "cell_type": "markdown",
   "metadata": {},
   "source": [
    "# Classification model using Random Forest"
   ]
  },
  {
   "cell_type": "markdown",
   "metadata": {},
   "source": [
    "### 1. Import libraries"
   ]
  },
  {
   "cell_type": "code",
   "execution_count": 31,
   "metadata": {},
   "outputs": [],
   "source": [
    "import pandas as pd\n",
    "import numpy as np\n",
    "import matplotlib.pyplot as plt\n",
    "from sklearn.model_selection import train_test_split\n",
    "from sklearn.ensemble import RandomForestClassifier\n",
    "from sklearn.model_selection import GridSearchCV\n",
    "from sklearn.decomposition import PCA"
   ]
  },
  {
   "cell_type": "markdown",
   "metadata": {},
   "source": [
    "### 2. Upload RNA data"
   ]
  },
  {
   "cell_type": "code",
   "execution_count": 32,
   "metadata": {},
   "outputs": [
    {
     "data": {
      "text/html": [
       "<div>\n",
       "<style scoped>\n",
       "    .dataframe tbody tr th:only-of-type {\n",
       "        vertical-align: middle;\n",
       "    }\n",
       "\n",
       "    .dataframe tbody tr th {\n",
       "        vertical-align: top;\n",
       "    }\n",
       "\n",
       "    .dataframe thead th {\n",
       "        text-align: right;\n",
       "    }\n",
       "</style>\n",
       "<table border=\"1\" class=\"dataframe\">\n",
       "  <thead>\n",
       "    <tr style=\"text-align: right;\">\n",
       "      <th></th>\n",
       "      <th>Unnamed: 0</th>\n",
       "      <th>RNA_ID</th>\n",
       "      <th>Age</th>\n",
       "      <th>Sarc</th>\n",
       "      <th>Rhab</th>\n",
       "      <th>Number_of_Prior_Therapies</th>\n",
       "      <th>Days_from_TumorSample_Collection_and_Start_of_Trial_Therapy</th>\n",
       "      <th>Tumor_Shrinkage</th>\n",
       "      <th>PFS</th>\n",
       "      <th>TM_TC_Ratio</th>\n",
       "      <th>...</th>\n",
       "      <th>SYT10</th>\n",
       "      <th>TARBP2</th>\n",
       "      <th>TAS1R3</th>\n",
       "      <th>TAT</th>\n",
       "      <th>TRAV41</th>\n",
       "      <th>TRIM43B</th>\n",
       "      <th>VN2R17P</th>\n",
       "      <th>XPC</th>\n",
       "      <th>ZNF608</th>\n",
       "      <th>ZNF746</th>\n",
       "    </tr>\n",
       "  </thead>\n",
       "  <tbody>\n",
       "    <tr>\n",
       "      <th>0</th>\n",
       "      <td>0</td>\n",
       "      <td>G138701_RCCBMS-00020-T_v1_RNA_OnPrem</td>\n",
       "      <td>62.0</td>\n",
       "      <td>0.0</td>\n",
       "      <td>0.0</td>\n",
       "      <td>2.0</td>\n",
       "      <td>962.0</td>\n",
       "      <td>-16.406250</td>\n",
       "      <td>12.164384</td>\n",
       "      <td>0.766909</td>\n",
       "      <td>...</td>\n",
       "      <td>21.82797</td>\n",
       "      <td>29.60417</td>\n",
       "      <td>26.87053</td>\n",
       "      <td>22.27506</td>\n",
       "      <td>22.22154</td>\n",
       "      <td>21.9744</td>\n",
       "      <td>21.12857</td>\n",
       "      <td>32.24472</td>\n",
       "      <td>34.46991</td>\n",
       "      <td>29.11848</td>\n",
       "    </tr>\n",
       "    <tr>\n",
       "      <th>1</th>\n",
       "      <td>1</td>\n",
       "      <td>G138701_RCCBMS-00097-T_v1_RNA_OnPrem</td>\n",
       "      <td>67.0</td>\n",
       "      <td>0.0</td>\n",
       "      <td>0.0</td>\n",
       "      <td>2.0</td>\n",
       "      <td>254.0</td>\n",
       "      <td>-40.000000</td>\n",
       "      <td>5.490411</td>\n",
       "      <td>0.773269</td>\n",
       "      <td>...</td>\n",
       "      <td>23.53072</td>\n",
       "      <td>29.61188</td>\n",
       "      <td>26.87283</td>\n",
       "      <td>22.27506</td>\n",
       "      <td>22.22154</td>\n",
       "      <td>21.9744</td>\n",
       "      <td>21.12857</td>\n",
       "      <td>32.15619</td>\n",
       "      <td>34.95662</td>\n",
       "      <td>30.78421</td>\n",
       "    </tr>\n",
       "    <tr>\n",
       "      <th>2</th>\n",
       "      <td>2</td>\n",
       "      <td>G138701_RCCBMS-00141-T_v1_RNA_OnPrem</td>\n",
       "      <td>62.0</td>\n",
       "      <td>0.0</td>\n",
       "      <td>0.0</td>\n",
       "      <td>1.0</td>\n",
       "      <td>800.0</td>\n",
       "      <td>-89.436620</td>\n",
       "      <td>61.906849</td>\n",
       "      <td>1.782859</td>\n",
       "      <td>...</td>\n",
       "      <td>21.82797</td>\n",
       "      <td>31.90343</td>\n",
       "      <td>23.88665</td>\n",
       "      <td>27.71190</td>\n",
       "      <td>22.22154</td>\n",
       "      <td>21.9744</td>\n",
       "      <td>21.12857</td>\n",
       "      <td>31.86536</td>\n",
       "      <td>32.73029</td>\n",
       "      <td>31.98340</td>\n",
       "    </tr>\n",
       "    <tr>\n",
       "      <th>3</th>\n",
       "      <td>3</td>\n",
       "      <td>G138701_RCCBMS-00099-T_v1_RNA_OnPrem</td>\n",
       "      <td>60.0</td>\n",
       "      <td>0.0</td>\n",
       "      <td>0.0</td>\n",
       "      <td>3.0</td>\n",
       "      <td>790.0</td>\n",
       "      <td>11.787072</td>\n",
       "      <td>1.249315</td>\n",
       "      <td>5.890573</td>\n",
       "      <td>...</td>\n",
       "      <td>31.50567</td>\n",
       "      <td>30.35424</td>\n",
       "      <td>25.66465</td>\n",
       "      <td>22.27506</td>\n",
       "      <td>22.22154</td>\n",
       "      <td>21.9744</td>\n",
       "      <td>21.12857</td>\n",
       "      <td>31.63561</td>\n",
       "      <td>33.92535</td>\n",
       "      <td>30.68180</td>\n",
       "    </tr>\n",
       "    <tr>\n",
       "      <th>4</th>\n",
       "      <td>4</td>\n",
       "      <td>G138701_RCCBMS-00163-T_v1_RNA_OnPrem</td>\n",
       "      <td>76.0</td>\n",
       "      <td>0.0</td>\n",
       "      <td>0.0</td>\n",
       "      <td>2.0</td>\n",
       "      <td>1241.0</td>\n",
       "      <td>0.000000</td>\n",
       "      <td>5.654795</td>\n",
       "      <td>1.374775</td>\n",
       "      <td>...</td>\n",
       "      <td>27.75696</td>\n",
       "      <td>31.60946</td>\n",
       "      <td>27.41015</td>\n",
       "      <td>22.27506</td>\n",
       "      <td>22.22154</td>\n",
       "      <td>21.9744</td>\n",
       "      <td>21.12857</td>\n",
       "      <td>33.12717</td>\n",
       "      <td>33.16473</td>\n",
       "      <td>30.01943</td>\n",
       "    </tr>\n",
       "  </tbody>\n",
       "</table>\n",
       "<p>5 rows × 125 columns</p>\n",
       "</div>"
      ],
      "text/plain": [
       "   Unnamed: 0                                RNA_ID   Age  Sarc  Rhab  \\\n",
       "0           0  G138701_RCCBMS-00020-T_v1_RNA_OnPrem  62.0   0.0   0.0   \n",
       "1           1  G138701_RCCBMS-00097-T_v1_RNA_OnPrem  67.0   0.0   0.0   \n",
       "2           2  G138701_RCCBMS-00141-T_v1_RNA_OnPrem  62.0   0.0   0.0   \n",
       "3           3  G138701_RCCBMS-00099-T_v1_RNA_OnPrem  60.0   0.0   0.0   \n",
       "4           4  G138701_RCCBMS-00163-T_v1_RNA_OnPrem  76.0   0.0   0.0   \n",
       "\n",
       "   Number_of_Prior_Therapies  \\\n",
       "0                        2.0   \n",
       "1                        2.0   \n",
       "2                        1.0   \n",
       "3                        3.0   \n",
       "4                        2.0   \n",
       "\n",
       "   Days_from_TumorSample_Collection_and_Start_of_Trial_Therapy  \\\n",
       "0                                              962.0             \n",
       "1                                              254.0             \n",
       "2                                              800.0             \n",
       "3                                              790.0             \n",
       "4                                             1241.0             \n",
       "\n",
       "   Tumor_Shrinkage        PFS  TM_TC_Ratio  ...     SYT10    TARBP2    TAS1R3  \\\n",
       "0       -16.406250  12.164384     0.766909  ...  21.82797  29.60417  26.87053   \n",
       "1       -40.000000   5.490411     0.773269  ...  23.53072  29.61188  26.87283   \n",
       "2       -89.436620  61.906849     1.782859  ...  21.82797  31.90343  23.88665   \n",
       "3        11.787072   1.249315     5.890573  ...  31.50567  30.35424  25.66465   \n",
       "4         0.000000   5.654795     1.374775  ...  27.75696  31.60946  27.41015   \n",
       "\n",
       "        TAT    TRAV41  TRIM43B   VN2R17P       XPC    ZNF608    ZNF746  \n",
       "0  22.27506  22.22154  21.9744  21.12857  32.24472  34.46991  29.11848  \n",
       "1  22.27506  22.22154  21.9744  21.12857  32.15619  34.95662  30.78421  \n",
       "2  27.71190  22.22154  21.9744  21.12857  31.86536  32.73029  31.98340  \n",
       "3  22.27506  22.22154  21.9744  21.12857  31.63561  33.92535  30.68180  \n",
       "4  22.27506  22.22154  21.9744  21.12857  33.12717  33.16473  30.01943  \n",
       "\n",
       "[5 rows x 125 columns]"
      ]
     },
     "execution_count": 32,
     "metadata": {},
     "output_type": "execute_result"
    }
   ],
   "source": [
    "path ='../../../../Data_preprocessing/Prediction PFS/RNA+Clinic joined/New/Clinical_data_and_RNA_98_Features_PFS.csv'\n",
    "data = pd.read_csv(path)\n",
    "data.head(5)"
   ]
  },
  {
   "cell_type": "code",
   "execution_count": 33,
   "metadata": {},
   "outputs": [
    {
     "name": "stdout",
     "output_type": "stream",
     "text": [
      "         ABHD5  AC005307.1  AC005550.3  AC090957.2      AGAP3  AP001055.6  \\\n",
      "0    30.497897   21.055379   21.270652   21.030369  32.969805   22.028180   \n",
      "1    31.269076   21.055379   21.270652   21.030369  32.303016   22.028180   \n",
      "2    32.103159   21.055379   21.270652   21.030369  31.523937   22.028180   \n",
      "3    31.860291   21.055379   21.270652   21.030369  32.234884   22.028180   \n",
      "4    31.130802   21.055379   21.270652   21.030369  33.158813   22.028180   \n",
      "..         ...         ...         ...         ...        ...         ...   \n",
      "176  32.097191   20.944668   20.782537   20.962109  33.553554   20.515641   \n",
      "177  33.549605   20.944668   20.782537   20.962109  32.424865   24.317471   \n",
      "178  32.023461   20.944668   22.065655   20.962109  33.420634   20.515641   \n",
      "179  30.836938   20.944668   21.846195   20.962109  33.432114   23.692971   \n",
      "180  31.554782   20.944668   23.384450   20.962109  33.223246   20.515641   \n",
      "\n",
      "     AP003025.2     AQP7P4   ATP5G2P1       AVIL  ...     SYT10    TARBP2  \\\n",
      "0     21.082002  21.075150  21.300337  31.822132  ...  21.82797  29.60417   \n",
      "1     21.082002  21.075150  21.300337  29.769749  ...  23.53072  29.61188   \n",
      "2     21.082002  29.996793  21.300337  29.435955  ...  21.82797  31.90343   \n",
      "3     21.082002  21.075150  21.300337  31.120275  ...  31.50567  30.35424   \n",
      "4     21.082002  21.075150  21.300337  29.600056  ...  27.75696  31.60946   \n",
      "..          ...        ...        ...        ...  ...       ...       ...   \n",
      "176   21.081718  22.290993  21.624881  28.676982  ...  22.65164  31.57179   \n",
      "177   21.081718  22.290993  21.624881  32.495369  ...  22.65164  34.36199   \n",
      "178   21.081718  22.290993  21.624881  31.943709  ...  22.65164  29.30238   \n",
      "179   21.081718  22.290993  21.624881  32.209538  ...  22.65164  30.72343   \n",
      "180   21.081718  22.290993  21.624881  28.676982  ...  22.65164  31.34356   \n",
      "\n",
      "       TAS1R3       TAT    TRAV41  TRIM43B   VN2R17P       XPC    ZNF608  \\\n",
      "0    26.87053  22.27506  22.22154  21.9744  21.12857  32.24472  34.46991   \n",
      "1    26.87283  22.27506  22.22154  21.9744  21.12857  32.15619  34.95662   \n",
      "2    23.88665  27.71190  22.22154  21.9744  21.12857  31.86536  32.73029   \n",
      "3    25.66465  22.27506  22.22154  21.9744  21.12857  31.63561  33.92535   \n",
      "4    27.41015  22.27506  22.22154  21.9744  21.12857  33.12717  33.16473   \n",
      "..        ...       ...       ...      ...       ...       ...       ...   \n",
      "176  25.54037  23.86908  24.54591  22.3863  20.96902  32.70183  35.08429   \n",
      "177  25.54037  21.05702  24.54591  22.3863  20.96902  30.79817  34.94645   \n",
      "178  25.54037  28.31916  24.54591  22.3863  20.96902  32.60750  34.31747   \n",
      "179  25.54037  21.05702  24.54591  22.3863  23.88906  33.35291  33.61931   \n",
      "180  25.54037  24.96235  24.54591  22.3863  20.96902  32.50118  30.93156   \n",
      "\n",
      "       ZNF746  \n",
      "0    29.11848  \n",
      "1    30.78421  \n",
      "2    31.98340  \n",
      "3    30.68180  \n",
      "4    30.01943  \n",
      "..        ...  \n",
      "176  31.01530  \n",
      "177  30.98229  \n",
      "178  30.99700  \n",
      "179  29.68499  \n",
      "180  31.58285  \n",
      "\n",
      "[181 rows x 98 columns]\n",
      "Numero de pacientes:  181\n"
     ]
    }
   ],
   "source": [
    "X = data.iloc[:,27:125]\n",
    "Y=[]\n",
    "# For each entry I classified it by its PFS value.\n",
    "for i in range (len(data)):\n",
    "    if data.PFS[i]<3: # If PFS is lower than 3 months, I will consider it as NonResponder (NR)\n",
    "        Y.append(0)\n",
    "    elif data.PFS[i]<6:\n",
    "        Y.append(1)# If PFS is over 3 months, I will consider it as Responder (R)\n",
    "    else:\n",
    "        Y.append(2)\n",
    "print(X)\n",
    "print('Numero de pacientes: ',len(Y))"
   ]
  },
  {
   "cell_type": "markdown",
   "metadata": {},
   "source": [
    "### 3. Train-Test dataset split"
   ]
  },
  {
   "cell_type": "code",
   "execution_count": 34,
   "metadata": {},
   "outputs": [
    {
     "name": "stdout",
     "output_type": "stream",
     "text": [
      "Training set size: 144\n",
      "Target column size of the training set: 144\n",
      "Test set size: 37\n",
      "Target column size of the test set: 37\n"
     ]
    }
   ],
   "source": [
    "XTrain, XTest, yTrain, yTest = train_test_split(X, Y, test_size=0.20, random_state=125, stratify=Y)\n",
    "\n",
    "# Convert sets to arrays\n",
    "XTrain = XTrain.values\n",
    "XTest = XTest.values\n",
    "\n",
    "print('Training set size:', len(XTrain))\n",
    "print('Target column size of the training set:', len(yTrain))\n",
    "print('Test set size:', len(XTest))\n",
    "print('Target column size of the test set:', len(yTest))"
   ]
  },
  {
   "cell_type": "markdown",
   "metadata": {},
   "source": [
    "### 4. Select the parameters of the model and fit it"
   ]
  },
  {
   "cell_type": "code",
   "execution_count": 35,
   "metadata": {},
   "outputs": [
    {
     "data": {
      "text/plain": [
       "GridSearchCV(cv=5, estimator=RandomForestClassifier(),\n",
       "             param_grid={'bootstrap': [True, False],\n",
       "                         'criterion': ['gini', 'entropy'],\n",
       "                         'max_depth': [None, 2, 3, 4, 5, 6, 7, 8, 9, 10, 50],\n",
       "                         'min_samples_leaf': [1, 2, 3],\n",
       "                         'min_samples_split': [2, 3, 4, 5, 6, 7, 8, 9],\n",
       "                         'n_estimators': [3, 4, 5, 10, 15, 20],\n",
       "                         'random_state': [125]})"
      ]
     },
     "execution_count": 35,
     "metadata": {},
     "output_type": "execute_result"
    }
   ],
   "source": [
    "param_grid = {'min_samples_leaf': [1, 2, 3],\n",
    "              'min_samples_split': [2, 3, 4, 5, 6, 7, 8, 9],\n",
    "              'random_state':[125],\n",
    "              'n_estimators': [3, 4, 5, 10, 15, 20],\n",
    "              'bootstrap': [True, False],\n",
    "              'criterion': ['gini', 'entropy'],\n",
    "              'max_depth':[None, 2, 3, 4, 5, 6, 7, 8, 9, 10,50]\n",
    "              }\n",
    "\n",
    "# I created a GridSearchCV which allows us to systematically evaluate and select the parameters of our model.\n",
    "# By indicating a model and the parameters to test, you can evaluate the performance of the first one based on the\n",
    "# seconds through cross validation.\n",
    "clf = GridSearchCV(\n",
    "        estimator  = RandomForestClassifier(),\n",
    "        param_grid = param_grid,\n",
    "        cv=5\n",
    "       )\n",
    "\n",
    "clf.fit(XTrain , yTrain)"
   ]
  },
  {
   "cell_type": "code",
   "execution_count": 36,
   "metadata": {},
   "outputs": [
    {
     "name": "stdout",
     "output_type": "stream",
     "text": [
      "Best estimate of parameters according to GridSearchCV:\n"
     ]
    },
    {
     "data": {
      "text/plain": [
       "RandomForestClassifier(max_depth=5, min_samples_leaf=2, min_samples_split=8,\n",
       "                       n_estimators=5, random_state=125)"
      ]
     },
     "execution_count": 36,
     "metadata": {},
     "output_type": "execute_result"
    }
   ],
   "source": [
    "print(\"Best estimate of parameters according to GridSearchCV:\")\n",
    "model = clf.best_estimator_\n",
    "# Fit the model with the best parameters\n",
    "model.fit(XTrain , yTrain)"
   ]
  },
  {
   "cell_type": "code",
   "execution_count": 37,
   "metadata": {},
   "outputs": [
    {
     "name": "stdout",
     "output_type": "stream",
     "text": [
      "Best result of the cross validation of the model with the best paramters:0.5773399014778325\n"
     ]
    }
   ],
   "source": [
    "print(\"Best result of the cross validation of the model with the best paramters:\" +str(clf.best_score_))"
   ]
  },
  {
   "cell_type": "markdown",
   "metadata": {},
   "source": [
    "### 5. Prediction"
   ]
  },
  {
   "cell_type": "code",
   "execution_count": 38,
   "metadata": {},
   "outputs": [],
   "source": [
    "# Making predictions with the optimal model on the training dataset\n",
    "yhatTrain = model.predict(XTrain)\n",
    "contTrain = 0\n",
    "\n",
    "# Comparing with the Target column and check how many hits there have been\n",
    "for i in range(0,len(yTrain),1) :\n",
    "    if (yhatTrain[i] == yTrain[i]):\n",
    "        contTrain = contTrain + 1"
   ]
  },
  {
   "cell_type": "code",
   "execution_count": 39,
   "metadata": {},
   "outputs": [],
   "source": [
    "# Making predictions with the optimal model on the test dataset\n",
    "yhatTest = model.predict(XTest)\n",
    "contTest = 0\n",
    "\n",
    "# Comparing with the Target column and check how many hits there have been\n",
    "for i in range(0,len(yTest),1) :\n",
    "    if (yhatTest[i] == yTest[i]):\n",
    "        contTest = contTest + 1\n"
   ]
  },
  {
   "cell_type": "markdown",
   "metadata": {},
   "source": [
    "### 6. Results"
   ]
  },
  {
   "cell_type": "code",
   "execution_count": 40,
   "metadata": {},
   "outputs": [
    {
     "name": "stdout",
     "output_type": "stream",
     "text": [
      "Final accuracy on the training dataset:0.75\n",
      "Final accuracy on the testing dataset: 0.43243243243243246\n"
     ]
    }
   ],
   "source": [
    "print('Final accuracy on the training dataset:' + str(contTrain/len(yTrain)))\n",
    "print('Final accuracy on the testing dataset: ' + str(contTest/len(yTest)))"
   ]
  },
  {
   "cell_type": "code",
   "execution_count": 41,
   "metadata": {},
   "outputs": [
    {
     "name": "stdout",
     "output_type": "stream",
     "text": [
      "----------------Confusion Matrix (Training)------------------\n",
      "[[57  0 10]\n",
      " [ 8  8  9]\n",
      " [ 9  0 43]]\n",
      "Input data:  [1 0 2 0 2 2 0 0 2 0 2 0 1 0 2 2 0 2 2 2 0 0 0 2 0 0 0 0 1 1 2 2 2 2 0 1 2\n",
      " 0 0 2 1 2 2 1 0 0 2 2 1 0 0 0 2 0 0 2 0 2 1 2 0 2 1 0 0 0 0 2 2 2 0 2 0 0\n",
      " 0 2 0 2 0 0 0 1 2 0 0 1 2 2 1 1 0 2 0 2 0 0 1 0 1 0 0 2 0 0 2 2 2 1 0 2 2\n",
      " 1 2 0 1 0 0 0 2 0 1 0 2 0 0 2 1 1 0 0 0 2 0 1 0 0 0 2 2 2 1 2 0 1]\n",
      "Prediction:        [2 0 2 0 0 2 0 0 0 0 0 0 2 0 2 2 0 2 2 2 2 0 0 2 0 0 0 0 2 2 2 2 2 2 0 0 2\n",
      " 2 0 2 0 2 2 1 0 0 2 2 1 0 0 0 0 0 2 2 0 2 0 2 0 2 0 0 0 0 0 0 2 2 0 2 0 2\n",
      " 0 2 0 2 0 0 2 0 2 0 0 2 2 0 2 1 0 2 2 2 2 0 2 0 1 0 2 2 0 0 2 2 2 1 0 2 0\n",
      " 1 0 0 2 0 0 0 2 0 1 0 2 0 0 2 1 0 0 0 0 2 2 0 0 0 0 2 2 2 2 0 2 0]\n"
     ]
    }
   ],
   "source": [
    "from sklearn.metrics import classification_report,confusion_matrix\n",
    "\n",
    "print('----------------Confusion Matrix (Training)------------------')\n",
    "print(confusion_matrix(yTrain,yhatTrain))\n",
    "print('Input data:  ' + str(np.array(yTrain)))\n",
    "print('Prediction:        ' +str(yhatTrain))"
   ]
  },
  {
   "cell_type": "code",
   "execution_count": 42,
   "metadata": {},
   "outputs": [
    {
     "name": "stdout",
     "output_type": "stream",
     "text": [
      "              precision    recall  f1-score   support\n",
      "\n",
      "           0       0.77      0.85      0.81        67\n",
      "           1       1.00      0.32      0.48        25\n",
      "           2       0.69      0.83      0.75        52\n",
      "\n",
      "    accuracy                           0.75       144\n",
      "   macro avg       0.82      0.67      0.68       144\n",
      "weighted avg       0.78      0.75      0.73       144\n",
      "\n"
     ]
    }
   ],
   "source": [
    "print(classification_report(yTrain,yhatTrain))"
   ]
  },
  {
   "cell_type": "code",
   "execution_count": 43,
   "metadata": {},
   "outputs": [
    {
     "name": "stdout",
     "output_type": "stream",
     "text": [
      "----------------Confusion Matrix (Test)------------------\n",
      "[[13  0  5]\n",
      " [ 4  0  2]\n",
      " [ 9  1  3]]\n",
      "Input data:  [0 1 0 2 0 2 1 0 1 0 2 2 1 2 2 0 1 2 0 0 0 2 1 0 0 2 0 2 2 0 0 0 2 2 0 0 0]\n",
      "Prediction:        [0 0 0 0 0 0 2 0 0 0 0 0 0 2 0 0 2 2 0 0 0 1 0 2 0 0 2 0 2 2 2 0 0 0 2 0 0]\n"
     ]
    }
   ],
   "source": [
    "print('----------------Confusion Matrix (Test)------------------')\n",
    "print(confusion_matrix(yTest,yhatTest))\n",
    "print('Input data:  ' + str(np.array(yTest)))\n",
    "print('Prediction:        ' +str(yhatTest))"
   ]
  },
  {
   "cell_type": "code",
   "execution_count": 44,
   "metadata": {},
   "outputs": [
    {
     "name": "stdout",
     "output_type": "stream",
     "text": [
      "              precision    recall  f1-score   support\n",
      "\n",
      "           0       0.50      0.72      0.59        18\n",
      "           1       0.00      0.00      0.00         6\n",
      "           2       0.30      0.23      0.26        13\n",
      "\n",
      "    accuracy                           0.43        37\n",
      "   macro avg       0.27      0.32      0.28        37\n",
      "weighted avg       0.35      0.43      0.38        37\n",
      "\n"
     ]
    }
   ],
   "source": [
    "print(classification_report(yTest,yhatTest))"
   ]
  },
  {
   "cell_type": "code",
   "execution_count": 45,
   "metadata": {},
   "outputs": [
    {
     "data": {
      "image/png": "[encoded data removed]",
      "text/plain": [
       "<Figure size 432x288 with 1 Axes>"
      ]
     },
     "metadata": {
      "needs_background": "light"
     },
     "output_type": "display_data"
    },
    {
     "name": "stdout",
     "output_type": "stream",
     "text": [
      "ABHD5 = 0.015897624553289892\n",
      "AC005307.1 = 0.0\n",
      "AC005550.3 = 0.0\n",
      "AC090957.2 = 0.005151770429879082\n",
      "AGAP3 = 0.011116293696332439\n",
      "AP001055.6 = 0.008282906089074196\n",
      "AP003025.2 = 0.0\n",
      "AQP7P4 = 0.0\n",
      "ATP5G2P1 = 0.03425111734956117\n",
      "AVIL = 0.0\n",
      "CFL1P1 = 0.0\n",
      "CLDN8 = 0.0\n",
      "CTC-550B14.6 = 0.0\n",
      "CTD-2012J19.2 = 0.0\n",
      "CTD-2337A12.1 = 0.0\n",
      "DLGAP4 = 0.024342115281178738\n",
      "EEF1DP4 = 0.008384475771768155\n",
      "EIF4A1P9 = 0.0\n",
      "FAM172BP = 0.0\n",
      "FAM224A = 0.0\n",
      "GAPDHP60 = 0.09613082278980875\n",
      "GJA3 = 0.0\n",
      "GJA9 = 0.019999547965789823\n",
      "GLIS3-AS1 = 0.0\n",
      "GPR155 = 0.0\n",
      "GS1-388B5.2 = 0.0\n",
      "GYPE = 0.01456674525029116\n",
      "HERPUD2 = 0.019642481756208897\n",
      "HKR1 = 0.0\n",
      "HSF1 = 0.04063381905702413\n",
      "IL25 = 0.0\n",
      "KLHL10 = 0.012156757470093819\n",
      "KLHL5 = 0.03522606876762373\n",
      "LA16c-17H1.3 = 0.0\n",
      "LANCL1-AS1 = 0.0\n",
      "LEMD1 = 0.0\n",
      "LGSN = 0.0\n",
      "LINC00656 = 0.0\n",
      "LPAR1 = 0.029519465639509385\n",
      "MTCO3P40 = 0.0\n",
      "NDUFA5P8 = 0.0\n",
      "NEIL3 = 0.0\n",
      "NPAP1P4 = 0.05040584432435981\n",
      "NPIPB15 = 0.005852913115893986\n",
      "OR13K1P = 0.0\n",
      "OR2J4P = 0.0\n",
      "OR5BK1P = 0.016010413803140316\n",
      "PCMT1 = 0.007600944357303405\n",
      "PCP2 = 0.008790490427459708\n",
      "POLR1D = 0.03879507528485493\n",
      "PTGER3 = 0.037654606064155285\n",
      "RN7SL581P = 0.0\n",
      "RP1-151B14.6 = 0.010595358070684473\n",
      "RP11-108F13.2 = 0.0\n",
      "RP11-116O18.3 = 0.0\n",
      "RP11-120J4.1 = 0.0\n",
      "RP11-128P17.1 = 0.045527038998220325\n",
      "RP11-20G6.3 = 0.0\n",
      "RP11-241F15.7 = 0.0\n",
      "RP11-334E6.10 = 0.0\n",
      "RP11-349G13.2 = 0.00401905426951564\n",
      "RP11-363J17.1 = 0.0\n",
      "RP11-374M1.2 = 0.0\n",
      "RP11-382A20.1 = 0.0\n",
      "RP11-390K5.6 = 0.0\n",
      "RP11-536C10.21 = 0.0020498623394676796\n",
      "RP11-548K12.2 = 0.04136776359153223\n",
      "RP11-5N11.7 = 0.0\n",
      "RP11-643M14.1 = 0.0\n",
      "RP11-728K20.3 = 0.07087605293780501\n",
      "RP11-812E19.9 = 0.0\n",
      "RP11-834C11.7 = 0.0\n",
      "RP11-95G17.2 = 0.0\n",
      "RP11-96O20.4 = 0.0\n",
      "RP13-258O15.1 = 0.0\n",
      "RP3-403A15.1 = 0.014401944856784438\n",
      "RP3-508I15.10 = 0.0\n",
      "RP4-570O12.2 = 0.0\n",
      "RP5-827C21.1 = 0.027565782669459683\n",
      "RPL10P13 = 0.0\n",
      "RPL23AP63 = 0.0\n",
      "RPL29P14 = 0.006740701597728211\n",
      "RPL7L1P11 = 0.006611309648938413\n",
      "RPS12P26 = 0.014459274727156815\n",
      "RPS27P20 = 0.0\n",
      "RPS3AP39 = 0.0\n",
      "SDR42E1 = 0.004880624617780193\n",
      "SNORD113-5 = 0.0\n",
      "SYT10 = 0.03320338623280919\n",
      "TARBP2 = 0.04350214654264129\n",
      "TAS1R3 = 0.013718524905539136\n",
      "TAT = 0.007524296285744474\n",
      "TRAV41 = 0.06617215001242621\n",
      "TRIM43B = 0.028658564475255627\n",
      "VN2R17P = 0.0\n",
      "XPC = 0.009178871675567064\n",
      "ZNF608 = 0.008534992300343111\n",
      "ZNF746 = 0.0\n"
     ]
    }
   ],
   "source": [
    "# Through the created model we can see which attributes are the most significant to make a decision.\n",
    "# The most relevant attributes will be the ones placed at the top of the tree.\n",
    "features = list(X)\n",
    "importances = model.feature_importances_\n",
    "indices = np.argsort(importances)\n",
    "\n",
    "plt.title('Attribute relevance')\n",
    "plt.barh(range(len(indices)), importances[indices], color='b', align='center')\n",
    "plt.yticks(range(len(indices)), [features[i] for i in indices])\n",
    "plt.xlabel('Relative importance')\n",
    "plt.show()\n",
    "\n",
    "for name, importance in zip(X, model.feature_importances_):\n",
    "    print(name, \"=\", importance)\n",
    "\n",
    "# Attributes whose relevance is 0, will not be necessary to make the prediction of the target."
   ]
  }
 ],
 "metadata": {
  "interpreter": {
   "hash": "8be240dc937e61b542e412c89351978950720d3fde5a0c37c158fb19f149fb89"
  },
  "kernelspec": {
   "display_name": "Python 3.8.8 ('base')",
   "language": "python",
   "name": "python3"
  },
  "language_info": {
   "codemirror_mode": {
    "name": "ipython",
    "version": 3
   },
   "file_extension": ".py",
   "mimetype": "text/x-python",
   "name": "python",
   "nbconvert_exporter": "python",
   "pygments_lexer": "ipython3",
   "version": "3.8.8"
  },
  "orig_nbformat": 4
 },
 "nbformat": 4,
 "nbformat_minor": 2
}
