{
 "cells": [
  {
   "cell_type": "markdown",
   "metadata": {},
   "source": [
    "# Classification model using KNN"
   ]
  },
  {
   "cell_type": "markdown",
   "metadata": {},
   "source": [
    "### 1. Import libraries"
   ]
  },
  {
   "cell_type": "code",
   "execution_count": 17,
   "metadata": {},
   "outputs": [],
   "source": [
    "import pandas as pd\n",
    "from sklearn import neighbors\n",
    "import matplotlib.pyplot as plt\n",
    "from sklearn.model_selection import train_test_split\n",
    "from sklearn import neighbors\n",
    "from sklearn.neighbors import KNeighborsClassifier\n",
    "from sklearn.metrics import accuracy_score\n",
    "import numpy as np\n",
    "from scipy.spatial import distance\n",
    "from sklearn import model_selection"
   ]
  },
  {
   "cell_type": "markdown",
   "metadata": {},
   "source": [
    "### 2. Upload Clinic data"
   ]
  },
  {
   "cell_type": "code",
   "execution_count": 18,
   "metadata": {},
   "outputs": [
    {
     "data": {
      "text/html": [
       "<div>\n",
       "<style scoped>\n",
       "    .dataframe tbody tr th:only-of-type {\n",
       "        vertical-align: middle;\n",
       "    }\n",
       "\n",
       "    .dataframe tbody tr th {\n",
       "        vertical-align: top;\n",
       "    }\n",
       "\n",
       "    .dataframe thead th {\n",
       "        text-align: right;\n",
       "    }\n",
       "</style>\n",
       "<table border=\"1\" class=\"dataframe\">\n",
       "  <thead>\n",
       "    <tr style=\"text-align: right;\">\n",
       "      <th></th>\n",
       "      <th>Target</th>\n",
       "      <th>0</th>\n",
       "      <th>1</th>\n",
       "      <th>2</th>\n",
       "      <th>3</th>\n",
       "      <th>4</th>\n",
       "      <th>5</th>\n",
       "      <th>6</th>\n",
       "      <th>7</th>\n",
       "      <th>8</th>\n",
       "      <th>...</th>\n",
       "      <th>428</th>\n",
       "      <th>429</th>\n",
       "      <th>430</th>\n",
       "      <th>431</th>\n",
       "      <th>432</th>\n",
       "      <th>433</th>\n",
       "      <th>434</th>\n",
       "      <th>435</th>\n",
       "      <th>436</th>\n",
       "      <th>437</th>\n",
       "    </tr>\n",
       "  </thead>\n",
       "  <tbody>\n",
       "    <tr>\n",
       "      <th>0</th>\n",
       "      <td>1</td>\n",
       "      <td>-0.315205</td>\n",
       "      <td>-0.407536</td>\n",
       "      <td>0.531673</td>\n",
       "      <td>0.808408</td>\n",
       "      <td>-0.810542</td>\n",
       "      <td>0.193779</td>\n",
       "      <td>0.034024</td>\n",
       "      <td>-0.164311</td>\n",
       "      <td>0.014579</td>\n",
       "      <td>...</td>\n",
       "      <td>0.646639</td>\n",
       "      <td>-0.484226</td>\n",
       "      <td>0.024023</td>\n",
       "      <td>0.428195</td>\n",
       "      <td>-0.997664</td>\n",
       "      <td>-0.198929</td>\n",
       "      <td>0.558472</td>\n",
       "      <td>-0.711090</td>\n",
       "      <td>-0.625051</td>\n",
       "      <td>1.313173</td>\n",
       "    </tr>\n",
       "    <tr>\n",
       "      <th>1</th>\n",
       "      <td>0</td>\n",
       "      <td>-0.399706</td>\n",
       "      <td>-0.359715</td>\n",
       "      <td>0.589118</td>\n",
       "      <td>0.689009</td>\n",
       "      <td>-0.934274</td>\n",
       "      <td>0.590328</td>\n",
       "      <td>0.000470</td>\n",
       "      <td>-0.579490</td>\n",
       "      <td>-0.014040</td>\n",
       "      <td>...</td>\n",
       "      <td>0.367153</td>\n",
       "      <td>-0.127431</td>\n",
       "      <td>0.453080</td>\n",
       "      <td>0.222101</td>\n",
       "      <td>0.063686</td>\n",
       "      <td>-0.350376</td>\n",
       "      <td>0.585483</td>\n",
       "      <td>-0.723964</td>\n",
       "      <td>-0.614908</td>\n",
       "      <td>1.041820</td>\n",
       "    </tr>\n",
       "    <tr>\n",
       "      <th>2</th>\n",
       "      <td>2</td>\n",
       "      <td>-0.257777</td>\n",
       "      <td>0.017325</td>\n",
       "      <td>-0.369965</td>\n",
       "      <td>0.256681</td>\n",
       "      <td>-0.647283</td>\n",
       "      <td>-0.009628</td>\n",
       "      <td>0.178241</td>\n",
       "      <td>0.039518</td>\n",
       "      <td>-0.395371</td>\n",
       "      <td>...</td>\n",
       "      <td>-0.180099</td>\n",
       "      <td>0.149861</td>\n",
       "      <td>0.336687</td>\n",
       "      <td>0.759315</td>\n",
       "      <td>-0.011072</td>\n",
       "      <td>0.195970</td>\n",
       "      <td>0.454717</td>\n",
       "      <td>0.462148</td>\n",
       "      <td>-0.548280</td>\n",
       "      <td>0.754466</td>\n",
       "    </tr>\n",
       "    <tr>\n",
       "      <th>3</th>\n",
       "      <td>0</td>\n",
       "      <td>0.193269</td>\n",
       "      <td>-0.121839</td>\n",
       "      <td>-0.275106</td>\n",
       "      <td>0.063980</td>\n",
       "      <td>-0.259090</td>\n",
       "      <td>-0.195940</td>\n",
       "      <td>0.075242</td>\n",
       "      <td>0.029794</td>\n",
       "      <td>0.122252</td>\n",
       "      <td>...</td>\n",
       "      <td>0.021265</td>\n",
       "      <td>0.002938</td>\n",
       "      <td>0.010013</td>\n",
       "      <td>0.112763</td>\n",
       "      <td>0.223452</td>\n",
       "      <td>-0.481063</td>\n",
       "      <td>0.166170</td>\n",
       "      <td>0.020349</td>\n",
       "      <td>-0.113602</td>\n",
       "      <td>-0.069602</td>\n",
       "    </tr>\n",
       "    <tr>\n",
       "      <th>4</th>\n",
       "      <td>2</td>\n",
       "      <td>-0.054664</td>\n",
       "      <td>-0.326593</td>\n",
       "      <td>-0.267536</td>\n",
       "      <td>0.490474</td>\n",
       "      <td>-0.725889</td>\n",
       "      <td>-0.157597</td>\n",
       "      <td>0.261997</td>\n",
       "      <td>0.182627</td>\n",
       "      <td>-0.072347</td>\n",
       "      <td>...</td>\n",
       "      <td>0.146497</td>\n",
       "      <td>-0.214596</td>\n",
       "      <td>0.316881</td>\n",
       "      <td>0.412167</td>\n",
       "      <td>0.322099</td>\n",
       "      <td>-0.438647</td>\n",
       "      <td>0.382818</td>\n",
       "      <td>-0.143397</td>\n",
       "      <td>-0.469160</td>\n",
       "      <td>0.382200</td>\n",
       "    </tr>\n",
       "  </tbody>\n",
       "</table>\n",
       "<p>5 rows × 439 columns</p>\n",
       "</div>"
      ],
      "text/plain": [
       "   Target         0         1         2         3         4         5  \\\n",
       "0       1 -0.315205 -0.407536  0.531673  0.808408 -0.810542  0.193779   \n",
       "1       0 -0.399706 -0.359715  0.589118  0.689009 -0.934274  0.590328   \n",
       "2       2 -0.257777  0.017325 -0.369965  0.256681 -0.647283 -0.009628   \n",
       "3       0  0.193269 -0.121839 -0.275106  0.063980 -0.259090 -0.195940   \n",
       "4       2 -0.054664 -0.326593 -0.267536  0.490474 -0.725889 -0.157597   \n",
       "\n",
       "          6         7         8  ...       428       429       430       431  \\\n",
       "0  0.034024 -0.164311  0.014579  ...  0.646639 -0.484226  0.024023  0.428195   \n",
       "1  0.000470 -0.579490 -0.014040  ...  0.367153 -0.127431  0.453080  0.222101   \n",
       "2  0.178241  0.039518 -0.395371  ... -0.180099  0.149861  0.336687  0.759315   \n",
       "3  0.075242  0.029794  0.122252  ...  0.021265  0.002938  0.010013  0.112763   \n",
       "4  0.261997  0.182627 -0.072347  ...  0.146497 -0.214596  0.316881  0.412167   \n",
       "\n",
       "        432       433       434       435       436       437  \n",
       "0 -0.997664 -0.198929  0.558472 -0.711090 -0.625051  1.313173  \n",
       "1  0.063686 -0.350376  0.585483 -0.723964 -0.614908  1.041820  \n",
       "2 -0.011072  0.195970  0.454717  0.462148 -0.548280  0.754466  \n",
       "3  0.223452 -0.481063  0.166170  0.020349 -0.113602 -0.069602  \n",
       "4  0.322099 -0.438647  0.382818 -0.143397 -0.469160  0.382200  \n",
       "\n",
       "[5 rows x 439 columns]"
      ]
     },
     "execution_count": 18,
     "metadata": {},
     "output_type": "execute_result"
    }
   ],
   "source": [
    "path =\"../../../Data_preprocessing/RNA_post_autoencoder/encoded_data_multiclass.csv\"\n",
    "data = pd.read_csv(path)\n",
    "data.reset_index\n",
    "data.round(4)\n",
    "data=data.iloc[:,1:440  ] \n",
    "data.head()"
   ]
  },
  {
   "cell_type": "code",
   "execution_count": 19,
   "metadata": {},
   "outputs": [
    {
     "name": "stdout",
     "output_type": "stream",
     "text": [
      "            0         1         2         3         4         5         6  \\\n",
      "0   -0.315205 -0.407536  0.531673  0.808408 -0.810542  0.193779  0.034024   \n",
      "1   -0.399706 -0.359715  0.589118  0.689009 -0.934274  0.590328  0.000470   \n",
      "2   -0.257777  0.017325 -0.369965  0.256681 -0.647283 -0.009628  0.178241   \n",
      "3    0.193269 -0.121839 -0.275106  0.063980 -0.259090 -0.195940  0.075242   \n",
      "4   -0.054664 -0.326593 -0.267536  0.490474 -0.725889 -0.157597  0.261997   \n",
      "..        ...       ...       ...       ...       ...       ...       ...   \n",
      "176  0.015191 -0.250067 -0.247737  0.428315 -0.673884 -0.122022  0.161610   \n",
      "177  0.025750 -0.248474 -0.427581  0.390085 -0.543150 -0.102631  0.184679   \n",
      "178 -0.380961 -0.304403  0.498039  0.549402  0.040175  0.282321 -0.007317   \n",
      "179 -0.394782 -0.050161  0.336075  0.524383 -0.065044  0.317751 -0.014208   \n",
      "180 -0.000122 -0.274288 -0.315658  0.305076 -0.167984 -0.064459  0.178613   \n",
      "\n",
      "            7         8         9  ...       428       429       430  \\\n",
      "0   -0.164311  0.014579 -1.164002  ...  0.646639 -0.484226  0.024023   \n",
      "1   -0.579490 -0.014040 -0.487263  ...  0.367153 -0.127431  0.453080   \n",
      "2    0.039518 -0.395371 -0.067909  ... -0.180099  0.149861  0.336687   \n",
      "3    0.029794  0.122252 -0.155608  ...  0.021265  0.002938  0.010013   \n",
      "4    0.182627 -0.072347 -0.379019  ...  0.146497 -0.214596  0.316881   \n",
      "..        ...       ...       ...  ...       ...       ...       ...   \n",
      "176  0.234842 -0.342666 -0.298978  ... -0.030921 -0.183486  0.097117   \n",
      "177  0.181936 -0.148537 -0.413107  ... -0.003591 -0.105326  0.007203   \n",
      "178 -0.541125 -0.104559 -0.492848  ...  0.260310 -0.189189 -0.260205   \n",
      "179 -0.458082  0.055129 -0.567953  ...  0.464125 -0.106669 -0.226037   \n",
      "180  0.024021 -0.032355 -0.560349  ... -0.005819 -0.061995 -0.431180   \n",
      "\n",
      "          431       432       433       434       435       436       437  \n",
      "0    0.428195 -0.997664 -0.198929  0.558472 -0.711090 -0.625051  1.313173  \n",
      "1    0.222101  0.063686 -0.350376  0.585483 -0.723964 -0.614908  1.041820  \n",
      "2    0.759315 -0.011072  0.195970  0.454717  0.462148 -0.548280  0.754466  \n",
      "3    0.112763  0.223452 -0.481063  0.166170  0.020349 -0.113602 -0.069602  \n",
      "4    0.412167  0.322099 -0.438647  0.382818 -0.143397 -0.469160  0.382200  \n",
      "..        ...       ...       ...       ...       ...       ...       ...  \n",
      "176  0.511050  0.285751 -0.355884  0.250968  0.015874 -0.544252  0.655665  \n",
      "177  0.425173  0.203884 -0.371995  0.313673 -0.131466 -0.543264  0.549663  \n",
      "178  0.128143 -0.060350 -0.665909  0.241845 -0.706364 -0.790269  1.305419  \n",
      "179  0.334272 -0.423706 -0.482886  0.481219 -0.851859 -0.556799  1.057744  \n",
      "180  0.555499  0.245627 -0.355982  0.431241 -0.124537 -0.535278  0.659070  \n",
      "\n",
      "[181 rows x 438 columns]\n",
      "Numero de pacientes:  181\n"
     ]
    }
   ],
   "source": [
    "Y = data.Target # Target column\n",
    "\n",
    "X = data.iloc[:,1:439] # I selected all the columns by removing the Unnamed column (row id) and the Target column.\n",
    "\n",
    "\n",
    "print(X)\n",
    "print('Numero de pacientes: ',len(Y))"
   ]
  },
  {
   "cell_type": "markdown",
   "metadata": {},
   "source": [
    "### 3. Train-Test dataset split"
   ]
  },
  {
   "cell_type": "code",
   "execution_count": 20,
   "metadata": {},
   "outputs": [
    {
     "name": "stdout",
     "output_type": "stream",
     "text": [
      "Training set size: 144\n",
      "Target column size of the training set: 144\n",
      "Test set size: 37\n",
      "Target column size of the test set: 37\n"
     ]
    }
   ],
   "source": [
    "XTrain, XTest, yTrain, yTest = train_test_split(X, Y, test_size=0.20, random_state=125,stratify=Y)\n",
    "yTrain=yTrain.to_numpy()\n",
    "yTest=yTest.to_numpy()\n",
    "print('Training set size:', len(XTrain))\n",
    "print('Target column size of the training set:', len(yTrain))\n",
    "print('Test set size:', len(XTest))\n",
    "print('Target column size of the test set:', len(yTest))"
   ]
  },
  {
   "cell_type": "markdown",
   "metadata": {},
   "source": [
    "### 4. Study the best value for K"
   ]
  },
  {
   "cell_type": "code",
   "execution_count": 21,
   "metadata": {},
   "outputs": [
    {
     "name": "stdout",
     "output_type": "stream",
     "text": [
      "Best accuracy is obtained with k = 7 and is: 0.4054\n"
     ]
    }
   ],
   "source": [
    "neighbors = list(range(1,8))\n",
    "cek = []\n",
    "list_accuracy = []\n",
    "best_acuracy = 0\n",
    "best_k = 0\n",
    "for k in neighbors:\n",
    "    knn = KNeighborsClassifier(n_neighbors=k)\n",
    "    pred = knn.fit(XTrain, yTrain).predict(XTest)\n",
    "    if accuracy_score(yTest, pred) >= best_acuracy:\n",
    "        best_k = k\n",
    "        best_acuracy=accuracy_score(yTest, pred)\n",
    "    list_accuracy.append(accuracy_score(yTest, pred))\n",
    "\n",
    "print(\"Best accuracy is obtained with k = \" + str(best_k)+ \" and is: %.4f\" % (best_acuracy))\n"
   ]
  },
  {
   "cell_type": "code",
   "execution_count": 22,
   "metadata": {},
   "outputs": [
    {
     "name": "stderr",
     "output_type": "stream",
     "text": [
      "C:\\Users\\sandr\\AppData\\Local\\Temp/ipykernel_11604/3738168230.py:1: UserWarning: color is redundantly defined by the 'color' keyword argument and the fmt string \"ro\" (-> color='r'). The keyword argument will take precedence.\n",
      "  plt.plot(np.append(np.roll(list_accuracy,1),list_accuracy[6]),'ro', color='r', linestyle='dashed',linewidth=1.0, label=\"Graph2\")\n",
      "C:\\Users\\sandr\\AppData\\Local\\Temp/ipykernel_11604/3738168230.py:3: UserWarning: color is redundantly defined by the 'color' keyword argument and the fmt string \"ro\" (-> color='r'). The keyword argument will take precedence.\n",
      "  plt.plot(best_k, best_acuracy, 'ro', color ='g')\n"
     ]
    },
    {
     "data": {
      "image/png": "[encoded data removed]",
      "text/plain": [
       "<Figure size 432x288 with 1 Axes>"
      ]
     },
     "metadata": {
      "needs_background": "light"
     },
     "output_type": "display_data"
    }
   ],
   "source": [
    "plt.plot(np.append(np.roll(list_accuracy,1),list_accuracy[6]),'ro', color='r', linestyle='dashed',linewidth=1.0, label=\"Graph2\")\n",
    "# Green dot represent best K value\n",
    "plt.plot(best_k, best_acuracy, 'ro', color ='g')\n",
    "plt.axis([1, 7, 0.5, 1])\n",
    "plt.xlabel('K')\n",
    "plt.ylabel('Accuracy')\n",
    "\n",
    "plt.grid()\n",
    "plt.show()"
   ]
  },
  {
   "cell_type": "markdown",
   "metadata": {},
   "source": [
    "### 5. Best metric study (manhattan or euclidean)"
   ]
  },
  {
   "cell_type": "code",
   "execution_count": 23,
   "metadata": {},
   "outputs": [
    {
     "data": {
      "text/plain": [
       "KNeighborsClassifier(metric=<function cityblock at 0x000002412805C280>,\n",
       "                     n_neighbors=7)"
      ]
     },
     "execution_count": 23,
     "metadata": {},
     "output_type": "execute_result"
    }
   ],
   "source": [
    "from sklearn import neighbors\n",
    "# Euclidean distance model\n",
    "euclid_model = KNeighborsClassifier(n_neighbors=best_k, metric=distance.sqeuclidean)\n",
    "euclid_model.fit(XTrain,yTrain) \n",
    "\n",
    "# Manhattan distance model\n",
    "manhattan_model = KNeighborsClassifier(n_neighbors=best_k, metric=distance.cityblock) \n",
    "manhattan_model.fit(XTrain, yTrain)"
   ]
  },
  {
   "cell_type": "code",
   "execution_count": 24,
   "metadata": {},
   "outputs": [
    {
     "data": {
      "text/html": [
       "<div>\n",
       "<style scoped>\n",
       "    .dataframe tbody tr th:only-of-type {\n",
       "        vertical-align: middle;\n",
       "    }\n",
       "\n",
       "    .dataframe tbody tr th {\n",
       "        vertical-align: top;\n",
       "    }\n",
       "\n",
       "    .dataframe thead th {\n",
       "        text-align: right;\n",
       "    }\n",
       "</style>\n",
       "<table border=\"1\" class=\"dataframe\">\n",
       "  <thead>\n",
       "    <tr style=\"text-align: right;\">\n",
       "      <th></th>\n",
       "      <th>actual</th>\n",
       "      <th>manhattan</th>\n",
       "      <th>euclid</th>\n",
       "    </tr>\n",
       "  </thead>\n",
       "  <tbody>\n",
       "    <tr>\n",
       "      <th>0</th>\n",
       "      <td>0</td>\n",
       "      <td>0</td>\n",
       "      <td>0</td>\n",
       "    </tr>\n",
       "    <tr>\n",
       "      <th>1</th>\n",
       "      <td>1</td>\n",
       "      <td>0</td>\n",
       "      <td>0</td>\n",
       "    </tr>\n",
       "    <tr>\n",
       "      <th>2</th>\n",
       "      <td>0</td>\n",
       "      <td>2</td>\n",
       "      <td>2</td>\n",
       "    </tr>\n",
       "    <tr>\n",
       "      <th>3</th>\n",
       "      <td>2</td>\n",
       "      <td>0</td>\n",
       "      <td>0</td>\n",
       "    </tr>\n",
       "    <tr>\n",
       "      <th>4</th>\n",
       "      <td>0</td>\n",
       "      <td>2</td>\n",
       "      <td>2</td>\n",
       "    </tr>\n",
       "  </tbody>\n",
       "</table>\n",
       "</div>"
      ],
      "text/plain": [
       "   actual  manhattan  euclid\n",
       "0       0          0       0\n",
       "1       1          0       0\n",
       "2       0          2       2\n",
       "3       2          0       0\n",
       "4       0          2       2"
      ]
     },
     "execution_count": 24,
     "metadata": {},
     "output_type": "execute_result"
    }
   ],
   "source": [
    "manhattan_predictions = manhattan_model.predict(XTest)\n",
    "euclid_predictions = euclid_model.predict(XTest) \n",
    "df = pd.DataFrame({'actual': yTest, 'manhattan': manhattan_predictions, 'euclid': euclid_predictions})\n",
    "df.head()"
   ]
  },
  {
   "cell_type": "code",
   "execution_count": 25,
   "metadata": {},
   "outputs": [
    {
     "name": "stdout",
     "output_type": "stream",
     "text": [
      "Best result of the cross validation of the model (euclidean) with the best paramters:0.36847290640394087\n",
      "Best result of the cross validation of the model (manhattan) with the best paramters:0.38226600985221676\n"
     ]
    }
   ],
   "source": [
    "result1= model_selection.cross_val_score(euclid_model, XTrain, yTrain, cv=5, scoring='accuracy')\n",
    "result2 = model_selection.cross_val_score(manhattan_model, XTrain, yTrain, cv=5, scoring='accuracy')\n",
    "print(\"Best result of the cross validation of the model (euclidean) with the best paramters:\" +str(np.mean(result1)))\n",
    "print(\"Best result of the cross validation of the model (manhattan) with the best paramters:\" +str(np.mean(result2)))"
   ]
  },
  {
   "cell_type": "markdown",
   "metadata": {},
   "source": [
    "#### 6.1. Manhattan model"
   ]
  },
  {
   "cell_type": "code",
   "execution_count": 26,
   "metadata": {},
   "outputs": [],
   "source": [
    "# Making predictions with the optimal model on the training dataset\n",
    "yhatTrain = manhattan_model.predict(XTrain)\n",
    "contTrain = 0\n",
    "\n",
    "# Comparing with the Target column and check how many hits there have been\n",
    "for i in range(0,len(yTrain),1) :\n",
    "    if (yhatTrain[i] == yTrain[i]):\n",
    "        contTrain = contTrain + 1"
   ]
  },
  {
   "cell_type": "code",
   "execution_count": 27,
   "metadata": {},
   "outputs": [],
   "source": [
    "# Making predictions with the optimal model on the test dataset\n",
    "mayhatTest = manhattan_model.predict(XTest)\n",
    "contTest = 0\n",
    "\n",
    "# Comparing with the Target column and check how many hits there have been\n",
    "for i in range(0,len(yTest),1) :\n",
    "    if (mayhatTest[i] == yTest[i]):\n",
    "        contTest = contTest + 1"
   ]
  },
  {
   "cell_type": "code",
   "execution_count": 28,
   "metadata": {},
   "outputs": [
    {
     "name": "stdout",
     "output_type": "stream",
     "text": [
      "Precisión final en el conjunto de datos de entrenamiento (manhattan): 0.5555555555555556\n",
      "Precisión final en el conjunto de datos de prueba (manhattan): 0.43243243243243246\n"
     ]
    }
   ],
   "source": [
    "print('Precisión final en el conjunto de datos de entrenamiento (manhattan): ' + str(contTrain/len(yTrain)))\n",
    "print('Precisión final en el conjunto de datos de prueba (manhattan): ' + str(contTest/len(yTest)))"
   ]
  },
  {
   "cell_type": "code",
   "execution_count": 29,
   "metadata": {},
   "outputs": [
    {
     "name": "stdout",
     "output_type": "stream",
     "text": [
      "----------------Confusion Matrix (Training)------------------\n",
      "[[56  1 10]\n",
      " [16  1  8]\n",
      " [26  3 23]]\n",
      "Input data:  [1 0 2 0 2 2 0 0 2 0 2 0 1 0 2 2 0 2 2 2 0 0 0 2 0 0 0 0 1 1 2 2 2 2 0 1 2\n",
      " 0 0 2 1 2 2 1 0 0 2 2 1 0 0 0 2 0 0 2 0 2 1 2 0 2 1 0 0 0 0 2 2 2 0 2 0 0\n",
      " 0 2 0 2 0 0 0 1 2 0 0 1 2 2 1 1 0 2 0 2 0 0 1 0 1 0 0 2 0 0 2 2 2 1 0 2 2\n",
      " 1 2 0 1 0 0 0 2 0 1 0 2 0 0 2 1 1 0 0 0 2 0 1 0 0 0 2 2 2 1 2 0 1]\n",
      "Prediction:        [2 0 0 0 2 2 0 0 2 0 0 0 0 0 2 0 2 0 0 0 0 0 0 1 2 0 0 0 0 0 0 0 1 2 0 2 2\n",
      " 0 0 2 0 2 0 0 0 0 2 0 0 0 0 0 2 0 0 2 0 0 2 0 0 2 0 0 0 0 0 2 2 2 2 2 0 0\n",
      " 0 2 0 0 0 0 0 2 2 0 0 0 0 0 2 2 2 2 2 0 2 0 2 0 0 2 0 0 0 0 0 0 0 0 0 2 2\n",
      " 0 0 2 0 0 0 0 2 1 0 2 1 0 0 0 1 2 0 0 0 0 0 0 0 0 0 0 2 0 0 0 2 0]\n"
     ]
    }
   ],
   "source": [
    "from sklearn.metrics import classification_report,confusion_matrix\n",
    "\n",
    "print('----------------Confusion Matrix (Training)------------------')\n",
    "print(confusion_matrix(yTrain,yhatTrain))\n",
    "print('Input data:  ' + str(np.array(yTrain)))\n",
    "print('Prediction:        ' +str(yhatTrain))"
   ]
  },
  {
   "cell_type": "code",
   "execution_count": 30,
   "metadata": {},
   "outputs": [
    {
     "name": "stdout",
     "output_type": "stream",
     "text": [
      "              precision    recall  f1-score   support\n",
      "\n",
      "           0       0.57      0.84      0.68        67\n",
      "           1       0.20      0.04      0.07        25\n",
      "           2       0.56      0.44      0.49        52\n",
      "\n",
      "    accuracy                           0.56       144\n",
      "   macro avg       0.44      0.44      0.41       144\n",
      "weighted avg       0.50      0.56      0.51       144\n",
      "\n"
     ]
    }
   ],
   "source": [
    "print(classification_report(yTrain,yhatTrain))"
   ]
  },
  {
   "cell_type": "code",
   "execution_count": 31,
   "metadata": {},
   "outputs": [
    {
     "name": "stdout",
     "output_type": "stream",
     "text": [
      "----------------Confusion Matrix (Test)------------------\n",
      "[[12  0  6]\n",
      " [ 5  0  1]\n",
      " [ 9  0  4]]\n",
      "Input data:  [0 1 0 2 0 2 1 0 1 0 2 2 1 2 2 0 1 2 0 0 0 2 1 0 0 2 0 2 2 0 0 0 2 2 0 0 0]\n",
      "Prediction:        [0 0 2 0 2 2 0 0 0 2 2 0 0 0 2 2 0 0 0 0 0 0 2 0 0 0 2 0 2 2 0 0 0 0 0 0 0]\n"
     ]
    }
   ],
   "source": [
    "from sklearn.metrics import confusion_matrix\n",
    "confusion_matrix = confusion_matrix(yTest, mayhatTest)\n",
    "print('----------------Confusion Matrix (Test)------------------')\n",
    "print(confusion_matrix)\n",
    "print('Input data:  ' + str(np.array(yTest)))\n",
    "print('Prediction:        ' +str(mayhatTest))"
   ]
  },
  {
   "cell_type": "code",
   "execution_count": 32,
   "metadata": {},
   "outputs": [
    {
     "name": "stdout",
     "output_type": "stream",
     "text": [
      "              precision    recall  f1-score   support\n",
      "\n",
      "           0       0.46      0.67      0.55        18\n",
      "           1       0.00      0.00      0.00         6\n",
      "           2       0.36      0.31      0.33        13\n",
      "\n",
      "    accuracy                           0.43        37\n",
      "   macro avg       0.28      0.32      0.29        37\n",
      "weighted avg       0.35      0.43      0.38        37\n",
      "\n"
     ]
    },
    {
     "name": "stderr",
     "output_type": "stream",
     "text": [
      "C:\\Users\\sandr\\AppData\\Local\\Packages\\PythonSoftwareFoundation.Python.3.9_qbz5n2kfra8p0\\LocalCache\\local-packages\\Python39\\site-packages\\sklearn\\metrics\\_classification.py:1308: UndefinedMetricWarning: Precision and F-score are ill-defined and being set to 0.0 in labels with no predicted samples. Use `zero_division` parameter to control this behavior.\n",
      "  _warn_prf(average, modifier, msg_start, len(result))\n",
      "C:\\Users\\sandr\\AppData\\Local\\Packages\\PythonSoftwareFoundation.Python.3.9_qbz5n2kfra8p0\\LocalCache\\local-packages\\Python39\\site-packages\\sklearn\\metrics\\_classification.py:1308: UndefinedMetricWarning: Precision and F-score are ill-defined and being set to 0.0 in labels with no predicted samples. Use `zero_division` parameter to control this behavior.\n",
      "  _warn_prf(average, modifier, msg_start, len(result))\n",
      "C:\\Users\\sandr\\AppData\\Local\\Packages\\PythonSoftwareFoundation.Python.3.9_qbz5n2kfra8p0\\LocalCache\\local-packages\\Python39\\site-packages\\sklearn\\metrics\\_classification.py:1308: UndefinedMetricWarning: Precision and F-score are ill-defined and being set to 0.0 in labels with no predicted samples. Use `zero_division` parameter to control this behavior.\n",
      "  _warn_prf(average, modifier, msg_start, len(result))\n"
     ]
    }
   ],
   "source": [
    "print(classification_report(yTest, mayhatTest))"
   ]
  }
 ],
 "metadata": {
  "kernelspec": {
   "display_name": "Python 3.9.13 64-bit (microsoft store)",
   "language": "python",
   "name": "python3"
  },
  "language_info": {
   "codemirror_mode": {
    "name": "ipython",
    "version": 3
   },
   "file_extension": ".py",
   "mimetype": "text/x-python",
   "name": "python",
   "nbconvert_exporter": "python",
   "pygments_lexer": "ipython3",
   "version": "3.9.13"
  },
  "orig_nbformat": 4,
  "vscode": {
   "interpreter": {
    "hash": "fb15f1e0f376981e7b6e1fc44ae8b8146823f10f258bcd6e448b0230b889fc06"
   }
  }
 },
 "nbformat": 4,
 "nbformat_minor": 2
}
