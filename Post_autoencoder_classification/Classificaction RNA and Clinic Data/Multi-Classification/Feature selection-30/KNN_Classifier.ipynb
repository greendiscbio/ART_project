{
 "cells": [
  {
   "cell_type": "markdown",
   "metadata": {},
   "source": [
    "# Classification model using KNN"
   ]
  },
  {
   "cell_type": "markdown",
   "metadata": {},
   "source": [
    "### 1. Import libraries"
   ]
  },
  {
   "cell_type": "code",
   "execution_count": 1,
   "metadata": {},
   "outputs": [],
   "source": [
    "import pandas as pd\n",
    "from sklearn import neighbors\n",
    "import matplotlib.pyplot as plt\n",
    "from sklearn.model_selection import train_test_split\n",
    "from sklearn import neighbors\n",
    "from sklearn.neighbors import KNeighborsClassifier\n",
    "from sklearn.metrics import accuracy_score\n",
    "import numpy as np\n",
    "from scipy.spatial import distance\n",
    "from sklearn import model_selection"
   ]
  },
  {
   "cell_type": "markdown",
   "metadata": {},
   "source": [
    "### 2. Upload Clinic data"
   ]
  },
  {
   "cell_type": "code",
   "execution_count": 2,
   "metadata": {},
   "outputs": [
    {
     "data": {
      "text/html": [
       "<div>\n",
       "<style scoped>\n",
       "    .dataframe tbody tr th:only-of-type {\n",
       "        vertical-align: middle;\n",
       "    }\n",
       "\n",
       "    .dataframe tbody tr th {\n",
       "        vertical-align: top;\n",
       "    }\n",
       "\n",
       "    .dataframe thead th {\n",
       "        text-align: right;\n",
       "    }\n",
       "</style>\n",
       "<table border=\"1\" class=\"dataframe\">\n",
       "  <thead>\n",
       "    <tr style=\"text-align: right;\">\n",
       "      <th></th>\n",
       "      <th>Unnamed: 0</th>\n",
       "      <th>RNA_ID</th>\n",
       "      <th>Age</th>\n",
       "      <th>Sarc</th>\n",
       "      <th>Rhab</th>\n",
       "      <th>Number_of_Prior_Therapies</th>\n",
       "      <th>Days_from_TumorSample_Collection_and_Start_of_Trial_Therapy</th>\n",
       "      <th>Tumor_Shrinkage</th>\n",
       "      <th>PFS</th>\n",
       "      <th>TM_TC_Ratio</th>\n",
       "      <th>...</th>\n",
       "      <th>RP11-96O20.4</th>\n",
       "      <th>RP5-827C21.1</th>\n",
       "      <th>RPS12P26</th>\n",
       "      <th>SDR42E1</th>\n",
       "      <th>SNORD113-5</th>\n",
       "      <th>TARBP2</th>\n",
       "      <th>TRAV41</th>\n",
       "      <th>TRIM43B</th>\n",
       "      <th>VN2R17P</th>\n",
       "      <th>XPC</th>\n",
       "    </tr>\n",
       "  </thead>\n",
       "  <tbody>\n",
       "    <tr>\n",
       "      <th>0</th>\n",
       "      <td>0</td>\n",
       "      <td>G138701_RCCBMS-00097-T_v1_RNA_OnPrem</td>\n",
       "      <td>62.0</td>\n",
       "      <td>0.0</td>\n",
       "      <td>0.0</td>\n",
       "      <td>2.0</td>\n",
       "      <td>707.0</td>\n",
       "      <td>0.0</td>\n",
       "      <td>5.490411</td>\n",
       "      <td>1.374775</td>\n",
       "      <td>...</td>\n",
       "      <td>0.682591</td>\n",
       "      <td>0.640214</td>\n",
       "      <td>0.842022</td>\n",
       "      <td>1.000000</td>\n",
       "      <td>0.625993</td>\n",
       "      <td>0.912529</td>\n",
       "      <td>0.971557</td>\n",
       "      <td>0.587310</td>\n",
       "      <td>0.863040</td>\n",
       "      <td>0.974497</td>\n",
       "    </tr>\n",
       "    <tr>\n",
       "      <th>1</th>\n",
       "      <td>1</td>\n",
       "      <td>G138701_RCCBMS-00099-T_v1_RNA_OnPrem</td>\n",
       "      <td>62.0</td>\n",
       "      <td>0.0</td>\n",
       "      <td>0.0</td>\n",
       "      <td>3.0</td>\n",
       "      <td>707.0</td>\n",
       "      <td>0.0</td>\n",
       "      <td>1.249315</td>\n",
       "      <td>1.374775</td>\n",
       "      <td>...</td>\n",
       "      <td>0.682591</td>\n",
       "      <td>0.713747</td>\n",
       "      <td>0.726861</td>\n",
       "      <td>0.694015</td>\n",
       "      <td>0.625993</td>\n",
       "      <td>0.903036</td>\n",
       "      <td>0.666040</td>\n",
       "      <td>0.587310</td>\n",
       "      <td>0.863040</td>\n",
       "      <td>0.958581</td>\n",
       "    </tr>\n",
       "    <tr>\n",
       "      <th>2</th>\n",
       "      <td>2</td>\n",
       "      <td>G138701_RCCBMS-00163-T_v1_RNA_OnPrem</td>\n",
       "      <td>62.0</td>\n",
       "      <td>0.0</td>\n",
       "      <td>0.0</td>\n",
       "      <td>2.0</td>\n",
       "      <td>707.0</td>\n",
       "      <td>0.0</td>\n",
       "      <td>5.654795</td>\n",
       "      <td>1.374775</td>\n",
       "      <td>...</td>\n",
       "      <td>0.682591</td>\n",
       "      <td>0.763067</td>\n",
       "      <td>0.747376</td>\n",
       "      <td>0.869025</td>\n",
       "      <td>0.625993</td>\n",
       "      <td>0.898032</td>\n",
       "      <td>0.888588</td>\n",
       "      <td>0.587310</td>\n",
       "      <td>0.863040</td>\n",
       "      <td>0.980335</td>\n",
       "    </tr>\n",
       "    <tr>\n",
       "      <th>3</th>\n",
       "      <td>3</td>\n",
       "      <td>G138701_RCCBMS-00116-T_v1_RNA_OnPrem</td>\n",
       "      <td>62.0</td>\n",
       "      <td>0.0</td>\n",
       "      <td>0.0</td>\n",
       "      <td>2.0</td>\n",
       "      <td>707.0</td>\n",
       "      <td>0.0</td>\n",
       "      <td>1.216438</td>\n",
       "      <td>1.374775</td>\n",
       "      <td>...</td>\n",
       "      <td>0.669220</td>\n",
       "      <td>0.481977</td>\n",
       "      <td>0.797865</td>\n",
       "      <td>0.931136</td>\n",
       "      <td>0.624581</td>\n",
       "      <td>0.873870</td>\n",
       "      <td>0.826337</td>\n",
       "      <td>0.564337</td>\n",
       "      <td>0.855268</td>\n",
       "      <td>0.945490</td>\n",
       "    </tr>\n",
       "    <tr>\n",
       "      <th>4</th>\n",
       "      <td>4</td>\n",
       "      <td>G138701_RCCBMS-00136-T_v1_RNA_OnPrem</td>\n",
       "      <td>62.0</td>\n",
       "      <td>0.0</td>\n",
       "      <td>0.0</td>\n",
       "      <td>2.0</td>\n",
       "      <td>707.0</td>\n",
       "      <td>0.0</td>\n",
       "      <td>2.860274</td>\n",
       "      <td>1.374775</td>\n",
       "      <td>...</td>\n",
       "      <td>0.677685</td>\n",
       "      <td>0.745493</td>\n",
       "      <td>0.772651</td>\n",
       "      <td>0.902087</td>\n",
       "      <td>0.613038</td>\n",
       "      <td>0.896762</td>\n",
       "      <td>0.767579</td>\n",
       "      <td>0.552830</td>\n",
       "      <td>0.857563</td>\n",
       "      <td>0.948794</td>\n",
       "    </tr>\n",
       "  </tbody>\n",
       "</table>\n",
       "<p>5 rows × 57 columns</p>\n",
       "</div>"
      ],
      "text/plain": [
       "   Unnamed: 0                                RNA_ID   Age  Sarc  Rhab  \\\n",
       "0           0  G138701_RCCBMS-00097-T_v1_RNA_OnPrem  62.0   0.0   0.0   \n",
       "1           1  G138701_RCCBMS-00099-T_v1_RNA_OnPrem  62.0   0.0   0.0   \n",
       "2           2  G138701_RCCBMS-00163-T_v1_RNA_OnPrem  62.0   0.0   0.0   \n",
       "3           3  G138701_RCCBMS-00116-T_v1_RNA_OnPrem  62.0   0.0   0.0   \n",
       "4           4  G138701_RCCBMS-00136-T_v1_RNA_OnPrem  62.0   0.0   0.0   \n",
       "\n",
       "   Number_of_Prior_Therapies  \\\n",
       "0                        2.0   \n",
       "1                        3.0   \n",
       "2                        2.0   \n",
       "3                        2.0   \n",
       "4                        2.0   \n",
       "\n",
       "   Days_from_TumorSample_Collection_and_Start_of_Trial_Therapy  \\\n",
       "0                                              707.0             \n",
       "1                                              707.0             \n",
       "2                                              707.0             \n",
       "3                                              707.0             \n",
       "4                                              707.0             \n",
       "\n",
       "   Tumor_Shrinkage       PFS  TM_TC_Ratio  ...  RP11-96O20.4  RP5-827C21.1  \\\n",
       "0              0.0  5.490411     1.374775  ...      0.682591      0.640214   \n",
       "1              0.0  1.249315     1.374775  ...      0.682591      0.713747   \n",
       "2              0.0  5.654795     1.374775  ...      0.682591      0.763067   \n",
       "3              0.0  1.216438     1.374775  ...      0.669220      0.481977   \n",
       "4              0.0  2.860274     1.374775  ...      0.677685      0.745493   \n",
       "\n",
       "   RPS12P26   SDR42E1  SNORD113-5    TARBP2    TRAV41   TRIM43B   VN2R17P  \\\n",
       "0  0.842022  1.000000    0.625993  0.912529  0.971557  0.587310  0.863040   \n",
       "1  0.726861  0.694015    0.625993  0.903036  0.666040  0.587310  0.863040   \n",
       "2  0.747376  0.869025    0.625993  0.898032  0.888588  0.587310  0.863040   \n",
       "3  0.797865  0.931136    0.624581  0.873870  0.826337  0.564337  0.855268   \n",
       "4  0.772651  0.902087    0.613038  0.896762  0.767579  0.552830  0.857563   \n",
       "\n",
       "        XPC  \n",
       "0  0.974497  \n",
       "1  0.958581  \n",
       "2  0.980335  \n",
       "3  0.945490  \n",
       "4  0.948794  \n",
       "\n",
       "[5 rows x 57 columns]"
      ]
     },
     "execution_count": 2,
     "metadata": {},
     "output_type": "execute_result"
    }
   ],
   "source": [
    "path =\"../../../../Data_preprocessing\\RNA post_autoencoder+Clinic joined\\Clinical_data_and_RNA_30_Features_PFS.csv\"\n",
    "data = pd.read_csv(path)\n",
    "data.head()"
   ]
  },
  {
   "cell_type": "code",
   "execution_count": 3,
   "metadata": {},
   "outputs": [
    {
     "name": "stdout",
     "output_type": "stream",
     "text": [
      "   Unnamed: 0   Age  Sarc  Rhab  Number_of_Prior_Therapies  \\\n",
      "0           0  62.0   0.0   0.0                        2.0   \n",
      "1           1  62.0   0.0   0.0                        3.0   \n",
      "2           2  62.0   0.0   0.0                        2.0   \n",
      "3           3  62.0   0.0   0.0                        2.0   \n",
      "4           4  62.0   0.0   0.0                        2.0   \n",
      "\n",
      "   Days_from_TumorSample_Collection_and_Start_of_Trial_Therapy  \\\n",
      "0                                              707.0             \n",
      "1                                              707.0             \n",
      "2                                              707.0             \n",
      "3                                              707.0             \n",
      "4                                              707.0             \n",
      "\n",
      "   Tumor_Shrinkage  TM_TC_Ratio  Cohort_CM-009  Cohort_CM-010  ...  \\\n",
      "0              0.0     1.374775              0              1  ...   \n",
      "1              0.0     1.374775              0              1  ...   \n",
      "2              0.0     1.374775              0              1  ...   \n",
      "3              0.0     1.374775              0              1  ...   \n",
      "4              0.0     1.374775              0              1  ...   \n",
      "\n",
      "   RP11-96O20.4  RP5-827C21.1  RPS12P26   SDR42E1  SNORD113-5    TARBP2  \\\n",
      "0      0.682591      0.640214  0.842022  1.000000    0.625993  0.912529   \n",
      "1      0.682591      0.713747  0.726861  0.694015    0.625993  0.903036   \n",
      "2      0.682591      0.763067  0.747376  0.869025    0.625993  0.898032   \n",
      "3      0.669220      0.481977  0.797865  0.931136    0.624581  0.873870   \n",
      "4      0.677685      0.745493  0.772651  0.902087    0.613038  0.896762   \n",
      "\n",
      "     TRAV41   TRIM43B   VN2R17P       XPC  \n",
      "0  0.971557  0.587310  0.863040  0.974497  \n",
      "1  0.666040  0.587310  0.863040  0.958581  \n",
      "2  0.888588  0.587310  0.863040  0.980335  \n",
      "3  0.826337  0.564337  0.855268  0.945490  \n",
      "4  0.767579  0.552830  0.857563  0.948794  \n",
      "\n",
      "[5 rows x 55 columns]\n",
      "      Age  Sarc  Rhab  Number_of_Prior_Therapies  \\\n",
      "0    62.0   0.0   0.0                        2.0   \n",
      "1    62.0   0.0   0.0                        3.0   \n",
      "2    62.0   0.0   0.0                        2.0   \n",
      "3    62.0   0.0   0.0                        2.0   \n",
      "4    62.0   0.0   0.0                        2.0   \n",
      "..    ...   ...   ...                        ...   \n",
      "139  62.0   0.0   0.0                        1.0   \n",
      "140  62.0   0.0   0.0                        1.0   \n",
      "141  62.0   0.0   0.0                        1.0   \n",
      "142  62.0   0.0   0.0                        1.0   \n",
      "143  62.0   0.0   0.0                        1.0   \n",
      "\n",
      "     Days_from_TumorSample_Collection_and_Start_of_Trial_Therapy  \\\n",
      "0                                                707.0             \n",
      "1                                                707.0             \n",
      "2                                                707.0             \n",
      "3                                                707.0             \n",
      "4                                                707.0             \n",
      "..                                                 ...             \n",
      "139                                              707.0             \n",
      "140                                              707.0             \n",
      "141                                              707.0             \n",
      "142                                              707.0             \n",
      "143                                              707.0             \n",
      "\n",
      "     Tumor_Shrinkage  TM_TC_Ratio  Cohort_CM-009  Cohort_CM-010  \\\n",
      "0                0.0     1.374775              0              1   \n",
      "1                0.0     1.374775              0              1   \n",
      "2                0.0     1.374775              0              1   \n",
      "3                0.0     1.374775              0              1   \n",
      "4                0.0     1.374775              0              1   \n",
      "..               ...          ...            ...            ...   \n",
      "139              0.0     1.374775              1              0   \n",
      "140              0.0     1.374775              1              0   \n",
      "141              0.0     1.374775              1              0   \n",
      "142              0.0     1.374775              1              0   \n",
      "143              0.0     1.374775              1              0   \n",
      "\n",
      "     Cohort_CM-025  ...  RP11-96O20.4  RP5-827C21.1  RPS12P26   SDR42E1  \\\n",
      "0                0  ...      0.682591      0.640214  0.842022  1.000000   \n",
      "1                0  ...      0.682591      0.713747  0.726861  0.694015   \n",
      "2                0  ...      0.682591      0.763067  0.747376  0.869025   \n",
      "3                0  ...      0.669220      0.481977  0.797865  0.931136   \n",
      "4                0  ...      0.677685      0.745493  0.772651  0.902087   \n",
      "..             ...  ...           ...           ...       ...       ...   \n",
      "139              0  ...      0.677348      0.695150  0.731990  0.890699   \n",
      "140              0  ...      0.682591      0.640214  0.827549  0.694015   \n",
      "141              0  ...      0.677685      0.588289  0.662193  0.620207   \n",
      "142              0  ...      0.677685      0.783232  0.775241  0.938378   \n",
      "143              0  ...      0.677685      0.588289  0.770742  0.836112   \n",
      "\n",
      "     SNORD113-5    TARBP2    TRAV41   TRIM43B   VN2R17P       XPC  \n",
      "0      0.625993  0.912529  0.971557  0.587310  0.863040  0.974497  \n",
      "1      0.625993  0.903036  0.666040  0.587310  0.863040  0.958581  \n",
      "2      0.625993  0.898032  0.888588  0.587310  0.863040  0.980335  \n",
      "3      0.624581  0.873870  0.826337  0.564337  0.855268  0.945490  \n",
      "4      0.613038  0.896762  0.767579  0.552830  0.857563  0.948794  \n",
      "..          ...       ...       ...       ...       ...       ...  \n",
      "139    0.625957  0.871203  0.735707  0.598319  0.856523  0.957321  \n",
      "140    0.625993  0.919896  0.666040  0.587310  0.863040  0.961345  \n",
      "141    0.613038  0.889800  0.643739  0.552830  0.857563  0.925059  \n",
      "142    0.613038  0.939528  0.764141  0.736171  0.857563  0.953315  \n",
      "143    0.613038  0.915483  0.775693  0.623205  0.857563  0.931051  \n",
      "\n",
      "[144 rows x 54 columns]\n",
      "Numero de pacientes:  144\n"
     ]
    }
   ],
   "source": [
    "Y = [] # Target column\n",
    "# For each entry I classified it by its PFS value.\n",
    "for i in range (len(data)):\n",
    "    if data.PFS[i]<3: # If PFS is lower than 3 months, I will consider it as NonResponder (NR)\n",
    "        Y.append(0)\n",
    "    elif data.PFS[i]<6: # If PFS is over 6 months, I will consider it as Responder (R)\n",
    "        Y.append(1)\n",
    "    else:\n",
    "        Y.append(2) # If PFS is between 3 and 6 months, I will consider it as SemiResponder (SR)\n",
    "        \n",
    "\n",
    "data = data.drop('PFS', axis=1)\n",
    "data = data.drop('RNA_ID', axis=1)\n",
    "# data = data.drop('Target', axis=1)\n",
    "\n",
    "print(data.head())\n",
    "X = data.iloc[:,1:57] \n",
    "# I selected all the columns by removing the Unnamed column (row id) and the Target column.\n",
    "print(X)\n",
    "print('Numero de pacientes: ',len(Y))"
   ]
  },
  {
   "cell_type": "markdown",
   "metadata": {},
   "source": [
    "### 3. Train-Test dataset split"
   ]
  },
  {
   "cell_type": "code",
   "execution_count": 4,
   "metadata": {},
   "outputs": [
    {
     "name": "stdout",
     "output_type": "stream",
     "text": [
      "Training set size: 115\n",
      "Target column size of the training set: 115\n",
      "Test set size: 29\n",
      "Target column size of the test set: 29\n"
     ]
    }
   ],
   "source": [
    "XTrain, XTest, yTrain, yTest = train_test_split(X, Y, test_size=0.20, random_state=125)\n",
    "\n",
    "print('Training set size:', len(XTrain))\n",
    "print('Target column size of the training set:', len(yTrain))\n",
    "print('Test set size:', len(XTest))\n",
    "print('Target column size of the test set:', len(yTest))"
   ]
  },
  {
   "cell_type": "markdown",
   "metadata": {},
   "source": [
    "### 4. Study the best value for K"
   ]
  },
  {
   "cell_type": "code",
   "execution_count": 5,
   "metadata": {},
   "outputs": [
    {
     "name": "stdout",
     "output_type": "stream",
     "text": [
      "Best accuracy is obtained with k = 3 and is: 0.6552\n"
     ]
    }
   ],
   "source": [
    "neighbors = list(range(1,8))\n",
    "cek = []\n",
    "list_accuracy = []\n",
    "best_acuracy = 0\n",
    "best_k = 0\n",
    "for k in neighbors:\n",
    "    knn = KNeighborsClassifier(n_neighbors=k)\n",
    "    pred = knn.fit(XTrain, yTrain).predict(XTest)\n",
    "    if accuracy_score(yTest, pred) >= best_acuracy:\n",
    "        best_k = k\n",
    "        best_acuracy=accuracy_score(yTest, pred)\n",
    "    list_accuracy.append(accuracy_score(yTest, pred))\n",
    "\n",
    "print(\"Best accuracy is obtained with k = \" + str(best_k)+ \" and is: %.4f\" % (best_acuracy))\n"
   ]
  },
  {
   "cell_type": "code",
   "execution_count": 6,
   "metadata": {},
   "outputs": [
    {
     "name": "stderr",
     "output_type": "stream",
     "text": [
      "C:\\Users\\sandr\\AppData\\Local\\Temp/ipykernel_14432/3738168230.py:1: UserWarning: color is redundantly defined by the 'color' keyword argument and the fmt string \"ro\" (-> color='r'). The keyword argument will take precedence.\n",
      "  plt.plot(np.append(np.roll(list_accuracy,1),list_accuracy[6]),'ro', color='r', linestyle='dashed',linewidth=1.0, label=\"Graph2\")\n",
      "C:\\Users\\sandr\\AppData\\Local\\Temp/ipykernel_14432/3738168230.py:3: UserWarning: color is redundantly defined by the 'color' keyword argument and the fmt string \"ro\" (-> color='r'). The keyword argument will take precedence.\n",
      "  plt.plot(best_k, best_acuracy, 'ro', color ='g')\n"
     ]
    },
    {
     "data": {
      "image/png": "[encoded data removed]",
      "text/plain": [
       "<Figure size 432x288 with 1 Axes>"
      ]
     },
     "metadata": {
      "needs_background": "light"
     },
     "output_type": "display_data"
    }
   ],
   "source": [
    "plt.plot(np.append(np.roll(list_accuracy,1),list_accuracy[6]),'ro', color='r', linestyle='dashed',linewidth=1.0, label=\"Graph2\")\n",
    "# Green dot represent best K value\n",
    "plt.plot(best_k, best_acuracy, 'ro', color ='g')\n",
    "plt.axis([1, 7, 0.5, 1])\n",
    "plt.xlabel('K')\n",
    "plt.ylabel('Accuracy')\n",
    "\n",
    "plt.grid()\n",
    "plt.show()"
   ]
  },
  {
   "cell_type": "markdown",
   "metadata": {},
   "source": [
    "### 5. Best metric study (manhattan or euclidean)"
   ]
  },
  {
   "cell_type": "code",
   "execution_count": 7,
   "metadata": {},
   "outputs": [
    {
     "data": {
      "text/plain": [
       "KNeighborsClassifier(metric=<function cityblock at 0x000001EC99085430>,\n",
       "                     n_neighbors=3)"
      ]
     },
     "execution_count": 7,
     "metadata": {},
     "output_type": "execute_result"
    }
   ],
   "source": [
    "from sklearn import neighbors\n",
    "# Euclidean distance model\n",
    "euclid_model = KNeighborsClassifier(n_neighbors=best_k, metric=distance.sqeuclidean)\n",
    "euclid_model.fit(XTrain,yTrain) \n",
    "\n",
    "# Manhattan distance model\n",
    "manhattan_model = KNeighborsClassifier(n_neighbors=best_k, metric=distance.cityblock) \n",
    "manhattan_model.fit(XTrain, yTrain)"
   ]
  },
  {
   "cell_type": "code",
   "execution_count": 8,
   "metadata": {},
   "outputs": [
    {
     "data": {
      "text/html": [
       "<div>\n",
       "<style scoped>\n",
       "    .dataframe tbody tr th:only-of-type {\n",
       "        vertical-align: middle;\n",
       "    }\n",
       "\n",
       "    .dataframe tbody tr th {\n",
       "        vertical-align: top;\n",
       "    }\n",
       "\n",
       "    .dataframe thead th {\n",
       "        text-align: right;\n",
       "    }\n",
       "</style>\n",
       "<table border=\"1\" class=\"dataframe\">\n",
       "  <thead>\n",
       "    <tr style=\"text-align: right;\">\n",
       "      <th></th>\n",
       "      <th>actual</th>\n",
       "      <th>manhattan</th>\n",
       "      <th>euclid</th>\n",
       "    </tr>\n",
       "  </thead>\n",
       "  <tbody>\n",
       "    <tr>\n",
       "      <th>0</th>\n",
       "      <td>2</td>\n",
       "      <td>0</td>\n",
       "      <td>0</td>\n",
       "    </tr>\n",
       "    <tr>\n",
       "      <th>1</th>\n",
       "      <td>0</td>\n",
       "      <td>0</td>\n",
       "      <td>0</td>\n",
       "    </tr>\n",
       "    <tr>\n",
       "      <th>2</th>\n",
       "      <td>2</td>\n",
       "      <td>2</td>\n",
       "      <td>2</td>\n",
       "    </tr>\n",
       "    <tr>\n",
       "      <th>3</th>\n",
       "      <td>0</td>\n",
       "      <td>0</td>\n",
       "      <td>0</td>\n",
       "    </tr>\n",
       "    <tr>\n",
       "      <th>4</th>\n",
       "      <td>0</td>\n",
       "      <td>1</td>\n",
       "      <td>0</td>\n",
       "    </tr>\n",
       "  </tbody>\n",
       "</table>\n",
       "</div>"
      ],
      "text/plain": [
       "   actual  manhattan  euclid\n",
       "0       2          0       0\n",
       "1       0          0       0\n",
       "2       2          2       2\n",
       "3       0          0       0\n",
       "4       0          1       0"
      ]
     },
     "execution_count": 8,
     "metadata": {},
     "output_type": "execute_result"
    }
   ],
   "source": [
    "manhattan_predictions = manhattan_model.predict(XTest)\n",
    "euclid_predictions = euclid_model.predict(XTest) \n",
    "df = pd.DataFrame({'actual': yTest, 'manhattan': manhattan_predictions, 'euclid': euclid_predictions})\n",
    "df.head()"
   ]
  },
  {
   "cell_type": "code",
   "execution_count": 9,
   "metadata": {},
   "outputs": [
    {
     "name": "stdout",
     "output_type": "stream",
     "text": [
      "Best result of the cross validation of the model (euclidean) with the best paramters:0.4521739130434782\n",
      "Best result of the cross validation of the model (manhattan) with the best paramters:0.4434782608695652\n"
     ]
    }
   ],
   "source": [
    "result1= model_selection.cross_val_score(euclid_model, XTrain, yTrain, cv=5, scoring='accuracy')\n",
    "result2 = model_selection.cross_val_score(manhattan_model, XTrain, yTrain, cv=5, scoring='accuracy')\n",
    "print(\"Best result of the cross validation of the model (euclidean) with the best paramters:\" +str(np.mean(result1)))\n",
    "print(\"Best result of the cross validation of the model (manhattan) with the best paramters:\" +str(np.mean(result2)))"
   ]
  },
  {
   "cell_type": "markdown",
   "metadata": {},
   "source": [
    "#### 6.1. Manhattan model"
   ]
  },
  {
   "cell_type": "code",
   "execution_count": 10,
   "metadata": {},
   "outputs": [],
   "source": [
    "# Making predictions with the optimal model on the training dataset\n",
    "yhatTrain = manhattan_model.predict(XTrain)\n",
    "contTrain = 0\n",
    "\n",
    "# Comparing with the Target column and check how many hits there have been\n",
    "for i in range(0,len(yTrain),1) :\n",
    "    if (yhatTrain[i] == yTrain[i]):\n",
    "        contTrain = contTrain + 1"
   ]
  },
  {
   "cell_type": "code",
   "execution_count": 11,
   "metadata": {},
   "outputs": [],
   "source": [
    "# Making predictions with the optimal model on the test dataset\n",
    "mayhatTest = manhattan_model.predict(XTest)\n",
    "contTest = 0\n",
    "\n",
    "# Comparing with the Target column and check how many hits there have been\n",
    "for i in range(0,len(yTest),1) :\n",
    "    if (mayhatTest[i] == yTest[i]):\n",
    "        contTest = contTest + 1"
   ]
  },
  {
   "cell_type": "code",
   "execution_count": 12,
   "metadata": {},
   "outputs": [
    {
     "name": "stdout",
     "output_type": "stream",
     "text": [
      "Precisión final en el conjunto de datos de entrenamiento (manhattan): 0.6869565217391305\n",
      "Precisión final en el conjunto de datos de prueba (manhattan): 0.6206896551724138\n"
     ]
    }
   ],
   "source": [
    "print('Precisión final en el conjunto de datos de entrenamiento (manhattan): ' + str(contTrain/len(yTrain)))\n",
    "print('Precisión final en el conjunto de datos de prueba (manhattan): ' + str(contTest/len(yTest)))"
   ]
  },
  {
   "cell_type": "code",
   "execution_count": 13,
   "metadata": {},
   "outputs": [
    {
     "name": "stdout",
     "output_type": "stream",
     "text": [
      "----------------Confusion Matrix (Training)------------------\n",
      "[[60  4  2]\n",
      " [16 10  1]\n",
      " [11  2  9]]\n",
      "Input data:  [0 0 2 2 0 1 0 1 1 1 0 1 0 0 0 0 2 0 0 1 0 0 0 0 0 2 2 2 0 0 0 2 1 0 0 0 2\n",
      " 1 0 0 0 0 2 1 1 0 1 0 1 0 0 2 1 2 0 0 0 0 1 0 2 2 1 0 0 0 0 2 0 2 2 0 0 0\n",
      " 0 2 1 0 0 1 1 0 2 0 0 0 0 2 1 1 0 0 2 1 0 2 0 1 1 0 2 0 0 0 1 0 1 0 0 0 1\n",
      " 0 1 0 0]\n",
      "Prediction:        [2 0 0 2 0 0 0 0 0 0 0 0 0 0 1 0 0 0 1 2 0 0 0 0 0 2 2 2 0 0 0 2 1 0 0 0 2\n",
      " 0 0 0 0 0 0 1 1 0 0 0 1 0 0 0 1 0 2 0 0 0 0 0 1 0 0 0 0 0 1 0 0 0 2 0 0 0\n",
      " 0 0 0 0 0 0 0 0 0 0 0 0 0 1 0 1 0 0 2 1 0 2 0 0 1 0 0 0 0 0 1 0 0 0 0 0 0\n",
      " 0 1 1 0]\n"
     ]
    }
   ],
   "source": [
    "from sklearn.metrics import classification_report,confusion_matrix\n",
    "\n",
    "print('----------------Confusion Matrix (Training)------------------')\n",
    "print(confusion_matrix(yTrain,yhatTrain))\n",
    "print('Input data:  ' + str(np.array(yTrain)))\n",
    "print('Prediction:        ' +str(yhatTrain))"
   ]
  },
  {
   "cell_type": "code",
   "execution_count": 14,
   "metadata": {},
   "outputs": [
    {
     "name": "stdout",
     "output_type": "stream",
     "text": [
      "              precision    recall  f1-score   support\n",
      "\n",
      "           0       0.69      0.91      0.78        66\n",
      "           1       0.62      0.37      0.47        27\n",
      "           2       0.75      0.41      0.53        22\n",
      "\n",
      "    accuracy                           0.69       115\n",
      "   macro avg       0.69      0.56      0.59       115\n",
      "weighted avg       0.69      0.69      0.66       115\n",
      "\n"
     ]
    }
   ],
   "source": [
    "print(classification_report(yTrain,yhatTrain))"
   ]
  },
  {
   "cell_type": "code",
   "execution_count": 15,
   "metadata": {},
   "outputs": [
    {
     "name": "stdout",
     "output_type": "stream",
     "text": [
      "----------------Confusion Matrix (Test)------------------\n",
      "[[16  2  1]\n",
      " [ 3  1  0]\n",
      " [ 2  3  1]]\n",
      "Input data:  [2 0 2 0 0 2 2 0 2 0 0 0 0 1 0 1 0 0 0 0 0 1 0 0 2 0 0 1 0]\n",
      "Prediction:        [0 0 2 0 1 1 1 0 1 0 0 0 2 0 0 1 1 0 0 0 0 0 0 0 0 0 0 0 0]\n"
     ]
    }
   ],
   "source": [
    "from sklearn.metrics import confusion_matrix\n",
    "confusion_matrix = confusion_matrix(yTest, mayhatTest)\n",
    "print('----------------Confusion Matrix (Test)------------------')\n",
    "print(confusion_matrix)\n",
    "print('Input data:  ' + str(np.array(yTest)))\n",
    "print('Prediction:        ' +str(mayhatTest))"
   ]
  },
  {
   "cell_type": "code",
   "execution_count": 16,
   "metadata": {},
   "outputs": [
    {
     "name": "stdout",
     "output_type": "stream",
     "text": [
      "              precision    recall  f1-score   support\n",
      "\n",
      "           0       0.76      0.84      0.80        19\n",
      "           1       0.17      0.25      0.20         4\n",
      "           2       0.50      0.17      0.25         6\n",
      "\n",
      "    accuracy                           0.62        29\n",
      "   macro avg       0.48      0.42      0.42        29\n",
      "weighted avg       0.63      0.62      0.60        29\n",
      "\n"
     ]
    }
   ],
   "source": [
    "print(classification_report(yTest, mayhatTest))"
   ]
  }
 ],
 "metadata": {
  "interpreter": {
   "hash": "260f7526dd70ce5772422b2315019544c135d8a5e5fc89617f90163aa01a6316"
  },
  "kernelspec": {
   "display_name": "Python 3.9.10 64-bit (windows store)",
   "language": "python",
   "name": "python3"
  },
  "language_info": {
   "codemirror_mode": {
    "name": "ipython",
    "version": 3
   },
   "file_extension": ".py",
   "mimetype": "text/x-python",
   "name": "python",
   "nbconvert_exporter": "python",
   "pygments_lexer": "ipython3",
   "version": "3.9.12"
  },
  "orig_nbformat": 4
 },
 "nbformat": 4,
 "nbformat_minor": 2
}
