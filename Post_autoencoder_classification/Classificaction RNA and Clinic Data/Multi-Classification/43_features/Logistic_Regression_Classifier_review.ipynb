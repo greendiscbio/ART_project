{
 "cells": [
  {
   "cell_type": "markdown",
   "metadata": {},
   "source": [
    "# Classification model using Decision Tree"
   ]
  },
  {
   "cell_type": "markdown",
   "metadata": {},
   "source": [
    "### 1. Import libraries"
   ]
  },
  {
   "cell_type": "code",
   "execution_count": 1,
   "metadata": {},
   "outputs": [],
   "source": [
    "import pandas as pd\n",
    "import numpy as np\n",
    "import matplotlib.pyplot as plt\n",
    "from sklearn.linear_model import LogisticRegression\n",
    "from sklearn.model_selection import train_test_split\n",
    "from sklearn import model_selection\n",
    "from sklearn.metrics import classification_report\n",
    "from sklearn.metrics import confusion_matrix\n",
    "from sklearn.model_selection import GridSearchCV"
   ]
  },
  {
   "cell_type": "markdown",
   "metadata": {},
   "source": [
    "### 2. Upload Clinic data"
   ]
  },
  {
   "cell_type": "code",
   "execution_count": 2,
   "metadata": {},
   "outputs": [
    {
     "data": {
      "text/html": [
       "<div>\n",
       "<style scoped>\n",
       "    .dataframe tbody tr th:only-of-type {\n",
       "        vertical-align: middle;\n",
       "    }\n",
       "\n",
       "    .dataframe tbody tr th {\n",
       "        vertical-align: top;\n",
       "    }\n",
       "\n",
       "    .dataframe thead th {\n",
       "        text-align: right;\n",
       "    }\n",
       "</style>\n",
       "<table border=\"1\" class=\"dataframe\">\n",
       "  <thead>\n",
       "    <tr style=\"text-align: right;\">\n",
       "      <th></th>\n",
       "      <th>Target</th>\n",
       "      <th>0</th>\n",
       "      <th>1</th>\n",
       "      <th>2</th>\n",
       "      <th>3</th>\n",
       "      <th>4</th>\n",
       "      <th>5</th>\n",
       "      <th>6</th>\n",
       "      <th>7</th>\n",
       "      <th>8</th>\n",
       "      <th>...</th>\n",
       "      <th>33</th>\n",
       "      <th>34</th>\n",
       "      <th>35</th>\n",
       "      <th>36</th>\n",
       "      <th>37</th>\n",
       "      <th>38</th>\n",
       "      <th>39</th>\n",
       "      <th>40</th>\n",
       "      <th>41</th>\n",
       "      <th>42</th>\n",
       "    </tr>\n",
       "  </thead>\n",
       "  <tbody>\n",
       "    <tr>\n",
       "      <th>0</th>\n",
       "      <td>2</td>\n",
       "      <td>1.303475</td>\n",
       "      <td>0.320223</td>\n",
       "      <td>0.691620</td>\n",
       "      <td>-0.715220</td>\n",
       "      <td>0.269225</td>\n",
       "      <td>-0.053473</td>\n",
       "      <td>-0.916276</td>\n",
       "      <td>0.361488</td>\n",
       "      <td>1.341855</td>\n",
       "      <td>...</td>\n",
       "      <td>0.093131</td>\n",
       "      <td>0.798992</td>\n",
       "      <td>-0.733875</td>\n",
       "      <td>0.038262</td>\n",
       "      <td>0.433046</td>\n",
       "      <td>-0.558861</td>\n",
       "      <td>-0.318921</td>\n",
       "      <td>0.082476</td>\n",
       "      <td>0.361348</td>\n",
       "      <td>-1.581269</td>\n",
       "    </tr>\n",
       "    <tr>\n",
       "      <th>1</th>\n",
       "      <td>1</td>\n",
       "      <td>1.040682</td>\n",
       "      <td>0.433916</td>\n",
       "      <td>-0.177336</td>\n",
       "      <td>-0.800547</td>\n",
       "      <td>1.629002</td>\n",
       "      <td>-0.725473</td>\n",
       "      <td>-0.681308</td>\n",
       "      <td>0.043363</td>\n",
       "      <td>0.905286</td>\n",
       "      <td>...</td>\n",
       "      <td>-0.873726</td>\n",
       "      <td>0.304849</td>\n",
       "      <td>0.064908</td>\n",
       "      <td>-0.519554</td>\n",
       "      <td>-0.863431</td>\n",
       "      <td>0.066100</td>\n",
       "      <td>-0.439551</td>\n",
       "      <td>0.713993</td>\n",
       "      <td>-0.246427</td>\n",
       "      <td>-0.186777</td>\n",
       "    </tr>\n",
       "    <tr>\n",
       "      <th>2</th>\n",
       "      <td>2</td>\n",
       "      <td>-0.559200</td>\n",
       "      <td>0.636671</td>\n",
       "      <td>-0.067989</td>\n",
       "      <td>-1.036499</td>\n",
       "      <td>-0.306244</td>\n",
       "      <td>0.535286</td>\n",
       "      <td>0.646122</td>\n",
       "      <td>-0.509084</td>\n",
       "      <td>1.033889</td>\n",
       "      <td>...</td>\n",
       "      <td>-0.161364</td>\n",
       "      <td>0.682148</td>\n",
       "      <td>-0.973200</td>\n",
       "      <td>-0.753369</td>\n",
       "      <td>-0.353522</td>\n",
       "      <td>0.262463</td>\n",
       "      <td>-0.381236</td>\n",
       "      <td>-0.342806</td>\n",
       "      <td>0.985693</td>\n",
       "      <td>-0.042482</td>\n",
       "    </tr>\n",
       "    <tr>\n",
       "      <th>3</th>\n",
       "      <td>0</td>\n",
       "      <td>1.391767</td>\n",
       "      <td>0.104729</td>\n",
       "      <td>-0.063120</td>\n",
       "      <td>-1.088009</td>\n",
       "      <td>0.555148</td>\n",
       "      <td>-0.698760</td>\n",
       "      <td>-0.125830</td>\n",
       "      <td>-0.173680</td>\n",
       "      <td>0.955284</td>\n",
       "      <td>...</td>\n",
       "      <td>-0.880376</td>\n",
       "      <td>0.879043</td>\n",
       "      <td>0.222619</td>\n",
       "      <td>-0.724652</td>\n",
       "      <td>-0.580264</td>\n",
       "      <td>0.197510</td>\n",
       "      <td>0.039846</td>\n",
       "      <td>1.042282</td>\n",
       "      <td>-0.152176</td>\n",
       "      <td>-0.321515</td>\n",
       "    </tr>\n",
       "    <tr>\n",
       "      <th>4</th>\n",
       "      <td>1</td>\n",
       "      <td>1.621300</td>\n",
       "      <td>0.988073</td>\n",
       "      <td>-0.638373</td>\n",
       "      <td>-1.677556</td>\n",
       "      <td>0.288400</td>\n",
       "      <td>0.137920</td>\n",
       "      <td>-0.201170</td>\n",
       "      <td>0.558159</td>\n",
       "      <td>0.453544</td>\n",
       "      <td>...</td>\n",
       "      <td>-0.750800</td>\n",
       "      <td>-0.738778</td>\n",
       "      <td>1.238205</td>\n",
       "      <td>1.384416</td>\n",
       "      <td>-0.896759</td>\n",
       "      <td>-1.147495</td>\n",
       "      <td>0.979291</td>\n",
       "      <td>1.397885</td>\n",
       "      <td>1.220256</td>\n",
       "      <td>-0.773419</td>\n",
       "    </tr>\n",
       "  </tbody>\n",
       "</table>\n",
       "<p>5 rows × 44 columns</p>\n",
       "</div>"
      ],
      "text/plain": [
       "   Target         0         1         2         3         4         5  \\\n",
       "0       2  1.303475  0.320223  0.691620 -0.715220  0.269225 -0.053473   \n",
       "1       1  1.040682  0.433916 -0.177336 -0.800547  1.629002 -0.725473   \n",
       "2       2 -0.559200  0.636671 -0.067989 -1.036499 -0.306244  0.535286   \n",
       "3       0  1.391767  0.104729 -0.063120 -1.088009  0.555148 -0.698760   \n",
       "4       1  1.621300  0.988073 -0.638373 -1.677556  0.288400  0.137920   \n",
       "\n",
       "          6         7         8  ...        33        34        35        36  \\\n",
       "0 -0.916276  0.361488  1.341855  ...  0.093131  0.798992 -0.733875  0.038262   \n",
       "1 -0.681308  0.043363  0.905286  ... -0.873726  0.304849  0.064908 -0.519554   \n",
       "2  0.646122 -0.509084  1.033889  ... -0.161364  0.682148 -0.973200 -0.753369   \n",
       "3 -0.125830 -0.173680  0.955284  ... -0.880376  0.879043  0.222619 -0.724652   \n",
       "4 -0.201170  0.558159  0.453544  ... -0.750800 -0.738778  1.238205  1.384416   \n",
       "\n",
       "         37        38        39        40        41        42  \n",
       "0  0.433046 -0.558861 -0.318921  0.082476  0.361348 -1.581269  \n",
       "1 -0.863431  0.066100 -0.439551  0.713993 -0.246427 -0.186777  \n",
       "2 -0.353522  0.262463 -0.381236 -0.342806  0.985693 -0.042482  \n",
       "3 -0.580264  0.197510  0.039846  1.042282 -0.152176 -0.321515  \n",
       "4 -0.896759 -1.147495  0.979291  1.397885  1.220256 -0.773419  \n",
       "\n",
       "[5 rows x 44 columns]"
      ]
     },
     "execution_count": 2,
     "metadata": {},
     "output_type": "execute_result"
    }
   ],
   "source": [
    "path =\"../../../../Data_preprocessing/RNA_post_autoencoder/encoded_data_multiclass_43_review.csv\"\n",
    "data = pd.read_csv(path)\n",
    "data.reset_index\n",
    "data.round(4)\n",
    "data=data.iloc[:,1:45] \n",
    "data.head()"
   ]
  },
  {
   "cell_type": "code",
   "execution_count": 3,
   "metadata": {},
   "outputs": [
    {
     "name": "stdout",
     "output_type": "stream",
     "text": [
      "            0         1         2         3         4         5         6  \\\n",
      "0    1.303475  0.320223  0.691620 -0.715220  0.269225 -0.053473 -0.916276   \n",
      "1    1.040682  0.433916 -0.177336 -0.800547  1.629002 -0.725473 -0.681308   \n",
      "2   -0.559200  0.636671 -0.067989 -1.036499 -0.306244  0.535286  0.646122   \n",
      "3    1.391767  0.104729 -0.063120 -1.088009  0.555148 -0.698760 -0.125830   \n",
      "4    1.621300  0.988073 -0.638373 -1.677556  0.288400  0.137920 -0.201170   \n",
      "..        ...       ...       ...       ...       ...       ...       ...   \n",
      "176  0.312103  0.656807 -0.522374 -0.846966  0.896216 -0.312821 -0.150635   \n",
      "177  0.234944 -0.094377  0.260074 -0.793957  0.243106 -0.228022  0.059169   \n",
      "178  0.420867  0.195804 -0.247219 -0.115416  0.472313 -0.002184  0.153051   \n",
      "179  0.508123  0.810161 -0.569704 -0.666671  1.194661 -0.734187  0.211813   \n",
      "180 -0.029691 -0.012050  0.024318 -0.584142  0.235847 -0.015007  0.447715   \n",
      "\n",
      "            7         8         9  ...        33        34        35  \\\n",
      "0    0.361488  1.341855 -0.396873  ...  0.093131  0.798992 -0.733875   \n",
      "1    0.043363  0.905286 -0.453645  ... -0.873726  0.304849  0.064908   \n",
      "2   -0.509084  1.033889 -0.461849  ... -0.161364  0.682148 -0.973200   \n",
      "3   -0.173680  0.955284 -0.076231  ... -0.880376  0.879043  0.222619   \n",
      "4    0.558159  0.453544 -1.083835  ... -0.750800 -0.738778  1.238205   \n",
      "..        ...       ...       ...  ...       ...       ...       ...   \n",
      "176 -0.022157  0.727105 -0.730612  ... -0.279552  0.508351  0.290996   \n",
      "177  0.211035  0.865856 -0.362134  ... -0.310410  0.845046 -0.682472   \n",
      "178  0.529117  0.492810 -0.758936  ...  0.281197  0.418030  0.326459   \n",
      "179  0.631849  0.899382 -0.334114  ...  0.008862  0.776742  0.159206   \n",
      "180  0.431972  0.510324 -0.721735  ... -0.258344  0.553338 -0.125140   \n",
      "\n",
      "           36        37        38        39        40        41        42  \n",
      "0    0.038262  0.433046 -0.558861 -0.318921  0.082476  0.361348 -1.581269  \n",
      "1   -0.519554 -0.863431  0.066100 -0.439551  0.713993 -0.246427 -0.186777  \n",
      "2   -0.753369 -0.353522  0.262463 -0.381236 -0.342806  0.985693 -0.042482  \n",
      "3   -0.724652 -0.580264  0.197510  0.039846  1.042282 -0.152176 -0.321515  \n",
      "4    1.384416 -0.896759 -1.147495  0.979291  1.397885  1.220256 -0.773419  \n",
      "..        ...       ...       ...       ...       ...       ...       ...  \n",
      "176  0.180265 -0.203940 -0.190991 -0.016100  0.244369 -0.211421 -0.474138  \n",
      "177 -0.344618 -0.508249  0.042495 -0.672416  0.169787  0.729127 -0.316265  \n",
      "178  0.079054 -0.230338 -0.168629 -0.051579 -0.526190 -0.046233 -0.472822  \n",
      "179  0.407574  0.341867 -0.778360 -0.393205  0.629527 -0.437287  0.468706  \n",
      "180  0.206084 -0.228701  0.002003 -0.322562 -0.063539  0.377437  0.001407  \n",
      "\n",
      "[181 rows x 43 columns]\n",
      "Numero de pacientes:  181\n"
     ]
    }
   ],
   "source": [
    "Y = data.Target # Target column\n",
    "\n",
    "X = data.iloc[:,1:439] # I selected all the columns by removing the Unnamed column (row id) and the Target column.\n",
    "\n",
    "\n",
    "print(X)\n",
    "print('Numero de pacientes: ',len(Y))"
   ]
  },
  {
   "cell_type": "code",
   "execution_count": 4,
   "metadata": {},
   "outputs": [
    {
     "name": "stdout",
     "output_type": "stream",
     "text": [
      "Training set size: 144\n",
      "Target column size of the training set: 144\n",
      "Test set size: 37\n",
      "Target column size of the test set: 37\n"
     ]
    }
   ],
   "source": [
    "X_train, X_test, y_train, y_test = train_test_split(X, Y, test_size=0.2, random_state=125, stratify=Y)\n",
    "yTrain=y_train.to_numpy()\n",
    "yTest=y_test.to_numpy()\n",
    "\n",
    "print('Training set size:', len(X_train))\n",
    "print('Target column size of the training set:', len(y_train))\n",
    "print('Test set size:', len(X_test))\n",
    "print('Target column size of the test set:', len(y_test))"
   ]
  },
  {
   "cell_type": "markdown",
   "metadata": {},
   "source": [
    "### 4. Select the parameters of the model and fit it"
   ]
  },
  {
   "cell_type": "code",
   "execution_count": 5,
   "metadata": {},
   "outputs": [
    {
     "data": {
      "text/plain": [
       "GridSearchCV(cv=5, estimator=LogisticRegression(),\n",
       "             param_grid={'C': [1, 2, 5, 7, 10],\n",
       "                         'max_iter': [100, 200, 300, 400, 500, 600, 700, 800,\n",
       "                                      900, 1000, 2000, 3000, 4000, 5000,\n",
       "                                      20000],\n",
       "                         'random_state': [125],\n",
       "                         'solver': ['newton-cg', 'liblinear']})"
      ]
     },
     "execution_count": 5,
     "metadata": {},
     "output_type": "execute_result"
    }
   ],
   "source": [
    "param_grid = {'C': [1,2,5,7,10],\n",
    "            'solver': ['newton-cg','liblinear'],  \n",
    "            'max_iter':[100,200,300,400,500,600,700,800,900,1000,2000,3000, 4000,5000,20000],\n",
    "            'random_state':[125]}\n",
    "\n",
    "# Creamos un GridSearchCV que permite evaluar y seleccionar de forma sistemática los parámetros de nuestro modelo. \n",
    "# Indicándole un modelo y los parámetros a probar, puede evaluar el rendimiento del primero en función de los \n",
    "# segundos mediante validación cruzada.  \n",
    "clf = GridSearchCV(LogisticRegression(), param_grid, cv = 5)\n",
    "clf.fit(X_train , y_train)"
   ]
  },
  {
   "cell_type": "code",
   "execution_count": 6,
   "metadata": {},
   "outputs": [
    {
     "name": "stdout",
     "output_type": "stream",
     "text": [
      "Best estimate of parameters according to GridSearchCV:\n"
     ]
    },
    {
     "data": {
      "text/plain": [
       "LogisticRegression(C=1, random_state=125, solver='liblinear')"
      ]
     },
     "execution_count": 6,
     "metadata": {},
     "output_type": "execute_result"
    }
   ],
   "source": [
    "print(\"Best estimate of parameters according to GridSearchCV:\")\n",
    "model = clf.best_estimator_\n",
    "# Fit the model with the best parameters\n",
    "model.fit(X_train , y_train)"
   ]
  },
  {
   "cell_type": "code",
   "execution_count": 7,
   "metadata": {},
   "outputs": [
    {
     "name": "stdout",
     "output_type": "stream",
     "text": [
      "Best result of the cross validation of the model with the best paramters:0.43103448275862066\n"
     ]
    }
   ],
   "source": [
    "print(\"Best result of the cross validation of the model with the best paramters:\" +str(clf.best_score_))"
   ]
  },
  {
   "cell_type": "code",
   "execution_count": 9,
   "metadata": {},
   "outputs": [],
   "source": [
    "# Making predictions with the optimal model on the training dataset\n",
    "yhatTrain = model.predict(X_train)\n",
    "contTrain = 0\n",
    "\n",
    "# Comparing with the Target column and check how many hits there have been\n",
    "for i in range(0,len(yTrain),1) :\n",
    "    if (yhatTrain[i] == yTrain[i]):\n",
    "        contTrain = contTrain + 1"
   ]
  },
  {
   "cell_type": "code",
   "execution_count": 11,
   "metadata": {},
   "outputs": [],
   "source": [
    "# Making predictions with the optimal model on the test dataset\n",
    "yhatTest = model.predict(X_test)\n",
    "contTest = 0\n",
    "\n",
    "# Comparing with the Target column and check how many hits there have been\n",
    "for i in range(0,len(yTest),1) :\n",
    "    if (yhatTest[i] == yTest[i]):\n",
    "        contTest = contTest + 1"
   ]
  },
  {
   "cell_type": "code",
   "execution_count": 12,
   "metadata": {},
   "outputs": [
    {
     "name": "stdout",
     "output_type": "stream",
     "text": [
      "Final accuracy on the training dataset:0.6597222222222222\n",
      "Final accuracy on the testing dataset: 0.32432432432432434\n"
     ]
    }
   ],
   "source": [
    "print('Final accuracy on the training dataset:' + str(contTrain/len(y_train)))\n",
    "print('Final accuracy on the testing dataset: ' + str(contTest/len(y_test)))"
   ]
  },
  {
   "cell_type": "code",
   "execution_count": null,
   "metadata": {},
   "outputs": [
    {
     "name": "stdout",
     "output_type": "stream",
     "text": [
      "----------------Confusion Matrix (Training)------------------\n",
      "[[58  0  9]\n",
      " [ 8  8  9]\n",
      " [16  3 33]]\n",
      "Input data:  [1 0 2 0 2 2 0 0 2 0 2 0 1 0 2 2 0 2 2 2 0 0 0 2 0 0 0 0 1 1 2 2 2 2 0 1 2\n",
      " 0 0 2 1 2 2 1 0 0 2 2 1 0 0 0 2 0 0 2 0 2 1 2 0 2 1 0 0 0 0 2 2 2 0 2 0 0\n",
      " 0 2 0 2 0 0 0 1 2 0 0 1 2 2 1 1 0 2 0 2 0 0 1 0 1 0 0 2 0 0 2 2 2 1 0 2 2\n",
      " 1 2 0 1 0 0 0 2 0 1 0 2 0 0 2 1 1 0 0 0 2 0 1 0 0 0 2 2 2 1 2 0 1]\n",
      "Prediction:        [0 0 2 2 0 0 0 0 2 0 2 2 0 0 0 2 0 0 0 2 0 0 0 2 0 0 0 0 2 0 2 2 0 0 0 0 2\n",
      " 0 0 1 0 2 2 2 2 0 0 2 2 0 0 0 0 0 0 2 0 2 2 2 0 0 2 0 0 0 0 2 2 2 2 1 0 0\n",
      " 0 2 0 0 0 0 0 1 0 0 0 1 2 0 1 1 0 2 0 2 0 2 1 0 1 2 2 2 0 0 2 1 0 2 0 2 2\n",
      " 2 2 0 0 0 0 2 0 0 1 0 2 0 0 2 1 2 0 2 0 2 0 0 0 0 0 2 0 2 0 2 0 2]\n"
     ]
    }
   ],
   "source": [
    "from sklearn.metrics import classification_report,confusion_matrix\n",
    "\n",
    "print('----------------Confusion Matrix (Training)------------------')\n",
    "print(confusion_matrix(y_train,yhatTrain))\n",
    "print('Input data:  ' + str(np.array(y_train)))\n",
    "print('Prediction:        ' +str(yhatTrain))"
   ]
  },
  {
   "cell_type": "code",
   "execution_count": null,
   "metadata": {},
   "outputs": [
    {
     "name": "stdout",
     "output_type": "stream",
     "text": [
      "              precision    recall  f1-score   support\n",
      "\n",
      "           0       0.71      0.87      0.78        67\n",
      "           1       0.73      0.32      0.44        25\n",
      "           2       0.65      0.63      0.64        52\n",
      "\n",
      "    accuracy                           0.69       144\n",
      "   macro avg       0.69      0.61      0.62       144\n",
      "weighted avg       0.69      0.69      0.67       144\n",
      "\n"
     ]
    }
   ],
   "source": [
    "print(classification_report(y_train,yhatTrain))"
   ]
  },
  {
   "cell_type": "code",
   "execution_count": null,
   "metadata": {},
   "outputs": [
    {
     "name": "stdout",
     "output_type": "stream",
     "text": [
      "----------------Confusion Matrix (Test)------------------\n",
      "[[ 6  2 10]\n",
      " [ 4  0  2]\n",
      " [ 8  0  5]]\n",
      "Input data:  [0 1 0 2 0 2 1 0 1 0 2 2 1 2 2 0 1 2 0 0 0 2 1 0 0 2 0 2 2 0 0 0 2 2 0 0 0]\n",
      "Prediction:        [2 0 1 0 2 0 0 0 0 2 0 0 0 2 2 2 2 0 1 2 0 0 2 2 0 2 2 2 0 0 0 2 2 0 2 2 0]\n"
     ]
    }
   ],
   "source": [
    "print('----------------Confusion Matrix (Test)------------------')\n",
    "print(confusion_matrix(y_test,yhatTest))\n",
    "print('Input data:  ' + str(np.array(y_test)))\n",
    "print('Prediction:        ' +str(yhatTest))"
   ]
  },
  {
   "cell_type": "code",
   "execution_count": null,
   "metadata": {},
   "outputs": [
    {
     "name": "stdout",
     "output_type": "stream",
     "text": [
      "              precision    recall  f1-score   support\n",
      "\n",
      "           0       0.33      0.33      0.33        18\n",
      "           1       0.00      0.00      0.00         6\n",
      "           2       0.29      0.38      0.33        13\n",
      "\n",
      "    accuracy                           0.30        37\n",
      "   macro avg       0.21      0.24      0.22        37\n",
      "weighted avg       0.27      0.30      0.28        37\n",
      "\n"
     ]
    }
   ],
   "source": [
    "print(classification_report(y_test, yhatTest))"
   ]
  }
 ],
 "metadata": {
  "kernelspec": {
   "display_name": "Python 3.9.13 64-bit (microsoft store)",
   "language": "python",
   "name": "python3"
  },
  "language_info": {
   "codemirror_mode": {
    "name": "ipython",
    "version": 3
   },
   "file_extension": ".py",
   "mimetype": "text/x-python",
   "name": "python",
   "nbconvert_exporter": "python",
   "pygments_lexer": "ipython3",
   "version": "3.9.13"
  },
  "orig_nbformat": 4,
  "vscode": {
   "interpreter": {
    "hash": "fb15f1e0f376981e7b6e1fc44ae8b8146823f10f258bcd6e448b0230b889fc06"
   }
  }
 },
 "nbformat": 4,
 "nbformat_minor": 2
}
