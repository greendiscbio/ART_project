{
 "cells": [
  {
   "cell_type": "markdown",
   "metadata": {},
   "source": [
    "# Classification model using Decision Tree"
   ]
  },
  {
   "cell_type": "markdown",
   "metadata": {},
   "source": [
    "### 1. Import libraries"
   ]
  },
  {
   "cell_type": "code",
   "execution_count": 3,
   "metadata": {},
   "outputs": [],
   "source": [
    "import pandas as pd\n",
    "import numpy as np\n",
    "import matplotlib.pyplot as plt\n",
    "from sklearn.model_selection import train_test_split\n",
    "from sklearn.tree import DecisionTreeClassifier\n",
    "from sklearn.model_selection import GridSearchCV\n"
   ]
  },
  {
   "cell_type": "markdown",
   "metadata": {},
   "source": [
    "### 2. Upload Clinic data"
   ]
  },
  {
   "cell_type": "code",
   "execution_count": 4,
   "metadata": {},
   "outputs": [
    {
     "data": {
      "text/html": [
       "<div>\n",
       "<style scoped>\n",
       "    .dataframe tbody tr th:only-of-type {\n",
       "        vertical-align: middle;\n",
       "    }\n",
       "\n",
       "    .dataframe tbody tr th {\n",
       "        vertical-align: top;\n",
       "    }\n",
       "\n",
       "    .dataframe thead th {\n",
       "        text-align: right;\n",
       "    }\n",
       "</style>\n",
       "<table border=\"1\" class=\"dataframe\">\n",
       "  <thead>\n",
       "    <tr style=\"text-align: right;\">\n",
       "      <th></th>\n",
       "      <th>Target</th>\n",
       "      <th>0</th>\n",
       "      <th>1</th>\n",
       "      <th>2</th>\n",
       "      <th>3</th>\n",
       "      <th>4</th>\n",
       "      <th>5</th>\n",
       "      <th>6</th>\n",
       "      <th>7</th>\n",
       "      <th>8</th>\n",
       "      <th>...</th>\n",
       "      <th>33</th>\n",
       "      <th>34</th>\n",
       "      <th>35</th>\n",
       "      <th>36</th>\n",
       "      <th>37</th>\n",
       "      <th>38</th>\n",
       "      <th>39</th>\n",
       "      <th>40</th>\n",
       "      <th>41</th>\n",
       "      <th>42</th>\n",
       "    </tr>\n",
       "  </thead>\n",
       "  <tbody>\n",
       "    <tr>\n",
       "      <th>0</th>\n",
       "      <td>2</td>\n",
       "      <td>0.022976</td>\n",
       "      <td>-0.965310</td>\n",
       "      <td>-1.238710</td>\n",
       "      <td>-0.980600</td>\n",
       "      <td>-1.223086</td>\n",
       "      <td>-0.737987</td>\n",
       "      <td>-0.887323</td>\n",
       "      <td>-0.675689</td>\n",
       "      <td>-0.028122</td>\n",
       "      <td>...</td>\n",
       "      <td>0.269411</td>\n",
       "      <td>-0.928447</td>\n",
       "      <td>-0.028176</td>\n",
       "      <td>0.111155</td>\n",
       "      <td>-0.279341</td>\n",
       "      <td>0.982918</td>\n",
       "      <td>-0.837571</td>\n",
       "      <td>-0.242425</td>\n",
       "      <td>-0.231228</td>\n",
       "      <td>0.046297</td>\n",
       "    </tr>\n",
       "    <tr>\n",
       "      <th>1</th>\n",
       "      <td>1</td>\n",
       "      <td>-0.151407</td>\n",
       "      <td>-0.861814</td>\n",
       "      <td>-0.970073</td>\n",
       "      <td>-0.646467</td>\n",
       "      <td>0.316065</td>\n",
       "      <td>0.509519</td>\n",
       "      <td>-0.708765</td>\n",
       "      <td>-0.422852</td>\n",
       "      <td>-0.436029</td>\n",
       "      <td>...</td>\n",
       "      <td>-0.513224</td>\n",
       "      <td>0.174376</td>\n",
       "      <td>0.292357</td>\n",
       "      <td>1.021724</td>\n",
       "      <td>1.833745</td>\n",
       "      <td>1.062946</td>\n",
       "      <td>0.196452</td>\n",
       "      <td>0.012724</td>\n",
       "      <td>-0.118445</td>\n",
       "      <td>0.739934</td>\n",
       "    </tr>\n",
       "    <tr>\n",
       "      <th>2</th>\n",
       "      <td>2</td>\n",
       "      <td>-0.068210</td>\n",
       "      <td>-1.288656</td>\n",
       "      <td>-1.196822</td>\n",
       "      <td>-0.350951</td>\n",
       "      <td>-0.518477</td>\n",
       "      <td>0.425649</td>\n",
       "      <td>-0.675744</td>\n",
       "      <td>0.307187</td>\n",
       "      <td>-0.279795</td>\n",
       "      <td>...</td>\n",
       "      <td>-0.291583</td>\n",
       "      <td>-0.543025</td>\n",
       "      <td>0.626299</td>\n",
       "      <td>0.957170</td>\n",
       "      <td>0.787820</td>\n",
       "      <td>0.170295</td>\n",
       "      <td>0.837617</td>\n",
       "      <td>-0.622304</td>\n",
       "      <td>-0.296431</td>\n",
       "      <td>-0.324272</td>\n",
       "    </tr>\n",
       "    <tr>\n",
       "      <th>3</th>\n",
       "      <td>0</td>\n",
       "      <td>-0.392235</td>\n",
       "      <td>-0.980445</td>\n",
       "      <td>-0.998436</td>\n",
       "      <td>-0.137651</td>\n",
       "      <td>0.285102</td>\n",
       "      <td>0.807072</td>\n",
       "      <td>-0.229599</td>\n",
       "      <td>0.203830</td>\n",
       "      <td>-0.296264</td>\n",
       "      <td>...</td>\n",
       "      <td>-0.536840</td>\n",
       "      <td>0.085051</td>\n",
       "      <td>0.212710</td>\n",
       "      <td>0.409950</td>\n",
       "      <td>1.947804</td>\n",
       "      <td>1.063359</td>\n",
       "      <td>-0.320035</td>\n",
       "      <td>-0.099703</td>\n",
       "      <td>-0.466355</td>\n",
       "      <td>0.805688</td>\n",
       "    </tr>\n",
       "    <tr>\n",
       "      <th>4</th>\n",
       "      <td>1</td>\n",
       "      <td>0.263224</td>\n",
       "      <td>0.673038</td>\n",
       "      <td>-1.974711</td>\n",
       "      <td>1.167531</td>\n",
       "      <td>-1.717946</td>\n",
       "      <td>1.500515</td>\n",
       "      <td>-1.023599</td>\n",
       "      <td>-0.077397</td>\n",
       "      <td>-0.726597</td>\n",
       "      <td>...</td>\n",
       "      <td>-0.237098</td>\n",
       "      <td>-0.970870</td>\n",
       "      <td>-1.468881</td>\n",
       "      <td>0.098396</td>\n",
       "      <td>1.068838</td>\n",
       "      <td>-0.387483</td>\n",
       "      <td>-0.999648</td>\n",
       "      <td>0.460180</td>\n",
       "      <td>-1.353426</td>\n",
       "      <td>-0.283846</td>\n",
       "    </tr>\n",
       "  </tbody>\n",
       "</table>\n",
       "<p>5 rows × 44 columns</p>\n",
       "</div>"
      ],
      "text/plain": [
       "   Target         0         1         2         3         4         5  \\\n",
       "0       2  0.022976 -0.965310 -1.238710 -0.980600 -1.223086 -0.737987   \n",
       "1       1 -0.151407 -0.861814 -0.970073 -0.646467  0.316065  0.509519   \n",
       "2       2 -0.068210 -1.288656 -1.196822 -0.350951 -0.518477  0.425649   \n",
       "3       0 -0.392235 -0.980445 -0.998436 -0.137651  0.285102  0.807072   \n",
       "4       1  0.263224  0.673038 -1.974711  1.167531 -1.717946  1.500515   \n",
       "\n",
       "          6         7         8  ...        33        34        35        36  \\\n",
       "0 -0.887323 -0.675689 -0.028122  ...  0.269411 -0.928447 -0.028176  0.111155   \n",
       "1 -0.708765 -0.422852 -0.436029  ... -0.513224  0.174376  0.292357  1.021724   \n",
       "2 -0.675744  0.307187 -0.279795  ... -0.291583 -0.543025  0.626299  0.957170   \n",
       "3 -0.229599  0.203830 -0.296264  ... -0.536840  0.085051  0.212710  0.409950   \n",
       "4 -1.023599 -0.077397 -0.726597  ... -0.237098 -0.970870 -1.468881  0.098396   \n",
       "\n",
       "         37        38        39        40        41        42  \n",
       "0 -0.279341  0.982918 -0.837571 -0.242425 -0.231228  0.046297  \n",
       "1  1.833745  1.062946  0.196452  0.012724 -0.118445  0.739934  \n",
       "2  0.787820  0.170295  0.837617 -0.622304 -0.296431 -0.324272  \n",
       "3  1.947804  1.063359 -0.320035 -0.099703 -0.466355  0.805688  \n",
       "4  1.068838 -0.387483 -0.999648  0.460180 -1.353426 -0.283846  \n",
       "\n",
       "[5 rows x 44 columns]"
      ]
     },
     "execution_count": 4,
     "metadata": {},
     "output_type": "execute_result"
    }
   ],
   "source": [
    "path =\"../../../../Data_preprocessing/RNA_post_autoencoder/encoded_data_multiclass_43.csv\"\n",
    "data = pd.read_csv(path)\n",
    "data.reset_index\n",
    "data.round(4)\n",
    "data=data.iloc[:,1:440  ] \n",
    "data.head()"
   ]
  },
  {
   "cell_type": "code",
   "execution_count": 5,
   "metadata": {},
   "outputs": [
    {
     "name": "stdout",
     "output_type": "stream",
     "text": [
      "            0         1         2         3         4         5         6  \\\n",
      "0    0.022976 -0.965310 -1.238710 -0.980600 -1.223086 -0.737987 -0.887323   \n",
      "1   -0.151407 -0.861814 -0.970073 -0.646467  0.316065  0.509519 -0.708765   \n",
      "2   -0.068210 -1.288656 -1.196822 -0.350951 -0.518477  0.425649 -0.675744   \n",
      "3   -0.392235 -0.980445 -0.998436 -0.137651  0.285102  0.807072 -0.229599   \n",
      "4    0.263224  0.673038 -1.974711  1.167531 -1.717946  1.500515 -1.023599   \n",
      "..        ...       ...       ...       ...       ...       ...       ...   \n",
      "176 -0.152809 -0.701253 -1.527834  0.090276 -0.717189  0.777892 -0.739791   \n",
      "177 -0.569668 -0.485702 -1.285647 -0.943146 -0.530570 -0.204337 -0.205112   \n",
      "178 -0.196661 -0.540016 -1.396883  0.021088 -1.211431  0.308100 -0.929356   \n",
      "179 -0.007758 -0.201605 -1.513765 -0.789999 -0.198751  0.963480 -0.752608   \n",
      "180  0.007880 -1.269928 -1.413523 -1.124486 -0.896541 -0.050075 -0.325665   \n",
      "\n",
      "            7         8         9  ...        33        34        35  \\\n",
      "0   -0.675689 -0.028122 -1.062777  ...  0.269411 -0.928447 -0.028176   \n",
      "1   -0.422852 -0.436029 -1.290373  ... -0.513224  0.174376  0.292357   \n",
      "2    0.307187 -0.279795 -1.141146  ... -0.291583 -0.543025  0.626299   \n",
      "3    0.203830 -0.296264 -1.218101  ... -0.536840  0.085051  0.212710   \n",
      "4   -0.077397 -0.726597 -0.239016  ... -0.237098 -0.970870 -1.468881   \n",
      "..        ...       ...       ...  ...       ...       ...       ...   \n",
      "176  0.352021 -0.561126 -0.649695  ... -0.383658 -0.541198 -0.350221   \n",
      "177 -0.084613 -0.762869 -1.850969  ... -0.516756  0.284786  0.557367   \n",
      "178 -0.285956 -0.499216 -0.697009  ... -0.807369 -0.911927 -0.407849   \n",
      "179 -0.687661 -0.257528 -0.840171  ... -0.715071 -0.443984  0.148387   \n",
      "180 -0.083539 -0.524700 -1.336914  ... -0.548629 -0.347906  0.238717   \n",
      "\n",
      "           36        37        38        39        40        41        42  \n",
      "0    0.111155 -0.279341  0.982918 -0.837571 -0.242425 -0.231228  0.046297  \n",
      "1    1.021724  1.833745  1.062946  0.196452  0.012724 -0.118445  0.739934  \n",
      "2    0.957170  0.787820  0.170295  0.837617 -0.622304 -0.296431 -0.324272  \n",
      "3    0.409950  1.947804  1.063359 -0.320035 -0.099703 -0.466355  0.805688  \n",
      "4    0.098396  1.068838 -0.387483 -0.999648  0.460180 -1.353426 -0.283846  \n",
      "..        ...       ...       ...       ...       ...       ...       ...  \n",
      "176  0.162974  1.065596  0.631682 -0.750276  0.112649 -1.042669 -0.278918  \n",
      "177  0.218747  1.090271  0.585521  0.085229  0.212960 -0.630912  0.519843  \n",
      "178  0.477906  1.185543  0.287745 -0.180885  0.157593 -0.910663 -0.416125  \n",
      "179 -0.021289  0.946459  0.869083 -0.574906  0.009042 -1.098922  0.113015  \n",
      "180  0.167459  0.558779  0.632157 -0.050641  0.060489 -0.674583  0.058142  \n",
      "\n",
      "[181 rows x 43 columns]\n",
      "Numero de pacientes:  181\n"
     ]
    }
   ],
   "source": [
    "Y = data.Target # Target column\n",
    "X = data.iloc[:,1:439] # I selected all the columns by removing the Unnamed column (row id) and the Target column.\n",
    "\n",
    "print(X)\n",
    "print('Numero de pacientes: ',len(Y))"
   ]
  },
  {
   "cell_type": "code",
   "execution_count": 6,
   "metadata": {},
   "outputs": [
    {
     "name": "stdout",
     "output_type": "stream",
     "text": [
      "Training set size: 144\n",
      "Target column size of the training set: 144\n",
      "Test set size: 37\n",
      "Target column size of the test set: 37\n"
     ]
    }
   ],
   "source": [
    "XTrain, XTest, yTrain, yTest = train_test_split(X, Y, test_size=0.20, random_state=125,stratify=Y)\n",
    "# Convert sets to arrays\n",
    "\n",
    "XTrain = XTrain.values\n",
    "XTest = XTest.values\n",
    "yTrain=yTrain.to_numpy()\n",
    "yTest=yTest.to_numpy()\n",
    "print('Training set size:', len(XTrain))\n",
    "print('Target column size of the training set:', len(yTrain))\n",
    "print('Test set size:', len(XTest))\n",
    "print('Target column size of the test set:', len(yTest))"
   ]
  },
  {
   "cell_type": "markdown",
   "metadata": {},
   "source": [
    "### 4. Select the parameters of the model and fit it"
   ]
  },
  {
   "cell_type": "code",
   "execution_count": 7,
   "metadata": {},
   "outputs": [
    {
     "data": {
      "text/plain": [
       "GridSearchCV(cv=5, estimator=DecisionTreeClassifier(),\n",
       "             param_grid={'criterion': ['entropy', 'gini'],\n",
       "                         'max_depth': [2, 5, 10, 12, 15, 20, 100],\n",
       "                         'min_samples_leaf': [2, 5, 7, 10],\n",
       "                         'min_samples_split': [2, 5, 7, 10],\n",
       "                         'random_state': [125],\n",
       "                         'splitter': ['best', 'random']})"
      ]
     },
     "execution_count": 7,
     "metadata": {},
     "output_type": "execute_result"
    }
   ],
   "source": [
    "param_grid = {'min_samples_leaf': [2,5,7,10],\n",
    "              'min_samples_split': [2, 5, 7, 10],\n",
    "              'max_depth':[2,5,10,12,15,20,100],\n",
    "              'criterion':['entropy','gini'],\n",
    "              'splitter': ['best', 'random'],\n",
    "              'random_state':[125]}\n",
    "\n",
    "# I created a GridSearchCV which allows us to systematically evaluate and select the parameters of our model.\n",
    "# By indicating a model and the parameters to test, you can evaluate the performance of the first one based on the\n",
    "# seconds through cross validation.\n",
    "clf = GridSearchCV(DecisionTreeClassifier(), param_grid, cv = 5)\n",
    "\n",
    "clf.fit(XTrain , yTrain)"
   ]
  },
  {
   "cell_type": "code",
   "execution_count": 8,
   "metadata": {},
   "outputs": [
    {
     "name": "stdout",
     "output_type": "stream",
     "text": [
      "Best estimate of parameters according to GridSearchCV:\n"
     ]
    },
    {
     "data": {
      "text/plain": [
       "DecisionTreeClassifier(criterion='entropy', max_depth=10, min_samples_leaf=2,\n",
       "                       min_samples_split=5, random_state=125)"
      ]
     },
     "execution_count": 8,
     "metadata": {},
     "output_type": "execute_result"
    }
   ],
   "source": [
    "print(\"Best estimate of parameters according to GridSearchCV:\")\n",
    "model = clf.best_estimator_\n",
    "# Fit the model with the best parameters\n",
    "model.fit(XTrain , yTrain)"
   ]
  },
  {
   "cell_type": "code",
   "execution_count": 9,
   "metadata": {},
   "outputs": [
    {
     "name": "stdout",
     "output_type": "stream",
     "text": [
      "Best result of the cross validation of the model with the best paramters:0.5206896551724138\n"
     ]
    }
   ],
   "source": [
    "print(\"Best result of the cross validation of the model with the best paramters:\" +str(clf.best_score_))"
   ]
  },
  {
   "cell_type": "markdown",
   "metadata": {},
   "source": [
    "### 5. Prediction"
   ]
  },
  {
   "cell_type": "code",
   "execution_count": 10,
   "metadata": {},
   "outputs": [],
   "source": [
    "# Making predictions with the optimal model on the training dataset\n",
    "yhatTrain = model.predict(XTrain)\n",
    "contTrain = 0\n",
    "\n",
    "# Comparing with the Target column and check how many hits there have been\n",
    "for i in range(0,len(yTrain),1) :\n",
    "    if (yhatTrain[i] == yTrain[i]):\n",
    "        contTrain = contTrain + 1"
   ]
  },
  {
   "cell_type": "code",
   "execution_count": 11,
   "metadata": {},
   "outputs": [],
   "source": [
    "# Making predictions with the optimal model on the test dataset\n",
    "yhatTest = model.predict(XTest)\n",
    "contTest = 0\n",
    "\n",
    "# Comparing with the Target column and check how many hits there have been\n",
    "for i in range(0,len(yTest),1) :\n",
    "    if (yhatTest[i] == yTest[i]):\n",
    "        contTest = contTest + 1\n"
   ]
  },
  {
   "cell_type": "markdown",
   "metadata": {},
   "source": [
    "### 6. Results"
   ]
  },
  {
   "cell_type": "code",
   "execution_count": 12,
   "metadata": {},
   "outputs": [
    {
     "name": "stdout",
     "output_type": "stream",
     "text": [
      "Final accuracy on the training dataset:0.9166666666666666\n",
      "Final accuracy on the testing dataset: 0.35135135135135137\n"
     ]
    }
   ],
   "source": [
    "print('Final accuracy on the training dataset:' + str(contTrain/len(yTrain)))\n",
    "print('Final accuracy on the testing dataset: ' + str(contTest/len(yTest)))"
   ]
  },
  {
   "cell_type": "code",
   "execution_count": 13,
   "metadata": {},
   "outputs": [
    {
     "name": "stdout",
     "output_type": "stream",
     "text": [
      "----------------Confusion Matrix (Training)------------------\n",
      "[[66  0  1]\n",
      " [ 6 19  0]\n",
      " [ 4  1 47]]\n",
      "Input data:  [1 0 2 0 2 2 0 0 2 0 2 0 1 0 2 2 0 2 2 2 0 0 0 2 0 0 0 0 1 1 2 2 2 2 0 1 2\n",
      " 0 0 2 1 2 2 1 0 0 2 2 1 0 0 0 2 0 0 2 0 2 1 2 0 2 1 0 0 0 0 2 2 2 0 2 0 0\n",
      " 0 2 0 2 0 0 0 1 2 0 0 1 2 2 1 1 0 2 0 2 0 0 1 0 1 0 0 2 0 0 2 2 2 1 0 2 2\n",
      " 1 2 0 1 0 0 0 2 0 1 0 2 0 0 2 1 1 0 0 0 2 0 1 0 0 0 2 2 2 1 2 0 1]\n",
      "Prediction:        [0 0 2 0 2 2 0 0 2 0 0 0 0 0 2 2 0 2 0 2 0 0 0 2 0 0 0 0 1 1 2 2 2 2 0 1 0\n",
      " 0 0 2 1 2 1 1 0 0 2 2 1 0 0 0 2 0 0 2 0 2 1 2 0 2 1 0 0 0 0 2 2 2 0 2 0 0\n",
      " 0 2 0 2 0 2 0 0 2 0 0 1 2 2 0 0 0 2 0 2 0 0 1 0 1 0 0 2 0 0 2 2 2 1 0 2 2\n",
      " 1 2 0 1 0 0 0 0 0 1 0 2 0 0 2 1 1 0 0 0 2 0 1 0 0 0 2 2 2 0 2 0 1]\n"
     ]
    }
   ],
   "source": [
    "from sklearn.metrics import classification_report,confusion_matrix\n",
    "\n",
    "print('----------------Confusion Matrix (Training)------------------')\n",
    "print(confusion_matrix(yTrain,yhatTrain))\n",
    "print('Input data:  ' + str(np.array(yTrain)))\n",
    "print('Prediction:        ' +str(yhatTrain))"
   ]
  },
  {
   "cell_type": "code",
   "execution_count": 14,
   "metadata": {},
   "outputs": [
    {
     "name": "stdout",
     "output_type": "stream",
     "text": [
      "              precision    recall  f1-score   support\n",
      "\n",
      "           0       0.87      0.99      0.92        67\n",
      "           1       0.95      0.76      0.84        25\n",
      "           2       0.98      0.90      0.94        52\n",
      "\n",
      "    accuracy                           0.92       144\n",
      "   macro avg       0.93      0.88      0.90       144\n",
      "weighted avg       0.92      0.92      0.92       144\n",
      "\n"
     ]
    }
   ],
   "source": [
    "print(classification_report(yTrain,yhatTrain))"
   ]
  },
  {
   "cell_type": "code",
   "execution_count": 15,
   "metadata": {},
   "outputs": [
    {
     "name": "stdout",
     "output_type": "stream",
     "text": [
      "----------------Confusion Matrix (Test)------------------\n",
      "[[11  2  5]\n",
      " [ 4  0  2]\n",
      " [ 9  2  2]]\n",
      "Input data:  [0 1 0 2 0 2 1 0 1 0 2 2 1 2 2 0 1 2 0 0 0 2 1 0 0 2 0 2 2 0 0 0 2 2 0 0 0]\n",
      "Prediction:        [0 0 0 0 2 0 0 0 2 0 0 2 0 0 0 2 2 0 2 0 0 2 0 2 0 1 2 0 0 1 0 0 1 0 0 1 0]\n"
     ]
    }
   ],
   "source": [
    "print('----------------Confusion Matrix (Test)------------------')\n",
    "print(confusion_matrix(yTest,yhatTest))\n",
    "print('Input data:  ' + str(np.array(yTest)))\n",
    "print('Prediction:        ' +str(yhatTest))"
   ]
  },
  {
   "cell_type": "code",
   "execution_count": 16,
   "metadata": {},
   "outputs": [
    {
     "name": "stdout",
     "output_type": "stream",
     "text": [
      "              precision    recall  f1-score   support\n",
      "\n",
      "           0       0.46      0.61      0.52        18\n",
      "           1       0.00      0.00      0.00         6\n",
      "           2       0.22      0.15      0.18        13\n",
      "\n",
      "    accuracy                           0.35        37\n",
      "   macro avg       0.23      0.25      0.24        37\n",
      "weighted avg       0.30      0.35      0.32        37\n",
      "\n"
     ]
    }
   ],
   "source": [
    "print(classification_report(yTest,yhatTest))"
   ]
  }
 ],
 "metadata": {
  "kernelspec": {
   "display_name": "Python 3.9.13 64-bit (microsoft store)",
   "language": "python",
   "name": "python3"
  },
  "language_info": {
   "codemirror_mode": {
    "name": "ipython",
    "version": 3
   },
   "file_extension": ".py",
   "mimetype": "text/x-python",
   "name": "python",
   "nbconvert_exporter": "python",
   "pygments_lexer": "ipython3",
   "version": "3.9.13"
  },
  "orig_nbformat": 4,
  "vscode": {
   "interpreter": {
    "hash": "fb15f1e0f376981e7b6e1fc44ae8b8146823f10f258bcd6e448b0230b889fc06"
   }
  }
 },
 "nbformat": 4,
 "nbformat_minor": 2
}
