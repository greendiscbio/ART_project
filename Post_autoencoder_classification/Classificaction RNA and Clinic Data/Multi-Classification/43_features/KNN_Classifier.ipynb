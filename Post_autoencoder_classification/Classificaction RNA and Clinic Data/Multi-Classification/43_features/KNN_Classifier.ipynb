{
 "cells": [
  {
   "cell_type": "markdown",
   "metadata": {},
   "source": [
    "# Classification model using KNN"
   ]
  },
  {
   "cell_type": "markdown",
   "metadata": {},
   "source": [
    "### 1. Import libraries"
   ]
  },
  {
   "cell_type": "code",
   "execution_count": 17,
   "metadata": {},
   "outputs": [],
   "source": [
    "import pandas as pd\n",
    "from sklearn import neighbors\n",
    "import matplotlib.pyplot as plt\n",
    "from sklearn.model_selection import train_test_split\n",
    "from sklearn import neighbors\n",
    "from sklearn.neighbors import KNeighborsClassifier\n",
    "from sklearn.metrics import accuracy_score\n",
    "import numpy as np\n",
    "from scipy.spatial import distance\n",
    "from sklearn import model_selection"
   ]
  },
  {
   "cell_type": "markdown",
   "metadata": {},
   "source": [
    "### 2. Upload Clinic data"
   ]
  },
  {
   "cell_type": "code",
   "execution_count": 18,
   "metadata": {},
   "outputs": [
    {
     "data": {
      "text/html": [
       "<div>\n",
       "<style scoped>\n",
       "    .dataframe tbody tr th:only-of-type {\n",
       "        vertical-align: middle;\n",
       "    }\n",
       "\n",
       "    .dataframe tbody tr th {\n",
       "        vertical-align: top;\n",
       "    }\n",
       "\n",
       "    .dataframe thead th {\n",
       "        text-align: right;\n",
       "    }\n",
       "</style>\n",
       "<table border=\"1\" class=\"dataframe\">\n",
       "  <thead>\n",
       "    <tr style=\"text-align: right;\">\n",
       "      <th></th>\n",
       "      <th>Target</th>\n",
       "      <th>0</th>\n",
       "      <th>1</th>\n",
       "      <th>2</th>\n",
       "      <th>3</th>\n",
       "      <th>4</th>\n",
       "      <th>5</th>\n",
       "      <th>6</th>\n",
       "      <th>7</th>\n",
       "      <th>8</th>\n",
       "      <th>...</th>\n",
       "      <th>33</th>\n",
       "      <th>34</th>\n",
       "      <th>35</th>\n",
       "      <th>36</th>\n",
       "      <th>37</th>\n",
       "      <th>38</th>\n",
       "      <th>39</th>\n",
       "      <th>40</th>\n",
       "      <th>41</th>\n",
       "      <th>42</th>\n",
       "    </tr>\n",
       "  </thead>\n",
       "  <tbody>\n",
       "    <tr>\n",
       "      <th>0</th>\n",
       "      <td>2</td>\n",
       "      <td>-0.366403</td>\n",
       "      <td>-0.529891</td>\n",
       "      <td>1.224275</td>\n",
       "      <td>-0.170353</td>\n",
       "      <td>2.797608</td>\n",
       "      <td>-2.960380</td>\n",
       "      <td>0.503309</td>\n",
       "      <td>2.175944</td>\n",
       "      <td>1.066994</td>\n",
       "      <td>...</td>\n",
       "      <td>2.206299</td>\n",
       "      <td>-0.502463</td>\n",
       "      <td>-2.004801</td>\n",
       "      <td>-0.438421</td>\n",
       "      <td>0.785737</td>\n",
       "      <td>-1.988872</td>\n",
       "      <td>-0.893650</td>\n",
       "      <td>1.528710</td>\n",
       "      <td>3.073825</td>\n",
       "      <td>1.899409</td>\n",
       "    </tr>\n",
       "    <tr>\n",
       "      <th>1</th>\n",
       "      <td>1</td>\n",
       "      <td>-0.022685</td>\n",
       "      <td>-0.080576</td>\n",
       "      <td>1.521277</td>\n",
       "      <td>0.333096</td>\n",
       "      <td>2.073513</td>\n",
       "      <td>-2.504466</td>\n",
       "      <td>0.212547</td>\n",
       "      <td>1.684705</td>\n",
       "      <td>0.283884</td>\n",
       "      <td>...</td>\n",
       "      <td>1.657404</td>\n",
       "      <td>-0.800799</td>\n",
       "      <td>-1.176540</td>\n",
       "      <td>-0.398753</td>\n",
       "      <td>0.854077</td>\n",
       "      <td>-1.421040</td>\n",
       "      <td>-0.487865</td>\n",
       "      <td>1.479854</td>\n",
       "      <td>2.290627</td>\n",
       "      <td>1.117899</td>\n",
       "    </tr>\n",
       "    <tr>\n",
       "      <th>2</th>\n",
       "      <td>2</td>\n",
       "      <td>-0.052578</td>\n",
       "      <td>-0.362782</td>\n",
       "      <td>1.127761</td>\n",
       "      <td>-0.077959</td>\n",
       "      <td>2.745393</td>\n",
       "      <td>-3.656872</td>\n",
       "      <td>0.171195</td>\n",
       "      <td>2.509113</td>\n",
       "      <td>0.844297</td>\n",
       "      <td>...</td>\n",
       "      <td>2.001973</td>\n",
       "      <td>-0.640431</td>\n",
       "      <td>-2.522731</td>\n",
       "      <td>-0.346004</td>\n",
       "      <td>0.709842</td>\n",
       "      <td>-1.786768</td>\n",
       "      <td>-0.986672</td>\n",
       "      <td>1.240316</td>\n",
       "      <td>3.191606</td>\n",
       "      <td>2.450312</td>\n",
       "    </tr>\n",
       "    <tr>\n",
       "      <th>3</th>\n",
       "      <td>0</td>\n",
       "      <td>-0.095125</td>\n",
       "      <td>-0.152655</td>\n",
       "      <td>1.517417</td>\n",
       "      <td>0.131297</td>\n",
       "      <td>2.404263</td>\n",
       "      <td>-2.807642</td>\n",
       "      <td>0.213807</td>\n",
       "      <td>2.105238</td>\n",
       "      <td>0.445960</td>\n",
       "      <td>...</td>\n",
       "      <td>1.930249</td>\n",
       "      <td>-0.709466</td>\n",
       "      <td>-1.687836</td>\n",
       "      <td>-0.319494</td>\n",
       "      <td>0.988847</td>\n",
       "      <td>-1.690042</td>\n",
       "      <td>-0.947813</td>\n",
       "      <td>1.495447</td>\n",
       "      <td>2.861046</td>\n",
       "      <td>1.617567</td>\n",
       "    </tr>\n",
       "    <tr>\n",
       "      <th>4</th>\n",
       "      <td>1</td>\n",
       "      <td>0.172483</td>\n",
       "      <td>-0.599030</td>\n",
       "      <td>1.382951</td>\n",
       "      <td>-0.103038</td>\n",
       "      <td>2.338006</td>\n",
       "      <td>-2.988720</td>\n",
       "      <td>0.623872</td>\n",
       "      <td>2.488591</td>\n",
       "      <td>0.634746</td>\n",
       "      <td>...</td>\n",
       "      <td>1.437723</td>\n",
       "      <td>-0.653985</td>\n",
       "      <td>-2.120162</td>\n",
       "      <td>-0.160325</td>\n",
       "      <td>0.505564</td>\n",
       "      <td>-1.804533</td>\n",
       "      <td>-0.608725</td>\n",
       "      <td>1.377656</td>\n",
       "      <td>2.063588</td>\n",
       "      <td>1.264385</td>\n",
       "    </tr>\n",
       "  </tbody>\n",
       "</table>\n",
       "<p>5 rows × 44 columns</p>\n",
       "</div>"
      ],
      "text/plain": [
       "   Target         0         1         2         3         4         5  \\\n",
       "0       2 -0.366403 -0.529891  1.224275 -0.170353  2.797608 -2.960380   \n",
       "1       1 -0.022685 -0.080576  1.521277  0.333096  2.073513 -2.504466   \n",
       "2       2 -0.052578 -0.362782  1.127761 -0.077959  2.745393 -3.656872   \n",
       "3       0 -0.095125 -0.152655  1.517417  0.131297  2.404263 -2.807642   \n",
       "4       1  0.172483 -0.599030  1.382951 -0.103038  2.338006 -2.988720   \n",
       "\n",
       "          6         7         8  ...        33        34        35        36  \\\n",
       "0  0.503309  2.175944  1.066994  ...  2.206299 -0.502463 -2.004801 -0.438421   \n",
       "1  0.212547  1.684705  0.283884  ...  1.657404 -0.800799 -1.176540 -0.398753   \n",
       "2  0.171195  2.509113  0.844297  ...  2.001973 -0.640431 -2.522731 -0.346004   \n",
       "3  0.213807  2.105238  0.445960  ...  1.930249 -0.709466 -1.687836 -0.319494   \n",
       "4  0.623872  2.488591  0.634746  ...  1.437723 -0.653985 -2.120162 -0.160325   \n",
       "\n",
       "         37        38        39        40        41        42  \n",
       "0  0.785737 -1.988872 -0.893650  1.528710  3.073825  1.899409  \n",
       "1  0.854077 -1.421040 -0.487865  1.479854  2.290627  1.117899  \n",
       "2  0.709842 -1.786768 -0.986672  1.240316  3.191606  2.450312  \n",
       "3  0.988847 -1.690042 -0.947813  1.495447  2.861046  1.617567  \n",
       "4  0.505564 -1.804533 -0.608725  1.377656  2.063588  1.264385  \n",
       "\n",
       "[5 rows x 44 columns]"
      ]
     },
     "execution_count": 18,
     "metadata": {},
     "output_type": "execute_result"
    }
   ],
   "source": [
    "path =\"../../../../Data_preprocessing/RNA_post_autoencoder/encoded_data_multiclass_43.csv\"\n",
    "data = pd.read_csv(path)\n",
    "data.reset_index\n",
    "data.round(4)\n",
    "data=data.iloc[:,1:440  ] \n",
    "data.head()"
   ]
  },
  {
   "cell_type": "code",
   "execution_count": 19,
   "metadata": {},
   "outputs": [
    {
     "name": "stdout",
     "output_type": "stream",
     "text": [
      "            0         1         2         3         4         5         6  \\\n",
      "0   -0.366403 -0.529891  1.224275 -0.170353  2.797608 -2.960380  0.503309   \n",
      "1   -0.022685 -0.080576  1.521277  0.333096  2.073513 -2.504466  0.212547   \n",
      "2   -0.052578 -0.362782  1.127761 -0.077959  2.745393 -3.656872  0.171195   \n",
      "3   -0.095125 -0.152655  1.517417  0.131297  2.404263 -2.807642  0.213807   \n",
      "4    0.172483 -0.599030  1.382951 -0.103038  2.338006 -2.988720  0.623872   \n",
      "..        ...       ...       ...       ...       ...       ...       ...   \n",
      "176 -0.038708 -0.484153  1.432885  0.085147  2.330397 -2.537074  0.430618   \n",
      "177 -0.067312 -0.207609  1.119932 -0.150279  2.498550 -3.748665  0.099322   \n",
      "178  0.037973 -0.539611  1.428888 -0.079274  2.637841 -3.243155  0.248875   \n",
      "179 -0.066098 -0.426008  1.787303  0.068520  2.061454 -1.809541  0.379197   \n",
      "180 -0.103007 -0.591417  0.982493 -0.205921  2.387277 -3.304925  0.182727   \n",
      "\n",
      "            7         8         9  ...        33        34        35  \\\n",
      "0    2.175944  1.066994 -2.578292  ...  2.206299 -0.502463 -2.004801   \n",
      "1    1.684705  0.283884 -1.881337  ...  1.657404 -0.800799 -1.176540   \n",
      "2    2.509113  0.844297 -3.087778  ...  2.001973 -0.640431 -2.522731   \n",
      "3    2.105238  0.445960 -2.342985  ...  1.930249 -0.709466 -1.687836   \n",
      "4    2.488591  0.634746 -2.295949  ...  1.437723 -0.653985 -2.120162   \n",
      "..        ...       ...       ...  ...       ...       ...       ...   \n",
      "176  2.073556  0.494141 -2.266999  ...  1.780752 -0.754899 -1.575173   \n",
      "177  2.405685  0.809418 -2.939529  ...  1.735019 -0.385792 -2.666092   \n",
      "178  2.464114  0.775828 -2.652325  ...  1.930505 -0.713412 -2.141876   \n",
      "179  1.696343  0.342785 -1.775761  ...  1.718777 -0.775466 -0.865508   \n",
      "180  2.376724  0.827489 -2.855307  ...  1.718945 -0.520101 -2.424111   \n",
      "\n",
      "           36        37        38        39        40        41        42  \n",
      "0   -0.438421  0.785737 -1.988872 -0.893650  1.528710  3.073825  1.899409  \n",
      "1   -0.398753  0.854077 -1.421040 -0.487865  1.479854  2.290627  1.117899  \n",
      "2   -0.346004  0.709842 -1.786768 -0.986672  1.240316  3.191606  2.450312  \n",
      "3   -0.319494  0.988847 -1.690042 -0.947813  1.495447  2.861046  1.617567  \n",
      "4   -0.160325  0.505564 -1.804533 -0.608725  1.377656  2.063588  1.264385  \n",
      "..        ...       ...       ...       ...       ...       ...       ...  \n",
      "176 -0.302203  0.532272 -1.570035 -0.797333  1.371839  2.406882  1.386484  \n",
      "177 -0.397622  1.100075 -2.044106 -0.800400  1.233696  2.979879  2.203114  \n",
      "178 -0.148806  0.578549 -1.537849 -0.917500  1.272054  2.862974  1.882043  \n",
      "179 -0.217112  0.602496 -1.381615 -0.533818  1.480003  1.901331  0.568526  \n",
      "180 -0.316123  0.572070 -1.655342 -0.852181  1.135857  2.805466  2.089784  \n",
      "\n",
      "[181 rows x 43 columns]\n",
      "Numero de pacientes:  181\n"
     ]
    }
   ],
   "source": [
    "Y = data.Target # Target column\n",
    "\n",
    "X = data.iloc[:,1:439] # I selected all the columns by removing the Unnamed column (row id) and the Target column.\n",
    "\n",
    "\n",
    "print(X)\n",
    "print('Numero de pacientes: ',len(Y))"
   ]
  },
  {
   "cell_type": "markdown",
   "metadata": {},
   "source": [
    "### 3. Train-Test dataset split"
   ]
  },
  {
   "cell_type": "code",
   "execution_count": 20,
   "metadata": {},
   "outputs": [
    {
     "name": "stdout",
     "output_type": "stream",
     "text": [
      "Training set size: 144\n",
      "Target column size of the training set: 144\n",
      "Test set size: 37\n",
      "Target column size of the test set: 37\n"
     ]
    }
   ],
   "source": [
    "XTrain, XTest, yTrain, yTest = train_test_split(X, Y, test_size=0.20, random_state=125,stratify=Y)\n",
    "yTrain=yTrain.to_numpy()\n",
    "yTest=yTest.to_numpy()\n",
    "print('Training set size:', len(XTrain))\n",
    "print('Target column size of the training set:', len(yTrain))\n",
    "print('Test set size:', len(XTest))\n",
    "print('Target column size of the test set:', len(yTest))"
   ]
  },
  {
   "cell_type": "markdown",
   "metadata": {},
   "source": [
    "### 4. Study the best value for K"
   ]
  },
  {
   "cell_type": "code",
   "execution_count": 21,
   "metadata": {},
   "outputs": [
    {
     "name": "stdout",
     "output_type": "stream",
     "text": [
      "Best accuracy is obtained with k = 5 and is: 0.4324\n"
     ]
    }
   ],
   "source": [
    "neighbors = list(range(1,8))\n",
    "cek = []\n",
    "list_accuracy = []\n",
    "best_acuracy = 0\n",
    "best_k = 0\n",
    "for k in neighbors:\n",
    "    knn = KNeighborsClassifier(n_neighbors=k)\n",
    "    pred = knn.fit(XTrain, yTrain).predict(XTest)\n",
    "    if accuracy_score(yTest, pred) >= best_acuracy:\n",
    "        best_k = k\n",
    "        best_acuracy=accuracy_score(yTest, pred)\n",
    "    list_accuracy.append(accuracy_score(yTest, pred))\n",
    "\n",
    "print(\"Best accuracy is obtained with k = \" + str(best_k)+ \" and is: %.4f\" % (best_acuracy))\n"
   ]
  },
  {
   "cell_type": "code",
   "execution_count": 22,
   "metadata": {},
   "outputs": [
    {
     "name": "stderr",
     "output_type": "stream",
     "text": [
      "C:\\Users\\sandr\\AppData\\Local\\Temp/ipykernel_17260/3738168230.py:1: UserWarning: color is redundantly defined by the 'color' keyword argument and the fmt string \"ro\" (-> color='r'). The keyword argument will take precedence.\n",
      "  plt.plot(np.append(np.roll(list_accuracy,1),list_accuracy[6]),'ro', color='r', linestyle='dashed',linewidth=1.0, label=\"Graph2\")\n",
      "C:\\Users\\sandr\\AppData\\Local\\Temp/ipykernel_17260/3738168230.py:3: UserWarning: color is redundantly defined by the 'color' keyword argument and the fmt string \"ro\" (-> color='r'). The keyword argument will take precedence.\n",
      "  plt.plot(best_k, best_acuracy, 'ro', color ='g')\n"
     ]
    },
    {
     "data": {
      "image/png": "[encoded data removed]",
      "text/plain": [
       "<Figure size 432x288 with 1 Axes>"
      ]
     },
     "metadata": {
      "needs_background": "light"
     },
     "output_type": "display_data"
    }
   ],
   "source": [
    "plt.plot(np.append(np.roll(list_accuracy,1),list_accuracy[6]),'ro', color='r', linestyle='dashed',linewidth=1.0, label=\"Graph2\")\n",
    "# Green dot represent best K value\n",
    "plt.plot(best_k, best_acuracy, 'ro', color ='g')\n",
    "plt.axis([1, 7, 0.5, 1])\n",
    "plt.xlabel('K')\n",
    "plt.ylabel('Accuracy')\n",
    "\n",
    "plt.grid()\n",
    "plt.show()"
   ]
  },
  {
   "cell_type": "markdown",
   "metadata": {},
   "source": [
    "### 5. Best metric study (manhattan or euclidean)"
   ]
  },
  {
   "cell_type": "code",
   "execution_count": 23,
   "metadata": {},
   "outputs": [
    {
     "data": {
      "text/plain": [
       "KNeighborsClassifier(metric=<function cityblock at 0x00000237D400C280>)"
      ]
     },
     "execution_count": 23,
     "metadata": {},
     "output_type": "execute_result"
    }
   ],
   "source": [
    "from sklearn import neighbors\n",
    "# Euclidean distance model\n",
    "euclid_model = KNeighborsClassifier(n_neighbors=best_k, metric=distance.sqeuclidean)\n",
    "euclid_model.fit(XTrain,yTrain) \n",
    "\n",
    "# Manhattan distance model\n",
    "manhattan_model = KNeighborsClassifier(n_neighbors=best_k, metric=distance.cityblock) \n",
    "manhattan_model.fit(XTrain, yTrain)"
   ]
  },
  {
   "cell_type": "code",
   "execution_count": 24,
   "metadata": {},
   "outputs": [
    {
     "data": {
      "text/html": [
       "<div>\n",
       "<style scoped>\n",
       "    .dataframe tbody tr th:only-of-type {\n",
       "        vertical-align: middle;\n",
       "    }\n",
       "\n",
       "    .dataframe tbody tr th {\n",
       "        vertical-align: top;\n",
       "    }\n",
       "\n",
       "    .dataframe thead th {\n",
       "        text-align: right;\n",
       "    }\n",
       "</style>\n",
       "<table border=\"1\" class=\"dataframe\">\n",
       "  <thead>\n",
       "    <tr style=\"text-align: right;\">\n",
       "      <th></th>\n",
       "      <th>actual</th>\n",
       "      <th>manhattan</th>\n",
       "      <th>euclid</th>\n",
       "    </tr>\n",
       "  </thead>\n",
       "  <tbody>\n",
       "    <tr>\n",
       "      <th>0</th>\n",
       "      <td>0</td>\n",
       "      <td>0</td>\n",
       "      <td>0</td>\n",
       "    </tr>\n",
       "    <tr>\n",
       "      <th>1</th>\n",
       "      <td>1</td>\n",
       "      <td>0</td>\n",
       "      <td>1</td>\n",
       "    </tr>\n",
       "    <tr>\n",
       "      <th>2</th>\n",
       "      <td>0</td>\n",
       "      <td>0</td>\n",
       "      <td>0</td>\n",
       "    </tr>\n",
       "    <tr>\n",
       "      <th>3</th>\n",
       "      <td>2</td>\n",
       "      <td>0</td>\n",
       "      <td>0</td>\n",
       "    </tr>\n",
       "    <tr>\n",
       "      <th>4</th>\n",
       "      <td>0</td>\n",
       "      <td>0</td>\n",
       "      <td>0</td>\n",
       "    </tr>\n",
       "  </tbody>\n",
       "</table>\n",
       "</div>"
      ],
      "text/plain": [
       "   actual  manhattan  euclid\n",
       "0       0          0       0\n",
       "1       1          0       1\n",
       "2       0          0       0\n",
       "3       2          0       0\n",
       "4       0          0       0"
      ]
     },
     "execution_count": 24,
     "metadata": {},
     "output_type": "execute_result"
    }
   ],
   "source": [
    "manhattan_predictions = manhattan_model.predict(XTest)\n",
    "euclid_predictions = euclid_model.predict(XTest) \n",
    "df = pd.DataFrame({'actual': yTest, 'manhattan': manhattan_predictions, 'euclid': euclid_predictions})\n",
    "df.head()"
   ]
  },
  {
   "cell_type": "code",
   "execution_count": 25,
   "metadata": {},
   "outputs": [
    {
     "name": "stdout",
     "output_type": "stream",
     "text": [
      "Best result of the cross validation of the model (euclidean) with the best paramters:0.43103448275862066\n",
      "Best result of the cross validation of the model (manhattan) with the best paramters:0.4100985221674877\n"
     ]
    }
   ],
   "source": [
    "result1= model_selection.cross_val_score(euclid_model, XTrain, yTrain, cv=5, scoring='accuracy')\n",
    "result2 = model_selection.cross_val_score(manhattan_model, XTrain, yTrain, cv=5, scoring='accuracy')\n",
    "print(\"Best result of the cross validation of the model (euclidean) with the best paramters:\" +str(np.mean(result1)))\n",
    "print(\"Best result of the cross validation of the model (manhattan) with the best paramters:\" +str(np.mean(result2)))"
   ]
  },
  {
   "cell_type": "markdown",
   "metadata": {},
   "source": [
    "#### 6.1. Manhattan model"
   ]
  },
  {
   "cell_type": "code",
   "execution_count": 26,
   "metadata": {},
   "outputs": [],
   "source": [
    "# Making predictions with the optimal model on the training dataset\n",
    "yhatTrain = manhattan_model.predict(XTrain)\n",
    "contTrain = 0\n",
    "\n",
    "# Comparing with the Target column and check how many hits there have been\n",
    "for i in range(0,len(yTrain),1) :\n",
    "    if (yhatTrain[i] == yTrain[i]):\n",
    "        contTrain = contTrain + 1"
   ]
  },
  {
   "cell_type": "code",
   "execution_count": 27,
   "metadata": {},
   "outputs": [],
   "source": [
    "# Making predictions with the optimal model on the test dataset\n",
    "mayhatTest = manhattan_model.predict(XTest)\n",
    "contTest = 0\n",
    "\n",
    "# Comparing with the Target column and check how many hits there have been\n",
    "for i in range(0,len(yTest),1) :\n",
    "    if (mayhatTest[i] == yTest[i]):\n",
    "        contTest = contTest + 1"
   ]
  },
  {
   "cell_type": "code",
   "execution_count": 28,
   "metadata": {},
   "outputs": [
    {
     "name": "stdout",
     "output_type": "stream",
     "text": [
      "Precisión final en el conjunto de datos de entrenamiento (manhattan): 0.5972222222222222\n",
      "Precisión final en el conjunto de datos de prueba (manhattan): 0.3783783783783784\n"
     ]
    }
   ],
   "source": [
    "print('Precisión final en el conjunto de datos de entrenamiento (manhattan): ' + str(contTrain/len(yTrain)))\n",
    "print('Precisión final en el conjunto de datos de prueba (manhattan): ' + str(contTest/len(yTest)))"
   ]
  },
  {
   "cell_type": "code",
   "execution_count": 29,
   "metadata": {},
   "outputs": [
    {
     "name": "stdout",
     "output_type": "stream",
     "text": [
      "----------------Confusion Matrix (Training)------------------\n",
      "[[51  4 12]\n",
      " [13 10  2]\n",
      " [18  9 25]]\n",
      "Input data:  [1 0 2 0 2 2 0 0 2 0 2 0 1 0 2 2 0 2 2 2 0 0 0 2 0 0 0 0 1 1 2 2 2 2 0 1 2\n",
      " 0 0 2 1 2 2 1 0 0 2 2 1 0 0 0 2 0 0 2 0 2 1 2 0 2 1 0 0 0 0 2 2 2 0 2 0 0\n",
      " 0 2 0 2 0 0 0 1 2 0 0 1 2 2 1 1 0 2 0 2 0 0 1 0 1 0 0 2 0 0 2 2 2 1 0 2 2\n",
      " 1 2 0 1 0 0 0 2 0 1 0 2 0 0 2 1 1 0 0 0 2 0 1 0 0 0 2 2 2 1 2 0 1]\n",
      "Prediction:        [0 0 0 0 2 2 0 0 0 0 2 1 0 0 1 1 0 0 2 2 2 0 0 2 0 0 0 0 0 0 1 2 0 0 2 1 2\n",
      " 2 0 0 0 0 2 0 2 0 1 0 1 0 2 1 2 0 0 0 1 1 1 2 0 0 1 2 0 0 0 2 2 2 2 0 1 0\n",
      " 0 2 0 2 0 0 0 1 0 0 0 1 1 0 0 1 0 0 0 2 2 2 0 0 0 0 0 0 0 0 1 1 2 1 0 2 2\n",
      " 2 2 0 0 0 0 0 0 2 1 0 1 0 0 2 1 0 0 0 2 0 0 0 0 2 0 2 2 2 0 0 0 2]\n"
     ]
    }
   ],
   "source": [
    "from sklearn.metrics import classification_report,confusion_matrix\n",
    "\n",
    "print('----------------Confusion Matrix (Training)------------------')\n",
    "print(confusion_matrix(yTrain,yhatTrain))\n",
    "print('Input data:  ' + str(np.array(yTrain)))\n",
    "print('Prediction:        ' +str(yhatTrain))"
   ]
  },
  {
   "cell_type": "code",
   "execution_count": 30,
   "metadata": {},
   "outputs": [
    {
     "name": "stdout",
     "output_type": "stream",
     "text": [
      "              precision    recall  f1-score   support\n",
      "\n",
      "           0       0.62      0.76      0.68        67\n",
      "           1       0.43      0.40      0.42        25\n",
      "           2       0.64      0.48      0.55        52\n",
      "\n",
      "    accuracy                           0.60       144\n",
      "   macro avg       0.57      0.55      0.55       144\n",
      "weighted avg       0.60      0.60      0.59       144\n",
      "\n"
     ]
    }
   ],
   "source": [
    "print(classification_report(yTrain,yhatTrain))"
   ]
  },
  {
   "cell_type": "code",
   "execution_count": 31,
   "metadata": {},
   "outputs": [
    {
     "name": "stdout",
     "output_type": "stream",
     "text": [
      "----------------Confusion Matrix (Test)------------------\n",
      "[[10  4  4]\n",
      " [ 5  0  1]\n",
      " [ 8  1  4]]\n",
      "Input data:  [0 1 0 2 0 2 1 0 1 0 2 2 1 2 2 0 1 2 0 0 0 2 1 0 0 2 0 2 2 0 0 0 2 2 0 0 0]\n",
      "Prediction:        [0 0 0 0 0 2 2 2 0 1 0 1 0 2 2 1 0 2 0 1 2 0 0 0 1 0 0 0 0 2 0 0 0 0 2 0 0]\n"
     ]
    }
   ],
   "source": [
    "from sklearn.metrics import confusion_matrix\n",
    "confusion_matrix = confusion_matrix(yTest, mayhatTest)\n",
    "print('----------------Confusion Matrix (Test)------------------')\n",
    "print(confusion_matrix)\n",
    "print('Input data:  ' + str(np.array(yTest)))\n",
    "print('Prediction:        ' +str(mayhatTest))"
   ]
  },
  {
   "cell_type": "code",
   "execution_count": 32,
   "metadata": {},
   "outputs": [
    {
     "name": "stdout",
     "output_type": "stream",
     "text": [
      "              precision    recall  f1-score   support\n",
      "\n",
      "           0       0.43      0.56      0.49        18\n",
      "           1       0.00      0.00      0.00         6\n",
      "           2       0.44      0.31      0.36        13\n",
      "\n",
      "    accuracy                           0.38        37\n",
      "   macro avg       0.29      0.29      0.28        37\n",
      "weighted avg       0.37      0.38      0.37        37\n",
      "\n"
     ]
    }
   ],
   "source": [
    "print(classification_report(yTest, mayhatTest))"
   ]
  }
 ],
 "metadata": {
  "kernelspec": {
   "display_name": "Python 3.9.13 64-bit (microsoft store)",
   "language": "python",
   "name": "python3"
  },
  "language_info": {
   "codemirror_mode": {
    "name": "ipython",
    "version": 3
   },
   "file_extension": ".py",
   "mimetype": "text/x-python",
   "name": "python",
   "nbconvert_exporter": "python",
   "pygments_lexer": "ipython3",
   "version": "3.9.13"
  },
  "orig_nbformat": 4,
  "vscode": {
   "interpreter": {
    "hash": "fb15f1e0f376981e7b6e1fc44ae8b8146823f10f258bcd6e448b0230b889fc06"
   }
  }
 },
 "nbformat": 4,
 "nbformat_minor": 2
}
