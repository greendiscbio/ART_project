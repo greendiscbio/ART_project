{
 "cells": [
  {
   "cell_type": "markdown",
   "metadata": {},
   "source": [
    "# Classification model using Decision Tree"
   ]
  },
  {
   "cell_type": "markdown",
   "metadata": {},
   "source": [
    "### 1. Import libraries"
   ]
  },
  {
   "cell_type": "code",
   "execution_count": 1,
   "metadata": {},
   "outputs": [],
   "source": [
    "import pandas as pd\n",
    "import numpy as np\n",
    "import matplotlib.pyplot as plt\n",
    "from sklearn.linear_model import LogisticRegression\n",
    "from sklearn.model_selection import train_test_split\n",
    "from sklearn import model_selection\n",
    "from sklearn.metrics import classification_report\n",
    "from sklearn.metrics import confusion_matrix\n",
    "from sklearn.model_selection import GridSearchCV"
   ]
  },
  {
   "cell_type": "markdown",
   "metadata": {},
   "source": [
    "### 2. Upload Clinic data"
   ]
  },
  {
   "cell_type": "code",
   "execution_count": 2,
   "metadata": {},
   "outputs": [
    {
     "data": {
      "text/html": [
       "<div>\n",
       "<style scoped>\n",
       "    .dataframe tbody tr th:only-of-type {\n",
       "        vertical-align: middle;\n",
       "    }\n",
       "\n",
       "    .dataframe tbody tr th {\n",
       "        vertical-align: top;\n",
       "    }\n",
       "\n",
       "    .dataframe thead th {\n",
       "        text-align: right;\n",
       "    }\n",
       "</style>\n",
       "<table border=\"1\" class=\"dataframe\">\n",
       "  <thead>\n",
       "    <tr style=\"text-align: right;\">\n",
       "      <th></th>\n",
       "      <th>Unnamed: 0</th>\n",
       "      <th>RNA_ID</th>\n",
       "      <th>Age</th>\n",
       "      <th>Sarc</th>\n",
       "      <th>Rhab</th>\n",
       "      <th>Number_of_Prior_Therapies</th>\n",
       "      <th>Days_from_TumorSample_Collection_and_Start_of_Trial_Therapy</th>\n",
       "      <th>Tumor_Shrinkage</th>\n",
       "      <th>PFS</th>\n",
       "      <th>TM_TC_Ratio</th>\n",
       "      <th>...</th>\n",
       "      <th>IL25</th>\n",
       "      <th>LANCL1-AS1</th>\n",
       "      <th>LEMD1</th>\n",
       "      <th>PCMT1</th>\n",
       "      <th>RP11-120J4.1</th>\n",
       "      <th>RP11-374M1.2</th>\n",
       "      <th>SDR42E1</th>\n",
       "      <th>TARBP2</th>\n",
       "      <th>TRIM43B</th>\n",
       "      <th>VN2R17P</th>\n",
       "    </tr>\n",
       "  </thead>\n",
       "  <tbody>\n",
       "    <tr>\n",
       "      <th>0</th>\n",
       "      <td>0</td>\n",
       "      <td>G138701_RCCBMS-00097-T_v1_RNA_OnPrem</td>\n",
       "      <td>62.0</td>\n",
       "      <td>0.0</td>\n",
       "      <td>0.0</td>\n",
       "      <td>2.0</td>\n",
       "      <td>707.0</td>\n",
       "      <td>0.0</td>\n",
       "      <td>5.490411</td>\n",
       "      <td>1.374775</td>\n",
       "      <td>...</td>\n",
       "      <td>0.693666</td>\n",
       "      <td>0.817111</td>\n",
       "      <td>0.678721</td>\n",
       "      <td>0.936250</td>\n",
       "      <td>0.663654</td>\n",
       "      <td>0.786407</td>\n",
       "      <td>1.000000</td>\n",
       "      <td>0.912529</td>\n",
       "      <td>0.587310</td>\n",
       "      <td>0.863040</td>\n",
       "    </tr>\n",
       "    <tr>\n",
       "      <th>1</th>\n",
       "      <td>1</td>\n",
       "      <td>G138701_RCCBMS-00099-T_v1_RNA_OnPrem</td>\n",
       "      <td>62.0</td>\n",
       "      <td>0.0</td>\n",
       "      <td>0.0</td>\n",
       "      <td>3.0</td>\n",
       "      <td>707.0</td>\n",
       "      <td>0.0</td>\n",
       "      <td>1.249315</td>\n",
       "      <td>1.374775</td>\n",
       "      <td>...</td>\n",
       "      <td>0.693666</td>\n",
       "      <td>0.817111</td>\n",
       "      <td>0.926248</td>\n",
       "      <td>0.958908</td>\n",
       "      <td>0.663654</td>\n",
       "      <td>0.786407</td>\n",
       "      <td>0.694015</td>\n",
       "      <td>0.903036</td>\n",
       "      <td>0.587310</td>\n",
       "      <td>0.863040</td>\n",
       "    </tr>\n",
       "    <tr>\n",
       "      <th>2</th>\n",
       "      <td>2</td>\n",
       "      <td>G138701_RCCBMS-00163-T_v1_RNA_OnPrem</td>\n",
       "      <td>62.0</td>\n",
       "      <td>0.0</td>\n",
       "      <td>0.0</td>\n",
       "      <td>2.0</td>\n",
       "      <td>707.0</td>\n",
       "      <td>0.0</td>\n",
       "      <td>5.654795</td>\n",
       "      <td>1.374775</td>\n",
       "      <td>...</td>\n",
       "      <td>0.693666</td>\n",
       "      <td>0.817111</td>\n",
       "      <td>0.880799</td>\n",
       "      <td>0.922139</td>\n",
       "      <td>0.663654</td>\n",
       "      <td>0.786407</td>\n",
       "      <td>0.869025</td>\n",
       "      <td>0.898032</td>\n",
       "      <td>0.587310</td>\n",
       "      <td>0.863040</td>\n",
       "    </tr>\n",
       "    <tr>\n",
       "      <th>3</th>\n",
       "      <td>3</td>\n",
       "      <td>G138701_RCCBMS-00116-T_v1_RNA_OnPrem</td>\n",
       "      <td>62.0</td>\n",
       "      <td>0.0</td>\n",
       "      <td>0.0</td>\n",
       "      <td>2.0</td>\n",
       "      <td>707.0</td>\n",
       "      <td>0.0</td>\n",
       "      <td>1.216438</td>\n",
       "      <td>1.374775</td>\n",
       "      <td>...</td>\n",
       "      <td>0.686828</td>\n",
       "      <td>0.794290</td>\n",
       "      <td>0.894078</td>\n",
       "      <td>0.921230</td>\n",
       "      <td>0.650857</td>\n",
       "      <td>0.772962</td>\n",
       "      <td>0.931136</td>\n",
       "      <td>0.873870</td>\n",
       "      <td>0.564337</td>\n",
       "      <td>0.855268</td>\n",
       "    </tr>\n",
       "    <tr>\n",
       "      <th>4</th>\n",
       "      <td>4</td>\n",
       "      <td>G138701_RCCBMS-00136-T_v1_RNA_OnPrem</td>\n",
       "      <td>62.0</td>\n",
       "      <td>0.0</td>\n",
       "      <td>0.0</td>\n",
       "      <td>2.0</td>\n",
       "      <td>707.0</td>\n",
       "      <td>0.0</td>\n",
       "      <td>2.860274</td>\n",
       "      <td>1.374775</td>\n",
       "      <td>...</td>\n",
       "      <td>0.689921</td>\n",
       "      <td>0.983649</td>\n",
       "      <td>0.802636</td>\n",
       "      <td>0.929383</td>\n",
       "      <td>0.793946</td>\n",
       "      <td>0.776255</td>\n",
       "      <td>0.902087</td>\n",
       "      <td>0.896762</td>\n",
       "      <td>0.552830</td>\n",
       "      <td>0.857563</td>\n",
       "    </tr>\n",
       "  </tbody>\n",
       "</table>\n",
       "<p>5 rows × 42 columns</p>\n",
       "</div>"
      ],
      "text/plain": [
       "   Unnamed: 0                                RNA_ID   Age  Sarc  Rhab  \\\n",
       "0           0  G138701_RCCBMS-00097-T_v1_RNA_OnPrem  62.0   0.0   0.0   \n",
       "1           1  G138701_RCCBMS-00099-T_v1_RNA_OnPrem  62.0   0.0   0.0   \n",
       "2           2  G138701_RCCBMS-00163-T_v1_RNA_OnPrem  62.0   0.0   0.0   \n",
       "3           3  G138701_RCCBMS-00116-T_v1_RNA_OnPrem  62.0   0.0   0.0   \n",
       "4           4  G138701_RCCBMS-00136-T_v1_RNA_OnPrem  62.0   0.0   0.0   \n",
       "\n",
       "   Number_of_Prior_Therapies  \\\n",
       "0                        2.0   \n",
       "1                        3.0   \n",
       "2                        2.0   \n",
       "3                        2.0   \n",
       "4                        2.0   \n",
       "\n",
       "   Days_from_TumorSample_Collection_and_Start_of_Trial_Therapy  \\\n",
       "0                                              707.0             \n",
       "1                                              707.0             \n",
       "2                                              707.0             \n",
       "3                                              707.0             \n",
       "4                                              707.0             \n",
       "\n",
       "   Tumor_Shrinkage       PFS  TM_TC_Ratio  ...      IL25  LANCL1-AS1  \\\n",
       "0              0.0  5.490411     1.374775  ...  0.693666    0.817111   \n",
       "1              0.0  1.249315     1.374775  ...  0.693666    0.817111   \n",
       "2              0.0  5.654795     1.374775  ...  0.693666    0.817111   \n",
       "3              0.0  1.216438     1.374775  ...  0.686828    0.794290   \n",
       "4              0.0  2.860274     1.374775  ...  0.689921    0.983649   \n",
       "\n",
       "      LEMD1     PCMT1  RP11-120J4.1  RP11-374M1.2   SDR42E1    TARBP2  \\\n",
       "0  0.678721  0.936250      0.663654      0.786407  1.000000  0.912529   \n",
       "1  0.926248  0.958908      0.663654      0.786407  0.694015  0.903036   \n",
       "2  0.880799  0.922139      0.663654      0.786407  0.869025  0.898032   \n",
       "3  0.894078  0.921230      0.650857      0.772962  0.931136  0.873870   \n",
       "4  0.802636  0.929383      0.793946      0.776255  0.902087  0.896762   \n",
       "\n",
       "    TRIM43B   VN2R17P  \n",
       "0  0.587310  0.863040  \n",
       "1  0.587310  0.863040  \n",
       "2  0.587310  0.863040  \n",
       "3  0.564337  0.855268  \n",
       "4  0.552830  0.857563  \n",
       "\n",
       "[5 rows x 42 columns]"
      ]
     },
     "execution_count": 2,
     "metadata": {},
     "output_type": "execute_result"
    }
   ],
   "source": [
    "path =\"../../../../Data_preprocessing\\RNA post_autoencoder+Clinic joined\\Clinical_data_and_RNA_15_Features_PFS.csv\"\n",
    "data = pd.read_csv(path)\n",
    "data.head()"
   ]
  },
  {
   "cell_type": "code",
   "execution_count": 3,
   "metadata": {},
   "outputs": [
    {
     "name": "stdout",
     "output_type": "stream",
     "text": [
      "      Age  Sarc  Rhab  Number_of_Prior_Therapies  \\\n",
      "0    62.0   0.0   0.0                        2.0   \n",
      "1    62.0   0.0   0.0                        3.0   \n",
      "2    62.0   0.0   0.0                        2.0   \n",
      "3    62.0   0.0   0.0                        2.0   \n",
      "4    62.0   0.0   0.0                        2.0   \n",
      "..    ...   ...   ...                        ...   \n",
      "139  62.0   0.0   0.0                        1.0   \n",
      "140  62.0   0.0   0.0                        1.0   \n",
      "141  62.0   0.0   0.0                        1.0   \n",
      "142  62.0   0.0   0.0                        1.0   \n",
      "143  62.0   0.0   0.0                        1.0   \n",
      "\n",
      "     Days_from_TumorSample_Collection_and_Start_of_Trial_Therapy  \\\n",
      "0                                                707.0             \n",
      "1                                                707.0             \n",
      "2                                                707.0             \n",
      "3                                                707.0             \n",
      "4                                                707.0             \n",
      "..                                                 ...             \n",
      "139                                              707.0             \n",
      "140                                              707.0             \n",
      "141                                              707.0             \n",
      "142                                              707.0             \n",
      "143                                              707.0             \n",
      "\n",
      "     Tumor_Shrinkage  TM_TC_Ratio  Cohort_CM-009  Cohort_CM-010  \\\n",
      "0                0.0     1.374775              0              1   \n",
      "1                0.0     1.374775              0              1   \n",
      "2                0.0     1.374775              0              1   \n",
      "3                0.0     1.374775              0              1   \n",
      "4                0.0     1.374775              0              1   \n",
      "..               ...          ...            ...            ...   \n",
      "139              0.0     1.374775              1              0   \n",
      "140              0.0     1.374775              1              0   \n",
      "141              0.0     1.374775              1              0   \n",
      "142              0.0     1.374775              1              0   \n",
      "143              0.0     1.374775              1              0   \n",
      "\n",
      "     Cohort_CM-025  ...      IL25  LANCL1-AS1     LEMD1     PCMT1  \\\n",
      "0                0  ...  0.693666    0.817111  0.678721  0.936250   \n",
      "1                0  ...  0.693666    0.817111  0.926248  0.958908   \n",
      "2                0  ...  0.693666    0.817111  0.880799  0.922139   \n",
      "3                0  ...  0.686828    0.794290  0.894078  0.921230   \n",
      "4                0  ...  0.689921    0.983649  0.802636  0.929383   \n",
      "..             ...  ...       ...         ...       ...       ...   \n",
      "139              0  ...  0.705406    0.997101  0.644343  0.937150   \n",
      "140              0  ...  0.693666    0.817111  0.678721  0.968251   \n",
      "141              0  ...  0.689921    0.802026  0.647819  0.978000   \n",
      "142              0  ...  0.689921    0.802026  0.647819  0.946455   \n",
      "143              0  ...  0.773156    0.945620  0.647819  0.948471   \n",
      "\n",
      "     RP11-120J4.1  RP11-374M1.2   SDR42E1    TARBP2   TRIM43B   VN2R17P  \n",
      "0        0.663654      0.786407  1.000000  0.912529  0.587310  0.863040  \n",
      "1        0.663654      0.786407  0.694015  0.903036  0.587310  0.863040  \n",
      "2        0.663654      0.786407  0.869025  0.898032  0.587310  0.863040  \n",
      "3        0.650857      0.772962  0.931136  0.873870  0.564337  0.855268  \n",
      "4        0.793946      0.776255  0.902087  0.896762  0.552830  0.857563  \n",
      "..            ...           ...       ...       ...       ...       ...  \n",
      "139      0.670927      0.780787  0.890699  0.871203  0.598319  0.856523  \n",
      "140      0.663654      0.786407  0.694015  0.919896  0.587310  0.863040  \n",
      "141      0.647013      0.776255  0.620207  0.889800  0.552830  0.857563  \n",
      "142      0.647013      0.776255  0.938378  0.939528  0.736171  0.857563  \n",
      "143      0.647013      0.879132  0.836112  0.915483  0.623205  0.857563  \n",
      "\n",
      "[144 rows x 39 columns]\n",
      "Number of patients:  144\n"
     ]
    }
   ],
   "source": [
    "Y = [] # Target column\n",
    "# For each entry I classified it by its PFS value.\n",
    "for i in range (len(data)):\n",
    "    if data.PFS[i]<3: # If PFS is lower than 3 months, I will consider it as NonResponder (NR)\n",
    "        Y.append(0)\n",
    "    elif data.PFS[i]<6: # If PFS is over 6 months, I will consider it as Responder (R)\n",
    "        Y.append(1)\n",
    "    else:\n",
    "        Y.append(2) # If PFS is between 3 and 6 months, I will consider it as SemiResponder (SR)\n",
    "   \n",
    "\n",
    "data = data.drop('PFS', axis=1)\n",
    "data = data.drop('RNA_ID', axis=1)\n",
    "data = data.drop('Unnamed: 0', axis=1)\n",
    "\n",
    "X = data.iloc[:,0:42] \n",
    "# I selected all the columns by removing the Unnamed column (row id) and the Target column.\n",
    "print(X)\n",
    "print('Number of patients: ',len(Y))"
   ]
  },
  {
   "cell_type": "code",
   "execution_count": 4,
   "metadata": {},
   "outputs": [
    {
     "name": "stdout",
     "output_type": "stream",
     "text": [
      "Training set size: 115\n",
      "Target column size of the training set: 115\n",
      "Test set size: 29\n",
      "Target column size of the test set: 29\n"
     ]
    }
   ],
   "source": [
    "X_train, X_test, y_train, y_test = train_test_split(X, Y, test_size=0.2, random_state=125)\n",
    "\n",
    "\n",
    "print('Training set size:', len(X_train))\n",
    "print('Target column size of the training set:', len(y_train))\n",
    "print('Test set size:', len(X_test))\n",
    "print('Target column size of the test set:', len(y_test))"
   ]
  },
  {
   "cell_type": "markdown",
   "metadata": {},
   "source": [
    "### 4. Select the parameters of the model and fit it"
   ]
  },
  {
   "cell_type": "code",
   "execution_count": 5,
   "metadata": {},
   "outputs": [
    {
     "data": {
      "text/plain": [
       "GridSearchCV(cv=5, estimator=LogisticRegression(),\n",
       "             param_grid={'C': [1, 2, 5, 7, 10],\n",
       "                         'max_iter': [20000, 50000, 100000],\n",
       "                         'random_state': [125],\n",
       "                         'solver': ['newton-cg', 'liblinear']})"
      ]
     },
     "execution_count": 5,
     "metadata": {},
     "output_type": "execute_result"
    }
   ],
   "source": [
    "param_grid = {'C': [1,2,5,7,10],\n",
    "            'solver': ['newton-cg','liblinear'],  \n",
    "            'max_iter':[20000,50000,100000],\n",
    "            'random_state':[125]}\n",
    "\n",
    "# Creamos un GridSearchCV que permite evaluar y seleccionar de forma sistemática los parámetros de nuestro modelo. \n",
    "# Indicándole un modelo y los parámetros a probar, puede evaluar el rendimiento del primero en función de los \n",
    "# segundos mediante validación cruzada.  \n",
    "clf = GridSearchCV(LogisticRegression(), param_grid, cv = 5)\n",
    "clf.fit(X_train , y_train)"
   ]
  },
  {
   "cell_type": "code",
   "execution_count": 6,
   "metadata": {},
   "outputs": [
    {
     "name": "stdout",
     "output_type": "stream",
     "text": [
      "Best estimate of parameters according to GridSearchCV:\n"
     ]
    },
    {
     "data": {
      "text/plain": [
       "LogisticRegression(C=1, max_iter=20000, random_state=125, solver='liblinear')"
      ]
     },
     "execution_count": 6,
     "metadata": {},
     "output_type": "execute_result"
    }
   ],
   "source": [
    "print(\"Best estimate of parameters according to GridSearchCV:\")\n",
    "model = clf.best_estimator_\n",
    "# Fit the model with the best parameters\n",
    "model.fit(X_train , y_train)"
   ]
  },
  {
   "cell_type": "code",
   "execution_count": 7,
   "metadata": {},
   "outputs": [
    {
     "name": "stdout",
     "output_type": "stream",
     "text": [
      "Best result of the cross validation of the model with the best paramters:0.5217391304347826\n"
     ]
    }
   ],
   "source": [
    "print(\"Best result of the cross validation of the model with the best paramters:\" +str(clf.best_score_))"
   ]
  },
  {
   "cell_type": "code",
   "execution_count": 8,
   "metadata": {},
   "outputs": [],
   "source": [
    "# Making predictions with the optimal model on the training dataset\n",
    "yhatTrain = model.predict(X_train)\n",
    "contTrain = 0\n",
    "\n",
    "# Comparing with the Target column and check how many hits there have been\n",
    "for i in range(0,len(y_train),1) :\n",
    "    if (yhatTrain[i] == y_train[i]):\n",
    "        contTrain = contTrain + 1"
   ]
  },
  {
   "cell_type": "code",
   "execution_count": 9,
   "metadata": {},
   "outputs": [],
   "source": [
    "# Making predictions with the optimal model on the test dataset\n",
    "yhatTest = model.predict(X_test)\n",
    "contTest = 0\n",
    "\n",
    "# Comparing with the Target column and check how many hits there have been\n",
    "for i in range(0,len(y_test),1) :\n",
    "    if (yhatTest[i] == y_test[i]):\n",
    "        contTest = contTest + 1"
   ]
  },
  {
   "cell_type": "code",
   "execution_count": 10,
   "metadata": {},
   "outputs": [
    {
     "name": "stdout",
     "output_type": "stream",
     "text": [
      "Final accuracy on the training dataset:0.6260869565217392\n",
      "Final accuracy on the testing dataset: 0.6551724137931034\n"
     ]
    }
   ],
   "source": [
    "print('Final accuracy on the training dataset:' + str(contTrain/len(y_train)))\n",
    "print('Final accuracy on the testing dataset: ' + str(contTest/len(y_test)))"
   ]
  },
  {
   "cell_type": "code",
   "execution_count": 11,
   "metadata": {},
   "outputs": [
    {
     "name": "stdout",
     "output_type": "stream",
     "text": [
      "----------------Confusion Matrix (Training)------------------\n",
      "[[66  0  0]\n",
      " [22  5  0]\n",
      " [18  3  1]]\n",
      "Input data:  [0 0 2 2 0 1 0 1 1 1 0 1 0 0 0 0 2 0 0 1 0 0 0 0 0 2 2 2 0 0 0 2 1 0 0 0 2\n",
      " 1 0 0 0 0 2 1 1 0 1 0 1 0 0 2 1 2 0 0 0 0 1 0 2 2 1 0 0 0 0 2 0 2 2 0 0 0\n",
      " 0 2 1 0 0 1 1 0 2 0 0 0 0 2 1 1 0 0 2 1 0 2 0 1 1 0 2 0 0 0 1 0 1 0 0 0 1\n",
      " 0 1 0 0]\n",
      "Prediction:        [0 0 0 0 0 0 0 0 0 0 0 0 0 0 0 0 0 0 0 0 0 0 0 0 0 0 0 0 0 0 0 0 1 0 0 0 2\n",
      " 0 0 0 0 0 0 1 0 0 0 0 0 0 0 0 0 0 0 0 0 0 0 0 1 0 0 0 0 0 0 0 0 0 0 0 0 0\n",
      " 0 1 0 0 0 0 0 0 0 0 0 0 0 1 0 1 0 0 0 1 0 0 0 0 1 0 0 0 0 0 0 0 0 0 0 0 0\n",
      " 0 0 0 0]\n"
     ]
    }
   ],
   "source": [
    "from sklearn.metrics import classification_report,confusion_matrix\n",
    "\n",
    "print('----------------Confusion Matrix (Training)------------------')\n",
    "print(confusion_matrix(y_train,yhatTrain))\n",
    "print('Input data:  ' + str(np.array(y_train)))\n",
    "print('Prediction:        ' +str(yhatTrain))"
   ]
  },
  {
   "cell_type": "code",
   "execution_count": 12,
   "metadata": {},
   "outputs": [
    {
     "name": "stdout",
     "output_type": "stream",
     "text": [
      "              precision    recall  f1-score   support\n",
      "\n",
      "           0       0.62      1.00      0.77        66\n",
      "           1       0.62      0.19      0.29        27\n",
      "           2       1.00      0.05      0.09        22\n",
      "\n",
      "    accuracy                           0.63       115\n",
      "   macro avg       0.75      0.41      0.38       115\n",
      "weighted avg       0.70      0.63      0.52       115\n",
      "\n"
     ]
    }
   ],
   "source": [
    "print(classification_report(y_train,yhatTrain))"
   ]
  },
  {
   "cell_type": "code",
   "execution_count": 13,
   "metadata": {},
   "outputs": [
    {
     "name": "stdout",
     "output_type": "stream",
     "text": [
      "----------------Confusion Matrix (Test)------------------\n",
      "[[19  0  0]\n",
      " [ 4  0  0]\n",
      " [ 4  2  0]]\n",
      "Input data:  [2 0 2 0 0 2 2 0 2 0 0 0 0 1 0 1 0 0 0 0 0 1 0 0 2 0 0 1 0]\n",
      "Prediction:        [0 0 0 0 0 1 0 0 1 0 0 0 0 0 0 0 0 0 0 0 0 0 0 0 0 0 0 0 0]\n"
     ]
    }
   ],
   "source": [
    "print('----------------Confusion Matrix (Test)------------------')\n",
    "print(confusion_matrix(y_test,yhatTest))\n",
    "print('Input data:  ' + str(np.array(y_test)))\n",
    "print('Prediction:        ' +str(yhatTest))"
   ]
  },
  {
   "cell_type": "code",
   "execution_count": 14,
   "metadata": {},
   "outputs": [
    {
     "name": "stdout",
     "output_type": "stream",
     "text": [
      "              precision    recall  f1-score   support\n",
      "\n",
      "           0       0.70      1.00      0.83        19\n",
      "           1       0.00      0.00      0.00         4\n",
      "           2       0.00      0.00      0.00         6\n",
      "\n",
      "    accuracy                           0.66        29\n",
      "   macro avg       0.23      0.33      0.28        29\n",
      "weighted avg       0.46      0.66      0.54        29\n",
      "\n"
     ]
    },
    {
     "name": "stderr",
     "output_type": "stream",
     "text": [
      "C:\\Users\\sandr\\anaconda3\\lib\\site-packages\\sklearn\\metrics\\_classification.py:1245: UndefinedMetricWarning: Precision and F-score are ill-defined and being set to 0.0 in labels with no predicted samples. Use `zero_division` parameter to control this behavior.\n",
      "  _warn_prf(average, modifier, msg_start, len(result))\n",
      "C:\\Users\\sandr\\anaconda3\\lib\\site-packages\\sklearn\\metrics\\_classification.py:1245: UndefinedMetricWarning: Precision and F-score are ill-defined and being set to 0.0 in labels with no predicted samples. Use `zero_division` parameter to control this behavior.\n",
      "  _warn_prf(average, modifier, msg_start, len(result))\n",
      "C:\\Users\\sandr\\anaconda3\\lib\\site-packages\\sklearn\\metrics\\_classification.py:1245: UndefinedMetricWarning: Precision and F-score are ill-defined and being set to 0.0 in labels with no predicted samples. Use `zero_division` parameter to control this behavior.\n",
      "  _warn_prf(average, modifier, msg_start, len(result))\n"
     ]
    }
   ],
   "source": [
    "print(classification_report(y_test, yhatTest))"
   ]
  }
 ],
 "metadata": {
  "interpreter": {
   "hash": "173607e09da2ffe2d433f1218cab6faa8c4cbe5c89eb01ef45bf4a279737dd84"
  },
  "kernelspec": {
   "display_name": "Python 3.8.8 ('base')",
   "language": "python",
   "name": "python3"
  },
  "language_info": {
   "codemirror_mode": {
    "name": "ipython",
    "version": 3
   },
   "file_extension": ".py",
   "mimetype": "text/x-python",
   "name": "python",
   "nbconvert_exporter": "python",
   "pygments_lexer": "ipython3",
   "version": "3.8.8"
  },
  "orig_nbformat": 4
 },
 "nbformat": 4,
 "nbformat_minor": 2
}
