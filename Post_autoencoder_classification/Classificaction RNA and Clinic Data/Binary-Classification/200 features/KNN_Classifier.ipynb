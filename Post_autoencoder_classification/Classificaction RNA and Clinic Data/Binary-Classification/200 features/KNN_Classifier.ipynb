{
 "cells": [
  {
   "cell_type": "markdown",
   "metadata": {},
   "source": [
    "# Classification model using KNN"
   ]
  },
  {
   "cell_type": "markdown",
   "metadata": {},
   "source": [
    "### 1. Import libraries"
   ]
  },
  {
   "cell_type": "code",
   "execution_count": 1,
   "metadata": {},
   "outputs": [],
   "source": [
    "import pandas as pd\n",
    "from sklearn import neighbors\n",
    "import matplotlib.pyplot as plt\n",
    "from sklearn.model_selection import train_test_split\n",
    "from sklearn import neighbors\n",
    "from sklearn.neighbors import KNeighborsClassifier\n",
    "from sklearn.metrics import accuracy_score\n",
    "import numpy as np\n",
    "from scipy.spatial import distance\n",
    "from sklearn import model_selection"
   ]
  },
  {
   "cell_type": "markdown",
   "metadata": {},
   "source": [
    "### 2. Upload Clinic data"
   ]
  },
  {
   "cell_type": "code",
   "execution_count": 2,
   "metadata": {},
   "outputs": [
    {
     "data": {
      "text/html": [
       "<div>\n",
       "<style scoped>\n",
       "    .dataframe tbody tr th:only-of-type {\n",
       "        vertical-align: middle;\n",
       "    }\n",
       "\n",
       "    .dataframe tbody tr th {\n",
       "        vertical-align: top;\n",
       "    }\n",
       "\n",
       "    .dataframe thead th {\n",
       "        text-align: right;\n",
       "    }\n",
       "</style>\n",
       "<table border=\"1\" class=\"dataframe\">\n",
       "  <thead>\n",
       "    <tr style=\"text-align: right;\">\n",
       "      <th></th>\n",
       "      <th>Target</th>\n",
       "      <th>0</th>\n",
       "      <th>1</th>\n",
       "      <th>2</th>\n",
       "      <th>3</th>\n",
       "      <th>4</th>\n",
       "      <th>5</th>\n",
       "      <th>6</th>\n",
       "      <th>7</th>\n",
       "      <th>8</th>\n",
       "      <th>...</th>\n",
       "      <th>190</th>\n",
       "      <th>191</th>\n",
       "      <th>192</th>\n",
       "      <th>193</th>\n",
       "      <th>194</th>\n",
       "      <th>195</th>\n",
       "      <th>196</th>\n",
       "      <th>197</th>\n",
       "      <th>198</th>\n",
       "      <th>199</th>\n",
       "    </tr>\n",
       "  </thead>\n",
       "  <tbody>\n",
       "    <tr>\n",
       "      <th>0</th>\n",
       "      <td>1</td>\n",
       "      <td>0.832239</td>\n",
       "      <td>1.233726</td>\n",
       "      <td>1.140988</td>\n",
       "      <td>2.165680</td>\n",
       "      <td>-1.597017</td>\n",
       "      <td>-0.743907</td>\n",
       "      <td>-0.071826</td>\n",
       "      <td>0.116781</td>\n",
       "      <td>-0.635038</td>\n",
       "      <td>...</td>\n",
       "      <td>0.077455</td>\n",
       "      <td>0.066486</td>\n",
       "      <td>2.200836</td>\n",
       "      <td>2.124988</td>\n",
       "      <td>-0.882250</td>\n",
       "      <td>0.367745</td>\n",
       "      <td>1.330217</td>\n",
       "      <td>0.660291</td>\n",
       "      <td>-0.899856</td>\n",
       "      <td>1.536773</td>\n",
       "    </tr>\n",
       "    <tr>\n",
       "      <th>1</th>\n",
       "      <td>1</td>\n",
       "      <td>-0.137469</td>\n",
       "      <td>-0.010969</td>\n",
       "      <td>0.843637</td>\n",
       "      <td>0.966030</td>\n",
       "      <td>0.409513</td>\n",
       "      <td>-0.847683</td>\n",
       "      <td>-1.006673</td>\n",
       "      <td>0.749325</td>\n",
       "      <td>-1.147702</td>\n",
       "      <td>...</td>\n",
       "      <td>-0.583738</td>\n",
       "      <td>-1.836914</td>\n",
       "      <td>1.908090</td>\n",
       "      <td>1.263731</td>\n",
       "      <td>-1.759173</td>\n",
       "      <td>-0.579072</td>\n",
       "      <td>1.043836</td>\n",
       "      <td>0.452179</td>\n",
       "      <td>0.771279</td>\n",
       "      <td>1.454416</td>\n",
       "    </tr>\n",
       "    <tr>\n",
       "      <th>2</th>\n",
       "      <td>1</td>\n",
       "      <td>-0.405876</td>\n",
       "      <td>0.109203</td>\n",
       "      <td>1.359791</td>\n",
       "      <td>1.225490</td>\n",
       "      <td>-0.138266</td>\n",
       "      <td>-1.679678</td>\n",
       "      <td>0.182724</td>\n",
       "      <td>-0.188638</td>\n",
       "      <td>-1.128553</td>\n",
       "      <td>...</td>\n",
       "      <td>0.342459</td>\n",
       "      <td>-0.801281</td>\n",
       "      <td>2.540216</td>\n",
       "      <td>0.933610</td>\n",
       "      <td>-1.590028</td>\n",
       "      <td>0.056035</td>\n",
       "      <td>1.889005</td>\n",
       "      <td>1.706726</td>\n",
       "      <td>0.912262</td>\n",
       "      <td>1.206671</td>\n",
       "    </tr>\n",
       "    <tr>\n",
       "      <th>3</th>\n",
       "      <td>0</td>\n",
       "      <td>-0.376180</td>\n",
       "      <td>0.196114</td>\n",
       "      <td>0.779141</td>\n",
       "      <td>1.123773</td>\n",
       "      <td>0.374653</td>\n",
       "      <td>-0.947631</td>\n",
       "      <td>-0.892223</td>\n",
       "      <td>0.621932</td>\n",
       "      <td>-0.999321</td>\n",
       "      <td>...</td>\n",
       "      <td>-0.272015</td>\n",
       "      <td>-2.344969</td>\n",
       "      <td>2.089854</td>\n",
       "      <td>1.595235</td>\n",
       "      <td>-1.722826</td>\n",
       "      <td>-0.317329</td>\n",
       "      <td>1.074202</td>\n",
       "      <td>0.198977</td>\n",
       "      <td>0.917910</td>\n",
       "      <td>1.435312</td>\n",
       "    </tr>\n",
       "    <tr>\n",
       "      <th>4</th>\n",
       "      <td>1</td>\n",
       "      <td>-1.964517</td>\n",
       "      <td>1.128601</td>\n",
       "      <td>-0.194799</td>\n",
       "      <td>-1.433777</td>\n",
       "      <td>-0.143446</td>\n",
       "      <td>-1.161713</td>\n",
       "      <td>-2.380596</td>\n",
       "      <td>0.026122</td>\n",
       "      <td>-1.105232</td>\n",
       "      <td>...</td>\n",
       "      <td>0.160001</td>\n",
       "      <td>-1.498763</td>\n",
       "      <td>2.403551</td>\n",
       "      <td>1.303866</td>\n",
       "      <td>-1.757287</td>\n",
       "      <td>0.949241</td>\n",
       "      <td>0.272723</td>\n",
       "      <td>2.771020</td>\n",
       "      <td>1.826682</td>\n",
       "      <td>1.859360</td>\n",
       "    </tr>\n",
       "  </tbody>\n",
       "</table>\n",
       "<p>5 rows × 201 columns</p>\n",
       "</div>"
      ],
      "text/plain": [
       "   Target         0         1         2         3         4         5  \\\n",
       "0       1  0.832239  1.233726  1.140988  2.165680 -1.597017 -0.743907   \n",
       "1       1 -0.137469 -0.010969  0.843637  0.966030  0.409513 -0.847683   \n",
       "2       1 -0.405876  0.109203  1.359791  1.225490 -0.138266 -1.679678   \n",
       "3       0 -0.376180  0.196114  0.779141  1.123773  0.374653 -0.947631   \n",
       "4       1 -1.964517  1.128601 -0.194799 -1.433777 -0.143446 -1.161713   \n",
       "\n",
       "          6         7         8  ...       190       191       192       193  \\\n",
       "0 -0.071826  0.116781 -0.635038  ...  0.077455  0.066486  2.200836  2.124988   \n",
       "1 -1.006673  0.749325 -1.147702  ... -0.583738 -1.836914  1.908090  1.263731   \n",
       "2  0.182724 -0.188638 -1.128553  ...  0.342459 -0.801281  2.540216  0.933610   \n",
       "3 -0.892223  0.621932 -0.999321  ... -0.272015 -2.344969  2.089854  1.595235   \n",
       "4 -2.380596  0.026122 -1.105232  ...  0.160001 -1.498763  2.403551  1.303866   \n",
       "\n",
       "        194       195       196       197       198       199  \n",
       "0 -0.882250  0.367745  1.330217  0.660291 -0.899856  1.536773  \n",
       "1 -1.759173 -0.579072  1.043836  0.452179  0.771279  1.454416  \n",
       "2 -1.590028  0.056035  1.889005  1.706726  0.912262  1.206671  \n",
       "3 -1.722826 -0.317329  1.074202  0.198977  0.917910  1.435312  \n",
       "4 -1.757287  0.949241  0.272723  2.771020  1.826682  1.859360  \n",
       "\n",
       "[5 rows x 201 columns]"
      ]
     },
     "execution_count": 2,
     "metadata": {},
     "output_type": "execute_result"
    }
   ],
   "source": [
    "path =\"../../../../Data_preprocessing/RNA_post_autoencoder/encoded_data_binary_200.csv\"\n",
    "data = pd.read_csv(path)\n",
    "data.reset_index\n",
    "data.round(4)\n",
    "data=data.iloc[:,1:202 ] \n",
    "data.head()"
   ]
  },
  {
   "cell_type": "code",
   "execution_count": 3,
   "metadata": {},
   "outputs": [
    {
     "name": "stdout",
     "output_type": "stream",
     "text": [
      "            0         1         2         3         4         5         6  \\\n",
      "0    0.832239  1.233726  1.140988  2.165680 -1.597017 -0.743907 -0.071826   \n",
      "1   -0.137469 -0.010969  0.843637  0.966030  0.409513 -0.847683 -1.006673   \n",
      "2   -0.405876  0.109203  1.359791  1.225490 -0.138266 -1.679678  0.182724   \n",
      "3   -0.376180  0.196114  0.779141  1.123773  0.374653 -0.947631 -0.892223   \n",
      "4   -1.964517  1.128601 -0.194799 -1.433777 -0.143446 -1.161713 -2.380596   \n",
      "..        ...       ...       ...       ...       ...       ...       ...   \n",
      "176 -0.442013  0.276400  0.702629  0.145038  0.253912 -1.027387 -0.954011   \n",
      "177  0.122423  0.435671  1.195094  1.099650 -0.651924 -1.125421 -0.957930   \n",
      "178 -0.338142  0.528099  0.594873  0.742365 -0.105854 -1.069006 -0.974031   \n",
      "179  0.151963  0.431527  0.093600  0.226152 -0.943175 -1.319361 -1.243683   \n",
      "180 -0.074435  0.889761  1.095850  0.759461 -0.669753 -0.916490 -0.742355   \n",
      "\n",
      "            7         8         9  ...       190       191       192  \\\n",
      "0    0.116781 -0.635038  0.548923  ...  0.077455  0.066486  2.200836   \n",
      "1    0.749325 -1.147702  0.098439  ... -0.583738 -1.836914  1.908090   \n",
      "2   -0.188638 -1.128553 -0.158276  ...  0.342459 -0.801281  2.540216   \n",
      "3    0.621932 -0.999321 -0.351488  ... -0.272015 -2.344969  2.089854   \n",
      "4    0.026122 -1.105232 -1.895611  ...  0.160001 -1.498763  2.403551   \n",
      "..        ...       ...       ...  ...       ...       ...       ...   \n",
      "176  0.681825 -1.122671 -0.146015  ... -0.622276 -0.996579  2.183693   \n",
      "177  0.071794 -0.907884 -0.915887  ...  0.713566 -1.783126  2.620683   \n",
      "178  0.033968 -1.049163 -0.139647  ... -0.064509 -0.176194  2.319744   \n",
      "179  0.791549 -1.067336  0.581175  ... -1.036042 -0.832720  2.438087   \n",
      "180 -0.091989 -1.180757 -0.684140  ...  0.510227 -0.909601  2.493090   \n",
      "\n",
      "          193       194       195       196       197       198       199  \n",
      "0    2.124988 -0.882250  0.367745  1.330217  0.660291 -0.899856  1.536773  \n",
      "1    1.263731 -1.759173 -0.579072  1.043836  0.452179  0.771279  1.454416  \n",
      "2    0.933610 -1.590028  0.056035  1.889005  1.706726  0.912262  1.206671  \n",
      "3    1.595235 -1.722826 -0.317329  1.074202  0.198977  0.917910  1.435312  \n",
      "4    1.303866 -1.757287  0.949241  0.272723  2.771020  1.826682  1.859360  \n",
      "..        ...       ...       ...       ...       ...       ...       ...  \n",
      "176  1.407046 -1.835858  0.038548  0.944488  1.428036  0.897753  1.317829  \n",
      "177  1.726230 -1.587190  0.388223  0.827569  0.461413  0.959736  1.543489  \n",
      "178  1.450573 -1.922804  0.924834  1.011755  1.676499  0.528183  1.373469  \n",
      "179  0.863552 -1.618766  0.002527  0.192175  1.809151  0.257342  1.017938  \n",
      "180  1.693442 -1.744715  0.995943  0.847521  1.176593  0.333622  1.856898  \n",
      "\n",
      "[181 rows x 200 columns]\n",
      "Numero de pacientes:  181\n"
     ]
    }
   ],
   "source": [
    "Y = data.Target # Target column\n",
    "\n",
    "X = data.iloc[:,1:202] # I selected all the columns by removing the Unnamed column (row id) and the Target column.\n",
    "\n",
    "print(X)\n",
    "print('Numero de pacientes: ',len(Y))"
   ]
  },
  {
   "cell_type": "markdown",
   "metadata": {},
   "source": [
    "### 3. Train-Test dataset split"
   ]
  },
  {
   "cell_type": "code",
   "execution_count": 4,
   "metadata": {},
   "outputs": [
    {
     "name": "stdout",
     "output_type": "stream",
     "text": [
      "Training set size: 144\n",
      "Target column size of the training set: 144\n",
      "Test set size: 37\n",
      "Target column size of the test set: 37\n"
     ]
    }
   ],
   "source": [
    "XTrain, XTest, yTrain, yTest = train_test_split(X, Y, test_size=0.20, random_state=125, stratify=Y)\n",
    "\n",
    "print('Training set size:', len(XTrain))\n",
    "print('Target column size of the training set:', len(yTrain))\n",
    "print('Test set size:', len(XTest))\n",
    "print('Target column size of the test set:', len(yTest))"
   ]
  },
  {
   "cell_type": "markdown",
   "metadata": {},
   "source": [
    "### 4. Study the best value for K"
   ]
  },
  {
   "cell_type": "code",
   "execution_count": 5,
   "metadata": {},
   "outputs": [
    {
     "name": "stdout",
     "output_type": "stream",
     "text": [
      "Best accuracy is obtained with k = 6 and is: 0.5135\n"
     ]
    }
   ],
   "source": [
    "neighbors = list(range(1,8))\n",
    "cek = []\n",
    "list_accuracy = []\n",
    "best_acuracy = 0\n",
    "best_k = 0\n",
    "for k in neighbors:\n",
    "    knn = KNeighborsClassifier(n_neighbors=k)\n",
    "    pred = knn.fit(XTrain, yTrain).predict(XTest)\n",
    "    if accuracy_score(yTest, pred) >= best_acuracy:\n",
    "        best_k = k\n",
    "        best_acuracy=accuracy_score(yTest, pred)\n",
    "    list_accuracy.append(accuracy_score(yTest, pred))\n",
    "\n",
    "print(\"Best accuracy is obtained with k = \" + str(best_k)+ \" and is: %.4f\" % (best_acuracy))\n"
   ]
  },
  {
   "cell_type": "code",
   "execution_count": 6,
   "metadata": {},
   "outputs": [
    {
     "name": "stderr",
     "output_type": "stream",
     "text": [
      "C:\\Users\\sandr\\AppData\\Local\\Temp/ipykernel_14740/3738168230.py:1: UserWarning: color is redundantly defined by the 'color' keyword argument and the fmt string \"ro\" (-> color='r'). The keyword argument will take precedence.\n",
      "  plt.plot(np.append(np.roll(list_accuracy,1),list_accuracy[6]),'ro', color='r', linestyle='dashed',linewidth=1.0, label=\"Graph2\")\n",
      "C:\\Users\\sandr\\AppData\\Local\\Temp/ipykernel_14740/3738168230.py:3: UserWarning: color is redundantly defined by the 'color' keyword argument and the fmt string \"ro\" (-> color='r'). The keyword argument will take precedence.\n",
      "  plt.plot(best_k, best_acuracy, 'ro', color ='g')\n"
     ]
    },
    {
     "data": {
      "image/png": "[encoded data removed]",
      "text/plain": [
       "<Figure size 432x288 with 1 Axes>"
      ]
     },
     "metadata": {
      "needs_background": "light"
     },
     "output_type": "display_data"
    }
   ],
   "source": [
    "plt.plot(np.append(np.roll(list_accuracy,1),list_accuracy[6]),'ro', color='r', linestyle='dashed',linewidth=1.0, label=\"Graph2\")\n",
    "# Green dot represent best K value\n",
    "plt.plot(best_k, best_acuracy, 'ro', color ='g')\n",
    "plt.axis([1, 7, 0.5, 1])\n",
    "plt.xlabel('K')\n",
    "plt.ylabel('Accuracy')\n",
    "\n",
    "plt.grid()\n",
    "plt.show()"
   ]
  },
  {
   "cell_type": "markdown",
   "metadata": {},
   "source": [
    "### 5. Best metric study (manhattan or euclidean)"
   ]
  },
  {
   "cell_type": "code",
   "execution_count": 7,
   "metadata": {},
   "outputs": [
    {
     "data": {
      "text/plain": [
       "KNeighborsClassifier(metric=<function cityblock at 0x0000025B931DD280>,\n",
       "                     n_neighbors=6)"
      ]
     },
     "execution_count": 7,
     "metadata": {},
     "output_type": "execute_result"
    }
   ],
   "source": [
    "# Estudio de la mejor métrica\n",
    "from sklearn import neighbors\n",
    "# Euclidean distance model\n",
    "euclid_model = KNeighborsClassifier(n_neighbors=best_k, metric=distance.sqeuclidean)\n",
    "euclid_model.fit(XTrain,yTrain) \n",
    "\n",
    "# Manhattan distance model\n",
    "manhattan_model = KNeighborsClassifier(n_neighbors=best_k, metric=distance.cityblock) \n",
    "manhattan_model.fit(XTrain, yTrain)"
   ]
  },
  {
   "cell_type": "code",
   "execution_count": 8,
   "metadata": {},
   "outputs": [
    {
     "data": {
      "text/html": [
       "<div>\n",
       "<style scoped>\n",
       "    .dataframe tbody tr th:only-of-type {\n",
       "        vertical-align: middle;\n",
       "    }\n",
       "\n",
       "    .dataframe tbody tr th {\n",
       "        vertical-align: top;\n",
       "    }\n",
       "\n",
       "    .dataframe thead th {\n",
       "        text-align: right;\n",
       "    }\n",
       "</style>\n",
       "<table border=\"1\" class=\"dataframe\">\n",
       "  <thead>\n",
       "    <tr style=\"text-align: right;\">\n",
       "      <th></th>\n",
       "      <th>actual</th>\n",
       "      <th>manhattan</th>\n",
       "      <th>euclid</th>\n",
       "    </tr>\n",
       "  </thead>\n",
       "  <tbody>\n",
       "    <tr>\n",
       "      <th>155</th>\n",
       "      <td>0</td>\n",
       "      <td>1</td>\n",
       "      <td>1</td>\n",
       "    </tr>\n",
       "    <tr>\n",
       "      <th>18</th>\n",
       "      <td>1</td>\n",
       "      <td>0</td>\n",
       "      <td>0</td>\n",
       "    </tr>\n",
       "    <tr>\n",
       "      <th>143</th>\n",
       "      <td>0</td>\n",
       "      <td>1</td>\n",
       "      <td>1</td>\n",
       "    </tr>\n",
       "    <tr>\n",
       "      <th>136</th>\n",
       "      <td>1</td>\n",
       "      <td>1</td>\n",
       "      <td>1</td>\n",
       "    </tr>\n",
       "    <tr>\n",
       "      <th>84</th>\n",
       "      <td>0</td>\n",
       "      <td>0</td>\n",
       "      <td>0</td>\n",
       "    </tr>\n",
       "  </tbody>\n",
       "</table>\n",
       "</div>"
      ],
      "text/plain": [
       "     actual  manhattan  euclid\n",
       "155       0          1       1\n",
       "18        1          0       0\n",
       "143       0          1       1\n",
       "136       1          1       1\n",
       "84        0          0       0"
      ]
     },
     "execution_count": 8,
     "metadata": {},
     "output_type": "execute_result"
    }
   ],
   "source": [
    "manhattan_predictions = manhattan_model.predict(XTest)\n",
    "euclid_predictions = euclid_model.predict(XTest) \n",
    "df = pd.DataFrame({'actual': yTest, 'manhattan': manhattan_predictions, 'euclid': euclid_predictions})\n",
    "df.head()"
   ]
  },
  {
   "cell_type": "code",
   "execution_count": 9,
   "metadata": {},
   "outputs": [
    {
     "name": "stdout",
     "output_type": "stream",
     "text": [
      "Best result of the cross validation of the model (euclidean) with the best paramters: 0.5982758620689654\n",
      "Best result of the cross validation of the model (mahattan) with the best paramters:: 0.5982758620689654\n"
     ]
    }
   ],
   "source": [
    "# Cross validation\n",
    "result1= model_selection.cross_val_score(euclid_model, XTrain, yTrain, cv=5, scoring='accuracy')\n",
    "result2 = model_selection.cross_val_score(manhattan_model, XTrain, yTrain, cv=5, scoring='accuracy')\n",
    "print(\"Best result of the cross validation of the model (euclidean) with the best paramters: \" +str(np.mean(result1)))\n",
    "print(\"Best result of the cross validation of the model (mahattan) with the best paramters:: \" +str(np.mean(result2)))\n"
   ]
  },
  {
   "cell_type": "markdown",
   "metadata": {},
   "source": [
    "#### 6.1. Manhattan model"
   ]
  },
  {
   "cell_type": "code",
   "execution_count": 10,
   "metadata": {},
   "outputs": [],
   "source": [
    "# Making predictions with the optimal model on the training dataset\n",
    "yhatTrain = manhattan_model.predict(XTrain)\n",
    "contTrain = 0\n",
    "yTrain=yTrain.to_numpy()\n",
    "\n",
    "# Comparing with the Target column and check how many hits there have been\n",
    "for i in range(0,len(yTrain),1) :\n",
    "    if (yhatTrain[i] == yTrain[i]):\n",
    "        contTrain = contTrain + 1"
   ]
  },
  {
   "cell_type": "code",
   "execution_count": 11,
   "metadata": {},
   "outputs": [],
   "source": [
    "# Making predictions with the optimal model on the test dataset\n",
    "mayhatTest = manhattan_model.predict(XTest)\n",
    "contTest = 0\n",
    "yTest=yTest.to_numpy()\n",
    "\n",
    "# Comparing with the Target column and check how many hits there have been\n",
    "for i in range(0,len(yTest),1) :\n",
    "    if (mayhatTest[i] == yTest[i]):\n",
    "        contTest = contTest + 1"
   ]
  },
  {
   "cell_type": "code",
   "execution_count": 12,
   "metadata": {},
   "outputs": [
    {
     "name": "stdout",
     "output_type": "stream",
     "text": [
      "Final accuracy on the training dataset (manhattan): 0.6388888888888888\n",
      "Final accuracy on the testing dataset (manhattan): 0.5405405405405406\n"
     ]
    }
   ],
   "source": [
    "print('Final accuracy on the training dataset (manhattan): ' + str(contTrain/len(yTrain)))\n",
    "print('Final accuracy on the testing dataset (manhattan): ' + str(contTest/len(yTest)))"
   ]
  },
  {
   "cell_type": "code",
   "execution_count": 13,
   "metadata": {},
   "outputs": [
    {
     "name": "stdout",
     "output_type": "stream",
     "text": [
      "----------------Confusion Matrix (Training)------------------\n",
      "[[57 11]\n",
      " [41 35]]\n",
      "Input data:  [1 0 1 0 1 1 0 0 1 0 1 0 1 0 1 1 0 1 1 1 0 0 0 1 0 0 0 0 0 1 1 1 1 1 0 1 1\n",
      " 0 0 1 1 1 1 1 0 0 1 1 1 0 0 0 1 0 0 1 0 1 1 1 0 1 1 0 0 0 0 1 1 1 0 1 0 0\n",
      " 0 1 0 1 0 0 0 1 1 0 0 1 1 1 1 1 0 1 0 1 0 0 1 0 1 0 0 1 0 0 1 1 1 1 0 1 1\n",
      " 1 1 0 1 0 0 0 1 0 1 0 1 0 0 1 1 1 0 0 0 1 0 1 0 0 0 1 1 1 1 1 0 1]\n",
      "Prediction:        [1 0 0 0 1 0 0 0 0 0 1 1 0 0 1 1 0 0 1 0 1 0 0 1 0 0 0 0 0 0 0 0 1 0 1 1 0\n",
      " 0 0 1 1 0 0 1 0 1 0 1 1 0 0 0 1 0 0 1 1 0 0 1 1 1 1 0 0 0 0 0 1 1 0 1 0 0\n",
      " 0 0 0 0 1 0 0 1 0 0 0 1 0 0 1 0 0 0 1 0 1 1 0 0 0 0 0 0 0 0 0 0 0 0 1 1 1\n",
      " 0 0 0 1 0 0 0 0 0 0 0 0 0 0 1 0 0 0 0 0 1 0 1 0 0 0 0 1 1 1 0 0 1]\n"
     ]
    }
   ],
   "source": [
    "from sklearn.metrics import classification_report,confusion_matrix\n",
    "\n",
    "print('----------------Confusion Matrix (Training)------------------')\n",
    "print(confusion_matrix(yTrain,yhatTrain))\n",
    "print('Input data:  ' + str(np.array(yTrain)))\n",
    "print('Prediction:        ' +str(yhatTrain))"
   ]
  },
  {
   "cell_type": "code",
   "execution_count": 14,
   "metadata": {},
   "outputs": [
    {
     "name": "stdout",
     "output_type": "stream",
     "text": [
      "              precision    recall  f1-score   support\n",
      "\n",
      "           0       0.58      0.84      0.69        68\n",
      "           1       0.76      0.46      0.57        76\n",
      "\n",
      "    accuracy                           0.64       144\n",
      "   macro avg       0.67      0.65      0.63       144\n",
      "weighted avg       0.68      0.64      0.63       144\n",
      "\n"
     ]
    }
   ],
   "source": [
    "print(classification_report(yTrain,yhatTrain))"
   ]
  },
  {
   "cell_type": "code",
   "execution_count": 15,
   "metadata": {},
   "outputs": [
    {
     "name": "stdout",
     "output_type": "stream",
     "text": [
      "----------------Confusion Matrix (Test)------------------\n",
      "[[10  7]\n",
      " [10 10]]\n",
      "Input data:  [0 1 0 1 0 1 1 0 1 0 1 1 1 1 1 0 1 1 0 0 0 1 1 0 0 1 0 1 1 0 0 0 1 1 0 1 0]\n",
      "Prediction:        [1 0 1 1 0 1 1 1 0 1 0 0 1 1 0 0 0 0 0 1 1 0 1 0 0 1 0 1 0 0 1 0 1 0 0 1 0]\n"
     ]
    }
   ],
   "source": [
    "from sklearn.metrics import confusion_matrix\n",
    "confusion_matrix = confusion_matrix(yTest, mayhatTest)\n",
    "print('----------------Confusion Matrix (Test)------------------')\n",
    "print(confusion_matrix)\n",
    "print('Input data:  ' + str(np.array(yTest)))\n",
    "print('Prediction:        ' +str(mayhatTest))"
   ]
  },
  {
   "cell_type": "code",
   "execution_count": 16,
   "metadata": {},
   "outputs": [
    {
     "name": "stdout",
     "output_type": "stream",
     "text": [
      "              precision    recall  f1-score   support\n",
      "\n",
      "           0       0.50      0.59      0.54        17\n",
      "           1       0.59      0.50      0.54        20\n",
      "\n",
      "    accuracy                           0.54        37\n",
      "   macro avg       0.54      0.54      0.54        37\n",
      "weighted avg       0.55      0.54      0.54        37\n",
      "\n"
     ]
    }
   ],
   "source": [
    "print(classification_report(yTest, mayhatTest))"
   ]
  }
 ],
 "metadata": {
  "kernelspec": {
   "display_name": "Python 3.9.13 64-bit (microsoft store)",
   "language": "python",
   "name": "python3"
  },
  "language_info": {
   "codemirror_mode": {
    "name": "ipython",
    "version": 3
   },
   "file_extension": ".py",
   "mimetype": "text/x-python",
   "name": "python",
   "nbconvert_exporter": "python",
   "pygments_lexer": "ipython3",
   "version": "3.9.13"
  },
  "orig_nbformat": 4,
  "vscode": {
   "interpreter": {
    "hash": "fb15f1e0f376981e7b6e1fc44ae8b8146823f10f258bcd6e448b0230b889fc06"
   }
  }
 },
 "nbformat": 4,
 "nbformat_minor": 2
}
