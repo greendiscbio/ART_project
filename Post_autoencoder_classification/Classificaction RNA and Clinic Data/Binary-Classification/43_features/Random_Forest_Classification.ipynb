{
 "cells": [
  {
   "cell_type": "markdown",
   "metadata": {},
   "source": [
    "# Classification model using Random Forest"
   ]
  },
  {
   "cell_type": "markdown",
   "metadata": {},
   "source": [
    "### 1. Import libraries"
   ]
  },
  {
   "cell_type": "code",
   "execution_count": 1,
   "metadata": {},
   "outputs": [],
   "source": [
    "import pandas as pd\n",
    "import numpy as np\n",
    "import matplotlib.pyplot as plt\n",
    "from sklearn.model_selection import train_test_split\n",
    "from sklearn.ensemble import RandomForestClassifier\n",
    "from sklearn.model_selection import GridSearchCV"
   ]
  },
  {
   "cell_type": "markdown",
   "metadata": {},
   "source": [
    "### 2. Upload Clinic data"
   ]
  },
  {
   "cell_type": "code",
   "execution_count": 2,
   "metadata": {},
   "outputs": [
    {
     "data": {
      "text/html": [
       "<div>\n",
       "<style scoped>\n",
       "    .dataframe tbody tr th:only-of-type {\n",
       "        vertical-align: middle;\n",
       "    }\n",
       "\n",
       "    .dataframe tbody tr th {\n",
       "        vertical-align: top;\n",
       "    }\n",
       "\n",
       "    .dataframe thead th {\n",
       "        text-align: right;\n",
       "    }\n",
       "</style>\n",
       "<table border=\"1\" class=\"dataframe\">\n",
       "  <thead>\n",
       "    <tr style=\"text-align: right;\">\n",
       "      <th></th>\n",
       "      <th>Target</th>\n",
       "      <th>0</th>\n",
       "      <th>1</th>\n",
       "      <th>2</th>\n",
       "      <th>3</th>\n",
       "      <th>4</th>\n",
       "      <th>5</th>\n",
       "      <th>6</th>\n",
       "      <th>7</th>\n",
       "      <th>8</th>\n",
       "      <th>...</th>\n",
       "      <th>33</th>\n",
       "      <th>34</th>\n",
       "      <th>35</th>\n",
       "      <th>36</th>\n",
       "      <th>37</th>\n",
       "      <th>38</th>\n",
       "      <th>39</th>\n",
       "      <th>40</th>\n",
       "      <th>41</th>\n",
       "      <th>42</th>\n",
       "    </tr>\n",
       "  </thead>\n",
       "  <tbody>\n",
       "    <tr>\n",
       "      <th>0</th>\n",
       "      <td>1</td>\n",
       "      <td>0.153994</td>\n",
       "      <td>-0.164904</td>\n",
       "      <td>-0.452284</td>\n",
       "      <td>0.206749</td>\n",
       "      <td>-0.857082</td>\n",
       "      <td>-0.603124</td>\n",
       "      <td>-0.473103</td>\n",
       "      <td>-0.075513</td>\n",
       "      <td>0.054750</td>\n",
       "      <td>...</td>\n",
       "      <td>-0.037600</td>\n",
       "      <td>-0.128832</td>\n",
       "      <td>-0.385064</td>\n",
       "      <td>0.116692</td>\n",
       "      <td>1.490244</td>\n",
       "      <td>1.059520</td>\n",
       "      <td>-1.272441</td>\n",
       "      <td>0.110960</td>\n",
       "      <td>-0.101009</td>\n",
       "      <td>0.161909</td>\n",
       "    </tr>\n",
       "    <tr>\n",
       "      <th>1</th>\n",
       "      <td>1</td>\n",
       "      <td>-1.300332</td>\n",
       "      <td>-0.080441</td>\n",
       "      <td>-0.885911</td>\n",
       "      <td>-0.168431</td>\n",
       "      <td>-0.529857</td>\n",
       "      <td>0.184833</td>\n",
       "      <td>-0.464027</td>\n",
       "      <td>-0.361125</td>\n",
       "      <td>0.125864</td>\n",
       "      <td>...</td>\n",
       "      <td>-0.443480</td>\n",
       "      <td>-0.222192</td>\n",
       "      <td>-0.440740</td>\n",
       "      <td>-0.388554</td>\n",
       "      <td>0.997358</td>\n",
       "      <td>0.816687</td>\n",
       "      <td>-1.113903</td>\n",
       "      <td>0.362072</td>\n",
       "      <td>-0.397896</td>\n",
       "      <td>1.188868</td>\n",
       "    </tr>\n",
       "    <tr>\n",
       "      <th>2</th>\n",
       "      <td>1</td>\n",
       "      <td>-0.876637</td>\n",
       "      <td>0.587383</td>\n",
       "      <td>-0.925414</td>\n",
       "      <td>0.488304</td>\n",
       "      <td>-0.181991</td>\n",
       "      <td>0.184868</td>\n",
       "      <td>-0.708685</td>\n",
       "      <td>1.060296</td>\n",
       "      <td>0.210958</td>\n",
       "      <td>...</td>\n",
       "      <td>0.440405</td>\n",
       "      <td>0.441728</td>\n",
       "      <td>0.479298</td>\n",
       "      <td>-0.410674</td>\n",
       "      <td>-0.082885</td>\n",
       "      <td>1.063791</td>\n",
       "      <td>-0.764444</td>\n",
       "      <td>0.862694</td>\n",
       "      <td>0.316916</td>\n",
       "      <td>1.723327</td>\n",
       "    </tr>\n",
       "    <tr>\n",
       "      <th>3</th>\n",
       "      <td>0</td>\n",
       "      <td>-1.598357</td>\n",
       "      <td>0.092854</td>\n",
       "      <td>-0.473400</td>\n",
       "      <td>-0.009476</td>\n",
       "      <td>-1.107011</td>\n",
       "      <td>0.699234</td>\n",
       "      <td>-1.599456</td>\n",
       "      <td>-0.220610</td>\n",
       "      <td>0.247359</td>\n",
       "      <td>...</td>\n",
       "      <td>-0.878015</td>\n",
       "      <td>-0.766315</td>\n",
       "      <td>-0.725781</td>\n",
       "      <td>-0.124278</td>\n",
       "      <td>0.621617</td>\n",
       "      <td>1.027331</td>\n",
       "      <td>-1.433755</td>\n",
       "      <td>0.882461</td>\n",
       "      <td>0.018591</td>\n",
       "      <td>1.787526</td>\n",
       "    </tr>\n",
       "    <tr>\n",
       "      <th>4</th>\n",
       "      <td>1</td>\n",
       "      <td>-1.735836</td>\n",
       "      <td>0.207939</td>\n",
       "      <td>-0.211755</td>\n",
       "      <td>-0.703383</td>\n",
       "      <td>-0.802869</td>\n",
       "      <td>-0.273099</td>\n",
       "      <td>-1.267936</td>\n",
       "      <td>-0.063031</td>\n",
       "      <td>-0.612482</td>\n",
       "      <td>...</td>\n",
       "      <td>-0.671282</td>\n",
       "      <td>1.156629</td>\n",
       "      <td>1.303665</td>\n",
       "      <td>0.926794</td>\n",
       "      <td>0.740702</td>\n",
       "      <td>-0.010802</td>\n",
       "      <td>0.001432</td>\n",
       "      <td>1.500137</td>\n",
       "      <td>0.100971</td>\n",
       "      <td>0.812671</td>\n",
       "    </tr>\n",
       "  </tbody>\n",
       "</table>\n",
       "<p>5 rows × 44 columns</p>\n",
       "</div>"
      ],
      "text/plain": [
       "   Target         0         1         2         3         4         5  \\\n",
       "0       1  0.153994 -0.164904 -0.452284  0.206749 -0.857082 -0.603124   \n",
       "1       1 -1.300332 -0.080441 -0.885911 -0.168431 -0.529857  0.184833   \n",
       "2       1 -0.876637  0.587383 -0.925414  0.488304 -0.181991  0.184868   \n",
       "3       0 -1.598357  0.092854 -0.473400 -0.009476 -1.107011  0.699234   \n",
       "4       1 -1.735836  0.207939 -0.211755 -0.703383 -0.802869 -0.273099   \n",
       "\n",
       "          6         7         8  ...        33        34        35        36  \\\n",
       "0 -0.473103 -0.075513  0.054750  ... -0.037600 -0.128832 -0.385064  0.116692   \n",
       "1 -0.464027 -0.361125  0.125864  ... -0.443480 -0.222192 -0.440740 -0.388554   \n",
       "2 -0.708685  1.060296  0.210958  ...  0.440405  0.441728  0.479298 -0.410674   \n",
       "3 -1.599456 -0.220610  0.247359  ... -0.878015 -0.766315 -0.725781 -0.124278   \n",
       "4 -1.267936 -0.063031 -0.612482  ... -0.671282  1.156629  1.303665  0.926794   \n",
       "\n",
       "         37        38        39        40        41        42  \n",
       "0  1.490244  1.059520 -1.272441  0.110960 -0.101009  0.161909  \n",
       "1  0.997358  0.816687 -1.113903  0.362072 -0.397896  1.188868  \n",
       "2 -0.082885  1.063791 -0.764444  0.862694  0.316916  1.723327  \n",
       "3  0.621617  1.027331 -1.433755  0.882461  0.018591  1.787526  \n",
       "4  0.740702 -0.010802  0.001432  1.500137  0.100971  0.812671  \n",
       "\n",
       "[5 rows x 44 columns]"
      ]
     },
     "execution_count": 2,
     "metadata": {},
     "output_type": "execute_result"
    }
   ],
   "source": [
    "path =\"../../../../Data_preprocessing/RNA_post_autoencoder/encoded_data_binary_43.csv\"\n",
    "data = pd.read_csv(path)\n",
    "data.reset_index\n",
    "data.round(4)\n",
    "data=data.iloc[:,1:440  ] \n",
    "data.head()"
   ]
  },
  {
   "cell_type": "code",
   "execution_count": 3,
   "metadata": {},
   "outputs": [
    {
     "name": "stdout",
     "output_type": "stream",
     "text": [
      "            0         1         2         3         4         5         6  \\\n",
      "0    0.153994 -0.164904 -0.452284  0.206749 -0.857082 -0.603124 -0.473103   \n",
      "1   -1.300332 -0.080441 -0.885911 -0.168431 -0.529857  0.184833 -0.464027   \n",
      "2   -0.876637  0.587383 -0.925414  0.488304 -0.181991  0.184868 -0.708685   \n",
      "3   -1.598357  0.092854 -0.473400 -0.009476 -1.107011  0.699234 -1.599456   \n",
      "4   -1.735836  0.207939 -0.211755 -0.703383 -0.802869 -0.273099 -1.267936   \n",
      "..        ...       ...       ...       ...       ...       ...       ...   \n",
      "176 -1.222742  0.033713 -0.588393 -0.369282 -0.914620  0.613994 -1.088500   \n",
      "177 -0.916295  0.632799  0.010232  1.049555 -0.321448 -0.182999 -1.356915   \n",
      "178 -0.499931  0.487778 -0.365115 -0.074394 -0.231141  0.391114 -0.622813   \n",
      "179 -0.790637  0.102222 -1.135601 -0.301596 -0.794871  0.188501 -0.760856   \n",
      "180 -0.297094  0.420879 -0.209357  0.319454 -0.118073 -0.411617 -1.117591   \n",
      "\n",
      "            7         8         9  ...        33        34        35  \\\n",
      "0   -0.075513  0.054750  0.350131  ... -0.037600 -0.128832 -0.385064   \n",
      "1   -0.361125  0.125864  0.277964  ... -0.443480 -0.222192 -0.440740   \n",
      "2    1.060296  0.210958  1.413630  ...  0.440405  0.441728  0.479298   \n",
      "3   -0.220610  0.247359  0.702785  ... -0.878015 -0.766315 -0.725781   \n",
      "4   -0.063031 -0.612482  1.920678  ... -0.671282  1.156629  1.303665   \n",
      "..        ...       ...       ...  ...       ...       ...       ...   \n",
      "176 -0.071163  0.401463  0.715119  ... -0.409226  0.250795 -0.134759   \n",
      "177  0.570215 -0.077550  0.932038  ... -0.484678 -0.063411  0.028569   \n",
      "178  0.110755  0.328175  1.059500  ... -0.594718  0.480971  0.286119   \n",
      "179  0.081682  0.282488  0.468785  ... -0.337097  0.718685 -0.366577   \n",
      "180  0.730332 -0.068455  0.779405  ...  0.237134  0.449083  0.323156   \n",
      "\n",
      "           36        37        38        39        40        41        42  \n",
      "0    0.116692  1.490244  1.059520 -1.272441  0.110960 -0.101009  0.161909  \n",
      "1   -0.388554  0.997358  0.816687 -1.113903  0.362072 -0.397896  1.188868  \n",
      "2   -0.410674 -0.082885  1.063791 -0.764444  0.862694  0.316916  1.723327  \n",
      "3   -0.124278  0.621617  1.027331 -1.433755  0.882461  0.018591  1.787526  \n",
      "4    0.926794  0.740702 -0.010802  0.001432  1.500137  0.100971  0.812671  \n",
      "..        ...       ...       ...       ...       ...       ...       ...  \n",
      "176 -0.013986  0.623521  0.869600 -1.560954  0.488871  0.233410  1.021214  \n",
      "177 -0.125529  1.913202  1.189450 -1.035641  1.084330  0.452565  1.653817  \n",
      "178  0.018897  0.557471  1.087909 -1.238755  0.658023  0.480334  1.069924  \n",
      "179 -0.397583  1.042932  0.563060 -1.762617 -0.665876  0.106883  0.759617  \n",
      "180 -0.084607  0.807030  0.917506 -0.998614  0.241265  0.663675  0.957608  \n",
      "\n",
      "[181 rows x 43 columns]\n",
      "Numero de pacientes:  181\n"
     ]
    }
   ],
   "source": [
    "Y = data.Target # Target column\n",
    "\n",
    "X = data.iloc[:,1:439] # I selected all the columns by removing the Unnamed column (row id) and the Target column.\n",
    "\n",
    "print(X)\n",
    "print('Numero de pacientes: ',len(Y))"
   ]
  },
  {
   "cell_type": "markdown",
   "metadata": {},
   "source": [
    "### 3. Train-Test dataset split"
   ]
  },
  {
   "cell_type": "code",
   "execution_count": 4,
   "metadata": {},
   "outputs": [
    {
     "name": "stdout",
     "output_type": "stream",
     "text": [
      "Training set size: 144\n",
      "Target column size of the training set: 144\n",
      "Test set size: 37\n",
      "Target column size of the test set: 37\n"
     ]
    }
   ],
   "source": [
    "XTrain, XTest, yTrain, yTest = train_test_split(X, Y, test_size=0.20, random_state=125, stratify=Y)\n",
    "\n",
    "print('Training set size:', len(XTrain))\n",
    "print('Target column size of the training set:', len(yTrain))\n",
    "print('Test set size:', len(XTest))\n",
    "print('Target column size of the test set:', len(yTest))"
   ]
  },
  {
   "cell_type": "markdown",
   "metadata": {},
   "source": [
    "### 4. Select the parameters of the model and fit it"
   ]
  },
  {
   "cell_type": "code",
   "execution_count": 5,
   "metadata": {},
   "outputs": [
    {
     "data": {
      "text/plain": [
       "GridSearchCV(cv=5, estimator=RandomForestClassifier(),\n",
       "             param_grid={'bootstrap': [True, False],\n",
       "                         'criterion': ['gini', 'entropy'],\n",
       "                         'max_depth': [None, 2, 5, 10, 50],\n",
       "                         'min_samples_leaf': [1, 2, 3],\n",
       "                         'min_samples_split': [2, 3, 4, 5],\n",
       "                         'n_estimators': [10, 20], 'random_state': [125]})"
      ]
     },
     "execution_count": 5,
     "metadata": {},
     "output_type": "execute_result"
    }
   ],
   "source": [
    "param_grid = {'min_samples_leaf': [1, 2, 3],\n",
    "              'min_samples_split': [2, 3, 4, 5],\n",
    "              'random_state':[125],\n",
    "              'n_estimators': [10, 20],\n",
    "              'bootstrap': [True, False],\n",
    "              'criterion': ['gini', 'entropy'],\n",
    "              'max_depth':[None, 2, 5, 10,50]\n",
    "              }\n",
    "\n",
    "# I created a GridSearchCV which allows us to systematically evaluate and select the parameters of our model.\n",
    "# By indicating a model and the parameters to test, you can evaluate the performance of the first one based on the\n",
    "# seconds through cross validation.\n",
    "clf = GridSearchCV(\n",
    "        estimator  = RandomForestClassifier(),\n",
    "        param_grid = param_grid,\n",
    "        cv=5\n",
    "       )\n",
    "\n",
    "clf.fit(XTrain , yTrain)"
   ]
  },
  {
   "cell_type": "code",
   "execution_count": 6,
   "metadata": {},
   "outputs": [
    {
     "name": "stdout",
     "output_type": "stream",
     "text": [
      "Mejor estimación de parámetros según GridSearchCV:\n",
      "RandomForestClassifier(bootstrap=False, criterion='entropy', max_depth=5,\n",
      "                       min_samples_leaf=3, n_estimators=20, random_state=125)\n"
     ]
    }
   ],
   "source": [
    "print(\"Mejor estimación de parámetros según GridSearchCV:\")\n",
    "print(clf.best_estimator_)\n",
    "model = clf.best_estimator_"
   ]
  },
  {
   "cell_type": "code",
   "execution_count": 7,
   "metadata": {},
   "outputs": [
    {
     "name": "stdout",
     "output_type": "stream",
     "text": [
      "Best result of the cross validation of the model with the best paramters:0.6603448275862069\n"
     ]
    }
   ],
   "source": [
    "print(\"Best result of the cross validation of the model with the best paramters:\" +str(clf.best_score_))\n"
   ]
  },
  {
   "cell_type": "markdown",
   "metadata": {},
   "source": [
    "### 5. Prediction"
   ]
  },
  {
   "cell_type": "code",
   "execution_count": 8,
   "metadata": {},
   "outputs": [],
   "source": [
    "# Making predictions with the optimal model on the training dataset\n",
    "yhatTrain = model.predict(XTrain)\n",
    "contTrain = 0\n",
    "yTrain=yTrain.to_numpy()\n",
    "\n",
    "# Comparing with the Target column and check how many hits there have been\n",
    "for i in range(0,len(yTrain),1) :\n",
    "    if (yhatTrain[i] == yTrain[i]):\n",
    "        contTrain = contTrain + 1"
   ]
  },
  {
   "cell_type": "code",
   "execution_count": 9,
   "metadata": {},
   "outputs": [],
   "source": [
    "# Making predictions with the optimal model on the test dataset\n",
    "yhatTest = model.predict(XTest)\n",
    "contTest = 0\n",
    "yTest=yTest.to_numpy()\n",
    "\n",
    "# Comparing with the Target column and check how many hits there have been\n",
    "for i in range(0,len(yTest),1) :\n",
    "    if (yhatTest[i] == yTest[i]):\n",
    "        contTest = contTest + 1\n"
   ]
  },
  {
   "cell_type": "markdown",
   "metadata": {},
   "source": [
    "### 6. Results"
   ]
  },
  {
   "cell_type": "code",
   "execution_count": 10,
   "metadata": {},
   "outputs": [
    {
     "name": "stdout",
     "output_type": "stream",
     "text": [
      "Final accuracy on the training dataset:0.9305555555555556\n",
      "Final accuracy on the testing dataset: 0.40540540540540543\n"
     ]
    }
   ],
   "source": [
    "print('Final accuracy on the training dataset:' + str(contTrain/len(yTrain)))\n",
    "print('Final accuracy on the testing dataset: ' + str(contTest/len(yTest)))"
   ]
  },
  {
   "cell_type": "code",
   "execution_count": 11,
   "metadata": {},
   "outputs": [
    {
     "name": "stdout",
     "output_type": "stream",
     "text": [
      "----------------Confusion Matrix (Training)------------------\n",
      "[[68  0]\n",
      " [10 66]]\n",
      "Input data:  [1 0 1 0 1 1 0 0 1 0 1 0 1 0 1 1 0 1 1 1 0 0 0 1 0 0 0 0 0 1 1 1 1 1 0 1 1\n",
      " 0 0 1 1 1 1 1 0 0 1 1 1 0 0 0 1 0 0 1 0 1 1 1 0 1 1 0 0 0 0 1 1 1 0 1 0 0\n",
      " 0 1 0 1 0 0 0 1 1 0 0 1 1 1 1 1 0 1 0 1 0 0 1 0 1 0 0 1 0 0 1 1 1 1 0 1 1\n",
      " 1 1 0 1 0 0 0 1 0 1 0 1 0 0 1 1 1 0 0 0 1 0 1 0 0 0 1 1 1 1 1 0 1]\n",
      "Prediction:        [1 0 1 0 1 1 0 0 1 0 1 0 1 0 1 1 0 1 1 1 0 0 0 1 0 0 0 0 0 1 0 1 1 1 0 1 0\n",
      " 0 0 1 1 0 1 1 0 0 1 1 1 0 0 0 1 0 0 1 0 0 1 1 0 1 1 0 0 0 0 0 1 1 0 1 0 0\n",
      " 0 1 0 1 0 0 0 1 0 0 0 1 1 1 1 1 0 1 0 1 0 0 1 0 1 0 0 0 0 0 1 1 1 1 0 1 1\n",
      " 1 0 0 1 0 0 0 0 0 1 0 1 0 0 1 1 1 0 0 0 1 0 1 0 0 0 1 1 1 1 0 0 1]\n"
     ]
    }
   ],
   "source": [
    "from sklearn.metrics import classification_report,confusion_matrix\n",
    "\n",
    "print('----------------Confusion Matrix (Training)------------------')\n",
    "print(confusion_matrix(yTrain,yhatTrain))\n",
    "print('Input data:  ' + str(np.array(yTrain)))\n",
    "print('Prediction:        ' +str(yhatTrain))"
   ]
  },
  {
   "cell_type": "code",
   "execution_count": 12,
   "metadata": {},
   "outputs": [
    {
     "name": "stdout",
     "output_type": "stream",
     "text": [
      "              precision    recall  f1-score   support\n",
      "\n",
      "           0       0.87      1.00      0.93        68\n",
      "           1       1.00      0.87      0.93        76\n",
      "\n",
      "    accuracy                           0.93       144\n",
      "   macro avg       0.94      0.93      0.93       144\n",
      "weighted avg       0.94      0.93      0.93       144\n",
      "\n"
     ]
    }
   ],
   "source": [
    "print(classification_report(yTrain,yhatTrain))"
   ]
  },
  {
   "cell_type": "code",
   "execution_count": 13,
   "metadata": {},
   "outputs": [
    {
     "name": "stdout",
     "output_type": "stream",
     "text": [
      "----------------Confusion Matrix (Test)------------------\n",
      "[[ 6 11]\n",
      " [11  9]]\n",
      "Input data:  [0 1 0 1 0 1 1 0 1 0 1 1 1 1 1 0 1 1 0 0 0 1 1 0 0 1 0 1 1 0 0 0 1 1 0 1 0]\n",
      "Prediction:        [0 0 1 0 1 1 0 1 1 1 0 1 1 0 0 1 0 0 0 1 0 1 1 1 0 1 0 1 0 1 1 0 0 0 1 1 1]\n"
     ]
    }
   ],
   "source": [
    "print('----------------Confusion Matrix (Test)------------------')\n",
    "print(confusion_matrix(yTest,yhatTest))\n",
    "print('Input data:  ' + str(np.array(yTest)))\n",
    "print('Prediction:        ' +str(yhatTest))"
   ]
  },
  {
   "cell_type": "code",
   "execution_count": 14,
   "metadata": {},
   "outputs": [
    {
     "name": "stdout",
     "output_type": "stream",
     "text": [
      "              precision    recall  f1-score   support\n",
      "\n",
      "           0       0.35      0.35      0.35        17\n",
      "           1       0.45      0.45      0.45        20\n",
      "\n",
      "    accuracy                           0.41        37\n",
      "   macro avg       0.40      0.40      0.40        37\n",
      "weighted avg       0.41      0.41      0.41        37\n",
      "\n"
     ]
    }
   ],
   "source": [
    "print(classification_report(yTest,yhatTest))"
   ]
  },
  {
   "cell_type": "code",
   "execution_count": 15,
   "metadata": {},
   "outputs": [
    {
     "name": "stdout",
     "output_type": "stream",
     "text": [
      "Features with relevance over 0:  42\n",
      "Features with relevance over 0.05:  4\n"
     ]
    },
    {
     "data": {
      "image/png": "[encoded data removed]",
      "text/plain": [
       "<Figure size 432x288 with 1 Axes>"
      ]
     },
     "metadata": {
      "needs_background": "light"
     },
     "output_type": "display_data"
    },
    {
     "name": "stdout",
     "output_type": "stream",
     "text": [
      "0 = 0.042110931427601826\n",
      "1 = 0.006575909970757998\n",
      "2 = 0.048830389279380194\n",
      "3 = 0.018093162956171728\n",
      "4 = 0.01228890015796033\n",
      "5 = 0.019347184631977883\n",
      "6 = 0.0066471909892440615\n",
      "7 = 0.01580345004773106\n",
      "8 = 0.05659594894346951\n",
      "9 = 0.0595496750998886\n",
      "10 = 0.011753873732794502\n",
      "11 = 0.018834211231073556\n",
      "12 = 0.00727513832616093\n",
      "13 = 0.003239663813000119\n",
      "14 = 0.005858297374097528\n",
      "15 = 0.012526067730855617\n",
      "16 = 0.02274795491617675\n",
      "17 = 0.0313411968647923\n",
      "18 = 0.017640586601883883\n",
      "19 = 0.008529291057367386\n",
      "20 = 0.00879209621011512\n",
      "21 = 0.011861834772020463\n",
      "22 = 0.03864014626365995\n",
      "23 = 0.02240673930966484\n",
      "24 = 0.009793543589365537\n",
      "25 = 0.0289571477414671\n",
      "26 = 0.0\n",
      "27 = 0.0008846854334879064\n",
      "28 = 0.028101142088330477\n",
      "29 = 0.04182906854006894\n",
      "30 = 0.019564901944200658\n",
      "31 = 0.036365861820072024\n",
      "32 = 0.004128439564063878\n",
      "33 = 0.014604790010802721\n",
      "34 = 0.014903605227682698\n",
      "35 = 0.0021133140033716994\n",
      "36 = 0.11192677894922523\n",
      "37 = 0.04964807229621113\n",
      "38 = 0.005077730616408033\n",
      "39 = 0.019509756316533462\n",
      "40 = 0.018114173497805218\n",
      "41 = 0.014519422071064597\n",
      "42 = 0.07266772458199255\n"
     ]
    }
   ],
   "source": [
    "# Through the created model we can see which attributes are the most significant to make a decision.\n",
    "# The most relevant attributes will be the ones placed at the top of the tree.\n",
    "features = list(X)\n",
    "importances = model.feature_importances_\n",
    "\n",
    "elems_over_0 = np.fromiter((element for element in importances if element > 0), dtype = importances.dtype)\n",
    "print('Features with relevance over 0: ', len(elems_over_0))\n",
    "\n",
    "newArray = np.fromiter((element for element in importances if element > 0.05), dtype = importances.dtype)\n",
    "importances=newArray\n",
    "indices = np.argsort(importances)\n",
    "print('Features with relevance over 0.05: ', len(newArray))\n",
    "\n",
    "plt.title('Relevancia de los atributos')\n",
    "plt.barh(range(len(indices)), importances[indices], color='b', align='center')\n",
    "plt.yticks(range(len(indices)), [features[i] for i in indices])\n",
    "plt.xlabel('Importancia relativa')\n",
    "plt.show()\n",
    "\n",
    "for name, importance in zip(X, model.feature_importances_):\n",
    "    print(name, \"=\", importance)\n",
    "\n",
    "# Attributes whose relevance is 0, will not be necessary to make the prediction of the target."
   ]
  }
 ],
 "metadata": {
  "kernelspec": {
   "display_name": "Python 3.9.13 64-bit (microsoft store)",
   "language": "python",
   "name": "python3"
  },
  "language_info": {
   "codemirror_mode": {
    "name": "ipython",
    "version": 3
   },
   "file_extension": ".py",
   "mimetype": "text/x-python",
   "name": "python",
   "nbconvert_exporter": "python",
   "pygments_lexer": "ipython3",
   "version": "3.9.13"
  },
  "orig_nbformat": 4,
  "vscode": {
   "interpreter": {
    "hash": "fb15f1e0f376981e7b6e1fc44ae8b8146823f10f258bcd6e448b0230b889fc06"
   }
  }
 },
 "nbformat": 4,
 "nbformat_minor": 2
}
