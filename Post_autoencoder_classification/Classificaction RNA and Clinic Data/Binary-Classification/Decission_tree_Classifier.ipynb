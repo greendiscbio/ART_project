{
 "cells": [
  {
   "cell_type": "markdown",
   "metadata": {},
   "source": [
    "# Classification model using Decision Tree"
   ]
  },
  {
   "cell_type": "markdown",
   "metadata": {},
   "source": [
    "### 1. Import libraries"
   ]
  },
  {
   "cell_type": "code",
   "execution_count": 1,
   "metadata": {},
   "outputs": [],
   "source": [
    "import pandas as pd\n",
    "import numpy as np\n",
    "import matplotlib.pyplot as plt\n",
    "from sklearn.model_selection import train_test_split\n",
    "from sklearn.tree import DecisionTreeClassifier\n",
    "from sklearn.model_selection import GridSearchCV\n",
    "from sklearn.model_selection import cross_val_score"
   ]
  },
  {
   "cell_type": "markdown",
   "metadata": {},
   "source": [
    "### 2. Upload Clinic data"
   ]
  },
  {
   "cell_type": "code",
   "execution_count": 2,
   "metadata": {},
   "outputs": [
    {
     "data": {
      "text/html": [
       "<div>\n",
       "<style scoped>\n",
       "    .dataframe tbody tr th:only-of-type {\n",
       "        vertical-align: middle;\n",
       "    }\n",
       "\n",
       "    .dataframe tbody tr th {\n",
       "        vertical-align: top;\n",
       "    }\n",
       "\n",
       "    .dataframe thead th {\n",
       "        text-align: right;\n",
       "    }\n",
       "</style>\n",
       "<table border=\"1\" class=\"dataframe\">\n",
       "  <thead>\n",
       "    <tr style=\"text-align: right;\">\n",
       "      <th></th>\n",
       "      <th>Target</th>\n",
       "      <th>0</th>\n",
       "      <th>1</th>\n",
       "      <th>2</th>\n",
       "      <th>3</th>\n",
       "      <th>4</th>\n",
       "      <th>5</th>\n",
       "      <th>6</th>\n",
       "      <th>7</th>\n",
       "      <th>8</th>\n",
       "      <th>...</th>\n",
       "      <th>428</th>\n",
       "      <th>429</th>\n",
       "      <th>430</th>\n",
       "      <th>431</th>\n",
       "      <th>432</th>\n",
       "      <th>433</th>\n",
       "      <th>434</th>\n",
       "      <th>435</th>\n",
       "      <th>436</th>\n",
       "      <th>437</th>\n",
       "    </tr>\n",
       "  </thead>\n",
       "  <tbody>\n",
       "    <tr>\n",
       "      <th>0</th>\n",
       "      <td>1</td>\n",
       "      <td>-0.017791</td>\n",
       "      <td>-0.245300</td>\n",
       "      <td>0.463568</td>\n",
       "      <td>-0.517827</td>\n",
       "      <td>-0.355514</td>\n",
       "      <td>0.487726</td>\n",
       "      <td>0.482991</td>\n",
       "      <td>-0.339176</td>\n",
       "      <td>0.662390</td>\n",
       "      <td>...</td>\n",
       "      <td>-0.625847</td>\n",
       "      <td>0.461229</td>\n",
       "      <td>-0.598586</td>\n",
       "      <td>0.767162</td>\n",
       "      <td>0.414474</td>\n",
       "      <td>0.245944</td>\n",
       "      <td>-0.989470</td>\n",
       "      <td>-0.252575</td>\n",
       "      <td>0.261593</td>\n",
       "      <td>0.291109</td>\n",
       "    </tr>\n",
       "    <tr>\n",
       "      <th>1</th>\n",
       "      <td>0</td>\n",
       "      <td>0.110768</td>\n",
       "      <td>0.574821</td>\n",
       "      <td>0.105035</td>\n",
       "      <td>-0.470658</td>\n",
       "      <td>-1.425475</td>\n",
       "      <td>0.535306</td>\n",
       "      <td>0.419043</td>\n",
       "      <td>0.163311</td>\n",
       "      <td>0.275816</td>\n",
       "      <td>...</td>\n",
       "      <td>-0.661165</td>\n",
       "      <td>-0.380656</td>\n",
       "      <td>0.244910</td>\n",
       "      <td>0.683573</td>\n",
       "      <td>-0.592842</td>\n",
       "      <td>0.038613</td>\n",
       "      <td>0.628091</td>\n",
       "      <td>-0.130931</td>\n",
       "      <td>-0.041118</td>\n",
       "      <td>-0.899655</td>\n",
       "    </tr>\n",
       "    <tr>\n",
       "      <th>2</th>\n",
       "      <td>1</td>\n",
       "      <td>0.001459</td>\n",
       "      <td>0.880947</td>\n",
       "      <td>-0.013048</td>\n",
       "      <td>-0.862418</td>\n",
       "      <td>-1.298104</td>\n",
       "      <td>0.784262</td>\n",
       "      <td>-0.053569</td>\n",
       "      <td>-0.193600</td>\n",
       "      <td>0.001717</td>\n",
       "      <td>...</td>\n",
       "      <td>-0.642589</td>\n",
       "      <td>-0.474344</td>\n",
       "      <td>0.428170</td>\n",
       "      <td>0.699182</td>\n",
       "      <td>-0.055734</td>\n",
       "      <td>0.590347</td>\n",
       "      <td>0.470508</td>\n",
       "      <td>-0.353349</td>\n",
       "      <td>-0.053301</td>\n",
       "      <td>-0.224115</td>\n",
       "    </tr>\n",
       "    <tr>\n",
       "      <th>3</th>\n",
       "      <td>0</td>\n",
       "      <td>0.062937</td>\n",
       "      <td>0.368952</td>\n",
       "      <td>-0.551430</td>\n",
       "      <td>0.313969</td>\n",
       "      <td>0.537392</td>\n",
       "      <td>-0.051345</td>\n",
       "      <td>-0.128191</td>\n",
       "      <td>-0.052663</td>\n",
       "      <td>0.022732</td>\n",
       "      <td>...</td>\n",
       "      <td>0.170213</td>\n",
       "      <td>-0.524737</td>\n",
       "      <td>0.457968</td>\n",
       "      <td>-0.350422</td>\n",
       "      <td>-0.153530</td>\n",
       "      <td>0.009347</td>\n",
       "      <td>-0.301081</td>\n",
       "      <td>-0.300408</td>\n",
       "      <td>0.130717</td>\n",
       "      <td>-0.096597</td>\n",
       "    </tr>\n",
       "    <tr>\n",
       "      <th>4</th>\n",
       "      <td>1</td>\n",
       "      <td>0.207857</td>\n",
       "      <td>0.284800</td>\n",
       "      <td>0.107111</td>\n",
       "      <td>-0.556411</td>\n",
       "      <td>-1.325310</td>\n",
       "      <td>0.267002</td>\n",
       "      <td>0.502943</td>\n",
       "      <td>-0.133496</td>\n",
       "      <td>0.225408</td>\n",
       "      <td>...</td>\n",
       "      <td>-0.396248</td>\n",
       "      <td>-0.215058</td>\n",
       "      <td>-0.150988</td>\n",
       "      <td>0.429753</td>\n",
       "      <td>-0.210586</td>\n",
       "      <td>0.285608</td>\n",
       "      <td>0.605913</td>\n",
       "      <td>-0.250192</td>\n",
       "      <td>0.251523</td>\n",
       "      <td>-0.497216</td>\n",
       "    </tr>\n",
       "  </tbody>\n",
       "</table>\n",
       "<p>5 rows × 439 columns</p>\n",
       "</div>"
      ],
      "text/plain": [
       "   Target         0         1         2         3         4         5  \\\n",
       "0       1 -0.017791 -0.245300  0.463568 -0.517827 -0.355514  0.487726   \n",
       "1       0  0.110768  0.574821  0.105035 -0.470658 -1.425475  0.535306   \n",
       "2       1  0.001459  0.880947 -0.013048 -0.862418 -1.298104  0.784262   \n",
       "3       0  0.062937  0.368952 -0.551430  0.313969  0.537392 -0.051345   \n",
       "4       1  0.207857  0.284800  0.107111 -0.556411 -1.325310  0.267002   \n",
       "\n",
       "          6         7         8  ...       428       429       430       431  \\\n",
       "0  0.482991 -0.339176  0.662390  ... -0.625847  0.461229 -0.598586  0.767162   \n",
       "1  0.419043  0.163311  0.275816  ... -0.661165 -0.380656  0.244910  0.683573   \n",
       "2 -0.053569 -0.193600  0.001717  ... -0.642589 -0.474344  0.428170  0.699182   \n",
       "3 -0.128191 -0.052663  0.022732  ...  0.170213 -0.524737  0.457968 -0.350422   \n",
       "4  0.502943 -0.133496  0.225408  ... -0.396248 -0.215058 -0.150988  0.429753   \n",
       "\n",
       "        432       433       434       435       436       437  \n",
       "0  0.414474  0.245944 -0.989470 -0.252575  0.261593  0.291109  \n",
       "1 -0.592842  0.038613  0.628091 -0.130931 -0.041118 -0.899655  \n",
       "2 -0.055734  0.590347  0.470508 -0.353349 -0.053301 -0.224115  \n",
       "3 -0.153530  0.009347 -0.301081 -0.300408  0.130717 -0.096597  \n",
       "4 -0.210586  0.285608  0.605913 -0.250192  0.251523 -0.497216  \n",
       "\n",
       "[5 rows x 439 columns]"
      ]
     },
     "execution_count": 2,
     "metadata": {},
     "output_type": "execute_result"
    }
   ],
   "source": [
    "path =\"../../../Data_preprocessing/RNA_post_autoencoder/encoded_data_bin.csv\"\n",
    "data = pd.read_csv(path)\n",
    "data.reset_index\n",
    "data.round(4)\n",
    "data=data.iloc[:,1:440  ] \n",
    "data.head()"
   ]
  },
  {
   "cell_type": "code",
   "execution_count": 3,
   "metadata": {},
   "outputs": [
    {
     "name": "stdout",
     "output_type": "stream",
     "text": [
      "            0         1         2         3         4         5         6  \\\n",
      "0   -0.017791 -0.245300  0.463568 -0.517827 -0.355514  0.487726  0.482991   \n",
      "1    0.110768  0.574821  0.105035 -0.470658 -1.425475  0.535306  0.419043   \n",
      "2    0.001459  0.880947 -0.013048 -0.862418 -1.298104  0.784262 -0.053569   \n",
      "3    0.062937  0.368952 -0.551430  0.313969  0.537392 -0.051345 -0.128191   \n",
      "4    0.207857  0.284800  0.107111 -0.556411 -1.325310  0.267002  0.502943   \n",
      "..        ...       ...       ...       ...       ...       ...       ...   \n",
      "176 -0.097058  0.170209  0.076273 -0.483340 -0.977704  0.420521  0.228634   \n",
      "177 -0.155079 -0.147931 -0.948970 -0.418657  0.217772 -0.511356 -0.288000   \n",
      "178 -0.281101  0.346973  0.178181 -0.358279 -0.779175  0.444296 -0.073569   \n",
      "179  0.006101  0.110437  0.175757 -0.590025 -0.952412  0.304226  0.129646   \n",
      "180  0.413711  0.760893  0.515536 -0.342198 -0.715016  0.434291 -0.205907   \n",
      "\n",
      "            7         8         9  ...       428       429       430  \\\n",
      "0   -0.339176  0.662390  0.516697  ... -0.625847  0.461229 -0.598586   \n",
      "1    0.163311  0.275816  0.576654  ... -0.661165 -0.380656  0.244910   \n",
      "2   -0.193600  0.001717  0.860867  ... -0.642589 -0.474344  0.428170   \n",
      "3   -0.052663  0.022732 -0.350913  ...  0.170213 -0.524737  0.457968   \n",
      "4   -0.133496  0.225408  0.603790  ... -0.396248 -0.215058 -0.150988   \n",
      "..        ...       ...       ...  ...       ...       ...       ...   \n",
      "176  0.244544  0.128080  0.288996  ... -0.454522 -0.010403  0.029840   \n",
      "177  0.206401  0.035126 -0.417695  ... -0.031269 -0.465267 -0.244156   \n",
      "178  0.069983  0.186950  0.328370  ... -0.730051 -0.131573  0.299650   \n",
      "179  0.305256  0.466162  0.495950  ... -0.608643  0.099618 -0.081367   \n",
      "180 -0.027515  0.313565  0.533659  ... -0.463389 -0.136408  0.526571   \n",
      "\n",
      "          431       432       433       434       435       436       437  \n",
      "0    0.767162  0.414474  0.245944 -0.989470 -0.252575  0.261593  0.291109  \n",
      "1    0.683573 -0.592842  0.038613  0.628091 -0.130931 -0.041118 -0.899655  \n",
      "2    0.699182 -0.055734  0.590347  0.470508 -0.353349 -0.053301 -0.224115  \n",
      "3   -0.350422 -0.153530  0.009347 -0.301081 -0.300408  0.130717 -0.096597  \n",
      "4    0.429753 -0.210586  0.285608  0.605913 -0.250192  0.251523 -0.497216  \n",
      "..        ...       ...       ...       ...       ...       ...       ...  \n",
      "176  0.533752 -0.225472  0.143688  0.338651 -0.031273 -0.187359 -0.342838  \n",
      "177 -0.374573  0.353742  0.107985 -0.318734  0.161068 -0.019411  0.117292  \n",
      "178  0.583706 -0.067657  0.169067  0.416451 -0.111153 -0.120477 -0.225590  \n",
      "179  0.681831 -0.079794  0.166638  0.109301 -0.041936 -0.068512 -0.377373  \n",
      "180  0.810387 -0.194665 -0.082552  0.609409 -0.112022 -0.033451 -0.293834  \n",
      "\n",
      "[181 rows x 438 columns]\n",
      "Numero de pacientes:  181\n"
     ]
    }
   ],
   "source": [
    "Y = data.Target # Target column\n",
    "\n",
    "X = data.iloc[:,1:439] # I selected all the columns by removing the Unnamed column (row id) and the Target column.\n",
    "\n",
    "print(X)\n",
    "print('Numero de pacientes: ',len(Y))"
   ]
  },
  {
   "cell_type": "markdown",
   "metadata": {},
   "source": [
    "### 3. Train-Test dataset split"
   ]
  },
  {
   "cell_type": "code",
   "execution_count": 4,
   "metadata": {},
   "outputs": [
    {
     "name": "stdout",
     "output_type": "stream",
     "text": [
      "Training set size: 144\n",
      "Target column size of the training set: 144\n",
      "Test set size: 37\n",
      "Target column size of the test set: 37\n"
     ]
    }
   ],
   "source": [
    "XTrain, XTest, yTrain, yTest = train_test_split(X, Y, test_size=0.20, random_state=125, stratify=Y)\n",
    "\n",
    "# Convert sets to arrays\n",
    "XTrain = XTrain.values\n",
    "XTest = XTest.values\n",
    "\n",
    "print('Training set size:', len(XTrain))\n",
    "print('Target column size of the training set:', len(yTrain))\n",
    "print('Test set size:', len(XTest))\n",
    "print('Target column size of the test set:', len(yTest))"
   ]
  },
  {
   "cell_type": "markdown",
   "metadata": {},
   "source": [
    "### 4. Select the parameters of the model and fit it"
   ]
  },
  {
   "cell_type": "code",
   "execution_count": 5,
   "metadata": {},
   "outputs": [
    {
     "data": {
      "text/plain": [
       "GridSearchCV(cv=5, estimator=DecisionTreeClassifier(),\n",
       "             param_grid={'criterion': ['entropy', 'gini'],\n",
       "                         'max_depth': [2, 5, 10, 12, 15, 20, 100],\n",
       "                         'min_samples_leaf': [2, 5, 7, 10],\n",
       "                         'min_samples_split': [2, 5, 7, 10],\n",
       "                         'random_state': [125],\n",
       "                         'splitter': ['best', 'random']})"
      ]
     },
     "execution_count": 5,
     "metadata": {},
     "output_type": "execute_result"
    }
   ],
   "source": [
    "param_grid = {'min_samples_leaf': [2,5,7,10],\n",
    "              'min_samples_split': [2, 5, 7, 10],\n",
    "              'max_depth':[2,5,10,12,15,20,100],\n",
    "              'criterion':['entropy','gini'],\n",
    "              'splitter': ['best', 'random'],\n",
    "              'random_state':[125]}\n",
    "\n",
    "# I created a GridSearchCV which allows us to systematically evaluate and select the parameters of our model.\n",
    "# By indicating a model and the parameters to test, you can evaluate the performance of the first one based on the\n",
    "# seconds through cross validation.\n",
    "clf = GridSearchCV(DecisionTreeClassifier(), param_grid, cv = 5)\n",
    "\n",
    "clf.fit(XTrain , yTrain)"
   ]
  },
  {
   "cell_type": "code",
   "execution_count": 6,
   "metadata": {},
   "outputs": [
    {
     "name": "stdout",
     "output_type": "stream",
     "text": [
      "Best estimate of parameters according to GridSearchCV:\n"
     ]
    },
    {
     "data": {
      "text/plain": [
       "DecisionTreeClassifier(criterion='entropy', max_depth=12, min_samples_leaf=2,\n",
       "                       min_samples_split=10, random_state=125)"
      ]
     },
     "execution_count": 6,
     "metadata": {},
     "output_type": "execute_result"
    }
   ],
   "source": [
    "print(\"Best estimate of parameters according to GridSearchCV:\")\n",
    "model = clf.best_estimator_\n",
    "# Fit the model with the best parameters\n",
    "model.fit(XTrain , yTrain)"
   ]
  },
  {
   "cell_type": "code",
   "execution_count": 7,
   "metadata": {},
   "outputs": [
    {
     "name": "stdout",
     "output_type": "stream",
     "text": [
      "Best result of the cross validation of the model with the best paramters:0.5967980295566503\n"
     ]
    }
   ],
   "source": [
    "print(\"Best result of the cross validation of the model with the best paramters:\" +str(clf.best_score_))"
   ]
  },
  {
   "cell_type": "markdown",
   "metadata": {},
   "source": [
    "### 5. Prediction"
   ]
  },
  {
   "cell_type": "code",
   "execution_count": 8,
   "metadata": {},
   "outputs": [],
   "source": [
    "# Making predictions with the optimal model on the training dataset\n",
    "yTrain=yTrain.to_numpy()\n",
    "yhatTrain = model.predict(XTrain)\n",
    "contTrain = 0\n",
    "\n",
    "# Comparing with the Target column and check how many hits there have been\n",
    "for i in range(0,len(yTrain),1) :\n",
    "    if (yhatTrain[i] == yTrain[i]):\n",
    "        contTrain = contTrain + 1"
   ]
  },
  {
   "cell_type": "code",
   "execution_count": 9,
   "metadata": {},
   "outputs": [],
   "source": [
    "# Making predictions with the optimal model on the test dataset\n",
    "yhatTest = model.predict(XTest)\n",
    "contTest = 0\n",
    "yTest=yTest.to_numpy()\n",
    "\n",
    "# Comparing with the Target column and check how many hits there have been\n",
    "for i in range(0,len(yTest),1) :\n",
    "    if (yhatTest[i] == yTest[i]):\n",
    "        contTest = contTest + 1\n"
   ]
  },
  {
   "cell_type": "markdown",
   "metadata": {},
   "source": [
    "### 6. Results"
   ]
  },
  {
   "cell_type": "code",
   "execution_count": 10,
   "metadata": {},
   "outputs": [
    {
     "name": "stdout",
     "output_type": "stream",
     "text": [
      "Final accuracy on the training dataset:0.9722222222222222\n",
      "Final accuracy on the testing dataset: 0.5405405405405406\n"
     ]
    }
   ],
   "source": [
    "print('Final accuracy on the training dataset:' + str(contTrain/len(yTrain)))\n",
    "print('Final accuracy on the testing dataset: ' + str(contTest/len(yTest)))"
   ]
  },
  {
   "cell_type": "code",
   "execution_count": 11,
   "metadata": {},
   "outputs": [
    {
     "name": "stdout",
     "output_type": "stream",
     "text": [
      "----------------Confusion Matrix (Training)------------------\n",
      "[[68  0]\n",
      " [ 4 72]]\n",
      "Input data:  [1 0 1 0 1 1 0 0 1 0 1 0 1 0 1 1 0 1 1 1 0 0 0 1 0 0 0 0 0 1 1 1 1 1 0 1 1\n",
      " 0 0 1 1 1 1 1 0 0 1 1 1 0 0 0 1 0 0 1 0 1 1 1 0 1 1 0 0 0 0 1 1 1 0 1 0 0\n",
      " 0 1 0 1 0 0 0 1 1 0 0 1 1 1 1 1 0 1 0 1 0 0 1 0 1 0 0 1 0 0 1 1 1 1 0 1 1\n",
      " 1 1 0 1 0 0 0 1 0 1 0 1 0 0 1 1 1 0 0 0 1 0 1 0 0 0 1 1 1 1 1 0 1]\n",
      "Prediction:        [1 0 1 0 1 1 0 0 1 0 1 0 1 0 1 1 0 1 1 1 0 0 0 1 0 0 0 0 0 1 1 1 1 1 0 1 1\n",
      " 0 0 1 1 1 1 1 0 0 1 1 0 0 0 0 1 0 0 1 0 1 1 1 0 1 1 0 0 0 0 1 1 1 0 1 0 0\n",
      " 0 1 0 1 0 0 0 1 1 0 0 0 1 1 1 1 0 1 0 1 0 0 1 0 1 0 0 1 0 0 1 1 1 1 0 1 0\n",
      " 1 1 0 1 0 0 0 1 0 1 0 1 0 0 1 1 1 0 0 0 1 0 1 0 0 0 1 1 0 1 1 0 1]\n"
     ]
    }
   ],
   "source": [
    "from sklearn.metrics import classification_report,confusion_matrix\n",
    "\n",
    "print('----------------Confusion Matrix (Training)------------------')\n",
    "print(confusion_matrix(yTrain,yhatTrain))\n",
    "print('Input data:  ' + str(np.array(yTrain)))\n",
    "print('Prediction:        ' +str(yhatTrain))"
   ]
  },
  {
   "cell_type": "code",
   "execution_count": 12,
   "metadata": {},
   "outputs": [
    {
     "name": "stdout",
     "output_type": "stream",
     "text": [
      "              precision    recall  f1-score   support\n",
      "\n",
      "           0       0.94      1.00      0.97        68\n",
      "           1       1.00      0.95      0.97        76\n",
      "\n",
      "    accuracy                           0.97       144\n",
      "   macro avg       0.97      0.97      0.97       144\n",
      "weighted avg       0.97      0.97      0.97       144\n",
      "\n"
     ]
    }
   ],
   "source": [
    "print(classification_report(yTrain,yhatTrain))"
   ]
  },
  {
   "cell_type": "code",
   "execution_count": 13,
   "metadata": {},
   "outputs": [
    {
     "name": "stdout",
     "output_type": "stream",
     "text": [
      "----------------Confusion Matrix (Test)------------------\n",
      "[[ 9  8]\n",
      " [ 9 11]]\n",
      "Input data:  [0 1 0 1 0 1 1 0 1 0 1 1 1 1 1 0 1 1 0 0 0 1 1 0 0 1 0 1 1 0 0 0 1 1 0 1 0]\n",
      "Prediction:        [1 1 0 0 1 0 1 1 0 0 1 1 1 0 0 1 0 0 0 1 0 1 1 0 0 1 1 1 1 0 0 1 0 0 1 1 0]\n"
     ]
    }
   ],
   "source": [
    "print('----------------Confusion Matrix (Test)------------------')\n",
    "print(confusion_matrix(yTest,yhatTest))\n",
    "print('Input data:  ' + str(np.array(yTest)))\n",
    "print('Prediction:        ' +str(yhatTest))"
   ]
  },
  {
   "cell_type": "code",
   "execution_count": 14,
   "metadata": {},
   "outputs": [
    {
     "name": "stdout",
     "output_type": "stream",
     "text": [
      "              precision    recall  f1-score   support\n",
      "\n",
      "           0       0.50      0.53      0.51        17\n",
      "           1       0.58      0.55      0.56        20\n",
      "\n",
      "    accuracy                           0.54        37\n",
      "   macro avg       0.54      0.54      0.54        37\n",
      "weighted avg       0.54      0.54      0.54        37\n",
      "\n"
     ]
    }
   ],
   "source": [
    "print(classification_report(yTest,yhatTest))"
   ]
  },
  {
   "cell_type": "markdown",
   "metadata": {},
   "source": [
    "### 7. Results visualizaton"
   ]
  },
  {
   "cell_type": "code",
   "execution_count": 15,
   "metadata": {},
   "outputs": [
    {
     "name": "stdout",
     "output_type": "stream",
     "text": [
      "Empty DataFrame\n",
      "Columns: [Target, 0, 1, 2, 3, 4, 5, 6, 7, 8, 9, 10, 11, 12, 13, 14, 15, 16, 17, 18, 19, 20, 21, 22, 23, 24, 25, 26, 27, 28, 29, 30, 31, 32, 33, 34, 35, 36, 37, 38, 39, 40, 41, 42, 43, 44, 45, 46, 47, 48, 49, 50, 51, 52, 53, 54, 55, 56, 57, 58, 59, 60, 61, 62, 63, 64, 65, 66, 67, 68, 69, 70, 71, 72, 73, 74, 75, 76, 77, 78, 79, 80, 81, 82, 83, 84, 85, 86, 87, 88, 89, 90, 91, 92, 93, 94, 95, 96, 97, 98, ...]\n",
      "Index: []\n",
      "\n",
      "[0 rows x 439 columns]\n",
      "439\n"
     ]
    }
   ],
   "source": [
    "X = data.iloc[1:1:34]\n",
    "print(X)\n",
    "cols = []\n",
    "for i in X:\n",
    "    if i!= 'Unnamed: 0':\n",
    "        cols.append(i)\n",
    "print(len(cols))"
   ]
  }
 ],
 "metadata": {
  "kernelspec": {
   "display_name": "Python 3.9.13 64-bit (microsoft store)",
   "language": "python",
   "name": "python3"
  },
  "language_info": {
   "codemirror_mode": {
    "name": "ipython",
    "version": 3
   },
   "file_extension": ".py",
   "mimetype": "text/x-python",
   "name": "python",
   "nbconvert_exporter": "python",
   "pygments_lexer": "ipython3",
   "version": "3.9.13"
  },
  "orig_nbformat": 4,
  "vscode": {
   "interpreter": {
    "hash": "fb15f1e0f376981e7b6e1fc44ae8b8146823f10f258bcd6e448b0230b889fc06"
   }
  }
 },
 "nbformat": 4,
 "nbformat_minor": 2
}
