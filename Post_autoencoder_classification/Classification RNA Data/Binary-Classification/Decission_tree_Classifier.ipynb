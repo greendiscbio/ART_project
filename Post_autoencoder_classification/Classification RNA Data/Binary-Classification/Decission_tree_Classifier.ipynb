{
 "cells": [
  {
   "cell_type": "markdown",
   "metadata": {},
   "source": [
    "# Classification model using Decision Tree"
   ]
  },
  {
   "cell_type": "markdown",
   "metadata": {},
   "source": [
    "### 1. Import libraries"
   ]
  },
  {
   "cell_type": "code",
   "execution_count": 6,
   "metadata": {},
   "outputs": [],
   "source": [
    "import pandas as pd\n",
    "import numpy as np\n",
    "import matplotlib.pyplot as plt\n",
    "from sklearn.model_selection import train_test_split\n",
    "from sklearn.tree import DecisionTreeClassifier\n",
    "from sklearn.model_selection import GridSearchCV\n"
   ]
  },
  {
   "cell_type": "markdown",
   "metadata": {},
   "source": [
    "### 2. Upload RNA data"
   ]
  },
  {
   "cell_type": "code",
   "execution_count": 7,
   "metadata": {},
   "outputs": [
    {
     "data": {
      "text/html": [
       "<div>\n",
       "<style scoped>\n",
       "    .dataframe tbody tr th:only-of-type {\n",
       "        vertical-align: middle;\n",
       "    }\n",
       "\n",
       "    .dataframe tbody tr th {\n",
       "        vertical-align: top;\n",
       "    }\n",
       "\n",
       "    .dataframe thead th {\n",
       "        text-align: right;\n",
       "    }\n",
       "</style>\n",
       "<table border=\"1\" class=\"dataframe\">\n",
       "  <thead>\n",
       "    <tr style=\"text-align: right;\">\n",
       "      <th></th>\n",
       "      <th>Unnamed: 0</th>\n",
       "      <th>RNA_ID</th>\n",
       "      <th>Age</th>\n",
       "      <th>Sarc</th>\n",
       "      <th>Rhab</th>\n",
       "      <th>Number_of_Prior_Therapies</th>\n",
       "      <th>Days_from_TumorSample_Collection_and_Start_of_Trial_Therapy</th>\n",
       "      <th>Tumor_Shrinkage</th>\n",
       "      <th>PFS</th>\n",
       "      <th>TM_TC_Ratio</th>\n",
       "      <th>...</th>\n",
       "      <th>ZWILCH</th>\n",
       "      <th>ZWINT</th>\n",
       "      <th>ZXDA</th>\n",
       "      <th>ZXDB</th>\n",
       "      <th>ZXDC</th>\n",
       "      <th>ZYG11A</th>\n",
       "      <th>ZYG11B</th>\n",
       "      <th>ZYX</th>\n",
       "      <th>ZZEF1</th>\n",
       "      <th>ZZZ3</th>\n",
       "    </tr>\n",
       "  </thead>\n",
       "  <tbody>\n",
       "    <tr>\n",
       "      <th>0</th>\n",
       "      <td>0</td>\n",
       "      <td>G138701_RCCBMS-00097-T_v1_RNA_OnPrem</td>\n",
       "      <td>62.0</td>\n",
       "      <td>0.0</td>\n",
       "      <td>0.0</td>\n",
       "      <td>2.0</td>\n",
       "      <td>707.0</td>\n",
       "      <td>0.0</td>\n",
       "      <td>5.490411</td>\n",
       "      <td>1.374775</td>\n",
       "      <td>...</td>\n",
       "      <td>0.979436</td>\n",
       "      <td>0.927694</td>\n",
       "      <td>0.847157</td>\n",
       "      <td>0.927951</td>\n",
       "      <td>0.954266</td>\n",
       "      <td>0.702499</td>\n",
       "      <td>0.924324</td>\n",
       "      <td>0.947513</td>\n",
       "      <td>0.977068</td>\n",
       "      <td>0.974450</td>\n",
       "    </tr>\n",
       "    <tr>\n",
       "      <th>1</th>\n",
       "      <td>1</td>\n",
       "      <td>G138701_RCCBMS-00099-T_v1_RNA_OnPrem</td>\n",
       "      <td>62.0</td>\n",
       "      <td>0.0</td>\n",
       "      <td>0.0</td>\n",
       "      <td>3.0</td>\n",
       "      <td>707.0</td>\n",
       "      <td>0.0</td>\n",
       "      <td>1.249315</td>\n",
       "      <td>1.374775</td>\n",
       "      <td>...</td>\n",
       "      <td>0.942790</td>\n",
       "      <td>0.904091</td>\n",
       "      <td>0.916965</td>\n",
       "      <td>0.984643</td>\n",
       "      <td>0.951518</td>\n",
       "      <td>0.702499</td>\n",
       "      <td>0.985716</td>\n",
       "      <td>0.926652</td>\n",
       "      <td>0.977485</td>\n",
       "      <td>0.952089</td>\n",
       "    </tr>\n",
       "    <tr>\n",
       "      <th>2</th>\n",
       "      <td>2</td>\n",
       "      <td>G138701_RCCBMS-00163-T_v1_RNA_OnPrem</td>\n",
       "      <td>62.0</td>\n",
       "      <td>0.0</td>\n",
       "      <td>0.0</td>\n",
       "      <td>2.0</td>\n",
       "      <td>707.0</td>\n",
       "      <td>0.0</td>\n",
       "      <td>5.654795</td>\n",
       "      <td>1.374775</td>\n",
       "      <td>...</td>\n",
       "      <td>0.899643</td>\n",
       "      <td>0.895334</td>\n",
       "      <td>0.962866</td>\n",
       "      <td>0.971061</td>\n",
       "      <td>0.941744</td>\n",
       "      <td>0.891154</td>\n",
       "      <td>0.966061</td>\n",
       "      <td>0.927933</td>\n",
       "      <td>0.938855</td>\n",
       "      <td>0.929364</td>\n",
       "    </tr>\n",
       "    <tr>\n",
       "      <th>3</th>\n",
       "      <td>3</td>\n",
       "      <td>G138701_RCCBMS-00116-T_v1_RNA_OnPrem</td>\n",
       "      <td>62.0</td>\n",
       "      <td>0.0</td>\n",
       "      <td>0.0</td>\n",
       "      <td>2.0</td>\n",
       "      <td>707.0</td>\n",
       "      <td>0.0</td>\n",
       "      <td>1.216438</td>\n",
       "      <td>1.374775</td>\n",
       "      <td>...</td>\n",
       "      <td>0.930375</td>\n",
       "      <td>0.920000</td>\n",
       "      <td>0.906820</td>\n",
       "      <td>0.965345</td>\n",
       "      <td>0.989037</td>\n",
       "      <td>0.890711</td>\n",
       "      <td>0.953759</td>\n",
       "      <td>0.925267</td>\n",
       "      <td>0.984474</td>\n",
       "      <td>0.978449</td>\n",
       "    </tr>\n",
       "    <tr>\n",
       "      <th>4</th>\n",
       "      <td>4</td>\n",
       "      <td>G138701_RCCBMS-00136-T_v1_RNA_OnPrem</td>\n",
       "      <td>62.0</td>\n",
       "      <td>0.0</td>\n",
       "      <td>0.0</td>\n",
       "      <td>2.0</td>\n",
       "      <td>707.0</td>\n",
       "      <td>0.0</td>\n",
       "      <td>2.860274</td>\n",
       "      <td>1.374775</td>\n",
       "      <td>...</td>\n",
       "      <td>0.909491</td>\n",
       "      <td>0.933381</td>\n",
       "      <td>0.970506</td>\n",
       "      <td>0.962001</td>\n",
       "      <td>0.965852</td>\n",
       "      <td>0.690264</td>\n",
       "      <td>0.961500</td>\n",
       "      <td>0.933123</td>\n",
       "      <td>0.962010</td>\n",
       "      <td>0.945552</td>\n",
       "    </tr>\n",
       "  </tbody>\n",
       "</table>\n",
       "<p>5 rows × 43921 columns</p>\n",
       "</div>"
      ],
      "text/plain": [
       "   Unnamed: 0                                RNA_ID   Age  Sarc  Rhab  \\\n",
       "0           0  G138701_RCCBMS-00097-T_v1_RNA_OnPrem  62.0   0.0   0.0   \n",
       "1           1  G138701_RCCBMS-00099-T_v1_RNA_OnPrem  62.0   0.0   0.0   \n",
       "2           2  G138701_RCCBMS-00163-T_v1_RNA_OnPrem  62.0   0.0   0.0   \n",
       "3           3  G138701_RCCBMS-00116-T_v1_RNA_OnPrem  62.0   0.0   0.0   \n",
       "4           4  G138701_RCCBMS-00136-T_v1_RNA_OnPrem  62.0   0.0   0.0   \n",
       "\n",
       "   Number_of_Prior_Therapies  \\\n",
       "0                        2.0   \n",
       "1                        3.0   \n",
       "2                        2.0   \n",
       "3                        2.0   \n",
       "4                        2.0   \n",
       "\n",
       "   Days_from_TumorSample_Collection_and_Start_of_Trial_Therapy  \\\n",
       "0                                              707.0             \n",
       "1                                              707.0             \n",
       "2                                              707.0             \n",
       "3                                              707.0             \n",
       "4                                              707.0             \n",
       "\n",
       "   Tumor_Shrinkage       PFS  TM_TC_Ratio  ...    ZWILCH     ZWINT      ZXDA  \\\n",
       "0              0.0  5.490411     1.374775  ...  0.979436  0.927694  0.847157   \n",
       "1              0.0  1.249315     1.374775  ...  0.942790  0.904091  0.916965   \n",
       "2              0.0  5.654795     1.374775  ...  0.899643  0.895334  0.962866   \n",
       "3              0.0  1.216438     1.374775  ...  0.930375  0.920000  0.906820   \n",
       "4              0.0  2.860274     1.374775  ...  0.909491  0.933381  0.970506   \n",
       "\n",
       "       ZXDB      ZXDC    ZYG11A    ZYG11B       ZYX     ZZEF1      ZZZ3  \n",
       "0  0.927951  0.954266  0.702499  0.924324  0.947513  0.977068  0.974450  \n",
       "1  0.984643  0.951518  0.702499  0.985716  0.926652  0.977485  0.952089  \n",
       "2  0.971061  0.941744  0.891154  0.966061  0.927933  0.938855  0.929364  \n",
       "3  0.965345  0.989037  0.890711  0.953759  0.925267  0.984474  0.978449  \n",
       "4  0.962001  0.965852  0.690264  0.961500  0.933123  0.962010  0.945552  \n",
       "\n",
       "[5 rows x 43921 columns]"
      ]
     },
     "execution_count": 7,
     "metadata": {},
     "output_type": "execute_result"
    }
   ],
   "source": [
    "path ='../../../Data_preprocessing//RNA post_autoencoder+Clinic joined/Clinical_data_and_RNA_total_Features_PFS.csv'\n",
    "data = pd.read_csv(path)\n",
    "data.head(5)"
   ]
  },
  {
   "cell_type": "code",
   "execution_count": 8,
   "metadata": {},
   "outputs": [
    {
     "data": {
      "text/html": [
       "<div>\n",
       "<style scoped>\n",
       "    .dataframe tbody tr th:only-of-type {\n",
       "        vertical-align: middle;\n",
       "    }\n",
       "\n",
       "    .dataframe tbody tr th {\n",
       "        vertical-align: top;\n",
       "    }\n",
       "\n",
       "    .dataframe thead th {\n",
       "        text-align: right;\n",
       "    }\n",
       "</style>\n",
       "<table border=\"1\" class=\"dataframe\">\n",
       "  <thead>\n",
       "    <tr style=\"text-align: right;\">\n",
       "      <th></th>\n",
       "      <th>5S_rRNA</th>\n",
       "      <th>7SK</th>\n",
       "      <th>A1BG</th>\n",
       "      <th>A1BG-AS1</th>\n",
       "      <th>A1CF</th>\n",
       "      <th>A2M</th>\n",
       "      <th>A2M-AS1</th>\n",
       "      <th>A2ML1</th>\n",
       "      <th>A2ML1-AS1</th>\n",
       "      <th>A2MP1</th>\n",
       "      <th>...</th>\n",
       "      <th>ZSCAN23</th>\n",
       "      <th>ZSCAN25</th>\n",
       "      <th>ZSCAN26</th>\n",
       "      <th>ZSCAN29</th>\n",
       "      <th>ZSCAN30</th>\n",
       "      <th>ZSCAN31</th>\n",
       "      <th>ZSCAN32</th>\n",
       "      <th>ZSCAN4</th>\n",
       "      <th>ZSCAN5A</th>\n",
       "      <th>ZSCAN5B</th>\n",
       "    </tr>\n",
       "  </thead>\n",
       "  <tbody>\n",
       "    <tr>\n",
       "      <th>0</th>\n",
       "      <td>0.716961</td>\n",
       "      <td>0.901091</td>\n",
       "      <td>0.899331</td>\n",
       "      <td>0.731610</td>\n",
       "      <td>0.876518</td>\n",
       "      <td>0.983111</td>\n",
       "      <td>0.761715</td>\n",
       "      <td>0.675687</td>\n",
       "      <td>1.000000</td>\n",
       "      <td>0.844881</td>\n",
       "      <td>...</td>\n",
       "      <td>0.906018</td>\n",
       "      <td>0.901859</td>\n",
       "      <td>0.956784</td>\n",
       "      <td>1.000000</td>\n",
       "      <td>0.863461</td>\n",
       "      <td>0.681978</td>\n",
       "      <td>0.920806</td>\n",
       "      <td>0.694696</td>\n",
       "      <td>0.726174</td>\n",
       "      <td>0.618840</td>\n",
       "    </tr>\n",
       "    <tr>\n",
       "      <th>1</th>\n",
       "      <td>0.716961</td>\n",
       "      <td>0.920955</td>\n",
       "      <td>0.639678</td>\n",
       "      <td>0.731610</td>\n",
       "      <td>0.865551</td>\n",
       "      <td>0.977815</td>\n",
       "      <td>0.761715</td>\n",
       "      <td>0.675687</td>\n",
       "      <td>1.000000</td>\n",
       "      <td>0.844881</td>\n",
       "      <td>...</td>\n",
       "      <td>0.888982</td>\n",
       "      <td>0.871671</td>\n",
       "      <td>0.935335</td>\n",
       "      <td>0.955474</td>\n",
       "      <td>0.951059</td>\n",
       "      <td>0.681978</td>\n",
       "      <td>0.942864</td>\n",
       "      <td>0.694696</td>\n",
       "      <td>0.969806</td>\n",
       "      <td>0.618840</td>\n",
       "    </tr>\n",
       "    <tr>\n",
       "      <th>2</th>\n",
       "      <td>0.716961</td>\n",
       "      <td>0.929084</td>\n",
       "      <td>0.893207</td>\n",
       "      <td>0.731610</td>\n",
       "      <td>0.903742</td>\n",
       "      <td>0.941019</td>\n",
       "      <td>0.928798</td>\n",
       "      <td>0.675687</td>\n",
       "      <td>1.000000</td>\n",
       "      <td>0.844881</td>\n",
       "      <td>...</td>\n",
       "      <td>0.872201</td>\n",
       "      <td>0.915482</td>\n",
       "      <td>0.897834</td>\n",
       "      <td>0.932112</td>\n",
       "      <td>0.921165</td>\n",
       "      <td>0.836775</td>\n",
       "      <td>0.900459</td>\n",
       "      <td>0.694696</td>\n",
       "      <td>0.811564</td>\n",
       "      <td>0.618840</td>\n",
       "    </tr>\n",
       "    <tr>\n",
       "      <th>3</th>\n",
       "      <td>0.716540</td>\n",
       "      <td>0.917331</td>\n",
       "      <td>0.897599</td>\n",
       "      <td>0.808758</td>\n",
       "      <td>0.747520</td>\n",
       "      <td>0.954937</td>\n",
       "      <td>0.598825</td>\n",
       "      <td>0.770790</td>\n",
       "      <td>0.995264</td>\n",
       "      <td>0.829723</td>\n",
       "      <td>...</td>\n",
       "      <td>0.938526</td>\n",
       "      <td>0.907164</td>\n",
       "      <td>0.938470</td>\n",
       "      <td>0.993855</td>\n",
       "      <td>0.955499</td>\n",
       "      <td>1.000000</td>\n",
       "      <td>0.957533</td>\n",
       "      <td>0.792372</td>\n",
       "      <td>0.881986</td>\n",
       "      <td>0.759375</td>\n",
       "    </tr>\n",
       "    <tr>\n",
       "      <th>4</th>\n",
       "      <td>0.714991</td>\n",
       "      <td>0.956733</td>\n",
       "      <td>0.881020</td>\n",
       "      <td>0.758973</td>\n",
       "      <td>0.915812</td>\n",
       "      <td>0.961075</td>\n",
       "      <td>0.919822</td>\n",
       "      <td>0.734050</td>\n",
       "      <td>0.995452</td>\n",
       "      <td>0.833815</td>\n",
       "      <td>...</td>\n",
       "      <td>0.914902</td>\n",
       "      <td>0.916405</td>\n",
       "      <td>0.928037</td>\n",
       "      <td>0.958617</td>\n",
       "      <td>0.956696</td>\n",
       "      <td>0.810564</td>\n",
       "      <td>0.934734</td>\n",
       "      <td>0.723179</td>\n",
       "      <td>0.904923</td>\n",
       "      <td>0.601262</td>\n",
       "    </tr>\n",
       "    <tr>\n",
       "      <th>...</th>\n",
       "      <td>...</td>\n",
       "      <td>...</td>\n",
       "      <td>...</td>\n",
       "      <td>...</td>\n",
       "      <td>...</td>\n",
       "      <td>...</td>\n",
       "      <td>...</td>\n",
       "      <td>...</td>\n",
       "      <td>...</td>\n",
       "      <td>...</td>\n",
       "      <td>...</td>\n",
       "      <td>...</td>\n",
       "      <td>...</td>\n",
       "      <td>...</td>\n",
       "      <td>...</td>\n",
       "      <td>...</td>\n",
       "      <td>...</td>\n",
       "      <td>...</td>\n",
       "      <td>...</td>\n",
       "      <td>...</td>\n",
       "      <td>...</td>\n",
       "    </tr>\n",
       "    <tr>\n",
       "      <th>139</th>\n",
       "      <td>0.716941</td>\n",
       "      <td>0.894894</td>\n",
       "      <td>0.837912</td>\n",
       "      <td>0.841613</td>\n",
       "      <td>0.949286</td>\n",
       "      <td>0.965205</td>\n",
       "      <td>0.891619</td>\n",
       "      <td>0.722027</td>\n",
       "      <td>0.999980</td>\n",
       "      <td>0.836349</td>\n",
       "      <td>...</td>\n",
       "      <td>0.944044</td>\n",
       "      <td>0.890234</td>\n",
       "      <td>0.919025</td>\n",
       "      <td>0.962862</td>\n",
       "      <td>0.950005</td>\n",
       "      <td>0.904248</td>\n",
       "      <td>0.897653</td>\n",
       "      <td>0.688298</td>\n",
       "      <td>0.942960</td>\n",
       "      <td>0.652955</td>\n",
       "    </tr>\n",
       "    <tr>\n",
       "      <th>140</th>\n",
       "      <td>0.716961</td>\n",
       "      <td>0.940873</td>\n",
       "      <td>0.765798</td>\n",
       "      <td>0.731610</td>\n",
       "      <td>0.645358</td>\n",
       "      <td>0.997207</td>\n",
       "      <td>0.761715</td>\n",
       "      <td>0.675687</td>\n",
       "      <td>1.000000</td>\n",
       "      <td>0.844881</td>\n",
       "      <td>...</td>\n",
       "      <td>0.712173</td>\n",
       "      <td>0.892719</td>\n",
       "      <td>0.930997</td>\n",
       "      <td>0.936610</td>\n",
       "      <td>0.931036</td>\n",
       "      <td>0.860999</td>\n",
       "      <td>0.975198</td>\n",
       "      <td>0.694696</td>\n",
       "      <td>0.876408</td>\n",
       "      <td>0.618840</td>\n",
       "    </tr>\n",
       "    <tr>\n",
       "      <th>141</th>\n",
       "      <td>0.714991</td>\n",
       "      <td>0.930476</td>\n",
       "      <td>0.923901</td>\n",
       "      <td>0.914943</td>\n",
       "      <td>0.713713</td>\n",
       "      <td>0.980062</td>\n",
       "      <td>0.959801</td>\n",
       "      <td>0.807083</td>\n",
       "      <td>0.995452</td>\n",
       "      <td>0.833815</td>\n",
       "      <td>...</td>\n",
       "      <td>0.632590</td>\n",
       "      <td>0.801168</td>\n",
       "      <td>0.944798</td>\n",
       "      <td>0.907089</td>\n",
       "      <td>0.938829</td>\n",
       "      <td>0.719603</td>\n",
       "      <td>0.934211</td>\n",
       "      <td>0.667529</td>\n",
       "      <td>0.807461</td>\n",
       "      <td>0.601262</td>\n",
       "    </tr>\n",
       "    <tr>\n",
       "      <th>142</th>\n",
       "      <td>0.714991</td>\n",
       "      <td>0.916554</td>\n",
       "      <td>0.926047</td>\n",
       "      <td>0.787616</td>\n",
       "      <td>0.868364</td>\n",
       "      <td>0.972652</td>\n",
       "      <td>0.807885</td>\n",
       "      <td>0.616311</td>\n",
       "      <td>0.995452</td>\n",
       "      <td>0.833815</td>\n",
       "      <td>...</td>\n",
       "      <td>0.918342</td>\n",
       "      <td>0.937790</td>\n",
       "      <td>0.916233</td>\n",
       "      <td>0.952558</td>\n",
       "      <td>0.970142</td>\n",
       "      <td>0.721751</td>\n",
       "      <td>0.957712</td>\n",
       "      <td>0.667529</td>\n",
       "      <td>0.940769</td>\n",
       "      <td>0.601262</td>\n",
       "    </tr>\n",
       "    <tr>\n",
       "      <th>143</th>\n",
       "      <td>0.714991</td>\n",
       "      <td>0.943652</td>\n",
       "      <td>0.908784</td>\n",
       "      <td>0.677136</td>\n",
       "      <td>0.938951</td>\n",
       "      <td>0.957465</td>\n",
       "      <td>0.836984</td>\n",
       "      <td>0.750005</td>\n",
       "      <td>0.995452</td>\n",
       "      <td>0.833815</td>\n",
       "      <td>...</td>\n",
       "      <td>0.846652</td>\n",
       "      <td>0.887784</td>\n",
       "      <td>0.955742</td>\n",
       "      <td>0.931893</td>\n",
       "      <td>0.912087</td>\n",
       "      <td>0.851200</td>\n",
       "      <td>0.954364</td>\n",
       "      <td>0.667529</td>\n",
       "      <td>0.862341</td>\n",
       "      <td>0.765347</td>\n",
       "    </tr>\n",
       "  </tbody>\n",
       "</table>\n",
       "<p>144 rows × 43866 columns</p>\n",
       "</div>"
      ],
      "text/plain": [
       "      5S_rRNA       7SK      A1BG  A1BG-AS1      A1CF       A2M   A2M-AS1  \\\n",
       "0    0.716961  0.901091  0.899331  0.731610  0.876518  0.983111  0.761715   \n",
       "1    0.716961  0.920955  0.639678  0.731610  0.865551  0.977815  0.761715   \n",
       "2    0.716961  0.929084  0.893207  0.731610  0.903742  0.941019  0.928798   \n",
       "3    0.716540  0.917331  0.897599  0.808758  0.747520  0.954937  0.598825   \n",
       "4    0.714991  0.956733  0.881020  0.758973  0.915812  0.961075  0.919822   \n",
       "..        ...       ...       ...       ...       ...       ...       ...   \n",
       "139  0.716941  0.894894  0.837912  0.841613  0.949286  0.965205  0.891619   \n",
       "140  0.716961  0.940873  0.765798  0.731610  0.645358  0.997207  0.761715   \n",
       "141  0.714991  0.930476  0.923901  0.914943  0.713713  0.980062  0.959801   \n",
       "142  0.714991  0.916554  0.926047  0.787616  0.868364  0.972652  0.807885   \n",
       "143  0.714991  0.943652  0.908784  0.677136  0.938951  0.957465  0.836984   \n",
       "\n",
       "        A2ML1  A2ML1-AS1     A2MP1  ...   ZSCAN23   ZSCAN25   ZSCAN26  \\\n",
       "0    0.675687   1.000000  0.844881  ...  0.906018  0.901859  0.956784   \n",
       "1    0.675687   1.000000  0.844881  ...  0.888982  0.871671  0.935335   \n",
       "2    0.675687   1.000000  0.844881  ...  0.872201  0.915482  0.897834   \n",
       "3    0.770790   0.995264  0.829723  ...  0.938526  0.907164  0.938470   \n",
       "4    0.734050   0.995452  0.833815  ...  0.914902  0.916405  0.928037   \n",
       "..        ...        ...       ...  ...       ...       ...       ...   \n",
       "139  0.722027   0.999980  0.836349  ...  0.944044  0.890234  0.919025   \n",
       "140  0.675687   1.000000  0.844881  ...  0.712173  0.892719  0.930997   \n",
       "141  0.807083   0.995452  0.833815  ...  0.632590  0.801168  0.944798   \n",
       "142  0.616311   0.995452  0.833815  ...  0.918342  0.937790  0.916233   \n",
       "143  0.750005   0.995452  0.833815  ...  0.846652  0.887784  0.955742   \n",
       "\n",
       "      ZSCAN29   ZSCAN30   ZSCAN31   ZSCAN32    ZSCAN4   ZSCAN5A   ZSCAN5B  \n",
       "0    1.000000  0.863461  0.681978  0.920806  0.694696  0.726174  0.618840  \n",
       "1    0.955474  0.951059  0.681978  0.942864  0.694696  0.969806  0.618840  \n",
       "2    0.932112  0.921165  0.836775  0.900459  0.694696  0.811564  0.618840  \n",
       "3    0.993855  0.955499  1.000000  0.957533  0.792372  0.881986  0.759375  \n",
       "4    0.958617  0.956696  0.810564  0.934734  0.723179  0.904923  0.601262  \n",
       "..        ...       ...       ...       ...       ...       ...       ...  \n",
       "139  0.962862  0.950005  0.904248  0.897653  0.688298  0.942960  0.652955  \n",
       "140  0.936610  0.931036  0.860999  0.975198  0.694696  0.876408  0.618840  \n",
       "141  0.907089  0.938829  0.719603  0.934211  0.667529  0.807461  0.601262  \n",
       "142  0.952558  0.970142  0.721751  0.957712  0.667529  0.940769  0.601262  \n",
       "143  0.931893  0.912087  0.851200  0.954364  0.667529  0.862341  0.765347  \n",
       "\n",
       "[144 rows x 43866 columns]"
      ]
     },
     "execution_count": 8,
     "metadata": {},
     "output_type": "execute_result"
    }
   ],
   "source": [
    "X = data.iloc[:,28:43894] \n",
    "Y = []\n",
    "for i in range (len(data)):\n",
    "    if data.PFS[i]<3: # If PFS is lower than 3 months, I will consider it as NonResponder (NR)\n",
    "        Y.append(0)\n",
    "    else:\n",
    "        Y.append(1)# If PFS is over 3 months, I will consider it as Responder (R)\n",
    "X"
   ]
  },
  {
   "cell_type": "markdown",
   "metadata": {},
   "source": [
    "### 3. Train-Test dataset split"
   ]
  },
  {
   "cell_type": "code",
   "execution_count": 9,
   "metadata": {},
   "outputs": [
    {
     "name": "stdout",
     "output_type": "stream",
     "text": [
      "Training set size: 115\n",
      "Target column size of the training set: 115\n",
      "Test set size: 29\n",
      "Target column size of the test set: 29\n"
     ]
    }
   ],
   "source": [
    "XTrain, XTest, yTrain, yTest = train_test_split(X, Y, test_size=0.20, random_state=125)\n",
    "\n",
    "# Convert sets to arrays\n",
    "XTrain = XTrain.values\n",
    "XTest = XTest.values\n",
    "\n",
    "print('Training set size:', len(XTrain))\n",
    "print('Target column size of the training set:', len(yTrain))\n",
    "print('Test set size:', len(XTest))\n",
    "print('Target column size of the test set:', len(yTest))"
   ]
  },
  {
   "cell_type": "markdown",
   "metadata": {},
   "source": [
    "### 4. Select the parameters of the model and fit it"
   ]
  },
  {
   "cell_type": "code",
   "execution_count": 10,
   "metadata": {},
   "outputs": [
    {
     "data": {
      "text/plain": [
       "GridSearchCV(cv=5, estimator=DecisionTreeClassifier(),\n",
       "             param_grid={'criterion': ['entropy', 'gini'],\n",
       "                         'max_depth': [2, 5, 10, 12],\n",
       "                         'min_samples_leaf': [2, 5, 7],\n",
       "                         'min_samples_split': [2, 5], 'random_state': [125],\n",
       "                         'splitter': ['best', 'random']})"
      ]
     },
     "execution_count": 10,
     "metadata": {},
     "output_type": "execute_result"
    }
   ],
   "source": [
    "param_grid = {'min_samples_leaf': [2,5,7],\n",
    "              'min_samples_split': [2, 5],\n",
    "              'max_depth':[2,5,10,12],\n",
    "              'criterion':['entropy','gini'],\n",
    "              'splitter': ['best', 'random'],\n",
    "              'random_state':[125]}\n",
    "\n",
    "\n",
    "# I created a GridSearchCV which allows us to systematically evaluate and select the parameters of our model.\n",
    "# By indicating a model and the parameters to test, you can evaluate the performance of the first one based on the\n",
    "# seconds through cross validation.\n",
    "clf = GridSearchCV(DecisionTreeClassifier(), param_grid, cv = 5)\n",
    "\n",
    "clf.fit(XTrain , yTrain)"
   ]
  },
  {
   "cell_type": "code",
   "execution_count": 11,
   "metadata": {},
   "outputs": [
    {
     "name": "stdout",
     "output_type": "stream",
     "text": [
      "Best estimate of parameters according to GridSearchCV:\n"
     ]
    },
    {
     "data": {
      "text/plain": [
       "DecisionTreeClassifier(max_depth=2, min_samples_leaf=7, random_state=125)"
      ]
     },
     "execution_count": 11,
     "metadata": {},
     "output_type": "execute_result"
    }
   ],
   "source": [
    "print(\"Best estimate of parameters according to GridSearchCV:\")\n",
    "model = clf.best_estimator_\n",
    "# Fit the model with the best parameters\n",
    "model.fit(XTrain , yTrain)"
   ]
  },
  {
   "cell_type": "code",
   "execution_count": 12,
   "metadata": {},
   "outputs": [
    {
     "name": "stdout",
     "output_type": "stream",
     "text": [
      "Best result of the cross validation of the model with the best paramters:0.582608695652174\n"
     ]
    }
   ],
   "source": [
    "print(\"Best result of the cross validation of the model with the best paramters:\" +str(clf.best_score_))"
   ]
  },
  {
   "cell_type": "markdown",
   "metadata": {},
   "source": [
    "### 5. Prediction"
   ]
  },
  {
   "cell_type": "code",
   "execution_count": 13,
   "metadata": {},
   "outputs": [],
   "source": [
    "# Making predictions with the optimal model on the training dataset\n",
    "yhatTrain = model.predict(XTrain)\n",
    "contTrain = 0\n",
    "\n",
    "# Comparing with the Target column and check how many hits there have been\n",
    "for i in range(0,len(yTrain),1) :\n",
    "    if (yhatTrain[i] == yTrain[i]):\n",
    "        contTrain = contTrain + 1"
   ]
  },
  {
   "cell_type": "code",
   "execution_count": 14,
   "metadata": {},
   "outputs": [],
   "source": [
    "# Making predictions with the optimal model on the test dataset\n",
    "yhatTest = model.predict(XTest)\n",
    "contTest = 0\n",
    "\n",
    "# Comparing with the Target column and check how many hits there have been\n",
    "for i in range(0,len(yTest),1) :\n",
    "    if (yhatTest[i] == yTest[i]):\n",
    "        contTest = contTest + 1\n"
   ]
  },
  {
   "cell_type": "markdown",
   "metadata": {},
   "source": [
    "### 6. Results"
   ]
  },
  {
   "cell_type": "code",
   "execution_count": 15,
   "metadata": {},
   "outputs": [
    {
     "name": "stdout",
     "output_type": "stream",
     "text": [
      "Final accuracy on the training dataset:0.8434782608695652\n",
      "Final accuracy on the testing dataset: 0.4827586206896552\n"
     ]
    }
   ],
   "source": [
    "print('Final accuracy on the training dataset:' + str(contTrain/len(yTrain)))\n",
    "print('Final accuracy on the testing dataset: ' + str(contTest/len(yTest)))"
   ]
  },
  {
   "cell_type": "code",
   "execution_count": 16,
   "metadata": {},
   "outputs": [
    {
     "name": "stdout",
     "output_type": "stream",
     "text": [
      "----------------Confusion Matrix (Training)------------------\n",
      "[[61  5]\n",
      " [13 36]]\n",
      "Input data:  [0 0 1 1 0 1 0 1 1 1 0 1 0 0 0 0 1 0 0 1 0 0 0 0 0 1 1 1 0 0 0 1 1 0 0 0 1\n",
      " 1 0 0 0 0 1 1 1 0 1 0 1 0 0 1 1 1 0 0 0 0 1 0 1 1 1 0 0 0 0 1 0 1 1 0 0 0\n",
      " 0 1 1 0 0 1 1 0 1 0 0 0 0 1 1 1 0 0 1 1 0 1 0 1 1 0 1 0 0 0 1 0 1 0 0 0 1\n",
      " 0 1 0 0]\n",
      "Prediction:        [0 0 1 1 0 1 0 1 1 1 0 1 0 0 0 0 1 0 0 0 0 0 1 0 0 1 0 1 0 0 0 1 0 0 0 0 1\n",
      " 1 0 0 0 0 0 1 0 0 1 0 0 0 0 1 1 1 0 0 0 0 1 0 0 1 0 0 0 0 0 1 0 1 0 1 0 0\n",
      " 1 0 1 0 0 1 1 0 1 0 0 1 0 1 1 1 0 0 0 1 0 1 0 0 1 0 0 0 0 0 1 0 1 1 0 0 1\n",
      " 0 1 0 0]\n"
     ]
    }
   ],
   "source": [
    "from sklearn.metrics import classification_report,confusion_matrix\n",
    "\n",
    "print('----------------Confusion Matrix (Training)------------------')\n",
    "print(confusion_matrix(yTrain,yhatTrain))\n",
    "print('Input data:  ' + str(np.array(yTrain)))\n",
    "print('Prediction:        ' +str(yhatTrain))"
   ]
  },
  {
   "cell_type": "code",
   "execution_count": 17,
   "metadata": {},
   "outputs": [
    {
     "name": "stdout",
     "output_type": "stream",
     "text": [
      "              precision    recall  f1-score   support\n",
      "\n",
      "           0       0.82      0.92      0.87        66\n",
      "           1       0.88      0.73      0.80        49\n",
      "\n",
      "    accuracy                           0.84       115\n",
      "   macro avg       0.85      0.83      0.84       115\n",
      "weighted avg       0.85      0.84      0.84       115\n",
      "\n"
     ]
    }
   ],
   "source": [
    "print(classification_report(yTrain,yhatTrain))"
   ]
  },
  {
   "cell_type": "code",
   "execution_count": 18,
   "metadata": {},
   "outputs": [
    {
     "name": "stdout",
     "output_type": "stream",
     "text": [
      "----------------Confusion Matrix (Test)------------------\n",
      "[[12  7]\n",
      " [ 8  2]]\n",
      "Input data:  [1 0 1 0 0 1 1 0 1 0 0 0 0 1 0 1 0 0 0 0 0 1 0 0 1 0 0 1 0]\n",
      "Prediction:        [0 0 0 0 0 0 0 0 1 0 1 1 0 0 1 0 0 1 1 0 0 0 1 0 1 0 0 0 1]\n"
     ]
    }
   ],
   "source": [
    "print('----------------Confusion Matrix (Test)------------------')\n",
    "print(confusion_matrix(yTest,yhatTest))\n",
    "print('Input data:  ' + str(np.array(yTest)))\n",
    "print('Prediction:        ' +str(yhatTest))"
   ]
  },
  {
   "cell_type": "code",
   "execution_count": 19,
   "metadata": {},
   "outputs": [
    {
     "name": "stdout",
     "output_type": "stream",
     "text": [
      "              precision    recall  f1-score   support\n",
      "\n",
      "           0       0.60      0.63      0.62        19\n",
      "           1       0.22      0.20      0.21        10\n",
      "\n",
      "    accuracy                           0.48        29\n",
      "   macro avg       0.41      0.42      0.41        29\n",
      "weighted avg       0.47      0.48      0.48        29\n",
      "\n"
     ]
    }
   ],
   "source": [
    "print(classification_report(yTest,yhatTest))"
   ]
  },
  {
   "cell_type": "markdown",
   "metadata": {},
   "source": [
    "### 7. Results visualizaton"
   ]
  },
  {
   "cell_type": "code",
   "execution_count": 20,
   "metadata": {},
   "outputs": [
    {
     "name": "stdout",
     "output_type": "stream",
     "text": [
      "Empty DataFrame\n",
      "Columns: [Unnamed: 0, RNA_ID, Age, Sarc, Rhab, Number_of_Prior_Therapies, Days_from_TumorSample_Collection_and_Start_of_Trial_Therapy, Tumor_Shrinkage, PFS, TM_TC_Ratio, Cohort_CM-009, Cohort_CM-010, Cohort_CM-025, Sex_Female, Sex_Male, MSKCC_FAVORABLE, MSKCC_INTERMEDIATE, MSKCC_NA, MSKCC_POOR, IMDC_FAVORABLE, IMDC_INTERMEDIATE, IMDC_NOT_REPORTED, IMDC_POOR, ImmunoPhenotype_Desert, ImmunoPhenotype_Excluded, ImmunoPhenotype_Infiltrated, ImmunoPhenotype_NA, Unnamed: 0_y, 5S_rRNA, 7SK, A1BG, A1BG-AS1, A1CF, A2M, A2M-AS1, A2ML1, A2ML1-AS1, A2MP1, A3GALT2, A4GALT, A4GNT, AAAS, AACS, AACSP1, AADAC, AADACL2, AADACL2-AS1, AADACL3, AADACL4, AADACP1, AADAT, AAED1, AAGAB, AAK1, AAMDC, AAMP, AANAT, AAR2, AARD, AARS, AARS2, AARSD1, AASDH, AASDHPPT, AASS, AATBC, AATK, AATK-AS1, AB015752.3, AB019438.66, AB019441.29, ABAT, ABCA1, ABCA10, ABCA11P, ABCA12, ABCA13, ABCA17P, ABCA2, ABCA3, ABCA4, ABCA5, ABCA6, ABCA7, ABCA8, ABCA9, ABCA9-AS1, ABCB1, ABCB10, ABCB10P3, ABCB10P4, ABCB11, ABCB4, ABCB5, ABCB6, ABCB7, ABCB8, ABCB9, ABCC1, ABCC10, ...]\n",
      "Index: []\n",
      "\n",
      "[0 rows x 43921 columns]\n",
      "43921\n"
     ]
    }
   ],
   "source": [
    "X = data.iloc[1:1:43894]\n",
    "print(X)\n",
    "cols = []\n",
    "for i in X:\n",
    "    if i!= 'Target':\n",
    "        cols.append(i)\n",
    "print(len(cols))"
   ]
  },
  {
   "cell_type": "code",
   "execution_count": 21,
   "metadata": {},
   "outputs": [
    {
     "ename": "ValueError",
     "evalue": "feature_names must contain 43866 elements, got 43921",
     "output_type": "error",
     "traceback": [
      "\u001b[1;31m---------------------------------------------------------------------------\u001b[0m",
      "\u001b[1;31mValueError\u001b[0m                                Traceback (most recent call last)",
      "\u001b[1;32m<ipython-input-21-3ad8138a0910>\u001b[0m in \u001b[0;36m<module>\u001b[1;34m\u001b[0m\n\u001b[0;32m      1\u001b[0m \u001b[1;32mfrom\u001b[0m \u001b[0msklearn\u001b[0m\u001b[1;33m.\u001b[0m\u001b[0mtree\u001b[0m \u001b[1;32mimport\u001b[0m \u001b[0mexport_text\u001b[0m\u001b[1;33m\u001b[0m\u001b[1;33m\u001b[0m\u001b[0m\n\u001b[0;32m      2\u001b[0m \u001b[1;33m\u001b[0m\u001b[0m\n\u001b[1;32m----> 3\u001b[1;33m texto_modelo = export_text(\n\u001b[0m\u001b[0;32m      4\u001b[0m                     \u001b[0mdecision_tree\u001b[0m \u001b[1;33m=\u001b[0m \u001b[0mmodel\u001b[0m\u001b[1;33m,\u001b[0m\u001b[1;33m\u001b[0m\u001b[1;33m\u001b[0m\u001b[0m\n\u001b[0;32m      5\u001b[0m                     \u001b[0mfeature_names\u001b[0m \u001b[1;33m=\u001b[0m \u001b[0mcols\u001b[0m\u001b[1;33m\u001b[0m\u001b[1;33m\u001b[0m\u001b[0m\n",
      "\u001b[1;32m~\\anaconda3\\lib\\site-packages\\sklearn\\utils\\validation.py\u001b[0m in \u001b[0;36minner_f\u001b[1;34m(*args, **kwargs)\u001b[0m\n\u001b[0;32m     61\u001b[0m             \u001b[0mextra_args\u001b[0m \u001b[1;33m=\u001b[0m \u001b[0mlen\u001b[0m\u001b[1;33m(\u001b[0m\u001b[0margs\u001b[0m\u001b[1;33m)\u001b[0m \u001b[1;33m-\u001b[0m \u001b[0mlen\u001b[0m\u001b[1;33m(\u001b[0m\u001b[0mall_args\u001b[0m\u001b[1;33m)\u001b[0m\u001b[1;33m\u001b[0m\u001b[1;33m\u001b[0m\u001b[0m\n\u001b[0;32m     62\u001b[0m             \u001b[1;32mif\u001b[0m \u001b[0mextra_args\u001b[0m \u001b[1;33m<=\u001b[0m \u001b[1;36m0\u001b[0m\u001b[1;33m:\u001b[0m\u001b[1;33m\u001b[0m\u001b[1;33m\u001b[0m\u001b[0m\n\u001b[1;32m---> 63\u001b[1;33m                 \u001b[1;32mreturn\u001b[0m \u001b[0mf\u001b[0m\u001b[1;33m(\u001b[0m\u001b[1;33m*\u001b[0m\u001b[0margs\u001b[0m\u001b[1;33m,\u001b[0m \u001b[1;33m**\u001b[0m\u001b[0mkwargs\u001b[0m\u001b[1;33m)\u001b[0m\u001b[1;33m\u001b[0m\u001b[1;33m\u001b[0m\u001b[0m\n\u001b[0m\u001b[0;32m     64\u001b[0m \u001b[1;33m\u001b[0m\u001b[0m\n\u001b[0;32m     65\u001b[0m             \u001b[1;31m# extra_args > 0\u001b[0m\u001b[1;33m\u001b[0m\u001b[1;33m\u001b[0m\u001b[1;33m\u001b[0m\u001b[0m\n",
      "\u001b[1;32m~\\anaconda3\\lib\\site-packages\\sklearn\\tree\\_export.py\u001b[0m in \u001b[0;36mexport_text\u001b[1;34m(decision_tree, feature_names, max_depth, spacing, decimals, show_weights)\u001b[0m\n\u001b[0;32m    887\u001b[0m     if (feature_names is not None and\n\u001b[0;32m    888\u001b[0m             len(feature_names) != tree_.n_features):\n\u001b[1;32m--> 889\u001b[1;33m         raise ValueError(\"feature_names must contain \"\n\u001b[0m\u001b[0;32m    890\u001b[0m                          \"%d elements, got %d\" % (tree_.n_features,\n\u001b[0;32m    891\u001b[0m                                                   len(feature_names)))\n",
      "\u001b[1;31mValueError\u001b[0m: feature_names must contain 43866 elements, got 43921"
     ]
    }
   ],
   "source": [
    "from sklearn.tree import export_text\n",
    "\n",
    "texto_modelo = export_text(\n",
    "                    decision_tree = model,\n",
    "                    feature_names = cols\n",
    "               )\n",
    "print(texto_modelo)"
   ]
  },
  {
   "cell_type": "code",
   "execution_count": null,
   "metadata": {},
   "outputs": [
    {
     "name": "stdout",
     "output_type": "stream",
     "text": [
      "Profundidad del árbol: 5\n",
      "Número de nodos terminales: 15\n"
     ]
    },
    {
     "data": {
      "image/png": "[encoded data removed]",
      "text/plain": [
       "<Figure size 1440x1080 with 1 Axes>"
      ]
     },
     "metadata": {
      "needs_background": "light"
     },
     "output_type": "display_data"
    }
   ],
   "source": [
    "from sklearn.tree import plot_tree\n",
    "\n",
    "fig, ax = plt.subplots(figsize=(20, 15))\n",
    "\n",
    "print(f\"Profundidad del árbol: {model.get_depth()}\")\n",
    "print(f\"Número de nodos terminales: {model.get_n_leaves()}\")\n",
    "\n",
    "plot = plot_tree(\n",
    "            decision_tree = model,\n",
    "            feature_names = cols,\n",
    "            class_names   = ['R','NR'],\n",
    "            filled        = True,\n",
    "            impurity      = False,\n",
    "            fontsize      = 10,\n",
    "            precision     = 2,\n",
    "            ax            = ax\n",
    "       )"
   ]
  }
 ],
 "metadata": {
  "interpreter": {
   "hash": "173607e09da2ffe2d433f1218cab6faa8c4cbe5c89eb01ef45bf4a279737dd84"
  },
  "kernelspec": {
   "display_name": "Python 3.8.8 ('base')",
   "language": "python",
   "name": "python3"
  },
  "language_info": {
   "codemirror_mode": {
    "name": "ipython",
    "version": 3
   },
   "file_extension": ".py",
   "mimetype": "text/x-python",
   "name": "python",
   "nbconvert_exporter": "python",
   "pygments_lexer": "ipython3",
   "version": "3.8.8"
  },
  "orig_nbformat": 4
 },
 "nbformat": 4,
 "nbformat_minor": 2
}
