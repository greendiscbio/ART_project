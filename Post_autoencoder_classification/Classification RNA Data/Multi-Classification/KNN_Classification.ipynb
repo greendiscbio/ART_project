{
 "cells": [
  {
   "cell_type": "markdown",
   "metadata": {},
   "source": [
    "# Classification model using KNN"
   ]
  },
  {
   "cell_type": "markdown",
   "metadata": {},
   "source": [
    "### 1. Import libraries"
   ]
  },
  {
   "cell_type": "code",
   "execution_count": 1,
   "metadata": {},
   "outputs": [],
   "source": [
    "import pandas as pd\n",
    "from sklearn import neighbors\n",
    "import matplotlib.pyplot as plt\n",
    "from sklearn.model_selection import train_test_split\n",
    "from sklearn import neighbors\n",
    "from sklearn.neighbors import KNeighborsClassifier\n",
    "from sklearn.metrics import accuracy_score\n",
    "import numpy as np\n",
    "from scipy.spatial import distance\n",
    "from sklearn import model_selection"
   ]
  },
  {
   "cell_type": "markdown",
   "metadata": {},
   "source": [
    "### 2. Upload RNA data"
   ]
  },
  {
   "cell_type": "code",
   "execution_count": 2,
   "metadata": {},
   "outputs": [
    {
     "data": {
      "text/html": [
       "<div>\n",
       "<style scoped>\n",
       "    .dataframe tbody tr th:only-of-type {\n",
       "        vertical-align: middle;\n",
       "    }\n",
       "\n",
       "    .dataframe tbody tr th {\n",
       "        vertical-align: top;\n",
       "    }\n",
       "\n",
       "    .dataframe thead th {\n",
       "        text-align: right;\n",
       "    }\n",
       "</style>\n",
       "<table border=\"1\" class=\"dataframe\">\n",
       "  <thead>\n",
       "    <tr style=\"text-align: right;\">\n",
       "      <th></th>\n",
       "      <th>Unnamed: 0</th>\n",
       "      <th>RNA_ID</th>\n",
       "      <th>Age</th>\n",
       "      <th>Sarc</th>\n",
       "      <th>Rhab</th>\n",
       "      <th>Number_of_Prior_Therapies</th>\n",
       "      <th>Days_from_TumorSample_Collection_and_Start_of_Trial_Therapy</th>\n",
       "      <th>Tumor_Shrinkage</th>\n",
       "      <th>PFS</th>\n",
       "      <th>TM_TC_Ratio</th>\n",
       "      <th>...</th>\n",
       "      <th>ZWILCH</th>\n",
       "      <th>ZWINT</th>\n",
       "      <th>ZXDA</th>\n",
       "      <th>ZXDB</th>\n",
       "      <th>ZXDC</th>\n",
       "      <th>ZYG11A</th>\n",
       "      <th>ZYG11B</th>\n",
       "      <th>ZYX</th>\n",
       "      <th>ZZEF1</th>\n",
       "      <th>ZZZ3</th>\n",
       "    </tr>\n",
       "  </thead>\n",
       "  <tbody>\n",
       "    <tr>\n",
       "      <th>0</th>\n",
       "      <td>0</td>\n",
       "      <td>G138701_RCCBMS-00097-T_v1_RNA_OnPrem</td>\n",
       "      <td>62.0</td>\n",
       "      <td>0.0</td>\n",
       "      <td>0.0</td>\n",
       "      <td>2.0</td>\n",
       "      <td>707.0</td>\n",
       "      <td>0.0</td>\n",
       "      <td>5.490411</td>\n",
       "      <td>1.374775</td>\n",
       "      <td>...</td>\n",
       "      <td>0.979436</td>\n",
       "      <td>0.927694</td>\n",
       "      <td>0.847157</td>\n",
       "      <td>0.927951</td>\n",
       "      <td>0.954266</td>\n",
       "      <td>0.702499</td>\n",
       "      <td>0.924324</td>\n",
       "      <td>0.947513</td>\n",
       "      <td>0.977068</td>\n",
       "      <td>0.974450</td>\n",
       "    </tr>\n",
       "    <tr>\n",
       "      <th>1</th>\n",
       "      <td>1</td>\n",
       "      <td>G138701_RCCBMS-00099-T_v1_RNA_OnPrem</td>\n",
       "      <td>62.0</td>\n",
       "      <td>0.0</td>\n",
       "      <td>0.0</td>\n",
       "      <td>3.0</td>\n",
       "      <td>707.0</td>\n",
       "      <td>0.0</td>\n",
       "      <td>1.249315</td>\n",
       "      <td>1.374775</td>\n",
       "      <td>...</td>\n",
       "      <td>0.942790</td>\n",
       "      <td>0.904091</td>\n",
       "      <td>0.916965</td>\n",
       "      <td>0.984643</td>\n",
       "      <td>0.951518</td>\n",
       "      <td>0.702499</td>\n",
       "      <td>0.985716</td>\n",
       "      <td>0.926652</td>\n",
       "      <td>0.977485</td>\n",
       "      <td>0.952089</td>\n",
       "    </tr>\n",
       "    <tr>\n",
       "      <th>2</th>\n",
       "      <td>2</td>\n",
       "      <td>G138701_RCCBMS-00163-T_v1_RNA_OnPrem</td>\n",
       "      <td>62.0</td>\n",
       "      <td>0.0</td>\n",
       "      <td>0.0</td>\n",
       "      <td>2.0</td>\n",
       "      <td>707.0</td>\n",
       "      <td>0.0</td>\n",
       "      <td>5.654795</td>\n",
       "      <td>1.374775</td>\n",
       "      <td>...</td>\n",
       "      <td>0.899643</td>\n",
       "      <td>0.895334</td>\n",
       "      <td>0.962866</td>\n",
       "      <td>0.971061</td>\n",
       "      <td>0.941744</td>\n",
       "      <td>0.891154</td>\n",
       "      <td>0.966061</td>\n",
       "      <td>0.927933</td>\n",
       "      <td>0.938855</td>\n",
       "      <td>0.929364</td>\n",
       "    </tr>\n",
       "    <tr>\n",
       "      <th>3</th>\n",
       "      <td>3</td>\n",
       "      <td>G138701_RCCBMS-00116-T_v1_RNA_OnPrem</td>\n",
       "      <td>62.0</td>\n",
       "      <td>0.0</td>\n",
       "      <td>0.0</td>\n",
       "      <td>2.0</td>\n",
       "      <td>707.0</td>\n",
       "      <td>0.0</td>\n",
       "      <td>1.216438</td>\n",
       "      <td>1.374775</td>\n",
       "      <td>...</td>\n",
       "      <td>0.930375</td>\n",
       "      <td>0.920000</td>\n",
       "      <td>0.906820</td>\n",
       "      <td>0.965345</td>\n",
       "      <td>0.989037</td>\n",
       "      <td>0.890711</td>\n",
       "      <td>0.953759</td>\n",
       "      <td>0.925267</td>\n",
       "      <td>0.984474</td>\n",
       "      <td>0.978449</td>\n",
       "    </tr>\n",
       "    <tr>\n",
       "      <th>4</th>\n",
       "      <td>4</td>\n",
       "      <td>G138701_RCCBMS-00136-T_v1_RNA_OnPrem</td>\n",
       "      <td>62.0</td>\n",
       "      <td>0.0</td>\n",
       "      <td>0.0</td>\n",
       "      <td>2.0</td>\n",
       "      <td>707.0</td>\n",
       "      <td>0.0</td>\n",
       "      <td>2.860274</td>\n",
       "      <td>1.374775</td>\n",
       "      <td>...</td>\n",
       "      <td>0.909491</td>\n",
       "      <td>0.933381</td>\n",
       "      <td>0.970506</td>\n",
       "      <td>0.962001</td>\n",
       "      <td>0.965852</td>\n",
       "      <td>0.690264</td>\n",
       "      <td>0.961500</td>\n",
       "      <td>0.933123</td>\n",
       "      <td>0.962010</td>\n",
       "      <td>0.945552</td>\n",
       "    </tr>\n",
       "  </tbody>\n",
       "</table>\n",
       "<p>5 rows × 43921 columns</p>\n",
       "</div>"
      ],
      "text/plain": [
       "   Unnamed: 0                                RNA_ID   Age  Sarc  Rhab  \\\n",
       "0           0  G138701_RCCBMS-00097-T_v1_RNA_OnPrem  62.0   0.0   0.0   \n",
       "1           1  G138701_RCCBMS-00099-T_v1_RNA_OnPrem  62.0   0.0   0.0   \n",
       "2           2  G138701_RCCBMS-00163-T_v1_RNA_OnPrem  62.0   0.0   0.0   \n",
       "3           3  G138701_RCCBMS-00116-T_v1_RNA_OnPrem  62.0   0.0   0.0   \n",
       "4           4  G138701_RCCBMS-00136-T_v1_RNA_OnPrem  62.0   0.0   0.0   \n",
       "\n",
       "   Number_of_Prior_Therapies  \\\n",
       "0                        2.0   \n",
       "1                        3.0   \n",
       "2                        2.0   \n",
       "3                        2.0   \n",
       "4                        2.0   \n",
       "\n",
       "   Days_from_TumorSample_Collection_and_Start_of_Trial_Therapy  \\\n",
       "0                                              707.0             \n",
       "1                                              707.0             \n",
       "2                                              707.0             \n",
       "3                                              707.0             \n",
       "4                                              707.0             \n",
       "\n",
       "   Tumor_Shrinkage       PFS  TM_TC_Ratio  ...    ZWILCH     ZWINT      ZXDA  \\\n",
       "0              0.0  5.490411     1.374775  ...  0.979436  0.927694  0.847157   \n",
       "1              0.0  1.249315     1.374775  ...  0.942790  0.904091  0.916965   \n",
       "2              0.0  5.654795     1.374775  ...  0.899643  0.895334  0.962866   \n",
       "3              0.0  1.216438     1.374775  ...  0.930375  0.920000  0.906820   \n",
       "4              0.0  2.860274     1.374775  ...  0.909491  0.933381  0.970506   \n",
       "\n",
       "       ZXDB      ZXDC    ZYG11A    ZYG11B       ZYX     ZZEF1      ZZZ3  \n",
       "0  0.927951  0.954266  0.702499  0.924324  0.947513  0.977068  0.974450  \n",
       "1  0.984643  0.951518  0.702499  0.985716  0.926652  0.977485  0.952089  \n",
       "2  0.971061  0.941744  0.891154  0.966061  0.927933  0.938855  0.929364  \n",
       "3  0.965345  0.989037  0.890711  0.953759  0.925267  0.984474  0.978449  \n",
       "4  0.962001  0.965852  0.690264  0.961500  0.933123  0.962010  0.945552  \n",
       "\n",
       "[5 rows x 43921 columns]"
      ]
     },
     "execution_count": 2,
     "metadata": {},
     "output_type": "execute_result"
    }
   ],
   "source": [
    "path ='../../../Data_preprocessing//RNA post_autoencoder+Clinic joined/Clinical_data_and_RNA_total_Features_PFS.csv'\n",
    "data = pd.read_csv(path)\n",
    "data.head(5)"
   ]
  },
  {
   "cell_type": "code",
   "execution_count": 3,
   "metadata": {},
   "outputs": [
    {
     "name": "stdout",
     "output_type": "stream",
     "text": [
      "      5S_rRNA       7SK      A1BG  A1BG-AS1      A1CF       A2M   A2M-AS1  \\\n",
      "0    0.716961  0.901091  0.899331  0.731610  0.876518  0.983111  0.761715   \n",
      "1    0.716961  0.920955  0.639678  0.731610  0.865551  0.977815  0.761715   \n",
      "2    0.716961  0.929084  0.893207  0.731610  0.903742  0.941019  0.928798   \n",
      "3    0.716540  0.917331  0.897599  0.808758  0.747520  0.954937  0.598825   \n",
      "4    0.714991  0.956733  0.881020  0.758973  0.915812  0.961075  0.919822   \n",
      "..        ...       ...       ...       ...       ...       ...       ...   \n",
      "139  0.716941  0.894894  0.837912  0.841613  0.949286  0.965205  0.891619   \n",
      "140  0.716961  0.940873  0.765798  0.731610  0.645358  0.997207  0.761715   \n",
      "141  0.714991  0.930476  0.923901  0.914943  0.713713  0.980062  0.959801   \n",
      "142  0.714991  0.916554  0.926047  0.787616  0.868364  0.972652  0.807885   \n",
      "143  0.714991  0.943652  0.908784  0.677136  0.938951  0.957465  0.836984   \n",
      "\n",
      "        A2ML1  A2ML1-AS1     A2MP1  ...    ZWILCH     ZWINT      ZXDA  \\\n",
      "0    0.675687   1.000000  0.844881  ...  0.979436  0.927694  0.847157   \n",
      "1    0.675687   1.000000  0.844881  ...  0.942790  0.904091  0.916965   \n",
      "2    0.675687   1.000000  0.844881  ...  0.899643  0.895334  0.962866   \n",
      "3    0.770790   0.995264  0.829723  ...  0.930375  0.920000  0.906820   \n",
      "4    0.734050   0.995452  0.833815  ...  0.909491  0.933381  0.970506   \n",
      "..        ...        ...       ...  ...       ...       ...       ...   \n",
      "139  0.722027   0.999980  0.836349  ...  0.900182  0.866991  0.971455   \n",
      "140  0.675687   1.000000  0.844881  ...  0.935470  0.924333  0.932607   \n",
      "141  0.807083   0.995452  0.833815  ...  0.960133  0.668074  0.944416   \n",
      "142  0.616311   0.995452  0.833815  ...  0.901497  0.917202  0.930950   \n",
      "143  0.750005   0.995452  0.833815  ...  0.910086  0.932970  0.943619   \n",
      "\n",
      "         ZXDB      ZXDC    ZYG11A    ZYG11B       ZYX     ZZEF1      ZZZ3  \n",
      "0    0.927951  0.954266  0.702499  0.924324  0.947513  0.977068  0.974450  \n",
      "1    0.984643  0.951518  0.702499  0.985716  0.926652  0.977485  0.952089  \n",
      "2    0.971061  0.941744  0.891154  0.966061  0.927933  0.938855  0.929364  \n",
      "3    0.965345  0.989037  0.890711  0.953759  0.925267  0.984474  0.978449  \n",
      "4    0.962001  0.965852  0.690264  0.961500  0.933123  0.962010  0.945552  \n",
      "..        ...       ...       ...       ...       ...       ...       ...  \n",
      "139  0.956879  0.957487  0.774629  0.955591  0.940010  0.965887  0.964150  \n",
      "140  0.944305  0.927822  0.702499  0.972694  0.945581  0.986307  0.963138  \n",
      "141  0.917223  0.928880  0.690264  0.981639  0.950455  0.978237  0.970203  \n",
      "142  0.989062  0.982321  0.826313  0.946807  0.955974  0.954551  0.931889  \n",
      "143  0.934864  0.948667  0.978627  0.985878  0.939490  0.959936  0.966365  \n",
      "\n",
      "[144 rows x 43893 columns]\n"
     ]
    }
   ],
   "source": [
    "X = data.iloc[:,28:43921  ] \n",
    "Y = []\n",
    "for i in range (len(data)):\n",
    "    if data.PFS[i]<3: # If PFS is lower than 3 months, I will consider it as NonResponder (NR)\n",
    "        Y.append(0)\n",
    "    elif data.PFS[i]<6:\n",
    "        Y.append(1)\n",
    "    else:\n",
    "        Y.append(2)\n",
    "print(X)\n"
   ]
  },
  {
   "cell_type": "markdown",
   "metadata": {},
   "source": [
    "### 3. Train-Test dataset split"
   ]
  },
  {
   "cell_type": "code",
   "execution_count": 4,
   "metadata": {},
   "outputs": [
    {
     "name": "stdout",
     "output_type": "stream",
     "text": [
      "Training set size: 115\n",
      "Target column size of the training set: 115\n",
      "Test set size: 29\n",
      "Target column size of the test set: 29\n"
     ]
    }
   ],
   "source": [
    "XTrain, XTest, yTrain, yTest = train_test_split(X, Y, test_size=0.20, random_state=125)\n",
    "# Convert sets to arrays\n",
    "\n",
    "XTrain = XTrain.values\n",
    "XTest = XTest.values\n",
    "\n",
    "print('Training set size:', len(XTrain))\n",
    "print('Target column size of the training set:', len(yTrain))\n",
    "print('Test set size:', len(XTest))\n",
    "print('Target column size of the test set:', len(yTest))"
   ]
  },
  {
   "cell_type": "markdown",
   "metadata": {},
   "source": [
    "### 4. Study the best value for K"
   ]
  },
  {
   "cell_type": "code",
   "execution_count": 5,
   "metadata": {},
   "outputs": [
    {
     "name": "stdout",
     "output_type": "stream",
     "text": [
      "Best accuracy is obtained with k = 5 and is: 0.6897\n"
     ]
    }
   ],
   "source": [
    "neighbors = list(range(1,8))\n",
    "cek = []\n",
    "list_accuracy = []\n",
    "best_acuracy = 0\n",
    "best_k = 0\n",
    "for k in neighbors:\n",
    "    knn = KNeighborsClassifier(n_neighbors=k)\n",
    "    pred = knn.fit(XTrain, yTrain).predict(XTest)\n",
    "    if accuracy_score(yTest, pred) >= best_acuracy:\n",
    "        best_k = k\n",
    "        best_acuracy=accuracy_score(yTest, pred)\n",
    "    list_accuracy.append(accuracy_score(yTest, pred))\n",
    "\n",
    "print(\"Best accuracy is obtained with k = \" + str(best_k)+ \" and is: %.4f\" % (best_acuracy))\n"
   ]
  },
  {
   "cell_type": "code",
   "execution_count": 6,
   "metadata": {},
   "outputs": [
    {
     "data": {
      "image/png": "[encoded data removed]",
      "text/plain": [
       "<Figure size 432x288 with 1 Axes>"
      ]
     },
     "metadata": {
      "needs_background": "light"
     },
     "output_type": "display_data"
    }
   ],
   "source": [
    "plt.plot(np.append(np.roll(list_accuracy,1),list_accuracy[6]),'ro', color='r', linestyle='dashed',linewidth=1.0, label=\"Graph2\")\n",
    "# Green dot represent best K value\n",
    "plt.plot(best_k, best_acuracy, 'ro', color ='g')\n",
    "plt.axis([1, 7, 0.5, 1])\n",
    "plt.xlabel('K')\n",
    "plt.ylabel('Accuracy')\n",
    "\n",
    "plt.grid()\n",
    "plt.show()"
   ]
  },
  {
   "cell_type": "markdown",
   "metadata": {},
   "source": [
    "### 5. Best metric study (manhattan or euclidean)"
   ]
  },
  {
   "cell_type": "code",
   "execution_count": 7,
   "metadata": {},
   "outputs": [
    {
     "data": {
      "text/plain": [
       "KNeighborsClassifier(metric=<function cityblock at 0x00000225E44A6F70>)"
      ]
     },
     "execution_count": 7,
     "metadata": {},
     "output_type": "execute_result"
    }
   ],
   "source": [
    "from sklearn import neighbors\n",
    "# Euclidean distance model\n",
    "euclid_model = KNeighborsClassifier(n_neighbors=best_k, metric=distance.sqeuclidean)\n",
    "euclid_model.fit(XTrain,yTrain) \n",
    "\n",
    "# Manhattan distance model\n",
    "manhattan_model = KNeighborsClassifier(n_neighbors=best_k, metric=distance.cityblock) \n",
    "manhattan_model.fit(XTrain, yTrain)"
   ]
  },
  {
   "cell_type": "code",
   "execution_count": 8,
   "metadata": {},
   "outputs": [
    {
     "data": {
      "text/html": [
       "<div>\n",
       "<style scoped>\n",
       "    .dataframe tbody tr th:only-of-type {\n",
       "        vertical-align: middle;\n",
       "    }\n",
       "\n",
       "    .dataframe tbody tr th {\n",
       "        vertical-align: top;\n",
       "    }\n",
       "\n",
       "    .dataframe thead th {\n",
       "        text-align: right;\n",
       "    }\n",
       "</style>\n",
       "<table border=\"1\" class=\"dataframe\">\n",
       "  <thead>\n",
       "    <tr style=\"text-align: right;\">\n",
       "      <th></th>\n",
       "      <th>actual</th>\n",
       "      <th>manhattan</th>\n",
       "      <th>euclid</th>\n",
       "    </tr>\n",
       "  </thead>\n",
       "  <tbody>\n",
       "    <tr>\n",
       "      <th>0</th>\n",
       "      <td>2</td>\n",
       "      <td>0</td>\n",
       "      <td>0</td>\n",
       "    </tr>\n",
       "    <tr>\n",
       "      <th>1</th>\n",
       "      <td>0</td>\n",
       "      <td>1</td>\n",
       "      <td>0</td>\n",
       "    </tr>\n",
       "    <tr>\n",
       "      <th>2</th>\n",
       "      <td>2</td>\n",
       "      <td>0</td>\n",
       "      <td>0</td>\n",
       "    </tr>\n",
       "    <tr>\n",
       "      <th>3</th>\n",
       "      <td>0</td>\n",
       "      <td>0</td>\n",
       "      <td>0</td>\n",
       "    </tr>\n",
       "    <tr>\n",
       "      <th>4</th>\n",
       "      <td>0</td>\n",
       "      <td>1</td>\n",
       "      <td>0</td>\n",
       "    </tr>\n",
       "  </tbody>\n",
       "</table>\n",
       "</div>"
      ],
      "text/plain": [
       "   actual  manhattan  euclid\n",
       "0       2          0       0\n",
       "1       0          1       0\n",
       "2       2          0       0\n",
       "3       0          0       0\n",
       "4       0          1       0"
      ]
     },
     "execution_count": 8,
     "metadata": {},
     "output_type": "execute_result"
    }
   ],
   "source": [
    "manhattan_predictions = manhattan_model.predict(XTest)\n",
    "euclid_predictions = euclid_model.predict(XTest) \n",
    "df = pd.DataFrame({'actual': yTest, 'manhattan': manhattan_predictions, 'euclid': euclid_predictions})\n",
    "df.head()"
   ]
  },
  {
   "cell_type": "code",
   "execution_count": 9,
   "metadata": {},
   "outputs": [
    {
     "name": "stdout",
     "output_type": "stream",
     "text": [
      "Best result of the cross validation of the model (euclidean) with the best paramters:0.5043478260869565\n",
      "Best result of the cross validation of the model (manhattan) with the best paramters:0.4869565217391304\n"
     ]
    }
   ],
   "source": [
    "result1= model_selection.cross_val_score(euclid_model, XTrain, yTrain, cv=5, scoring='accuracy')\n",
    "result2 = model_selection.cross_val_score(manhattan_model, XTrain, yTrain, cv=5, scoring='accuracy')\n",
    "print(\"Best result of the cross validation of the model (euclidean) with the best paramters:\" +str(np.mean(result1)))\n",
    "print(\"Best result of the cross validation of the model (manhattan) with the best paramters:\" +str(np.mean(result2)))"
   ]
  },
  {
   "cell_type": "markdown",
   "metadata": {},
   "source": [
    "#### 6.1. Manhattan model"
   ]
  },
  {
   "cell_type": "code",
   "execution_count": 10,
   "metadata": {},
   "outputs": [],
   "source": [
    "# Making predictions with the optimal model on the training dataset\n",
    "yhatTrain = manhattan_model.predict(XTrain)\n",
    "contTrain = 0\n",
    "\n",
    "# Comparing with the Target column and check how many hits there have been\n",
    "for i in range(0,len(yTrain),1) :\n",
    "    if (yhatTrain[i] == yTrain[i]):\n",
    "        contTrain = contTrain + 1"
   ]
  },
  {
   "cell_type": "code",
   "execution_count": 11,
   "metadata": {},
   "outputs": [],
   "source": [
    "# Making predictions with the optimal model on the test dataset\n",
    "mayhatTest = manhattan_model.predict(XTest)\n",
    "contTest = 0\n",
    "\n",
    "# Comparing with the Target column and check how many hits there have been\n",
    "for i in range(0,len(yTest),1) :\n",
    "    if (mayhatTest[i] == yTest[i]):\n",
    "        contTest = contTest + 1"
   ]
  },
  {
   "cell_type": "code",
   "execution_count": 12,
   "metadata": {},
   "outputs": [
    {
     "name": "stdout",
     "output_type": "stream",
     "text": [
      "Final accuracy on the training dataset (manhattan): 0.6173913043478261\n",
      "Final accuracy on the testing dataset (manhattan): 0.5862068965517241\n"
     ]
    }
   ],
   "source": [
    "print('Final accuracy on the training dataset (manhattan): ' + str(contTrain/len(yTrain)))\n",
    "print('Final accuracy on the testing dataset (manhattan): ' + str(contTest/len(yTest)))"
   ]
  },
  {
   "cell_type": "code",
   "execution_count": 13,
   "metadata": {},
   "outputs": [
    {
     "name": "stdout",
     "output_type": "stream",
     "text": [
      "----------------Confusion Matrix (Training)------------------\n",
      "[[59  6  1]\n",
      " [17  9  1]\n",
      " [16  3  3]]\n",
      "Input data:  [0 0 2 2 0 1 0 1 1 1 0 1 0 0 0 0 2 0 0 1 0 0 0 0 0 2 2 2 0 0 0 2 1 0 0 0 2\n",
      " 1 0 0 0 0 2 1 1 0 1 0 1 0 0 2 1 2 0 0 0 0 1 0 2 2 1 0 0 0 0 2 0 2 2 0 0 0\n",
      " 0 2 1 0 0 1 1 0 2 0 0 0 0 2 1 1 0 0 2 1 0 2 0 1 1 0 2 0 0 0 1 0 1 0 0 0 1\n",
      " 0 1 0 0]\n",
      "Prediction:        [0 0 0 1 0 1 0 0 0 0 0 1 0 0 1 0 0 0 1 0 0 0 0 0 0 0 0 1 2 1 0 0 0 0 0 0 0\n",
      " 1 0 1 0 0 0 1 0 0 0 0 1 0 0 0 0 2 1 0 0 0 1 1 0 0 2 0 0 0 0 0 0 0 2 0 0 0\n",
      " 0 1 0 0 0 1 0 0 0 0 0 0 0 0 0 0 0 0 0 1 0 0 0 0 0 0 2 0 0 0 0 0 0 0 0 0 0\n",
      " 0 1 0 0]\n"
     ]
    }
   ],
   "source": [
    "from sklearn.metrics import classification_report,confusion_matrix\n",
    "\n",
    "print('----------------Confusion Matrix (Training)------------------')\n",
    "print(confusion_matrix(yTrain,yhatTrain))\n",
    "print('Input data:  ' + str(np.array(yTrain)))\n",
    "print('Prediction:        ' +str(yhatTrain))"
   ]
  },
  {
   "cell_type": "code",
   "execution_count": 14,
   "metadata": {},
   "outputs": [
    {
     "name": "stdout",
     "output_type": "stream",
     "text": [
      "              precision    recall  f1-score   support\n",
      "\n",
      "           0       0.64      0.89      0.75        66\n",
      "           1       0.50      0.33      0.40        27\n",
      "           2       0.60      0.14      0.22        22\n",
      "\n",
      "    accuracy                           0.62       115\n",
      "   macro avg       0.58      0.45      0.46       115\n",
      "weighted avg       0.60      0.62      0.57       115\n",
      "\n"
     ]
    }
   ],
   "source": [
    "print(classification_report(yTrain,yhatTrain))"
   ]
  },
  {
   "cell_type": "code",
   "execution_count": 15,
   "metadata": {},
   "outputs": [
    {
     "name": "stdout",
     "output_type": "stream",
     "text": [
      "----------------Confusion Matrix (Test)------------------\n",
      "[[16  3  0]\n",
      " [ 3  1  0]\n",
      " [ 4  2  0]]\n",
      "Input data:  [2 0 2 0 0 2 2 0 2 0 0 0 0 1 0 1 0 0 0 0 0 1 0 0 2 0 0 1 0]\n",
      "Prediction:        [0 1 0 0 1 0 0 0 1 0 0 0 0 1 0 0 0 0 0 0 0 0 0 0 1 0 1 0 0]\n"
     ]
    }
   ],
   "source": [
    "from sklearn.metrics import confusion_matrix\n",
    "confusion_matrix = confusion_matrix(yTest, mayhatTest)\n",
    "print('----------------Confusion Matrix (Test)------------------')\n",
    "print(confusion_matrix)\n",
    "print('Input data:  ' + str(np.array(yTest)))\n",
    "print('Prediction:        ' +str(mayhatTest))"
   ]
  },
  {
   "cell_type": "code",
   "execution_count": 16,
   "metadata": {},
   "outputs": [
    {
     "name": "stdout",
     "output_type": "stream",
     "text": [
      "              precision    recall  f1-score   support\n",
      "\n",
      "           0       0.70      0.84      0.76        19\n",
      "           1       0.17      0.25      0.20         4\n",
      "           2       0.00      0.00      0.00         6\n",
      "\n",
      "    accuracy                           0.59        29\n",
      "   macro avg       0.29      0.36      0.32        29\n",
      "weighted avg       0.48      0.59      0.53        29\n",
      "\n"
     ]
    },
    {
     "name": "stderr",
     "output_type": "stream",
     "text": [
      "C:\\Users\\sandr\\anaconda3\\lib\\site-packages\\sklearn\\metrics\\_classification.py:1245: UndefinedMetricWarning: Precision and F-score are ill-defined and being set to 0.0 in labels with no predicted samples. Use `zero_division` parameter to control this behavior.\n",
      "  _warn_prf(average, modifier, msg_start, len(result))\n",
      "C:\\Users\\sandr\\anaconda3\\lib\\site-packages\\sklearn\\metrics\\_classification.py:1245: UndefinedMetricWarning: Precision and F-score are ill-defined and being set to 0.0 in labels with no predicted samples. Use `zero_division` parameter to control this behavior.\n",
      "  _warn_prf(average, modifier, msg_start, len(result))\n",
      "C:\\Users\\sandr\\anaconda3\\lib\\site-packages\\sklearn\\metrics\\_classification.py:1245: UndefinedMetricWarning: Precision and F-score are ill-defined and being set to 0.0 in labels with no predicted samples. Use `zero_division` parameter to control this behavior.\n",
      "  _warn_prf(average, modifier, msg_start, len(result))\n"
     ]
    }
   ],
   "source": [
    "print(classification_report(yTest, mayhatTest))"
   ]
  }
 ],
 "metadata": {
  "interpreter": {
   "hash": "173607e09da2ffe2d433f1218cab6faa8c4cbe5c89eb01ef45bf4a279737dd84"
  },
  "kernelspec": {
   "display_name": "Python 3.8.8 ('base')",
   "language": "python",
   "name": "python3"
  },
  "language_info": {
   "codemirror_mode": {
    "name": "ipython",
    "version": 3
   },
   "file_extension": ".py",
   "mimetype": "text/x-python",
   "name": "python",
   "nbconvert_exporter": "python",
   "pygments_lexer": "ipython3",
   "version": "3.8.8"
  },
  "orig_nbformat": 4
 },
 "nbformat": 4,
 "nbformat_minor": 2
}
