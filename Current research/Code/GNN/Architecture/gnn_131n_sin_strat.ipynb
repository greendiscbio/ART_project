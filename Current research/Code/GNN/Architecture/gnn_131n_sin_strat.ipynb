{
  "cells": [
    {
      "cell_type": "markdown",
      "metadata": {
        "id": "lC1yqJaZPINt"
      },
      "source": [
        "# 1. Instalar librerias\n",
        "\n"
      ]
    },
    {
      "cell_type": "code",
      "execution_count": 1,
      "metadata": {
        "colab": {
          "base_uri": "https://localhost:8080/"
        },
        "id": "SCvXPU7Wtwln",
        "outputId": "5cd14c97-71ec-469e-9c2d-387a94d06a34"
      },
      "outputs": [
        {
          "name": "stdout",
          "output_type": "stream",
          "text": [
            "Looking in indexes: https://pypi.org/simple, https://us-python.pkg.dev/colab-wheels/public/simple/\n",
            "Collecting torch-scatter\n",
            "  Downloading torch_scatter-2.0.9.tar.gz (21 kB)\n",
            "Building wheels for collected packages: torch-scatter\n",
            "  Building wheel for torch-scatter (setup.py) ... \u001b[?25l\u001b[?25hdone\n",
            "  Created wheel for torch-scatter: filename=torch_scatter-2.0.9-cp37-cp37m-linux_x86_64.whl size=274491 sha256=1c677246736404319a9cdabee151766ff6b006243b1f2a5324866141414011f2\n",
            "  Stored in directory: /root/.cache/pip/wheels/dd/57/a3/42ea193b77378ce634eb9454c9bc1e3163f3b482a35cdee4d1\n",
            "Successfully built torch-scatter\n",
            "Installing collected packages: torch-scatter\n",
            "Successfully installed torch-scatter-2.0.9\n"
          ]
        }
      ],
      "source": [
        "pip install torch-scatter"
      ]
    },
    {
      "cell_type": "code",
      "execution_count": 2,
      "metadata": {
        "colab": {
          "base_uri": "https://localhost:8080/"
        },
        "id": "6LME1Y91tzVE",
        "outputId": "51ca16c5-7b91-4f56-9c01-2e98ffefd64c"
      },
      "outputs": [
        {
          "name": "stdout",
          "output_type": "stream",
          "text": [
            "Looking in indexes: https://pypi.org/simple, https://us-python.pkg.dev/colab-wheels/public/simple/\n",
            "Collecting torch-sparse\n",
            "  Downloading torch_sparse-0.6.15.tar.gz (2.1 MB)\n",
            "\u001b[K     |████████████████████████████████| 2.1 MB 7.7 MB/s \n",
            "\u001b[?25hRequirement already satisfied: scipy in /usr/local/lib/python3.7/dist-packages (from torch-sparse) (1.7.3)\n",
            "Requirement already satisfied: numpy<1.23.0,>=1.16.5 in /usr/local/lib/python3.7/dist-packages (from scipy->torch-sparse) (1.21.6)\n",
            "Building wheels for collected packages: torch-sparse\n",
            "  Building wheel for torch-sparse (setup.py) ... \u001b[?25l\u001b[?25hdone\n",
            "  Created wheel for torch-sparse: filename=torch_sparse-0.6.15-cp37-cp37m-linux_x86_64.whl size=516860 sha256=bdbb8fbdae5b81f163292af421baa38a7b7465aeed0105e3c78a34f91ab2f1c1\n",
            "  Stored in directory: /root/.cache/pip/wheels/15/68/4d/1414be5c2c622bad35364e13213180797717b6d4b8923936dc\n",
            "Successfully built torch-sparse\n",
            "Installing collected packages: torch-sparse\n",
            "Successfully installed torch-sparse-0.6.15\n"
          ]
        }
      ],
      "source": [
        "pip install torch-sparse"
      ]
    },
    {
      "cell_type": "code",
      "execution_count": null,
      "metadata": {
        "id": "tt157k-3t1VD"
      },
      "outputs": [],
      "source": [
        "pip install torch-geometric"
      ]
    },
    {
      "cell_type": "markdown",
      "metadata": {
        "id": "nq4sGAzVPUJY"
      },
      "source": [
        "# 2. Crear dataset"
      ]
    },
    {
      "cell_type": "code",
      "execution_count": 4,
      "metadata": {
        "id": "r7QHvCssx_mH"
      },
      "outputs": [],
      "source": [
        "import torch\n",
        "from torch_geometric.data import Data\n",
        "import networkx as nx\n",
        "import numpy as np\n",
        "import matplotlib.pyplot as plt\n",
        "import pandas as pd\n",
        "import numpy as np"
      ]
    },
    {
      "cell_type": "code",
      "execution_count": 6,
      "metadata": {
        "colab": {
          "base_uri": "https://localhost:8080/"
        },
        "id": "ai0AKF5OG0oR",
        "outputId": "6a122753-bbc9-4b2a-c8ed-7e2cc5e37a83"
      },
      "outputs": [
        {
          "name": "stdout",
          "output_type": "stream",
          "text": [
            "Mounted at /content/drive\n"
          ]
        }
      ],
      "source": [
        "from google.colab import drive\n",
        "drive.mount('/content/drive')"
      ]
    },
    {
      "cell_type": "code",
      "execution_count": 7,
      "metadata": {
        "id": "oHbPJYt4G8xD"
      },
      "outputs": [],
      "source": [
        "genes = pd.read_csv('/content/drive/MyDrive/ART_Inv/Kinase_gene_matrix_X3_131_nodes.csv')\n",
        "Y = pd.read_csv('/content/drive/MyDrive/ART_Inv/Kinase_gene_matrix_classification.csv')\n",
        "\n",
        "genes = genes.iloc[:,1:132] \n",
        "Y = Y.iloc[:,1:2] "
      ]
    },
    {
      "cell_type": "code",
      "execution_count": 8,
      "metadata": {
        "colab": {
          "base_uri": "https://localhost:8080/",
          "height": 424
        },
        "id": "oVJyqnGwmFNd",
        "outputId": "b3e34bca-0ad2-4382-80c8-946e7cca0d6c"
      },
      "outputs": [
        {
          "data": {
            "text/html": [
              "\n",
              "  <div id=\"df-57409fc7-2439-4be7-92e0-b47777fa92b6\">\n",
              "    <div class=\"colab-df-container\">\n",
              "      <div>\n",
              "<style scoped>\n",
              "    .dataframe tbody tr th:only-of-type {\n",
              "        vertical-align: middle;\n",
              "    }\n",
              "\n",
              "    .dataframe tbody tr th {\n",
              "        vertical-align: top;\n",
              "    }\n",
              "\n",
              "    .dataframe thead th {\n",
              "        text-align: right;\n",
              "    }\n",
              "</style>\n",
              "<table border=\"1\" class=\"dataframe\">\n",
              "  <thead>\n",
              "    <tr style=\"text-align: right;\">\n",
              "      <th></th>\n",
              "      <th>AKAP1</th>\n",
              "      <th>AKAP10</th>\n",
              "      <th>AKAP12</th>\n",
              "      <th>AKAP13</th>\n",
              "      <th>AKAP14</th>\n",
              "      <th>AKAP4</th>\n",
              "      <th>AKAP5</th>\n",
              "      <th>AKAP7</th>\n",
              "      <th>AKAP8</th>\n",
              "      <th>AKAP9</th>\n",
              "      <th>...</th>\n",
              "      <th>SKP2</th>\n",
              "      <th>TAB1</th>\n",
              "      <th>TAB2</th>\n",
              "      <th>TAB3</th>\n",
              "      <th>TCEB2</th>\n",
              "      <th>TEC</th>\n",
              "      <th>UBE2M</th>\n",
              "      <th>VCL</th>\n",
              "      <th>XRCC6</th>\n",
              "      <th>ZAP70</th>\n",
              "    </tr>\n",
              "  </thead>\n",
              "  <tbody>\n",
              "    <tr>\n",
              "      <th>0</th>\n",
              "      <td>34.608085</td>\n",
              "      <td>33.496161</td>\n",
              "      <td>33.708977</td>\n",
              "      <td>35.071896</td>\n",
              "      <td>22.030411</td>\n",
              "      <td>21.292506</td>\n",
              "      <td>25.036127</td>\n",
              "      <td>32.352171</td>\n",
              "      <td>32.364362</td>\n",
              "      <td>34.799151</td>\n",
              "      <td>...</td>\n",
              "      <td>32.63417</td>\n",
              "      <td>31.95379</td>\n",
              "      <td>34.91153</td>\n",
              "      <td>31.28668</td>\n",
              "      <td>34.75814</td>\n",
              "      <td>29.68056</td>\n",
              "      <td>33.82521</td>\n",
              "      <td>34.12352</td>\n",
              "      <td>35.24634</td>\n",
              "      <td>31.17945</td>\n",
              "    </tr>\n",
              "    <tr>\n",
              "      <th>1</th>\n",
              "      <td>33.991203</td>\n",
              "      <td>33.321684</td>\n",
              "      <td>34.364882</td>\n",
              "      <td>35.360390</td>\n",
              "      <td>22.030411</td>\n",
              "      <td>22.762193</td>\n",
              "      <td>28.279929</td>\n",
              "      <td>32.332165</td>\n",
              "      <td>32.865812</td>\n",
              "      <td>35.333528</td>\n",
              "      <td>...</td>\n",
              "      <td>31.80604</td>\n",
              "      <td>31.26559</td>\n",
              "      <td>35.52924</td>\n",
              "      <td>31.96868</td>\n",
              "      <td>34.38246</td>\n",
              "      <td>30.78769</td>\n",
              "      <td>32.57963</td>\n",
              "      <td>35.34613</td>\n",
              "      <td>35.91455</td>\n",
              "      <td>29.38780</td>\n",
              "    </tr>\n",
              "    <tr>\n",
              "      <th>2</th>\n",
              "      <td>33.383751</td>\n",
              "      <td>33.224008</td>\n",
              "      <td>31.941494</td>\n",
              "      <td>35.090412</td>\n",
              "      <td>22.030411</td>\n",
              "      <td>21.292506</td>\n",
              "      <td>29.082875</td>\n",
              "      <td>32.506326</td>\n",
              "      <td>33.310765</td>\n",
              "      <td>34.894155</td>\n",
              "      <td>...</td>\n",
              "      <td>32.78642</td>\n",
              "      <td>31.28554</td>\n",
              "      <td>36.91118</td>\n",
              "      <td>31.50909</td>\n",
              "      <td>34.43952</td>\n",
              "      <td>31.05624</td>\n",
              "      <td>33.20477</td>\n",
              "      <td>34.60666</td>\n",
              "      <td>36.05801</td>\n",
              "      <td>29.53435</td>\n",
              "    </tr>\n",
              "    <tr>\n",
              "      <th>3</th>\n",
              "      <td>33.504572</td>\n",
              "      <td>34.388289</td>\n",
              "      <td>33.921804</td>\n",
              "      <td>35.522805</td>\n",
              "      <td>22.030411</td>\n",
              "      <td>24.479975</td>\n",
              "      <td>28.863519</td>\n",
              "      <td>32.080430</td>\n",
              "      <td>32.663189</td>\n",
              "      <td>35.605425</td>\n",
              "      <td>...</td>\n",
              "      <td>31.60685</td>\n",
              "      <td>30.86918</td>\n",
              "      <td>35.41662</td>\n",
              "      <td>32.18003</td>\n",
              "      <td>34.36787</td>\n",
              "      <td>30.20403</td>\n",
              "      <td>33.48316</td>\n",
              "      <td>36.13525</td>\n",
              "      <td>35.75676</td>\n",
              "      <td>29.32770</td>\n",
              "    </tr>\n",
              "    <tr>\n",
              "      <th>4</th>\n",
              "      <td>33.960169</td>\n",
              "      <td>32.784996</td>\n",
              "      <td>34.566394</td>\n",
              "      <td>36.050989</td>\n",
              "      <td>22.030411</td>\n",
              "      <td>21.292506</td>\n",
              "      <td>25.036127</td>\n",
              "      <td>25.443711</td>\n",
              "      <td>33.156714</td>\n",
              "      <td>35.929770</td>\n",
              "      <td>...</td>\n",
              "      <td>32.31155</td>\n",
              "      <td>28.88966</td>\n",
              "      <td>36.12132</td>\n",
              "      <td>32.74898</td>\n",
              "      <td>32.50010</td>\n",
              "      <td>27.76103</td>\n",
              "      <td>33.09984</td>\n",
              "      <td>35.03527</td>\n",
              "      <td>36.33015</td>\n",
              "      <td>30.59498</td>\n",
              "    </tr>\n",
              "    <tr>\n",
              "      <th>...</th>\n",
              "      <td>...</td>\n",
              "      <td>...</td>\n",
              "      <td>...</td>\n",
              "      <td>...</td>\n",
              "      <td>...</td>\n",
              "      <td>...</td>\n",
              "      <td>...</td>\n",
              "      <td>...</td>\n",
              "      <td>...</td>\n",
              "      <td>...</td>\n",
              "      <td>...</td>\n",
              "      <td>...</td>\n",
              "      <td>...</td>\n",
              "      <td>...</td>\n",
              "      <td>...</td>\n",
              "      <td>...</td>\n",
              "      <td>...</td>\n",
              "      <td>...</td>\n",
              "      <td>...</td>\n",
              "      <td>...</td>\n",
              "      <td>...</td>\n",
              "    </tr>\n",
              "    <tr>\n",
              "      <th>176</th>\n",
              "      <td>34.044939</td>\n",
              "      <td>33.310459</td>\n",
              "      <td>34.008777</td>\n",
              "      <td>35.508424</td>\n",
              "      <td>22.537241</td>\n",
              "      <td>21.811701</td>\n",
              "      <td>26.714716</td>\n",
              "      <td>30.997207</td>\n",
              "      <td>33.140357</td>\n",
              "      <td>34.738921</td>\n",
              "      <td>...</td>\n",
              "      <td>31.66193</td>\n",
              "      <td>31.97549</td>\n",
              "      <td>36.17351</td>\n",
              "      <td>31.01873</td>\n",
              "      <td>33.79607</td>\n",
              "      <td>29.74909</td>\n",
              "      <td>33.49762</td>\n",
              "      <td>35.38283</td>\n",
              "      <td>35.53767</td>\n",
              "      <td>29.29301</td>\n",
              "    </tr>\n",
              "    <tr>\n",
              "      <th>177</th>\n",
              "      <td>32.418678</td>\n",
              "      <td>34.110995</td>\n",
              "      <td>33.243186</td>\n",
              "      <td>33.134963</td>\n",
              "      <td>22.537241</td>\n",
              "      <td>21.811701</td>\n",
              "      <td>28.895484</td>\n",
              "      <td>33.607378</td>\n",
              "      <td>33.533021</td>\n",
              "      <td>35.944165</td>\n",
              "      <td>...</td>\n",
              "      <td>32.99457</td>\n",
              "      <td>28.61897</td>\n",
              "      <td>36.27230</td>\n",
              "      <td>31.53447</td>\n",
              "      <td>36.19576</td>\n",
              "      <td>31.71446</td>\n",
              "      <td>34.16600</td>\n",
              "      <td>32.78765</td>\n",
              "      <td>35.50224</td>\n",
              "      <td>29.65655</td>\n",
              "    </tr>\n",
              "    <tr>\n",
              "      <th>178</th>\n",
              "      <td>33.336106</td>\n",
              "      <td>33.381949</td>\n",
              "      <td>31.526169</td>\n",
              "      <td>35.679063</td>\n",
              "      <td>22.537241</td>\n",
              "      <td>21.811701</td>\n",
              "      <td>28.132297</td>\n",
              "      <td>32.065304</td>\n",
              "      <td>32.283709</td>\n",
              "      <td>35.312405</td>\n",
              "      <td>...</td>\n",
              "      <td>32.86507</td>\n",
              "      <td>30.50706</td>\n",
              "      <td>36.31789</td>\n",
              "      <td>32.47015</td>\n",
              "      <td>33.71158</td>\n",
              "      <td>31.08636</td>\n",
              "      <td>32.68856</td>\n",
              "      <td>35.17108</td>\n",
              "      <td>35.22805</td>\n",
              "      <td>30.95118</td>\n",
              "    </tr>\n",
              "    <tr>\n",
              "      <th>179</th>\n",
              "      <td>34.026063</td>\n",
              "      <td>33.764835</td>\n",
              "      <td>33.884949</td>\n",
              "      <td>35.482404</td>\n",
              "      <td>22.537241</td>\n",
              "      <td>21.811701</td>\n",
              "      <td>29.201802</td>\n",
              "      <td>30.616063</td>\n",
              "      <td>34.317215</td>\n",
              "      <td>35.289050</td>\n",
              "      <td>...</td>\n",
              "      <td>32.84061</td>\n",
              "      <td>32.27365</td>\n",
              "      <td>34.55019</td>\n",
              "      <td>32.38527</td>\n",
              "      <td>33.07973</td>\n",
              "      <td>30.64727</td>\n",
              "      <td>32.10466</td>\n",
              "      <td>35.00358</td>\n",
              "      <td>34.81409</td>\n",
              "      <td>30.96574</td>\n",
              "    </tr>\n",
              "    <tr>\n",
              "      <th>180</th>\n",
              "      <td>34.793381</td>\n",
              "      <td>34.236983</td>\n",
              "      <td>36.290154</td>\n",
              "      <td>35.137711</td>\n",
              "      <td>22.537241</td>\n",
              "      <td>21.811701</td>\n",
              "      <td>29.452123</td>\n",
              "      <td>30.911974</td>\n",
              "      <td>33.108600</td>\n",
              "      <td>34.671708</td>\n",
              "      <td>...</td>\n",
              "      <td>32.83655</td>\n",
              "      <td>30.88783</td>\n",
              "      <td>34.66564</td>\n",
              "      <td>31.35899</td>\n",
              "      <td>34.27163</td>\n",
              "      <td>31.48586</td>\n",
              "      <td>33.27269</td>\n",
              "      <td>34.78994</td>\n",
              "      <td>37.01634</td>\n",
              "      <td>30.50824</td>\n",
              "    </tr>\n",
              "  </tbody>\n",
              "</table>\n",
              "<p>181 rows × 131 columns</p>\n",
              "</div>\n",
              "      <button class=\"colab-df-convert\" onclick=\"convertToInteractive('df-57409fc7-2439-4be7-92e0-b47777fa92b6')\"\n",
              "              title=\"Convert this dataframe to an interactive table.\"\n",
              "              style=\"display:none;\">\n",
              "        \n",
              "  <svg xmlns=\"http://www.w3.org/2000/svg\" height=\"24px\"viewBox=\"0 0 24 24\"\n",
              "       width=\"24px\">\n",
              "    <path d=\"M0 0h24v24H0V0z\" fill=\"none\"/>\n",
              "    <path d=\"M18.56 5.44l.94 2.06.94-2.06 2.06-.94-2.06-.94-.94-2.06-.94 2.06-2.06.94zm-11 1L8.5 8.5l.94-2.06 2.06-.94-2.06-.94L8.5 2.5l-.94 2.06-2.06.94zm10 10l.94 2.06.94-2.06 2.06-.94-2.06-.94-.94-2.06-.94 2.06-2.06.94z\"/><path d=\"M17.41 7.96l-1.37-1.37c-.4-.4-.92-.59-1.43-.59-.52 0-1.04.2-1.43.59L10.3 9.45l-7.72 7.72c-.78.78-.78 2.05 0 2.83L4 21.41c.39.39.9.59 1.41.59.51 0 1.02-.2 1.41-.59l7.78-7.78 2.81-2.81c.8-.78.8-2.07 0-2.86zM5.41 20L4 18.59l7.72-7.72 1.47 1.35L5.41 20z\"/>\n",
              "  </svg>\n",
              "      </button>\n",
              "      \n",
              "  <style>\n",
              "    .colab-df-container {\n",
              "      display:flex;\n",
              "      flex-wrap:wrap;\n",
              "      gap: 12px;\n",
              "    }\n",
              "\n",
              "    .colab-df-convert {\n",
              "      background-color: #E8F0FE;\n",
              "      border: none;\n",
              "      border-radius: 50%;\n",
              "      cursor: pointer;\n",
              "      display: none;\n",
              "      fill: #1967D2;\n",
              "      height: 32px;\n",
              "      padding: 0 0 0 0;\n",
              "      width: 32px;\n",
              "    }\n",
              "\n",
              "    .colab-df-convert:hover {\n",
              "      background-color: #E2EBFA;\n",
              "      box-shadow: 0px 1px 2px rgba(60, 64, 67, 0.3), 0px 1px 3px 1px rgba(60, 64, 67, 0.15);\n",
              "      fill: #174EA6;\n",
              "    }\n",
              "\n",
              "    [theme=dark] .colab-df-convert {\n",
              "      background-color: #3B4455;\n",
              "      fill: #D2E3FC;\n",
              "    }\n",
              "\n",
              "    [theme=dark] .colab-df-convert:hover {\n",
              "      background-color: #434B5C;\n",
              "      box-shadow: 0px 1px 3px 1px rgba(0, 0, 0, 0.15);\n",
              "      filter: drop-shadow(0px 1px 2px rgba(0, 0, 0, 0.3));\n",
              "      fill: #FFFFFF;\n",
              "    }\n",
              "  </style>\n",
              "\n",
              "      <script>\n",
              "        const buttonEl =\n",
              "          document.querySelector('#df-57409fc7-2439-4be7-92e0-b47777fa92b6 button.colab-df-convert');\n",
              "        buttonEl.style.display =\n",
              "          google.colab.kernel.accessAllowed ? 'block' : 'none';\n",
              "\n",
              "        async function convertToInteractive(key) {\n",
              "          const element = document.querySelector('#df-57409fc7-2439-4be7-92e0-b47777fa92b6');\n",
              "          const dataTable =\n",
              "            await google.colab.kernel.invokeFunction('convertToInteractive',\n",
              "                                                     [key], {});\n",
              "          if (!dataTable) return;\n",
              "\n",
              "          const docLinkHtml = 'Like what you see? Visit the ' +\n",
              "            '<a target=\"_blank\" href=https://colab.research.google.com/notebooks/data_table.ipynb>data table notebook</a>'\n",
              "            + ' to learn more about interactive tables.';\n",
              "          element.innerHTML = '';\n",
              "          dataTable['output_type'] = 'display_data';\n",
              "          await google.colab.output.renderOutput(dataTable, element);\n",
              "          const docLink = document.createElement('div');\n",
              "          docLink.innerHTML = docLinkHtml;\n",
              "          element.appendChild(docLink);\n",
              "        }\n",
              "      </script>\n",
              "    </div>\n",
              "  </div>\n",
              "  "
            ],
            "text/plain": [
              "         AKAP1     AKAP10     AKAP12     AKAP13     AKAP14      AKAP4  \\\n",
              "0    34.608085  33.496161  33.708977  35.071896  22.030411  21.292506   \n",
              "1    33.991203  33.321684  34.364882  35.360390  22.030411  22.762193   \n",
              "2    33.383751  33.224008  31.941494  35.090412  22.030411  21.292506   \n",
              "3    33.504572  34.388289  33.921804  35.522805  22.030411  24.479975   \n",
              "4    33.960169  32.784996  34.566394  36.050989  22.030411  21.292506   \n",
              "..         ...        ...        ...        ...        ...        ...   \n",
              "176  34.044939  33.310459  34.008777  35.508424  22.537241  21.811701   \n",
              "177  32.418678  34.110995  33.243186  33.134963  22.537241  21.811701   \n",
              "178  33.336106  33.381949  31.526169  35.679063  22.537241  21.811701   \n",
              "179  34.026063  33.764835  33.884949  35.482404  22.537241  21.811701   \n",
              "180  34.793381  34.236983  36.290154  35.137711  22.537241  21.811701   \n",
              "\n",
              "         AKAP5      AKAP7      AKAP8      AKAP9  ...      SKP2      TAB1  \\\n",
              "0    25.036127  32.352171  32.364362  34.799151  ...  32.63417  31.95379   \n",
              "1    28.279929  32.332165  32.865812  35.333528  ...  31.80604  31.26559   \n",
              "2    29.082875  32.506326  33.310765  34.894155  ...  32.78642  31.28554   \n",
              "3    28.863519  32.080430  32.663189  35.605425  ...  31.60685  30.86918   \n",
              "4    25.036127  25.443711  33.156714  35.929770  ...  32.31155  28.88966   \n",
              "..         ...        ...        ...        ...  ...       ...       ...   \n",
              "176  26.714716  30.997207  33.140357  34.738921  ...  31.66193  31.97549   \n",
              "177  28.895484  33.607378  33.533021  35.944165  ...  32.99457  28.61897   \n",
              "178  28.132297  32.065304  32.283709  35.312405  ...  32.86507  30.50706   \n",
              "179  29.201802  30.616063  34.317215  35.289050  ...  32.84061  32.27365   \n",
              "180  29.452123  30.911974  33.108600  34.671708  ...  32.83655  30.88783   \n",
              "\n",
              "         TAB2      TAB3     TCEB2       TEC     UBE2M       VCL     XRCC6  \\\n",
              "0    34.91153  31.28668  34.75814  29.68056  33.82521  34.12352  35.24634   \n",
              "1    35.52924  31.96868  34.38246  30.78769  32.57963  35.34613  35.91455   \n",
              "2    36.91118  31.50909  34.43952  31.05624  33.20477  34.60666  36.05801   \n",
              "3    35.41662  32.18003  34.36787  30.20403  33.48316  36.13525  35.75676   \n",
              "4    36.12132  32.74898  32.50010  27.76103  33.09984  35.03527  36.33015   \n",
              "..        ...       ...       ...       ...       ...       ...       ...   \n",
              "176  36.17351  31.01873  33.79607  29.74909  33.49762  35.38283  35.53767   \n",
              "177  36.27230  31.53447  36.19576  31.71446  34.16600  32.78765  35.50224   \n",
              "178  36.31789  32.47015  33.71158  31.08636  32.68856  35.17108  35.22805   \n",
              "179  34.55019  32.38527  33.07973  30.64727  32.10466  35.00358  34.81409   \n",
              "180  34.66564  31.35899  34.27163  31.48586  33.27269  34.78994  37.01634   \n",
              "\n",
              "        ZAP70  \n",
              "0    31.17945  \n",
              "1    29.38780  \n",
              "2    29.53435  \n",
              "3    29.32770  \n",
              "4    30.59498  \n",
              "..        ...  \n",
              "176  29.29301  \n",
              "177  29.65655  \n",
              "178  30.95118  \n",
              "179  30.96574  \n",
              "180  30.50824  \n",
              "\n",
              "[181 rows x 131 columns]"
            ]
          },
          "execution_count": 8,
          "metadata": {},
          "output_type": "execute_result"
        }
      ],
      "source": [
        "genes"
      ]
    },
    {
      "cell_type": "code",
      "execution_count": 9,
      "metadata": {
        "id": "-ZxQF6wFKflj"
      },
      "outputs": [],
      "source": [
        "edge_index = torch.tensor([[ 31,  78, 107,  78, 107, 106,  79, 106,  79, 106,  76, 106,  76,\n",
        "        33,  30,  55,  30,  33, 107,  55,  79,  55,  79,  55,  49,  55,\n",
        "        76,  55,  34,  55,  34, 101,  34,  55,  82, 101,  82,  55,  82,\n",
        "       101,  30,   9,   5,  99,  72,  23,   5,  18,  46,  18,  51,  18,\n",
        "        51,  18,   5,  23,  46,  18,  46,  18,  46,  23,  46, 130,  72,\n",
        "       130,   3,  94,  87,  94,   3,  94,  44,  94,  44,  94, 123,  94,\n",
        "       123,  94,  48,  94,  87,  94,  87,  94,  87,  94,  87,  94,  87,\n",
        "        94,  87,  94, 115,  94,  83,  94,   4,  94,  88,  94,  88,  94,\n",
        "        88,  95,  88,  95,  92,  95,  45,  95,  45,  64,  12,  16,  64,\n",
        "        92,  95,   6,  95,  92,  36,  95,  92,  16,  95,  59,  95,  59,\n",
        "        16,  95,   2,  53,  95,  39,  53,  95,  56,  36,  95,  38,  36,\n",
        "        64,  38, 128,  95,  93, 128, 110,  63, 128,  64, 114, 128, 110,\n",
        "        50, 110,  74,  50, 110,  50, 110,  50, 110,  50, 110,  50, 110,\n",
        "        50, 110,  50, 110, 122,   8, 122,   8, 122, 110, 122, 121, 111,\n",
        "        70, 122,   8, 122, 121, 122, 121, 111,  70, 111,  70, 111,  70,\n",
        "       111,  70, 111,  70, 111,  70, 111,  28, 111,  90, 111,  15, 116,\n",
        "        90, 111,  28, 111,  90, 116,  90,   1,  90,   1,  81, 116, 100,\n",
        "       116,  26,   1,  54, 112,   1, 112,  84, 112,  84,  26,  84,  32,\n",
        "        84,  32,  84,  98,  84,  98,  54,  98,  54,  98,  54,  98,  54,\n",
        "        98,  54,  98,  54,  20, 120, 118, 120,  86, 120,  86, 120,  86,\n",
        "       120,  86, 120,  86,  27,  86, 120,  86, 120,  86, 120,  58,  27,\n",
        "        17,  69,  17,  60, 118,  60,  86,  60,  86,  60,  86,  60,  40,\n",
        "        60,  40,  60,  20,  60,  71,  60,  71,  69, 104,  69,  71,  69,\n",
        "        71,  69,  71,  69,  31,  57,  14,  62,  14,  62,  14, 127,  89,\n",
        "        85,  89,  85,  89,  69,  89,  69,  89,  69,  61,  62, 103,  62,\n",
        "        89,  62,  89,  62,  89,  62,  22, 127,  52, 127,  52, 127,  52,\n",
        "        85,  31,  85,  13,  85,  31,  85,  13,  85, 107,  85,   9,  19,\n",
        "        20,  72,  21,  73,  93,  87,  94,  76,  92, 102,  95,  80,  55,\n",
        "        29,  31,  73,  32,  29, 114,   9,  32,  88,  97,  39,  25,  48,\n",
        "       115,  44,  39,  45,  31,  46,  58,  91,  48,  92, 113,  83,  76,\n",
        "        72,  87,   4,  96,  29,  22,  87, 110,  37, 119,  38, 130,  35,\n",
        "       108,  92,  10,  38,  31,  35,  19,  12,  26,  47,  31,  73,  19,\n",
        "        87,   6,  93,   9,  88,  92,  48,   7, 123,  82,  48,   0, 124,\n",
        "        88, 124,  95,   4,  90,  77,   8,   6,   4,  88,  79,   0,  89,\n",
        "        92,  98, 113,  87,  91,  93,  88,  86,   6,   5,  93,   3,  92,\n",
        "        86,   0,  92,   6,  79,  37,  93, 119, 118,  11,  82,  68,  93,\n",
        "         4,  96,  89,   7,  58,  87,   0,  12,   8,  38,   6,  35,  17,\n",
        "         3,  96,  45,  88,  35,  66,   0,  67,  44,   9,  63,  43, 104,\n",
        "        39, 107,  98,   0,  50,  70,  35,  31, 112, 113, 110, 108,  55,\n",
        "        31,  73,  32, 109, 114,  72,  33,  30,  31,  75, 113,  71, 107,\n",
        "        73, 115,  29,  48,  87, 123,  89, 124, 107, 105,  22,  22,  29,\n",
        "        54,  88,  44,  20,  52,  26,  26,  73, 125,  71,  69,  30,  24,\n",
        "        31, 127, 107,  23,  72,  20,  22,  28,  86,  10,  12,  68,  82,\n",
        "       120,  10, 121,  83, 118,  92,  93,  89,  94,  76, 112, 102,  76,\n",
        "        24,  95,  34, 118,  92,  22,  83,  68,  89,  22,  91,  39,  90,\n",
        "        29,  85,  96,  82,  87,  52, 117,  65,  89, 105,  88,  67,   9,\n",
        "        37,  79,  66,  21,  22, 117,  69,   6, 127,  77,  23,  89,  28,\n",
        "        87,  10,   5, 126,  82, 121,   0,  20,  88,  24, 102, 109,  83,\n",
        "        20,  12,  41,  68,  59,   4,  42,  93,  51,  92,  61,  38,  63,\n",
        "        59,  62,  22,  38,  29,  40,  72, 127, 129, 125,  73,  26, 107,\n",
        "        24,  30,  22, 107,  67,  12, 107,  11,  31,  13,  20,   3,  89,\n",
        "         9,  91,  87, 121,  83,  23,  92,  10,  34,  46,   3,  35,  79,\n",
        "        51,  82,  59,  88,  61,  10, 121,  66,  24,  65,  22,  67,  94,\n",
        "        30,  86,  12,  82, 108,  90,  11,  83,  30,  92,  88],\n",
        "                          [ 19,  20,  72,  21,  73,  93,  87,  94,  76,  92, 102,  95,  80,\n",
        "        55,  29,  31,  73,  32,  29, 114,   9,  32,  88,  97,  39,  25,\n",
        "        48, 115,  44,  39,  45,  31,  46,  58,  91,  48,  92, 113,  83,\n",
        "        76,  72,  87,   4,  96,  29,  22,  87, 110,  37, 119,  38, 130,\n",
        "        35, 108,  92,  10,  38,  31,  35,  19,  12,  26,  47,  31,  73,\n",
        "        19,  87,   6,  93,   9,  88,  92,  48,   7, 123,  82,  48,   0,\n",
        "       124,  88, 124,  95,   4,  90,  77,   8,   6,   4,  88,  79,   0,\n",
        "        89,  92,  98, 113,  87,  91,  93,  88,  86,   6,   5,  93,   3,\n",
        "        92,  86,   0,  92,   6,  79,  37,  93, 119, 118,  11,  82,  68,\n",
        "        93,   4,  96,  89,   7,  58,  87,   0,  12,   8,  38,   6,  35,\n",
        "        17,   3,  96,  45,  88,  35,  66,   0,  67,  44,   9,  63,  43,\n",
        "       104,  39, 107,  98,   0,  50,  70,  35,  31, 112, 113, 110, 108,\n",
        "        55,  31,  73,  32, 109, 114,  72,  33,  30,  31,  75, 113,  71,\n",
        "       107,  73, 115,  29,  48,  87, 123,  89, 124, 107, 105,  22,  22,\n",
        "        29,  54,  88,  44,  20,  52,  26,  26,  73, 125,  71,  69,  30,\n",
        "        24,  31, 127, 107,  23,  72,  20,  22,  28,  86,  10,  12,  68,\n",
        "        82, 120,  10, 121,  83, 118,  92,  93,  89,  94,  76, 112, 102,\n",
        "        76,  24,  95,  34, 118,  92,  22,  83,  68,  89,  22,  91,  39,\n",
        "        90,  29,  85,  96,  82,  87,  52, 117,  65,  89, 105,  88,  67,\n",
        "         9,  37,  79,  66,  21,  22, 117,  69,   6, 127,  77,  23,  89,\n",
        "        28,  87,  10,   5, 126,  82, 121,   0,  20,  88,  24, 102, 109,\n",
        "        83,  20,  12,  41,  68,  59,   4,  42,  93,  51,  92,  61,  38,\n",
        "        63,  59,  62,  22,  38,  29,  40,  72, 127, 129, 125,  73,  26,\n",
        "       107,  24,  30,  22, 107,  67,  12, 107,  11,  31,  13,  20,   3,\n",
        "        89,   9,  91,  87, 121,  83,  23,  92,  10,  34,  46,   3,  35,\n",
        "        79,  51,  82,  59,  88,  61,  10, 121,  66,  24,  65,  22,  67,\n",
        "        94,  30,  86,  12,  82, 108,  90,  11,  83,  30,  92,  88,  31,\n",
        "        78, 107,  78, 107, 106,  79, 106,  79, 106,  76, 106,  76,  33,\n",
        "        30,  55,  30,  33, 107,  55,  79,  55,  79,  55,  49,  55,  76,\n",
        "        55,  34,  55,  34, 101,  34,  55,  82, 101,  82,  55,  82, 101,\n",
        "        30,   9,   5,  99,  72,  23,   5,  18,  46,  18,  51,  18,  51,\n",
        "        18,   5,  23,  46,  18,  46,  18,  46,  23,  46, 130,  72, 130,\n",
        "         3,  94,  87,  94,   3,  94,  44,  94,  44,  94, 123,  94, 123,\n",
        "        94,  48,  94,  87,  94,  87,  94,  87,  94,  87,  94,  87,  94,\n",
        "        87,  94, 115,  94,  83,  94,   4,  94,  88,  94,  88,  94,  88,\n",
        "        95,  88,  95,  92,  95,  45,  95,  45,  64,  12,  16,  64,  92,\n",
        "        95,   6,  95,  92,  36,  95,  92,  16,  95,  59,  95,  59,  16,\n",
        "        95,   2,  53,  95,  39,  53,  95,  56,  36,  95,  38,  36,  64,\n",
        "        38, 128,  95,  93, 128, 110,  63, 128,  64, 114, 128, 110,  50,\n",
        "       110,  74,  50, 110,  50, 110,  50, 110,  50, 110,  50, 110,  50,\n",
        "       110,  50, 110, 122,   8, 122,   8, 122, 110, 122, 121, 111,  70,\n",
        "       122,   8, 122, 121, 122, 121, 111,  70, 111,  70, 111,  70, 111,\n",
        "        70, 111,  70, 111,  70, 111,  28, 111,  90, 111,  15, 116,  90,\n",
        "       111,  28, 111,  90, 116,  90,   1,  90,   1,  81, 116, 100, 116,\n",
        "        26,   1,  54, 112,   1, 112,  84, 112,  84,  26,  84,  32,  84,\n",
        "        32,  84,  98,  84,  98,  54,  98,  54,  98,  54,  98,  54,  98,\n",
        "        54,  98,  54,  20, 120, 118, 120,  86, 120,  86, 120,  86, 120,\n",
        "        86, 120,  86,  27,  86, 120,  86, 120,  86, 120,  58,  27,  17,\n",
        "        69,  17,  60, 118,  60,  86,  60,  86,  60,  86,  60,  40,  60,\n",
        "        40,  60,  20,  60,  71,  60,  71,  69, 104,  69,  71,  69,  71,\n",
        "        69,  71,  69,  31,  57,  14,  62,  14,  62,  14, 127,  89,  85,\n",
        "        89,  85,  89,  69,  89,  69,  89,  69,  61,  62, 103,  62,  89,\n",
        "        62,  89,  62,  89,  62,  22, 127,  52, 127,  52, 127,  52,  85,\n",
        "        31,  85,  13,  85,  31,  85,  13,  85, 107,  85,   9]], dtype=torch.int64)"
      ]
    },
    {
      "cell_type": "code",
      "execution_count": 10,
      "metadata": {
        "colab": {
          "base_uri": "https://localhost:8080/"
        },
        "id": "7amtjIdoIsy6",
        "outputId": "d40c1315-fc8c-4017-d284-4b60c4ddc648"
      },
      "outputs": [
        {
          "name": "stdout",
          "output_type": "stream",
          "text": [
            "[Data(x=[131], edge_index=[2, 700], y=[1, 1]), Data(x=[131], edge_index=[2, 700], y=[1, 1]), Data(x=[131], edge_index=[2, 700], y=[1, 1]), Data(x=[131], edge_index=[2, 700], y=[1, 1]), Data(x=[131], edge_index=[2, 700], y=[1, 1]), Data(x=[131], edge_index=[2, 700], y=[1, 1]), Data(x=[131], edge_index=[2, 700], y=[1, 1]), Data(x=[131], edge_index=[2, 700], y=[1, 1]), Data(x=[131], edge_index=[2, 700], y=[1, 1]), Data(x=[131], edge_index=[2, 700], y=[1, 1]), Data(x=[131], edge_index=[2, 700], y=[1, 1]), Data(x=[131], edge_index=[2, 700], y=[1, 1]), Data(x=[131], edge_index=[2, 700], y=[1, 1]), Data(x=[131], edge_index=[2, 700], y=[1, 1]), Data(x=[131], edge_index=[2, 700], y=[1, 1]), Data(x=[131], edge_index=[2, 700], y=[1, 1]), Data(x=[131], edge_index=[2, 700], y=[1, 1]), Data(x=[131], edge_index=[2, 700], y=[1, 1]), Data(x=[131], edge_index=[2, 700], y=[1, 1]), Data(x=[131], edge_index=[2, 700], y=[1, 1]), Data(x=[131], edge_index=[2, 700], y=[1, 1]), Data(x=[131], edge_index=[2, 700], y=[1, 1]), Data(x=[131], edge_index=[2, 700], y=[1, 1]), Data(x=[131], edge_index=[2, 700], y=[1, 1]), Data(x=[131], edge_index=[2, 700], y=[1, 1]), Data(x=[131], edge_index=[2, 700], y=[1, 1]), Data(x=[131], edge_index=[2, 700], y=[1, 1]), Data(x=[131], edge_index=[2, 700], y=[1, 1]), Data(x=[131], edge_index=[2, 700], y=[1, 1]), Data(x=[131], edge_index=[2, 700], y=[1, 1]), Data(x=[131], edge_index=[2, 700], y=[1, 1]), Data(x=[131], edge_index=[2, 700], y=[1, 1]), Data(x=[131], edge_index=[2, 700], y=[1, 1]), Data(x=[131], edge_index=[2, 700], y=[1, 1]), Data(x=[131], edge_index=[2, 700], y=[1, 1]), Data(x=[131], edge_index=[2, 700], y=[1, 1]), Data(x=[131], edge_index=[2, 700], y=[1, 1]), Data(x=[131], edge_index=[2, 700], y=[1, 1]), Data(x=[131], edge_index=[2, 700], y=[1, 1]), Data(x=[131], edge_index=[2, 700], y=[1, 1]), Data(x=[131], edge_index=[2, 700], y=[1, 1]), Data(x=[131], edge_index=[2, 700], y=[1, 1]), Data(x=[131], edge_index=[2, 700], y=[1, 1]), Data(x=[131], edge_index=[2, 700], y=[1, 1]), Data(x=[131], edge_index=[2, 700], y=[1, 1]), Data(x=[131], edge_index=[2, 700], y=[1, 1]), Data(x=[131], edge_index=[2, 700], y=[1, 1]), Data(x=[131], edge_index=[2, 700], y=[1, 1]), Data(x=[131], edge_index=[2, 700], y=[1, 1]), Data(x=[131], edge_index=[2, 700], y=[1, 1]), Data(x=[131], edge_index=[2, 700], y=[1, 1]), Data(x=[131], edge_index=[2, 700], y=[1, 1]), Data(x=[131], edge_index=[2, 700], y=[1, 1]), Data(x=[131], edge_index=[2, 700], y=[1, 1]), Data(x=[131], edge_index=[2, 700], y=[1, 1]), Data(x=[131], edge_index=[2, 700], y=[1, 1]), Data(x=[131], edge_index=[2, 700], y=[1, 1]), Data(x=[131], edge_index=[2, 700], y=[1, 1]), Data(x=[131], edge_index=[2, 700], y=[1, 1]), Data(x=[131], edge_index=[2, 700], y=[1, 1]), Data(x=[131], edge_index=[2, 700], y=[1, 1]), Data(x=[131], edge_index=[2, 700], y=[1, 1]), Data(x=[131], edge_index=[2, 700], y=[1, 1]), Data(x=[131], edge_index=[2, 700], y=[1, 1]), Data(x=[131], edge_index=[2, 700], y=[1, 1]), Data(x=[131], edge_index=[2, 700], y=[1, 1]), Data(x=[131], edge_index=[2, 700], y=[1, 1]), Data(x=[131], edge_index=[2, 700], y=[1, 1]), Data(x=[131], edge_index=[2, 700], y=[1, 1]), Data(x=[131], edge_index=[2, 700], y=[1, 1]), Data(x=[131], edge_index=[2, 700], y=[1, 1]), Data(x=[131], edge_index=[2, 700], y=[1, 1]), Data(x=[131], edge_index=[2, 700], y=[1, 1]), Data(x=[131], edge_index=[2, 700], y=[1, 1]), Data(x=[131], edge_index=[2, 700], y=[1, 1]), Data(x=[131], edge_index=[2, 700], y=[1, 1]), Data(x=[131], edge_index=[2, 700], y=[1, 1]), Data(x=[131], edge_index=[2, 700], y=[1, 1]), Data(x=[131], edge_index=[2, 700], y=[1, 1]), Data(x=[131], edge_index=[2, 700], y=[1, 1]), Data(x=[131], edge_index=[2, 700], y=[1, 1]), Data(x=[131], edge_index=[2, 700], y=[1, 1]), Data(x=[131], edge_index=[2, 700], y=[1, 1]), Data(x=[131], edge_index=[2, 700], y=[1, 1]), Data(x=[131], edge_index=[2, 700], y=[1, 1]), Data(x=[131], edge_index=[2, 700], y=[1, 1]), Data(x=[131], edge_index=[2, 700], y=[1, 1]), Data(x=[131], edge_index=[2, 700], y=[1, 1]), Data(x=[131], edge_index=[2, 700], y=[1, 1]), Data(x=[131], edge_index=[2, 700], y=[1, 1]), Data(x=[131], edge_index=[2, 700], y=[1, 1]), Data(x=[131], edge_index=[2, 700], y=[1, 1]), Data(x=[131], edge_index=[2, 700], y=[1, 1]), Data(x=[131], edge_index=[2, 700], y=[1, 1]), Data(x=[131], edge_index=[2, 700], y=[1, 1]), Data(x=[131], edge_index=[2, 700], y=[1, 1]), Data(x=[131], edge_index=[2, 700], y=[1, 1]), Data(x=[131], edge_index=[2, 700], y=[1, 1]), Data(x=[131], edge_index=[2, 700], y=[1, 1]), Data(x=[131], edge_index=[2, 700], y=[1, 1]), Data(x=[131], edge_index=[2, 700], y=[1, 1]), Data(x=[131], edge_index=[2, 700], y=[1, 1]), Data(x=[131], edge_index=[2, 700], y=[1, 1]), Data(x=[131], edge_index=[2, 700], y=[1, 1]), Data(x=[131], edge_index=[2, 700], y=[1, 1]), Data(x=[131], edge_index=[2, 700], y=[1, 1]), Data(x=[131], edge_index=[2, 700], y=[1, 1]), Data(x=[131], edge_index=[2, 700], y=[1, 1]), Data(x=[131], edge_index=[2, 700], y=[1, 1]), Data(x=[131], edge_index=[2, 700], y=[1, 1]), Data(x=[131], edge_index=[2, 700], y=[1, 1]), Data(x=[131], edge_index=[2, 700], y=[1, 1]), Data(x=[131], edge_index=[2, 700], y=[1, 1]), Data(x=[131], edge_index=[2, 700], y=[1, 1]), Data(x=[131], edge_index=[2, 700], y=[1, 1]), Data(x=[131], edge_index=[2, 700], y=[1, 1]), Data(x=[131], edge_index=[2, 700], y=[1, 1]), Data(x=[131], edge_index=[2, 700], y=[1, 1]), Data(x=[131], edge_index=[2, 700], y=[1, 1]), Data(x=[131], edge_index=[2, 700], y=[1, 1]), Data(x=[131], edge_index=[2, 700], y=[1, 1]), Data(x=[131], edge_index=[2, 700], y=[1, 1]), Data(x=[131], edge_index=[2, 700], y=[1, 1]), Data(x=[131], edge_index=[2, 700], y=[1, 1]), Data(x=[131], edge_index=[2, 700], y=[1, 1]), Data(x=[131], edge_index=[2, 700], y=[1, 1]), Data(x=[131], edge_index=[2, 700], y=[1, 1]), Data(x=[131], edge_index=[2, 700], y=[1, 1]), Data(x=[131], edge_index=[2, 700], y=[1, 1]), Data(x=[131], edge_index=[2, 700], y=[1, 1]), Data(x=[131], edge_index=[2, 700], y=[1, 1]), Data(x=[131], edge_index=[2, 700], y=[1, 1]), Data(x=[131], edge_index=[2, 700], y=[1, 1]), Data(x=[131], edge_index=[2, 700], y=[1, 1]), Data(x=[131], edge_index=[2, 700], y=[1, 1]), Data(x=[131], edge_index=[2, 700], y=[1, 1]), Data(x=[131], edge_index=[2, 700], y=[1, 1]), Data(x=[131], edge_index=[2, 700], y=[1, 1]), Data(x=[131], edge_index=[2, 700], y=[1, 1]), Data(x=[131], edge_index=[2, 700], y=[1, 1]), Data(x=[131], edge_index=[2, 700], y=[1, 1]), Data(x=[131], edge_index=[2, 700], y=[1, 1]), Data(x=[131], edge_index=[2, 700], y=[1, 1]), Data(x=[131], edge_index=[2, 700], y=[1, 1]), Data(x=[131], edge_index=[2, 700], y=[1, 1]), Data(x=[131], edge_index=[2, 700], y=[1, 1]), Data(x=[131], edge_index=[2, 700], y=[1, 1]), Data(x=[131], edge_index=[2, 700], y=[1, 1]), Data(x=[131], edge_index=[2, 700], y=[1, 1]), Data(x=[131], edge_index=[2, 700], y=[1, 1]), Data(x=[131], edge_index=[2, 700], y=[1, 1]), Data(x=[131], edge_index=[2, 700], y=[1, 1]), Data(x=[131], edge_index=[2, 700], y=[1, 1]), Data(x=[131], edge_index=[2, 700], y=[1, 1]), Data(x=[131], edge_index=[2, 700], y=[1, 1]), Data(x=[131], edge_index=[2, 700], y=[1, 1]), Data(x=[131], edge_index=[2, 700], y=[1, 1]), Data(x=[131], edge_index=[2, 700], y=[1, 1]), Data(x=[131], edge_index=[2, 700], y=[1, 1]), Data(x=[131], edge_index=[2, 700], y=[1, 1]), Data(x=[131], edge_index=[2, 700], y=[1, 1]), Data(x=[131], edge_index=[2, 700], y=[1, 1]), Data(x=[131], edge_index=[2, 700], y=[1, 1]), Data(x=[131], edge_index=[2, 700], y=[1, 1]), Data(x=[131], edge_index=[2, 700], y=[1, 1]), Data(x=[131], edge_index=[2, 700], y=[1, 1]), Data(x=[131], edge_index=[2, 700], y=[1, 1]), Data(x=[131], edge_index=[2, 700], y=[1, 1]), Data(x=[131], edge_index=[2, 700], y=[1, 1]), Data(x=[131], edge_index=[2, 700], y=[1, 1]), Data(x=[131], edge_index=[2, 700], y=[1, 1]), Data(x=[131], edge_index=[2, 700], y=[1, 1]), Data(x=[131], edge_index=[2, 700], y=[1, 1]), Data(x=[131], edge_index=[2, 700], y=[1, 1]), Data(x=[131], edge_index=[2, 700], y=[1, 1]), Data(x=[131], edge_index=[2, 700], y=[1, 1]), Data(x=[131], edge_index=[2, 700], y=[1, 1]), Data(x=[131], edge_index=[2, 700], y=[1, 1]), Data(x=[131], edge_index=[2, 700], y=[1, 1]), Data(x=[131], edge_index=[2, 700], y=[1, 1]), Data(x=[131], edge_index=[2, 700], y=[1, 1])]\n"
          ]
        },
        {
          "name": "stderr",
          "output_type": "stream",
          "text": [
            "/usr/local/lib/python3.7/dist-packages/ipykernel_launcher.py:12: UserWarning: Creating a tensor from a list of numpy.ndarrays is extremely slow. Please consider converting the list to a single numpy.ndarray with numpy.array() before converting to a tensor. (Triggered internally at  ../torch/csrc/utils/tensor_new.cpp:201.)\n",
            "  if sys.path[0] == '':\n"
          ]
        }
      ],
      "source": [
        "list_data=[]\n",
        "\n",
        "for g in range(181):\n",
        "  b=[]\n",
        "  for i in genes.iloc[g].to_numpy():\n",
        "    a=[]\n",
        "    a.append(i*10)\n",
        "    b.append(a)\n",
        "  x = torch.tensor([b], dtype=torch.float)\n",
        "  x = torch.reshape(x, (-1,))\n",
        "  edge_index = edge_index\n",
        "  y = torch.tensor([Y.iloc[g].to_numpy()], dtype=torch.float)\n",
        "  data = Data(x=x, edge_index=edge_index, y=y)\n",
        "  list_data.append(data)\n",
        "\n",
        "print(list_data)"
      ]
    },
    {
      "cell_type": "markdown",
      "metadata": {
        "id": "o3k2zK2IPbHq"
      },
      "source": [
        "# 3. Dibujar grafo"
      ]
    },
    {
      "cell_type": "code",
      "execution_count": 11,
      "metadata": {
        "id": "qfYKryD5yBys"
      },
      "outputs": [],
      "source": [
        "def plot_graph(data,description=True):\n",
        "    edges_raw = data.edge_index.numpy()\n",
        "    edges = [(x, y) for x, y in zip(edges_raw[0, :], edges_raw[1, :])]\n",
        "    labels = data.x.numpy()\n",
        "    G = nx.Graph()\n",
        "    print(G)\n",
        "    G.add_nodes_from(list(range(np.max(edges_raw))))\n",
        "    G.add_edges_from(edges)\n",
        "    plt.subplot(111)\n",
        "    options = {\n",
        "       'node_size': 100,\n",
        "       'width': 1,\n",
        "    }\n",
        "    nx.draw(G, with_labels=description, node_color=labels.tolist(), cmap=plt.cm.tab10, font_weight='bold', **options)\n",
        "    plt.show()"
      ]
    },
    {
      "cell_type": "code",
      "execution_count": 12,
      "metadata": {
        "colab": {
          "base_uri": "https://localhost:8080/"
        },
        "id": "TD0bzuX7yNsr",
        "outputId": "8376fb9c-2b30-4aee-9def-f7c0edd7e6ce"
      },
      "outputs": [
        {
          "name": "stderr",
          "output_type": "stream",
          "text": [
            "/usr/local/lib/python3.7/dist-packages/torch_geometric/deprecation.py:12: UserWarning: 'contains_isolated_nodes' is deprecated, use 'has_isolated_nodes' instead\n",
            "  warnings.warn(out)\n",
            "/usr/local/lib/python3.7/dist-packages/torch_geometric/deprecation.py:12: UserWarning: 'contains_self_loops' is deprecated, use 'has_self_loops' instead\n",
            "  warnings.warn(out)\n"
          ]
        },
        {
          "name": "stdout",
          "output_type": "stream",
          "text": [
            "Algunas estadísticas del grafo:\n",
            "Número de Características: 1\n",
            "Número de Nodos: 131\n",
            "Número de bordes: 700\n",
            "Grado promedio de nodos: 5.34\n",
            "¿Contiene nodos aislados?: False\n",
            "¿Contiene autoloops?: False\n",
            "¿Es no dirigido?: True\n"
          ]
        }
      ],
      "source": [
        "print(\"Algunas estadísticas del grafo:\")\n",
        "print(f'Número de Características: {data.num_features}')\n",
        "print(f'Número de Nodos: {data.num_nodes}')\n",
        "print(f'Número de bordes: {data.num_edges}')\n",
        "print(f'Grado promedio de nodos: {data.num_edges / data.num_nodes:.2f}')\n",
        "print(f'¿Contiene nodos aislados?: {data.contains_isolated_nodes()}')\n",
        "print(f'¿Contiene autoloops?: {data.contains_self_loops()}')\n",
        "print(f'¿Es no dirigido?: {data.is_undirected()}')"
      ]
    },
    {
      "cell_type": "code",
      "execution_count": 13,
      "metadata": {
        "colab": {
          "base_uri": "https://localhost:8080/",
          "height": 265
        },
        "id": "V6QJGNgNyTYz",
        "outputId": "a1c18b31-f6bc-4dc1-d968-e68ea3eb0089"
      },
      "outputs": [
        {
          "name": "stdout",
          "output_type": "stream",
          "text": [
            "Graph with 0 nodes and 0 edges\n"
          ]
        },
        {
          "data": {
            "image/png": "[encoded data removed]",
            "text/plain": [
              "<Figure size 432x288 with 1 Axes>"
            ]
          },
          "metadata": {},
          "output_type": "display_data"
        }
      ],
      "source": [
        "plot_graph(data,True)"
      ]
    },
    {
      "cell_type": "markdown",
      "metadata": {
        "id": "vDKdoDbFPgt_"
      },
      "source": [
        "# 4. Modelo"
      ]
    },
    {
      "cell_type": "code",
      "execution_count": 14,
      "metadata": {
        "id": "eZ-3eb2f2QLa"
      },
      "outputs": [],
      "source": [
        "import torch\n",
        "from torch_geometric.nn import MessagePassing\n",
        "from torch_geometric.utils import remove_self_loops, add_self_loops\n",
        "\n",
        "\n",
        "class SAGEConv(MessagePassing):\n",
        "    def __init__(self, in_channels, out_channels):\n",
        "        super(SAGEConv, self).__init__(aggr='max')\n",
        "        self.lin = torch.nn.Linear(in_channels, out_channels)\n",
        "        self.act = torch.nn.ReLU()\n",
        "        self.update_lin = torch.nn.Linear(in_channels + out_channels, in_channels, bias=False)\n",
        "        self.update_act = torch.nn.ReLU()\n",
        "\n",
        "    def forward(self, x, edge_index):\n",
        "        edge_index, _ = remove_self_loops(edge_index)\n",
        "        edge_index, _ = add_self_loops(edge_index, num_nodes=x.size(0))\n",
        "\n",
        "        return self.propagate(edge_index, size=(x.size(0), x.size(0)), x=x)\n",
        "\n",
        "    def message(self, x_j):\n",
        "        x_j = self.lin(x_j)\n",
        "        x_j = self.act(x_j)\n",
        "\n",
        "        return x_j\n",
        "\n",
        "    def update(self, aggr_out, x):\n",
        "        new_embedding = torch.cat([aggr_out, x], dim=1)\n",
        "        new_embedding = self.update_lin(new_embedding)\n",
        "        new_embedding = self.update_act(new_embedding)\n",
        "        return new_embedding\n"
      ]
    },
    {
      "cell_type": "code",
      "execution_count": 15,
      "metadata": {
        "id": "F-x76x9G2J79"
      },
      "outputs": [],
      "source": [
        "embed_dim = 131\n",
        "import torch\n",
        "import torch.nn.functional as F\n",
        "from torch_geometric.nn import TopKPooling\n",
        "from torch_geometric.nn import global_mean_pool as gap, global_max_pool as gmp\n",
        "\n",
        "class Net(torch.nn.Module):\n",
        "    def __init__(self):\n",
        "        super(Net, self).__init__()\n",
        "        self.conv1 = SAGEConv(embed_dim,131)\n",
        "        self.pool1 = TopKPooling(131, ratio=0.8)\n",
        "        self.conv2 = SAGEConv(131, 131)\n",
        "        self.pool2 = TopKPooling(131, ratio=0.8)\n",
        "        self.item_embedding = torch.nn.Embedding(num_embeddings=393, embedding_dim=embed_dim)\n",
        "        self.lin1 = torch.nn.Linear(262, 65)\n",
        "        self.lin3 = torch.nn.Linear(65, 1)\n",
        "        self.act1 = torch.nn.ReLU()\n",
        "        print(self)\n",
        "\n",
        "    def forward(self, data):\n",
        "        x, edge_index, batch = data.x, data.edge_index, data.batch\n",
        "        x = torch.tensor(x).to(torch.int)\n",
        "        x = self.item_embedding(x)\n",
        "        x = x.squeeze(1)\n",
        "\n",
        "        x = F.relu(self.conv1(x, edge_index))\n",
        "\n",
        "        x, edge_index, _, batch, _, _ = self.pool1(x, edge_index, None, batch)\n",
        "        x1 = torch.cat([gmp(x, batch), gap(x, batch)], dim=1)\n",
        "\n",
        "        x = F.relu(self.conv2(x, edge_index))\n",
        "\n",
        "        x, edge_index, _, batch, _, _ = self.pool2(x, edge_index, None, batch)\n",
        "        x2 = torch.cat([gmp(x, batch), gap(x, batch)], dim=1)\n",
        "\n",
        "        x = x1 + x2\n",
        "\n",
        "        x = self.lin1(x)\n",
        "        x = self.act1(x)\n",
        "\n",
        "        x = F.dropout(x, p=0.5, training=self.training)\n",
        "        x = torch.sigmoid(self.lin3(x)).squeeze(1)\n",
        "\n",
        "        return x"
      ]
    },
    {
      "cell_type": "markdown",
      "metadata": {
        "id": "c9bYFlDSQmp8"
      },
      "source": [
        "# 5. New attempt"
      ]
    },
    {
      "cell_type": "code",
      "execution_count": 16,
      "metadata": {
        "id": "yU3-sfNc1du6"
      },
      "outputs": [],
      "source": [
        "class AverageMeter(object):\n",
        "    \"\"\"\n",
        "    Keeps track of most recent, average, sum, and count of a metric.\n",
        "    \"\"\"\n",
        "\n",
        "    def __init__(self):\n",
        "        self.reset()\n",
        "\n",
        "    def reset(self):\n",
        "        self.val = 0\n",
        "        self.avg = 0\n",
        "        self.sum = 0\n",
        "        self.count = 0\n",
        "\n",
        "    def update(self, val, n=1):\n",
        "        self.val = val\n",
        "        self.sum += val * n\n",
        "        self.count += n\n",
        "        self.avg = self.sum / self.count"
      ]
    },
    {
      "cell_type": "code",
      "execution_count": 17,
      "metadata": {
        "id": "YrOOBkThcGRZ"
      },
      "outputs": [],
      "source": [
        "from sklearn.metrics import roc_auc_score\n",
        "def evaluate(loader, model):\n",
        "    model.eval()  \n",
        "    predictions = []\n",
        "    labels = []\n",
        "\n",
        "    # Batches\n",
        "    for data in loader:\n",
        "        data = data\n",
        "        pred = model(data).detach().numpy()\n",
        "        label = data.y.detach().numpy()\n",
        "        label = label.squeeze(1)\n",
        "        predictions.append(pred)\n",
        "        labels.append(label)\n",
        "\n",
        "    return roc_auc_score(labels, predictions)"
      ]
    },
    {
      "cell_type": "code",
      "execution_count": 29,
      "metadata": {
        "id": "OdHY5W4tQoKE"
      },
      "outputs": [],
      "source": [
        "from torch import nn\n",
        "def train_net():\n",
        "    torch.manual_seed(7)\n",
        "    np.random.seed(7)\n",
        "    best_acc = 0\n",
        "\n",
        "    model = Net()\n",
        "\n",
        "    optimizer = torch.optim.Adam(model.parameters(), lr=0.001)\n",
        "    # optimizer = torch.optim.SGD(model.parameters(), lr=0.001, momentum=0.9)\n",
        "\n",
        "    model = model\n",
        "\n",
        "    # Loss function\n",
        "    criterion = nn.BCELoss()\n",
        "\n",
        "    train_loader = list_data[0:144]\n",
        "    test_loader = list_data[145:182]\n",
        "    # val_loader = list_data[172:182]\n",
        "\n",
        "    # Epochs\n",
        "    for epoch in range(0,35):\n",
        "        train_loss = train(train_loader=train_loader,\n",
        "                           model=model,\n",
        "                           criterion=criterion,\n",
        "                           optimizer=optimizer,\n",
        "                           epoch=epoch)\n",
        "\n",
        "\n",
        "        train_acc = evaluate(train_loader, model)\n",
        "        # val_acc = evaluate(val_loader, model)\n",
        "        test_acc = evaluate(test_loader, model)\n",
        "        print('Epoch: {:03d}, Loss: {:.5f}, Train Auc: {:.5f},  Test Auc: {:.5f}'.\n",
        "              format(epoch, train_loss, train_acc,  test_acc))\n"
      ]
    },
    {
      "cell_type": "code",
      "execution_count": 22,
      "metadata": {
        "id": "xmfMqeBuSLpE"
      },
      "outputs": [],
      "source": [
        "def clip_gradient(optimizer, grad_clip):\n",
        "    \"\"\"\n",
        "    Clips gradients computed during backpropagation to avoid explosion of gradients.\n",
        "    :param optimizer: optimizer with the gradients to be clipped\n",
        "    :param grad_clip: clip value\n",
        "    \"\"\"\n",
        "    for group in optimizer.param_groups:\n",
        "        for param in group['params']:\n",
        "            if param.grad is not None:\n",
        "                param.grad.data.clamp_(-grad_clip, grad_clip)"
      ]
    },
    {
      "cell_type": "code",
      "execution_count": 23,
      "metadata": {
        "id": "aH237AjFQw0n"
      },
      "outputs": [],
      "source": [
        "def train(train_loader, model, criterion, optimizer, epoch):\n",
        "    model.train()  \n",
        "\n",
        "    losses = AverageMeter()\n",
        "\n",
        "    # Batches\n",
        "    for i, data in enumerate(train_loader):\n",
        "        data = data\n",
        "        label = data.y\n",
        "        label = label.squeeze(1)\n",
        "\n",
        "        # Forward prop.\n",
        "        out = model(data)\n",
        "\n",
        "        # Calculate loss\n",
        "        loss = criterion(out, label)\n",
        "\n",
        "        # Back prop.\n",
        "        optimizer.zero_grad()\n",
        "        loss.backward()\n",
        "\n",
        "        # Clip gradients\n",
        "        clip_gradient(optimizer, 5)\n",
        "\n",
        "        # Update weights\n",
        "        optimizer.step()\n",
        "\n",
        "        # Keep track of metrics\n",
        "        losses.update(loss.item())\n",
        "\n",
        "        # Print status\n",
        "        step = 20\n",
        "        if i % step == 0:\n",
        "            status = 'Epoch: [{0}][{1}/{2}]\\t' \\\n",
        "                     'Loss {loss.val:.5f} ({loss.avg:.5f})\\t'.format(epoch, i,\n",
        "                                                                     len(train_loader),\n",
        "                                                                     loss=losses)\n",
        "            # print(status)\n",
        "\n",
        "    return losses.avg"
      ]
    },
    {
      "cell_type": "code",
      "execution_count": 30,
      "metadata": {
        "colab": {
          "base_uri": "https://localhost:8080/"
        },
        "id": "QoZUTpRtdqbM",
        "outputId": "28221965-89a8-42c1-d9fe-af961dc689da"
      },
      "outputs": [
        {
          "name": "stdout",
          "output_type": "stream",
          "text": [
            "Net(\n",
            "  (conv1): SAGEConv()\n",
            "  (pool1): TopKPooling(131, ratio=0.8, multiplier=1.0)\n",
            "  (conv2): SAGEConv()\n",
            "  (pool2): TopKPooling(131, ratio=0.8, multiplier=1.0)\n",
            "  (item_embedding): Embedding(393, 131)\n",
            "  (lin1): Linear(in_features=262, out_features=65, bias=True)\n",
            "  (lin3): Linear(in_features=65, out_features=1, bias=True)\n",
            "  (act1): ReLU()\n",
            ")\n"
          ]
        },
        {
          "name": "stderr",
          "output_type": "stream",
          "text": [
            "/usr/local/lib/python3.7/dist-packages/ipykernel_launcher.py:22: UserWarning: To copy construct from a tensor, it is recommended to use sourceTensor.clone().detach() or sourceTensor.clone().detach().requires_grad_(True), rather than torch.tensor(sourceTensor).\n",
            "/usr/local/lib/python3.7/dist-packages/ipykernel_launcher.py:22: UserWarning: To copy construct from a tensor, it is recommended to use sourceTensor.clone().detach() or sourceTensor.clone().detach().requires_grad_(True), rather than torch.tensor(sourceTensor).\n"
          ]
        },
        {
          "name": "stdout",
          "output_type": "stream",
          "text": [
            "Epoch: 000, Loss: 0.71225, Train Auc: 0.56105,  Test Auc: 0.61250\n"
          ]
        },
        {
          "name": "stderr",
          "output_type": "stream",
          "text": [
            "/usr/local/lib/python3.7/dist-packages/ipykernel_launcher.py:22: UserWarning: To copy construct from a tensor, it is recommended to use sourceTensor.clone().detach() or sourceTensor.clone().detach().requires_grad_(True), rather than torch.tensor(sourceTensor).\n",
            "/usr/local/lib/python3.7/dist-packages/ipykernel_launcher.py:22: UserWarning: To copy construct from a tensor, it is recommended to use sourceTensor.clone().detach() or sourceTensor.clone().detach().requires_grad_(True), rather than torch.tensor(sourceTensor).\n"
          ]
        },
        {
          "name": "stdout",
          "output_type": "stream",
          "text": [
            "Epoch: 001, Loss: 0.71935, Train Auc: 0.69387,  Test Auc: 0.41875\n"
          ]
        },
        {
          "name": "stderr",
          "output_type": "stream",
          "text": [
            "/usr/local/lib/python3.7/dist-packages/ipykernel_launcher.py:22: UserWarning: To copy construct from a tensor, it is recommended to use sourceTensor.clone().detach() or sourceTensor.clone().detach().requires_grad_(True), rather than torch.tensor(sourceTensor).\n",
            "/usr/local/lib/python3.7/dist-packages/ipykernel_launcher.py:22: UserWarning: To copy construct from a tensor, it is recommended to use sourceTensor.clone().detach() or sourceTensor.clone().detach().requires_grad_(True), rather than torch.tensor(sourceTensor).\n"
          ]
        },
        {
          "name": "stdout",
          "output_type": "stream",
          "text": [
            "Epoch: 002, Loss: 0.69179, Train Auc: 0.72678,  Test Auc: 0.49062\n"
          ]
        },
        {
          "name": "stderr",
          "output_type": "stream",
          "text": [
            "/usr/local/lib/python3.7/dist-packages/ipykernel_launcher.py:22: UserWarning: To copy construct from a tensor, it is recommended to use sourceTensor.clone().detach() or sourceTensor.clone().detach().requires_grad_(True), rather than torch.tensor(sourceTensor).\n",
            "/usr/local/lib/python3.7/dist-packages/ipykernel_launcher.py:22: UserWarning: To copy construct from a tensor, it is recommended to use sourceTensor.clone().detach() or sourceTensor.clone().detach().requires_grad_(True), rather than torch.tensor(sourceTensor).\n"
          ]
        },
        {
          "name": "stdout",
          "output_type": "stream",
          "text": [
            "Epoch: 003, Loss: 0.69351, Train Auc: 0.75346,  Test Auc: 0.53437\n"
          ]
        },
        {
          "name": "stderr",
          "output_type": "stream",
          "text": [
            "/usr/local/lib/python3.7/dist-packages/ipykernel_launcher.py:22: UserWarning: To copy construct from a tensor, it is recommended to use sourceTensor.clone().detach() or sourceTensor.clone().detach().requires_grad_(True), rather than torch.tensor(sourceTensor).\n",
            "/usr/local/lib/python3.7/dist-packages/ipykernel_launcher.py:22: UserWarning: To copy construct from a tensor, it is recommended to use sourceTensor.clone().detach() or sourceTensor.clone().detach().requires_grad_(True), rather than torch.tensor(sourceTensor).\n"
          ]
        },
        {
          "name": "stdout",
          "output_type": "stream",
          "text": [
            "Epoch: 004, Loss: 0.68952, Train Auc: 0.78033,  Test Auc: 0.50000\n"
          ]
        },
        {
          "name": "stderr",
          "output_type": "stream",
          "text": [
            "/usr/local/lib/python3.7/dist-packages/ipykernel_launcher.py:22: UserWarning: To copy construct from a tensor, it is recommended to use sourceTensor.clone().detach() or sourceTensor.clone().detach().requires_grad_(True), rather than torch.tensor(sourceTensor).\n",
            "/usr/local/lib/python3.7/dist-packages/ipykernel_launcher.py:22: UserWarning: To copy construct from a tensor, it is recommended to use sourceTensor.clone().detach() or sourceTensor.clone().detach().requires_grad_(True), rather than torch.tensor(sourceTensor).\n"
          ]
        },
        {
          "name": "stdout",
          "output_type": "stream",
          "text": [
            "Epoch: 005, Loss: 0.69036, Train Auc: 0.81772,  Test Auc: 0.49063\n"
          ]
        },
        {
          "name": "stderr",
          "output_type": "stream",
          "text": [
            "/usr/local/lib/python3.7/dist-packages/ipykernel_launcher.py:22: UserWarning: To copy construct from a tensor, it is recommended to use sourceTensor.clone().detach() or sourceTensor.clone().detach().requires_grad_(True), rather than torch.tensor(sourceTensor).\n",
            "/usr/local/lib/python3.7/dist-packages/ipykernel_launcher.py:22: UserWarning: To copy construct from a tensor, it is recommended to use sourceTensor.clone().detach() or sourceTensor.clone().detach().requires_grad_(True), rather than torch.tensor(sourceTensor).\n"
          ]
        },
        {
          "name": "stdout",
          "output_type": "stream",
          "text": [
            "Epoch: 006, Loss: 0.68932, Train Auc: 0.80818,  Test Auc: 0.54688\n"
          ]
        },
        {
          "name": "stderr",
          "output_type": "stream",
          "text": [
            "/usr/local/lib/python3.7/dist-packages/ipykernel_launcher.py:22: UserWarning: To copy construct from a tensor, it is recommended to use sourceTensor.clone().detach() or sourceTensor.clone().detach().requires_grad_(True), rather than torch.tensor(sourceTensor).\n",
            "/usr/local/lib/python3.7/dist-packages/ipykernel_launcher.py:22: UserWarning: To copy construct from a tensor, it is recommended to use sourceTensor.clone().detach() or sourceTensor.clone().detach().requires_grad_(True), rather than torch.tensor(sourceTensor).\n"
          ]
        },
        {
          "name": "stdout",
          "output_type": "stream",
          "text": [
            "Epoch: 007, Loss: 0.69128, Train Auc: 0.80156,  Test Auc: 0.50313\n"
          ]
        },
        {
          "name": "stderr",
          "output_type": "stream",
          "text": [
            "/usr/local/lib/python3.7/dist-packages/ipykernel_launcher.py:22: UserWarning: To copy construct from a tensor, it is recommended to use sourceTensor.clone().detach() or sourceTensor.clone().detach().requires_grad_(True), rather than torch.tensor(sourceTensor).\n",
            "/usr/local/lib/python3.7/dist-packages/ipykernel_launcher.py:22: UserWarning: To copy construct from a tensor, it is recommended to use sourceTensor.clone().detach() or sourceTensor.clone().detach().requires_grad_(True), rather than torch.tensor(sourceTensor).\n"
          ]
        },
        {
          "name": "stdout",
          "output_type": "stream",
          "text": [
            "Epoch: 008, Loss: 0.68847, Train Auc: 0.78364,  Test Auc: 0.38750\n"
          ]
        },
        {
          "name": "stderr",
          "output_type": "stream",
          "text": [
            "/usr/local/lib/python3.7/dist-packages/ipykernel_launcher.py:22: UserWarning: To copy construct from a tensor, it is recommended to use sourceTensor.clone().detach() or sourceTensor.clone().detach().requires_grad_(True), rather than torch.tensor(sourceTensor).\n",
            "/usr/local/lib/python3.7/dist-packages/ipykernel_launcher.py:22: UserWarning: To copy construct from a tensor, it is recommended to use sourceTensor.clone().detach() or sourceTensor.clone().detach().requires_grad_(True), rather than torch.tensor(sourceTensor).\n"
          ]
        },
        {
          "name": "stdout",
          "output_type": "stream",
          "text": [
            "Epoch: 009, Loss: 0.68772, Train Auc: 0.82103,  Test Auc: 0.45937\n"
          ]
        },
        {
          "name": "stderr",
          "output_type": "stream",
          "text": [
            "/usr/local/lib/python3.7/dist-packages/ipykernel_launcher.py:22: UserWarning: To copy construct from a tensor, it is recommended to use sourceTensor.clone().detach() or sourceTensor.clone().detach().requires_grad_(True), rather than torch.tensor(sourceTensor).\n",
            "/usr/local/lib/python3.7/dist-packages/ipykernel_launcher.py:22: UserWarning: To copy construct from a tensor, it is recommended to use sourceTensor.clone().detach() or sourceTensor.clone().detach().requires_grad_(True), rather than torch.tensor(sourceTensor).\n"
          ]
        },
        {
          "name": "stdout",
          "output_type": "stream",
          "text": [
            "Epoch: 010, Loss: 0.69132, Train Auc: 0.72191,  Test Auc: 0.48750\n"
          ]
        },
        {
          "name": "stderr",
          "output_type": "stream",
          "text": [
            "/usr/local/lib/python3.7/dist-packages/ipykernel_launcher.py:22: UserWarning: To copy construct from a tensor, it is recommended to use sourceTensor.clone().detach() or sourceTensor.clone().detach().requires_grad_(True), rather than torch.tensor(sourceTensor).\n",
            "/usr/local/lib/python3.7/dist-packages/ipykernel_launcher.py:22: UserWarning: To copy construct from a tensor, it is recommended to use sourceTensor.clone().detach() or sourceTensor.clone().detach().requires_grad_(True), rather than torch.tensor(sourceTensor).\n"
          ]
        },
        {
          "name": "stdout",
          "output_type": "stream",
          "text": [
            "Epoch: 011, Loss: 0.69306, Train Auc: 0.82181,  Test Auc: 0.50313\n"
          ]
        },
        {
          "name": "stderr",
          "output_type": "stream",
          "text": [
            "/usr/local/lib/python3.7/dist-packages/ipykernel_launcher.py:22: UserWarning: To copy construct from a tensor, it is recommended to use sourceTensor.clone().detach() or sourceTensor.clone().detach().requires_grad_(True), rather than torch.tensor(sourceTensor).\n",
            "/usr/local/lib/python3.7/dist-packages/ipykernel_launcher.py:22: UserWarning: To copy construct from a tensor, it is recommended to use sourceTensor.clone().detach() or sourceTensor.clone().detach().requires_grad_(True), rather than torch.tensor(sourceTensor).\n"
          ]
        },
        {
          "name": "stdout",
          "output_type": "stream",
          "text": [
            "Epoch: 012, Loss: 0.68224, Train Auc: 0.83096,  Test Auc: 0.47187\n"
          ]
        },
        {
          "name": "stderr",
          "output_type": "stream",
          "text": [
            "/usr/local/lib/python3.7/dist-packages/ipykernel_launcher.py:22: UserWarning: To copy construct from a tensor, it is recommended to use sourceTensor.clone().detach() or sourceTensor.clone().detach().requires_grad_(True), rather than torch.tensor(sourceTensor).\n",
            "/usr/local/lib/python3.7/dist-packages/ipykernel_launcher.py:22: UserWarning: To copy construct from a tensor, it is recommended to use sourceTensor.clone().detach() or sourceTensor.clone().detach().requires_grad_(True), rather than torch.tensor(sourceTensor).\n"
          ]
        },
        {
          "name": "stdout",
          "output_type": "stream",
          "text": [
            "Epoch: 013, Loss: 0.67569, Train Auc: 0.85258,  Test Auc: 0.47500\n"
          ]
        },
        {
          "name": "stderr",
          "output_type": "stream",
          "text": [
            "/usr/local/lib/python3.7/dist-packages/ipykernel_launcher.py:22: UserWarning: To copy construct from a tensor, it is recommended to use sourceTensor.clone().detach() or sourceTensor.clone().detach().requires_grad_(True), rather than torch.tensor(sourceTensor).\n",
            "/usr/local/lib/python3.7/dist-packages/ipykernel_launcher.py:22: UserWarning: To copy construct from a tensor, it is recommended to use sourceTensor.clone().detach() or sourceTensor.clone().detach().requires_grad_(True), rather than torch.tensor(sourceTensor).\n"
          ]
        },
        {
          "name": "stdout",
          "output_type": "stream",
          "text": [
            "Epoch: 014, Loss: 0.64156, Train Auc: 0.87439,  Test Auc: 0.41875\n"
          ]
        },
        {
          "name": "stderr",
          "output_type": "stream",
          "text": [
            "/usr/local/lib/python3.7/dist-packages/ipykernel_launcher.py:22: UserWarning: To copy construct from a tensor, it is recommended to use sourceTensor.clone().detach() or sourceTensor.clone().detach().requires_grad_(True), rather than torch.tensor(sourceTensor).\n",
            "/usr/local/lib/python3.7/dist-packages/ipykernel_launcher.py:22: UserWarning: To copy construct from a tensor, it is recommended to use sourceTensor.clone().detach() or sourceTensor.clone().detach().requires_grad_(True), rather than torch.tensor(sourceTensor).\n"
          ]
        },
        {
          "name": "stdout",
          "output_type": "stream",
          "text": [
            "Epoch: 015, Loss: 0.60524, Train Auc: 0.90964,  Test Auc: 0.46875\n"
          ]
        },
        {
          "name": "stderr",
          "output_type": "stream",
          "text": [
            "/usr/local/lib/python3.7/dist-packages/ipykernel_launcher.py:22: UserWarning: To copy construct from a tensor, it is recommended to use sourceTensor.clone().detach() or sourceTensor.clone().detach().requires_grad_(True), rather than torch.tensor(sourceTensor).\n",
            "/usr/local/lib/python3.7/dist-packages/ipykernel_launcher.py:22: UserWarning: To copy construct from a tensor, it is recommended to use sourceTensor.clone().detach() or sourceTensor.clone().detach().requires_grad_(True), rather than torch.tensor(sourceTensor).\n"
          ]
        },
        {
          "name": "stdout",
          "output_type": "stream",
          "text": [
            "Epoch: 016, Loss: 0.55774, Train Auc: 0.93223,  Test Auc: 0.50313\n"
          ]
        },
        {
          "name": "stderr",
          "output_type": "stream",
          "text": [
            "/usr/local/lib/python3.7/dist-packages/ipykernel_launcher.py:22: UserWarning: To copy construct from a tensor, it is recommended to use sourceTensor.clone().detach() or sourceTensor.clone().detach().requires_grad_(True), rather than torch.tensor(sourceTensor).\n",
            "/usr/local/lib/python3.7/dist-packages/ipykernel_launcher.py:22: UserWarning: To copy construct from a tensor, it is recommended to use sourceTensor.clone().detach() or sourceTensor.clone().detach().requires_grad_(True), rather than torch.tensor(sourceTensor).\n"
          ]
        },
        {
          "name": "stdout",
          "output_type": "stream",
          "text": [
            "Epoch: 017, Loss: 0.45264, Train Auc: 0.94684,  Test Auc: 0.49375\n"
          ]
        },
        {
          "name": "stderr",
          "output_type": "stream",
          "text": [
            "/usr/local/lib/python3.7/dist-packages/ipykernel_launcher.py:22: UserWarning: To copy construct from a tensor, it is recommended to use sourceTensor.clone().detach() or sourceTensor.clone().detach().requires_grad_(True), rather than torch.tensor(sourceTensor).\n",
            "/usr/local/lib/python3.7/dist-packages/ipykernel_launcher.py:22: UserWarning: To copy construct from a tensor, it is recommended to use sourceTensor.clone().detach() or sourceTensor.clone().detach().requires_grad_(True), rather than torch.tensor(sourceTensor).\n"
          ]
        },
        {
          "name": "stdout",
          "output_type": "stream",
          "text": [
            "Epoch: 018, Loss: 0.43308, Train Auc: 0.94917,  Test Auc: 0.45312\n"
          ]
        },
        {
          "name": "stderr",
          "output_type": "stream",
          "text": [
            "/usr/local/lib/python3.7/dist-packages/ipykernel_launcher.py:22: UserWarning: To copy construct from a tensor, it is recommended to use sourceTensor.clone().detach() or sourceTensor.clone().detach().requires_grad_(True), rather than torch.tensor(sourceTensor).\n",
            "/usr/local/lib/python3.7/dist-packages/ipykernel_launcher.py:22: UserWarning: To copy construct from a tensor, it is recommended to use sourceTensor.clone().detach() or sourceTensor.clone().detach().requires_grad_(True), rather than torch.tensor(sourceTensor).\n"
          ]
        },
        {
          "name": "stdout",
          "output_type": "stream",
          "text": [
            "Epoch: 019, Loss: 0.42032, Train Auc: 0.95755,  Test Auc: 0.45938\n"
          ]
        },
        {
          "name": "stderr",
          "output_type": "stream",
          "text": [
            "/usr/local/lib/python3.7/dist-packages/ipykernel_launcher.py:22: UserWarning: To copy construct from a tensor, it is recommended to use sourceTensor.clone().detach() or sourceTensor.clone().detach().requires_grad_(True), rather than torch.tensor(sourceTensor).\n",
            "/usr/local/lib/python3.7/dist-packages/ipykernel_launcher.py:22: UserWarning: To copy construct from a tensor, it is recommended to use sourceTensor.clone().detach() or sourceTensor.clone().detach().requires_grad_(True), rather than torch.tensor(sourceTensor).\n"
          ]
        },
        {
          "name": "stdout",
          "output_type": "stream",
          "text": [
            "Epoch: 020, Loss: 0.39477, Train Auc: 0.94567,  Test Auc: 0.43125\n"
          ]
        },
        {
          "name": "stderr",
          "output_type": "stream",
          "text": [
            "/usr/local/lib/python3.7/dist-packages/ipykernel_launcher.py:22: UserWarning: To copy construct from a tensor, it is recommended to use sourceTensor.clone().detach() or sourceTensor.clone().detach().requires_grad_(True), rather than torch.tensor(sourceTensor).\n",
            "/usr/local/lib/python3.7/dist-packages/ipykernel_launcher.py:22: UserWarning: To copy construct from a tensor, it is recommended to use sourceTensor.clone().detach() or sourceTensor.clone().detach().requires_grad_(True), rather than torch.tensor(sourceTensor).\n"
          ]
        },
        {
          "name": "stdout",
          "output_type": "stream",
          "text": [
            "Epoch: 021, Loss: 0.39941, Train Auc: 0.96767,  Test Auc: 0.40625\n"
          ]
        },
        {
          "name": "stderr",
          "output_type": "stream",
          "text": [
            "/usr/local/lib/python3.7/dist-packages/ipykernel_launcher.py:22: UserWarning: To copy construct from a tensor, it is recommended to use sourceTensor.clone().detach() or sourceTensor.clone().detach().requires_grad_(True), rather than torch.tensor(sourceTensor).\n",
            "/usr/local/lib/python3.7/dist-packages/ipykernel_launcher.py:22: UserWarning: To copy construct from a tensor, it is recommended to use sourceTensor.clone().detach() or sourceTensor.clone().detach().requires_grad_(True), rather than torch.tensor(sourceTensor).\n"
          ]
        },
        {
          "name": "stdout",
          "output_type": "stream",
          "text": [
            "Epoch: 022, Loss: 0.33776, Train Auc: 0.97527,  Test Auc: 0.46250\n"
          ]
        },
        {
          "name": "stderr",
          "output_type": "stream",
          "text": [
            "/usr/local/lib/python3.7/dist-packages/ipykernel_launcher.py:22: UserWarning: To copy construct from a tensor, it is recommended to use sourceTensor.clone().detach() or sourceTensor.clone().detach().requires_grad_(True), rather than torch.tensor(sourceTensor).\n",
            "/usr/local/lib/python3.7/dist-packages/ipykernel_launcher.py:22: UserWarning: To copy construct from a tensor, it is recommended to use sourceTensor.clone().detach() or sourceTensor.clone().detach().requires_grad_(True), rather than torch.tensor(sourceTensor).\n"
          ]
        },
        {
          "name": "stdout",
          "output_type": "stream",
          "text": [
            "Epoch: 023, Loss: 0.25840, Train Auc: 0.98286,  Test Auc: 0.42188\n"
          ]
        },
        {
          "name": "stderr",
          "output_type": "stream",
          "text": [
            "/usr/local/lib/python3.7/dist-packages/ipykernel_launcher.py:22: UserWarning: To copy construct from a tensor, it is recommended to use sourceTensor.clone().detach() or sourceTensor.clone().detach().requires_grad_(True), rather than torch.tensor(sourceTensor).\n",
            "/usr/local/lib/python3.7/dist-packages/ipykernel_launcher.py:22: UserWarning: To copy construct from a tensor, it is recommended to use sourceTensor.clone().detach() or sourceTensor.clone().detach().requires_grad_(True), rather than torch.tensor(sourceTensor).\n"
          ]
        },
        {
          "name": "stdout",
          "output_type": "stream",
          "text": [
            "Epoch: 024, Loss: 0.29959, Train Auc: 0.98247,  Test Auc: 0.50000\n"
          ]
        },
        {
          "name": "stderr",
          "output_type": "stream",
          "text": [
            "/usr/local/lib/python3.7/dist-packages/ipykernel_launcher.py:22: UserWarning: To copy construct from a tensor, it is recommended to use sourceTensor.clone().detach() or sourceTensor.clone().detach().requires_grad_(True), rather than torch.tensor(sourceTensor).\n",
            "/usr/local/lib/python3.7/dist-packages/ipykernel_launcher.py:22: UserWarning: To copy construct from a tensor, it is recommended to use sourceTensor.clone().detach() or sourceTensor.clone().detach().requires_grad_(True), rather than torch.tensor(sourceTensor).\n"
          ]
        },
        {
          "name": "stdout",
          "output_type": "stream",
          "text": [
            "Epoch: 025, Loss: 0.23223, Train Auc: 0.98793,  Test Auc: 0.46563\n"
          ]
        },
        {
          "name": "stderr",
          "output_type": "stream",
          "text": [
            "/usr/local/lib/python3.7/dist-packages/ipykernel_launcher.py:22: UserWarning: To copy construct from a tensor, it is recommended to use sourceTensor.clone().detach() or sourceTensor.clone().detach().requires_grad_(True), rather than torch.tensor(sourceTensor).\n",
            "/usr/local/lib/python3.7/dist-packages/ipykernel_launcher.py:22: UserWarning: To copy construct from a tensor, it is recommended to use sourceTensor.clone().detach() or sourceTensor.clone().detach().requires_grad_(True), rather than torch.tensor(sourceTensor).\n"
          ]
        },
        {
          "name": "stdout",
          "output_type": "stream",
          "text": [
            "Epoch: 026, Loss: 0.22917, Train Auc: 0.98520,  Test Auc: 0.60938\n"
          ]
        },
        {
          "name": "stderr",
          "output_type": "stream",
          "text": [
            "/usr/local/lib/python3.7/dist-packages/ipykernel_launcher.py:22: UserWarning: To copy construct from a tensor, it is recommended to use sourceTensor.clone().detach() or sourceTensor.clone().detach().requires_grad_(True), rather than torch.tensor(sourceTensor).\n",
            "/usr/local/lib/python3.7/dist-packages/ipykernel_launcher.py:22: UserWarning: To copy construct from a tensor, it is recommended to use sourceTensor.clone().detach() or sourceTensor.clone().detach().requires_grad_(True), rather than torch.tensor(sourceTensor).\n"
          ]
        },
        {
          "name": "stdout",
          "output_type": "stream",
          "text": [
            "Epoch: 027, Loss: 0.21444, Train Auc: 0.99124,  Test Auc: 0.50313\n"
          ]
        },
        {
          "name": "stderr",
          "output_type": "stream",
          "text": [
            "/usr/local/lib/python3.7/dist-packages/ipykernel_launcher.py:22: UserWarning: To copy construct from a tensor, it is recommended to use sourceTensor.clone().detach() or sourceTensor.clone().detach().requires_grad_(True), rather than torch.tensor(sourceTensor).\n",
            "/usr/local/lib/python3.7/dist-packages/ipykernel_launcher.py:22: UserWarning: To copy construct from a tensor, it is recommended to use sourceTensor.clone().detach() or sourceTensor.clone().detach().requires_grad_(True), rather than torch.tensor(sourceTensor).\n"
          ]
        },
        {
          "name": "stdout",
          "output_type": "stream",
          "text": [
            "Epoch: 028, Loss: 0.19199, Train Auc: 0.99182,  Test Auc: 0.51562\n"
          ]
        },
        {
          "name": "stderr",
          "output_type": "stream",
          "text": [
            "/usr/local/lib/python3.7/dist-packages/ipykernel_launcher.py:22: UserWarning: To copy construct from a tensor, it is recommended to use sourceTensor.clone().detach() or sourceTensor.clone().detach().requires_grad_(True), rather than torch.tensor(sourceTensor).\n",
            "/usr/local/lib/python3.7/dist-packages/ipykernel_launcher.py:22: UserWarning: To copy construct from a tensor, it is recommended to use sourceTensor.clone().detach() or sourceTensor.clone().detach().requires_grad_(True), rather than torch.tensor(sourceTensor).\n"
          ]
        },
        {
          "name": "stdout",
          "output_type": "stream",
          "text": [
            "Epoch: 029, Loss: 0.25520, Train Auc: 0.99163,  Test Auc: 0.53438\n"
          ]
        },
        {
          "name": "stderr",
          "output_type": "stream",
          "text": [
            "/usr/local/lib/python3.7/dist-packages/ipykernel_launcher.py:22: UserWarning: To copy construct from a tensor, it is recommended to use sourceTensor.clone().detach() or sourceTensor.clone().detach().requires_grad_(True), rather than torch.tensor(sourceTensor).\n",
            "/usr/local/lib/python3.7/dist-packages/ipykernel_launcher.py:22: UserWarning: To copy construct from a tensor, it is recommended to use sourceTensor.clone().detach() or sourceTensor.clone().detach().requires_grad_(True), rather than torch.tensor(sourceTensor).\n"
          ]
        },
        {
          "name": "stdout",
          "output_type": "stream",
          "text": [
            "Epoch: 030, Loss: 0.14518, Train Auc: 0.99825,  Test Auc: 0.57812\n"
          ]
        },
        {
          "name": "stderr",
          "output_type": "stream",
          "text": [
            "/usr/local/lib/python3.7/dist-packages/ipykernel_launcher.py:22: UserWarning: To copy construct from a tensor, it is recommended to use sourceTensor.clone().detach() or sourceTensor.clone().detach().requires_grad_(True), rather than torch.tensor(sourceTensor).\n",
            "/usr/local/lib/python3.7/dist-packages/ipykernel_launcher.py:22: UserWarning: To copy construct from a tensor, it is recommended to use sourceTensor.clone().detach() or sourceTensor.clone().detach().requires_grad_(True), rather than torch.tensor(sourceTensor).\n"
          ]
        },
        {
          "name": "stdout",
          "output_type": "stream",
          "text": [
            "Epoch: 031, Loss: 0.22635, Train Auc: 0.99883,  Test Auc: 0.58437\n"
          ]
        },
        {
          "name": "stderr",
          "output_type": "stream",
          "text": [
            "/usr/local/lib/python3.7/dist-packages/ipykernel_launcher.py:22: UserWarning: To copy construct from a tensor, it is recommended to use sourceTensor.clone().detach() or sourceTensor.clone().detach().requires_grad_(True), rather than torch.tensor(sourceTensor).\n",
            "/usr/local/lib/python3.7/dist-packages/ipykernel_launcher.py:22: UserWarning: To copy construct from a tensor, it is recommended to use sourceTensor.clone().detach() or sourceTensor.clone().detach().requires_grad_(True), rather than torch.tensor(sourceTensor).\n"
          ]
        },
        {
          "name": "stdout",
          "output_type": "stream",
          "text": [
            "Epoch: 032, Loss: 0.11506, Train Auc: 0.99864,  Test Auc: 0.55312\n"
          ]
        },
        {
          "name": "stderr",
          "output_type": "stream",
          "text": [
            "/usr/local/lib/python3.7/dist-packages/ipykernel_launcher.py:22: UserWarning: To copy construct from a tensor, it is recommended to use sourceTensor.clone().detach() or sourceTensor.clone().detach().requires_grad_(True), rather than torch.tensor(sourceTensor).\n",
            "/usr/local/lib/python3.7/dist-packages/ipykernel_launcher.py:22: UserWarning: To copy construct from a tensor, it is recommended to use sourceTensor.clone().detach() or sourceTensor.clone().detach().requires_grad_(True), rather than torch.tensor(sourceTensor).\n"
          ]
        },
        {
          "name": "stdout",
          "output_type": "stream",
          "text": [
            "Epoch: 033, Loss: 0.15187, Train Auc: 0.99864,  Test Auc: 0.52812\n"
          ]
        },
        {
          "name": "stderr",
          "output_type": "stream",
          "text": [
            "/usr/local/lib/python3.7/dist-packages/ipykernel_launcher.py:22: UserWarning: To copy construct from a tensor, it is recommended to use sourceTensor.clone().detach() or sourceTensor.clone().detach().requires_grad_(True), rather than torch.tensor(sourceTensor).\n",
            "/usr/local/lib/python3.7/dist-packages/ipykernel_launcher.py:22: UserWarning: To copy construct from a tensor, it is recommended to use sourceTensor.clone().detach() or sourceTensor.clone().detach().requires_grad_(True), rather than torch.tensor(sourceTensor).\n"
          ]
        },
        {
          "name": "stdout",
          "output_type": "stream",
          "text": [
            "Epoch: 034, Loss: 0.10658, Train Auc: 0.99961,  Test Auc: 0.54375\n"
          ]
        }
      ],
      "source": [
        "loss = train_net() #80-20"
      ]
    },
    {
      "cell_type": "code",
      "execution_count": 25,
      "metadata": {
        "id": "_QUGpIfDjOVb"
      },
      "outputs": [],
      "source": [
        "from torch import nn\n",
        "def train_net():\n",
        "    torch.manual_seed(7)\n",
        "    np.random.seed(7)\n",
        "    best_acc = 0\n",
        "\n",
        "    model = Net()\n",
        "\n",
        "    optimizer = torch.optim.Adam(model.parameters(), lr=0.001)\n",
        "    # optimizer = torch.optim.SGD(model.parameters(), lr=0.001, momentum=0.9)\n",
        "\n",
        "    model = model\n",
        "\n",
        "    # Loss function\n",
        "    criterion = nn.BCELoss()\n",
        "\n",
        "    train_loader = list_data[0:154]\n",
        "    test_loader = list_data[155:182]\n",
        "    # val_loader = list_data[172:182]\n",
        "\n",
        "    # Epochs\n",
        "    for epoch in range(0, 35):\n",
        "        train_loss = train(train_loader=train_loader,\n",
        "                           model=model,\n",
        "                           criterion=criterion,\n",
        "                           optimizer=optimizer,\n",
        "                           epoch=epoch)\n",
        "\n",
        "\n",
        "        train_acc = evaluate(train_loader, model)\n",
        "        # val_acc = evaluate(val_loader, model)\n",
        "        test_acc = evaluate(test_loader, model)\n",
        "        print('Epoch: {:03d}, Loss: {:.5f}, Train Auc: {:.5f},  Test Auc: {:.5f}'.\n",
        "              format(epoch, train_loss, train_acc,  test_acc))\n"
      ]
    },
    {
      "cell_type": "code",
      "execution_count": 26,
      "metadata": {
        "colab": {
          "base_uri": "https://localhost:8080/"
        },
        "id": "9QqDSrZnTSLN",
        "outputId": "ad1dcc54-8c40-4c62-8c91-4e923a93243c"
      },
      "outputs": [
        {
          "name": "stdout",
          "output_type": "stream",
          "text": [
            "Net(\n",
            "  (conv1): SAGEConv()\n",
            "  (pool1): TopKPooling(131, ratio=0.8, multiplier=1.0)\n",
            "  (conv2): SAGEConv()\n",
            "  (pool2): TopKPooling(131, ratio=0.8, multiplier=1.0)\n",
            "  (item_embedding): Embedding(393, 131)\n",
            "  (lin1): Linear(in_features=262, out_features=65, bias=True)\n",
            "  (lin3): Linear(in_features=65, out_features=1, bias=True)\n",
            "  (act1): ReLU()\n",
            ")\n"
          ]
        },
        {
          "name": "stderr",
          "output_type": "stream",
          "text": [
            "/usr/local/lib/python3.7/dist-packages/ipykernel_launcher.py:22: UserWarning: To copy construct from a tensor, it is recommended to use sourceTensor.clone().detach() or sourceTensor.clone().detach().requires_grad_(True), rather than torch.tensor(sourceTensor).\n",
            "/usr/local/lib/python3.7/dist-packages/ipykernel_launcher.py:22: UserWarning: To copy construct from a tensor, it is recommended to use sourceTensor.clone().detach() or sourceTensor.clone().detach().requires_grad_(True), rather than torch.tensor(sourceTensor).\n"
          ]
        },
        {
          "name": "stdout",
          "output_type": "stream",
          "text": [
            "Epoch: 000, Loss: 0.70902, Train Auc: 0.59255,  Test Auc: 0.50694\n"
          ]
        },
        {
          "name": "stderr",
          "output_type": "stream",
          "text": [
            "/usr/local/lib/python3.7/dist-packages/ipykernel_launcher.py:22: UserWarning: To copy construct from a tensor, it is recommended to use sourceTensor.clone().detach() or sourceTensor.clone().detach().requires_grad_(True), rather than torch.tensor(sourceTensor).\n",
            "/usr/local/lib/python3.7/dist-packages/ipykernel_launcher.py:22: UserWarning: To copy construct from a tensor, it is recommended to use sourceTensor.clone().detach() or sourceTensor.clone().detach().requires_grad_(True), rather than torch.tensor(sourceTensor).\n"
          ]
        },
        {
          "name": "stdout",
          "output_type": "stream",
          "text": [
            "Epoch: 001, Loss: 0.71672, Train Auc: 0.61571,  Test Auc: 0.46528\n"
          ]
        },
        {
          "name": "stderr",
          "output_type": "stream",
          "text": [
            "/usr/local/lib/python3.7/dist-packages/ipykernel_launcher.py:22: UserWarning: To copy construct from a tensor, it is recommended to use sourceTensor.clone().detach() or sourceTensor.clone().detach().requires_grad_(True), rather than torch.tensor(sourceTensor).\n",
            "/usr/local/lib/python3.7/dist-packages/ipykernel_launcher.py:22: UserWarning: To copy construct from a tensor, it is recommended to use sourceTensor.clone().detach() or sourceTensor.clone().detach().requires_grad_(True), rather than torch.tensor(sourceTensor).\n"
          ]
        },
        {
          "name": "stdout",
          "output_type": "stream",
          "text": [
            "Epoch: 002, Loss: 0.68781, Train Auc: 0.69103,  Test Auc: 0.53472\n"
          ]
        },
        {
          "name": "stderr",
          "output_type": "stream",
          "text": [
            "/usr/local/lib/python3.7/dist-packages/ipykernel_launcher.py:22: UserWarning: To copy construct from a tensor, it is recommended to use sourceTensor.clone().detach() or sourceTensor.clone().detach().requires_grad_(True), rather than torch.tensor(sourceTensor).\n",
            "/usr/local/lib/python3.7/dist-packages/ipykernel_launcher.py:22: UserWarning: To copy construct from a tensor, it is recommended to use sourceTensor.clone().detach() or sourceTensor.clone().detach().requires_grad_(True), rather than torch.tensor(sourceTensor).\n"
          ]
        },
        {
          "name": "stdout",
          "output_type": "stream",
          "text": [
            "Epoch: 003, Loss: 0.68682, Train Auc: 0.75879,  Test Auc: 0.45833\n"
          ]
        },
        {
          "name": "stderr",
          "output_type": "stream",
          "text": [
            "/usr/local/lib/python3.7/dist-packages/ipykernel_launcher.py:22: UserWarning: To copy construct from a tensor, it is recommended to use sourceTensor.clone().detach() or sourceTensor.clone().detach().requires_grad_(True), rather than torch.tensor(sourceTensor).\n",
            "/usr/local/lib/python3.7/dist-packages/ipykernel_launcher.py:22: UserWarning: To copy construct from a tensor, it is recommended to use sourceTensor.clone().detach() or sourceTensor.clone().detach().requires_grad_(True), rather than torch.tensor(sourceTensor).\n"
          ]
        },
        {
          "name": "stdout",
          "output_type": "stream",
          "text": [
            "Epoch: 004, Loss: 0.68651, Train Auc: 0.76334,  Test Auc: 0.44444\n"
          ]
        },
        {
          "name": "stderr",
          "output_type": "stream",
          "text": [
            "/usr/local/lib/python3.7/dist-packages/ipykernel_launcher.py:22: UserWarning: To copy construct from a tensor, it is recommended to use sourceTensor.clone().detach() or sourceTensor.clone().detach().requires_grad_(True), rather than torch.tensor(sourceTensor).\n",
            "/usr/local/lib/python3.7/dist-packages/ipykernel_launcher.py:22: UserWarning: To copy construct from a tensor, it is recommended to use sourceTensor.clone().detach() or sourceTensor.clone().detach().requires_grad_(True), rather than torch.tensor(sourceTensor).\n"
          ]
        },
        {
          "name": "stdout",
          "output_type": "stream",
          "text": [
            "Epoch: 005, Loss: 0.68765, Train Auc: 0.73803,  Test Auc: 0.40278\n"
          ]
        },
        {
          "name": "stderr",
          "output_type": "stream",
          "text": [
            "/usr/local/lib/python3.7/dist-packages/ipykernel_launcher.py:22: UserWarning: To copy construct from a tensor, it is recommended to use sourceTensor.clone().detach() or sourceTensor.clone().detach().requires_grad_(True), rather than torch.tensor(sourceTensor).\n",
            "/usr/local/lib/python3.7/dist-packages/ipykernel_launcher.py:22: UserWarning: To copy construct from a tensor, it is recommended to use sourceTensor.clone().detach() or sourceTensor.clone().detach().requires_grad_(True), rather than torch.tensor(sourceTensor).\n"
          ]
        },
        {
          "name": "stdout",
          "output_type": "stream",
          "text": [
            "Epoch: 006, Loss: 0.68568, Train Auc: 0.79207,  Test Auc: 0.49306\n"
          ]
        },
        {
          "name": "stderr",
          "output_type": "stream",
          "text": [
            "/usr/local/lib/python3.7/dist-packages/ipykernel_launcher.py:22: UserWarning: To copy construct from a tensor, it is recommended to use sourceTensor.clone().detach() or sourceTensor.clone().detach().requires_grad_(True), rather than torch.tensor(sourceTensor).\n",
            "/usr/local/lib/python3.7/dist-packages/ipykernel_launcher.py:22: UserWarning: To copy construct from a tensor, it is recommended to use sourceTensor.clone().detach() or sourceTensor.clone().detach().requires_grad_(True), rather than torch.tensor(sourceTensor).\n"
          ]
        },
        {
          "name": "stdout",
          "output_type": "stream",
          "text": [
            "Epoch: 007, Loss: 0.68728, Train Auc: 0.79165,  Test Auc: 0.54861\n"
          ]
        },
        {
          "name": "stderr",
          "output_type": "stream",
          "text": [
            "/usr/local/lib/python3.7/dist-packages/ipykernel_launcher.py:22: UserWarning: To copy construct from a tensor, it is recommended to use sourceTensor.clone().detach() or sourceTensor.clone().detach().requires_grad_(True), rather than torch.tensor(sourceTensor).\n",
            "/usr/local/lib/python3.7/dist-packages/ipykernel_launcher.py:22: UserWarning: To copy construct from a tensor, it is recommended to use sourceTensor.clone().detach() or sourceTensor.clone().detach().requires_grad_(True), rather than torch.tensor(sourceTensor).\n"
          ]
        },
        {
          "name": "stdout",
          "output_type": "stream",
          "text": [
            "Epoch: 008, Loss: 0.68546, Train Auc: 0.79482,  Test Auc: 0.40278\n"
          ]
        },
        {
          "name": "stderr",
          "output_type": "stream",
          "text": [
            "/usr/local/lib/python3.7/dist-packages/ipykernel_launcher.py:22: UserWarning: To copy construct from a tensor, it is recommended to use sourceTensor.clone().detach() or sourceTensor.clone().detach().requires_grad_(True), rather than torch.tensor(sourceTensor).\n",
            "/usr/local/lib/python3.7/dist-packages/ipykernel_launcher.py:22: UserWarning: To copy construct from a tensor, it is recommended to use sourceTensor.clone().detach() or sourceTensor.clone().detach().requires_grad_(True), rather than torch.tensor(sourceTensor).\n"
          ]
        },
        {
          "name": "stdout",
          "output_type": "stream",
          "text": [
            "Epoch: 009, Loss: 0.68842, Train Auc: 0.69480,  Test Auc: 0.36806\n"
          ]
        },
        {
          "name": "stderr",
          "output_type": "stream",
          "text": [
            "/usr/local/lib/python3.7/dist-packages/ipykernel_launcher.py:22: UserWarning: To copy construct from a tensor, it is recommended to use sourceTensor.clone().detach() or sourceTensor.clone().detach().requires_grad_(True), rather than torch.tensor(sourceTensor).\n",
            "/usr/local/lib/python3.7/dist-packages/ipykernel_launcher.py:22: UserWarning: To copy construct from a tensor, it is recommended to use sourceTensor.clone().detach() or sourceTensor.clone().detach().requires_grad_(True), rather than torch.tensor(sourceTensor).\n"
          ]
        },
        {
          "name": "stdout",
          "output_type": "stream",
          "text": [
            "Epoch: 010, Loss: 0.68656, Train Auc: 0.79293,  Test Auc: 0.53472\n"
          ]
        },
        {
          "name": "stderr",
          "output_type": "stream",
          "text": [
            "/usr/local/lib/python3.7/dist-packages/ipykernel_launcher.py:22: UserWarning: To copy construct from a tensor, it is recommended to use sourceTensor.clone().detach() or sourceTensor.clone().detach().requires_grad_(True), rather than torch.tensor(sourceTensor).\n",
            "/usr/local/lib/python3.7/dist-packages/ipykernel_launcher.py:22: UserWarning: To copy construct from a tensor, it is recommended to use sourceTensor.clone().detach() or sourceTensor.clone().detach().requires_grad_(True), rather than torch.tensor(sourceTensor).\n"
          ]
        },
        {
          "name": "stdout",
          "output_type": "stream",
          "text": [
            "Epoch: 011, Loss: 0.68195, Train Auc: 0.81369,  Test Auc: 0.41667\n"
          ]
        },
        {
          "name": "stderr",
          "output_type": "stream",
          "text": [
            "/usr/local/lib/python3.7/dist-packages/ipykernel_launcher.py:22: UserWarning: To copy construct from a tensor, it is recommended to use sourceTensor.clone().detach() or sourceTensor.clone().detach().requires_grad_(True), rather than torch.tensor(sourceTensor).\n",
            "/usr/local/lib/python3.7/dist-packages/ipykernel_launcher.py:22: UserWarning: To copy construct from a tensor, it is recommended to use sourceTensor.clone().detach() or sourceTensor.clone().detach().requires_grad_(True), rather than torch.tensor(sourceTensor).\n"
          ]
        },
        {
          "name": "stdout",
          "output_type": "stream",
          "text": [
            "Epoch: 012, Loss: 0.70834, Train Auc: 0.56888,  Test Auc: 0.48611\n"
          ]
        },
        {
          "name": "stderr",
          "output_type": "stream",
          "text": [
            "/usr/local/lib/python3.7/dist-packages/ipykernel_launcher.py:22: UserWarning: To copy construct from a tensor, it is recommended to use sourceTensor.clone().detach() or sourceTensor.clone().detach().requires_grad_(True), rather than torch.tensor(sourceTensor).\n",
            "/usr/local/lib/python3.7/dist-packages/ipykernel_launcher.py:22: UserWarning: To copy construct from a tensor, it is recommended to use sourceTensor.clone().detach() or sourceTensor.clone().detach().requires_grad_(True), rather than torch.tensor(sourceTensor).\n"
          ]
        },
        {
          "name": "stdout",
          "output_type": "stream",
          "text": [
            "Epoch: 013, Loss: 0.68760, Train Auc: 0.76222,  Test Auc: 0.50694\n"
          ]
        },
        {
          "name": "stderr",
          "output_type": "stream",
          "text": [
            "/usr/local/lib/python3.7/dist-packages/ipykernel_launcher.py:22: UserWarning: To copy construct from a tensor, it is recommended to use sourceTensor.clone().detach() or sourceTensor.clone().detach().requires_grad_(True), rather than torch.tensor(sourceTensor).\n",
            "/usr/local/lib/python3.7/dist-packages/ipykernel_launcher.py:22: UserWarning: To copy construct from a tensor, it is recommended to use sourceTensor.clone().detach() or sourceTensor.clone().detach().requires_grad_(True), rather than torch.tensor(sourceTensor).\n"
          ]
        },
        {
          "name": "stdout",
          "output_type": "stream",
          "text": [
            "Epoch: 014, Loss: 0.69138, Train Auc: 0.69978,  Test Auc: 0.23611\n"
          ]
        },
        {
          "name": "stderr",
          "output_type": "stream",
          "text": [
            "/usr/local/lib/python3.7/dist-packages/ipykernel_launcher.py:22: UserWarning: To copy construct from a tensor, it is recommended to use sourceTensor.clone().detach() or sourceTensor.clone().detach().requires_grad_(True), rather than torch.tensor(sourceTensor).\n",
            "/usr/local/lib/python3.7/dist-packages/ipykernel_launcher.py:22: UserWarning: To copy construct from a tensor, it is recommended to use sourceTensor.clone().detach() or sourceTensor.clone().detach().requires_grad_(True), rather than torch.tensor(sourceTensor).\n"
          ]
        },
        {
          "name": "stdout",
          "output_type": "stream",
          "text": [
            "Epoch: 015, Loss: 0.67409, Train Auc: 0.78916,  Test Auc: 0.36111\n"
          ]
        },
        {
          "name": "stderr",
          "output_type": "stream",
          "text": [
            "/usr/local/lib/python3.7/dist-packages/ipykernel_launcher.py:22: UserWarning: To copy construct from a tensor, it is recommended to use sourceTensor.clone().detach() or sourceTensor.clone().detach().requires_grad_(True), rather than torch.tensor(sourceTensor).\n",
            "/usr/local/lib/python3.7/dist-packages/ipykernel_launcher.py:22: UserWarning: To copy construct from a tensor, it is recommended to use sourceTensor.clone().detach() or sourceTensor.clone().detach().requires_grad_(True), rather than torch.tensor(sourceTensor).\n"
          ]
        },
        {
          "name": "stdout",
          "output_type": "stream",
          "text": [
            "Epoch: 016, Loss: 0.66591, Train Auc: 0.80528,  Test Auc: 0.33333\n"
          ]
        },
        {
          "name": "stderr",
          "output_type": "stream",
          "text": [
            "/usr/local/lib/python3.7/dist-packages/ipykernel_launcher.py:22: UserWarning: To copy construct from a tensor, it is recommended to use sourceTensor.clone().detach() or sourceTensor.clone().detach().requires_grad_(True), rather than torch.tensor(sourceTensor).\n",
            "/usr/local/lib/python3.7/dist-packages/ipykernel_launcher.py:22: UserWarning: To copy construct from a tensor, it is recommended to use sourceTensor.clone().detach() or sourceTensor.clone().detach().requires_grad_(True), rather than torch.tensor(sourceTensor).\n"
          ]
        },
        {
          "name": "stdout",
          "output_type": "stream",
          "text": [
            "Epoch: 017, Loss: 0.65478, Train Auc: 0.82690,  Test Auc: 0.34722\n"
          ]
        },
        {
          "name": "stderr",
          "output_type": "stream",
          "text": [
            "/usr/local/lib/python3.7/dist-packages/ipykernel_launcher.py:22: UserWarning: To copy construct from a tensor, it is recommended to use sourceTensor.clone().detach() or sourceTensor.clone().detach().requires_grad_(True), rather than torch.tensor(sourceTensor).\n",
            "/usr/local/lib/python3.7/dist-packages/ipykernel_launcher.py:22: UserWarning: To copy construct from a tensor, it is recommended to use sourceTensor.clone().detach() or sourceTensor.clone().detach().requires_grad_(True), rather than torch.tensor(sourceTensor).\n"
          ]
        },
        {
          "name": "stdout",
          "output_type": "stream",
          "text": [
            "Epoch: 018, Loss: 0.64917, Train Auc: 0.82038,  Test Auc: 0.32639\n"
          ]
        },
        {
          "name": "stderr",
          "output_type": "stream",
          "text": [
            "/usr/local/lib/python3.7/dist-packages/ipykernel_launcher.py:22: UserWarning: To copy construct from a tensor, it is recommended to use sourceTensor.clone().detach() or sourceTensor.clone().detach().requires_grad_(True), rather than torch.tensor(sourceTensor).\n",
            "/usr/local/lib/python3.7/dist-packages/ipykernel_launcher.py:22: UserWarning: To copy construct from a tensor, it is recommended to use sourceTensor.clone().detach() or sourceTensor.clone().detach().requires_grad_(True), rather than torch.tensor(sourceTensor).\n"
          ]
        },
        {
          "name": "stdout",
          "output_type": "stream",
          "text": [
            "Epoch: 019, Loss: 0.65302, Train Auc: 0.78092,  Test Auc: 0.41667\n"
          ]
        },
        {
          "name": "stderr",
          "output_type": "stream",
          "text": [
            "/usr/local/lib/python3.7/dist-packages/ipykernel_launcher.py:22: UserWarning: To copy construct from a tensor, it is recommended to use sourceTensor.clone().detach() or sourceTensor.clone().detach().requires_grad_(True), rather than torch.tensor(sourceTensor).\n",
            "/usr/local/lib/python3.7/dist-packages/ipykernel_launcher.py:22: UserWarning: To copy construct from a tensor, it is recommended to use sourceTensor.clone().detach() or sourceTensor.clone().detach().requires_grad_(True), rather than torch.tensor(sourceTensor).\n"
          ]
        },
        {
          "name": "stdout",
          "output_type": "stream",
          "text": [
            "Epoch: 020, Loss: 0.67647, Train Auc: 0.64179,  Test Auc: 0.21528\n"
          ]
        },
        {
          "name": "stderr",
          "output_type": "stream",
          "text": [
            "/usr/local/lib/python3.7/dist-packages/ipykernel_launcher.py:22: UserWarning: To copy construct from a tensor, it is recommended to use sourceTensor.clone().detach() or sourceTensor.clone().detach().requires_grad_(True), rather than torch.tensor(sourceTensor).\n",
            "/usr/local/lib/python3.7/dist-packages/ipykernel_launcher.py:22: UserWarning: To copy construct from a tensor, it is recommended to use sourceTensor.clone().detach() or sourceTensor.clone().detach().requires_grad_(True), rather than torch.tensor(sourceTensor).\n"
          ]
        },
        {
          "name": "stdout",
          "output_type": "stream",
          "text": [
            "Epoch: 021, Loss: 0.63203, Train Auc: 0.82330,  Test Auc: 0.48611\n"
          ]
        },
        {
          "name": "stderr",
          "output_type": "stream",
          "text": [
            "/usr/local/lib/python3.7/dist-packages/ipykernel_launcher.py:22: UserWarning: To copy construct from a tensor, it is recommended to use sourceTensor.clone().detach() or sourceTensor.clone().detach().requires_grad_(True), rather than torch.tensor(sourceTensor).\n",
            "/usr/local/lib/python3.7/dist-packages/ipykernel_launcher.py:22: UserWarning: To copy construct from a tensor, it is recommended to use sourceTensor.clone().detach() or sourceTensor.clone().detach().requires_grad_(True), rather than torch.tensor(sourceTensor).\n"
          ]
        },
        {
          "name": "stdout",
          "output_type": "stream",
          "text": [
            "Epoch: 022, Loss: 0.63315, Train Auc: 0.84440,  Test Auc: 0.38194\n"
          ]
        },
        {
          "name": "stderr",
          "output_type": "stream",
          "text": [
            "/usr/local/lib/python3.7/dist-packages/ipykernel_launcher.py:22: UserWarning: To copy construct from a tensor, it is recommended to use sourceTensor.clone().detach() or sourceTensor.clone().detach().requires_grad_(True), rather than torch.tensor(sourceTensor).\n",
            "/usr/local/lib/python3.7/dist-packages/ipykernel_launcher.py:22: UserWarning: To copy construct from a tensor, it is recommended to use sourceTensor.clone().detach() or sourceTensor.clone().detach().requires_grad_(True), rather than torch.tensor(sourceTensor).\n"
          ]
        },
        {
          "name": "stdout",
          "output_type": "stream",
          "text": [
            "Epoch: 023, Loss: 0.55994, Train Auc: 0.87940,  Test Auc: 0.40972\n"
          ]
        },
        {
          "name": "stderr",
          "output_type": "stream",
          "text": [
            "/usr/local/lib/python3.7/dist-packages/ipykernel_launcher.py:22: UserWarning: To copy construct from a tensor, it is recommended to use sourceTensor.clone().detach() or sourceTensor.clone().detach().requires_grad_(True), rather than torch.tensor(sourceTensor).\n",
            "/usr/local/lib/python3.7/dist-packages/ipykernel_launcher.py:22: UserWarning: To copy construct from a tensor, it is recommended to use sourceTensor.clone().detach() or sourceTensor.clone().detach().requires_grad_(True), rather than torch.tensor(sourceTensor).\n"
          ]
        },
        {
          "name": "stdout",
          "output_type": "stream",
          "text": [
            "Epoch: 024, Loss: 0.52362, Train Auc: 0.92949,  Test Auc: 0.34722\n"
          ]
        },
        {
          "name": "stderr",
          "output_type": "stream",
          "text": [
            "/usr/local/lib/python3.7/dist-packages/ipykernel_launcher.py:22: UserWarning: To copy construct from a tensor, it is recommended to use sourceTensor.clone().detach() or sourceTensor.clone().detach().requires_grad_(True), rather than torch.tensor(sourceTensor).\n",
            "/usr/local/lib/python3.7/dist-packages/ipykernel_launcher.py:22: UserWarning: To copy construct from a tensor, it is recommended to use sourceTensor.clone().detach() or sourceTensor.clone().detach().requires_grad_(True), rather than torch.tensor(sourceTensor).\n"
          ]
        },
        {
          "name": "stdout",
          "output_type": "stream",
          "text": [
            "Epoch: 025, Loss: 0.45737, Train Auc: 0.95334,  Test Auc: 0.32639\n"
          ]
        },
        {
          "name": "stderr",
          "output_type": "stream",
          "text": [
            "/usr/local/lib/python3.7/dist-packages/ipykernel_launcher.py:22: UserWarning: To copy construct from a tensor, it is recommended to use sourceTensor.clone().detach() or sourceTensor.clone().detach().requires_grad_(True), rather than torch.tensor(sourceTensor).\n",
            "/usr/local/lib/python3.7/dist-packages/ipykernel_launcher.py:22: UserWarning: To copy construct from a tensor, it is recommended to use sourceTensor.clone().detach() or sourceTensor.clone().detach().requires_grad_(True), rather than torch.tensor(sourceTensor).\n"
          ]
        },
        {
          "name": "stdout",
          "output_type": "stream",
          "text": [
            "Epoch: 026, Loss: 0.37516, Train Auc: 0.97324,  Test Auc: 0.33333\n"
          ]
        },
        {
          "name": "stderr",
          "output_type": "stream",
          "text": [
            "/usr/local/lib/python3.7/dist-packages/ipykernel_launcher.py:22: UserWarning: To copy construct from a tensor, it is recommended to use sourceTensor.clone().detach() or sourceTensor.clone().detach().requires_grad_(True), rather than torch.tensor(sourceTensor).\n",
            "/usr/local/lib/python3.7/dist-packages/ipykernel_launcher.py:22: UserWarning: To copy construct from a tensor, it is recommended to use sourceTensor.clone().detach() or sourceTensor.clone().detach().requires_grad_(True), rather than torch.tensor(sourceTensor).\n"
          ]
        },
        {
          "name": "stdout",
          "output_type": "stream",
          "text": [
            "Epoch: 027, Loss: 0.30559, Train Auc: 0.97135,  Test Auc: 0.33333\n"
          ]
        },
        {
          "name": "stderr",
          "output_type": "stream",
          "text": [
            "/usr/local/lib/python3.7/dist-packages/ipykernel_launcher.py:22: UserWarning: To copy construct from a tensor, it is recommended to use sourceTensor.clone().detach() or sourceTensor.clone().detach().requires_grad_(True), rather than torch.tensor(sourceTensor).\n",
            "/usr/local/lib/python3.7/dist-packages/ipykernel_launcher.py:22: UserWarning: To copy construct from a tensor, it is recommended to use sourceTensor.clone().detach() or sourceTensor.clone().detach().requires_grad_(True), rather than torch.tensor(sourceTensor).\n"
          ]
        },
        {
          "name": "stdout",
          "output_type": "stream",
          "text": [
            "Epoch: 028, Loss: 0.30865, Train Auc: 0.98147,  Test Auc: 0.43056\n"
          ]
        },
        {
          "name": "stderr",
          "output_type": "stream",
          "text": [
            "/usr/local/lib/python3.7/dist-packages/ipykernel_launcher.py:22: UserWarning: To copy construct from a tensor, it is recommended to use sourceTensor.clone().detach() or sourceTensor.clone().detach().requires_grad_(True), rather than torch.tensor(sourceTensor).\n",
            "/usr/local/lib/python3.7/dist-packages/ipykernel_launcher.py:22: UserWarning: To copy construct from a tensor, it is recommended to use sourceTensor.clone().detach() or sourceTensor.clone().detach().requires_grad_(True), rather than torch.tensor(sourceTensor).\n"
          ]
        },
        {
          "name": "stdout",
          "output_type": "stream",
          "text": [
            "Epoch: 029, Loss: 0.25778, Train Auc: 0.99657,  Test Auc: 0.43056\n"
          ]
        },
        {
          "name": "stderr",
          "output_type": "stream",
          "text": [
            "/usr/local/lib/python3.7/dist-packages/ipykernel_launcher.py:22: UserWarning: To copy construct from a tensor, it is recommended to use sourceTensor.clone().detach() or sourceTensor.clone().detach().requires_grad_(True), rather than torch.tensor(sourceTensor).\n",
            "/usr/local/lib/python3.7/dist-packages/ipykernel_launcher.py:22: UserWarning: To copy construct from a tensor, it is recommended to use sourceTensor.clone().detach() or sourceTensor.clone().detach().requires_grad_(True), rather than torch.tensor(sourceTensor).\n"
          ]
        },
        {
          "name": "stdout",
          "output_type": "stream",
          "text": [
            "Epoch: 030, Loss: 0.27139, Train Auc: 0.99674,  Test Auc: 0.38194\n"
          ]
        },
        {
          "name": "stderr",
          "output_type": "stream",
          "text": [
            "/usr/local/lib/python3.7/dist-packages/ipykernel_launcher.py:22: UserWarning: To copy construct from a tensor, it is recommended to use sourceTensor.clone().detach() or sourceTensor.clone().detach().requires_grad_(True), rather than torch.tensor(sourceTensor).\n",
            "/usr/local/lib/python3.7/dist-packages/ipykernel_launcher.py:22: UserWarning: To copy construct from a tensor, it is recommended to use sourceTensor.clone().detach() or sourceTensor.clone().detach().requires_grad_(True), rather than torch.tensor(sourceTensor).\n"
          ]
        },
        {
          "name": "stdout",
          "output_type": "stream",
          "text": [
            "Epoch: 031, Loss: 0.15738, Train Auc: 0.99966,  Test Auc: 0.41667\n"
          ]
        },
        {
          "name": "stderr",
          "output_type": "stream",
          "text": [
            "/usr/local/lib/python3.7/dist-packages/ipykernel_launcher.py:22: UserWarning: To copy construct from a tensor, it is recommended to use sourceTensor.clone().detach() or sourceTensor.clone().detach().requires_grad_(True), rather than torch.tensor(sourceTensor).\n",
            "/usr/local/lib/python3.7/dist-packages/ipykernel_launcher.py:22: UserWarning: To copy construct from a tensor, it is recommended to use sourceTensor.clone().detach() or sourceTensor.clone().detach().requires_grad_(True), rather than torch.tensor(sourceTensor).\n"
          ]
        },
        {
          "name": "stdout",
          "output_type": "stream",
          "text": [
            "Epoch: 032, Loss: 0.10497, Train Auc: 1.00000,  Test Auc: 0.41667\n"
          ]
        },
        {
          "name": "stderr",
          "output_type": "stream",
          "text": [
            "/usr/local/lib/python3.7/dist-packages/ipykernel_launcher.py:22: UserWarning: To copy construct from a tensor, it is recommended to use sourceTensor.clone().detach() or sourceTensor.clone().detach().requires_grad_(True), rather than torch.tensor(sourceTensor).\n",
            "/usr/local/lib/python3.7/dist-packages/ipykernel_launcher.py:22: UserWarning: To copy construct from a tensor, it is recommended to use sourceTensor.clone().detach() or sourceTensor.clone().detach().requires_grad_(True), rather than torch.tensor(sourceTensor).\n"
          ]
        },
        {
          "name": "stdout",
          "output_type": "stream",
          "text": [
            "Epoch: 033, Loss: 0.03424, Train Auc: 1.00000,  Test Auc: 0.43056\n"
          ]
        },
        {
          "name": "stderr",
          "output_type": "stream",
          "text": [
            "/usr/local/lib/python3.7/dist-packages/ipykernel_launcher.py:22: UserWarning: To copy construct from a tensor, it is recommended to use sourceTensor.clone().detach() or sourceTensor.clone().detach().requires_grad_(True), rather than torch.tensor(sourceTensor).\n",
            "/usr/local/lib/python3.7/dist-packages/ipykernel_launcher.py:22: UserWarning: To copy construct from a tensor, it is recommended to use sourceTensor.clone().detach() or sourceTensor.clone().detach().requires_grad_(True), rather than torch.tensor(sourceTensor).\n"
          ]
        },
        {
          "name": "stdout",
          "output_type": "stream",
          "text": [
            "Epoch: 034, Loss: 0.02138, Train Auc: 1.00000,  Test Auc: 0.40972\n"
          ]
        }
      ],
      "source": [
        "loss = train_net() #85-15"
      ]
    },
    {
      "cell_type": "code",
      "execution_count": 27,
      "metadata": {
        "id": "NHsS01fejLgd"
      },
      "outputs": [],
      "source": [
        "from torch import nn\n",
        "def train_net():\n",
        "    torch.manual_seed(7)\n",
        "    np.random.seed(7)\n",
        "    best_acc = 0\n",
        "\n",
        "    model = Net()\n",
        "\n",
        "    optimizer = torch.optim.Adam(model.parameters(), lr=0.001)\n",
        "    # optimizer = torch.optim.SGD(model.parameters(), lr=0.001, momentum=0.9)\n",
        "\n",
        "    model = model\n",
        "\n",
        "    # Loss function\n",
        "    criterion = nn.BCELoss()\n",
        "\n",
        "    train_loader = list_data[0:163]\n",
        "    test_loader = list_data[164:182]\n",
        "    # val_loader = list_data[172:182]\n",
        "\n",
        "    # Epochs\n",
        "    for epoch in range(0, 40):\n",
        "        train_loss = train(train_loader=train_loader,\n",
        "                           model=model,\n",
        "                           criterion=criterion,\n",
        "                           optimizer=optimizer,\n",
        "                           epoch=epoch)\n",
        "\n",
        "\n",
        "        train_acc = evaluate(train_loader, model)\n",
        "        # val_acc = evaluate(val_loader, model)\n",
        "        test_acc = evaluate(test_loader, model)\n",
        "        print('Epoch: {:03d}, Loss: {:.5f}, Train Auc: {:.5f},  Test Auc: {:.5f}'.\n",
        "              format(epoch, train_loss, train_acc,  test_acc))\n"
      ]
    },
    {
      "cell_type": "code",
      "execution_count": 28,
      "metadata": {
        "colab": {
          "base_uri": "https://localhost:8080/"
        },
        "id": "dN9z98FgcMDh",
        "outputId": "54941b9e-0ce1-41dc-d3a8-3d755d6dd269"
      },
      "outputs": [
        {
          "name": "stdout",
          "output_type": "stream",
          "text": [
            "Net(\n",
            "  (conv1): SAGEConv()\n",
            "  (pool1): TopKPooling(131, ratio=0.8, multiplier=1.0)\n",
            "  (conv2): SAGEConv()\n",
            "  (pool2): TopKPooling(131, ratio=0.8, multiplier=1.0)\n",
            "  (item_embedding): Embedding(393, 131)\n",
            "  (lin1): Linear(in_features=262, out_features=65, bias=True)\n",
            "  (lin3): Linear(in_features=65, out_features=1, bias=True)\n",
            "  (act1): ReLU()\n",
            ")\n"
          ]
        },
        {
          "name": "stderr",
          "output_type": "stream",
          "text": [
            "/usr/local/lib/python3.7/dist-packages/ipykernel_launcher.py:22: UserWarning: To copy construct from a tensor, it is recommended to use sourceTensor.clone().detach() or sourceTensor.clone().detach().requires_grad_(True), rather than torch.tensor(sourceTensor).\n",
            "/usr/local/lib/python3.7/dist-packages/ipykernel_launcher.py:22: UserWarning: To copy construct from a tensor, it is recommended to use sourceTensor.clone().detach() or sourceTensor.clone().detach().requires_grad_(True), rather than torch.tensor(sourceTensor).\n",
            "/usr/local/lib/python3.7/dist-packages/ipykernel_launcher.py:22: UserWarning: To copy construct from a tensor, it is recommended to use sourceTensor.clone().detach() or sourceTensor.clone().detach().requires_grad_(True), rather than torch.tensor(sourceTensor).\n"
          ]
        },
        {
          "name": "stdout",
          "output_type": "stream",
          "text": [
            "Epoch: 000, Loss: 0.72109, Train Auc: 0.55328,  Test Auc: 0.59615\n"
          ]
        },
        {
          "name": "stderr",
          "output_type": "stream",
          "text": [
            "/usr/local/lib/python3.7/dist-packages/ipykernel_launcher.py:22: UserWarning: To copy construct from a tensor, it is recommended to use sourceTensor.clone().detach() or sourceTensor.clone().detach().requires_grad_(True), rather than torch.tensor(sourceTensor).\n",
            "/usr/local/lib/python3.7/dist-packages/ipykernel_launcher.py:22: UserWarning: To copy construct from a tensor, it is recommended to use sourceTensor.clone().detach() or sourceTensor.clone().detach().requires_grad_(True), rather than torch.tensor(sourceTensor).\n"
          ]
        },
        {
          "name": "stdout",
          "output_type": "stream",
          "text": [
            "Epoch: 001, Loss: 0.70070, Train Auc: 0.65064,  Test Auc: 0.15385\n"
          ]
        },
        {
          "name": "stderr",
          "output_type": "stream",
          "text": [
            "/usr/local/lib/python3.7/dist-packages/ipykernel_launcher.py:22: UserWarning: To copy construct from a tensor, it is recommended to use sourceTensor.clone().detach() or sourceTensor.clone().detach().requires_grad_(True), rather than torch.tensor(sourceTensor).\n",
            "/usr/local/lib/python3.7/dist-packages/ipykernel_launcher.py:22: UserWarning: To copy construct from a tensor, it is recommended to use sourceTensor.clone().detach() or sourceTensor.clone().detach().requires_grad_(True), rather than torch.tensor(sourceTensor).\n"
          ]
        },
        {
          "name": "stdout",
          "output_type": "stream",
          "text": [
            "Epoch: 002, Loss: 0.69199, Train Auc: 0.73377,  Test Auc: 0.19231\n"
          ]
        },
        {
          "name": "stderr",
          "output_type": "stream",
          "text": [
            "/usr/local/lib/python3.7/dist-packages/ipykernel_launcher.py:22: UserWarning: To copy construct from a tensor, it is recommended to use sourceTensor.clone().detach() or sourceTensor.clone().detach().requires_grad_(True), rather than torch.tensor(sourceTensor).\n",
            "/usr/local/lib/python3.7/dist-packages/ipykernel_launcher.py:22: UserWarning: To copy construct from a tensor, it is recommended to use sourceTensor.clone().detach() or sourceTensor.clone().detach().requires_grad_(True), rather than torch.tensor(sourceTensor).\n"
          ]
        },
        {
          "name": "stdout",
          "output_type": "stream",
          "text": [
            "Epoch: 003, Loss: 0.68190, Train Auc: 0.77863,  Test Auc: 0.13462\n"
          ]
        },
        {
          "name": "stderr",
          "output_type": "stream",
          "text": [
            "/usr/local/lib/python3.7/dist-packages/ipykernel_launcher.py:22: UserWarning: To copy construct from a tensor, it is recommended to use sourceTensor.clone().detach() or sourceTensor.clone().detach().requires_grad_(True), rather than torch.tensor(sourceTensor).\n",
            "/usr/local/lib/python3.7/dist-packages/ipykernel_launcher.py:22: UserWarning: To copy construct from a tensor, it is recommended to use sourceTensor.clone().detach() or sourceTensor.clone().detach().requires_grad_(True), rather than torch.tensor(sourceTensor).\n"
          ]
        },
        {
          "name": "stdout",
          "output_type": "stream",
          "text": [
            "Epoch: 004, Loss: 0.69925, Train Auc: 0.81032,  Test Auc: 0.23077\n"
          ]
        },
        {
          "name": "stderr",
          "output_type": "stream",
          "text": [
            "/usr/local/lib/python3.7/dist-packages/ipykernel_launcher.py:22: UserWarning: To copy construct from a tensor, it is recommended to use sourceTensor.clone().detach() or sourceTensor.clone().detach().requires_grad_(True), rather than torch.tensor(sourceTensor).\n",
            "/usr/local/lib/python3.7/dist-packages/ipykernel_launcher.py:22: UserWarning: To copy construct from a tensor, it is recommended to use sourceTensor.clone().detach() or sourceTensor.clone().detach().requires_grad_(True), rather than torch.tensor(sourceTensor).\n"
          ]
        },
        {
          "name": "stdout",
          "output_type": "stream",
          "text": [
            "Epoch: 005, Loss: 0.68410, Train Auc: 0.83925,  Test Auc: 0.21154\n"
          ]
        },
        {
          "name": "stderr",
          "output_type": "stream",
          "text": [
            "/usr/local/lib/python3.7/dist-packages/ipykernel_launcher.py:22: UserWarning: To copy construct from a tensor, it is recommended to use sourceTensor.clone().detach() or sourceTensor.clone().detach().requires_grad_(True), rather than torch.tensor(sourceTensor).\n",
            "/usr/local/lib/python3.7/dist-packages/ipykernel_launcher.py:22: UserWarning: To copy construct from a tensor, it is recommended to use sourceTensor.clone().detach() or sourceTensor.clone().detach().requires_grad_(True), rather than torch.tensor(sourceTensor).\n"
          ]
        },
        {
          "name": "stdout",
          "output_type": "stream",
          "text": [
            "Epoch: 006, Loss: 0.68531, Train Auc: 0.86941,  Test Auc: 0.28846\n"
          ]
        },
        {
          "name": "stderr",
          "output_type": "stream",
          "text": [
            "/usr/local/lib/python3.7/dist-packages/ipykernel_launcher.py:22: UserWarning: To copy construct from a tensor, it is recommended to use sourceTensor.clone().detach() or sourceTensor.clone().detach().requires_grad_(True), rather than torch.tensor(sourceTensor).\n",
            "/usr/local/lib/python3.7/dist-packages/ipykernel_launcher.py:22: UserWarning: To copy construct from a tensor, it is recommended to use sourceTensor.clone().detach() or sourceTensor.clone().detach().requires_grad_(True), rather than torch.tensor(sourceTensor).\n"
          ]
        },
        {
          "name": "stdout",
          "output_type": "stream",
          "text": [
            "Epoch: 007, Loss: 0.68546, Train Auc: 0.86513,  Test Auc: 0.30769\n"
          ]
        },
        {
          "name": "stderr",
          "output_type": "stream",
          "text": [
            "/usr/local/lib/python3.7/dist-packages/ipykernel_launcher.py:22: UserWarning: To copy construct from a tensor, it is recommended to use sourceTensor.clone().detach() or sourceTensor.clone().detach().requires_grad_(True), rather than torch.tensor(sourceTensor).\n",
            "/usr/local/lib/python3.7/dist-packages/ipykernel_launcher.py:22: UserWarning: To copy construct from a tensor, it is recommended to use sourceTensor.clone().detach() or sourceTensor.clone().detach().requires_grad_(True), rather than torch.tensor(sourceTensor).\n"
          ]
        },
        {
          "name": "stdout",
          "output_type": "stream",
          "text": [
            "Epoch: 008, Loss: 0.68512, Train Auc: 0.87921,  Test Auc: 0.44231\n"
          ]
        },
        {
          "name": "stderr",
          "output_type": "stream",
          "text": [
            "/usr/local/lib/python3.7/dist-packages/ipykernel_launcher.py:22: UserWarning: To copy construct from a tensor, it is recommended to use sourceTensor.clone().detach() or sourceTensor.clone().detach().requires_grad_(True), rather than torch.tensor(sourceTensor).\n",
            "/usr/local/lib/python3.7/dist-packages/ipykernel_launcher.py:22: UserWarning: To copy construct from a tensor, it is recommended to use sourceTensor.clone().detach() or sourceTensor.clone().detach().requires_grad_(True), rather than torch.tensor(sourceTensor).\n"
          ]
        },
        {
          "name": "stdout",
          "output_type": "stream",
          "text": [
            "Epoch: 009, Loss: 0.66413, Train Auc: 0.85242,  Test Auc: 0.30769\n"
          ]
        },
        {
          "name": "stderr",
          "output_type": "stream",
          "text": [
            "/usr/local/lib/python3.7/dist-packages/ipykernel_launcher.py:22: UserWarning: To copy construct from a tensor, it is recommended to use sourceTensor.clone().detach() or sourceTensor.clone().detach().requires_grad_(True), rather than torch.tensor(sourceTensor).\n",
            "/usr/local/lib/python3.7/dist-packages/ipykernel_launcher.py:22: UserWarning: To copy construct from a tensor, it is recommended to use sourceTensor.clone().detach() or sourceTensor.clone().detach().requires_grad_(True), rather than torch.tensor(sourceTensor).\n"
          ]
        },
        {
          "name": "stdout",
          "output_type": "stream",
          "text": [
            "Epoch: 010, Loss: 0.67921, Train Auc: 0.84798,  Test Auc: 0.50000\n"
          ]
        },
        {
          "name": "stderr",
          "output_type": "stream",
          "text": [
            "/usr/local/lib/python3.7/dist-packages/ipykernel_launcher.py:22: UserWarning: To copy construct from a tensor, it is recommended to use sourceTensor.clone().detach() or sourceTensor.clone().detach().requires_grad_(True), rather than torch.tensor(sourceTensor).\n",
            "/usr/local/lib/python3.7/dist-packages/ipykernel_launcher.py:22: UserWarning: To copy construct from a tensor, it is recommended to use sourceTensor.clone().detach() or sourceTensor.clone().detach().requires_grad_(True), rather than torch.tensor(sourceTensor).\n"
          ]
        },
        {
          "name": "stdout",
          "output_type": "stream",
          "text": [
            "Epoch: 011, Loss: 0.64930, Train Auc: 0.84966,  Test Auc: 0.53846\n"
          ]
        },
        {
          "name": "stderr",
          "output_type": "stream",
          "text": [
            "/usr/local/lib/python3.7/dist-packages/ipykernel_launcher.py:22: UserWarning: To copy construct from a tensor, it is recommended to use sourceTensor.clone().detach() or sourceTensor.clone().detach().requires_grad_(True), rather than torch.tensor(sourceTensor).\n",
            "/usr/local/lib/python3.7/dist-packages/ipykernel_launcher.py:22: UserWarning: To copy construct from a tensor, it is recommended to use sourceTensor.clone().detach() or sourceTensor.clone().detach().requires_grad_(True), rather than torch.tensor(sourceTensor).\n"
          ]
        },
        {
          "name": "stdout",
          "output_type": "stream",
          "text": [
            "Epoch: 012, Loss: 0.68275, Train Auc: 0.84982,  Test Auc: 0.61538\n"
          ]
        },
        {
          "name": "stderr",
          "output_type": "stream",
          "text": [
            "/usr/local/lib/python3.7/dist-packages/ipykernel_launcher.py:22: UserWarning: To copy construct from a tensor, it is recommended to use sourceTensor.clone().detach() or sourceTensor.clone().detach().requires_grad_(True), rather than torch.tensor(sourceTensor).\n",
            "/usr/local/lib/python3.7/dist-packages/ipykernel_launcher.py:22: UserWarning: To copy construct from a tensor, it is recommended to use sourceTensor.clone().detach() or sourceTensor.clone().detach().requires_grad_(True), rather than torch.tensor(sourceTensor).\n"
          ]
        },
        {
          "name": "stdout",
          "output_type": "stream",
          "text": [
            "Epoch: 013, Loss: 0.57848, Train Auc: 0.89100,  Test Auc: 0.65385\n"
          ]
        },
        {
          "name": "stderr",
          "output_type": "stream",
          "text": [
            "/usr/local/lib/python3.7/dist-packages/ipykernel_launcher.py:22: UserWarning: To copy construct from a tensor, it is recommended to use sourceTensor.clone().detach() or sourceTensor.clone().detach().requires_grad_(True), rather than torch.tensor(sourceTensor).\n",
            "/usr/local/lib/python3.7/dist-packages/ipykernel_launcher.py:22: UserWarning: To copy construct from a tensor, it is recommended to use sourceTensor.clone().detach() or sourceTensor.clone().detach().requires_grad_(True), rather than torch.tensor(sourceTensor).\n"
          ]
        },
        {
          "name": "stdout",
          "output_type": "stream",
          "text": [
            "Epoch: 014, Loss: 0.50335, Train Auc: 0.92131,  Test Auc: 0.59615\n"
          ]
        },
        {
          "name": "stderr",
          "output_type": "stream",
          "text": [
            "/usr/local/lib/python3.7/dist-packages/ipykernel_launcher.py:22: UserWarning: To copy construct from a tensor, it is recommended to use sourceTensor.clone().detach() or sourceTensor.clone().detach().requires_grad_(True), rather than torch.tensor(sourceTensor).\n",
            "/usr/local/lib/python3.7/dist-packages/ipykernel_launcher.py:22: UserWarning: To copy construct from a tensor, it is recommended to use sourceTensor.clone().detach() or sourceTensor.clone().detach().requires_grad_(True), rather than torch.tensor(sourceTensor).\n"
          ]
        },
        {
          "name": "stdout",
          "output_type": "stream",
          "text": [
            "Epoch: 015, Loss: 0.48335, Train Auc: 0.91871,  Test Auc: 0.59615\n"
          ]
        },
        {
          "name": "stderr",
          "output_type": "stream",
          "text": [
            "/usr/local/lib/python3.7/dist-packages/ipykernel_launcher.py:22: UserWarning: To copy construct from a tensor, it is recommended to use sourceTensor.clone().detach() or sourceTensor.clone().detach().requires_grad_(True), rather than torch.tensor(sourceTensor).\n",
            "/usr/local/lib/python3.7/dist-packages/ipykernel_launcher.py:22: UserWarning: To copy construct from a tensor, it is recommended to use sourceTensor.clone().detach() or sourceTensor.clone().detach().requires_grad_(True), rather than torch.tensor(sourceTensor).\n"
          ]
        },
        {
          "name": "stdout",
          "output_type": "stream",
          "text": [
            "Epoch: 016, Loss: 0.45618, Train Auc: 0.95729,  Test Auc: 0.67308\n"
          ]
        },
        {
          "name": "stderr",
          "output_type": "stream",
          "text": [
            "/usr/local/lib/python3.7/dist-packages/ipykernel_launcher.py:22: UserWarning: To copy construct from a tensor, it is recommended to use sourceTensor.clone().detach() or sourceTensor.clone().detach().requires_grad_(True), rather than torch.tensor(sourceTensor).\n",
            "/usr/local/lib/python3.7/dist-packages/ipykernel_launcher.py:22: UserWarning: To copy construct from a tensor, it is recommended to use sourceTensor.clone().detach() or sourceTensor.clone().detach().requires_grad_(True), rather than torch.tensor(sourceTensor).\n"
          ]
        },
        {
          "name": "stdout",
          "output_type": "stream",
          "text": [
            "Epoch: 017, Loss: 0.41920, Train Auc: 0.96999,  Test Auc: 0.69231\n"
          ]
        },
        {
          "name": "stderr",
          "output_type": "stream",
          "text": [
            "/usr/local/lib/python3.7/dist-packages/ipykernel_launcher.py:22: UserWarning: To copy construct from a tensor, it is recommended to use sourceTensor.clone().detach() or sourceTensor.clone().detach().requires_grad_(True), rather than torch.tensor(sourceTensor).\n",
            "/usr/local/lib/python3.7/dist-packages/ipykernel_launcher.py:22: UserWarning: To copy construct from a tensor, it is recommended to use sourceTensor.clone().detach() or sourceTensor.clone().detach().requires_grad_(True), rather than torch.tensor(sourceTensor).\n"
          ]
        },
        {
          "name": "stdout",
          "output_type": "stream",
          "text": [
            "Epoch: 018, Loss: 0.38484, Train Auc: 0.97642,  Test Auc: 0.69231\n"
          ]
        },
        {
          "name": "stderr",
          "output_type": "stream",
          "text": [
            "/usr/local/lib/python3.7/dist-packages/ipykernel_launcher.py:22: UserWarning: To copy construct from a tensor, it is recommended to use sourceTensor.clone().detach() or sourceTensor.clone().detach().requires_grad_(True), rather than torch.tensor(sourceTensor).\n",
            "/usr/local/lib/python3.7/dist-packages/ipykernel_launcher.py:22: UserWarning: To copy construct from a tensor, it is recommended to use sourceTensor.clone().detach() or sourceTensor.clone().detach().requires_grad_(True), rather than torch.tensor(sourceTensor).\n"
          ]
        },
        {
          "name": "stdout",
          "output_type": "stream",
          "text": [
            "Epoch: 019, Loss: 0.37152, Train Auc: 0.98898,  Test Auc: 0.73077\n"
          ]
        },
        {
          "name": "stderr",
          "output_type": "stream",
          "text": [
            "/usr/local/lib/python3.7/dist-packages/ipykernel_launcher.py:22: UserWarning: To copy construct from a tensor, it is recommended to use sourceTensor.clone().detach() or sourceTensor.clone().detach().requires_grad_(True), rather than torch.tensor(sourceTensor).\n",
            "/usr/local/lib/python3.7/dist-packages/ipykernel_launcher.py:22: UserWarning: To copy construct from a tensor, it is recommended to use sourceTensor.clone().detach() or sourceTensor.clone().detach().requires_grad_(True), rather than torch.tensor(sourceTensor).\n"
          ]
        },
        {
          "name": "stdout",
          "output_type": "stream",
          "text": [
            "Epoch: 020, Loss: 0.26085, Train Auc: 0.99219,  Test Auc: 0.75000\n"
          ]
        },
        {
          "name": "stderr",
          "output_type": "stream",
          "text": [
            "/usr/local/lib/python3.7/dist-packages/ipykernel_launcher.py:22: UserWarning: To copy construct from a tensor, it is recommended to use sourceTensor.clone().detach() or sourceTensor.clone().detach().requires_grad_(True), rather than torch.tensor(sourceTensor).\n",
            "/usr/local/lib/python3.7/dist-packages/ipykernel_launcher.py:22: UserWarning: To copy construct from a tensor, it is recommended to use sourceTensor.clone().detach() or sourceTensor.clone().detach().requires_grad_(True), rather than torch.tensor(sourceTensor).\n"
          ]
        },
        {
          "name": "stdout",
          "output_type": "stream",
          "text": [
            "Epoch: 021, Loss: 0.21290, Train Auc: 0.99908,  Test Auc: 0.78846\n"
          ]
        },
        {
          "name": "stderr",
          "output_type": "stream",
          "text": [
            "/usr/local/lib/python3.7/dist-packages/ipykernel_launcher.py:22: UserWarning: To copy construct from a tensor, it is recommended to use sourceTensor.clone().detach() or sourceTensor.clone().detach().requires_grad_(True), rather than torch.tensor(sourceTensor).\n",
            "/usr/local/lib/python3.7/dist-packages/ipykernel_launcher.py:22: UserWarning: To copy construct from a tensor, it is recommended to use sourceTensor.clone().detach() or sourceTensor.clone().detach().requires_grad_(True), rather than torch.tensor(sourceTensor).\n"
          ]
        },
        {
          "name": "stdout",
          "output_type": "stream",
          "text": [
            "Epoch: 022, Loss: 0.20100, Train Auc: 0.99954,  Test Auc: 0.69231\n"
          ]
        },
        {
          "name": "stderr",
          "output_type": "stream",
          "text": [
            "/usr/local/lib/python3.7/dist-packages/ipykernel_launcher.py:22: UserWarning: To copy construct from a tensor, it is recommended to use sourceTensor.clone().detach() or sourceTensor.clone().detach().requires_grad_(True), rather than torch.tensor(sourceTensor).\n",
            "/usr/local/lib/python3.7/dist-packages/ipykernel_launcher.py:22: UserWarning: To copy construct from a tensor, it is recommended to use sourceTensor.clone().detach() or sourceTensor.clone().detach().requires_grad_(True), rather than torch.tensor(sourceTensor).\n"
          ]
        },
        {
          "name": "stdout",
          "output_type": "stream",
          "text": [
            "Epoch: 023, Loss: 0.15811, Train Auc: 1.00000,  Test Auc: 0.80769\n"
          ]
        },
        {
          "name": "stderr",
          "output_type": "stream",
          "text": [
            "/usr/local/lib/python3.7/dist-packages/ipykernel_launcher.py:22: UserWarning: To copy construct from a tensor, it is recommended to use sourceTensor.clone().detach() or sourceTensor.clone().detach().requires_grad_(True), rather than torch.tensor(sourceTensor).\n",
            "/usr/local/lib/python3.7/dist-packages/ipykernel_launcher.py:22: UserWarning: To copy construct from a tensor, it is recommended to use sourceTensor.clone().detach() or sourceTensor.clone().detach().requires_grad_(True), rather than torch.tensor(sourceTensor).\n"
          ]
        },
        {
          "name": "stdout",
          "output_type": "stream",
          "text": [
            "Epoch: 024, Loss: 0.09433, Train Auc: 0.99939,  Test Auc: 0.73077\n"
          ]
        },
        {
          "name": "stderr",
          "output_type": "stream",
          "text": [
            "/usr/local/lib/python3.7/dist-packages/ipykernel_launcher.py:22: UserWarning: To copy construct from a tensor, it is recommended to use sourceTensor.clone().detach() or sourceTensor.clone().detach().requires_grad_(True), rather than torch.tensor(sourceTensor).\n",
            "/usr/local/lib/python3.7/dist-packages/ipykernel_launcher.py:22: UserWarning: To copy construct from a tensor, it is recommended to use sourceTensor.clone().detach() or sourceTensor.clone().detach().requires_grad_(True), rather than torch.tensor(sourceTensor).\n"
          ]
        },
        {
          "name": "stdout",
          "output_type": "stream",
          "text": [
            "Epoch: 025, Loss: 0.05910, Train Auc: 1.00000,  Test Auc: 0.80769\n"
          ]
        },
        {
          "name": "stderr",
          "output_type": "stream",
          "text": [
            "/usr/local/lib/python3.7/dist-packages/ipykernel_launcher.py:22: UserWarning: To copy construct from a tensor, it is recommended to use sourceTensor.clone().detach() or sourceTensor.clone().detach().requires_grad_(True), rather than torch.tensor(sourceTensor).\n",
            "/usr/local/lib/python3.7/dist-packages/ipykernel_launcher.py:22: UserWarning: To copy construct from a tensor, it is recommended to use sourceTensor.clone().detach() or sourceTensor.clone().detach().requires_grad_(True), rather than torch.tensor(sourceTensor).\n"
          ]
        },
        {
          "name": "stdout",
          "output_type": "stream",
          "text": [
            "Epoch: 026, Loss: 0.11314, Train Auc: 0.99923,  Test Auc: 0.73077\n"
          ]
        },
        {
          "name": "stderr",
          "output_type": "stream",
          "text": [
            "/usr/local/lib/python3.7/dist-packages/ipykernel_launcher.py:22: UserWarning: To copy construct from a tensor, it is recommended to use sourceTensor.clone().detach() or sourceTensor.clone().detach().requires_grad_(True), rather than torch.tensor(sourceTensor).\n",
            "/usr/local/lib/python3.7/dist-packages/ipykernel_launcher.py:22: UserWarning: To copy construct from a tensor, it is recommended to use sourceTensor.clone().detach() or sourceTensor.clone().detach().requires_grad_(True), rather than torch.tensor(sourceTensor).\n"
          ]
        },
        {
          "name": "stdout",
          "output_type": "stream",
          "text": [
            "Epoch: 027, Loss: 0.14880, Train Auc: 0.99816,  Test Auc: 0.78846\n"
          ]
        },
        {
          "name": "stderr",
          "output_type": "stream",
          "text": [
            "/usr/local/lib/python3.7/dist-packages/ipykernel_launcher.py:22: UserWarning: To copy construct from a tensor, it is recommended to use sourceTensor.clone().detach() or sourceTensor.clone().detach().requires_grad_(True), rather than torch.tensor(sourceTensor).\n",
            "/usr/local/lib/python3.7/dist-packages/ipykernel_launcher.py:22: UserWarning: To copy construct from a tensor, it is recommended to use sourceTensor.clone().detach() or sourceTensor.clone().detach().requires_grad_(True), rather than torch.tensor(sourceTensor).\n"
          ]
        },
        {
          "name": "stdout",
          "output_type": "stream",
          "text": [
            "Epoch: 028, Loss: 0.14845, Train Auc: 0.99985,  Test Auc: 0.82692\n"
          ]
        },
        {
          "name": "stderr",
          "output_type": "stream",
          "text": [
            "/usr/local/lib/python3.7/dist-packages/ipykernel_launcher.py:22: UserWarning: To copy construct from a tensor, it is recommended to use sourceTensor.clone().detach() or sourceTensor.clone().detach().requires_grad_(True), rather than torch.tensor(sourceTensor).\n",
            "/usr/local/lib/python3.7/dist-packages/ipykernel_launcher.py:22: UserWarning: To copy construct from a tensor, it is recommended to use sourceTensor.clone().detach() or sourceTensor.clone().detach().requires_grad_(True), rather than torch.tensor(sourceTensor).\n"
          ]
        },
        {
          "name": "stdout",
          "output_type": "stream",
          "text": [
            "Epoch: 029, Loss: 0.03560, Train Auc: 1.00000,  Test Auc: 0.83654\n"
          ]
        },
        {
          "name": "stderr",
          "output_type": "stream",
          "text": [
            "/usr/local/lib/python3.7/dist-packages/ipykernel_launcher.py:22: UserWarning: To copy construct from a tensor, it is recommended to use sourceTensor.clone().detach() or sourceTensor.clone().detach().requires_grad_(True), rather than torch.tensor(sourceTensor).\n",
            "/usr/local/lib/python3.7/dist-packages/ipykernel_launcher.py:22: UserWarning: To copy construct from a tensor, it is recommended to use sourceTensor.clone().detach() or sourceTensor.clone().detach().requires_grad_(True), rather than torch.tensor(sourceTensor).\n"
          ]
        },
        {
          "name": "stdout",
          "output_type": "stream",
          "text": [
            "Epoch: 030, Loss: 0.00915, Train Auc: 1.00000,  Test Auc: 0.87500\n"
          ]
        },
        {
          "name": "stderr",
          "output_type": "stream",
          "text": [
            "/usr/local/lib/python3.7/dist-packages/ipykernel_launcher.py:22: UserWarning: To copy construct from a tensor, it is recommended to use sourceTensor.clone().detach() or sourceTensor.clone().detach().requires_grad_(True), rather than torch.tensor(sourceTensor).\n",
            "/usr/local/lib/python3.7/dist-packages/ipykernel_launcher.py:22: UserWarning: To copy construct from a tensor, it is recommended to use sourceTensor.clone().detach() or sourceTensor.clone().detach().requires_grad_(True), rather than torch.tensor(sourceTensor).\n"
          ]
        },
        {
          "name": "stdout",
          "output_type": "stream",
          "text": [
            "Epoch: 031, Loss: 0.00364, Train Auc: 1.00000,  Test Auc: 0.87500\n"
          ]
        },
        {
          "name": "stderr",
          "output_type": "stream",
          "text": [
            "/usr/local/lib/python3.7/dist-packages/ipykernel_launcher.py:22: UserWarning: To copy construct from a tensor, it is recommended to use sourceTensor.clone().detach() or sourceTensor.clone().detach().requires_grad_(True), rather than torch.tensor(sourceTensor).\n",
            "/usr/local/lib/python3.7/dist-packages/ipykernel_launcher.py:22: UserWarning: To copy construct from a tensor, it is recommended to use sourceTensor.clone().detach() or sourceTensor.clone().detach().requires_grad_(True), rather than torch.tensor(sourceTensor).\n"
          ]
        },
        {
          "name": "stdout",
          "output_type": "stream",
          "text": [
            "Epoch: 032, Loss: 0.00278, Train Auc: 1.00000,  Test Auc: 0.81731\n"
          ]
        },
        {
          "name": "stderr",
          "output_type": "stream",
          "text": [
            "/usr/local/lib/python3.7/dist-packages/ipykernel_launcher.py:22: UserWarning: To copy construct from a tensor, it is recommended to use sourceTensor.clone().detach() or sourceTensor.clone().detach().requires_grad_(True), rather than torch.tensor(sourceTensor).\n",
            "/usr/local/lib/python3.7/dist-packages/ipykernel_launcher.py:22: UserWarning: To copy construct from a tensor, it is recommended to use sourceTensor.clone().detach() or sourceTensor.clone().detach().requires_grad_(True), rather than torch.tensor(sourceTensor).\n"
          ]
        },
        {
          "name": "stdout",
          "output_type": "stream",
          "text": [
            "Epoch: 033, Loss: 0.00128, Train Auc: 1.00000,  Test Auc: 0.80769\n"
          ]
        },
        {
          "name": "stderr",
          "output_type": "stream",
          "text": [
            "/usr/local/lib/python3.7/dist-packages/ipykernel_launcher.py:22: UserWarning: To copy construct from a tensor, it is recommended to use sourceTensor.clone().detach() or sourceTensor.clone().detach().requires_grad_(True), rather than torch.tensor(sourceTensor).\n",
            "/usr/local/lib/python3.7/dist-packages/ipykernel_launcher.py:22: UserWarning: To copy construct from a tensor, it is recommended to use sourceTensor.clone().detach() or sourceTensor.clone().detach().requires_grad_(True), rather than torch.tensor(sourceTensor).\n"
          ]
        },
        {
          "name": "stdout",
          "output_type": "stream",
          "text": [
            "Epoch: 034, Loss: 0.00187, Train Auc: 1.00000,  Test Auc: 0.80769\n"
          ]
        },
        {
          "name": "stderr",
          "output_type": "stream",
          "text": [
            "/usr/local/lib/python3.7/dist-packages/ipykernel_launcher.py:22: UserWarning: To copy construct from a tensor, it is recommended to use sourceTensor.clone().detach() or sourceTensor.clone().detach().requires_grad_(True), rather than torch.tensor(sourceTensor).\n",
            "/usr/local/lib/python3.7/dist-packages/ipykernel_launcher.py:22: UserWarning: To copy construct from a tensor, it is recommended to use sourceTensor.clone().detach() or sourceTensor.clone().detach().requires_grad_(True), rather than torch.tensor(sourceTensor).\n"
          ]
        },
        {
          "name": "stdout",
          "output_type": "stream",
          "text": [
            "Epoch: 035, Loss: 0.00057, Train Auc: 1.00000,  Test Auc: 0.82692\n"
          ]
        },
        {
          "name": "stderr",
          "output_type": "stream",
          "text": [
            "/usr/local/lib/python3.7/dist-packages/ipykernel_launcher.py:22: UserWarning: To copy construct from a tensor, it is recommended to use sourceTensor.clone().detach() or sourceTensor.clone().detach().requires_grad_(True), rather than torch.tensor(sourceTensor).\n",
            "/usr/local/lib/python3.7/dist-packages/ipykernel_launcher.py:22: UserWarning: To copy construct from a tensor, it is recommended to use sourceTensor.clone().detach() or sourceTensor.clone().detach().requires_grad_(True), rather than torch.tensor(sourceTensor).\n"
          ]
        },
        {
          "name": "stdout",
          "output_type": "stream",
          "text": [
            "Epoch: 036, Loss: 0.00098, Train Auc: 1.00000,  Test Auc: 0.78846\n"
          ]
        },
        {
          "name": "stderr",
          "output_type": "stream",
          "text": [
            "/usr/local/lib/python3.7/dist-packages/ipykernel_launcher.py:22: UserWarning: To copy construct from a tensor, it is recommended to use sourceTensor.clone().detach() or sourceTensor.clone().detach().requires_grad_(True), rather than torch.tensor(sourceTensor).\n",
            "/usr/local/lib/python3.7/dist-packages/ipykernel_launcher.py:22: UserWarning: To copy construct from a tensor, it is recommended to use sourceTensor.clone().detach() or sourceTensor.clone().detach().requires_grad_(True), rather than torch.tensor(sourceTensor).\n"
          ]
        },
        {
          "name": "stdout",
          "output_type": "stream",
          "text": [
            "Epoch: 037, Loss: 0.00067, Train Auc: 1.00000,  Test Auc: 0.80769\n"
          ]
        },
        {
          "name": "stderr",
          "output_type": "stream",
          "text": [
            "/usr/local/lib/python3.7/dist-packages/ipykernel_launcher.py:22: UserWarning: To copy construct from a tensor, it is recommended to use sourceTensor.clone().detach() or sourceTensor.clone().detach().requires_grad_(True), rather than torch.tensor(sourceTensor).\n"
          ]
        },
        {
          "name": "stdout",
          "output_type": "stream",
          "text": [
            "Epoch: 038, Loss: 0.00094, Train Auc: 1.00000,  Test Auc: 0.82692\n"
          ]
        },
        {
          "name": "stderr",
          "output_type": "stream",
          "text": [
            "/usr/local/lib/python3.7/dist-packages/ipykernel_launcher.py:22: UserWarning: To copy construct from a tensor, it is recommended to use sourceTensor.clone().detach() or sourceTensor.clone().detach().requires_grad_(True), rather than torch.tensor(sourceTensor).\n"
          ]
        },
        {
          "name": "stdout",
          "output_type": "stream",
          "text": [
            "Epoch: 039, Loss: 0.00016, Train Auc: 1.00000,  Test Auc: 0.80769\n"
          ]
        },
        {
          "name": "stderr",
          "output_type": "stream",
          "text": [
            "/usr/local/lib/python3.7/dist-packages/ipykernel_launcher.py:22: UserWarning: To copy construct from a tensor, it is recommended to use sourceTensor.clone().detach() or sourceTensor.clone().detach().requires_grad_(True), rather than torch.tensor(sourceTensor).\n"
          ]
        }
      ],
      "source": [
        "loss = train_net() #90-10"
      ]
    }
  ],
  "metadata": {
    "colab": {
      "collapsed_sections": [],
      "provenance": []
    },
    "kernelspec": {
      "display_name": "Python 3.9.13 64-bit (microsoft store)",
      "language": "python",
      "name": "python3"
    },
    "language_info": {
      "name": "python",
      "version": "3.9.13"
    },
    "vscode": {
      "interpreter": {
        "hash": "fb15f1e0f376981e7b6e1fc44ae8b8146823f10f258bcd6e448b0230b889fc06"
      }
    }
  },
  "nbformat": 4,
  "nbformat_minor": 0
}
