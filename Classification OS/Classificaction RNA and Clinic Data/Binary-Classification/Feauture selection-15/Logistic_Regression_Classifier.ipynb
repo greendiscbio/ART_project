{
 "cells": [
  {
   "cell_type": "markdown",
   "metadata": {},
   "source": [
    "# Classification model using Logistic Regression"
   ]
  },
  {
   "cell_type": "markdown",
   "metadata": {},
   "source": [
    "### 1. Import libraries"
   ]
  },
  {
   "cell_type": "code",
   "execution_count": 4,
   "metadata": {},
   "outputs": [],
   "source": [
    "import pandas as pd\n",
    "import numpy as np\n",
    "import matplotlib.pyplot as plt\n",
    "from sklearn.linear_model import LogisticRegression\n",
    "from sklearn.model_selection import train_test_split\n",
    "from sklearn import model_selection\n",
    "from sklearn.metrics import classification_report\n",
    "from sklearn.metrics import confusion_matrix\n",
    "from sklearn.model_selection import GridSearchCV"
   ]
  },
  {
   "cell_type": "markdown",
   "metadata": {},
   "source": [
    "### 2. Upload Clinic data"
   ]
  },
  {
   "cell_type": "code",
   "execution_count": 5,
   "metadata": {},
   "outputs": [
    {
     "data": {
      "text/html": [
       "<div>\n",
       "<style scoped>\n",
       "    .dataframe tbody tr th:only-of-type {\n",
       "        vertical-align: middle;\n",
       "    }\n",
       "\n",
       "    .dataframe tbody tr th {\n",
       "        vertical-align: top;\n",
       "    }\n",
       "\n",
       "    .dataframe thead th {\n",
       "        text-align: right;\n",
       "    }\n",
       "</style>\n",
       "<table border=\"1\" class=\"dataframe\">\n",
       "  <thead>\n",
       "    <tr style=\"text-align: right;\">\n",
       "      <th></th>\n",
       "      <th>Unnamed: 0</th>\n",
       "      <th>RNA_ID</th>\n",
       "      <th>Age</th>\n",
       "      <th>Sarc</th>\n",
       "      <th>Rhab</th>\n",
       "      <th>Number_of_Prior_Therapies</th>\n",
       "      <th>Days_from_TumorSample_Collection_and_Start_of_Trial_Therapy</th>\n",
       "      <th>Tumor_Shrinkage</th>\n",
       "      <th>OS</th>\n",
       "      <th>TM_TC_Ratio</th>\n",
       "      <th>...</th>\n",
       "      <th>IL25</th>\n",
       "      <th>LANCL1-AS1</th>\n",
       "      <th>LEMD1</th>\n",
       "      <th>PCMT1</th>\n",
       "      <th>RP11-120J4.1</th>\n",
       "      <th>RP11-374M1.2</th>\n",
       "      <th>SDR42E1</th>\n",
       "      <th>TARBP2</th>\n",
       "      <th>TRIM43B</th>\n",
       "      <th>VN2R17P</th>\n",
       "    </tr>\n",
       "  </thead>\n",
       "  <tbody>\n",
       "    <tr>\n",
       "      <th>0</th>\n",
       "      <td>0</td>\n",
       "      <td>G138701_RCCBMS-00020-T_v1_RNA_OnPrem</td>\n",
       "      <td>62.0</td>\n",
       "      <td>0.0</td>\n",
       "      <td>0.0</td>\n",
       "      <td>2.0</td>\n",
       "      <td>707.0</td>\n",
       "      <td>0.0</td>\n",
       "      <td>25.347945</td>\n",
       "      <td>1.374775</td>\n",
       "      <td>...</td>\n",
       "      <td>21.08036</td>\n",
       "      <td>21.39991</td>\n",
       "      <td>22.39503</td>\n",
       "      <td>31.44953</td>\n",
       "      <td>21.4144</td>\n",
       "      <td>21.24656</td>\n",
       "      <td>30.26124</td>\n",
       "      <td>29.60417</td>\n",
       "      <td>21.9744</td>\n",
       "      <td>21.12857</td>\n",
       "    </tr>\n",
       "    <tr>\n",
       "      <th>1</th>\n",
       "      <td>1</td>\n",
       "      <td>G138701_RCCBMS-00097-T_v1_RNA_OnPrem</td>\n",
       "      <td>62.0</td>\n",
       "      <td>0.0</td>\n",
       "      <td>0.0</td>\n",
       "      <td>2.0</td>\n",
       "      <td>707.0</td>\n",
       "      <td>0.0</td>\n",
       "      <td>36.526027</td>\n",
       "      <td>1.374775</td>\n",
       "      <td>...</td>\n",
       "      <td>21.08036</td>\n",
       "      <td>21.39991</td>\n",
       "      <td>22.39503</td>\n",
       "      <td>33.02746</td>\n",
       "      <td>21.4144</td>\n",
       "      <td>21.24656</td>\n",
       "      <td>29.12730</td>\n",
       "      <td>29.61188</td>\n",
       "      <td>21.9744</td>\n",
       "      <td>21.12857</td>\n",
       "    </tr>\n",
       "    <tr>\n",
       "      <th>2</th>\n",
       "      <td>2</td>\n",
       "      <td>G138701_RCCBMS-00141-T_v1_RNA_OnPrem</td>\n",
       "      <td>62.0</td>\n",
       "      <td>0.0</td>\n",
       "      <td>0.0</td>\n",
       "      <td>1.0</td>\n",
       "      <td>707.0</td>\n",
       "      <td>0.0</td>\n",
       "      <td>68.547945</td>\n",
       "      <td>1.374775</td>\n",
       "      <td>...</td>\n",
       "      <td>21.08036</td>\n",
       "      <td>21.39991</td>\n",
       "      <td>22.39503</td>\n",
       "      <td>33.75531</td>\n",
       "      <td>21.4144</td>\n",
       "      <td>21.24656</td>\n",
       "      <td>27.22907</td>\n",
       "      <td>31.90343</td>\n",
       "      <td>21.9744</td>\n",
       "      <td>21.12857</td>\n",
       "    </tr>\n",
       "    <tr>\n",
       "      <th>3</th>\n",
       "      <td>3</td>\n",
       "      <td>G138701_RCCBMS-00099-T_v1_RNA_OnPrem</td>\n",
       "      <td>62.0</td>\n",
       "      <td>0.0</td>\n",
       "      <td>0.0</td>\n",
       "      <td>3.0</td>\n",
       "      <td>707.0</td>\n",
       "      <td>0.0</td>\n",
       "      <td>1.479452</td>\n",
       "      <td>1.374775</td>\n",
       "      <td>...</td>\n",
       "      <td>21.08036</td>\n",
       "      <td>21.39991</td>\n",
       "      <td>29.70759</td>\n",
       "      <td>33.50304</td>\n",
       "      <td>21.4144</td>\n",
       "      <td>21.24656</td>\n",
       "      <td>22.83731</td>\n",
       "      <td>30.35424</td>\n",
       "      <td>21.9744</td>\n",
       "      <td>21.12857</td>\n",
       "    </tr>\n",
       "    <tr>\n",
       "      <th>4</th>\n",
       "      <td>4</td>\n",
       "      <td>G138701_RCCBMS-00163-T_v1_RNA_OnPrem</td>\n",
       "      <td>62.0</td>\n",
       "      <td>0.0</td>\n",
       "      <td>0.0</td>\n",
       "      <td>2.0</td>\n",
       "      <td>707.0</td>\n",
       "      <td>0.0</td>\n",
       "      <td>63.978082</td>\n",
       "      <td>1.374775</td>\n",
       "      <td>...</td>\n",
       "      <td>21.08036</td>\n",
       "      <td>21.39991</td>\n",
       "      <td>22.39503</td>\n",
       "      <td>33.18274</td>\n",
       "      <td>21.4144</td>\n",
       "      <td>21.24656</td>\n",
       "      <td>22.83731</td>\n",
       "      <td>31.60946</td>\n",
       "      <td>21.9744</td>\n",
       "      <td>21.12857</td>\n",
       "    </tr>\n",
       "  </tbody>\n",
       "</table>\n",
       "<p>5 rows × 42 columns</p>\n",
       "</div>"
      ],
      "text/plain": [
       "   Unnamed: 0                                RNA_ID   Age  Sarc  Rhab  \\\n",
       "0           0  G138701_RCCBMS-00020-T_v1_RNA_OnPrem  62.0   0.0   0.0   \n",
       "1           1  G138701_RCCBMS-00097-T_v1_RNA_OnPrem  62.0   0.0   0.0   \n",
       "2           2  G138701_RCCBMS-00141-T_v1_RNA_OnPrem  62.0   0.0   0.0   \n",
       "3           3  G138701_RCCBMS-00099-T_v1_RNA_OnPrem  62.0   0.0   0.0   \n",
       "4           4  G138701_RCCBMS-00163-T_v1_RNA_OnPrem  62.0   0.0   0.0   \n",
       "\n",
       "   Number_of_Prior_Therapies  \\\n",
       "0                        2.0   \n",
       "1                        2.0   \n",
       "2                        1.0   \n",
       "3                        3.0   \n",
       "4                        2.0   \n",
       "\n",
       "   Days_from_TumorSample_Collection_and_Start_of_Trial_Therapy  \\\n",
       "0                                              707.0             \n",
       "1                                              707.0             \n",
       "2                                              707.0             \n",
       "3                                              707.0             \n",
       "4                                              707.0             \n",
       "\n",
       "   Tumor_Shrinkage         OS  TM_TC_Ratio  ...      IL25  LANCL1-AS1  \\\n",
       "0              0.0  25.347945     1.374775  ...  21.08036    21.39991   \n",
       "1              0.0  36.526027     1.374775  ...  21.08036    21.39991   \n",
       "2              0.0  68.547945     1.374775  ...  21.08036    21.39991   \n",
       "3              0.0   1.479452     1.374775  ...  21.08036    21.39991   \n",
       "4              0.0  63.978082     1.374775  ...  21.08036    21.39991   \n",
       "\n",
       "      LEMD1     PCMT1  RP11-120J4.1  RP11-374M1.2   SDR42E1    TARBP2  \\\n",
       "0  22.39503  31.44953       21.4144      21.24656  30.26124  29.60417   \n",
       "1  22.39503  33.02746       21.4144      21.24656  29.12730  29.61188   \n",
       "2  22.39503  33.75531       21.4144      21.24656  27.22907  31.90343   \n",
       "3  29.70759  33.50304       21.4144      21.24656  22.83731  30.35424   \n",
       "4  22.39503  33.18274       21.4144      21.24656  22.83731  31.60946   \n",
       "\n",
       "   TRIM43B   VN2R17P  \n",
       "0  21.9744  21.12857  \n",
       "1  21.9744  21.12857  \n",
       "2  21.9744  21.12857  \n",
       "3  21.9744  21.12857  \n",
       "4  21.9744  21.12857  \n",
       "\n",
       "[5 rows x 42 columns]"
      ]
     },
     "execution_count": 5,
     "metadata": {},
     "output_type": "execute_result"
    }
   ],
   "source": [
    "path ='../../../../Data_preprocessing/Prediction OS/RNA+Clinic joined/Clinical_data_and_RNA_15_Features_OS.csv'\n",
    "data = pd.read_csv(path)\n",
    "data.head()"
   ]
  },
  {
   "cell_type": "code",
   "execution_count": 6,
   "metadata": {},
   "outputs": [
    {
     "name": "stdout",
     "output_type": "stream",
     "text": [
      "      Age  Sarc  Rhab  Number_of_Prior_Therapies  \\\n",
      "0    62.0   0.0   0.0                        2.0   \n",
      "1    62.0   0.0   0.0                        2.0   \n",
      "2    62.0   0.0   0.0                        1.0   \n",
      "3    62.0   0.0   0.0                        3.0   \n",
      "4    62.0   0.0   0.0                        2.0   \n",
      "..    ...   ...   ...                        ...   \n",
      "176  62.0   0.0   0.0                        1.0   \n",
      "177  62.0   0.0   0.0                        1.0   \n",
      "178  62.0   0.0   0.0                        1.0   \n",
      "179  62.0   0.0   0.0                        1.0   \n",
      "180  62.0   0.0   0.0                        1.0   \n",
      "\n",
      "     Days_from_TumorSample_Collection_and_Start_of_Trial_Therapy  \\\n",
      "0                                                707.0             \n",
      "1                                                707.0             \n",
      "2                                                707.0             \n",
      "3                                                707.0             \n",
      "4                                                707.0             \n",
      "..                                                 ...             \n",
      "176                                              707.0             \n",
      "177                                              707.0             \n",
      "178                                              707.0             \n",
      "179                                              707.0             \n",
      "180                                              707.0             \n",
      "\n",
      "     Tumor_Shrinkage  TM_TC_Ratio  Cohort_CM-009  Cohort_CM-010  \\\n",
      "0                0.0     1.374775              0              1   \n",
      "1                0.0     1.374775              0              1   \n",
      "2                0.0     1.374775              0              1   \n",
      "3                0.0     1.374775              0              1   \n",
      "4                0.0     1.374775              0              1   \n",
      "..               ...          ...            ...            ...   \n",
      "176              0.0     1.374775              1              0   \n",
      "177              0.0     1.374775              1              0   \n",
      "178              0.0     1.374775              1              0   \n",
      "179              0.0     1.374775              1              0   \n",
      "180              0.0     1.374775              1              0   \n",
      "\n",
      "     Cohort_CM-025  ...      IL25  LANCL1-AS1     LEMD1     PCMT1  \\\n",
      "0                0  ...  21.08036    21.39991  22.39503  31.44953   \n",
      "1                0  ...  21.08036    21.39991  22.39503  33.02746   \n",
      "2                0  ...  21.08036    21.39991  22.39503  33.75531   \n",
      "3                0  ...  21.08036    21.39991  29.70759  33.50304   \n",
      "4                0  ...  21.08036    21.39991  22.39503  33.18274   \n",
      "..             ...  ...       ...         ...       ...       ...   \n",
      "176              0  ...  21.43715    21.10533  26.85952  32.98876   \n",
      "177              0  ...  21.43715    21.10533  31.77891  34.23711   \n",
      "178              0  ...  21.43715    21.10533  21.26068  32.64347   \n",
      "179              0  ...  21.43715    21.10533  21.26068  31.39044   \n",
      "180              0  ...  21.43715    21.10533  21.26068  32.58132   \n",
      "\n",
      "     RP11-120J4.1  RP11-374M1.2   SDR42E1    TARBP2  TRIM43B   VN2R17P  \n",
      "0         21.4144      21.24656  30.26124  29.60417  21.9744  21.12857  \n",
      "1         21.4144      21.24656  29.12730  29.61188  21.9744  21.12857  \n",
      "2         21.4144      21.24656  27.22907  31.90343  21.9744  21.12857  \n",
      "3         21.4144      21.24656  22.83731  30.35424  21.9744  21.12857  \n",
      "4         21.4144      21.24656  22.83731  31.60946  21.9744  21.12857  \n",
      "..            ...           ...       ...       ...      ...       ...  \n",
      "176       21.6491      21.09472  31.49914  31.57179  22.3863  20.96902  \n",
      "177       21.6491      21.09472  28.17083  34.36199  22.3863  20.96902  \n",
      "178       21.6491      21.09472  24.22162  29.30238  22.3863  20.96902  \n",
      "179       21.6491      21.09472  27.21929  30.72343  22.3863  23.88906  \n",
      "180       21.6491      21.09472  32.08324  31.34356  22.3863  20.96902  \n",
      "\n",
      "[181 rows x 39 columns]\n",
      "Numero de pacientes:  181\n"
     ]
    }
   ],
   "source": [
    "Y = [] # Target column\n",
    "# For each entry I classified it by its PFS value.\n",
    "for i in range (len(data)):\n",
    "    if data.OS[i]<20: # If PFS is lower than 3 months, I will consider it as NonResponder (NR)\n",
    "        Y.append(0)\n",
    "    else:\n",
    "        Y.append(1)# If PFS is over 3 months, I will consider it as Responder (R)\n",
    "\n",
    "# As I won't need this columns any more, I deleted them.\n",
    "data = data.drop('OS', axis=1)\n",
    "data = data.drop('RNA_ID', axis=1)\n",
    "\n",
    "X = data.iloc[:,1:42] # I selected all the columns by removing the Unnamed column (row id) and the Target column.\n",
    "\n",
    "print(X)\n",
    "print('Numero de pacientes: ',len(Y))"
   ]
  },
  {
   "cell_type": "markdown",
   "metadata": {},
   "source": [
    "### 3. Train-Test dataset split"
   ]
  },
  {
   "cell_type": "code",
   "execution_count": 7,
   "metadata": {},
   "outputs": [
    {
     "name": "stdout",
     "output_type": "stream",
     "text": [
      "Training set size: 144\n",
      "Target column size of the training set: 144\n",
      "Test set size: 37\n",
      "Target column size of the test set: 144\n"
     ]
    }
   ],
   "source": [
    "X_train, X_test, y_train, y_test = train_test_split(X, Y, test_size=0.2, random_state=125)\n",
    "\n",
    "print('Training set size:', len(X_train))\n",
    "print('Target column size of the training set:', len(y_train))\n",
    "print('Test set size:', len(X_test))\n",
    "print('Target column size of the test set:', len(y_train))"
   ]
  },
  {
   "cell_type": "markdown",
   "metadata": {},
   "source": [
    "### 4. Select the parameters of the model and fit it"
   ]
  },
  {
   "cell_type": "code",
   "execution_count": 8,
   "metadata": {},
   "outputs": [
    {
     "data": {
      "text/plain": [
       "GridSearchCV(cv=5, estimator=LogisticRegression(),\n",
       "             param_grid={'C': [1, 2, 5, 7, 10], 'max_iter': [1000000],\n",
       "                         'random_state': [125]})"
      ]
     },
     "execution_count": 8,
     "metadata": {},
     "output_type": "execute_result"
    }
   ],
   "source": [
    "param_grid = {'C': [1,2,5,7,10],\n",
    "            'max_iter':[1000000],\n",
    "            'random_state':[125]}\n",
    "\n",
    "# I created a GridSearchCV which allows us to systematically evaluate and select the parameters of our model.\n",
    "# By indicating a model and the parameters to test, you can evaluate the performance of the first one based on the\n",
    "# seconds through cross validation.\n",
    "clf = GridSearchCV(LogisticRegression(), param_grid, cv = 5)\n",
    "clf.fit(X_train , y_train)"
   ]
  },
  {
   "cell_type": "code",
   "execution_count": 9,
   "metadata": {},
   "outputs": [
    {
     "name": "stdout",
     "output_type": "stream",
     "text": [
      "Best estimate of parameters according to GridSearchCV:\n"
     ]
    },
    {
     "data": {
      "text/plain": [
       "LogisticRegression(C=2, max_iter=1000000, random_state=125)"
      ]
     },
     "execution_count": 9,
     "metadata": {},
     "output_type": "execute_result"
    }
   ],
   "source": [
    "print(\"Best estimate of parameters according to GridSearchCV:\")\n",
    "model = clf.best_estimator_\n",
    "model.fit(X_train , y_train)"
   ]
  },
  {
   "cell_type": "code",
   "execution_count": 10,
   "metadata": {},
   "outputs": [
    {
     "name": "stdout",
     "output_type": "stream",
     "text": [
      "Best result of the cross validation of the model with the best paramters:0.6118226600985223\n"
     ]
    }
   ],
   "source": [
    "print(\"Best result of the cross validation of the model with the best paramters:\" +str(clf.best_score_))"
   ]
  },
  {
   "cell_type": "code",
   "execution_count": 11,
   "metadata": {},
   "outputs": [],
   "source": [
    "# Making predictions with the optimal model on the training dataset\n",
    "yhatTrain = model.predict(X_train)\n",
    "contTrain = 0\n",
    "\n",
    "# Comparing with the Target column and check how many hits there have been\n",
    "for i in range(0,len(y_train),1) :\n",
    "    if (yhatTrain[i] == y_train[i]):\n",
    "        contTrain = contTrain + 1"
   ]
  },
  {
   "cell_type": "code",
   "execution_count": 12,
   "metadata": {},
   "outputs": [],
   "source": [
    "# Making predictions with the optimal model on the test dataset\n",
    "yhatTest = model.predict(X_test)\n",
    "contTest = 0\n",
    "\n",
    "# Comparing with the Target column and check how many hits there have been\n",
    "for i in range(0,len(y_test),1) :\n",
    "    if (yhatTest[i] == y_test[i]):\n",
    "        contTest = contTest + 1"
   ]
  },
  {
   "cell_type": "markdown",
   "metadata": {},
   "source": [
    "### 6. Results"
   ]
  },
  {
   "cell_type": "code",
   "execution_count": 13,
   "metadata": {},
   "outputs": [
    {
     "name": "stdout",
     "output_type": "stream",
     "text": [
      "Final accuracy on the training dataset:0.8125\n",
      "Final accuracy on the testing dataset: 0.6216216216216216\n"
     ]
    }
   ],
   "source": [
    "print('Final accuracy on the training dataset:' + str(contTrain/len(y_train)))\n",
    "print('Final accuracy on the testing dataset: ' + str(contTest/len(y_test)))"
   ]
  },
  {
   "cell_type": "code",
   "execution_count": 14,
   "metadata": {},
   "outputs": [
    {
     "name": "stdout",
     "output_type": "stream",
     "text": [
      "----------------Confusion Matrix (Training)------------------\n",
      "[[52 15]\n",
      " [12 65]]\n",
      "Input data:  [0 1 0 0 0 0 0 1 1 0 1 1 0 0 1 0 1 1 1 0 1 0 0 0 0 1 0 0 0 0 1 1 0 0 0 1 1\n",
      " 1 1 1 1 0 0 1 0 0 1 0 0 0 1 1 0 0 0 1 1 1 1 1 0 1 1 1 1 1 1 0 0 1 1 1 0 1\n",
      " 0 1 0 0 0 1 0 1 1 0 0 0 1 1 1 1 0 0 0 1 1 1 1 0 1 0 0 0 1 1 0 0 0 1 0 1 1\n",
      " 1 0 1 0 0 1 1 1 1 1 1 0 1 1 1 1 0 1 1 0 1 1 1 0 1 1 0 1 0 0 1 0 0]\n",
      "Prediction:        [0 1 0 0 0 0 0 1 1 1 1 1 1 0 0 0 0 0 1 0 1 1 1 0 0 1 1 0 0 0 1 1 0 1 0 0 0\n",
      " 1 0 1 1 0 0 1 0 1 1 0 0 0 1 1 1 0 0 1 0 1 1 1 0 0 1 1 1 1 0 0 1 1 1 1 0 1\n",
      " 1 1 0 0 0 1 0 1 1 1 0 0 1 1 1 1 0 0 1 0 1 1 1 0 1 0 0 0 1 1 0 0 0 1 0 1 1\n",
      " 1 0 1 1 0 0 1 1 1 1 1 0 0 1 1 1 1 1 1 0 1 1 1 0 1 1 0 1 0 1 1 0 0]\n"
     ]
    }
   ],
   "source": [
    "from sklearn.metrics import classification_report,confusion_matrix\n",
    "print('----------------Confusion Matrix (Training)------------------')\n",
    "print(confusion_matrix(y_train,yhatTrain))\n",
    "print('Input data:  ' + str(np.array(y_train)))\n",
    "print('Prediction:        ' +str(yhatTrain))"
   ]
  },
  {
   "cell_type": "code",
   "execution_count": 15,
   "metadata": {},
   "outputs": [
    {
     "name": "stdout",
     "output_type": "stream",
     "text": [
      "              precision    recall  f1-score   support\n",
      "\n",
      "           0       0.81      0.78      0.79        67\n",
      "           1       0.81      0.84      0.83        77\n",
      "\n",
      "    accuracy                           0.81       144\n",
      "   macro avg       0.81      0.81      0.81       144\n",
      "weighted avg       0.81      0.81      0.81       144\n",
      "\n"
     ]
    }
   ],
   "source": [
    "print(classification_report(y_train,yhatTrain))"
   ]
  },
  {
   "cell_type": "code",
   "execution_count": 16,
   "metadata": {},
   "outputs": [
    {
     "name": "stdout",
     "output_type": "stream",
     "text": [
      "----------------Confusion Matrix (Test)------------------\n",
      "[[10  7]\n",
      " [ 7 13]]\n",
      "Input data:  [1 0 0 1 1 0 0 1 0 1 0 0 0 1 1 0 1 1 0 0 0 0 1 1 0 0 1 1 1 1 0 1 0 1 1 1 1]\n",
      "Prediction:        [1 0 0 0 1 1 0 1 1 1 1 0 0 1 0 0 0 1 1 0 1 1 1 1 0 0 1 1 0 0 0 1 1 0 1 1 0]\n"
     ]
    }
   ],
   "source": [
    "from sklearn.metrics import confusion_matrix\n",
    "confusion_matrix = confusion_matrix(y_test, yhatTest)\n",
    "print('----------------Confusion Matrix (Test)------------------')\n",
    "print(confusion_matrix)\n",
    "print('Input data:  ' + str(np.array(y_test)))\n",
    "print('Prediction:        ' +str(yhatTest))"
   ]
  },
  {
   "cell_type": "code",
   "execution_count": 17,
   "metadata": {},
   "outputs": [
    {
     "name": "stdout",
     "output_type": "stream",
     "text": [
      "              precision    recall  f1-score   support\n",
      "\n",
      "           0       0.59      0.59      0.59        17\n",
      "           1       0.65      0.65      0.65        20\n",
      "\n",
      "    accuracy                           0.62        37\n",
      "   macro avg       0.62      0.62      0.62        37\n",
      "weighted avg       0.62      0.62      0.62        37\n",
      "\n"
     ]
    }
   ],
   "source": [
    "print(classification_report(y_test, yhatTest))"
   ]
  },
  {
   "cell_type": "markdown",
   "metadata": {},
   "source": [
    "### 7. Results visualizaton"
   ]
  },
  {
   "cell_type": "code",
   "execution_count": 18,
   "metadata": {},
   "outputs": [
    {
     "data": {
      "image/png": "[encoded data removed]",
      "text/plain": [
       "<Figure size 432x288 with 1 Axes>"
      ]
     },
     "metadata": {
      "needs_background": "light"
     },
     "output_type": "display_data"
    }
   ],
   "source": [
    "# En esta figrura se puede ver la proporción de falsos positivos con verdaderos positivos en el set de prueba\n",
    "from sklearn.metrics import roc_auc_score\n",
    "from sklearn.metrics import roc_curve\n",
    "logit_roc_auc = roc_auc_score(y_test, model.predict(X_test))\n",
    "fpr, tpr, thresholds = roc_curve(y_test, model.predict_proba(X_test)[:,1])\n",
    "plt.figure()\n",
    "plt.plot(fpr, tpr, label='Logistic Regression (area = %0.2f)' % logit_roc_auc)\n",
    "plt.plot([0, 1], [0, 1],'r--')\n",
    "plt.xlim([0.0, 1.0])\n",
    "plt.ylim([0.0, 1.05])\n",
    "plt.xlabel('False Positive Rate')\n",
    "plt.ylabel('True Positive Rate')\n",
    "plt.title('Receiver operating characteristic')\n",
    "plt.legend(loc=\"lower right\")\n",
    "plt.show()"
   ]
  }
 ],
 "metadata": {
  "interpreter": {
   "hash": "173607e09da2ffe2d433f1218cab6faa8c4cbe5c89eb01ef45bf4a279737dd84"
  },
  "kernelspec": {
   "display_name": "Python 3.8.8 ('base')",
   "language": "python",
   "name": "python3"
  },
  "language_info": {
   "codemirror_mode": {
    "name": "ipython",
    "version": 3
   },
   "file_extension": ".py",
   "mimetype": "text/x-python",
   "name": "python",
   "nbconvert_exporter": "python",
   "pygments_lexer": "ipython3",
   "version": "3.8.8"
  },
  "orig_nbformat": 4
 },
 "nbformat": 4,
 "nbformat_minor": 2
}
