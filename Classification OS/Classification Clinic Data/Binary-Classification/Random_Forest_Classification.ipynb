{
 "cells": [
  {
   "cell_type": "markdown",
   "metadata": {},
   "source": [
    "# Classification model using Random Forest"
   ]
  },
  {
   "cell_type": "markdown",
   "metadata": {},
   "source": [
    "### 1. Import libraries"
   ]
  },
  {
   "cell_type": "code",
   "execution_count": 1,
   "metadata": {},
   "outputs": [],
   "source": [
    "import pandas as pd\n",
    "import numpy as np\n",
    "import matplotlib.pyplot as plt\n",
    "from sklearn.model_selection import train_test_split\n",
    "from sklearn.ensemble import RandomForestClassifier\n",
    "from sklearn.model_selection import GridSearchCV\n",
    "from sklearn.decomposition import PCA"
   ]
  },
  {
   "cell_type": "markdown",
   "metadata": {},
   "source": [
    "### 2. Upload Clinic data"
   ]
  },
  {
   "cell_type": "code",
   "execution_count": 2,
   "metadata": {},
   "outputs": [
    {
     "data": {
      "text/html": [
       "<div>\n",
       "<style scoped>\n",
       "    .dataframe tbody tr th:only-of-type {\n",
       "        vertical-align: middle;\n",
       "    }\n",
       "\n",
       "    .dataframe tbody tr th {\n",
       "        vertical-align: top;\n",
       "    }\n",
       "\n",
       "    .dataframe thead th {\n",
       "        text-align: right;\n",
       "    }\n",
       "</style>\n",
       "<table border=\"1\" class=\"dataframe\">\n",
       "  <thead>\n",
       "    <tr style=\"text-align: right;\">\n",
       "      <th></th>\n",
       "      <th>Unnamed: 0</th>\n",
       "      <th>Unnamed: 0.1</th>\n",
       "      <th>Cohort</th>\n",
       "      <th>Arm</th>\n",
       "      <th>Sex</th>\n",
       "      <th>Age</th>\n",
       "      <th>MSKCC</th>\n",
       "      <th>IMDC</th>\n",
       "      <th>Sarc</th>\n",
       "      <th>Rhab</th>\n",
       "      <th>Sarc_or_Rhab</th>\n",
       "      <th>Number_of_Prior_Therapies</th>\n",
       "      <th>Days_from_TumorSample_Collection_and_Start_of_Trial_Therapy</th>\n",
       "      <th>Tumor_Shrinkage</th>\n",
       "      <th>OS</th>\n",
       "      <th>TM_TC_Ratio</th>\n",
       "      <th>ImmunoPhenotype</th>\n",
       "    </tr>\n",
       "  </thead>\n",
       "  <tbody>\n",
       "    <tr>\n",
       "      <th>0</th>\n",
       "      <td>0</td>\n",
       "      <td>0</td>\n",
       "      <td>0</td>\n",
       "      <td>1</td>\n",
       "      <td>1</td>\n",
       "      <td>73</td>\n",
       "      <td>1</td>\n",
       "      <td>-1</td>\n",
       "      <td>0.0</td>\n",
       "      <td>0.0</td>\n",
       "      <td>0.0</td>\n",
       "      <td>2.0</td>\n",
       "      <td>808</td>\n",
       "      <td>3.636364</td>\n",
       "      <td>7.594521</td>\n",
       "      <td>1.368624</td>\n",
       "      <td>1</td>\n",
       "    </tr>\n",
       "    <tr>\n",
       "      <th>1</th>\n",
       "      <td>1</td>\n",
       "      <td>1</td>\n",
       "      <td>0</td>\n",
       "      <td>1</td>\n",
       "      <td>1</td>\n",
       "      <td>55</td>\n",
       "      <td>1</td>\n",
       "      <td>-1</td>\n",
       "      <td>0.0</td>\n",
       "      <td>0.0</td>\n",
       "      <td>0.0</td>\n",
       "      <td>2.0</td>\n",
       "      <td>1826</td>\n",
       "      <td>-13.709677</td>\n",
       "      <td>9.369863</td>\n",
       "      <td>1.524401</td>\n",
       "      <td>0</td>\n",
       "    </tr>\n",
       "    <tr>\n",
       "      <th>2</th>\n",
       "      <td>2</td>\n",
       "      <td>2</td>\n",
       "      <td>0</td>\n",
       "      <td>1</td>\n",
       "      <td>1</td>\n",
       "      <td>51</td>\n",
       "      <td>2</td>\n",
       "      <td>-1</td>\n",
       "      <td>0.0</td>\n",
       "      <td>0.0</td>\n",
       "      <td>0.0</td>\n",
       "      <td>1.0</td>\n",
       "      <td>1541</td>\n",
       "      <td>26.666667</td>\n",
       "      <td>23.441096</td>\n",
       "      <td>1.046688</td>\n",
       "      <td>1</td>\n",
       "    </tr>\n",
       "    <tr>\n",
       "      <th>3</th>\n",
       "      <td>3</td>\n",
       "      <td>3</td>\n",
       "      <td>0</td>\n",
       "      <td>1</td>\n",
       "      <td>1</td>\n",
       "      <td>70</td>\n",
       "      <td>0</td>\n",
       "      <td>-1</td>\n",
       "      <td>0.0</td>\n",
       "      <td>0.0</td>\n",
       "      <td>0.0</td>\n",
       "      <td>3.0</td>\n",
       "      <td>-1</td>\n",
       "      <td>5.714286</td>\n",
       "      <td>10.487671</td>\n",
       "      <td>-1.000000</td>\n",
       "      <td>-1</td>\n",
       "    </tr>\n",
       "    <tr>\n",
       "      <th>4</th>\n",
       "      <td>4</td>\n",
       "      <td>4</td>\n",
       "      <td>0</td>\n",
       "      <td>1</td>\n",
       "      <td>1</td>\n",
       "      <td>59</td>\n",
       "      <td>0</td>\n",
       "      <td>-1</td>\n",
       "      <td>0.0</td>\n",
       "      <td>0.0</td>\n",
       "      <td>0.0</td>\n",
       "      <td>3.0</td>\n",
       "      <td>376</td>\n",
       "      <td>-4.545455</td>\n",
       "      <td>49.052055</td>\n",
       "      <td>0.917459</td>\n",
       "      <td>1</td>\n",
       "    </tr>\n",
       "  </tbody>\n",
       "</table>\n",
       "</div>"
      ],
      "text/plain": [
       "   Unnamed: 0  Unnamed: 0.1  Cohort  Arm  Sex  Age  MSKCC  IMDC  Sarc  Rhab  \\\n",
       "0           0             0       0    1    1   73      1    -1   0.0   0.0   \n",
       "1           1             1       0    1    1   55      1    -1   0.0   0.0   \n",
       "2           2             2       0    1    1   51      2    -1   0.0   0.0   \n",
       "3           3             3       0    1    1   70      0    -1   0.0   0.0   \n",
       "4           4             4       0    1    1   59      0    -1   0.0   0.0   \n",
       "\n",
       "   Sarc_or_Rhab  Number_of_Prior_Therapies  \\\n",
       "0           0.0                        2.0   \n",
       "1           0.0                        2.0   \n",
       "2           0.0                        1.0   \n",
       "3           0.0                        3.0   \n",
       "4           0.0                        3.0   \n",
       "\n",
       "   Days_from_TumorSample_Collection_and_Start_of_Trial_Therapy  \\\n",
       "0                                                808             \n",
       "1                                               1826             \n",
       "2                                               1541             \n",
       "3                                                 -1             \n",
       "4                                                376             \n",
       "\n",
       "   Tumor_Shrinkage         OS  TM_TC_Ratio  ImmunoPhenotype  \n",
       "0         3.636364   7.594521     1.368624                1  \n",
       "1       -13.709677   9.369863     1.524401                0  \n",
       "2        26.666667  23.441096     1.046688                1  \n",
       "3         5.714286  10.487671    -1.000000               -1  \n",
       "4        -4.545455  49.052055     0.917459                1  "
      ]
     },
     "execution_count": 2,
     "metadata": {},
     "output_type": "execute_result"
    }
   ],
   "source": [
    "path ='../../../Data_preprocessing/Prediction OS/Clinical_data_categorized_OS.csv' \n",
    "data = pd.read_csv(path)\n",
    "data.head()"
   ]
  },
  {
   "cell_type": "code",
   "execution_count": 3,
   "metadata": {},
   "outputs": [
    {
     "name": "stdout",
     "output_type": "stream",
     "text": [
      "     Cohort  Arm  Sex  Age  MSKCC  IMDC  Sarc  Rhab  Sarc_or_Rhab  \\\n",
      "0         0    1    1   73      1    -1   0.0   0.0           0.0   \n",
      "1         0    1    1   55      1    -1   0.0   0.0           0.0   \n",
      "2         0    1    1   51      2    -1   0.0   0.0           0.0   \n",
      "3         0    1    1   70      0    -1   0.0   0.0           0.0   \n",
      "4         0    1    1   59      0    -1   0.0   0.0           0.0   \n",
      "..      ...  ...  ...  ...    ...   ...   ...   ...           ...   \n",
      "453       1    0    0   62      0     0   0.0   0.0           0.0   \n",
      "454       1    1    1   65      1     1   0.0   0.0           0.0   \n",
      "455       1    0    1   68      1     1   0.0   0.0           0.0   \n",
      "456       1    1    0   48      0     1   0.0   0.0           0.0   \n",
      "457       1    1    0   76      1     1   0.0   0.0           0.0   \n",
      "\n",
      "     Number_of_Prior_Therapies  \\\n",
      "0                          2.0   \n",
      "1                          2.0   \n",
      "2                          1.0   \n",
      "3                          3.0   \n",
      "4                          3.0   \n",
      "..                         ...   \n",
      "453                        2.0   \n",
      "454                        2.0   \n",
      "455                        1.0   \n",
      "456                        1.0   \n",
      "457                        2.0   \n",
      "\n",
      "     Days_from_TumorSample_Collection_and_Start_of_Trial_Therapy  \\\n",
      "0                                                  808             \n",
      "1                                                 1826             \n",
      "2                                                 1541             \n",
      "3                                                   -1             \n",
      "4                                                  376             \n",
      "..                                                 ...             \n",
      "453                                                300             \n",
      "454                                               8092             \n",
      "455                                                224             \n",
      "456                                               1018             \n",
      "457                                               2762             \n",
      "\n",
      "     Tumor_Shrinkage  TM_TC_Ratio  ImmunoPhenotype  \n",
      "0           3.636364     1.368624                1  \n",
      "1         -13.709677     1.524401                0  \n",
      "2          26.666667     1.046688                1  \n",
      "3           5.714286    -1.000000               -1  \n",
      "4          -4.545455     0.917459                1  \n",
      "..               ...          ...              ...  \n",
      "453         0.000000    -1.000000               -1  \n",
      "454         0.000000    -1.000000               -1  \n",
      "455         0.000000    -1.000000               -1  \n",
      "456         0.000000    -1.000000               -1  \n",
      "457        22.222222    -1.000000               -1  \n",
      "\n",
      "[458 rows x 14 columns]\n",
      "Numero de pacientes:  458\n"
     ]
    }
   ],
   "source": [
    "Y = [] # Target column\n",
    "# For each entry I classified it by its PFS value.\n",
    "for i in range (len(data)):\n",
    "    if data.OS[i]<20: # If PFS is lower than 3 months, I will consider it as NonResponder (NR)\n",
    "        Y.append(0)\n",
    "    else:\n",
    "        Y.append(1)# If PFS is over 3 months, I will consider it as Responder (R)\n",
    "\n",
    "data = data.drop('OS', axis=1) # As we won't need this column any more, I deleted it.\n",
    "\n",
    "X = data.iloc[:,2:16] \n",
    "# I selected all the columns by removing the Unnamed column (row id) and the Target column.\n",
    "print(X)\n",
    "print('Numero de pacientes: ',len(Y))"
   ]
  },
  {
   "cell_type": "markdown",
   "metadata": {},
   "source": [
    "### 3. Train-Test dataset split"
   ]
  },
  {
   "cell_type": "code",
   "execution_count": 4,
   "metadata": {},
   "outputs": [
    {
     "name": "stdout",
     "output_type": "stream",
     "text": [
      "Training set size: 366\n",
      "Target column size of the training set: 366\n",
      "Test set size: 92\n",
      "Target column size of the test set: 92\n"
     ]
    }
   ],
   "source": [
    "XTrain, XTest, yTrain, yTest = train_test_split(X, Y, test_size=0.20, random_state=125)\n",
    "\n",
    "print('Training set size:', len(XTrain))\n",
    "print('Target column size of the training set:', len(yTrain))\n",
    "print('Test set size:', len(XTest))\n",
    "print('Target column size of the test set:', len(yTest))"
   ]
  },
  {
   "cell_type": "markdown",
   "metadata": {},
   "source": [
    "### 4. Select the parameters of the model and fit it"
   ]
  },
  {
   "cell_type": "code",
   "execution_count": 5,
   "metadata": {},
   "outputs": [
    {
     "data": {
      "text/plain": [
       "GridSearchCV(cv=5, estimator=RandomForestClassifier(),\n",
       "             param_grid={'bootstrap': [True, False],\n",
       "                         'criterion': ['gini', 'entropy'],\n",
       "                         'max_depth': [None, 2, 5, 10, 50],\n",
       "                         'min_samples_leaf': [1, 2, 3],\n",
       "                         'min_samples_split': [2, 3, 4, 5],\n",
       "                         'n_estimators': [10, 20], 'random_state': [125]})"
      ]
     },
     "execution_count": 5,
     "metadata": {},
     "output_type": "execute_result"
    }
   ],
   "source": [
    "param_grid = {'min_samples_leaf': [1, 2, 3],\n",
    "              'min_samples_split': [2, 3, 4, 5],\n",
    "              'random_state':[125],\n",
    "              'n_estimators': [10, 20],\n",
    "              'bootstrap': [True, False],\n",
    "              'criterion': ['gini', 'entropy'],\n",
    "              'max_depth':[None, 2, 5, 10,50]\n",
    "              }\n",
    "\n",
    "# I created a GridSearchCV which allows us to systematically evaluate and select the parameters of our model.\n",
    "# By indicating a model and the parameters to test, you can evaluate the performance of the first one based on the\n",
    "# seconds through cross validation. \n",
    "clf = GridSearchCV(\n",
    "        estimator  = RandomForestClassifier(),\n",
    "        param_grid = param_grid,\n",
    "        cv=5\n",
    "       )\n",
    "# Fit the model with the best parameters\n",
    "clf.fit(XTrain , yTrain)"
   ]
  },
  {
   "cell_type": "code",
   "execution_count": 6,
   "metadata": {},
   "outputs": [
    {
     "name": "stdout",
     "output_type": "stream",
     "text": [
      "Best estimate of parameters according to GridSearchCV:\n",
      "RandomForestClassifier(max_depth=5, n_estimators=10, random_state=125)\n"
     ]
    }
   ],
   "source": [
    "print(\"Best estimate of parameters according to GridSearchCV:\")\n",
    "print(clf.best_estimator_)\n",
    "model = clf.best_estimator_"
   ]
  },
  {
   "cell_type": "code",
   "execution_count": 7,
   "metadata": {},
   "outputs": [
    {
     "name": "stdout",
     "output_type": "stream",
     "text": [
      "Best result of the cross validation of the model with the best paramters: 0.7322102924842651\n"
     ]
    }
   ],
   "source": [
    "print(\"Best result of the cross validation of the model with the best paramters: \" +str(clf.best_score_))"
   ]
  },
  {
   "cell_type": "markdown",
   "metadata": {},
   "source": [
    "### 5. Prediction"
   ]
  },
  {
   "cell_type": "code",
   "execution_count": 8,
   "metadata": {},
   "outputs": [],
   "source": [
    "# Making predictions with the optimal model on the training dataset\n",
    "yhatTrain = model.predict(XTrain)\n",
    "contTrain = 0\n",
    "\n",
    "# Comparing with the Target column and check how many hits there have been\n",
    "for i in range(len(yTrain)) :\n",
    "    if (yhatTrain[i] == yTrain[i]):\n",
    "        contTrain = contTrain + 1"
   ]
  },
  {
   "cell_type": "code",
   "execution_count": 9,
   "metadata": {},
   "outputs": [],
   "source": [
    "# Making predictions with the optimal model on the test dataset\n",
    "yhatTest = model.predict(XTest)\n",
    "contTest = 0\n",
    "\n",
    "# Comparing with the Target column and check how many hits there have been\n",
    "for i in range(0,len(yTest),1) :\n",
    "    if (yhatTest[i] == yTest[i]):\n",
    "        contTest = contTest + 1"
   ]
  },
  {
   "cell_type": "markdown",
   "metadata": {},
   "source": [
    "### 6. Results"
   ]
  },
  {
   "cell_type": "code",
   "execution_count": 10,
   "metadata": {},
   "outputs": [
    {
     "name": "stdout",
     "output_type": "stream",
     "text": [
      "Final accuracy on the training dataset:0.8360655737704918\n",
      "Final accuracy on the testing dataset: 0.6956521739130435\n"
     ]
    }
   ],
   "source": [
    "print('Final accuracy on the training dataset:' + str(contTrain/len(yTrain)))\n",
    "print('Final accuracy on the testing dataset: ' + str(contTest/len(yTest)))"
   ]
  },
  {
   "cell_type": "code",
   "execution_count": 11,
   "metadata": {},
   "outputs": [
    {
     "name": "stdout",
     "output_type": "stream",
     "text": [
      "----------------Confusion Matrix (Training)------------------\n",
      "[[131  32]\n",
      " [ 28 175]]\n",
      "Input data:  [1 1 1 0 0 1 1 1 0 0 0 1 1 1 0 1 0 1 0 1 0 0 0 0 0 1 0 1 1 0 0 1 1 1 0 0 0\n",
      " 1 0 0 1 1 1 1 0 0 1 0 1 0 0 1 0 0 0 1 0 0 1 0 0 0 0 0 1 1 1 1 0 0 0 1 1 1\n",
      " 1 1 0 0 1 1 1 0 1 1 1 0 0 0 0 1 1 1 1 0 1 0 0 0 1 1 1 0 1 1 0 1 1 0 1 1 0\n",
      " 1 0 0 0 1 0 1 1 1 1 1 0 0 0 1 1 1 0 1 1 0 1 1 1 0 1 1 1 0 1 1 1 1 1 1 1 1\n",
      " 1 1 0 0 0 0 1 0 0 1 1 0 1 1 1 0 0 0 1 1 1 0 0 1 0 0 0 1 1 1 1 1 0 1 1 1 1\n",
      " 1 0 0 1 1 0 1 1 0 1 1 0 1 0 1 1 0 0 1 1 1 0 1 1 0 1 1 1 0 1 1 1 1 1 0 1 0\n",
      " 1 0 0 0 1 1 1 1 1 0 1 0 1 0 1 1 1 0 1 0 0 1 0 1 0 1 0 1 1 0 1 0 0 0 1 1 0\n",
      " 0 0 1 1 1 1 0 1 1 1 0 1 1 0 0 1 0 0 0 1 0 1 1 0 1 0 0 1 0 1 0 1 1 1 1 1 0\n",
      " 0 0 0 0 0 1 1 0 1 1 0 0 1 0 1 1 0 0 0 1 0 1 0 0 0 0 0 0 1 0 1 1 0 1 1 0 0\n",
      " 0 1 1 1 0 0 0 1 1 0 1 0 1 1 1 1 1 0 1 0 1 0 1 0 1 0 1 0 1 0 1 1 1]\n",
      "Prediction:        [1 1 1 0 0 1 1 1 0 1 1 1 1 1 0 1 0 0 0 1 0 1 0 0 1 1 0 1 1 0 0 1 0 1 1 0 0\n",
      " 1 0 1 1 1 0 1 0 1 1 0 1 1 0 1 1 0 0 1 0 0 1 0 0 0 0 0 0 1 1 1 0 0 0 1 1 1\n",
      " 1 1 0 0 0 1 1 1 1 1 1 0 1 1 0 1 1 0 1 1 1 0 0 1 1 1 1 0 1 1 1 1 0 0 1 1 0\n",
      " 1 0 0 0 1 0 1 1 1 1 1 0 0 0 0 1 1 0 1 1 0 0 1 1 1 0 0 1 1 0 1 1 1 1 1 1 1\n",
      " 0 1 0 0 0 0 1 0 0 1 0 0 1 1 1 0 0 1 1 1 0 0 0 1 0 0 0 1 1 1 0 1 1 1 1 1 1\n",
      " 1 0 1 0 1 0 1 0 0 1 1 0 1 1 1 0 0 0 1 1 0 0 1 1 0 1 1 1 0 1 0 1 1 1 0 1 0\n",
      " 1 1 0 0 1 0 1 1 1 0 1 0 1 0 1 1 1 0 1 0 0 1 0 1 0 1 0 1 0 0 1 1 0 1 1 1 0\n",
      " 0 1 1 1 1 1 0 1 1 1 0 1 1 0 0 1 0 0 0 1 1 1 0 0 1 0 0 1 0 1 0 1 1 1 1 1 0\n",
      " 0 0 0 0 0 1 1 1 1 1 1 0 1 1 0 1 1 0 0 1 0 0 1 0 0 0 0 0 1 0 1 1 0 1 1 0 0\n",
      " 0 1 1 1 0 0 0 1 1 0 1 0 1 1 0 1 1 0 1 0 1 0 1 0 1 1 1 0 1 0 1 0 1]\n"
     ]
    }
   ],
   "source": [
    "from sklearn.metrics import classification_report,confusion_matrix\n",
    "\n",
    "print('----------------Confusion Matrix (Training)------------------')\n",
    "print(confusion_matrix(yTrain,yhatTrain))\n",
    "print('Input data:  ' + str(np.array(yTrain)))\n",
    "print('Prediction:        ' +str(yhatTrain))"
   ]
  },
  {
   "cell_type": "code",
   "execution_count": 12,
   "metadata": {},
   "outputs": [
    {
     "name": "stdout",
     "output_type": "stream",
     "text": [
      "              precision    recall  f1-score   support\n",
      "\n",
      "           0       0.82      0.80      0.81       163\n",
      "           1       0.85      0.86      0.85       203\n",
      "\n",
      "    accuracy                           0.84       366\n",
      "   macro avg       0.83      0.83      0.83       366\n",
      "weighted avg       0.84      0.84      0.84       366\n",
      "\n"
     ]
    }
   ],
   "source": [
    "print(classification_report(yTrain,yhatTrain))"
   ]
  },
  {
   "cell_type": "code",
   "execution_count": 13,
   "metadata": {},
   "outputs": [
    {
     "name": "stdout",
     "output_type": "stream",
     "text": [
      "----------------Confusion Matrix (Test)------------------\n",
      "[[24 18]\n",
      " [10 40]]\n",
      "Input data:  [0 0 1 0 1 1 0 0 1 1 1 1 1 1 0 0 0 1 1 0 1 0 0 0 0 1 0 0 0 0 1 1 1 0 0 1 0\n",
      " 0 1 1 0 0 1 0 1 0 0 1 0 1 0 1 1 1 1 1 1 0 1 0 0 0 1 1 1 1 0 0 1 0 1 1 1 1\n",
      " 0 1 0 1 0 1 1 0 1 1 1 1 0 1 1 1 0 0]\n",
      "Prediction:        [0 0 1 0 1 1 0 0 1 1 0 1 1 1 1 1 0 1 1 0 1 0 0 1 1 1 0 0 1 1 1 1 1 1 0 1 1\n",
      " 1 1 1 1 1 1 0 1 0 0 1 1 1 1 1 0 0 1 0 0 0 1 0 0 0 1 1 0 1 1 0 1 0 0 1 1 1\n",
      " 1 1 1 1 0 1 0 0 0 1 1 1 1 0 1 1 0 1]\n"
     ]
    }
   ],
   "source": [
    "print('----------------Confusion Matrix (Test)------------------')\n",
    "print(confusion_matrix(yTest,yhatTest))\n",
    "print('Input data:  ' + str(np.array(yTest)))\n",
    "print('Prediction:        ' +str(yhatTest))"
   ]
  },
  {
   "cell_type": "code",
   "execution_count": 14,
   "metadata": {},
   "outputs": [
    {
     "name": "stdout",
     "output_type": "stream",
     "text": [
      "              precision    recall  f1-score   support\n",
      "\n",
      "           0       0.71      0.57      0.63        42\n",
      "           1       0.69      0.80      0.74        50\n",
      "\n",
      "    accuracy                           0.70        92\n",
      "   macro avg       0.70      0.69      0.69        92\n",
      "weighted avg       0.70      0.70      0.69        92\n",
      "\n"
     ]
    }
   ],
   "source": [
    "print(classification_report(yTest,yhatTest))"
   ]
  },
  {
   "cell_type": "markdown",
   "metadata": {},
   "source": [
    "### 7. Results visualizaton"
   ]
  },
  {
   "cell_type": "code",
   "execution_count": 15,
   "metadata": {},
   "outputs": [
    {
     "data": {
      "image/png": "[encoded data removed]",
      "text/plain": [
       "<Figure size 432x288 with 1 Axes>"
      ]
     },
     "metadata": {
      "needs_background": "light"
     },
     "output_type": "display_data"
    },
    {
     "name": "stdout",
     "output_type": "stream",
     "text": [
      "Cohort = 0.015934029689753743\n",
      "Arm = 0.015189217258836273\n",
      "Sex = 0.03710315802268393\n",
      "Age = 0.0784507935084574\n",
      "MSKCC = 0.14961392697331358\n",
      "IMDC = 0.0891055615067485\n",
      "Sarc = 0.011165842056016274\n",
      "Rhab = 0.02298369902248978\n",
      "Sarc_or_Rhab = 0.020663218420811834\n",
      "Number_of_Prior_Therapies = 0.03405596185110908\n",
      "Days_from_TumorSample_Collection_and_Start_of_Trial_Therapy = 0.1970450325028839\n",
      "Tumor_Shrinkage = 0.2907742848551934\n",
      "TM_TC_Ratio = 0.014325175332201196\n",
      "ImmunoPhenotype = 0.023590098999501145\n"
     ]
    }
   ],
   "source": [
    "# Through the created model we can see which attributes are the most significant to make a decision.\n",
    "# The most relevant attributes will be the ones placed at the top of the tree.\n",
    "features = list(X)\n",
    "importances = model.feature_importances_\n",
    "indices = np.argsort(importances)\n",
    "\n",
    "plt.title('Attribute relevance')\n",
    "plt.barh(range(len(indices)), importances[indices], color='b', align='center')\n",
    "plt.yticks(range(len(indices)), [features[i] for i in indices])\n",
    "plt.xlabel('Relative importance')\n",
    "plt.show()\n",
    "\n",
    "for name, importance in zip(X, model.feature_importances_):\n",
    "    print(name, \"=\", importance)\n",
    "\n",
    "# Attributes whose relevance is 0, will not be necessary to make the prediction of the target."
   ]
  }
 ],
 "metadata": {
  "interpreter": {
   "hash": "173607e09da2ffe2d433f1218cab6faa8c4cbe5c89eb01ef45bf4a279737dd84"
  },
  "kernelspec": {
   "display_name": "Python 3.8.8 ('base')",
   "language": "python",
   "name": "python3"
  },
  "language_info": {
   "codemirror_mode": {
    "name": "ipython",
    "version": 3
   },
   "file_extension": ".py",
   "mimetype": "text/x-python",
   "name": "python",
   "nbconvert_exporter": "python",
   "pygments_lexer": "ipython3",
   "version": "3.8.8"
  },
  "orig_nbformat": 4
 },
 "nbformat": 4,
 "nbformat_minor": 2
}
